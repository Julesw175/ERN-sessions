{
 "cells": [
  {
   "cell_type": "code",
   "execution_count": 5,
   "metadata": {},
   "outputs": [
    {
     "name": "stdout",
     "output_type": "stream",
     "text": [
      "I'm Emily\n"
     ]
    }
   ],
   "source": [
    "phrase = \"I'm Emily\" # string\n",
    "print(phrase)"
   ]
  },
  {
   "cell_type": "code",
   "execution_count": 10,
   "metadata": {},
   "outputs": [
    {
     "name": "stdout",
     "output_type": "stream",
     "text": [
      "15\n",
      "<class 'int'>\n",
      "2.0\n",
      "<class 'float'>\n"
     ]
    }
   ],
   "source": [
    "x = 5 # integer\n",
    "y = 10 # integer\n",
    "z = x + y # plus\n",
    "print(z)\n",
    "print(type(z))\n",
    "z = y/x\n",
    "print(z) # float\n",
    "print(type(z))"
   ]
  },
  {
   "cell_type": "code",
   "execution_count": 15,
   "metadata": {},
   "outputs": [
    {
     "name": "stdout",
     "output_type": "stream",
     "text": [
      "48\n",
      "12.56\n"
     ]
    }
   ],
   "source": [
    "a = 12\n",
    "b = 4\n",
    "c = a*b\n",
    "print(c)\n",
    "\n",
    "r = 2\n",
    "p = 3.14\n",
    "area = p * r**2\n",
    "print(area)"
   ]
  },
  {
   "cell_type": "code",
   "execution_count": 36,
   "metadata": {},
   "outputs": [
    {
     "name": "stdout",
     "output_type": "stream",
     "text": [
      "My name is Emily and my job title is Performance and Development Manager\n",
      "72\n",
      "name is Emily\n",
      "here_is_a_file\n"
     ]
    }
   ],
   "source": [
    "name = \"Emily\"\n",
    "job = \"Performance and Development Manager\"\n",
    "\n",
    "phrase = f\"My name is {name} and my job title is {job}\"\n",
    "print(phrase)\n",
    "print(len(phrase))\n",
    "\n",
    "string_slice = phrase[3:16]\n",
    "print(string_slice)\n",
    "\n",
    "filename =\"here_is_a_file.csv\"\n",
    "filename = filename[:14]\n",
    "print(filename)"
   ]
  },
  {
   "cell_type": "code",
   "execution_count": 42,
   "metadata": {},
   "outputs": [
    {
     "name": "stdout",
     "output_type": "stream",
     "text": [
      "dog cat racoon\n"
     ]
    }
   ],
   "source": [
    "slice_this_phrase = \"dog cat racoon\"\n",
    "slice_1 = slice_this_phrase[:3]\n",
    "slice_2 = slice_this_phrase[4:7]\n",
    "slice_3 = slice_this_phrase[-6:]\n",
    "print(slice_1, slice_2, slice_3)"
   ]
  },
  {
   "cell_type": "code",
   "execution_count": 43,
   "metadata": {},
   "outputs": [
    {
     "name": "stdout",
     "output_type": "stream",
     "text": [
      "My colours are: ['red', 'blue', 'green', 'teal']\n"
     ]
    }
   ],
   "source": [
    "favourite_colour = \"teal\"\n",
    "colours_list = [\"red\", \"blue\", \"green\"]\n",
    "colours_list.append(favourite_colour)\n",
    "\n",
    "print(f'My colours are: {colours_list}')\n"
   ]
  },
  {
   "cell_type": "code",
   "execution_count": 10,
   "metadata": {},
   "outputs": [
    {
     "name": "stdout",
     "output_type": "stream",
     "text": [
      "['pizza', 'cake', 'chocolate', 'cheesecake']\n"
     ]
    }
   ],
   "source": [
    "food_list = [\"pizza\", \"cake\", \"chocolate\"]\n",
    "favourite_food = \"cheesecake\"\n",
    "food_list.append(favourite_food)\n",
    "print(food_list)"
   ]
  },
  {
   "cell_type": "code",
   "execution_count": 11,
   "metadata": {},
   "outputs": [
    {
     "name": "stdout",
     "output_type": "stream",
     "text": [
      "['pizza', 'cake', 'chocolate', 'cheesecake', 'ice cream', 'pretzels']\n",
      "['pizza', 'cake', 'chocolate', 'cheesecake', 'ice cream']\n"
     ]
    },
    {
     "ename": "ValueError",
     "evalue": "list.remove(x): x not in list",
     "output_type": "error",
     "traceback": [
      "\u001b[0;31m---------------------------------------------------------------------------\u001b[0m",
      "\u001b[0;31mValueError\u001b[0m                                Traceback (most recent call last)",
      "\u001b[1;32m/workspaces/ERN-sessions/emily/session_1.ipynb Cell 8\u001b[0m line \u001b[0;36m6\n\u001b[1;32m      <a href='vscode-notebook-cell://codespaces%2Bsuper-space-garbanzo-p44qv7ggq553rx4j/workspaces/ERN-sessions/emily/session_1.ipynb#X10sdnNjb2RlLXJlbW90ZQ%3D%3D?line=3'>4</a>\u001b[0m food_list\u001b[39m.\u001b[39mremove(\u001b[39m\"\u001b[39m\u001b[39mpretzels\u001b[39m\u001b[39m\"\u001b[39m)\n\u001b[1;32m      <a href='vscode-notebook-cell://codespaces%2Bsuper-space-garbanzo-p44qv7ggq553rx4j/workspaces/ERN-sessions/emily/session_1.ipynb#X10sdnNjb2RlLXJlbW90ZQ%3D%3D?line=4'>5</a>\u001b[0m \u001b[39mprint\u001b[39m(food_list)\n\u001b[0;32m----> <a href='vscode-notebook-cell://codespaces%2Bsuper-space-garbanzo-p44qv7ggq553rx4j/workspaces/ERN-sessions/emily/session_1.ipynb#X10sdnNjb2RlLXJlbW90ZQ%3D%3D?line=5'>6</a>\u001b[0m food_list\u001b[39m.\u001b[39;49mremove(\u001b[39m\"\u001b[39;49m\u001b[39mpretzels\u001b[39;49m\u001b[39m\"\u001b[39;49m)\n",
      "\u001b[0;31mValueError\u001b[0m: list.remove(x): x not in list"
     ]
    }
   ],
   "source": [
    "more_foods = [\"ice cream\", \"pretzels\"]\n",
    "food_list.extend(more_foods)\n",
    "print(food_list)\n",
    "food_list.remove(\"pretzels\")\n",
    "print(food_list)\n",
    "food_list.remove(\"pretzels\")"
   ]
  },
  {
   "cell_type": "code",
   "execution_count": 16,
   "metadata": {},
   "outputs": [
    {
     "name": "stdout",
     "output_type": "stream",
     "text": [
      "[1, 2, 3, 4, 5, 6]\n",
      "[6, 5, 4, 3, 2, 1]\n",
      "[1, 2, 3, 4, 5, 6]\n"
     ]
    }
   ],
   "source": [
    "numbers_list = [2,3,4,5,1,6]\n",
    "numbers_list.sort()\n",
    "print(numbers_list)\n",
    "numbers_list.sort(reverse=True)\n",
    "print(numbers_list)\n",
    "\n",
    "numbers_list = [2,3,4,5,1,6]\n",
    "sorted_numbers = sorted(numbers_list)\n",
    "print(sorted_numbers)"
   ]
  },
  {
   "cell_type": "code",
   "execution_count": 19,
   "metadata": {},
   "outputs": [
    {
     "name": "stdout",
     "output_type": "stream",
     "text": [
      "['pizza', 'ice cream', 'chocolate', 'cheesecake', 'cake']\n",
      "['ice cream', 'cheesecake', 'chocolate', 'cake', 'pizza']\n"
     ]
    }
   ],
   "source": [
    "food_list_sorted = sorted(food_list, reverse=True)\n",
    "print(food_list_sorted)\n",
    "\n",
    "food_list.reverse()\n",
    "print(food_list)"
   ]
  },
  {
   "cell_type": "code",
   "execution_count": 25,
   "metadata": {},
   "outputs": [
    {
     "name": "stdout",
     "output_type": "stream",
     "text": [
      "{'emily': 'pink', 'cat': 'blue', 'horse': 23, 'Max': {'Tuesday': 'Green', 'EOD': 'Silver'}}\n",
      "{'Tuesday': 'Green', 'EOD': 'Silver'}\n",
      "dict_keys(['emily', 'cat', 'horse', 'Max'])\n",
      "dict_values(['pink', 'blue', 23, {'Tuesday': 'Green', 'EOD': 'Silver'}])\n",
      "dict_items([('emily', 'pink'), ('cat', 'blue'), ('horse', 23), ('Max', {'Tuesday': 'Green', 'EOD': 'Silver'})])\n"
     ]
    }
   ],
   "source": [
    "people_favourite_colours = {'emily': 'pink',\n",
    "                            'cat': 'blue',\n",
    "                            'horse' : 23,\n",
    "                            'Max': {'Tuesday': 'Green',\n",
    "                                    'EOD':'Silver'}}\n",
    "\n",
    "print(people_favourite_colours)\n",
    "print(people_favourite_colours[\"Max\"])\n",
    "print(people_favourite_colours.keys())\n",
    "print(people_favourite_colours.values())\n",
    "print(people_favourite_colours.items())"
   ]
  },
  {
   "cell_type": "code",
   "execution_count": 33,
   "metadata": {},
   "outputs": [
    {
     "name": "stdout",
     "output_type": "stream",
     "text": [
      "{'pizza hut': 'pizza', 'nutmeg': 'indian', 'seven lucky gods': 'japanese', 'cor': {'Tuesday': 'greek', 'EOD': 'spanish'}}\n",
      "{'Tuesday': 'greek', 'EOD': 'spanish'}\n",
      "dict_keys(['pizza hut', 'nutmeg', 'seven lucky gods', 'cor'])\n",
      "dict_values(['pizza', 'indian', 'japanese', {'Tuesday': 'greek', 'EOD': 'spanish'}])\n",
      "dict_items([('pizza hut', 'pizza'), ('nutmeg', 'indian'), ('seven lucky gods', 'japanese'), ('cor', {'Tuesday': 'greek', 'EOD': 'spanish'})])\n",
      "{'pizza hut': 'pizza', 'nutmeg': 'indian', 'seven lucky gods': 'japanese', 'cor': 'french', 'pasta loco': 'pasta'}\n",
      "False\n",
      "True\n"
     ]
    }
   ],
   "source": [
    "dict_restaurant = {'pizza hut': 'pizza',\n",
    "                            'nutmeg': 'indian',\n",
    "                            'seven lucky gods' : 'japanese',\n",
    "                            'cor': {'Tuesday': 'greek',\n",
    "                                    'EOD':'spanish'}}\n",
    "\n",
    "print(dict_restaurant)\n",
    "print(dict_restaurant[\"cor\"])\n",
    "print(dict_restaurant.keys())\n",
    "print(dict_restaurant.values())\n",
    "print(dict_restaurant.items())\n",
    "\n",
    "dict_restaurant['pasta loco'] = 'pasta'\n",
    "dict_restaurant['cor']= 'french'\n",
    "print(dict_restaurant)\n",
    "\n",
    "\n",
    "print('franco manca' in dict_restaurant)\n",
    "print('nutmeg' in dict_restaurant)"
   ]
  },
  {
   "cell_type": "code",
   "execution_count": 55,
   "metadata": {},
   "outputs": [
    {
     "name": "stdout",
     "output_type": "stream",
     "text": [
      "{'Jon Maggs': 'performance and development manager', 'Emily Dickson': 'performance analyst', 'Will LP': 'python king', 'paul dryden': 'senior p'}\n",
      "My name is Jon Maggs and my job is performance and development manager.\n",
      "My name is Emily Dickson and my job is performance analyst.\n",
      "My name is Will LP and my job is python king.\n",
      "My name is paul dryden and my job is senior p.\n"
     ]
    }
   ],
   "source": [
    "group_x_dict = {'Jon Maggs': 'performance and development manager',\n",
    "           'Emily Dickson': 'performance analyst',\n",
    "           'Will LP': 'python king',\n",
    "           'paul dryden': 'senior p'}\n",
    "names = list(group_x_dict.keys())\n",
    "names_sorted = sorted(names)\n",
    "print(group_x_dict)\n",
    "group_x_dict.items()\n",
    "for key, values in group_x_dict.items():\n",
    "    print(f\"My name is {key} and my job is {values}.\")\n"
   ]
  }
 ],
 "metadata": {
  "kernelspec": {
   "display_name": "Python 3",
   "language": "python",
   "name": "python3"
  },
  "language_info": {
   "codemirror_mode": {
    "name": "ipython",
    "version": 3
   },
   "file_extension": ".py",
   "mimetype": "text/x-python",
   "name": "python",
   "nbconvert_exporter": "python",
   "pygments_lexer": "ipython3",
   "version": "3.10.8"
  }
 },
 "nbformat": 4,
 "nbformat_minor": 2
}

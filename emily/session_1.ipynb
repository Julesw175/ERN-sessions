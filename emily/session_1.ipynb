{
 "cells": [
  {
   "cell_type": "code",
   "execution_count": 5,
   "metadata": {},
   "outputs": [
    {
     "name": "stdout",
     "output_type": "stream",
     "text": [
      "I'm Emily\n"
     ]
    }
   ],
   "source": [
    "phrase = \"I'm Emily\" # string\n",
    "print(phrase)"
   ]
  },
  {
   "cell_type": "code",
   "execution_count": 10,
   "metadata": {},
   "outputs": [
    {
     "name": "stdout",
     "output_type": "stream",
     "text": [
      "15\n",
      "<class 'int'>\n",
      "2.0\n",
      "<class 'float'>\n"
     ]
    }
   ],
   "source": [
    "x = 5 # integer\n",
    "y = 10 # integer\n",
    "z = x + y # plus\n",
    "print(z)\n",
    "print(type(z))\n",
    "z = y/x\n",
    "print(z) # float\n",
    "print(type(z))"
   ]
  },
  {
   "cell_type": "code",
   "execution_count": 15,
   "metadata": {},
   "outputs": [
    {
     "name": "stdout",
     "output_type": "stream",
     "text": [
      "48\n",
      "12.56\n"
     ]
    }
   ],
   "source": [
    "a = 12\n",
    "b = 4\n",
    "c = a*b\n",
    "print(c)\n",
    "\n",
    "r = 2\n",
    "p = 3.14\n",
    "area = p * r**2\n",
    "print(area)"
   ]
  },
  {
   "cell_type": "code",
   "execution_count": 36,
   "metadata": {},
   "outputs": [
    {
     "name": "stdout",
     "output_type": "stream",
     "text": [
      "My name is Emily and my job title is Performance and Development Manager\n",
      "72\n",
      "name is Emily\n",
      "here_is_a_file\n"
     ]
    }
   ],
   "source": [
    "name = \"Emily\"\n",
    "job = \"Performance and Development Manager\"\n",
    "\n",
    "phrase = f\"My name is {name} and my job title is {job}\"\n",
    "print(phrase)\n",
    "print(len(phrase))\n",
    "\n",
    "string_slice = phrase[3:16]\n",
    "print(string_slice)\n",
    "\n",
    "filename =\"here_is_a_file.csv\"\n",
    "filename = filename[:14]\n",
    "print(filename)"
   ]
  },
  {
   "cell_type": "code",
   "execution_count": 42,
   "metadata": {},
   "outputs": [
    {
     "name": "stdout",
     "output_type": "stream",
     "text": [
      "dog cat racoon\n"
     ]
    }
   ],
   "source": [
    "slice_this_phrase = \"dog cat racoon\"\n",
    "slice_1 = slice_this_phrase[:3]\n",
    "slice_2 = slice_this_phrase[4:7]\n",
    "slice_3 = slice_this_phrase[-6:]\n",
    "print(slice_1, slice_2, slice_3)"
   ]
  },
  {
   "cell_type": "code",
   "execution_count": 43,
   "metadata": {},
   "outputs": [
    {
     "name": "stdout",
     "output_type": "stream",
     "text": [
      "My colours are: ['red', 'blue', 'green', 'teal']\n"
     ]
    }
   ],
   "source": [
    "favourite_colour = \"teal\"\n",
    "colours_list = [\"red\", \"blue\", \"green\"]\n",
    "colours_list.append(favourite_colour)\n",
    "\n",
    "print(f'My colours are: {colours_list}')\n"
   ]
  }
 ],
 "metadata": {
  "kernelspec": {
   "display_name": "Python 3",
   "language": "python",
   "name": "python3"
  },
  "language_info": {
   "codemirror_mode": {
    "name": "ipython",
    "version": 3
   },
   "file_extension": ".py",
   "mimetype": "text/x-python",
   "name": "python",
   "nbconvert_exporter": "python",
   "pygments_lexer": "ipython3",
   "version": "3.10.8"
  }
 },
 "nbformat": 4,
 "nbformat_minor": 2
}

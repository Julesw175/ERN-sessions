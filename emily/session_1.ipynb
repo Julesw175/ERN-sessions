{
 "cells": [
  {
   "cell_type": "code",
   "execution_count": 20,
   "metadata": {},
   "outputs": [
    {
     "name": "stdout",
     "output_type": "stream",
     "text": [
      "I'm Emily\n"
     ]
    }
   ],
   "source": [
    "phrase = \"I'm Emily\" # string\n",
    "print(phrase)"
   ]
  },
  {
   "cell_type": "code",
   "execution_count": 21,
   "metadata": {},
   "outputs": [
    {
     "name": "stdout",
     "output_type": "stream",
     "text": [
      "15\n",
      "<class 'int'>\n",
      "2.0\n",
      "<class 'float'>\n"
     ]
    }
   ],
   "source": [
    "x = 5 # integer\n",
    "y = 10 # integer\n",
    "z = x + y # plus\n",
    "print(z)\n",
    "print(type(z))\n",
    "z = y/x\n",
    "print(z) # float\n",
    "print(type(z))"
   ]
  },
  {
   "cell_type": "code",
   "execution_count": 22,
   "metadata": {},
   "outputs": [
    {
     "name": "stdout",
     "output_type": "stream",
     "text": [
      "48\n",
      "12.56\n"
     ]
    }
   ],
   "source": [
    "a = 12\n",
    "b = 4\n",
    "c = a*b\n",
    "print(c)\n",
    "\n",
    "r = 2\n",
    "p = 3.14\n",
    "area = p * r**2\n",
    "print(area)"
   ]
  },
  {
   "cell_type": "code",
   "execution_count": 23,
   "metadata": {},
   "outputs": [
    {
     "name": "stdout",
     "output_type": "stream",
     "text": [
      "My name is Emily and my job title is Performance and Development Manager\n",
      "72\n",
      "name is Emily\n",
      "here_is_a_file\n"
     ]
    }
   ],
   "source": [
    "name = \"Emily\"\n",
    "job = \"Performance and Development Manager\"\n",
    "\n",
    "phrase = f\"My name is {name} and my job title is {job}\"\n",
    "print(phrase)\n",
    "print(len(phrase))\n",
    "\n",
    "string_slice = phrase[3:16]\n",
    "print(string_slice)\n",
    "\n",
    "filename =\"here_is_a_file.csv\"\n",
    "filename = filename[:14]\n",
    "print(filename)"
   ]
  },
  {
   "cell_type": "code",
   "execution_count": 24,
   "metadata": {},
   "outputs": [
    {
     "name": "stdout",
     "output_type": "stream",
     "text": [
      "dog cat racoon\n"
     ]
    }
   ],
   "source": [
    "slice_this_phrase = \"dog cat racoon\"\n",
    "slice_1 = slice_this_phrase[:3]\n",
    "slice_2 = slice_this_phrase[4:7]\n",
    "slice_3 = slice_this_phrase[-6:]\n",
    "print(slice_1, slice_2, slice_3)"
   ]
  },
  {
   "cell_type": "code",
   "execution_count": 25,
   "metadata": {},
   "outputs": [
    {
     "name": "stdout",
     "output_type": "stream",
     "text": [
      "My colours are: ['red', 'blue', 'green', 'teal']\n"
     ]
    }
   ],
   "source": [
    "favourite_colour = \"teal\"\n",
    "colours_list = [\"red\", \"blue\", \"green\"]\n",
    "colours_list.append(favourite_colour)\n",
    "\n",
    "print(f'My colours are: {colours_list}')\n"
   ]
  },
  {
   "cell_type": "code",
   "execution_count": 26,
   "metadata": {},
   "outputs": [
    {
     "name": "stdout",
     "output_type": "stream",
     "text": [
      "['pizza', 'cake', 'chocolate', 'cheesecake']\n"
     ]
    }
   ],
   "source": [
    "food_list = [\"pizza\", \"cake\", \"chocolate\"]\n",
    "favourite_food = \"cheesecake\"\n",
    "food_list.append(favourite_food)\n",
    "print(food_list)"
   ]
  },
  {
   "cell_type": "code",
   "execution_count": 27,
   "metadata": {},
   "outputs": [
    {
     "name": "stdout",
     "output_type": "stream",
     "text": [
      "['pizza', 'cake', 'chocolate', 'cheesecake', 'ice cream', 'pretzels']\n",
      "['pizza', 'cake', 'chocolate', 'cheesecake', 'ice cream']\n"
     ]
    },
    {
     "ename": "ValueError",
     "evalue": "list.remove(x): x not in list",
     "output_type": "error",
     "traceback": [
      "\u001b[0;31m---------------------------------------------------------------------------\u001b[0m",
      "\u001b[0;31mValueError\u001b[0m                                Traceback (most recent call last)",
      "\u001b[1;32m/workspaces/ERN-sessions/emily/session_1.ipynb Cell 8\u001b[0m line \u001b[0;36m6\n\u001b[1;32m      <a href='vscode-notebook-cell://codespaces%2Bsuper-space-garbanzo-p44qv7ggq553rx4j/workspaces/ERN-sessions/emily/session_1.ipynb#X10sdnNjb2RlLXJlbW90ZQ%3D%3D?line=3'>4</a>\u001b[0m food_list\u001b[39m.\u001b[39mremove(\u001b[39m\"\u001b[39m\u001b[39mpretzels\u001b[39m\u001b[39m\"\u001b[39m)\n\u001b[1;32m      <a href='vscode-notebook-cell://codespaces%2Bsuper-space-garbanzo-p44qv7ggq553rx4j/workspaces/ERN-sessions/emily/session_1.ipynb#X10sdnNjb2RlLXJlbW90ZQ%3D%3D?line=4'>5</a>\u001b[0m \u001b[39mprint\u001b[39m(food_list)\n\u001b[0;32m----> <a href='vscode-notebook-cell://codespaces%2Bsuper-space-garbanzo-p44qv7ggq553rx4j/workspaces/ERN-sessions/emily/session_1.ipynb#X10sdnNjb2RlLXJlbW90ZQ%3D%3D?line=5'>6</a>\u001b[0m food_list\u001b[39m.\u001b[39;49mremove(\u001b[39m\"\u001b[39;49m\u001b[39mpretzels\u001b[39;49m\u001b[39m\"\u001b[39;49m)\n",
      "\u001b[0;31mValueError\u001b[0m: list.remove(x): x not in list"
     ]
    }
   ],
   "source": [
    "more_foods = [\"ice cream\", \"pretzels\"]\n",
    "food_list.extend(more_foods)\n",
    "print(food_list)\n",
    "food_list.remove(\"pretzels\")\n",
    "print(food_list)\n",
    "food_list.remove(\"pretzels\")"
   ]
  },
  {
   "cell_type": "code",
   "execution_count": null,
   "metadata": {},
   "outputs": [
    {
     "name": "stdout",
     "output_type": "stream",
     "text": [
      "[1, 2, 3, 4, 5, 6]\n",
      "[6, 5, 4, 3, 2, 1]\n",
      "[1, 2, 3, 4, 5, 6]\n"
     ]
    }
   ],
   "source": [
    "numbers_list = [2,3,4,5,1,6]\n",
    "numbers_list.sort()\n",
    "print(numbers_list)\n",
    "numbers_list.sort(reverse=True)\n",
    "print(numbers_list)\n",
    "\n",
    "numbers_list = [2,3,4,5,1,6]\n",
    "sorted_numbers = sorted(numbers_list)\n",
    "print(sorted_numbers)"
   ]
  },
  {
   "cell_type": "code",
   "execution_count": null,
   "metadata": {},
   "outputs": [
    {
     "name": "stdout",
     "output_type": "stream",
     "text": [
      "['pizza', 'ice cream', 'chocolate', 'cheesecake', 'cake']\n",
      "['ice cream', 'cheesecake', 'chocolate', 'cake', 'pizza']\n"
     ]
    }
   ],
   "source": [
    "food_list_sorted = sorted(food_list, reverse=True)\n",
    "print(food_list_sorted)\n",
    "\n",
    "food_list.reverse()\n",
    "print(food_list)"
   ]
  },
  {
   "cell_type": "code",
   "execution_count": null,
   "metadata": {},
   "outputs": [
    {
     "name": "stdout",
     "output_type": "stream",
     "text": [
      "{'emily': 'pink', 'cat': 'blue', 'horse': 23, 'Max': {'Tuesday': 'Green', 'EOD': 'Silver'}}\n",
      "{'Tuesday': 'Green', 'EOD': 'Silver'}\n",
      "dict_keys(['emily', 'cat', 'horse', 'Max'])\n",
      "dict_values(['pink', 'blue', 23, {'Tuesday': 'Green', 'EOD': 'Silver'}])\n",
      "dict_items([('emily', 'pink'), ('cat', 'blue'), ('horse', 23), ('Max', {'Tuesday': 'Green', 'EOD': 'Silver'})])\n"
     ]
    }
   ],
   "source": [
    "people_favourite_colours = {'emily': 'pink',\n",
    "                            'cat': 'blue',\n",
    "                            'horse' : 23,\n",
    "                            'Max': {'Tuesday': 'Green',\n",
    "                                    'EOD':'Silver'}}\n",
    "\n",
    "print(people_favourite_colours)\n",
    "print(people_favourite_colours[\"Max\"])\n",
    "print(people_favourite_colours.keys())\n",
    "print(people_favourite_colours.values())\n",
    "print(people_favourite_colours.items())"
   ]
  },
  {
   "cell_type": "code",
   "execution_count": null,
   "metadata": {},
   "outputs": [
    {
     "name": "stdout",
     "output_type": "stream",
     "text": [
      "{'pizza hut': 'pizza', 'nutmeg': 'indian', 'seven lucky gods': 'japanese', 'cor': {'Tuesday': 'greek', 'EOD': 'spanish'}}\n",
      "{'Tuesday': 'greek', 'EOD': 'spanish'}\n",
      "dict_keys(['pizza hut', 'nutmeg', 'seven lucky gods', 'cor'])\n",
      "dict_values(['pizza', 'indian', 'japanese', {'Tuesday': 'greek', 'EOD': 'spanish'}])\n",
      "dict_items([('pizza hut', 'pizza'), ('nutmeg', 'indian'), ('seven lucky gods', 'japanese'), ('cor', {'Tuesday': 'greek', 'EOD': 'spanish'})])\n",
      "{'pizza hut': 'pizza', 'nutmeg': 'indian', 'seven lucky gods': 'japanese', 'cor': 'french', 'pasta loco': 'pasta'}\n",
      "False\n",
      "True\n"
     ]
    }
   ],
   "source": [
    "dict_restaurant = {'pizza hut': 'pizza',\n",
    "                            'nutmeg': 'indian',\n",
    "                            'seven lucky gods' : 'japanese',\n",
    "                            'cor': {'Tuesday': 'greek',\n",
    "                                    'EOD':'spanish'}}\n",
    "\n",
    "print(dict_restaurant)\n",
    "print(dict_restaurant[\"cor\"])\n",
    "print(dict_restaurant.keys())\n",
    "print(dict_restaurant.values())\n",
    "print(dict_restaurant.items())\n",
    "\n",
    "dict_restaurant['pasta loco'] = 'pasta'\n",
    "dict_restaurant['cor']= 'french'\n",
    "print(dict_restaurant)\n",
    "\n",
    "\n",
    "print('franco manca' in dict_restaurant)\n",
    "print('nutmeg' in dict_restaurant)"
   ]
  },
  {
   "cell_type": "code",
   "execution_count": null,
   "metadata": {},
   "outputs": [
    {
     "name": "stdout",
     "output_type": "stream",
     "text": [
      "{'Jon Maggs': 'performance and development manager', 'Emily Dickson': 'performance analyst', 'Will LP': 'python king', 'paul dryden': 'senior p'}\n",
      "My name is Jon Maggs and my job is performance and development manager.\n",
      "My name is Emily Dickson and my job is performance analyst.\n",
      "My name is Will LP and my job is python king.\n",
      "My name is paul dryden and my job is senior p.\n"
     ]
    }
   ],
   "source": [
    "group_x_dict = {'Jon Maggs': 'performance and development manager',\n",
    "           'Emily Dickson': 'performance analyst',\n",
    "           'Will LP': 'python king',\n",
    "           'paul dryden': 'senior p'}\n",
    "names = list(group_x_dict.keys())\n",
    "names_sorted = sorted(names)\n",
    "print(group_x_dict)\n",
    "group_x_dict.items()\n",
    "for key, values in group_x_dict.items():\n",
    "    print(f\"My name is {key} and my job is {values}.\")\n"
   ]
  },
  {
   "cell_type": "code",
   "execution_count": 3,
   "metadata": {},
   "outputs": [
    {
     "data": {
      "text/html": [
       "<div>\n",
       "<style scoped>\n",
       "    .dataframe tbody tr th:only-of-type {\n",
       "        vertical-align: middle;\n",
       "    }\n",
       "\n",
       "    .dataframe tbody tr th {\n",
       "        vertical-align: top;\n",
       "    }\n",
       "\n",
       "    .dataframe thead th {\n",
       "        text-align: right;\n",
       "    }\n",
       "</style>\n",
       "<table border=\"1\" class=\"dataframe\">\n",
       "  <thead>\n",
       "    <tr style=\"text-align: right;\">\n",
       "      <th></th>\n",
       "      <th>heres's a column</th>\n",
       "      <th>col 2</th>\n",
       "      <th>col z</th>\n",
       "    </tr>\n",
       "  </thead>\n",
       "  <tbody>\n",
       "    <tr>\n",
       "      <th>0</th>\n",
       "      <td>val 1</td>\n",
       "      <td>4</td>\n",
       "      <td>foo</td>\n",
       "    </tr>\n",
       "    <tr>\n",
       "      <th>1</th>\n",
       "      <td>val 2</td>\n",
       "      <td>5</td>\n",
       "      <td>bar</td>\n",
       "    </tr>\n",
       "    <tr>\n",
       "      <th>2</th>\n",
       "      <td>val 3</td>\n",
       "      <td>6</td>\n",
       "      <td>baz</td>\n",
       "    </tr>\n",
       "  </tbody>\n",
       "</table>\n",
       "</div>"
      ],
      "text/plain": [
       "  heres's a column  col 2 col z\n",
       "0            val 1      4   foo\n",
       "1            val 2      5   bar\n",
       "2            val 3      6   baz"
      ]
     },
     "execution_count": 3,
     "metadata": {},
     "output_type": "execute_result"
    }
   ],
   "source": [
    "import pandas as pd\n",
    "\n",
    "dict_1 = {\"heres's a column\": [\"val 1\", \"val 2\", \"val 3\"],\n",
    "         \"col 2\": [4,5,6],\n",
    "          \"col z\": [\"foo\", \"bar\", \"baz\"] }\n",
    "\n",
    "df_1 = pd.DataFrame(dict_1)\n",
    "df_1"
   ]
  },
  {
   "cell_type": "code",
   "execution_count": 53,
   "metadata": {},
   "outputs": [
    {
     "data": {
      "text/html": [
       "<div>\n",
       "<style scoped>\n",
       "    .dataframe tbody tr th:only-of-type {\n",
       "        vertical-align: middle;\n",
       "    }\n",
       "\n",
       "    .dataframe tbody tr th {\n",
       "        vertical-align: top;\n",
       "    }\n",
       "\n",
       "    .dataframe thead th {\n",
       "        text-align: right;\n",
       "    }\n",
       "</style>\n",
       "<table border=\"1\" class=\"dataframe\">\n",
       "  <thead>\n",
       "    <tr style=\"text-align: right;\">\n",
       "      <th></th>\n",
       "      <th>name</th>\n",
       "      <th>job</th>\n",
       "      <th>salary</th>\n",
       "    </tr>\n",
       "  </thead>\n",
       "  <tbody>\n",
       "    <tr>\n",
       "      <th>0</th>\n",
       "      <td>Walter Boggis</td>\n",
       "      <td>Chicken Farmer</td>\n",
       "      <td>28000</td>\n",
       "    </tr>\n",
       "    <tr>\n",
       "      <th>1</th>\n",
       "      <td>Nathaniel Bunce</td>\n",
       "      <td>Duck and Goose Farmer</td>\n",
       "      <td>30000</td>\n",
       "    </tr>\n",
       "    <tr>\n",
       "      <th>2</th>\n",
       "      <td>Franklin Bean</td>\n",
       "      <td>Cider Farmer</td>\n",
       "      <td>12000</td>\n",
       "    </tr>\n",
       "    <tr>\n",
       "      <th>3</th>\n",
       "      <td>Mr Fox</td>\n",
       "      <td>Thief</td>\n",
       "      <td>50000</td>\n",
       "    </tr>\n",
       "  </tbody>\n",
       "</table>\n",
       "</div>"
      ],
      "text/plain": [
       "              name                    job  salary\n",
       "0    Walter Boggis         Chicken Farmer   28000\n",
       "1  Nathaniel Bunce  Duck and Goose Farmer   30000\n",
       "2    Franklin Bean           Cider Farmer   12000\n",
       "3           Mr Fox                  Thief   50000"
      ]
     },
     "execution_count": 53,
     "metadata": {},
     "output_type": "execute_result"
    }
   ],
   "source": [
    "corporation = [{\"name\":\"Walter Boggis\",\n",
    "                  \"job\": \"Chicken Farmer\",\n",
    "                  \"salary\" : 28000},\n",
    "                  {\"name\":\"Nathaniel Bunce\",\n",
    "                  \"job\": \"Duck and Goose Farmer\",\n",
    "                  \"salary\" : 30000},\n",
    "                  {\"name\":\"Franklin Bean\",\n",
    "                  \"job\": \"Cider Farmer\",\n",
    "                  \"salary\" : 12000},\n",
    "                  {\"name\":\"Mr Fox\",\n",
    "                  \"job\": \"Thief\",\n",
    "                  \"salary\" : 50000},]\n",
    "\n",
    "corp_df = pd.DataFrame(corporation)\n",
    "corp_df"
   ]
  },
  {
   "cell_type": "code",
   "execution_count": 54,
   "metadata": {},
   "outputs": [],
   "source": [
    "# print(corp_df.info())\n",
    "#print(corp_df.dtypes)\n",
    "# print(corp_df.head(1))\n",
    "# print(corp_df.tail(1))"
   ]
  },
  {
   "cell_type": "code",
   "execution_count": 55,
   "metadata": {},
   "outputs": [
    {
     "data": {
      "text/plain": [
       "name      object\n",
       "job       object\n",
       "salary     int64\n",
       "dtype: object"
      ]
     },
     "execution_count": 55,
     "metadata": {},
     "output_type": "execute_result"
    }
   ],
   "source": [
    "corp_df[\"salary\"] = corp_df[\"salary\"].astype(\"int\")\n",
    "corp_df.dtypes"
   ]
  },
  {
   "cell_type": "code",
   "execution_count": 56,
   "metadata": {},
   "outputs": [
    {
     "name": "stdout",
     "output_type": "stream",
     "text": [
      "Salary minimum: 12000, salary maximum: 50000\n"
     ]
    }
   ],
   "source": [
    "corp_salary_total = corp_df[\"salary\"].sum()\n",
    "corp_salary_mean = corp_df[\"salary\"].mean()\n",
    "corp_salary_cumsum = corp_df[\"salary\"].cumsum()\n",
    "# print(corp_salary_total)\n",
    "sal_min_max = f\"Salary minimum: {corp_df['salary'].min()}, salary maximum: {corp_df['salary'].max()}\"\n",
    "print(sal_min_max)"
   ]
  },
  {
   "cell_type": "code",
   "execution_count": 57,
   "metadata": {},
   "outputs": [
    {
     "data": {
      "text/html": [
       "<div>\n",
       "<style scoped>\n",
       "    .dataframe tbody tr th:only-of-type {\n",
       "        vertical-align: middle;\n",
       "    }\n",
       "\n",
       "    .dataframe tbody tr th {\n",
       "        vertical-align: top;\n",
       "    }\n",
       "\n",
       "    .dataframe thead th {\n",
       "        text-align: right;\n",
       "    }\n",
       "</style>\n",
       "<table border=\"1\" class=\"dataframe\">\n",
       "  <thead>\n",
       "    <tr style=\"text-align: right;\">\n",
       "      <th></th>\n",
       "      <th>name</th>\n",
       "      <th>job</th>\n",
       "      <th>salary</th>\n",
       "      <th>date started</th>\n",
       "    </tr>\n",
       "  </thead>\n",
       "  <tbody>\n",
       "    <tr>\n",
       "      <th>0</th>\n",
       "      <td>Walter Boggis</td>\n",
       "      <td>Chicken Farmer</td>\n",
       "      <td>28000</td>\n",
       "      <td>05/02/2023</td>\n",
       "    </tr>\n",
       "    <tr>\n",
       "      <th>1</th>\n",
       "      <td>Nathaniel Bunce</td>\n",
       "      <td>Duck and Goose Farmer</td>\n",
       "      <td>30000</td>\n",
       "      <td>12/04/2021</td>\n",
       "    </tr>\n",
       "    <tr>\n",
       "      <th>2</th>\n",
       "      <td>Franklin Bean</td>\n",
       "      <td>Cider Farmer</td>\n",
       "      <td>12000</td>\n",
       "      <td>16/03/2019</td>\n",
       "    </tr>\n",
       "    <tr>\n",
       "      <th>3</th>\n",
       "      <td>Mr Fox</td>\n",
       "      <td>Thief</td>\n",
       "      <td>50000</td>\n",
       "      <td>19/03/2019</td>\n",
       "    </tr>\n",
       "  </tbody>\n",
       "</table>\n",
       "</div>"
      ],
      "text/plain": [
       "              name                    job  salary date started\n",
       "0    Walter Boggis         Chicken Farmer   28000   05/02/2023\n",
       "1  Nathaniel Bunce  Duck and Goose Farmer   30000   12/04/2021\n",
       "2    Franklin Bean           Cider Farmer   12000   16/03/2019\n",
       "3           Mr Fox                  Thief   50000   19/03/2019"
      ]
     },
     "execution_count": 57,
     "metadata": {},
     "output_type": "execute_result"
    }
   ],
   "source": [
    "corp_df['date started'] = [\"05/02/2023\", \"12/04/2021\", \"16/03/2019\", \"19/03/2019\"]\n",
    "corp_df"
   ]
  },
  {
   "cell_type": "code",
   "execution_count": 58,
   "metadata": {},
   "outputs": [
    {
     "data": {
      "text/html": [
       "<div>\n",
       "<style scoped>\n",
       "    .dataframe tbody tr th:only-of-type {\n",
       "        vertical-align: middle;\n",
       "    }\n",
       "\n",
       "    .dataframe tbody tr th {\n",
       "        vertical-align: top;\n",
       "    }\n",
       "\n",
       "    .dataframe thead th {\n",
       "        text-align: right;\n",
       "    }\n",
       "</style>\n",
       "<table border=\"1\" class=\"dataframe\">\n",
       "  <thead>\n",
       "    <tr style=\"text-align: right;\">\n",
       "      <th></th>\n",
       "      <th>name</th>\n",
       "      <th>job</th>\n",
       "      <th>salary</th>\n",
       "      <th>date started</th>\n",
       "      <th>salary inc</th>\n",
       "      <th>pay after bonus</th>\n",
       "    </tr>\n",
       "  </thead>\n",
       "  <tbody>\n",
       "    <tr>\n",
       "      <th>0</th>\n",
       "      <td>Walter Boggis</td>\n",
       "      <td>Chicken Farmer</td>\n",
       "      <td>28000</td>\n",
       "      <td>2023-02-05</td>\n",
       "      <td>29876</td>\n",
       "      <td>28500</td>\n",
       "    </tr>\n",
       "    <tr>\n",
       "      <th>1</th>\n",
       "      <td>Nathaniel Bunce</td>\n",
       "      <td>Duck and Goose Farmer</td>\n",
       "      <td>30000</td>\n",
       "      <td>2021-04-12</td>\n",
       "      <td>32010</td>\n",
       "      <td>30500</td>\n",
       "    </tr>\n",
       "    <tr>\n",
       "      <th>2</th>\n",
       "      <td>Franklin Bean</td>\n",
       "      <td>Cider Farmer</td>\n",
       "      <td>12000</td>\n",
       "      <td>2019-03-16</td>\n",
       "      <td>12804</td>\n",
       "      <td>12500</td>\n",
       "    </tr>\n",
       "    <tr>\n",
       "      <th>3</th>\n",
       "      <td>Mr Fox</td>\n",
       "      <td>Thief</td>\n",
       "      <td>50000</td>\n",
       "      <td>2019-03-19</td>\n",
       "      <td>53350</td>\n",
       "      <td>50500</td>\n",
       "    </tr>\n",
       "  </tbody>\n",
       "</table>\n",
       "</div>"
      ],
      "text/plain": [
       "              name                    job  salary date started  salary inc  \\\n",
       "0    Walter Boggis         Chicken Farmer   28000   2023-02-05       29876   \n",
       "1  Nathaniel Bunce  Duck and Goose Farmer   30000   2021-04-12       32010   \n",
       "2    Franklin Bean           Cider Farmer   12000   2019-03-16       12804   \n",
       "3           Mr Fox                  Thief   50000   2019-03-19       53350   \n",
       "\n",
       "   pay after bonus  \n",
       "0            28500  \n",
       "1            30500  \n",
       "2            12500  \n",
       "3            50500  "
      ]
     },
     "execution_count": 58,
     "metadata": {},
     "output_type": "execute_result"
    }
   ],
   "source": [
    "inflation = 1.067\n",
    "corp_df[\"salary inc\"] = corp_df[\"salary\"] * inflation\n",
    "corp_df[\"pay after bonus\"] = corp_df[\"salary\"] + 500\n",
    "corp_df[\"salary inc\"] = corp_df[\"salary inc\"].astype(\"int\")\n",
    "#corp_df['date started'] = pd.to_datetime(corp_df['date started'], dayfirst=True)\n",
    "corp_df['date started'] = pd.to_datetime(corp_df['date started'], format= '%d/%m/%Y')\n",
    "corp_df.dtypes\n",
    "corp_df"
   ]
  },
  {
   "cell_type": "code",
   "execution_count": 64,
   "metadata": {},
   "outputs": [
    {
     "data": {
      "text/html": [
       "<div>\n",
       "<style scoped>\n",
       "    .dataframe tbody tr th:only-of-type {\n",
       "        vertical-align: middle;\n",
       "    }\n",
       "\n",
       "    .dataframe tbody tr th {\n",
       "        vertical-align: top;\n",
       "    }\n",
       "\n",
       "    .dataframe thead th {\n",
       "        text-align: right;\n",
       "    }\n",
       "</style>\n",
       "<table border=\"1\" class=\"dataframe\">\n",
       "  <thead>\n",
       "    <tr style=\"text-align: right;\">\n",
       "      <th></th>\n",
       "      <th>name</th>\n",
       "      <th>job</th>\n",
       "      <th>salary</th>\n",
       "      <th>date started</th>\n",
       "      <th>salary inc</th>\n",
       "      <th>pay after bonus</th>\n",
       "      <th>birthday</th>\n",
       "      <th>time served</th>\n",
       "    </tr>\n",
       "  </thead>\n",
       "  <tbody>\n",
       "    <tr>\n",
       "      <th>0</th>\n",
       "      <td>Walter Boggis</td>\n",
       "      <td>Chicken Farmer</td>\n",
       "      <td>28000</td>\n",
       "      <td>2023-02-05</td>\n",
       "      <td>29876</td>\n",
       "      <td>28500</td>\n",
       "      <td>1996-06-04</td>\n",
       "      <td>1</td>\n",
       "    </tr>\n",
       "    <tr>\n",
       "      <th>1</th>\n",
       "      <td>Nathaniel Bunce</td>\n",
       "      <td>Duck and Goose Farmer</td>\n",
       "      <td>30000</td>\n",
       "      <td>2021-04-12</td>\n",
       "      <td>32010</td>\n",
       "      <td>30500</td>\n",
       "      <td>2002-05-05</td>\n",
       "      <td>3</td>\n",
       "    </tr>\n",
       "    <tr>\n",
       "      <th>2</th>\n",
       "      <td>Franklin Bean</td>\n",
       "      <td>Cider Farmer</td>\n",
       "      <td>12000</td>\n",
       "      <td>2019-03-16</td>\n",
       "      <td>12804</td>\n",
       "      <td>12500</td>\n",
       "      <td>1914-01-01</td>\n",
       "      <td>5</td>\n",
       "    </tr>\n",
       "    <tr>\n",
       "      <th>3</th>\n",
       "      <td>Mr Fox</td>\n",
       "      <td>Thief</td>\n",
       "      <td>50000</td>\n",
       "      <td>2019-03-19</td>\n",
       "      <td>53350</td>\n",
       "      <td>50500</td>\n",
       "      <td>2002-02-01</td>\n",
       "      <td>5</td>\n",
       "    </tr>\n",
       "  </tbody>\n",
       "</table>\n",
       "</div>"
      ],
      "text/plain": [
       "              name                    job  salary date started  salary inc  \\\n",
       "0    Walter Boggis         Chicken Farmer   28000   2023-02-05       29876   \n",
       "1  Nathaniel Bunce  Duck and Goose Farmer   30000   2021-04-12       32010   \n",
       "2    Franklin Bean           Cider Farmer   12000   2019-03-16       12804   \n",
       "3           Mr Fox                  Thief   50000   2019-03-19       53350   \n",
       "\n",
       "   pay after bonus   birthday  time served  \n",
       "0            28500 1996-06-04            1  \n",
       "1            30500 2002-05-05            3  \n",
       "2            12500 1914-01-01            5  \n",
       "3            50500 2002-02-01            5  "
      ]
     },
     "execution_count": 64,
     "metadata": {},
     "output_type": "execute_result"
    }
   ],
   "source": [
    "corp_df[\"birthday\"] = [\"04/06/1996\", \"05/05/2002\",\"01/01/1914\", \"01/02/2002\"]\n",
    "corp_df['birthday'] = pd.to_datetime(corp_df['birthday'], format= '%d/%m/%Y')\n",
    "corp_df['time served'] = pd.to_datetime(\"06/11/2023\", format = \"%d/%m/%Y\") - corp_df['date started']\n",
    "corp_df.dtypes\n",
    "corp_df['time served'] = corp_df[\"time served\"] / pd.Timedelta(\"365 days\")\n",
    "corp_df['time served'] = corp_df['time served'].round().astype(\"int\", errors = \"ignore\")\n",
    "corp_df\n"
   ]
  }
 ],
 "metadata": {
  "kernelspec": {
   "display_name": "Python 3",
   "language": "python",
   "name": "python3"
  },
  "language_info": {
   "codemirror_mode": {
    "name": "ipython",
    "version": 3
   },
   "file_extension": ".py",
   "mimetype": "text/x-python",
   "name": "python",
   "nbconvert_exporter": "python",
   "pygments_lexer": "ipython3",
   "version": "3.10.8"
  }
 },
 "nbformat": 4,
 "nbformat_minor": 2
}

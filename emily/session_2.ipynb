{
 "cells": [
  {
   "cell_type": "code",
   "execution_count": 3,
   "metadata": {},
   "outputs": [
    {
     "name": "stdout",
     "output_type": "stream",
     "text": [
      "1\n",
      "2\n",
      "3\n",
      "4\n",
      "5\n",
      "1\n",
      "2\n",
      "3\n",
      "4\n",
      "5\n"
     ]
    }
   ],
   "source": [
    "numbers = [1,2,3,4,5]\n",
    "\n",
    "for number in numbers:\n",
    "    print(number)\n",
    "\n",
    "for i in range(1,6):\n",
    "    print(i)"
   ]
  },
  {
   "cell_type": "code",
   "execution_count": 5,
   "metadata": {},
   "outputs": [
    {
     "name": "stdout",
     "output_type": "stream",
     "text": [
      "dict_items([('Dad', 'Homer'), ('Mum', 'Marge'), ('Baby', 'Maggie')])\n",
      "Homer is the Dad\n",
      "Marge is the Mum\n",
      "Maggie is the Baby\n"
     ]
    }
   ],
   "source": [
    "simpsons = {\"Dad\" : \"Homer\",\n",
    "            \"Mum\": \"Marge\",\n",
    "            \"Baby\" : \"Maggie\"}\n",
    "\n",
    "print(simpsons.items())\n",
    "\n",
    "for family_member, name in simpsons.items():\n",
    "    print(f'{name} is the {family_member}')"
   ]
  },
  {
   "cell_type": "code",
   "execution_count": 6,
   "metadata": {},
   "outputs": [
    {
     "name": "stdout",
     "output_type": "stream",
     "text": [
      "dict_items([('starter', 'gyoza'), ('main', 'noodles'), ('dessert', 'cake')])\n",
      "gyoza is the starter\n",
      "noodles is the main\n",
      "cake is the dessert\n"
     ]
    }
   ],
   "source": [
    "restaurant = {\"starter\" : \"gyoza\",\n",
    "            \"main\": \"noodles\",\n",
    "            \"dessert\" : \"cake\"}\n",
    "\n",
    "print(restaurant.items())\n",
    "\n",
    "for order, name in restaurant.items():\n",
    "    print(f'{name} is the {order}')"
   ]
  },
  {
   "cell_type": "code",
   "execution_count": 8,
   "metadata": {},
   "outputs": [
    {
     "name": "stdout",
     "output_type": "stream",
     "text": [
      "Barney\n",
      "Ned\n",
      "Krusty\n",
      "Sideshow Bob\n"
     ]
    }
   ],
   "source": [
    "side_characters = [\"Barney\", \"Ned\", \"Krusty\", \"Sideshow Bob\"]\n",
    "\n",
    "for i, name in enumerate(side_characters):\n",
    "    print(name)"
   ]
  },
  {
   "cell_type": "code",
   "execution_count": 15,
   "metadata": {},
   "outputs": [
    {
     "data": {
      "text/plain": [
       "{'Michael':    names         jobs originator\n",
       " 0    tom  hairdresser    Michael\n",
       " 1   dick  nail artist    Michael\n",
       " 2  harry    tattooist    Michael,\n",
       " 'hcc 2':    names             jobs originator\n",
       " 0    Jon  Project Manager      hcc 2\n",
       " 1  Emily          Analyst      hcc 2\n",
       " 2   Paul           Senior      hcc 2}"
      ]
     },
     "execution_count": 15,
     "metadata": {},
     "output_type": "execute_result"
    }
   ],
   "source": [
    "import pandas as pd\n",
    "\n",
    "michael = pd.DataFrame({\"names\" : [\"tom\", \"dick\", \"harry\"],\n",
    "                     \"jobs\" : [\"hairdresser\", \"nail artist\", \"tattooist\"]})\n",
    "\n",
    "hcc = pd.DataFrame({\"names\" : [\"Jon\", \"Emily\", \"Paul\"],\n",
    "                     \"jobs\" : [\"Project Manager\",\"Analyst\",\"Senior\"]})\n",
    "\n",
    "df_dict = {\"Michael\": michael,\n",
    "           \"hcc 2\" : hcc}\n",
    "\n",
    "#df_dict\n",
    "\n",
    "for k, v in df_dict.items():\n",
    "    v[\"originator\"] =k\n",
    "\n",
    "df_dict"
   ]
  },
  {
   "cell_type": "code",
   "execution_count": 6,
   "metadata": {},
   "outputs": [
    {
     "name": "stdout",
     "output_type": "stream",
     "text": [
      "  child_id  age_first_contact gender nhs_num cp_start_date\n",
      "0   child1                  6      M    nhs1    01/01/2023\n",
      "1   child2                 10      M    nhs2    no cp plan\n",
      "2   child3                 12      M    nhs3    no cp plan\n",
      "3   child4                 13      F    nhs4    01/01/2000\n",
      "  child_id  age_first_contact gender nhs_num cp_start_date\n",
      "0   child1                  6      M    nhs1    01/01/2023\n",
      "1   child4                 13      F    nhs4    01/01/2000\n"
     ]
    }
   ],
   "source": [
    "import pandas as pd\n",
    "\n",
    "child_identifiers = pd.DataFrame({\"child_id\": [\"child1\", \"child2\", \"child3\", \"child4\"],\n",
    "\"age_first_contact\" : [6,10,12,13],\n",
    "\"gender\" : [\"M\", \"M\", \"M\", \"F\"]})\n",
    "\n",
    "# print(child_identifiers)\n",
    "\n",
    "nhs_nums = pd.DataFrame({\"child_id\": [\"child1\", \"child2\", \"child3\", \"child4\"],\n",
    "\"nhs_num\" : [\"nhs1\",\"nhs2\",\"nhs3\",\"nhs4\"]})\n",
    "\n",
    "# print(nhs_nums)\n",
    "\n",
    "ident_nhs = child_identifiers.merge(nhs_nums, how = \"left\", left_on=\"child_id\", right_on=\"child_id\")\n",
    "\n",
    "## if joining multiple ident_nhs = child_identifiers.merge(nhs_nums, how = \"left\", left_on=[\"child_id\", \"dob\"], right_on=[\"child_id\", \"date of birth\")\n",
    "## if lazy ident_nhs = child_identifiers.merge(nhs_nums, how = \"left\", on=\"child_id\")\n",
    "\n",
    "cp_plans =  pd.DataFrame({\"child_id\": [\"child1\", \"child4\"],\n",
    "\"cp_start_date\" : [\"01/01/2023\", \"01/01/2000\"]})\n",
    "\n",
    "ident_all_left = ident_nhs.merge(cp_plans, how = \"left\", left_on=\"child_id\", right_on=\"child_id\")\n",
    "ident_all_left[\"cp_start_date\"] = ident_all_left[\"cp_start_date\"].fillna(\"no cp plan\")\n",
    "\n",
    "print(ident_all_left)\n",
    "\n",
    "ident_all_inner = ident_nhs.merge(cp_plans, how = \"inner\", left_on=\"child_id\", right_on=\"child_id\")\n",
    "\n",
    "print(ident_all_inner)"
   ]
  },
  {
   "cell_type": "code",
   "execution_count": 15,
   "metadata": {},
   "outputs": [
    {
     "name": "stdout",
     "output_type": "stream",
     "text": [
      "     names  age_started gender id_num  start_date\n",
      "0      Jon           25      M   3403  01/01/2023\n",
      "1    Emily           23      F   3950         NaN\n",
      "2     Paul           29      M   3034         NaN\n",
      "3  Michael           35      M   2300  01/01/2018\n",
      "     names  age_started gender  start_date\n",
      "0      Jon           25      M  01/01/2023\n",
      "1  Michael           35      M  01/01/2018\n"
     ]
    }
   ],
   "source": [
    "staff_ids = pd.DataFrame({\"names\": [\"Jon\", \"Emily\", \"Paul\", \"Michael\"],\n",
    "\"age_started\" : [25,23,29,35],\n",
    "\"gender\" : [\"M\", \"F\", \"M\", \"M\"]})\n",
    "\n",
    "# print(child_identifiers)\n",
    "\n",
    "staff_id_numbers = pd.DataFrame({\"names\": [\"Jon\", \"Emily\", \"Paul\", \"Michael\"],\n",
    "\"id_num\" : [\"3403\",\"3950\", \"3034\",\"2300\"]})\n",
    "\n",
    "# print(nhs_nums)\n",
    "\n",
    "staff_hcc = staff_ids.merge(staff_id_numbers, how = \"left\", left_on=\"names\", right_on=\"names\")\n",
    "\n",
    "start_dates =  pd.DataFrame({\"names\": [\"Jon\", \"Michael\"],\n",
    "\"start_date\" : [\"01/01/2023\", \"01/01/2018\"]})\n",
    "\n",
    "staff_hcc_left = staff_hcc.merge(start_dates, how = \"left\", left_on=\"names\", right_on=\"names\")\n",
    "\n",
    "print(staff_hcc_left)\n",
    "\n",
    "staff_hcc_inner = staff_ids.merge(start_dates, how = \"inner\", left_on=\"names\", right_on=\"names\")\n",
    "\n",
    "print(staff_hcc_inner)"
   ]
  },
  {
   "cell_type": "code",
   "execution_count": 17,
   "metadata": {},
   "outputs": [],
   "source": [
    "corporation = [{'Name':'Will LP',\n",
    "                'Salary':'10000',\n",
    "                'Job Title':'Employee'},\n",
    "                {'Name':'Annie LP',\n",
    "                'Salary':'15000',\n",
    "                'Job Title':'CEO'},\n",
    "                {'Name':'Naiomi LP',\n",
    "                'Salary':'90000',\n",
    "                'Job Title':'VP'},\n",
    "                {'Name':'Luke V',\n",
    "                'Salary':'45000',\n",
    "                'Job Title':'Teach Lead'},\n",
    "                {'Name':'Matt K',\n",
    "                'Salary':'30000',\n",
    "                'Job Title':'Comms'},\n",
    "                {'Name':'Hannah K',\n",
    "                'Salary':'38000',\n",
    "                'Job Title':'HR'},]\n",
    "\n",
    "corp_df = pd.DataFrame(corporation)\n",
    "\n",
    "\n",
    "corp_df['Date Started'] = ['05/12/1993', '01/01/2000', '01/01/2020', '23/12/1989', '10/10/2010', '17/12/2021']\n",
    "\n",
    "corp_df['Date Started'] = pd.to_datetime(corp_df['Date Started'], format='%d/%m/%Y')\n",
    "\n",
    "corp_df[\"Salary\"] = corp_df[\"Salary\"].astype(\"int\")\n",
    "\n",
    "# conditionals less than < greater than > equals == less than or equal <= greater or equal >= not equal!= ~ where is isn't true\n",
    "\n",
    "\n",
    "selection = corp_df[\"Salary\"] > 40000\n",
    "\n",
    "over_40k = corp_df[selection]\n",
    "under_40k = corp_df[~selection]\n",
    "\n",
    "\n",
    "\n",
    "selection_mean = corp_df[\"Salary\"].mean()\n",
    "\n",
    "ceo_df = corp_df[corp_df[\"Job Title\"] == \"CEO\"]\n",
    "ceo_df\n",
    "\n",
    "not_ceo_df = corp_df[corp_df[\"Job Title\"] != \"CEO\"]\n",
    "not_ceo_df\n",
    "\n",
    "nepo_df = corp_df[corp_df[\"Name\"].str.contains(\"LP\")]\n",
    "\n",
    "nepo_df\n",
    "\n",
    "some_jobs = corp_df[corp_df[\"Job Title\"].isin([\"Teach Lead\", \"CEO\", \"VP\"])]\n",
    "some_jobs"
   ]
  },
  {
   "cell_type": "code",
   "execution_count": 61,
   "metadata": {},
   "outputs": [
    {
     "data": {
      "text/html": [
       "<div>\n",
       "<style scoped>\n",
       "    .dataframe tbody tr th:only-of-type {\n",
       "        vertical-align: middle;\n",
       "    }\n",
       "\n",
       "    .dataframe tbody tr th {\n",
       "        vertical-align: top;\n",
       "    }\n",
       "\n",
       "    .dataframe thead th {\n",
       "        text-align: right;\n",
       "    }\n",
       "</style>\n",
       "<table border=\"1\" class=\"dataframe\">\n",
       "  <thead>\n",
       "    <tr style=\"text-align: right;\">\n",
       "      <th></th>\n",
       "      <th>child_id</th>\n",
       "      <th>gender</th>\n",
       "      <th>dob</th>\n",
       "      <th>ethnicity</th>\n",
       "      <th>place</th>\n",
       "    </tr>\n",
       "  </thead>\n",
       "  <tbody>\n",
       "    <tr>\n",
       "      <th>1</th>\n",
       "      <td>child2</td>\n",
       "      <td>1</td>\n",
       "      <td>2020-12-12</td>\n",
       "      <td>WOTH</td>\n",
       "      <td>T1</td>\n",
       "    </tr>\n",
       "    <tr>\n",
       "      <th>2</th>\n",
       "      <td>child3</td>\n",
       "      <td>2</td>\n",
       "      <td>2000-01-01</td>\n",
       "      <td>MOTH</td>\n",
       "      <td>X2</td>\n",
       "    </tr>\n",
       "  </tbody>\n",
       "</table>\n",
       "</div>"
      ],
      "text/plain": [
       "  child_id gender        dob ethnicity place\n",
       "1   child2      1 2020-12-12      WOTH    T1\n",
       "2   child3      2 2000-01-01      MOTH    X2"
      ]
     },
     "execution_count": 61,
     "metadata": {},
     "output_type": "execute_result"
    }
   ],
   "source": [
    "import pandas as pd\n",
    "\n",
    "children = pd.DataFrame({\"child_id\": [\"child1\", \"child2\", \"child3\", \"child4\"],\n",
    "                     \"gender\": [\"0\", \"1\", \"2\", \"7\"],\n",
    "                     \"dob\": [\"05/05/2015\", \"12/12/2020\", \"01/01/2000\", \"09/12/2017\"],\n",
    "                     \"ethnicity\": [\"bang\", \"woth\", \"moth\", \"wiri\"],\n",
    "                     \"place\": [\"B1\", \"T1\", \"X2\", \"W1\"]})\n",
    "\n",
    "children['dob'] = pd.to_datetime(children['dob'], format= '%d/%m/%Y')\n",
    "\n",
    "gender_code_7 = children[children[\"gender\"] == \"7\"]\n",
    "gender_code_not_7 = children[children[\"gender\"] != \"7\"]\n",
    "\n",
    "eth_code_bang = children[children[\"ethnicity\"] == \"bang\"]\n",
    "eth_code_not_bang = children[children[\"ethnicity\"] != \"bang\"]\n",
    "eth_code_not_bang\n",
    "\n",
    "df = children\n",
    "df[\"ethnicity\"] = df[\"ethnicity\"].str.upper()\n",
    "df\n",
    "\n",
    "\n",
    "# moth_woth = df[df[\"ethnicity\"].str.lower().isin([\"moth\", \"woth\"])] case insensitive\n",
    "# moth_woth"
   ]
  }
 ],
 "metadata": {
  "kernelspec": {
   "display_name": "Python 3",
   "language": "python",
   "name": "python3"
  },
  "language_info": {
   "codemirror_mode": {
    "name": "ipython",
    "version": 3
   },
   "file_extension": ".py",
   "mimetype": "text/x-python",
   "name": "python",
   "nbconvert_exporter": "python",
   "pygments_lexer": "ipython3",
   "version": "3.10.8"
  }
 },
 "nbformat": 4,
 "nbformat_minor": 2
}

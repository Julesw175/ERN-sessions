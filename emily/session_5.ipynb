{
 "cells": [
  {
   "cell_type": "code",
   "execution_count": 7,
   "metadata": {},
   "outputs": [
    {
     "data": {
      "text/plain": [
       "24"
      ]
     },
     "execution_count": 7,
     "metadata": {},
     "output_type": "execute_result"
    }
   ],
   "source": [
    "def sum_function(x,y):\n",
    "    total = x + y\n",
    "    return total\n",
    "sum_function(4,5)\n",
    "\n",
    "\n",
    "def product_function(x,y):\n",
    "    total = x*y\n",
    "    return total\n",
    "\n",
    "product_function(4,6)"
   ]
  },
  {
   "cell_type": "code",
   "execution_count": 9,
   "metadata": {},
   "outputs": [
    {
     "name": "stdout",
     "output_type": "stream",
     "text": [
      "10.0 18\n"
     ]
    }
   ],
   "source": [
    "def div_minus_function(x,y):\n",
    "    '''Takes two numbers and divides one by the other. It also minuses one number from the other.\n",
    "    Args:\n",
    "        x,y: Int or Float, will divide first number by second, and minus second number from first.\n",
    "\n",
    "    Returns:\n",
    "        div: Int or Float, x divided by y.\n",
    "        minus: Int of Float, x minus y.\n",
    "\n",
    "    Caveats:\n",
    "        Will not work if either x or y is 0.\n",
    "    '''\n",
    "    div = x/y\n",
    "    minus = x-y\n",
    "    return div, minus\n",
    "\n",
    "div_20_2, minus_20_2 = div_minus_function(20,2)\n",
    "print(div_20_2, minus_20_2)"
   ]
  }
 ],
 "metadata": {
  "kernelspec": {
   "display_name": "Python 3",
   "language": "python",
   "name": "python3"
  },
  "language_info": {
   "codemirror_mode": {
    "name": "ipython",
    "version": 3
   },
   "file_extension": ".py",
   "mimetype": "text/x-python",
   "name": "python",
   "nbconvert_exporter": "python",
   "pygments_lexer": "ipython3",
   "version": "3.10.8"
  }
 },
 "nbformat": 4,
 "nbformat_minor": 2
}

{
 "cells": [
  {
   "cell_type": "code",
   "execution_count": 1,
   "metadata": {},
   "outputs": [],
   "source": [
    "\n",
    "\n",
    "# Read in the df from here:\n",
    "# https://raw.githubusercontent.com/WillLP-code/stlite-tests/main/benchmarking%20test/data/a1.csv\n",
    "# Print the info of the df\n",
    "# Take only rows where the number, rate, and percent columns are not z, c, or x\n",
    "# Convert those three columns to floats\n",
    "# Find the sum total of the number column\n",
    "# Find the mean of the percent column\n",
    "\n",
    "# Make a list of about 10 numbers that range between 0 and 100\n",
    "# Write a function that will return 'over 50' if a number is over 50, and 'under 50' if a number is under 50\n",
    "# Iterate through your list and run the function you just wrote for each element of the list, printing what is returned from the function for each loop\n"
   ]
  },
  {
   "cell_type": "code",
   "execution_count": 12,
   "metadata": {},
   "outputs": [
    {
     "name": "stdout",
     "output_type": "stream",
     "text": [
      "227460.0\n",
      "5.77\n"
     ]
    },
    {
     "name": "stderr",
     "output_type": "stream",
     "text": [
      "/tmp/ipykernel_7801/1758819697.py:10: SettingWithCopyWarning: \n",
      "A value is trying to be set on a copy of a slice from a DataFrame.\n",
      "Try using .loc[row_indexer,col_indexer] = value instead\n",
      "\n",
      "See the caveats in the documentation: https://pandas.pydata.org/pandas-docs/stable/user_guide/indexing.html#returning-a-view-versus-a-copy\n",
      "  non_supressed[['number', 'percent', 'rate']]= non_supressed[['number', 'percent', 'rate']].astype('float')\n"
     ]
    }
   ],
   "source": [
    "import pandas as pd \n",
    "\n",
    "df = pd.read_csv(\"https://raw.githubusercontent.com/WillLP-code/stlite-tests/main/benchmarking%20test/data/a1.csv\")\n",
    "# print(df.info())\n",
    "\n",
    "query = (~df['number'].isin(['z', 'c', 'x'])) & (~df['rate'].isin(['z', 'c', 'x'])) & (~df['percent'].isin(['z', 'c', 'x']))\n",
    "\n",
    "non_supressed = df[query]\n",
    "\n",
    "non_supressed[['number', 'percent', 'rate']]= non_supressed[['number', 'percent', 'rate']].astype('float')\n",
    "#print(non_supressed.info())\n",
    "\n",
    "print(non_supressed['number'].sum())\n",
    "print(non_supressed['percent'].mean())\n"
   ]
  },
  {
   "cell_type": "code",
   "execution_count": 22,
   "metadata": {},
   "outputs": [
    {
     "name": "stdout",
     "output_type": "stream",
     "text": [
      "63 is 50 or over\n",
      "93 is 50 or over\n",
      "3 is less than 50\n",
      "75 is 50 or over\n",
      "83 is 50 or over\n",
      "62 is 50 or over\n",
      "76 is 50 or over\n",
      "12 is less than 50\n",
      "38 is less than 50\n",
      "68 is 50 or over\n"
     ]
    }
   ],
   "source": [
    "# Make a list of about 10 numbers that range between 0 and 100\n",
    "# Write a function that will return 'over 50' if a number is over 50, and 'under 50' if a number is under 50\n",
    "# Iterate through your list and run the function you just wrote for each element of the list, printing what is returned from the function for each loop\n",
    "import random\n",
    "numbers = [random.randint(1, 100) for i in range(10)]\n",
    "#print(numbers)\n",
    "\n",
    "number = [1, 10, 50, 56, 50, 66]\n",
    "\n",
    "def fifty_identifier(number):\n",
    "    if number >= 50:\n",
    "        return '50 or over'\n",
    "    else:\n",
    "        return 'less than 50'\n",
    "    \n",
    "for i in numbers:\n",
    "    print(f\"{i} is {fifty_identifier(i)}\")\n"
   ]
  }
 ],
 "metadata": {
  "kernelspec": {
   "display_name": "Python 3",
   "language": "python",
   "name": "python3"
  },
  "language_info": {
   "codemirror_mode": {
    "name": "ipython",
    "version": 3
   },
   "file_extension": ".py",
   "mimetype": "text/x-python",
   "name": "python",
   "nbconvert_exporter": "python",
   "pygments_lexer": "ipython3",
   "version": "3.10.8"
  }
 },
 "nbformat": 4,
 "nbformat_minor": 2
}

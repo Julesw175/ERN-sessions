{
 "cells": [
  {
   "cell_type": "code",
   "execution_count": 1,
   "metadata": {},
   "outputs": [
    {
     "name": "stdout",
     "output_type": "stream",
     "text": [
      "1\n",
      "2\n",
      "3\n",
      "4\n",
      "5\n",
      "1\n",
      "2\n",
      "3\n",
      "4\n",
      "5\n",
      "[1, 2, 3, 4, 5]\n"
     ]
    }
   ],
   "source": [
    "numbers = [1, 2, 3, 4, 5]\n",
    "\n",
    "for i in numbers:\n",
    "    print(i)\n",
    "\n",
    "\n",
    "for i in range(1,6):\n",
    "    print(i)\n",
    "    \n",
    "print(numbers)"
   ]
  },
  {
   "cell_type": "code",
   "execution_count": 2,
   "metadata": {},
   "outputs": [
    {
     "name": "stdout",
     "output_type": "stream",
     "text": [
      "1\n",
      "2\n",
      "3\n",
      "4\n",
      "5\n",
      "[1, 2, 3, 4, 5]\n",
      "Homer is the Dad\n",
      "Marge is the Mum\n",
      "Maggie is the Baby\n"
     ]
    }
   ],
   "source": [
    "numbers = [1, 2, 3, 4, 5]\n",
    "\n",
    "for i in range(1,6):\n",
    "    print(i)\n",
    "    \n",
    "print(numbers)\n",
    "\n",
    "simpsons = {'Dad':'Homer',\n",
    "            'Mum':'Marge',\n",
    "            'Baby':'Maggie'}\n",
    "\n",
    "\n",
    "for family_member, name in simpsons.items():\n",
    "    print(f'{name} is the {family_member}')"
   ]
  },
  {
   "cell_type": "code",
   "execution_count": 3,
   "metadata": {},
   "outputs": [
    {
     "name": "stdout",
     "output_type": "stream",
     "text": [
      "['Barney Simpson', 'Ned Simpson', 'Krusty Simpson', 'Sideshow Bob Simpson']\n"
     ]
    }
   ],
   "source": [
    "side_characters = ['Barney', 'Ned', 'Krusty', 'Sideshow Bob']\n",
    "\n",
    "for i, name in enumerate(side_characters):\n",
    "    side_characters[i] = f'{name} Simpson'\n",
    "\n",
    "print(side_characters)\n",
    "\n"
   ]
  },
  {
   "cell_type": "code",
   "execution_count": 4,
   "metadata": {},
   "outputs": [
    {
     "data": {
      "text/html": [
       "<div>\n",
       "<style scoped>\n",
       "    .dataframe tbody tr th:only-of-type {\n",
       "        vertical-align: middle;\n",
       "    }\n",
       "\n",
       "    .dataframe tbody tr th {\n",
       "        vertical-align: top;\n",
       "    }\n",
       "\n",
       "    .dataframe thead th {\n",
       "        text-align: right;\n",
       "    }\n",
       "</style>\n",
       "<table border=\"1\" class=\"dataframe\">\n",
       "  <thead>\n",
       "    <tr style=\"text-align: right;\">\n",
       "      <th></th>\n",
       "      <th>col 1</th>\n",
       "      <th>col 2</th>\n",
       "      <th>originator</th>\n",
       "    </tr>\n",
       "  </thead>\n",
       "  <tbody>\n",
       "    <tr>\n",
       "      <th>0</th>\n",
       "      <td>foo</td>\n",
       "      <td>1</td>\n",
       "      <td>Dataframe 1</td>\n",
       "    </tr>\n",
       "    <tr>\n",
       "      <th>1</th>\n",
       "      <td>bar</td>\n",
       "      <td>2</td>\n",
       "      <td>Dataframe 1</td>\n",
       "    </tr>\n",
       "    <tr>\n",
       "      <th>2</th>\n",
       "      <td>baz</td>\n",
       "      <td>3</td>\n",
       "      <td>Dataframe 1</td>\n",
       "    </tr>\n",
       "  </tbody>\n",
       "</table>\n",
       "</div>"
      ],
      "text/plain": [
       "  col 1  col 2   originator\n",
       "0   foo      1  Dataframe 1\n",
       "1   bar      2  Dataframe 1\n",
       "2   baz      3  Dataframe 1"
      ]
     },
     "execution_count": 4,
     "metadata": {},
     "output_type": "execute_result"
    }
   ],
   "source": [
    "import pandas as pd \n",
    "\n",
    "df_1 = pd.DataFrame({'col 1':['foo', 'bar', 'baz'],\n",
    "                     'col 2':[1, 2, 3]})\n",
    "\n",
    "df_2 = pd.DataFrame({'col 1': ['Thing 1', 'Thing 2', 'Thing 3'],\n",
    "                     'col 2':['Green', 'Eggs', 'Ham']})\n",
    "\n",
    "df_dict = {'Dataframe 1':df_1,\n",
    "           'Dataframe 2':df_2}\n",
    "\n",
    "for k, v in df_dict.items():\n",
    "    v['originator'] = k\n",
    "\n",
    "df_dict['Dataframe 1']"
   ]
  },
  {
   "cell_type": "code",
   "execution_count": 33,
   "metadata": {},
   "outputs": [
    {
     "name": "stdout",
     "output_type": "stream",
     "text": [
      "  child_id  age_first_contact Gender nhs_numbers\n",
      "0   child1                  6      M        nhs1\n",
      "1   child2                 10      M        nhs2\n",
      "2   child3                 12      M        nhs3\n",
      "3   child4                 13      F        nhs4\n"
     ]
    }
   ],
   "source": [
    "child_identifiers = pd.DataFrame({'child_id':['child1', 'child2', 'child3', 'child4'],\n",
    "              'age_first_contact':[6, 10, 12, 13],\n",
    "              'Gender':['M', 'M', 'M', 'F']})\n",
    "\n",
    "\n",
    "nhs_nums = pd.DataFrame({'child_id':['child1', 'child2', 'child3', 'child4'],\n",
    "              'nhs_numbers':['nhs1', 'nhs2', 'nhs3', 'nhs4']})\n",
    "\n",
    "\n",
    "ident_nhs = child_identifiers.merge(nhs_nums, how='left', left_on='child_id', right_on='child_id')\n",
    "\n",
    "# ident_nhs = child_identifiers.merge(nhs_nums, how='left', on='child_id')\n",
    "\n",
    "print(ident_nhs)\n"
   ]
  },
  {
   "cell_type": "code",
   "execution_count": 37,
   "metadata": {},
   "outputs": [
    {
     "name": "stdout",
     "output_type": "stream",
     "text": [
      "  child_id  age_first_contact Gender nhs_numbers cp_start_date\n",
      "0   child1                  6      M        nhs1    01/01/2023\n",
      "1   child2                 10      M        nhs2    no cp plan\n",
      "2   child3                 12      M        nhs3    no cp plan\n",
      "3   child4                 13      F        nhs4   01/0/1/2000\n",
      "  child_id  age_first_contact Gender nhs_numbers cp_start_date\n",
      "0   child1                  6      M        nhs1    01/01/2023\n",
      "1   child4                 13      F        nhs4   01/0/1/2000\n"
     ]
    }
   ],
   "source": [
    "cp_plans = pd.DataFrame({'child_id':['child1', 'child4'],\n",
    "                        'cp_start_date':['01/01/2023', '01/0/1/2000']})\n",
    "\n",
    "df_left = ident_nhs.merge(cp_plans, how='left', on='child_id')\n",
    "df_left['cp_start_date'] = df_left['cp_start_date'].fillna('no cp plan')\n",
    "\n",
    "df_inner = ident_nhs.merge(cp_plans, how='inner', on='child_id')\n",
    "\n",
    "print(df_left)\n",
    "print(df_inner)\n",
    "\n",
    "\n",
    "\n"
   ]
  },
  {
   "cell_type": "code",
   "execution_count": 6,
   "metadata": {},
   "outputs": [
    {
     "data": {
      "text/plain": [
       "[1, 2, 3, 5, 8, 13, 21, 34, 55, 89]"
      ]
     },
     "execution_count": 6,
     "metadata": {},
     "output_type": "execute_result"
    }
   ],
   "source": [
    "x = 1\n",
    "numbers_list = []\n",
    "\n",
    "for i in list(range(10)):\n",
    "    numbers_list.append(x)\n",
    "    x = (x + numbers_list[i-1])\n",
    "\n",
    "numbers_list"
   ]
  },
  {
   "cell_type": "code",
   "execution_count": 14,
   "metadata": {},
   "outputs": [],
   "source": [
    "answers = []\n",
    "times_tables = {}\n",
    "for i in list(range(1,11)):\n",
    "    for j in list(range(1,11)):\n",
    "        answers.append(i * j)\n",
    "    times_tables[i] = answers\n",
    "    answers = []\n",
    "\n",
    "\n",
    "\n",
    "multiplication_table = pd.DataFrame(times_tables)\n",
    "multiplication_table.index += 1\n",
    "multiplication_table\n",
    "\n",
    "# Using the examples above, in this cell use a loop to populate a dicitonary that you'll then use to make a dataframe of all the \n",
    "# possible combinations of sandwiches\n",
    "# from the following two lists. Don't think too hard, it doesn't matter if combinations are repeated. \n",
    "# You'll want the following three lines of the code at the end to format the dataframe:\n",
    "# combinations_df = (pd.DataFrame(combinations)) \n",
    "# combinations_df['topping'] = toppings\n",
    "# combinations_df.set_index('topping')\n",
    "\n",
    "spreads = ['butter', 'jam', 'peanut butter']\n",
    "toppings = ['ham', 'cheese', 'sardines']\n",
    "filling = []\n",
    "combinations = {}"
   ]
  },
  {
   "cell_type": "code",
   "execution_count": 27,
   "metadata": {},
   "outputs": [
    {
     "data": {
      "text/html": [
       "<div>\n",
       "<style scoped>\n",
       "    .dataframe tbody tr th:only-of-type {\n",
       "        vertical-align: middle;\n",
       "    }\n",
       "\n",
       "    .dataframe tbody tr th {\n",
       "        vertical-align: top;\n",
       "    }\n",
       "\n",
       "    .dataframe thead th {\n",
       "        text-align: right;\n",
       "    }\n",
       "</style>\n",
       "<table border=\"1\" class=\"dataframe\">\n",
       "  <thead>\n",
       "    <tr style=\"text-align: right;\">\n",
       "      <th></th>\n",
       "      <th>topping</th>\n",
       "      <th>butter</th>\n",
       "      <th>jam</th>\n",
       "      <th>peanut butter</th>\n",
       "    </tr>\n",
       "  </thead>\n",
       "  <tbody>\n",
       "    <tr>\n",
       "      <th>0</th>\n",
       "      <td>ham</td>\n",
       "      <td>butter ham</td>\n",
       "      <td>jam ham</td>\n",
       "      <td>peanut butter ham</td>\n",
       "    </tr>\n",
       "    <tr>\n",
       "      <th>1</th>\n",
       "      <td>cheese</td>\n",
       "      <td>butter cheese</td>\n",
       "      <td>jam cheese</td>\n",
       "      <td>peanut butter cheese</td>\n",
       "    </tr>\n",
       "    <tr>\n",
       "      <th>2</th>\n",
       "      <td>sardines</td>\n",
       "      <td>butter sardines</td>\n",
       "      <td>jam sardines</td>\n",
       "      <td>peanut butter sardines</td>\n",
       "    </tr>\n",
       "  </tbody>\n",
       "</table>\n",
       "</div>"
      ],
      "text/plain": [
       "    topping           butter           jam           peanut butter\n",
       "0       ham       butter ham       jam ham       peanut butter ham\n",
       "1    cheese    butter cheese    jam cheese    peanut butter cheese\n",
       "2  sardines  butter sardines  jam sardines  peanut butter sardines"
      ]
     },
     "execution_count": 27,
     "metadata": {},
     "output_type": "execute_result"
    }
   ],
   "source": [
    "mixins = []\n",
    "sandwiches = {}\n",
    "\n",
    "for spread in spreads:\n",
    "    for topping in toppings:\n",
    "        mixins.append(f'{spread} {topping}')\n",
    "    sandwiches[spread] = mixins\n",
    "    mixins = []   \n",
    "\n",
    "combinations_df = pd.DataFrame(sandwiches)\n",
    "combinations_df['topping'] = toppings\n",
    "# combinations_df.set_index('topping', inplace=True)\n",
    "\n",
    "\n",
    "\n",
    "combinations_df = combinations_df[['topping', 'butter', 'jam', 'peanut butter']]\n",
    "combinations_df"
   ]
  }
 ],
 "metadata": {
  "kernelspec": {
   "display_name": "Python 3",
   "language": "python",
   "name": "python3"
  },
  "language_info": {
   "codemirror_mode": {
    "name": "ipython",
    "version": 3
   },
   "file_extension": ".py",
   "mimetype": "text/x-python",
   "name": "python",
   "nbconvert_exporter": "python",
   "pygments_lexer": "ipython3",
   "version": "3.10.8"
  }
 },
 "nbformat": 4,
 "nbformat_minor": 2
}

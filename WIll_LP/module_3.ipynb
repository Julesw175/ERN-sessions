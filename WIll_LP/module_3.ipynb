{
 "cells": [
  {
   "cell_type": "code",
   "execution_count": 14,
   "metadata": {},
   "outputs": [
    {
     "data": {
      "text/plain": [
       "65"
      ]
     },
     "execution_count": 14,
     "metadata": {},
     "output_type": "execute_result"
    }
   ],
   "source": [
    "# DRY\n",
    "# Don't Repeat Yourself \n",
    "# Functions\n",
    "\n",
    "# for something in something:\n",
    "#     do stuff\n",
    "#     do more stuff\n",
    "\n",
    "# def read_csv(filepath, other_arguments):\n",
    "#     code to read a csv from filepath\n",
    "\n",
    "def sum_function(x, y):\n",
    "    total = x + y\n",
    "\n",
    "    return total\n",
    "\n",
    "\n",
    "answer = sum_function(5, 60)\n",
    "\n",
    "# product = *\n"
   ]
  },
  {
   "cell_type": "code",
   "execution_count": 17,
   "metadata": {},
   "outputs": [
    {
     "name": "stdout",
     "output_type": "stream",
     "text": [
      "25\n"
     ]
    }
   ],
   "source": [
    "def product_function(x, y):\n",
    "    '''Finds the product of two arguments, returns the answer.\n",
    "\n",
    "    Args:\n",
    "        x, y: Int or Float, numbers for which the product is found.\n",
    "\n",
    "    Returns:\n",
    "        product: Int or Float, the product of x and y.\n",
    "    '''\n",
    "\n",
    "    product = x * y\n",
    "    return product\n",
    "\n",
    "ten_times_ten = product_function(10, 10)\n",
    "five_times_five = product_function(5, 5)\n",
    "print(five_times_five)"
   ]
  },
  {
   "cell_type": "code",
   "execution_count": 24,
   "metadata": {},
   "outputs": [
    {
     "name": "stdout",
     "output_type": "stream",
     "text": [
      "15 50\n"
     ]
    }
   ],
   "source": [
    "def sum_prod(x, y):\n",
    "    '''Finds the sum and product of two numbers, returns the sum\n",
    "    and product.\n",
    "\n",
    "    Args:\n",
    "        x, y: Int or Float, numbers for which to find the sum and product.\n",
    "\n",
    "    Returns:\n",
    "        summation: Int or Float, sum of x and y.\n",
    "        product: Int of Float, product of x and y.\n",
    "    '''\n",
    "    \n",
    "    summation = x + y\n",
    "    product = x * y\n",
    "    return summation, product\n",
    "\n",
    "summation_5_10, product_5_10 = sum_prod(5, 10)\n",
    "print(summation_5_10, product_5_10)\n",
    "\n",
    "# minus, divide\n",
    "\n",
    "def minus_divide(x, y):\n",
    "    minus = x - y\n",
    "    divide = x / y\n",
    "    return minus, divide\n"
   ]
  }
 ],
 "metadata": {
  "kernelspec": {
   "display_name": "Python 3",
   "language": "python",
   "name": "python3"
  },
  "language_info": {
   "codemirror_mode": {
    "name": "ipython",
    "version": 3
   },
   "file_extension": ".py",
   "mimetype": "text/x-python",
   "name": "python",
   "nbconvert_exporter": "python",
   "pygments_lexer": "ipython3",
   "version": "3.10.8"
  }
 },
 "nbformat": 4,
 "nbformat_minor": 2
}

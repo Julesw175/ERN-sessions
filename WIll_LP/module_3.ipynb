{
 "cells": [
  {
   "cell_type": "code",
   "execution_count": 14,
   "metadata": {},
   "outputs": [
    {
     "data": {
      "text/plain": [
       "65"
      ]
     },
     "execution_count": 14,
     "metadata": {},
     "output_type": "execute_result"
    }
   ],
   "source": [
    "# DRY\n",
    "# Don't Repeat Yourself \n",
    "# Functions\n",
    "\n",
    "# for something in something:\n",
    "#     do stuff\n",
    "#     do more stuff\n",
    "\n",
    "# def read_csv(filepath, other_arguments):\n",
    "#     code to read a csv from filepath\n",
    "\n",
    "def sum_function(x, y):\n",
    "    total = x + y\n",
    "\n",
    "    return total\n",
    "\n",
    "\n",
    "answer = sum_function(5, 60)\n",
    "\n",
    "# product = *\n"
   ]
  },
  {
   "cell_type": "code",
   "execution_count": 17,
   "metadata": {},
   "outputs": [
    {
     "name": "stdout",
     "output_type": "stream",
     "text": [
      "25\n"
     ]
    }
   ],
   "source": [
    "def product_function(x, y):\n",
    "    '''Finds the product of two arguments, returns the answer.\n",
    "\n",
    "    Args:\n",
    "        x, y: Int or Float, numbers for which the product is found.\n",
    "\n",
    "    Returns:\n",
    "        product: Int or Float, the product of x and y.\n",
    "    '''\n",
    "\n",
    "    product = x * y\n",
    "    return product\n",
    "\n",
    "ten_times_ten = product_function(10, 10)\n",
    "five_times_five = product_function(5, 5)\n",
    "print(five_times_five)"
   ]
  },
  {
   "cell_type": "code",
   "execution_count": 24,
   "metadata": {},
   "outputs": [
    {
     "name": "stdout",
     "output_type": "stream",
     "text": [
      "15 50\n"
     ]
    }
   ],
   "source": [
    "def sum_prod(x, y):\n",
    "    '''Finds the sum and product of two numbers, returns the sum\n",
    "    and product.\n",
    "\n",
    "    Args:\n",
    "        x, y: Int or Float, numbers for which to find the sum and product.\n",
    "\n",
    "    Returns:\n",
    "        summation: Int or Float, sum of x and y.\n",
    "        product: Int of Float, product of x and y.\n",
    "    '''\n",
    "    \n",
    "    summation = x + y\n",
    "    product = x * y\n",
    "    return summation, product\n",
    "\n",
    "summation_5_10, product_5_10 = sum_prod(5, 10)\n",
    "print(summation_5_10, product_5_10)\n",
    "\n",
    "# minus, divide\n",
    "\n",
    "def minus_divide(x, y):\n",
    "    minus = x - y\n",
    "    divide = x / y\n",
    "    return minus, divide\n"
   ]
  },
  {
   "cell_type": "code",
   "execution_count": 9,
   "metadata": {},
   "outputs": [
    {
     "name": "stdout",
     "output_type": "stream",
     "text": [
      "(10, 0)\n"
     ]
    }
   ],
   "source": [
    "def addition(x, y):\n",
    "    return x + y\n",
    "\n",
    "def subtraction(x, y):\n",
    "    return x - y\n",
    "\n",
    "def add_sub(x, y):\n",
    "    add = addition(x, y)\n",
    "    sub = subtraction(x, y)\n",
    "    return add, sub\n",
    "\n",
    "print(add_sub(5, 5))"
   ]
  },
  {
   "cell_type": "code",
   "execution_count": 15,
   "metadata": {},
   "outputs": [
    {
     "name": "stdout",
     "output_type": "stream",
     "text": [
      "5.0\n"
     ]
    }
   ],
   "source": [
    "def divider(x, y):\n",
    "    return x / y\n",
    "\n",
    "def timser(x, y):\n",
    "    return x * y\n",
    "\n",
    "def div_times(x, y):\n",
    "    return divider(x, y), timser(x, y)\n",
    "\n",
    "div_5_5, times_5_5 = div_times(5, 1)\n",
    "print(div_5_5)"
   ]
  },
  {
   "cell_type": "code",
   "execution_count": 30,
   "metadata": {},
   "outputs": [
    {
     "name": "stdout",
     "output_type": "stream",
     "text": [
      "10\n"
     ]
    }
   ],
   "source": [
    "def addition_xy(x, y):\n",
    "    if ((type(x) == float) | (type(x) == int)) & ((type(y) == float) | (type(y) ==  int)):\n",
    "        return x + y\n",
    "    elif (type(x) == str) | (type(y) == str):\n",
    "        if (type(x) == str) & (type(y) == str):\n",
    "            raise TypeError('x and y are strings, expected floats or ints')\n",
    "        if type(x) == str:\n",
    "            raise TypeError(\"x was a string, expected float or int\")\n",
    "        if type(y) == str:\n",
    "            raise TypeError(\"y was a string, expected a float or int\")\n",
    "    else:\n",
    "        raise TypeError('x and y should both be floats or ints')\n",
    "    \n",
    "print(addition_xy(5, 5))"
   ]
  },
  {
   "cell_type": "code",
   "execution_count": 33,
   "metadata": {},
   "outputs": [
    {
     "ename": "ValueError",
     "evalue": "expected input is apple, got pear",
     "output_type": "error",
     "traceback": [
      "\u001b[0;31m---------------------------------------------------------------------------\u001b[0m",
      "\u001b[0;31mValueError\u001b[0m                                Traceback (most recent call last)",
      "Cell \u001b[0;32mIn[33], line 7\u001b[0m\n\u001b[1;32m      4\u001b[0m     \u001b[38;5;28;01melse\u001b[39;00m:\n\u001b[1;32m      5\u001b[0m         \u001b[38;5;28;01mraise\u001b[39;00m \u001b[38;5;167;01mValueError\u001b[39;00m(\u001b[38;5;124mf\u001b[39m\u001b[38;5;124m'\u001b[39m\u001b[38;5;124mexpected input is apple, got \u001b[39m\u001b[38;5;132;01m{\u001b[39;00mthing\u001b[38;5;132;01m}\u001b[39;00m\u001b[38;5;124m'\u001b[39m)\n\u001b[0;32m----> 7\u001b[0m \u001b[43mapple_or_error\u001b[49m\u001b[43m(\u001b[49m\u001b[38;5;124;43m'\u001b[39;49m\u001b[38;5;124;43mpear\u001b[39;49m\u001b[38;5;124;43m'\u001b[39;49m\u001b[43m)\u001b[49m\n",
      "Cell \u001b[0;32mIn[33], line 5\u001b[0m, in \u001b[0;36mapple_or_error\u001b[0;34m(thing)\u001b[0m\n\u001b[1;32m      3\u001b[0m     \u001b[38;5;28mprint\u001b[39m(\u001b[38;5;124m\"\u001b[39m\u001b[38;5;124mit\u001b[39m\u001b[38;5;124m'\u001b[39m\u001b[38;5;124ms an apple\u001b[39m\u001b[38;5;124m\"\u001b[39m)\n\u001b[1;32m      4\u001b[0m \u001b[38;5;28;01melse\u001b[39;00m:\n\u001b[0;32m----> 5\u001b[0m     \u001b[38;5;28;01mraise\u001b[39;00m \u001b[38;5;167;01mValueError\u001b[39;00m(\u001b[38;5;124mf\u001b[39m\u001b[38;5;124m'\u001b[39m\u001b[38;5;124mexpected input is apple, got \u001b[39m\u001b[38;5;132;01m{\u001b[39;00mthing\u001b[38;5;132;01m}\u001b[39;00m\u001b[38;5;124m'\u001b[39m)\n",
      "\u001b[0;31mValueError\u001b[0m: expected input is apple, got pear"
     ]
    }
   ],
   "source": [
    "def apple_or_error(thing):\n",
    "    if thing == 'apple': \n",
    "        print(\"it's an apple\")\n",
    "    else:\n",
    "        raise ValueError(f'expected input is apple, got {thing}')\n",
    "    \n",
    "apple_or_error('pear')"
   ]
  }
 ],
 "metadata": {
  "kernelspec": {
   "display_name": "Python 3",
   "language": "python",
   "name": "python3"
  },
  "language_info": {
   "codemirror_mode": {
    "name": "ipython",
    "version": 3
   },
   "file_extension": ".py",
   "mimetype": "text/x-python",
   "name": "python",
   "nbconvert_exporter": "python",
   "pygments_lexer": "ipython3",
   "version": "3.10.8"
  }
 },
 "nbformat": 4,
 "nbformat_minor": 2
}

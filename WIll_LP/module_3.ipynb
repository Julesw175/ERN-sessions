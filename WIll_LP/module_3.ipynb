{
 "cells": [
  {
   "cell_type": "code",
   "execution_count": 1,
   "metadata": {},
   "outputs": [],
   "source": [
    "# DRY\n",
    "# Don't Repeat Yourself \n",
    "# Functions\n",
    "\n",
    "# for something in something:\n",
    "#     do stuff\n",
    "#     do more stuff\n",
    "\n",
    "# def read_csv(filepath, other_arguments):\n",
    "#     code to read a csv from filepath\n",
    "\n",
    "def sum_function(x, y):\n",
    "    total = x + y\n",
    "\n",
    "    return total\n",
    "\n",
    "\n",
    "answer = sum_function(5, 60)\n",
    "\n",
    "# product = *\n"
   ]
  },
  {
   "cell_type": "code",
   "execution_count": 2,
   "metadata": {},
   "outputs": [
    {
     "name": "stdout",
     "output_type": "stream",
     "text": [
      "25\n"
     ]
    }
   ],
   "source": [
    "def product_function(x, y):\n",
    "    '''Finds the product of two arguments, returns the answer.\n",
    "\n",
    "    Args:\n",
    "        x, y: Int or Float, numbers for which the product is found.\n",
    "\n",
    "    Returns:\n",
    "        product: Int or Float, the product of x and y.\n",
    "    '''\n",
    "\n",
    "    product = x * y\n",
    "    return product\n",
    "\n",
    "ten_times_ten = product_function(10, 10)\n",
    "five_times_five = product_function(5, 5)\n",
    "print(five_times_five)"
   ]
  },
  {
   "cell_type": "code",
   "execution_count": 3,
   "metadata": {},
   "outputs": [
    {
     "name": "stdout",
     "output_type": "stream",
     "text": [
      "15 50\n"
     ]
    }
   ],
   "source": [
    "def sum_prod(x, y):\n",
    "    '''Finds the sum and product of two numbers, returns the sum\n",
    "    and product.\n",
    "\n",
    "    Args:\n",
    "        x, y: Int or Float, numbers for which to find the sum and product.\n",
    "\n",
    "    Returns:\n",
    "        summation: Int or Float, sum of x and y.\n",
    "        product: Int of Float, product of x and y.\n",
    "    '''\n",
    "    \n",
    "    summation = x + y\n",
    "    product = x * y\n",
    "    return summation, product\n",
    "\n",
    "summation_5_10, product_5_10 = sum_prod(5, 10)\n",
    "print(summation_5_10, product_5_10)\n",
    "\n",
    "# minus, divide\n",
    "\n",
    "def minus_divide(x, y):\n",
    "    minus = x - y\n",
    "    divide = x / y\n",
    "    return minus, divide\n"
   ]
  },
  {
   "cell_type": "code",
   "execution_count": 4,
   "metadata": {},
   "outputs": [
    {
     "name": "stdout",
     "output_type": "stream",
     "text": [
      "(10, 0)\n"
     ]
    }
   ],
   "source": [
    "def addition(x, y):\n",
    "    return x + y\n",
    "\n",
    "def subtraction(x, y):\n",
    "    return x - y\n",
    "\n",
    "def add_sub(x, y):\n",
    "    add = addition(x, y)\n",
    "    sub = subtraction(x, y)\n",
    "    return add, sub\n",
    "\n",
    "print(add_sub(5, 5))"
   ]
  },
  {
   "cell_type": "code",
   "execution_count": 5,
   "metadata": {},
   "outputs": [
    {
     "name": "stdout",
     "output_type": "stream",
     "text": [
      "5.0\n"
     ]
    }
   ],
   "source": [
    "def divider(x, y):\n",
    "    return x / y\n",
    "\n",
    "def timser(x, y):\n",
    "    return x * y\n",
    "\n",
    "def div_times(x, y):\n",
    "    return divider(x, y), timser(x, y)\n",
    "\n",
    "div_5_5, times_5_5 = div_times(5, 1)\n",
    "print(div_5_5)"
   ]
  },
  {
   "cell_type": "code",
   "execution_count": 6,
   "metadata": {},
   "outputs": [
    {
     "name": "stdout",
     "output_type": "stream",
     "text": [
      "10\n"
     ]
    }
   ],
   "source": [
    "def addition_xy(x, y):\n",
    "    if ((type(x) == float) | (type(x) == int)) & ((type(y) == float) | (type(y) ==  int)):\n",
    "        return x + y\n",
    "    elif (type(x) == str) | (type(y) == str):\n",
    "        if (type(x) == str) & (type(y) == str):\n",
    "            raise TypeError('x and y are strings, expected floats or ints')\n",
    "        if type(x) == str:\n",
    "            raise TypeError(\"x was a string, expected float or int\")\n",
    "        if type(y) == str:\n",
    "            raise TypeError(\"y was a string, expected a float or int\")\n",
    "    else:\n",
    "        raise TypeError('x and y should both be floats or ints')\n",
    "    \n",
    "print(addition_xy(5, 5))"
   ]
  },
  {
   "cell_type": "code",
   "execution_count": 7,
   "metadata": {},
   "outputs": [
    {
     "name": "stdout",
     "output_type": "stream",
     "text": [
      "it's an apple\n"
     ]
    }
   ],
   "source": [
    "def apple_or_error(thing):\n",
    "    if thing == 'apple': \n",
    "        print(\"it's an apple\")\n",
    "    else:\n",
    "        raise ValueError(f'expected input is apple, got {thing}')\n",
    "    \n",
    "apple_or_error('apple')"
   ]
  },
  {
   "cell_type": "code",
   "execution_count": 14,
   "metadata": {},
   "outputs": [
    {
     "name": "stdout",
     "output_type": "stream",
     "text": [
      "over 5\n"
     ]
    }
   ],
   "source": [
    "# Write a function that takes in a string, checks its length, and returns\n",
    "# \"Over 5\" if its length is over 5 characters, and \"5 or under\" if its length is 5 or under, \n",
    "# also include an error of the correct kind that returns a useful message if the value input to the function is not a string.\n",
    "\n",
    "\n",
    "def str_length_checker(word):\n",
    "    if type(word) == str:\n",
    "        if len(word) > 5:\n",
    "            return_variable = \"over 5\"\n",
    "        elif len(word) < 5:\n",
    "            return_variable = \"less than 5\"\n",
    "        else:\n",
    "            return_variable = \"5!\"\n",
    "        return return_variable\n",
    "    else:\n",
    "        raise TypeError(f'Str_length_function expects str, got {type(word)}')\n",
    "\n",
    "print(str_length_checker(\"My string\"))"
   ]
  },
  {
   "cell_type": "code",
   "execution_count": 20,
   "metadata": {},
   "outputs": [
    {
     "name": "stdout",
     "output_type": "stream",
     "text": [
      "15\n"
     ]
    }
   ],
   "source": [
    "def only_string(bad_variable):\n",
    "    if type(bad_variable) == str:\n",
    "        pass\n",
    "    else:\n",
    "        raise TypeError(f'Expected str, got {type(bad_variable)}')\n",
    "    \n",
    "only_string(\"5\")\n",
    "\n",
    "\n",
    "def add_two_number(x, y):\n",
    "    x_plus_y = x + y\n",
    "    return x_plus_y\n",
    "\n",
    "print(add_two_number(5, 10))\n",
    "\n"
   ]
  },
  {
   "cell_type": "code",
   "execution_count": 29,
   "metadata": {},
   "outputs": [
    {
     "name": "stdout",
     "output_type": "stream",
     "text": [
      "over 5\n",
      "over 10\n"
     ]
    }
   ],
   "source": [
    "# Write a function that takes 2 variables and adds them\n",
    "# It should return over 10 if the sum is over 10, 10 if the sum is 10, and under 10 if it's under\n",
    "# CHeck that the input variables are BOTH of the cortrect type, and raise a suitable error message\n",
    "\n",
    "def str_length_checker(word):\n",
    "    if type(word) == str:\n",
    "        if len(word) > 5:\n",
    "            return_variable = \"over 5\"\n",
    "        elif len(word) < 5:\n",
    "            return_variable = \"less than 5\"\n",
    "        else:\n",
    "            return_variable = \"5!\"\n",
    "        return return_variable\n",
    "    else:\n",
    "        raise TypeError(f'Str_length_function expects str, got {type(word)}')\n",
    "print(str_length_checker(\"My string\"))\n",
    "\n",
    "def over_10_checker(number_1, number_2):\n",
    "    if ((type(number_1) == int) | (type(number_1) == float)) & (\n",
    "        (type(number_2) == int) | (type(number_2) == float)):\n",
    "        number_1_2 = number_1 + number_2\n",
    "        if number_1_2 > 10:\n",
    "            return_variable = \"over 10\"\n",
    "        elif number_1_2 < 10:\n",
    "            return_variable = \"less than 10\"\n",
    "        else:\n",
    "            return_variable = \"must be 10\"\n",
    "        return return_variable\n",
    "    else:\n",
    "        raise TypeError(f\"Expected int or float, got value 1: {type(number_1)}, and value 2: {type(number_2)}\")\n",
    "over_10_maybe = over_10_checker(10, 5)\n",
    "print(over_10_maybe)\n"
   ]
  },
  {
   "cell_type": "code",
   "execution_count": 33,
   "metadata": {},
   "outputs": [
    {
     "name": "stdout",
     "output_type": "stream",
     "text": [
      "Error\n"
     ]
    }
   ],
   "source": [
    "def add_things(x, y):\n",
    "    try:\n",
    "        return x + y\n",
    "    except:\n",
    "        return \"Error\"\n",
    "\n",
    "print(add_things(\"word 1\", 5))"
   ]
  },
  {
   "cell_type": "code",
   "execution_count": 36,
   "metadata": {},
   "outputs": [
    {
     "name": "stdout",
     "output_type": "stream",
     "text": [
      "25\n",
      "25\n",
      "2.0\n"
     ]
    }
   ],
   "source": [
    "square_function = (lambda x: x*x)\n",
    "square = square_function(5)\n",
    "print(square)\n",
    "\n",
    "def square_x(x):\n",
    "    return x*x\n",
    "\n",
    "print(square_x(5))\n",
    "\n",
    "divided = (lambda x, y: x / y)(10, 5)\n",
    "print(divided)"
   ]
  },
  {
   "cell_type": "code",
   "execution_count": 40,
   "metadata": {},
   "outputs": [
    {
     "name": "stdout",
     "output_type": "stream",
     "text": [
      "[0, 2, 4, 6, 8, 10, 12, 14, 16, 18]\n",
      "[0, 2, 4, 6, 8, 10, 12, 14, 16, 18]\n",
      "[0, 1, 4, 9, 16, 25, 36, 49, 64, 81, 100]\n"
     ]
    }
   ],
   "source": [
    "# lambda function that adds two numbers\n",
    "# list comprehension that finds square roots of numbers between 1 - 10\n",
    "\n",
    "square_function = (lambda x: x*x)\n",
    "square = square_function(5)\n",
    "print(square)\n",
    "\n",
    "def square_x(x):\n",
    "    return x*x\n",
    "\n",
    "print(square_x(5))\n",
    "\n",
    "divided = (lambda x, y: x / y)(10, 5)\n",
    "print(divided)\n",
    "\n",
    "list_of_numbers = list(range(20))\n",
    "\n",
    "evens = [x for x in list_of_numbers if x %2 == 0]\n",
    "print(evens)\n",
    "\n",
    "list_of_evens = []\n",
    "for x in list_of_numbers:\n",
    "    if x %2 == 0:\n",
    "        list_of_evens.append(x)\n",
    "print(list_of_evens)\n",
    "\n",
    "squares = [x*x for x in range(11)]\n",
    "print(squares)"
   ]
  },
  {
   "cell_type": "code",
   "execution_count": 45,
   "metadata": {},
   "outputs": [
    {
     "name": "stdout",
     "output_type": "stream",
     "text": [
      "3\n",
      "[0.0, 1.0, 1.4142135623730951, 1.7320508075688772, 2.0, 2.23606797749979, 2.449489742783178, 2.6457513110645907, 2.8284271247461903, 3.0, 3.1622776601683795]\n"
     ]
    }
   ],
   "source": [
    "from math import sqrt\n",
    "\n",
    "add_2_numbs = (lambda x, y: x + y)\n",
    "print(add_2_numbs(1, 2))\n",
    "\n",
    "square_roots = [sqrt(x) for x in range(11)]\n",
    "print(square_roots)"
   ]
  },
  {
   "cell_type": "code",
   "execution_count": 52,
   "metadata": {},
   "outputs": [
    {
     "name": "stdout",
     "output_type": "stream",
     "text": [
      "   Percentage change (monthly) All property types Relative price change\n",
      "0                                            3.94               Higher \n",
      "1                                            3.94               Higher \n",
      "2                                            3.94               Higher \n",
      "3                                            4.00               Higher \n",
      "4                                            4.00               Higher \n",
      "5                                            4.00               Higher \n",
      "6                                            4.05               Higher \n",
      "7                                            4.05               Higher \n",
      "8                                            4.05               Higher \n",
      "9                                            0.19                 Lower\n"
     ]
    }
   ],
   "source": [
    "import pandas as pd\n",
    "\n",
    "houses_df = pd.read_csv('https://raw.githubusercontent.com/data-to-insight/D2I-Jupyter-Notebook-Tools/main/ERN-worksheets/data/1980%202023%20average%20house%20prices.csv')\n",
    "\n",
    "def change_checker(x):\n",
    "    av_change = houses_df['Percentage change (monthly) All property types'].mean()\n",
    "    if x > av_change:\n",
    "        return \"Higher \"\n",
    "    elif x == av_change:\n",
    "        return \"Equal\"\n",
    "    else:\n",
    "        return \"Lower\"\n",
    "    \n",
    "houses_df['Relative price change'] = houses_df['Percentage change (monthly) All property types'].apply(change_checker)\n",
    "\n",
    "print(houses_df[['Percentage change (monthly) All property types', 'Relative price change']].head(10))"
   ]
  }
 ],
 "metadata": {
  "kernelspec": {
   "display_name": "Python 3",
   "language": "python",
   "name": "python3"
  },
  "language_info": {
   "codemirror_mode": {
    "name": "ipython",
    "version": 3
   },
   "file_extension": ".py",
   "mimetype": "text/x-python",
   "name": "python",
   "nbconvert_exporter": "python",
   "pygments_lexer": "ipython3",
   "version": "3.10.8"
  }
 },
 "nbformat": 4,
 "nbformat_minor": 2
}

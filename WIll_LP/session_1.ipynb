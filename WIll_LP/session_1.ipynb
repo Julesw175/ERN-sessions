{
 "cells": [
  {
   "cell_type": "code",
   "execution_count": 3,
   "metadata": {},
   "outputs": [
    {
     "name": "stdout",
     "output_type": "stream",
     "text": [
      "I'm will\n"
     ]
    }
   ],
   "source": [
    "phrase = \"I'm will\" # String\n",
    "print(phrase)"
   ]
  },
  {
   "cell_type": "code",
   "execution_count": 6,
   "metadata": {},
   "outputs": [
    {
     "name": "stdout",
     "output_type": "stream",
     "text": [
      "15\n",
      "2.0\n",
      "<class 'float'>\n"
     ]
    }
   ],
   "source": [
    "x = 5 # Integer\n",
    "y = 10\n",
    "z = x + y # plus\n",
    "\n",
    "z = y / x # divide\n",
    "\n",
    "\n",
    "\n",
    "\n",
    "j = type(z)\n",
    "print(j)\n",
    "\n"
   ]
  },
  {
   "cell_type": "code",
   "execution_count": 7,
   "metadata": {},
   "outputs": [
    {
     "name": "stdout",
     "output_type": "stream",
     "text": [
      "12.56\n"
     ]
    }
   ],
   "source": [
    "# In this cell, initialise two numeric variables and find their product using the * \n",
    "# operator for multiplication and assign this to a new variable.\n",
    "# Print the new variable\n",
    "\n",
    "# The radius of a circle is 2, assume that Pi is 3.14. Assign both of these to suitably named \n",
    "# variables and find the area of the circle.\n",
    "# We can find the area of a circle by finding the product of Pi with the radius squared.\n",
    "# You probably don't know how to square a number in Python yet, so use Google to work it out!\n",
    "\n",
    "r = 2\n",
    "pi = 3.14\n",
    "area = pi * (r**2)\n",
    "print(area)"
   ]
  },
  {
   "cell_type": "code",
   "execution_count": 16,
   "metadata": {},
   "outputs": [
    {
     "name": "stdout",
     "output_type": "stream",
     "text": [
      "My name Will LP is and my hobby is running\n"
     ]
    }
   ],
   "source": [
    "name = 'Will LP'\n",
    "hobby = 'running'\n",
    "long_string = 'My name is ' + name + ' and my hobby is ' + hobby\n",
    "# print(long_string)\n",
    "\n",
    "phrase = f\"My name {name} is and my hobby is {hobby}\"\n",
    "print(phrase)\n"
   ]
  },
  {
   "cell_type": "code",
   "execution_count": null,
   "metadata": {},
   "outputs": [],
   "source": [
    "# In this cell, initialise two appropriately named variables, one for your name and one for your job title.\n",
    "# Next, combine them in an f string, assigned to a different, appropriately named variable.\n",
    "# Finally, print the f string.\n"
   ]
  },
  {
   "cell_type": "code",
   "execution_count": 23,
   "metadata": {},
   "outputs": [
    {
     "name": "stdout",
     "output_type": "stream",
     "text": [
      "here_is_a_file\n"
     ]
    }
   ],
   "source": [
    "#print(len(phrase))\n",
    "\n",
    "string_slice = phrase[3:15]\n",
    "# print(string_slice)\n",
    "\n",
    "filename = 'here_is_a_file.csv'\n",
    "filename = filename[:-4]\n",
    "print(filename)"
   ]
  },
  {
   "cell_type": "code",
   "execution_count": 28,
   "metadata": {},
   "outputs": [
    {
     "name": "stdout",
     "output_type": "stream",
     "text": [
      "dog cat racoon\n"
     ]
    }
   ],
   "source": [
    "# In this cell I've initialised a variable 'slice_this_phrase'. \n",
    "# On the next three lines, print the words dog, cat, and racoon seprately using a slice \n",
    "# from the beginning, a slice giving a range in the middle, and a slice from the end.\n",
    "# This means one slice will involve [:n], one will involve [n1:n2], and one will involve [-n:].\n",
    "\n",
    "slice_this_phrase = 'dog cat racoon'\n",
    "\n",
    "animal_1 = slice_this_phrase[:3]\n",
    "animal_2 = slice_this_phrase[4:7]\n",
    "animal_3 = slice_this_phrase[-6:]\n",
    "\n",
    "print(f'{animal_1} {animal_2}')"
   ]
  },
  {
   "cell_type": "code",
   "execution_count": 30,
   "metadata": {},
   "outputs": [
    {
     "name": "stdout",
     "output_type": "stream",
     "text": [
      "[1, 2, 3, 5, 10]\n"
     ]
    }
   ],
   "source": [
    "list_1 = [1, 2, 3, x, y]\n",
    "print(list_1)"
   ]
  },
  {
   "cell_type": "code",
   "execution_count": 35,
   "metadata": {},
   "outputs": [
    {
     "name": "stdout",
     "output_type": "stream",
     "text": [
      "My colours are: ['red', 'blue', 'green', 'teal']\n"
     ]
    }
   ],
   "source": [
    "favourite_colour = 'teal'\n",
    "colours_list = ['red', 'blue', 'green']\n",
    "colours_list.append(favourite_colour)\n",
    "\n",
    "\n",
    "print(f'My colours are: {colours_list}')\n"
   ]
  }
 ],
 "metadata": {
  "kernelspec": {
   "display_name": "Python 3",
   "language": "python",
   "name": "python3"
  },
  "language_info": {
   "codemirror_mode": {
    "name": "ipython",
    "version": 3
   },
   "file_extension": ".py",
   "mimetype": "text/x-python",
   "name": "python",
   "nbconvert_exporter": "python",
   "pygments_lexer": "ipython3",
   "version": "3.10.8"
  }
 },
 "nbformat": 4,
 "nbformat_minor": 2
}

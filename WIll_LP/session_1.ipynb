{
 "cells": [
  {
   "cell_type": "code",
   "execution_count": 62,
   "metadata": {},
   "outputs": [
    {
     "name": "stdout",
     "output_type": "stream",
     "text": [
      "I'm will\n"
     ]
    }
   ],
   "source": [
    "phrase = \"I'm will\" # String\n",
    "print(phrase)"
   ]
  },
  {
   "cell_type": "code",
   "execution_count": 63,
   "metadata": {},
   "outputs": [
    {
     "name": "stdout",
     "output_type": "stream",
     "text": [
      "<class 'float'>\n"
     ]
    }
   ],
   "source": [
    "x = 5 # Integer\n",
    "y = 10\n",
    "z = x + y # plus\n",
    "\n",
    "z = y / x # divide\n",
    "\n",
    "\n",
    "\n",
    "\n",
    "j = type(z)\n",
    "print(j)\n",
    "\n"
   ]
  },
  {
   "cell_type": "code",
   "execution_count": 64,
   "metadata": {},
   "outputs": [
    {
     "name": "stdout",
     "output_type": "stream",
     "text": [
      "12.56\n"
     ]
    }
   ],
   "source": [
    "# In this cell, initialise two numeric variables and find their product using the * \n",
    "# operator for multiplication and assign this to a new variable.\n",
    "# Print the new variable\n",
    "\n",
    "# The radius of a circle is 2, assume that Pi is 3.14. Assign both of these to suitably named \n",
    "# variables and find the area of the circle.\n",
    "# We can find the area of a circle by finding the product of Pi with the radius squared.\n",
    "# You probably don't know how to square a number in Python yet, so use Google to work it out!\n",
    "\n",
    "r = 2\n",
    "pi = 3.14\n",
    "area = pi * (r**2)\n",
    "print(area)"
   ]
  },
  {
   "cell_type": "code",
   "execution_count": 65,
   "metadata": {},
   "outputs": [
    {
     "name": "stdout",
     "output_type": "stream",
     "text": [
      "My name Will LP is and my hobby is running\n"
     ]
    }
   ],
   "source": [
    "name = 'Will LP'\n",
    "hobby = 'running'\n",
    "long_string = 'My name is ' + name + ' and my hobby is ' + hobby\n",
    "# print(long_string)\n",
    "\n",
    "phrase = f\"My name {name} is and my hobby is {hobby}\"\n",
    "print(phrase)\n"
   ]
  },
  {
   "cell_type": "code",
   "execution_count": 66,
   "metadata": {},
   "outputs": [],
   "source": [
    "# In this cell, initialise two appropriately named variables, one for your name and one for your job title.\n",
    "# Next, combine them in an f string, assigned to a different, appropriately named variable.\n",
    "# Finally, print the f string.\n"
   ]
  },
  {
   "cell_type": "code",
   "execution_count": 67,
   "metadata": {},
   "outputs": [
    {
     "name": "stdout",
     "output_type": "stream",
     "text": [
      "here_is_a_file\n"
     ]
    }
   ],
   "source": [
    "#print(len(phrase))\n",
    "\n",
    "string_slice = phrase[3:15]\n",
    "# print(string_slice)\n",
    "\n",
    "filename = 'here_is_a_file.csv'\n",
    "filename = filename[:-4]\n",
    "print(filename)"
   ]
  },
  {
   "cell_type": "code",
   "execution_count": 68,
   "metadata": {},
   "outputs": [
    {
     "name": "stdout",
     "output_type": "stream",
     "text": [
      "dog cat racoon\n"
     ]
    }
   ],
   "source": [
    "# In this cell I've initialised a variable 'slice_this_phrase'. \n",
    "# On the next three lines, print the words dog, cat, and racoon seprately using a slice \n",
    "# from the beginning, a slice giving a range in the middle, and a slice from the end.\n",
    "# This means one slice will involve [:n], one will involve [n1:n2], and one will involve [-n:].\n",
    "\n",
    "slice_this_phrase = 'dog cat racoon'\n",
    "\n",
    "animal_1 = slice_this_phrase[:3]\n",
    "animal_2 = slice_this_phrase[4:7]\n",
    "animal_3 = slice_this_phrase[-6:]\n",
    "\n",
    "print(f'{animal_1} {animal_2} {animal_3}')"
   ]
  },
  {
   "cell_type": "code",
   "execution_count": 69,
   "metadata": {},
   "outputs": [
    {
     "name": "stdout",
     "output_type": "stream",
     "text": [
      "[1, 2, 3, 5, 10]\n"
     ]
    }
   ],
   "source": [
    "list_1 = [1, 2, 3, x, y]\n",
    "print(list_1)"
   ]
  },
  {
   "cell_type": "code",
   "execution_count": 70,
   "metadata": {},
   "outputs": [
    {
     "name": "stdout",
     "output_type": "stream",
     "text": [
      "My colours are: ['red', 'blue', 'green', 'teal']\n"
     ]
    }
   ],
   "source": [
    "favourite_colour = 'teal'\n",
    "colours_list = ['red', 'blue', 'green']\n",
    "colours_list.append(favourite_colour)\n",
    "\n",
    "\n",
    "print(f'My colours are: {colours_list}')\n"
   ]
  },
  {
   "cell_type": "code",
   "execution_count": 71,
   "metadata": {},
   "outputs": [],
   "source": [
    "# In this cell, make a list of a few foods and print it.\n",
    "# Then extend the list with another food and print it."
   ]
  },
  {
   "cell_type": "code",
   "execution_count": 72,
   "metadata": {},
   "outputs": [
    {
     "name": "stdout",
     "output_type": "stream",
     "text": [
      "['red', 'blue', 'green', 'teal']\n",
      "['red', 'blue', 'green', 'teal', 'white', 'grey']\n"
     ]
    },
    {
     "ename": "ValueError",
     "evalue": "list.remove(x): x not in list",
     "output_type": "error",
     "traceback": [
      "\u001b[0;31m---------------------------------------------------------------------------\u001b[0m",
      "\u001b[0;31mValueError\u001b[0m                                Traceback (most recent call last)",
      "\u001b[1;32m/workspaces/ERN-sessions/WIll_LP/session_1.ipynb Cell 11\u001b[0m line \u001b[0;36m9\n\u001b[1;32m      <a href='vscode-notebook-cell://codespaces%2Bexpert-xylophone-p4gp56p559j3rjg4/workspaces/ERN-sessions/WIll_LP/session_1.ipynb#X13sdnNjb2RlLXJlbW90ZQ%3D%3D?line=5'>6</a>\u001b[0m colours_list\u001b[39m.\u001b[39mextend(more_colours)\n\u001b[1;32m      <a href='vscode-notebook-cell://codespaces%2Bexpert-xylophone-p4gp56p559j3rjg4/workspaces/ERN-sessions/WIll_LP/session_1.ipynb#X13sdnNjb2RlLXJlbW90ZQ%3D%3D?line=6'>7</a>\u001b[0m \u001b[39mprint\u001b[39m(colours_list)\n\u001b[0;32m----> <a href='vscode-notebook-cell://codespaces%2Bexpert-xylophone-p4gp56p559j3rjg4/workspaces/ERN-sessions/WIll_LP/session_1.ipynb#X13sdnNjb2RlLXJlbW90ZQ%3D%3D?line=8'>9</a>\u001b[0m colours_list\u001b[39m.\u001b[39;49mremove([\u001b[39m'\u001b[39;49m\u001b[39mwhite\u001b[39;49m\u001b[39m'\u001b[39;49m, \u001b[39m'\u001b[39;49m\u001b[39mgrey\u001b[39;49m\u001b[39m'\u001b[39;49m])\n\u001b[1;32m     <a href='vscode-notebook-cell://codespaces%2Bexpert-xylophone-p4gp56p559j3rjg4/workspaces/ERN-sessions/WIll_LP/session_1.ipynb#X13sdnNjb2RlLXJlbW90ZQ%3D%3D?line=9'>10</a>\u001b[0m \u001b[39mprint\u001b[39m(colours_list)\n",
      "\u001b[0;31mValueError\u001b[0m: list.remove(x): x not in list"
     ]
    }
   ],
   "source": [
    "colours_list = ['red', 'blue', 'green', 'teal']\n",
    "print(colours_list)\n",
    "more_colours = ['white', 'grey']\n",
    "# colours_list.append(more_colours)\n",
    "# print(colours_list)\n",
    "colours_list.extend(more_colours)\n",
    "print(colours_list)\n",
    "\n",
    "colours_list.remove(['white', 'grey'])\n",
    "print(colours_list)"
   ]
  },
  {
   "cell_type": "code",
   "execution_count": null,
   "metadata": {},
   "outputs": [],
   "source": [
    "# Next, make another list of foods, and use the extend method to add those extra foods as individual elements of the list, \n",
    "# and print it.\n",
    "# Finally, remove and element from the list and print the final list.\n",
    "# Remember to always use a suitable name for your lists!"
   ]
  },
  {
   "cell_type": "code",
   "execution_count": null,
   "metadata": {},
   "outputs": [
    {
     "name": "stdout",
     "output_type": "stream",
     "text": [
      "[1, 2, 3, 4, 5, 6]\n",
      "[6, 5, 4, 3, 2, 1]\n",
      "[1, 2, 3, 4, 5, 6]\n",
      "['teal', 'red', 'green', 'blue']\n"
     ]
    }
   ],
   "source": [
    "numbers_list = [2, 3, 4, 5, 1, 6]\n",
    "numbers_list.sort()\n",
    "print(numbers_list)\n",
    "numbers_list.sort(reverse=True)\n",
    "print(numbers_list)\n",
    "\n",
    "numbers_list = [2, 3, 4, 5, 1, 6]\n",
    "sorted_numbers = sorted(numbers_list)\n",
    "print(sorted_numbers)\n",
    "\n",
    "colours_list = ['red', 'blue', 'green', 'teal']\n",
    "colours_list_sorted = sorted(colours_list)\n",
    "colours_list_sorted.reverse()\n",
    "print(colours_list_sorted)\n"
   ]
  },
  {
   "cell_type": "code",
   "execution_count": null,
   "metadata": {},
   "outputs": [],
   "source": [
    "# In this cell, use the sorted method on your final list of foods to sort it alphabetically and print it.\n",
    "# Now use the documentation here to sort in reverse order: https://docs.python.org/3/library/functions.html#sorted"
   ]
  },
  {
   "cell_type": "code",
   "execution_count": 77,
   "metadata": {},
   "outputs": [
    {
     "name": "stdout",
     "output_type": "stream",
     "text": [
      "{'will': 'purple', 'scout': ['yellow', 'red'], 'crash': 23, 'Naiomi': {'Monday': 'Purple', 'EOD': 'Yellow'}}\n",
      "{'Monday': 'Purple', 'EOD': 'Yellow'}\n",
      "dict_keys(['will', 'scout', 'crash', 'Naiomi'])\n",
      "dict_values(['purple', ['yellow', 'red'], 23, {'Monday': 'Purple', 'EOD': 'Yellow'}])\n",
      "dict_items([('will', 'purple'), ('scout', ['yellow', 'red']), ('crash', 23), ('Naiomi', {'Monday': 'Purple', 'EOD': 'Yellow'})])\n"
     ]
    }
   ],
   "source": [
    "favourite_colours_dict = {'will':'purple',\n",
    "                     'scout':['yellow', 'red'],\n",
    "                     'crash':23,\n",
    "                     'Naiomi':{'Monday':'Purple',\n",
    "                               'EOD':'Yellow'}}\n",
    "print(favourite_colours_dict)\n",
    "print(favourite_colours_dict['Naiomi'])\n",
    "print(favourite_colours_dict.keys())\n",
    "print(favourite_colours_dict.values())\n",
    "print(favourite_colours_dict.items())\n",
    "\n"
   ]
  },
  {
   "cell_type": "code",
   "execution_count": null,
   "metadata": {},
   "outputs": [],
   "source": [
    "# In this cell, make a dicitonary of some restaurants and the foods they sell, print the items, keys, and values, have at least \n",
    "# one have the value as a list.\n",
    "# print out one set of values accessing them using the key."
   ]
  },
  {
   "cell_type": "code",
   "execution_count": 88,
   "metadata": {},
   "outputs": [
    {
     "name": "stdout",
     "output_type": "stream",
     "text": [
      "{'will': 'purple', 'scout': ['yellow', 'red'], 'crash': 23, 'Naiomi': 'orange'}\n",
      "False\n"
     ]
    }
   ],
   "source": [
    "favourite_colours_dict = {'will':'purple',\n",
    "                     'scout':['yellow', 'red'],\n",
    "                     'crash':23,\n",
    "                     'Naiomi':'orange'\n",
    "                     }\n",
    "\n",
    "\n",
    "\n",
    "print(favourite_colours_dict)\n",
    "\n",
    "print('Orange' in favourite_colours_dict)"
   ]
  },
  {
   "cell_type": "markdown",
   "metadata": {},
   "source": [
    "Make a dictionary which has the names of everyone in the group as keys, and job titles as the values, print it. When everyone has a working version, work out how to get all of the values from the dictionary as a single list, and sort the new list alphabetically, assigned to a suitably named variable.\n",
    "\n",
    "You have probably not used for loops before, and actually that is a topic for a later session, if you have used for loops, help guide rather than instruc the rest of your group. I would like you to use google as your main resource to work out how to use a for loop to print each set of keys/values from your dictionary on new lines, one line per loop, with the resulting form 'My name is and my job is '. The point of this exercise isn't the answer, the point of this exercise is learning how to use online resources to search for an answer and translate the answer from those resources into your own work."
   ]
  },
  {
   "cell_type": "code",
   "execution_count": 96,
   "metadata": {},
   "outputs": [
    {
     "name": "stdout",
     "output_type": "stream",
     "text": [
      "['Alasdair', 'Emily', 'Emma', 'Jon', 'Martin H', 'Michael C', 'Michael M', 'Nazahah', 'Paul D', 'Paul M', 'Will']\n",
      "My name is Will, my job is Instructing.\n",
      "My name is Emily, my job is Performance Analyst.\n",
      "My name is Jon, my job is Performance M..\n",
      "My name is Emma, my job is Perf. O..\n",
      "My name is Paul M, my job is Perf. O..\n",
      "My name is Michael M, my job is Regional M..\n",
      "My name is Alasdair, my job is SQL Dev..\n",
      "My name is Michael C, my job is Analyst.\n",
      "My name is Paul D, my job is Senior Perf. M..\n",
      "My name is Nazahah, my job is Analyst.\n",
      "My name is Martin H, my job is SQL Dev..\n"
     ]
    }
   ],
   "source": [
    "job_dict = {'Will':'Instructing',\n",
    "             'Emily':'Performance Analyst',\n",
    "             'Jon': 'Performance M.',\n",
    "             'Emma': 'Perf. O.',\n",
    "             'Paul M': 'Perf. O.',\n",
    "             'Michael M': 'Regional M.',\n",
    "             'Alasdair':'SQL Dev.',\n",
    "             'Michael C': 'Analyst',\n",
    "             'Paul D': 'Senior Perf. M.',\n",
    "             'Nazahah': 'Analyst',\n",
    "             'Martin H':'SQL Dev.'}\n",
    "names = list(job_dict.keys())\n",
    "names_sorted = sorted(names)\n",
    "print(names_sorted)\n",
    "\n",
    "for key, val in job_dict.items():\n",
    "    # print the key\n",
    "    print(f\"My name is {key}, my job is {val}.\")\n"
   ]
  }
 ],
 "metadata": {
  "kernelspec": {
   "display_name": "Python 3",
   "language": "python",
   "name": "python3"
  },
  "language_info": {
   "codemirror_mode": {
    "name": "ipython",
    "version": 3
   },
   "file_extension": ".py",
   "mimetype": "text/x-python",
   "name": "python",
   "nbconvert_exporter": "python",
   "pygments_lexer": "ipython3",
   "version": "3.10.8"
  }
 },
 "nbformat": 4,
 "nbformat_minor": 2
}

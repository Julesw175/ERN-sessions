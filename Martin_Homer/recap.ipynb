{
 "cells": [
  {
   "cell_type": "code",
   "execution_count": 3,
   "metadata": {},
   "outputs": [
    {
     "name": "stdout",
     "output_type": "stream",
     "text": [
      "227460.0\n",
      "5.77\n"
     ]
    },
    {
     "name": "stderr",
     "output_type": "stream",
     "text": [
      "/tmp/ipykernel_14291/3015945894.py:23: SettingWithCopyWarning: \n",
      "A value is trying to be set on a copy of a slice from a DataFrame.\n",
      "Try using .loc[row_indexer,col_indexer] = value instead\n",
      "\n",
      "See the caveats in the documentation: https://pandas.pydata.org/pandas-docs/stable/user_guide/indexing.html#returning-a-view-versus-a-copy\n",
      "  non_suppressed[['number', 'rate', 'percent']] = non_suppressed[['number', 'rate', 'percent']].astype('float')\n"
     ]
    }
   ],
   "source": [
    "# Read in the df from here:\n",
    "# https://raw.githubusercontent.com/WillLP-code/stlite-tests/main/benchmarking%20test/data/a1.csv\n",
    "# Print the info of the df\n",
    "# Take only rows where the number, rate, and percent columns are not z, c, or x\n",
    "# Convert those three columns to floats\n",
    "# Find the sum total of the number column\n",
    "# Find the mean of the percent column\n",
    " \n",
    "# Make a list of about 10 numbers that range between 0 and 100\n",
    "# Write a function that will return 'over 50' if a number is over 50, and 'under 50' if a number is under 50\n",
    "# Iterate through your list and run the function you just wrote for each element of the list, printing what is returned from the function for each loop\n",
    "\n",
    "import pandas as pd\n",
    "\n",
    "df_dfe_school_data = pd.read_csv('https://raw.githubusercontent.com/WillLP-code/stlite-tests/main/benchmarking%20test/data/a1.csv')\n",
    "\n",
    "# df_dfe_school_data.info()\n",
    "\n",
    "query = (~df_dfe_school_data['number'].isin(['z','c','x'])) & (~df_dfe_school_data['rate'].isin(['z','c','x'])) & (~df_dfe_school_data['percent'].isin(['z','c','x']))\n",
    "\n",
    "non_suppressed = df_dfe_school_data[query]\n",
    "\n",
    "non_suppressed[['number', 'rate', 'percent']] = non_suppressed[['number', 'rate', 'percent']].astype('float')\n",
    "\n",
    "# print(non_suppressed.info())\n",
    "\n",
    "print(non_suppressed['number'].sum())\n",
    "print(non_suppressed['percent'].mean())"
   ]
  },
  {
   "cell_type": "code",
   "execution_count": 21,
   "metadata": {},
   "outputs": [
    {
     "name": "stdout",
     "output_type": "stream",
     "text": [
      "8 is less than 50\n",
      "13 is less than 50\n",
      "23 is less than 50\n",
      "37 is less than 50\n",
      "44 is less than 50\n",
      "55 is 50 or over\n",
      "61 is 50 or over\n",
      "74 is 50 or over\n",
      "82 is 50 or over\n",
      "99 is 50 or over\n",
      "39 is less than 50\n",
      "30 is less than 50\n",
      "38 is less than 50\n",
      "100 is 50 or over\n",
      "92 is 50 or over\n",
      "82 is 50 or over\n",
      "41 is less than 50\n",
      "43 is less than 50\n",
      "54 is 50 or over\n",
      "60 is 50 or over\n"
     ]
    }
   ],
   "source": [
    "import random\n",
    "\n",
    "random_numbers = [random.randint(1,100) for i in range(10)]\n",
    "#print(random_numbers)\n",
    "number_list = [8, 13, 23, 37, 44, 55, 61, 74, 82, 99]\n",
    "\n",
    "\n",
    "def fifty_identifier(number):\n",
    "    if number >= 50:\n",
    "        return '50 or over'\n",
    "    else :\n",
    "        return 'less than 50'\n",
    "    \n",
    "# is_it_over_50 = fifty_identifier(67)\n",
    "# print(is_it_over_50)\n",
    "\n",
    "for number in number_list:\n",
    "    print(f\"{number} is {fifty_identifier(number)}\")\n",
    "\n",
    "for i in random_numbers:\n",
    "    print(f\"{i} is {fifty_identifier(i)}\")"
   ]
  }
 ],
 "metadata": {
  "kernelspec": {
   "display_name": "Python 3",
   "language": "python",
   "name": "python3"
  },
  "language_info": {
   "codemirror_mode": {
    "name": "ipython",
    "version": 3
   },
   "file_extension": ".py",
   "mimetype": "text/x-python",
   "name": "python",
   "nbconvert_exporter": "python",
   "pygments_lexer": "ipython3",
   "version": "3.10.8"
  }
 },
 "nbformat": 4,
 "nbformat_minor": 2
}

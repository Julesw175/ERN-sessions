{
 "cells": [
  {
   "cell_type": "code",
   "execution_count": 2,
   "metadata": {},
   "outputs": [
    {
     "name": "stdout",
     "output_type": "stream",
     "text": [
      "I'm Martin\n"
     ]
    }
   ],
   "source": [
    "phrase = \"I'm Martin\" #string\n",
    "print(phrase)"
   ]
  },
  {
   "cell_type": "code",
   "execution_count": 5,
   "metadata": {},
   "outputs": [
    {
     "name": "stdout",
     "output_type": "stream",
     "text": [
      "15\n",
      "2.0\n",
      "<class 'float'>\n"
     ]
    }
   ],
   "source": [
    "x = 5 #integer\n",
    "y = 10\n",
    "z = x + y #plus\n",
    "print(z)\n",
    "z = y / x #divide\n",
    "print(z) #float\n",
    "\n",
    "print(type(z))"
   ]
  },
  {
   "cell_type": "code",
   "execution_count": 8,
   "metadata": {},
   "outputs": [
    {
     "name": "stdout",
     "output_type": "stream",
     "text": [
      "My favourite colours are ['red', 'blue', 'green', 'teal']\n"
     ]
    },
    {
     "data": {
      "text/plain": [
       "['red', 'blue', 'green', 'teal', 'white', 'grey']"
      ]
     },
     "execution_count": 8,
     "metadata": {},
     "output_type": "execute_result"
    }
   ],
   "source": [
    "favourite_colour = \"teal\"\n",
    "colours_list = ['red', 'blue', 'green']\n",
    "colours_list.append(favourite_colour)\n",
    "\n",
    "print(f'My favourite colours are', colours_list)\n",
    "\n",
    "more_colours = ['white', 'grey']\n",
    "colours_list.extend(more_colours)\n",
    "colours_list"
   ]
  },
  {
   "cell_type": "code",
   "execution_count": 19,
   "metadata": {},
   "outputs": [
    {
     "data": {
      "text/plain": [
       "['banana', 'apple', 'melon', 'strawberry', 'kiwi']"
      ]
     },
     "execution_count": 19,
     "metadata": {},
     "output_type": "execute_result"
    }
   ],
   "source": [
    "food_list = ['banana', 'apple', 'melon']\n",
    "food_list\n",
    "more_foods = ['strawberry', 'kiwi']\n",
    "food_list.extend(more_foods)\n",
    "food_list\n",
    "#del food_list[1:3]\n",
    "#print(food_list)"
   ]
  },
  {
   "cell_type": "code",
   "execution_count": 18,
   "metadata": {},
   "outputs": [
    {
     "name": "stdout",
     "output_type": "stream",
     "text": [
      "[1, 2, 3, 4, 5, 6]\n",
      "[6, 5, 4, 3, 2, 1]\n",
      "[1, 2, 3, 4, 5, 6]\n"
     ]
    }
   ],
   "source": [
    "numbers_list = [2,3,4,5,1,6]\n",
    "numbers_list.sort()\n",
    "print(numbers_list)\n",
    "numbers_list.sort(reverse=True)\n",
    "print(numbers_list)\n",
    "\n",
    "numbers_list = [2,3,4,5,1,6]\n",
    "sorted_numbers = sorted(numbers_list)\n",
    "print(sorted_numbers)"
   ]
  },
  {
   "cell_type": "code",
   "execution_count": 22,
   "metadata": {},
   "outputs": [
    {
     "name": "stdout",
     "output_type": "stream",
     "text": [
      "['apple', 'banana', 'kiwi', 'melon', 'strawberry']\n",
      "['strawberry', 'melon', 'kiwi', 'banana', 'apple']\n"
     ]
    }
   ],
   "source": [
    "food_list\n",
    "sorted_food = sorted(food_list)\n",
    "print(sorted_food)\n",
    "sorted_food_reverse = sorted(food_list,reverse=True)\n",
    "print(sorted_food_reverse)"
   ]
  },
  {
   "cell_type": "code",
   "execution_count": 29,
   "metadata": {},
   "outputs": [
    {
     "name": "stdout",
     "output_type": "stream",
     "text": [
      "{'breakfast_bar': ['croissant', 'banana', 'cereal'], 'lunch_cafe': ['sandwich', 'baguette'], 'dinner_spot': 'slap up meal'}\n",
      "['sandwich', 'baguette']\n",
      "dict_keys(['breakfast_bar', 'lunch_cafe', 'dinner_spot'])\n",
      "dict_values([['croissant', 'banana', 'cereal'], ['sandwich', 'baguette'], 'slap up meal'])\n",
      "dict_items([('breakfast_bar', ['croissant', 'banana', 'cereal']), ('lunch_cafe', ['sandwich', 'baguette']), ('dinner_spot', 'slap up meal')])\n"
     ]
    }
   ],
   "source": [
    "restaurant_dict = {'breakfast_bar' : ['croissant', 'banana', 'cereal'],\n",
    "                   'lunch_cafe' : ['sandwich', 'baguette'],\n",
    "                   'dinner_spot' : 'slap up meal'\n",
    "                   }\n",
    "print(restaurant_dict)\n",
    "print(restaurant_dict['lunch_cafe'])\n",
    "print(restaurant_dict.keys())\n",
    "print(restaurant_dict.values())\n",
    "print(restaurant_dict.items())"
   ]
  },
  {
   "cell_type": "code",
   "execution_count": 5,
   "metadata": {},
   "outputs": [
    {
     "name": "stdout",
     "output_type": "stream",
     "text": [
      "['Paul_D', 'Martin', 'Paul_M']\n",
      "My name is Paul_D, my job is P&D Manager.\n",
      "My name is Martin, my job is SQL Developer.\n",
      "My name is Paul_M, my job is Performance Officer.\n"
     ]
    }
   ],
   "source": [
    "python_group = {'Paul_D' : 'P&D Manager',\n",
    "                'Martin' : 'SQL Developer',\n",
    "                'Paul_M' : 'Performance Officer'\n",
    "                }\n",
    "\n",
    "python_group_list = list(python_group.keys())\n",
    "print(python_group_list)\n",
    "\n",
    "for key, val in python_group.items():\n",
    "        print(f\"My name is {key}, my job is {val}.\")"
   ]
  }
 ],
 "metadata": {
  "kernelspec": {
   "display_name": "Python 3",
   "language": "python",
   "name": "python3"
  },
  "language_info": {
   "codemirror_mode": {
    "name": "ipython",
    "version": 3
   },
   "file_extension": ".py",
   "mimetype": "text/x-python",
   "name": "python",
   "nbconvert_exporter": "python",
   "pygments_lexer": "ipython3",
   "version": "3.10.8"
  }
 },
 "nbformat": 4,
 "nbformat_minor": 2
}

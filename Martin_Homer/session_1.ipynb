{
 "cells": [
  {
   "cell_type": "code",
   "execution_count": 2,
   "metadata": {},
   "outputs": [
    {
     "name": "stdout",
     "output_type": "stream",
     "text": [
      "I'm Martin\n"
     ]
    }
   ],
   "source": [
    "phrase = \"I'm Martin\" #string\n",
    "print(phrase)"
   ]
  },
  {
   "cell_type": "code",
   "execution_count": 5,
   "metadata": {},
   "outputs": [
    {
     "name": "stdout",
     "output_type": "stream",
     "text": [
      "15\n",
      "2.0\n",
      "<class 'float'>\n"
     ]
    }
   ],
   "source": [
    "x = 5 #integer\n",
    "y = 10\n",
    "z = x + y #plus\n",
    "print(z)\n",
    "z = y / x #divide\n",
    "print(z) #float\n",
    "\n",
    "print(type(z))"
   ]
  },
  {
   "cell_type": "code",
   "execution_count": 8,
   "metadata": {},
   "outputs": [
    {
     "name": "stdout",
     "output_type": "stream",
     "text": [
      "My favourite colours are ['red', 'blue', 'green', 'teal']\n"
     ]
    },
    {
     "data": {
      "text/plain": [
       "['red', 'blue', 'green', 'teal', 'white', 'grey']"
      ]
     },
     "execution_count": 8,
     "metadata": {},
     "output_type": "execute_result"
    }
   ],
   "source": [
    "favourite_colour = \"teal\"\n",
    "colours_list = ['red', 'blue', 'green']\n",
    "colours_list.append(favourite_colour)\n",
    "\n",
    "print(f'My favourite colours are', colours_list)\n",
    "\n",
    "more_colours = ['white', 'grey']\n",
    "colours_list.extend(more_colours)\n",
    "colours_list"
   ]
  },
  {
   "cell_type": "code",
   "execution_count": 19,
   "metadata": {},
   "outputs": [
    {
     "data": {
      "text/plain": [
       "['banana', 'apple', 'melon', 'strawberry', 'kiwi']"
      ]
     },
     "execution_count": 19,
     "metadata": {},
     "output_type": "execute_result"
    }
   ],
   "source": [
    "food_list = ['banana', 'apple', 'melon']\n",
    "food_list\n",
    "more_foods = ['strawberry', 'kiwi']\n",
    "food_list.extend(more_foods)\n",
    "food_list\n",
    "#del food_list[1:3]\n",
    "#print(food_list)"
   ]
  },
  {
   "cell_type": "code",
   "execution_count": 18,
   "metadata": {},
   "outputs": [
    {
     "name": "stdout",
     "output_type": "stream",
     "text": [
      "[1, 2, 3, 4, 5, 6]\n",
      "[6, 5, 4, 3, 2, 1]\n",
      "[1, 2, 3, 4, 5, 6]\n"
     ]
    }
   ],
   "source": [
    "numbers_list = [2,3,4,5,1,6]\n",
    "numbers_list.sort()\n",
    "print(numbers_list)\n",
    "numbers_list.sort(reverse=True)\n",
    "print(numbers_list)\n",
    "\n",
    "numbers_list = [2,3,4,5,1,6]\n",
    "sorted_numbers = sorted(numbers_list)\n",
    "print(sorted_numbers)"
   ]
  },
  {
   "cell_type": "code",
   "execution_count": 22,
   "metadata": {},
   "outputs": [
    {
     "name": "stdout",
     "output_type": "stream",
     "text": [
      "['apple', 'banana', 'kiwi', 'melon', 'strawberry']\n",
      "['strawberry', 'melon', 'kiwi', 'banana', 'apple']\n"
     ]
    }
   ],
   "source": [
    "food_list\n",
    "sorted_food = sorted(food_list)\n",
    "print(sorted_food)\n",
    "sorted_food_reverse = sorted(food_list,reverse=True)\n",
    "print(sorted_food_reverse)"
   ]
  },
  {
   "cell_type": "code",
   "execution_count": 29,
   "metadata": {},
   "outputs": [
    {
     "name": "stdout",
     "output_type": "stream",
     "text": [
      "{'breakfast_bar': ['croissant', 'banana', 'cereal'], 'lunch_cafe': ['sandwich', 'baguette'], 'dinner_spot': 'slap up meal'}\n",
      "['sandwich', 'baguette']\n",
      "dict_keys(['breakfast_bar', 'lunch_cafe', 'dinner_spot'])\n",
      "dict_values([['croissant', 'banana', 'cereal'], ['sandwich', 'baguette'], 'slap up meal'])\n",
      "dict_items([('breakfast_bar', ['croissant', 'banana', 'cereal']), ('lunch_cafe', ['sandwich', 'baguette']), ('dinner_spot', 'slap up meal')])\n"
     ]
    }
   ],
   "source": [
    "restaurant_dict = {'breakfast_bar' : ['croissant', 'banana', 'cereal'],\n",
    "                   'lunch_cafe' : ['sandwich', 'baguette'],\n",
    "                   'dinner_spot' : 'slap up meal'\n",
    "                   }\n",
    "print(restaurant_dict)\n",
    "print(restaurant_dict['lunch_cafe'])\n",
    "print(restaurant_dict.keys())\n",
    "print(restaurant_dict.values())\n",
    "print(restaurant_dict.items())"
   ]
  },
  {
   "cell_type": "code",
   "execution_count": 5,
   "metadata": {},
   "outputs": [
    {
     "name": "stdout",
     "output_type": "stream",
     "text": [
      "['Paul_D', 'Martin', 'Paul_M']\n",
      "My name is Paul_D, my job is P&D Manager.\n",
      "My name is Martin, my job is SQL Developer.\n",
      "My name is Paul_M, my job is Performance Officer.\n"
     ]
    }
   ],
   "source": [
    "python_group = {'Paul_D' : 'P&D Manager',\n",
    "                'Martin' : 'SQL Developer',\n",
    "                'Paul_M' : 'Performance Officer'\n",
    "                }\n",
    "\n",
    "python_group_list = list(python_group.keys())\n",
    "print(python_group_list)\n",
    "\n",
    "for key, val in python_group.items():\n",
    "        print(f\"My name is {key}, my job is {val}.\")"
   ]
  },
  {
   "cell_type": "code",
   "execution_count": 2,
   "metadata": {},
   "outputs": [
    {
     "data": {
      "text/html": [
       "<div>\n",
       "<style scoped>\n",
       "    .dataframe tbody tr th:only-of-type {\n",
       "        vertical-align: middle;\n",
       "    }\n",
       "\n",
       "    .dataframe tbody tr th {\n",
       "        vertical-align: top;\n",
       "    }\n",
       "\n",
       "    .dataframe thead th {\n",
       "        text-align: right;\n",
       "    }\n",
       "</style>\n",
       "<table border=\"1\" class=\"dataframe\">\n",
       "  <thead>\n",
       "    <tr style=\"text-align: right;\">\n",
       "      <th></th>\n",
       "      <th>column</th>\n",
       "      <th>col 2</th>\n",
       "      <th>col z</th>\n",
       "    </tr>\n",
       "  </thead>\n",
       "  <tbody>\n",
       "    <tr>\n",
       "      <th>0</th>\n",
       "      <td>val 1</td>\n",
       "      <td>4</td>\n",
       "      <td>foo</td>\n",
       "    </tr>\n",
       "    <tr>\n",
       "      <th>1</th>\n",
       "      <td>val 2</td>\n",
       "      <td>5</td>\n",
       "      <td>bar</td>\n",
       "    </tr>\n",
       "    <tr>\n",
       "      <th>2</th>\n",
       "      <td>val 3</td>\n",
       "      <td>6</td>\n",
       "      <td>baz</td>\n",
       "    </tr>\n",
       "  </tbody>\n",
       "</table>\n",
       "</div>"
      ],
      "text/plain": [
       "  column  col 2 col z\n",
       "0  val 1      4   foo\n",
       "1  val 2      5   bar\n",
       "2  val 3      6   baz"
      ]
     },
     "execution_count": 2,
     "metadata": {},
     "output_type": "execute_result"
    }
   ],
   "source": [
    "import pandas as pd\n",
    "\n",
    "dict_1 = {\n",
    "    \"column\" : [\"val 1\", \"val 2\", \"val 3\"],\n",
    "    \"col 2\" : [4, 5, 6],\n",
    "    \"col z\" : [\"foo\", \"bar\", \"baz\"]\n",
    "}\n",
    "\n",
    "df_1 = pd.DataFrame(dict_1)\n",
    "df_1"
   ]
  },
  {
   "cell_type": "code",
   "execution_count": 19,
   "metadata": {},
   "outputs": [
    {
     "data": {
      "text/html": [
       "<div>\n",
       "<style scoped>\n",
       "    .dataframe tbody tr th:only-of-type {\n",
       "        vertical-align: middle;\n",
       "    }\n",
       "\n",
       "    .dataframe tbody tr th {\n",
       "        vertical-align: top;\n",
       "    }\n",
       "\n",
       "    .dataframe thead th {\n",
       "        text-align: right;\n",
       "    }\n",
       "</style>\n",
       "<table border=\"1\" class=\"dataframe\">\n",
       "  <thead>\n",
       "    <tr style=\"text-align: right;\">\n",
       "      <th></th>\n",
       "      <th>name</th>\n",
       "      <th>salary</th>\n",
       "      <th>title</th>\n",
       "    </tr>\n",
       "  </thead>\n",
       "  <tbody>\n",
       "    <tr>\n",
       "      <th>0</th>\n",
       "      <td>Ilya Sorokin</td>\n",
       "      <td>9000000</td>\n",
       "      <td>Goaltender</td>\n",
       "    </tr>\n",
       "    <tr>\n",
       "      <th>1</th>\n",
       "      <td>Mathew Barzal</td>\n",
       "      <td>8500000</td>\n",
       "      <td>Winger</td>\n",
       "    </tr>\n",
       "    <tr>\n",
       "      <th>2</th>\n",
       "      <td>Bo Horvat</td>\n",
       "      <td>8500000</td>\n",
       "      <td>Centre</td>\n",
       "    </tr>\n",
       "    <tr>\n",
       "      <th>3</th>\n",
       "      <td>Noah Dobson</td>\n",
       "      <td>4000000</td>\n",
       "      <td>Defenseman</td>\n",
       "    </tr>\n",
       "  </tbody>\n",
       "</table>\n",
       "</div>"
      ],
      "text/plain": [
       "            name   salary       title\n",
       "0   Ilya Sorokin  9000000  Goaltender\n",
       "1  Mathew Barzal  8500000      Winger\n",
       "2      Bo Horvat  8500000      Centre\n",
       "3    Noah Dobson  4000000  Defenseman"
      ]
     },
     "execution_count": 19,
     "metadata": {},
     "output_type": "execute_result"
    }
   ],
   "source": [
    "list_of_dicts = [{\n",
    "    'name' : 'Ilya Sorokin',\n",
    "    'salary' : '9000000', #pass numbers as a string to convert later as example, otherwise should be a string\n",
    "    'title' : 'Goaltender'\n",
    "    }\n",
    "    ,{\n",
    "    'name' : 'Mathew Barzal',\n",
    "    'salary' : '8500000',\n",
    "    'title' : 'Winger'\n",
    "    }\n",
    "    ,{\n",
    "    'name' : 'Bo Horvat',\n",
    "    'salary' : '8500000',\n",
    "    'title' : 'Centre'\n",
    "    }\n",
    "    ,{\n",
    "    'name' : 'Noah Dobson',\n",
    "    'salary' : '4000000',\n",
    "    'title' : 'Defenseman'\n",
    "    }]\n",
    "\n",
    "df_2 = pd.DataFrame(list_of_dicts) \n",
    "df_2\n",
    "#python range starts at 0, not 1"
   ]
  },
  {
   "cell_type": "code",
   "execution_count": 20,
   "metadata": {},
   "outputs": [
    {
     "name": "stdout",
     "output_type": "stream",
     "text": [
      "<class 'pandas.core.frame.DataFrame'>\n",
      "RangeIndex: 4 entries, 0 to 3\n",
      "Data columns (total 3 columns):\n",
      " #   Column  Non-Null Count  Dtype \n",
      "---  ------  --------------  ----- \n",
      " 0   name    4 non-null      object\n",
      " 1   salary  4 non-null      int64 \n",
      " 2   title   4 non-null      object\n",
      "dtypes: int64(1), object(2)\n",
      "memory usage: 224.0+ bytes\n",
      "None\n",
      "name      object\n",
      "salary     int64\n",
      "title     object\n",
      "dtype: object\n",
      "           name   salary       title\n",
      "0  Ilya Sorokin  9000000  Goaltender\n",
      "          name   salary       title\n",
      "3  Noah Dobson  4000000  Defenseman\n"
     ]
    }
   ],
   "source": [
    "print(df_2.info())\n",
    "print(df_2.dtypes)\n",
    "print(df_2.head(1)) #parameter defaults to top 20 records unless specified.\n",
    "print(df_2.tail(1)) #returns last records"
   ]
  },
  {
   "cell_type": "code",
   "execution_count": 23,
   "metadata": {},
   "outputs": [
    {
     "name": "stdout",
     "output_type": "stream",
     "text": [
      "<class 'pandas.core.frame.DataFrame'>\n",
      "RangeIndex: 4 entries, 0 to 3\n",
      "Data columns (total 3 columns):\n",
      " #   Column  Non-Null Count  Dtype \n",
      "---  ------  --------------  ----- \n",
      " 0   name    4 non-null      object\n",
      " 1   salary  4 non-null      int64 \n",
      " 2   title   4 non-null      object\n",
      "dtypes: int64(1), object(2)\n",
      "memory usage: 224.0+ bytes\n"
     ]
    },
    {
     "data": {
      "text/html": [
       "<div>\n",
       "<style scoped>\n",
       "    .dataframe tbody tr th:only-of-type {\n",
       "        vertical-align: middle;\n",
       "    }\n",
       "\n",
       "    .dataframe tbody tr th {\n",
       "        vertical-align: top;\n",
       "    }\n",
       "\n",
       "    .dataframe thead th {\n",
       "        text-align: right;\n",
       "    }\n",
       "</style>\n",
       "<table border=\"1\" class=\"dataframe\">\n",
       "  <thead>\n",
       "    <tr style=\"text-align: right;\">\n",
       "      <th></th>\n",
       "      <th>name</th>\n",
       "      <th>salary</th>\n",
       "      <th>title</th>\n",
       "    </tr>\n",
       "  </thead>\n",
       "  <tbody>\n",
       "    <tr>\n",
       "      <th>0</th>\n",
       "      <td>Ilya Sorokin</td>\n",
       "      <td>9000000</td>\n",
       "      <td>Goaltender</td>\n",
       "    </tr>\n",
       "    <tr>\n",
       "      <th>1</th>\n",
       "      <td>Mathew Barzal</td>\n",
       "      <td>8500000</td>\n",
       "      <td>Winger</td>\n",
       "    </tr>\n",
       "    <tr>\n",
       "      <th>2</th>\n",
       "      <td>Bo Horvat</td>\n",
       "      <td>8500000</td>\n",
       "      <td>Centre</td>\n",
       "    </tr>\n",
       "    <tr>\n",
       "      <th>3</th>\n",
       "      <td>Noah Dobson</td>\n",
       "      <td>4000000</td>\n",
       "      <td>Defenseman</td>\n",
       "    </tr>\n",
       "  </tbody>\n",
       "</table>\n",
       "</div>"
      ],
      "text/plain": [
       "            name   salary       title\n",
       "0   Ilya Sorokin  9000000  Goaltender\n",
       "1  Mathew Barzal  8500000      Winger\n",
       "2      Bo Horvat  8500000      Centre\n",
       "3    Noah Dobson  4000000  Defenseman"
      ]
     },
     "execution_count": 23,
     "metadata": {},
     "output_type": "execute_result"
    }
   ],
   "source": [
    "df_2['salary'] = df_2['salary'].astype('int')\n",
    "df_2.dtypes\n",
    "df_2.info()\n",
    "df_2"
   ]
  },
  {
   "cell_type": "code",
   "execution_count": 30,
   "metadata": {},
   "outputs": [
    {
     "name": "stdout",
     "output_type": "stream",
     "text": [
      "30000000\n",
      "30000000\n",
      "0     9000000\n",
      "1    17500000\n",
      "2    26000000\n",
      "3    30000000\n",
      "Name: salary, dtype: int64\n",
      "7500000.0\n",
      "Salary minimum: 4000000, salary maximum: 9000000\n"
     ]
    }
   ],
   "source": [
    "print(df_2['salary'].sum())\n",
    "df_2_salary_total = df_2['salary'].sum()\n",
    "df_2_salary_running_total = df_2['salary'].cumsum() #cumulative sum\n",
    "df_2_salary_mean = df_2['salary'].mean()\n",
    "df_2_salary_min_max = f\"Salary minimum: {df_2['salary'].min()}, salary maximum: {df_2['salary'].max()}\"\n",
    "print(df_2_salary_total)\n",
    "print(df_2_salary_running_total)\n",
    "print(df_2_salary_mean)\n",
    "print(df_2_salary_min_max)"
   ]
  },
  {
   "cell_type": "code",
   "execution_count": 31,
   "metadata": {},
   "outputs": [
    {
     "data": {
      "text/html": [
       "<div>\n",
       "<style scoped>\n",
       "    .dataframe tbody tr th:only-of-type {\n",
       "        vertical-align: middle;\n",
       "    }\n",
       "\n",
       "    .dataframe tbody tr th {\n",
       "        vertical-align: top;\n",
       "    }\n",
       "\n",
       "    .dataframe thead th {\n",
       "        text-align: right;\n",
       "    }\n",
       "</style>\n",
       "<table border=\"1\" class=\"dataframe\">\n",
       "  <thead>\n",
       "    <tr style=\"text-align: right;\">\n",
       "      <th></th>\n",
       "      <th>name</th>\n",
       "      <th>salary</th>\n",
       "      <th>title</th>\n",
       "    </tr>\n",
       "  </thead>\n",
       "  <tbody>\n",
       "    <tr>\n",
       "      <th>0</th>\n",
       "      <td>Ilya Sorokin</td>\n",
       "      <td>9603000.0</td>\n",
       "      <td>Goaltender</td>\n",
       "    </tr>\n",
       "    <tr>\n",
       "      <th>1</th>\n",
       "      <td>Mathew Barzal</td>\n",
       "      <td>9069500.0</td>\n",
       "      <td>Winger</td>\n",
       "    </tr>\n",
       "    <tr>\n",
       "      <th>2</th>\n",
       "      <td>Bo Horvat</td>\n",
       "      <td>9069500.0</td>\n",
       "      <td>Centre</td>\n",
       "    </tr>\n",
       "    <tr>\n",
       "      <th>3</th>\n",
       "      <td>Noah Dobson</td>\n",
       "      <td>4268000.0</td>\n",
       "      <td>Defenseman</td>\n",
       "    </tr>\n",
       "  </tbody>\n",
       "</table>\n",
       "</div>"
      ],
      "text/plain": [
       "            name     salary       title\n",
       "0   Ilya Sorokin  9603000.0  Goaltender\n",
       "1  Mathew Barzal  9069500.0      Winger\n",
       "2      Bo Horvat  9069500.0      Centre\n",
       "3    Noah Dobson  4268000.0  Defenseman"
      ]
     },
     "execution_count": 31,
     "metadata": {},
     "output_type": "execute_result"
    }
   ],
   "source": [
    "inflation = 1.067 #pay raise of 6.7%\n",
    "df_2['salary'] = df_2['salary'] * inflation\n",
    "df_2\n"
   ]
  },
  {
   "cell_type": "code",
   "execution_count": 38,
   "metadata": {},
   "outputs": [
    {
     "ename": "NameError",
     "evalue": "name 'datetime' is not defined",
     "output_type": "error",
     "traceback": [
      "\u001b[0;31m---------------------------------------------------------------------------\u001b[0m",
      "\u001b[0;31mNameError\u001b[0m                                 Traceback (most recent call last)",
      "\u001b[1;32m/workspaces/ERN-sessions/Martin_Homer/session_1.ipynb Cell 15\u001b[0m line \u001b[0;36m4\n\u001b[1;32m      <a href='vscode-notebook-cell://codespaces%2Bubiquitous-bassoon-jq6j9r659q43jjwr/workspaces/ERN-sessions/Martin_Homer/session_1.ipynb#X21sdnNjb2RlLXJlbW90ZQ%3D%3D?line=0'>1</a>\u001b[0m df_2[\u001b[39m'\u001b[39m\u001b[39mdate_of_birth\u001b[39m\u001b[39m'\u001b[39m] \u001b[39m=\u001b[39m [\u001b[39m'\u001b[39m\u001b[39m05-08-1995\u001b[39m\u001b[39m'\u001b[39m, \u001b[39m'\u001b[39m\u001b[39m26-05-1997\u001b[39m\u001b[39m'\u001b[39m, \u001b[39m'\u001b[39m\u001b[39m05-04-1995\u001b[39m\u001b[39m'\u001b[39m, \u001b[39m'\u001b[39m\u001b[39m07-01-2000\u001b[39m\u001b[39m'\u001b[39m]\n\u001b[1;32m      <a href='vscode-notebook-cell://codespaces%2Bubiquitous-bassoon-jq6j9r659q43jjwr/workspaces/ERN-sessions/Martin_Homer/session_1.ipynb#X21sdnNjb2RlLXJlbW90ZQ%3D%3D?line=1'>2</a>\u001b[0m df_2\n\u001b[0;32m----> <a href='vscode-notebook-cell://codespaces%2Bubiquitous-bassoon-jq6j9r659q43jjwr/workspaces/ERN-sessions/Martin_Homer/session_1.ipynb#X21sdnNjb2RlLXJlbW90ZQ%3D%3D?line=3'>4</a>\u001b[0m df_2[\u001b[39m'\u001b[39m\u001b[39mdate_of_birth\u001b[39m\u001b[39m'\u001b[39m] \u001b[39m=\u001b[39m datetime\u001b[39m.\u001b[39mstrptime(df_2[\u001b[39m'\u001b[39m\u001b[39mdate_of_birth\u001b[39m\u001b[39m'\u001b[39m], \u001b[39mformat\u001b[39m\u001b[39m=\u001b[39m\u001b[39m'\u001b[39m\u001b[39m%d\u001b[39;00m\u001b[39m/\u001b[39m\u001b[39m%\u001b[39m\u001b[39mm/\u001b[39m\u001b[39m%\u001b[39m\u001b[39mY\u001b[39m\u001b[39m'\u001b[39m)\n\u001b[1;32m      <a href='vscode-notebook-cell://codespaces%2Bubiquitous-bassoon-jq6j9r659q43jjwr/workspaces/ERN-sessions/Martin_Homer/session_1.ipynb#X21sdnNjb2RlLXJlbW90ZQ%3D%3D?line=4'>5</a>\u001b[0m \u001b[39m# df_2\u001b[39;00m\n",
      "\u001b[0;31mNameError\u001b[0m: name 'datetime' is not defined"
     ]
    }
   ],
   "source": [
    "df_2['date_of_birth'] = ['05-08-1995', '26-05-1997', '05-04-1995', '07-01-2000']\n",
    "df_2\n",
    "\n",
    "df_2['date_of_birth'] = datetime.strptime(df_2['date_of_birth'], format='%d/%m/%Y')\n",
    "# df_2"
   ]
  }
 ],
 "metadata": {
  "kernelspec": {
   "display_name": "Python 3",
   "language": "python",
   "name": "python3"
  },
  "language_info": {
   "codemirror_mode": {
    "name": "ipython",
    "version": 3
   },
   "file_extension": ".py",
   "mimetype": "text/x-python",
   "name": "python",
   "nbconvert_exporter": "python",
   "pygments_lexer": "ipython3",
   "version": "3.10.8"
  }
 },
 "nbformat": 4,
 "nbformat_minor": 2
}

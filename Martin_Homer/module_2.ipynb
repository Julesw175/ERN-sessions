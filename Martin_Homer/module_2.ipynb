{
 "cells": [
  {
   "cell_type": "code",
   "execution_count": 2,
   "metadata": {},
   "outputs": [
    {
     "name": "stdout",
     "output_type": "stream",
     "text": [
      "1\n",
      "2\n",
      "3\n",
      "4\n",
      "5\n"
     ]
    }
   ],
   "source": [
    "numbers = [1,2,3,4,5]\n",
    "\n",
    "for i in numbers:\n",
    "    print(i)"
   ]
  },
  {
   "cell_type": "code",
   "execution_count": 5,
   "metadata": {},
   "outputs": [
    {
     "name": "stdout",
     "output_type": "stream",
     "text": [
      "dict_items([('Dad', 'Homer'), ('Mum', 'Marge'), ('Baby', 'Maggie')])\n",
      "Homer is the Dad\n",
      "Marge is the Mum\n",
      "Maggie is the Baby\n"
     ]
    }
   ],
   "source": [
    "simpsons = {'Dad':'Homer'\n",
    "            ,'Mum' : 'Marge'\n",
    "            ,'Baby' : 'Maggie'}\n",
    "print(simpsons.items())\n",
    "\n",
    "for family_member, name in simpsons.items():\n",
    "    print(f'{name} is the {family_member}')"
   ]
  },
  {
   "cell_type": "code",
   "execution_count": 21,
   "metadata": {},
   "outputs": [
    {
     "name": "stdout",
     "output_type": "stream",
     "text": [
      "dict_items([('Banana', 'Yellow'), ('Apple', 'Green'), ('Persimmon', 'Orange')])\n",
      "Bananas are Yellow\n",
      "Apples are Green\n",
      "Persimmons are Orange\n"
     ]
    }
   ],
   "source": [
    "fruits = {'Banana':'Yellow',\n",
    "            'Apple':'Green',\n",
    "            'Persimmon':'Orange'}\n",
    "print(fruits.items())\n",
    "\n",
    "for fruit_type, fruit_colour in fruits.items():\n",
    "    print(f'{fruit_type}s are {fruit_colour}')"
   ]
  },
  {
   "cell_type": "code",
   "execution_count": 27,
   "metadata": {},
   "outputs": [
    {
     "name": "stdout",
     "output_type": "stream",
     "text": [
      "['Barney', 'Ned', 'Krusty', 'Sideshow Bob']\n",
      "(0, 'Barney')\n",
      "(1, 'Ned')\n",
      "(2, 'Krusty')\n",
      "(3, 'Sideshow Bob')\n",
      "['Barney Simpson', 'Ned Simpson', 'Krusty Simpson', 'Sideshow Bob Simpson']\n"
     ]
    }
   ],
   "source": [
    "simpsons_side_characters = ['Barney', 'Ned', 'Krusty', 'Sideshow Bob']\n",
    "print(simpsons_side_characters)\n",
    "\n",
    "for i in enumerate(simpsons_side_characters): #enumerate uses the index location. Indexing starts at 0\n",
    "    print(i)\n",
    "\n",
    "for i, name in enumerate(simpsons_side_characters):\n",
    "    simpsons_side_characters[i] = f'{name} Simpson'\n",
    "print(simpsons_side_characters)"
   ]
  },
  {
   "cell_type": "code",
   "execution_count": 41,
   "metadata": {},
   "outputs": [
    {
     "data": {
      "text/html": [
       "<div>\n",
       "<style scoped>\n",
       "    .dataframe tbody tr th:only-of-type {\n",
       "        vertical-align: middle;\n",
       "    }\n",
       "\n",
       "    .dataframe tbody tr th {\n",
       "        vertical-align: top;\n",
       "    }\n",
       "\n",
       "    .dataframe thead th {\n",
       "        text-align: right;\n",
       "    }\n",
       "</style>\n",
       "<table border=\"1\" class=\"dataframe\">\n",
       "  <thead>\n",
       "    <tr style=\"text-align: right;\">\n",
       "      <th></th>\n",
       "      <th>Name</th>\n",
       "      <th>Role</th>\n",
       "      <th>Origin</th>\n",
       "    </tr>\n",
       "  </thead>\n",
       "  <tbody>\n",
       "    <tr>\n",
       "      <th>0</th>\n",
       "      <td>Vicki</td>\n",
       "      <td>Wife</td>\n",
       "      <td>Dataframe 1</td>\n",
       "    </tr>\n",
       "    <tr>\n",
       "      <th>1</th>\n",
       "      <td>Henry</td>\n",
       "      <td>Son</td>\n",
       "      <td>Dataframe 1</td>\n",
       "    </tr>\n",
       "    <tr>\n",
       "      <th>2</th>\n",
       "      <td>Heidi</td>\n",
       "      <td>Daughter</td>\n",
       "      <td>Dataframe 1</td>\n",
       "    </tr>\n",
       "  </tbody>\n",
       "</table>\n",
       "</div>"
      ],
      "text/plain": [
       "    Name      Role       Origin\n",
       "0  Vicki      Wife  Dataframe 1\n",
       "1  Henry       Son  Dataframe 1\n",
       "2  Heidi  Daughter  Dataframe 1"
      ]
     },
     "execution_count": 41,
     "metadata": {},
     "output_type": "execute_result"
    }
   ],
   "source": [
    "import pandas as pd\n",
    "\n",
    "fam_1 = pd.DataFrame({'Name':['Vicki', 'Henry', 'Heidi'],\n",
    "                        'Role':['Wife', 'Son', 'Daughter']})\n",
    "fam_2 = pd.DataFrame({'Name':['Clare', 'Edward', 'Sofia'],\n",
    "                        'Role':['Sister', 'Bro-in-Law', 'Niece']})\n",
    "#print(fam_1)\n",
    "#print(fam_2)\n",
    "\n",
    "fam_dict = {'Dataframe 1' : fam_1,\n",
    "            'Dataframe 2' : fam_2}\n",
    "#print(fam_dict)\n",
    "\n",
    "#for k, v in fam_dict.items():\n",
    "#    print(k)\n",
    "#    print(v)\n",
    "\n",
    "for k, v in fam_dict.items():\n",
    "    v['Origin'] = k\n",
    "\n",
    "fam_dict['Dataframe 1']"
   ]
  },
  {
   "cell_type": "code",
   "execution_count": 48,
   "metadata": {},
   "outputs": [
    {
     "name": "stdout",
     "output_type": "stream",
     "text": [
      "  child_id  age_first_contact gender  nhs_number\n",
      "0  child 1                  6      M        1234\n",
      "1  child 2                 10      M        4567\n",
      "2  child 3                 12      M        7899\n",
      "3  child 4                 13      F        7342\n"
     ]
    }
   ],
   "source": [
    "child_identifiers = pd.DataFrame({'child_id':['child 1', 'child 2', 'child 3', 'child 4'],\n",
    "                                    'age_first_contact':[6, 10, 12, 13],\n",
    "                                    'gender':['M', 'M', 'M', 'F']\n",
    "                                    })\n",
    "#print(child_identifiers)\n",
    "\n",
    "nhs_numbers = pd.DataFrame({'child_id':['child 1', 'child 2', 'child 3', 'child 4'],\n",
    "                            'nhs_number':[1234,4567,7899,7342]                            \n",
    "                                })\n",
    "#print(nhs_numbers)\n",
    "\n",
    "ident_nhs = child_identifiers.merge(nhs_numbers, how='left', left_on='child_id', right_on='child_id') #left on=['child_id', 'DOB'] << example of joining on two arguments\n",
    "\n",
    "print(ident_nhs)"
   ]
  },
  {
   "cell_type": "code",
   "execution_count": 56,
   "metadata": {},
   "outputs": [
    {
     "name": "stdout",
     "output_type": "stream",
     "text": [
      "    Name      Role       Origin         DOB\n",
      "0  Vicki      Wife  Dataframe 1  27/02/1982\n",
      "1  Henry       Son  Dataframe 1  17/11/2008\n",
      "2  Heidi  Daughter  Dataframe 1  05/07/2011\n"
     ]
    }
   ],
   "source": [
    "#print(fam_dict)\n",
    "\n",
    "fam_dobs = pd.DataFrame({'Name':['Vicki', 'Henry', 'Heidi'],\n",
    "                            'DOB':['27/02/1982', '17/11/2008', '05/07/2011']\n",
    "                        })\n",
    "#print(fam_dobs)\n",
    "\n",
    "fam_1_with_dobs = fam_1.merge(fam_dobs, how='left', left_on='Name', right_on='Name')\n",
    "\n",
    "print(fam_1_with_dobs)"
   ]
  }
 ],
 "metadata": {
  "kernelspec": {
   "display_name": "Python 3",
   "language": "python",
   "name": "python3"
  },
  "language_info": {
   "codemirror_mode": {
    "name": "ipython",
    "version": 3
   },
   "file_extension": ".py",
   "mimetype": "text/x-python",
   "name": "python",
   "nbconvert_exporter": "python",
   "pygments_lexer": "ipython3",
   "version": "3.10.8"
  }
 },
 "nbformat": 4,
 "nbformat_minor": 2
}

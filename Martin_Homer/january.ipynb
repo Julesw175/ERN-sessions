{
 "cells": [
  {
   "cell_type": "code",
   "execution_count": 5,
   "metadata": {},
   "outputs": [
    {
     "name": "stdout",
     "output_type": "stream",
     "text": [
      "25\n",
      "1.0\n",
      "(25, 1.0)\n"
     ]
    }
   ],
   "source": [
    "def mul(x, y):\n",
    "    return x * y\n",
    "\n",
    "def div(x, y):\n",
    "    return x / y\n",
    "\n",
    "print(mul(5,5))\n",
    "print(div(5,5))\n",
    "\n",
    "def mul_div(x, y):\n",
    "    multiply = mul(5, 5)\n",
    "    divide = div(5, 5)\n",
    "    return multiply, divide\n",
    "\n",
    "print(mul_div(5,5))"
   ]
  },
  {
   "cell_type": "code",
   "execution_count": 16,
   "metadata": {},
   "outputs": [
    {
     "name": "stdout",
     "output_type": "stream",
     "text": [
      "10\n"
     ]
    },
    {
     "ename": "TypeError",
     "evalue": "x and y was a string, expected float or int",
     "output_type": "error",
     "traceback": [
      "\u001b[0;31m---------------------------------------------------------------------------\u001b[0m",
      "\u001b[0;31mTypeError\u001b[0m                                 Traceback (most recent call last)",
      "Cell \u001b[0;32mIn[16], line 15\u001b[0m\n\u001b[1;32m     12\u001b[0m         \u001b[38;5;28;01mraise\u001b[39;00m \u001b[38;5;167;01mTypeError\u001b[39;00m(\u001b[38;5;124m\"\u001b[39m\u001b[38;5;124mx and y should both be floats or ints\u001b[39m\u001b[38;5;124m\"\u001b[39m)\n\u001b[1;32m     14\u001b[0m \u001b[38;5;28mprint\u001b[39m(addition_xy(\u001b[38;5;241m5\u001b[39m, \u001b[38;5;241m5\u001b[39m))\n\u001b[0;32m---> 15\u001b[0m \u001b[38;5;28mprint\u001b[39m(\u001b[43maddition_xy\u001b[49m\u001b[43m(\u001b[49m\u001b[38;5;124;43m'\u001b[39;49m\u001b[38;5;124;43m5\u001b[39;49m\u001b[38;5;124;43m'\u001b[39;49m\u001b[43m,\u001b[49m\u001b[43m \u001b[49m\u001b[38;5;124;43m'\u001b[39;49m\u001b[38;5;124;43m5\u001b[39;49m\u001b[38;5;124;43m'\u001b[39;49m\u001b[43m)\u001b[49m)\n",
      "Cell \u001b[0;32mIn[16], line 6\u001b[0m, in \u001b[0;36maddition_xy\u001b[0;34m(x, y)\u001b[0m\n\u001b[1;32m      4\u001b[0m \u001b[38;5;28;01melif\u001b[39;00m((\u001b[38;5;28mtype\u001b[39m(x) \u001b[38;5;241m==\u001b[39m \u001b[38;5;28mstr\u001b[39m) \u001b[38;5;241m|\u001b[39m (\u001b[38;5;28mtype\u001b[39m(y) \u001b[38;5;241m==\u001b[39m \u001b[38;5;28mstr\u001b[39m)):\n\u001b[1;32m      5\u001b[0m     \u001b[38;5;28;01mif\u001b[39;00m (\u001b[38;5;28mtype\u001b[39m(x) \u001b[38;5;241m==\u001b[39m \u001b[38;5;28mstr\u001b[39m) \u001b[38;5;241m&\u001b[39m (\u001b[38;5;28mtype\u001b[39m(x) \u001b[38;5;241m==\u001b[39m \u001b[38;5;28mstr\u001b[39m):\n\u001b[0;32m----> 6\u001b[0m         \u001b[38;5;28;01mraise\u001b[39;00m \u001b[38;5;167;01mTypeError\u001b[39;00m(\u001b[38;5;124m\"\u001b[39m\u001b[38;5;124mx and y was a string, expected float or int\u001b[39m\u001b[38;5;124m\"\u001b[39m)\n\u001b[1;32m      7\u001b[0m     \u001b[38;5;28;01mif\u001b[39;00m \u001b[38;5;28mtype\u001b[39m(x) \u001b[38;5;241m==\u001b[39m \u001b[38;5;28mstr\u001b[39m:\n\u001b[1;32m      8\u001b[0m         \u001b[38;5;28;01mraise\u001b[39;00m \u001b[38;5;167;01mTypeError\u001b[39;00m(\u001b[38;5;124m\"\u001b[39m\u001b[38;5;124mx was a string, expected float or int\u001b[39m\u001b[38;5;124m\"\u001b[39m)\n",
      "\u001b[0;31mTypeError\u001b[0m: x and y was a string, expected float or int"
     ]
    }
   ],
   "source": [
    "def addition_xy(x, y):\n",
    "    if ((type(x) == float) | (type(x) == int)) & ((type(y) == float) | (type(y) == int)):\n",
    "        return x + y\n",
    "    elif((type(x) == str) | (type(y) == str)):\n",
    "        if (type(x) == str) & (type(x) == str):\n",
    "            raise TypeError(\"x and y was a string, expected float or int\")\n",
    "        if type(x) == str:\n",
    "            raise TypeError(\"x was a string, expected float or int\")\n",
    "        if type(y) == str:\n",
    "            raise TypeError(\"y was a string, expected float or int\")\n",
    "    else:\n",
    "        raise TypeError(\"x and y should both be floats or ints\")\n",
    "    \n",
    "print(addition_xy(5, 5))\n",
    "print(addition_xy('5', '5'))"
   ]
  },
  {
   "cell_type": "code",
   "execution_count": 25,
   "metadata": {},
   "outputs": [
    {
     "name": "stdout",
     "output_type": "stream",
     "text": [
      "it's an apple\n",
      "None\n"
     ]
    }
   ],
   "source": [
    "def apple_or_error(item):\n",
    "    if item == 'apple':\n",
    "        print(\"it's an apple\")\n",
    "    else:\n",
    "        raise ValueError(f\"Apple was expected, got {item}.\")\n",
    "\n",
    "print(apple_or_error(\"apple\"))    \n",
    "#print(apple_or_error(\"pear\"))"
   ]
  },
  {
   "cell_type": "code",
   "execution_count": 45,
   "metadata": {},
   "outputs": [
    {
     "name": "stdout",
     "output_type": "stream",
     "text": [
      "My string, Today is Monday, is over 5 characters.\n"
     ]
    }
   ],
   "source": [
    "my_long_string = \"Today is Monday\"\n",
    "my_exact_string = \"Today\"\n",
    "my_short_string = \"Tod\"\n",
    "my_wrong_string = 5\n",
    "\n",
    "# len(my_string)\n",
    "\n",
    "def length_over_5(string):\n",
    "    if type(string) == str:\n",
    "        if len(string) > 5:\n",
    "            return f\"My string, {string}, is over 5 characters.\"\n",
    "        elif len(string) < 5:\n",
    "            return f\"My string, {string}, is less than 5 characters\"\n",
    "        else:\n",
    "            return f\"My string, {string}, is exactly 5 characters.\"\n",
    "    else:\n",
    "        raise TypeError(f\"A string is expected here, but instead got {type(string)}\")\n",
    "    \n",
    "print(length_over_5(my_long_string))"
   ]
  },
  {
   "cell_type": "code",
   "execution_count": 63,
   "metadata": {},
   "outputs": [
    {
     "name": "stdout",
     "output_type": "stream",
     "text": [
      "10 is exactly 10!\n"
     ]
    }
   ],
   "source": [
    "def addition_and_check_value(x, y):\n",
    "    if ((type(x) == float) | (type(x) == int)) & ((type(y) == float) | (type(y) == int)):\n",
    "        if x + y > 10:\n",
    "            return f\"{x + y} is over 10.\"\n",
    "        if x + y < 10:\n",
    "            return f\"{x + y} is under 10.\"\n",
    "        else:\n",
    "            return f\"{x + y} is exactly 10!\"\n",
    "    elif((type(x) == str) | (type(y) == str)):\n",
    "        if (type(x) == str) & (type(y) == str):\n",
    "            raise TypeError(\"x and y was a string, expected float or int\")\n",
    "        if type(x) == str:\n",
    "            raise TypeError(\"x was a string, expected float or int\")\n",
    "        if type(y) == str:\n",
    "            raise TypeError(\"y was a string, expected float or int\")\n",
    "    else:\n",
    "        raise TypeError(\"x and y should both be floats or ints\")\n",
    "    \n",
    "print(addition_and_check_value(5,5))"
   ]
  },
  {
   "cell_type": "code",
   "execution_count": 67,
   "metadata": {},
   "outputs": [
    {
     "name": "stdout",
     "output_type": "stream",
     "text": [
      "You have an error\n",
      "7\n"
     ]
    }
   ],
   "source": [
    "def add_two_things(x, y):\n",
    "    try:\n",
    "        return x + y #will concat if two strings\n",
    "    except:\n",
    "        return \"You have an error\"\n",
    "    \n",
    "print(add_two_things(4, \"3\"))\n",
    "print(add_two_things(4, 3))"
   ]
  },
  {
   "cell_type": "code",
   "execution_count": 70,
   "metadata": {},
   "outputs": [
    {
     "name": "stdout",
     "output_type": "stream",
     "text": [
      "25\n",
      "25\n",
      "2.0\n"
     ]
    }
   ],
   "source": [
    "# Lambda used for simple functions, often on one line.\n",
    "\n",
    "square_function = (lambda x: x*x)\n",
    "square = square_function(5)\n",
    "print(square)\n",
    "\n",
    "def square_x(x):\n",
    "    return x*x\n",
    "\n",
    "print(square_x(5))\n",
    "\n",
    "divided = (lambda x, y: x / y)(10,5)\n",
    "print(divided)"
   ]
  },
  {
   "cell_type": "code",
   "execution_count": 73,
   "metadata": {},
   "outputs": [
    {
     "name": "stdout",
     "output_type": "stream",
     "text": [
      "[0, 2, 4, 6, 8, 10, 12, 14, 16, 18]\n",
      "[0, 2, 4, 6, 8, 10, 12, 14, 16, 18]\n"
     ]
    }
   ],
   "source": [
    "#list comprehension\n",
    "\n",
    "list_of_numbers = list(range(20))\n",
    "\n",
    "evens = [x for x in list_of_numbers if x %2 == 0]\n",
    "print(evens)\n",
    "\n",
    "list_of_evens = [] #this is a loop example of the above list comprehension\n",
    "for x in list_of_numbers:\n",
    "    if x %2 == 0:\n",
    "        list_of_evens.append(x)\n",
    "\n",
    "print(list_of_evens)\n",
    "\n",
    "\n"
   ]
  },
  {
   "cell_type": "code",
   "execution_count": 74,
   "metadata": {},
   "outputs": [
    {
     "name": "stdout",
     "output_type": "stream",
     "text": [
      "15\n"
     ]
    }
   ],
   "source": [
    "addition_lambda = (lambda x, y: x + y)(10,5)\n",
    "print(addition_lambda)"
   ]
  },
  {
   "cell_type": "code",
   "execution_count": 79,
   "metadata": {},
   "outputs": [
    {
     "name": "stdout",
     "output_type": "stream",
     "text": [
      "[1.0, 1.4142135623730951, 1.7320508075688772, 2.0, 2.23606797749979, 2.449489742783178, 2.6457513110645907, 2.8284271247461903, 3.0, 3.1622776601683795]\n"
     ]
    }
   ],
   "source": [
    "import math\n",
    "\n",
    "list_numbers_1_to_10 = list(range(1,11))\n",
    "\n",
    "square_roots = [math.sqrt(x) for x in range(1,11)]\n",
    "print(square_roots)"
   ]
  },
  {
   "cell_type": "code",
   "execution_count": 87,
   "metadata": {},
   "outputs": [
    {
     "name": "stdout",
     "output_type": "stream",
     "text": [
      "   Percentage change (monthly) All property types Relative price change\n",
      "0                                            3.94                Higher\n",
      "1                                            3.94                Higher\n",
      "2                                            3.94                Higher\n",
      "3                                            4.00                Higher\n",
      "4                                            4.00                Higher\n",
      "5                                            4.00                Higher\n",
      "6                                            4.05                Higher\n",
      "7                                            4.05                Higher\n",
      "8                                            4.05                Higher\n",
      "9                                            0.19                 Lower\n"
     ]
    }
   ],
   "source": [
    "import pandas as pd\n",
    "\n",
    "houses_df = pd.read_csv('https://raw.githubusercontent.com/data-to-insight/D2I-Jupyter-Notebook-Tools/main/ERN-worksheets/data/1980%202023%20average%20house%20prices.csv')\n",
    "\n",
    "def change_checker(x):\n",
    "    av_change = houses_df[\"Percentage change (monthly) All property types\"].mean()\n",
    "    if x > av_change:\n",
    "        return \"Higher\"\n",
    "    elif x == av_change:\n",
    "        return \"Equal\"\n",
    "    else:\n",
    "        return \"Lower\"\n",
    "    \n",
    "houses_df[\"Relative price change\"] = houses_df[\"Percentage change (monthly) All property types\"].apply(change_checker)\n",
    "\n",
    "print(houses_df[[\"Percentage change (monthly) All property types\", \"Relative price change\"]].head(10))"
   ]
  }
 ],
 "metadata": {
  "kernelspec": {
   "display_name": "Python 3",
   "language": "python",
   "name": "python3"
  },
  "language_info": {
   "codemirror_mode": {
    "name": "ipython",
    "version": 3
   },
   "file_extension": ".py",
   "mimetype": "text/x-python",
   "name": "python",
   "nbconvert_exporter": "python",
   "pygments_lexer": "ipython3",
   "version": "3.10.8"
  }
 },
 "nbformat": 4,
 "nbformat_minor": 2
}

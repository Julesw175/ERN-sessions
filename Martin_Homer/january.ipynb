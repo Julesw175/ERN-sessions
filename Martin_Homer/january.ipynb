{
 "cells": [
  {
   "cell_type": "code",
   "execution_count": 5,
   "metadata": {},
   "outputs": [
    {
     "name": "stdout",
     "output_type": "stream",
     "text": [
      "25\n",
      "1.0\n",
      "(25, 1.0)\n"
     ]
    }
   ],
   "source": [
    "def mul(x, y):\n",
    "    return x * y\n",
    "\n",
    "def div(x, y):\n",
    "    return x / y\n",
    "\n",
    "print(mul(5,5))\n",
    "print(div(5,5))\n",
    "\n",
    "def mul_div(x, y):\n",
    "    multiply = mul(5, 5)\n",
    "    divide = div(5, 5)\n",
    "    return multiply, divide\n",
    "\n",
    "print(mul_div(5,5))"
   ]
  },
  {
   "cell_type": "code",
   "execution_count": 16,
   "metadata": {},
   "outputs": [
    {
     "name": "stdout",
     "output_type": "stream",
     "text": [
      "10\n"
     ]
    },
    {
     "ename": "TypeError",
     "evalue": "x and y was a string, expected float or int",
     "output_type": "error",
     "traceback": [
      "\u001b[0;31m---------------------------------------------------------------------------\u001b[0m",
      "\u001b[0;31mTypeError\u001b[0m                                 Traceback (most recent call last)",
      "Cell \u001b[0;32mIn[16], line 15\u001b[0m\n\u001b[1;32m     12\u001b[0m         \u001b[38;5;28;01mraise\u001b[39;00m \u001b[38;5;167;01mTypeError\u001b[39;00m(\u001b[38;5;124m\"\u001b[39m\u001b[38;5;124mx and y should both be floats or ints\u001b[39m\u001b[38;5;124m\"\u001b[39m)\n\u001b[1;32m     14\u001b[0m \u001b[38;5;28mprint\u001b[39m(addition_xy(\u001b[38;5;241m5\u001b[39m, \u001b[38;5;241m5\u001b[39m))\n\u001b[0;32m---> 15\u001b[0m \u001b[38;5;28mprint\u001b[39m(\u001b[43maddition_xy\u001b[49m\u001b[43m(\u001b[49m\u001b[38;5;124;43m'\u001b[39;49m\u001b[38;5;124;43m5\u001b[39;49m\u001b[38;5;124;43m'\u001b[39;49m\u001b[43m,\u001b[49m\u001b[43m \u001b[49m\u001b[38;5;124;43m'\u001b[39;49m\u001b[38;5;124;43m5\u001b[39;49m\u001b[38;5;124;43m'\u001b[39;49m\u001b[43m)\u001b[49m)\n",
      "Cell \u001b[0;32mIn[16], line 6\u001b[0m, in \u001b[0;36maddition_xy\u001b[0;34m(x, y)\u001b[0m\n\u001b[1;32m      4\u001b[0m \u001b[38;5;28;01melif\u001b[39;00m((\u001b[38;5;28mtype\u001b[39m(x) \u001b[38;5;241m==\u001b[39m \u001b[38;5;28mstr\u001b[39m) \u001b[38;5;241m|\u001b[39m (\u001b[38;5;28mtype\u001b[39m(y) \u001b[38;5;241m==\u001b[39m \u001b[38;5;28mstr\u001b[39m)):\n\u001b[1;32m      5\u001b[0m     \u001b[38;5;28;01mif\u001b[39;00m (\u001b[38;5;28mtype\u001b[39m(x) \u001b[38;5;241m==\u001b[39m \u001b[38;5;28mstr\u001b[39m) \u001b[38;5;241m&\u001b[39m (\u001b[38;5;28mtype\u001b[39m(x) \u001b[38;5;241m==\u001b[39m \u001b[38;5;28mstr\u001b[39m):\n\u001b[0;32m----> 6\u001b[0m         \u001b[38;5;28;01mraise\u001b[39;00m \u001b[38;5;167;01mTypeError\u001b[39;00m(\u001b[38;5;124m\"\u001b[39m\u001b[38;5;124mx and y was a string, expected float or int\u001b[39m\u001b[38;5;124m\"\u001b[39m)\n\u001b[1;32m      7\u001b[0m     \u001b[38;5;28;01mif\u001b[39;00m \u001b[38;5;28mtype\u001b[39m(x) \u001b[38;5;241m==\u001b[39m \u001b[38;5;28mstr\u001b[39m:\n\u001b[1;32m      8\u001b[0m         \u001b[38;5;28;01mraise\u001b[39;00m \u001b[38;5;167;01mTypeError\u001b[39;00m(\u001b[38;5;124m\"\u001b[39m\u001b[38;5;124mx was a string, expected float or int\u001b[39m\u001b[38;5;124m\"\u001b[39m)\n",
      "\u001b[0;31mTypeError\u001b[0m: x and y was a string, expected float or int"
     ]
    }
   ],
   "source": [
    "def addition_xy(x, y):\n",
    "    if ((type(x) == float) | (type(x) == int)) & ((type(y) == float) | (type(y) == int)):\n",
    "        return x + y\n",
    "    elif((type(x) == str) | (type(y) == str)):\n",
    "        if (type(x) == str) & (type(x) == str):\n",
    "            raise TypeError(\"x and y was a string, expected float or int\")\n",
    "        if type(x) == str:\n",
    "            raise TypeError(\"x was a string, expected float or int\")\n",
    "        if type(y) == str:\n",
    "            raise TypeError(\"y was a string, expected float or int\")\n",
    "    else:\n",
    "        raise TypeError(\"x and y should both be floats or ints\")\n",
    "    \n",
    "print(addition_xy(5, 5))\n",
    "print(addition_xy('5', '5'))"
   ]
  },
  {
   "cell_type": "code",
   "execution_count": 25,
   "metadata": {},
   "outputs": [
    {
     "name": "stdout",
     "output_type": "stream",
     "text": [
      "it's an apple\n",
      "None\n"
     ]
    }
   ],
   "source": [
    "def apple_or_error(item):\n",
    "    if item == 'apple':\n",
    "        print(\"it's an apple\")\n",
    "    else:\n",
    "        raise ValueError(f\"Apple was expected, got {item}.\")\n",
    "\n",
    "print(apple_or_error(\"apple\"))    \n",
    "#print(apple_or_error(\"pear\"))"
   ]
  }
 ],
 "metadata": {
  "kernelspec": {
   "display_name": "Python 3",
   "language": "python",
   "name": "python3"
  },
  "language_info": {
   "codemirror_mode": {
    "name": "ipython",
    "version": 3
   },
   "file_extension": ".py",
   "mimetype": "text/x-python",
   "name": "python",
   "nbconvert_exporter": "python",
   "pygments_lexer": "ipython3",
   "version": "3.10.8"
  }
 },
 "nbformat": 4,
 "nbformat_minor": 2
}

{
 "cells": [
  {
   "cell_type": "code",
   "execution_count": 1,
   "metadata": {},
   "outputs": [],
   "source": [
    "import pandas as pd"
   ]
  },
  {
   "cell_type": "code",
   "execution_count": 16,
   "metadata": {},
   "outputs": [],
   "source": [
    "df_house_prices = pd.read_csv('/workspaces/ERN-sessions/data/1980 2023 average house prices.csv') #importing from data folder within github.\n",
    "\n",
    "df_house_prices['Period'] = pd.to_datetime(df_house_prices['Period'], format='%Y-%m')\n",
    "\n",
    "#df_house_prices.info()"
   ]
  },
  {
   "cell_type": "code",
   "execution_count": 15,
   "metadata": {},
   "outputs": [
    {
     "name": "stdout",
     "output_type": "stream",
     "text": [
      "Maximum percentage change: 13.29\n",
      "Minimum percentage chnage: -4.79\n",
      "Average percentage change: 1.191759082217973\n"
     ]
    }
   ],
   "source": [
    "df_house_prices_highest_monthly_change = df_house_prices['Percentage change (monthly) All property types'].max()\n",
    "df_house_prices_lowest_monthly_change = df_house_prices['Percentage change (monthly) All property types'].min()\n",
    "df_house_prices_average_monthly_change = df_house_prices['Percentage change (monthly) All property types'].mean()\n",
    "\n",
    "print(f\"Maximum percentage change: {df_house_prices_highest_monthly_change}\")\n",
    "print(f\"Minimum percentage chnage: {df_house_prices_lowest_monthly_change}\")\n",
    "print(f\"Average percentage change: {df_house_prices_average_monthly_change}\")"
   ]
  },
  {
   "cell_type": "code",
   "execution_count": 22,
   "metadata": {},
   "outputs": [
    {
     "data": {
      "text/html": [
       "<div>\n",
       "<style scoped>\n",
       "    .dataframe tbody tr th:only-of-type {\n",
       "        vertical-align: middle;\n",
       "    }\n",
       "\n",
       "    .dataframe tbody tr th {\n",
       "        vertical-align: top;\n",
       "    }\n",
       "\n",
       "    .dataframe thead th {\n",
       "        text-align: right;\n",
       "    }\n",
       "</style>\n",
       "<table border=\"1\" class=\"dataframe\">\n",
       "  <thead>\n",
       "    <tr style=\"text-align: right;\">\n",
       "      <th></th>\n",
       "      <th>Name</th>\n",
       "      <th>Period</th>\n",
       "      <th>House price index All property types</th>\n",
       "      <th>Average price All property types</th>\n",
       "      <th>Percentage change (monthly) All property types</th>\n",
       "      <th>Percentage change (yearly) All property types</th>\n",
       "    </tr>\n",
       "  </thead>\n",
       "  <tbody>\n",
       "    <tr>\n",
       "      <th>0</th>\n",
       "      <td>United Kingdom</td>\n",
       "      <td>1980-01-01</td>\n",
       "      <td>10.11</td>\n",
       "      <td>19273</td>\n",
       "      <td>3.94</td>\n",
       "      <td>28.59</td>\n",
       "    </tr>\n",
       "    <tr>\n",
       "      <th>1</th>\n",
       "      <td>United Kingdom</td>\n",
       "      <td>1980-02-01</td>\n",
       "      <td>10.11</td>\n",
       "      <td>19273</td>\n",
       "      <td>3.94</td>\n",
       "      <td>28.59</td>\n",
       "    </tr>\n",
       "    <tr>\n",
       "      <th>2</th>\n",
       "      <td>United Kingdom</td>\n",
       "      <td>1980-03-01</td>\n",
       "      <td>10.11</td>\n",
       "      <td>19273</td>\n",
       "      <td>3.94</td>\n",
       "      <td>28.59</td>\n",
       "    </tr>\n",
       "    <tr>\n",
       "      <th>3</th>\n",
       "      <td>United Kingdom</td>\n",
       "      <td>1980-04-01</td>\n",
       "      <td>10.51</td>\n",
       "      <td>20044</td>\n",
       "      <td>4.00</td>\n",
       "      <td>24.15</td>\n",
       "    </tr>\n",
       "    <tr>\n",
       "      <th>4</th>\n",
       "      <td>United Kingdom</td>\n",
       "      <td>1980-05-01</td>\n",
       "      <td>10.51</td>\n",
       "      <td>20044</td>\n",
       "      <td>4.00</td>\n",
       "      <td>24.15</td>\n",
       "    </tr>\n",
       "    <tr>\n",
       "      <th>...</th>\n",
       "      <td>...</td>\n",
       "      <td>...</td>\n",
       "      <td>...</td>\n",
       "      <td>...</td>\n",
       "      <td>...</td>\n",
       "      <td>...</td>\n",
       "    </tr>\n",
       "    <tr>\n",
       "      <th>500</th>\n",
       "      <td>United Kingdom</td>\n",
       "      <td>2021-09-01</td>\n",
       "      <td>141.09</td>\n",
       "      <td>269003</td>\n",
       "      <td>3.29</td>\n",
       "      <td>11.37</td>\n",
       "    </tr>\n",
       "    <tr>\n",
       "      <th>502</th>\n",
       "      <td>United Kingdom</td>\n",
       "      <td>2021-11-01</td>\n",
       "      <td>140.23</td>\n",
       "      <td>267370</td>\n",
       "      <td>1.53</td>\n",
       "      <td>8.66</td>\n",
       "    </tr>\n",
       "    <tr>\n",
       "      <th>504</th>\n",
       "      <td>United Kingdom</td>\n",
       "      <td>2022-01-01</td>\n",
       "      <td>143.05</td>\n",
       "      <td>272738</td>\n",
       "      <td>1.72</td>\n",
       "      <td>9.23</td>\n",
       "    </tr>\n",
       "    <tr>\n",
       "      <th>508</th>\n",
       "      <td>United Kingdom</td>\n",
       "      <td>2022-05-01</td>\n",
       "      <td>147.10</td>\n",
       "      <td>280433</td>\n",
       "      <td>1.30</td>\n",
       "      <td>11.60</td>\n",
       "    </tr>\n",
       "    <tr>\n",
       "      <th>510</th>\n",
       "      <td>United Kingdom</td>\n",
       "      <td>2022-07-01</td>\n",
       "      <td>151.10</td>\n",
       "      <td>288156</td>\n",
       "      <td>1.90</td>\n",
       "      <td>13.80</td>\n",
       "    </tr>\n",
       "  </tbody>\n",
       "</table>\n",
       "<p>210 rows × 6 columns</p>\n",
       "</div>"
      ],
      "text/plain": [
       "               Name     Period  House price index All property types  \\\n",
       "0    United Kingdom 1980-01-01                                 10.11   \n",
       "1    United Kingdom 1980-02-01                                 10.11   \n",
       "2    United Kingdom 1980-03-01                                 10.11   \n",
       "3    United Kingdom 1980-04-01                                 10.51   \n",
       "4    United Kingdom 1980-05-01                                 10.51   \n",
       "..              ...        ...                                   ...   \n",
       "500  United Kingdom 2021-09-01                                141.09   \n",
       "502  United Kingdom 2021-11-01                                140.23   \n",
       "504  United Kingdom 2022-01-01                                143.05   \n",
       "508  United Kingdom 2022-05-01                                147.10   \n",
       "510  United Kingdom 2022-07-01                                151.10   \n",
       "\n",
       "     Average price All property types  \\\n",
       "0                               19273   \n",
       "1                               19273   \n",
       "2                               19273   \n",
       "3                               20044   \n",
       "4                               20044   \n",
       "..                                ...   \n",
       "500                            269003   \n",
       "502                            267370   \n",
       "504                            272738   \n",
       "508                            280433   \n",
       "510                            288156   \n",
       "\n",
       "     Percentage change (monthly) All property types  \\\n",
       "0                                              3.94   \n",
       "1                                              3.94   \n",
       "2                                              3.94   \n",
       "3                                              4.00   \n",
       "4                                              4.00   \n",
       "..                                              ...   \n",
       "500                                            3.29   \n",
       "502                                            1.53   \n",
       "504                                            1.72   \n",
       "508                                            1.30   \n",
       "510                                            1.90   \n",
       "\n",
       "     Percentage change (yearly) All property types  \n",
       "0                                            28.59  \n",
       "1                                            28.59  \n",
       "2                                            28.59  \n",
       "3                                            24.15  \n",
       "4                                            24.15  \n",
       "..                                             ...  \n",
       "500                                          11.37  \n",
       "502                                           8.66  \n",
       "504                                           9.23  \n",
       "508                                          11.60  \n",
       "510                                          13.80  \n",
       "\n",
       "[210 rows x 6 columns]"
      ]
     },
     "execution_count": 22,
     "metadata": {},
     "output_type": "execute_result"
    }
   ],
   "source": [
    "house_price_pct_change_greater_than_mean = df_house_prices['Percentage change (monthly) All property types'] > df_house_prices_average_monthly_change #condition I want to compare\n",
    "\n",
    "over_monthly_average = df_house_prices[house_price_pct_change_greater_than_mean] \n",
    "\n",
    "over_monthly_average\n",
    "\n",
    "# [] selecting from dataframe\n",
    "# () passing parameters"
   ]
  },
  {
   "cell_type": "code",
   "execution_count": 30,
   "metadata": {},
   "outputs": [
    {
     "name": "stdout",
     "output_type": "stream",
     "text": [
      "[1, 2, 3, 4, 5, 6, 7, 8, 9, 10, 11, 12, 13, 14, 15, 16, 17, 18, 19, 20, 21, 22, 23, 24, 25, 26, 27, 28, 29, 30, 31, 32, 33, 34, 35, 36, 37, 38, 39, 40, 41, 42, 43, 44, 45, 46, 47, 48, 49, 50, 51, 52, 53, 54, 55, 56, 57, 58, 59, 60, 61, 62, 63, 64, 65, 66, 67, 68, 69, 70, 71, 72, 73, 74, 75, 76, 77, 78, 79, 80, 81, 82, 83, 84, 85, 86, 87, 88, 89, 90, 91, 92, 93, 94, 95, 96, 97, 98, 99, 100]\n",
      "2550\n",
      "2500\n"
     ]
    }
   ],
   "source": [
    "up_to_100 = list(range(1,101))\n",
    "#up_to_100_by_2_odd = list(range(1,101,2))\n",
    "#up_to_100_by_2_even = list(range(0,101,2))\n",
    "\n",
    "print(up_to_100)\n",
    "#print(up_to_100_by_2_odd)\n",
    "#print(up_to_100_by_2_even)\n",
    "\n",
    "total_evens = 0\n",
    "\n",
    "for number in up_to_100:\n",
    "    if number %2 == 0:\n",
    "        total_evens += number\n",
    "\n",
    "print(total_evens)\n",
    "\n",
    "total_odds = 0\n",
    "\n",
    "for number in up_to_100:\n",
    "    if number %2 != 0: #or use == 1\n",
    "        total_odds += number\n",
    "\n",
    "print(total_odds)"
   ]
  },
  {
   "cell_type": "code",
   "execution_count": 34,
   "metadata": {},
   "outputs": [
    {
     "data": {
      "text/plain": [
       "11"
      ]
     },
     "execution_count": 34,
     "metadata": {},
     "output_type": "execute_result"
    }
   ],
   "source": [
    "# Functions\n",
    "#DRY - Don't Repeat Yourself\n",
    "\n",
    "def sum_function(x, y):\n",
    "    total = x + y\n",
    "    return total\n",
    "\n",
    "answer = sum_function(5,6)\n",
    "answer"
   ]
  },
  {
   "cell_type": "code",
   "execution_count": 36,
   "metadata": {},
   "outputs": [
    {
     "data": {
      "text/plain": [
       "12"
      ]
     },
     "execution_count": 36,
     "metadata": {},
     "output_type": "execute_result"
    }
   ],
   "source": [
    "def product_function(x, y):\n",
    "    '''\n",
    "    Finds the product of two arguments, returns the answer\n",
    "\n",
    "    Args:\n",
    "        x, y: Int or float, numbers for which product is found.\n",
    "\n",
    "    Returns:\n",
    "        product = Int of float, the product of x and y.\n",
    "    '''\n",
    "    total = x * y\n",
    "    return total\n",
    "\n",
    "product_answer = product_function(3,4)\n",
    "product_answer"
   ]
  },
  {
   "cell_type": "code",
   "execution_count": 2,
   "metadata": {},
   "outputs": [
    {
     "name": "stdout",
     "output_type": "stream",
     "text": [
      "8 3.0\n"
     ]
    }
   ],
   "source": [
    "def minus_div(x, y):\n",
    "    '''\n",
    "    Finds the values of two separate arguments, minus and divide, and returns them both.\n",
    "\n",
    "    Args:\n",
    "        x, y: Int or Float.\n",
    "\n",
    "    Return:\n",
    "        minus: Int or Float, x minus(-) y\n",
    "        divide: Int or Float, x divided(/) by y   \n",
    "    '''\n",
    "    minus = x - y\n",
    "    divide = x / y\n",
    "    return minus, divide\n",
    "\n",
    "minus_12_4, divide_12_4 = minus_div(12,4)\n",
    "print(minus_12_4, divide_12_4)"
   ]
  }
 ],
 "metadata": {
  "kernelspec": {
   "display_name": "Python 3",
   "language": "python",
   "name": "python3"
  },
  "language_info": {
   "codemirror_mode": {
    "name": "ipython",
    "version": 3
   },
   "file_extension": ".py",
   "mimetype": "text/x-python",
   "name": "python",
   "nbconvert_exporter": "python",
   "pygments_lexer": "ipython3",
   "version": "3.10.8"
  }
 },
 "nbformat": 4,
 "nbformat_minor": 2
}

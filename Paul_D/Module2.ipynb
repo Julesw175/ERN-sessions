{
 "cells": [
  {
   "cell_type": "code",
   "execution_count": 2,
   "metadata": {},
   "outputs": [
    {
     "name": "stdout",
     "output_type": "stream",
     "text": [
      "1\n",
      "2\n",
      "3\n",
      "4\n",
      "5\n"
     ]
    }
   ],
   "source": [
    "numbers = [1,2,3,4,5]\n",
    "\n",
    "for i in numbers:\n",
    "    print(i)"
   ]
  },
  {
   "cell_type": "code",
   "execution_count": 12,
   "metadata": {},
   "outputs": [
    {
     "name": "stdout",
     "output_type": "stream",
     "text": [
      "Homer is the dad\n",
      "Marge is the mum\n",
      "Maggie is the baby\n"
     ]
    }
   ],
   "source": [
    "simpsons = {'dad' : 'Homer',\n",
    "            'mum' : 'Marge',\n",
    "            'baby' : 'Maggie'}\n",
    "# print (simpsons.items())\n",
    "\n",
    "for family_member, name in simpsons.items():\n",
    "    print(f'{name} is the {family_member}')\n"
   ]
  },
  {
   "cell_type": "code",
   "execution_count": 10,
   "metadata": {},
   "outputs": [
    {
     "name": "stdout",
     "output_type": "stream",
     "text": [
      "chips\n",
      "lasagne\n",
      "pizza\n",
      "chilli\n",
      "katsu\n"
     ]
    }
   ],
   "source": [
    "numbers = ['chips','lasagne','pizza','chilli','katsu']\n",
    "\n",
    "for i in numbers:\n",
    "    print(i)"
   ]
  },
  {
   "cell_type": "code",
   "execution_count": 21,
   "metadata": {},
   "outputs": [
    {
     "name": "stdout",
     "output_type": "stream",
     "text": [
      "['Barney Simpson', 'Ned Simpson', 'Krusty Simpson', 'Sideshow Bob Simpson']\n"
     ]
    }
   ],
   "source": [
    "side_characters = ['Barney', 'Ned', 'Krusty', 'Sideshow Bob']\n",
    "#print(side_characters[0:3])\n",
    "\n",
    "for i, name in enumerate(side_characters):\n",
    "   # print(side_characters [i])\n",
    "   side_characters[i] = f'{name} Simpson'\n",
    "\n",
    "print (side_characters)"
   ]
  },
  {
   "cell_type": "code",
   "execution_count": 29,
   "metadata": {},
   "outputs": [
    {
     "data": {
      "text/html": [
       "<div>\n",
       "<style scoped>\n",
       "    .dataframe tbody tr th:only-of-type {\n",
       "        vertical-align: middle;\n",
       "    }\n",
       "\n",
       "    .dataframe tbody tr th {\n",
       "        vertical-align: top;\n",
       "    }\n",
       "\n",
       "    .dataframe thead th {\n",
       "        text-align: right;\n",
       "    }\n",
       "</style>\n",
       "<table border=\"1\" class=\"dataframe\">\n",
       "  <thead>\n",
       "    <tr style=\"text-align: right;\">\n",
       "      <th></th>\n",
       "      <th>names</th>\n",
       "      <th>jobtitle</th>\n",
       "      <th>originator</th>\n",
       "    </tr>\n",
       "  </thead>\n",
       "  <tbody>\n",
       "    <tr>\n",
       "      <th>0</th>\n",
       "      <td>Barney</td>\n",
       "      <td>Drunk</td>\n",
       "      <td>Dataframe 1</td>\n",
       "    </tr>\n",
       "    <tr>\n",
       "      <th>1</th>\n",
       "      <td>Homer</td>\n",
       "      <td>Safety officer</td>\n",
       "      <td>Dataframe 1</td>\n",
       "    </tr>\n",
       "    <tr>\n",
       "      <th>2</th>\n",
       "      <td>Ned</td>\n",
       "      <td>Leftorium Owner</td>\n",
       "      <td>Dataframe 1</td>\n",
       "    </tr>\n",
       "  </tbody>\n",
       "</table>\n",
       "</div>"
      ],
      "text/plain": [
       "    names         jobtitle   originator\n",
       "0  Barney            Drunk  Dataframe 1\n",
       "1   Homer   Safety officer  Dataframe 1\n",
       "2     Ned  Leftorium Owner  Dataframe 1"
      ]
     },
     "execution_count": 29,
     "metadata": {},
     "output_type": "execute_result"
    }
   ],
   "source": [
    "import pandas as pd\n",
    "\n",
    "company1 = pd.DataFrame({'names':['Barney', 'Homer', 'Ned'],\n",
    "                     'jobtitle': ['Drunk','Safety officer' , 'Leftorium Owner']})\n",
    "\n",
    "company2 = pd.DataFrame({'names': ['Old Gil', 'Selma', 'Mayor Quimby'],\n",
    "                    'jobtitle':['Salesman', 'DMV', 'Politician']})\n",
    "\n",
    "df_dict = {'Dataframe 1':company1,\n",
    "           'Dataframe 2':company2}\n",
    "\n",
    "for k,v in df_dict.items():\n",
    "    v['originator'] = k\n",
    "\n",
    "df_dict['Dataframe 1']"
   ]
  },
  {
   "cell_type": "code",
   "execution_count": 38,
   "metadata": {},
   "outputs": [
    {
     "name": "stdout",
     "output_type": "stream",
     "text": [
      "  child_id  age_first_contact Gender NHS numbers\n",
      "0   child1                  6      M        NHS1\n",
      "1   child2                 10      M        NHS2\n",
      "2   child3                 12      M        NHS2\n",
      "3   child4                 13      M        NHS4\n"
     ]
    }
   ],
   "source": [
    "child_identifiers = pd.DataFrame( {'child_id': ['child1', 'child2', 'child3', 'child4'],\n",
    "              'age_first_contact' : [6,10,12,13],\n",
    "               'Gender' :['M', 'M', 'M', 'M'] })\n",
    "\n",
    "#print(return_906)\n",
    "\n",
    "nhs_numbs = pd.DataFrame ( {'child_id': ['child1', 'child2', 'child3', 'child4'],\n",
    "              'NHS numbers' : ['NHS1','NHS2', 'NHS2', 'NHS4'],\n",
    "                })\n",
    "#print(nhs_numbs)\n",
    "\n",
    "ident_nhs = child_identifiers.merge(nhs_numbs, how='left', left_on='child_id', right_on='child_id')\n",
    "\n",
    "print(ident_nhs)"
   ]
  },
  {
   "cell_type": "code",
   "execution_count": 39,
   "metadata": {},
   "outputs": [
    {
     "name": "stdout",
     "output_type": "stream",
     "text": [
      "      Name  Salary    IDS\n",
      "0      Jon    1000  12345\n",
      "1  Michael    2000  12346\n",
      "2    Emily    3000  12347\n",
      "3   Andrea    4000  12348\n"
     ]
    }
   ],
   "source": [
    "staff_names = pd.DataFrame( {'Name': ['Jon', 'Michael', 'Emily', 'Andrea'],\n",
    "              'Salary' : [1000,2000,3000,4000] })\n",
    "\n",
    "\n",
    "\n",
    "staff_ids = pd.DataFrame ( {'Name': ['Jon', 'Michael', 'Emily', 'Andrea'],\n",
    "              'IDS' : ['12345','12346', '12347', '12348'],\n",
    "                })\n",
    "\n",
    "\n",
    "ident_staff = staff_names.merge(staff_ids, how='left', left_on='Name', right_on='Name')\n",
    "\n",
    "print(ident_staff)"
   ]
  }
 ],
 "metadata": {
  "kernelspec": {
   "display_name": "Python 3",
   "language": "python",
   "name": "python3"
  },
  "language_info": {
   "codemirror_mode": {
    "name": "ipython",
    "version": 3
   },
   "file_extension": ".py",
   "mimetype": "text/x-python",
   "name": "python",
   "nbconvert_exporter": "python",
   "pygments_lexer": "ipython3",
   "version": "3.10.8"
  }
 },
 "nbformat": 4,
 "nbformat_minor": 2
}

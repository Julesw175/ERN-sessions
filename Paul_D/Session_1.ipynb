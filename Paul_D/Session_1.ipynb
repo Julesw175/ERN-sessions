{
 "cells": [
  {
   "cell_type": "code",
   "execution_count": 2,
   "metadata": {},
   "outputs": [
    {
     "name": "stdout",
     "output_type": "stream",
     "text": [
      "I'm Paul\n"
     ]
    }
   ],
   "source": [
    "phrase = \"I'm Paul\" # string\n",
    "print(phrase)"
   ]
  },
  {
   "cell_type": "code",
   "execution_count": 5,
   "metadata": {},
   "outputs": [
    {
     "name": "stdout",
     "output_type": "stream",
     "text": [
      "2.0\n",
      "<class 'float'>\n"
     ]
    }
   ],
   "source": [
    "x = 5 #integer\n",
    "y = 10 \n",
    "z = x + y\n",
    "z = y/x \n",
    "print(z)\n",
    "\n",
    "print(type(z))"
   ]
  },
  {
   "cell_type": "code",
   "execution_count": 6,
   "metadata": {},
   "outputs": [
    {
     "name": "stdout",
     "output_type": "stream",
     "text": [
      "120\n"
     ]
    }
   ],
   "source": [
    "x = 12\n",
    "y = 10\n",
    "z = x*y\n",
    "print (z)\n"
   ]
  },
  {
   "cell_type": "code",
   "execution_count": 11,
   "metadata": {},
   "outputs": [
    {
     "name": "stdout",
     "output_type": "stream",
     "text": [
      "12.56\n"
     ]
    }
   ],
   "source": [
    "radius = 2\n",
    "pie = 3.14\n",
    "area = pie * (radius**2)\n",
    "print (area)"
   ]
  },
  {
   "cell_type": "code",
   "execution_count": 20,
   "metadata": {},
   "outputs": [
    {
     "name": "stdout",
     "output_type": "stream",
     "text": [
      "My name is  Paul and my hobby is  Mario\n"
     ]
    }
   ],
   "source": [
    "name = \" Paul\"\n",
    "hobby =\" Mario\"\n",
    "long_string = \"my name is\" + name + \" and my hobby is\" + hobby\n",
    "#print (long_string)\n",
    "\n",
    "phrase = f\"My name is {name} and my hobby is {hobby}\"\n",
    "print(phrase)"
   ]
  },
  {
   "cell_type": "code",
   "execution_count": 21,
   "metadata": {},
   "outputs": [
    {
     "name": "stdout",
     "output_type": "stream",
     "text": [
      "my name is Paul Dryden and my role is senior P&D Manager\n"
     ]
    }
   ],
   "source": [
    "name1 = \"Paul Dryden\"\n",
    "jobtitle =\"senior P&D Manager\"\n",
    "phrase1 = f\"my name is {name1} and my role is {jobtitle}\"\n",
    "print (phrase1)"
   ]
  },
  {
   "cell_type": "code",
   "execution_count": 26,
   "metadata": {},
   "outputs": [
    {
     "name": "stdout",
     "output_type": "stream",
     "text": [
      "here_is_a_file\n"
     ]
    }
   ],
   "source": [
    "#print(len(phrase1))\n",
    "\n",
    "string_slice = phrase[3:16]\n",
    "#print (string_slice)\n",
    "\n",
    "filename = \"here_is_a_file.csv\"\n",
    "filename = filename[:-4]\n",
    "print (filename)"
   ]
  },
  {
   "cell_type": "code",
   "execution_count": 31,
   "metadata": {},
   "outputs": [
    {
     "name": "stdout",
     "output_type": "stream",
     "text": [
      "dog  cat \n"
     ]
    }
   ],
   "source": [
    "slice_this_phrase = 'dog cat racoon'\n",
    "word1 = slice_this_phrase [:4]\n",
    "word2 = slice_this_phrase [4:8]\n",
    "word3 = slice_this_phrase [-7:]\n",
    "print (f\"{word1} {word2}\")"
   ]
  },
  {
   "cell_type": "code",
   "execution_count": 32,
   "metadata": {},
   "outputs": [
    {
     "name": "stdout",
     "output_type": "stream",
     "text": [
      "[1, 2, 3, 12, 10]\n"
     ]
    }
   ],
   "source": [
    "list_1 = [1,2,3, x, y]\n",
    "print (list_1)"
   ]
  },
  {
   "cell_type": "code",
   "execution_count": 37,
   "metadata": {},
   "outputs": [
    {
     "name": "stdout",
     "output_type": "stream",
     "text": [
      "my colours are ['red', 'blue', 'green', 'orange']\n"
     ]
    }
   ],
   "source": [
    "favourite_colour = \"orange\"\n",
    "colours_list = ['red', 'blue', 'green']\n",
    "colours_list.append(favourite_colour)\n",
    "\n",
    "\n",
    "\n",
    "print (f'my colours are {colours_list}')"
   ]
  }
 ],
 "metadata": {
  "kernelspec": {
   "display_name": "Python 3",
   "language": "python",
   "name": "python3"
  },
  "language_info": {
   "codemirror_mode": {
    "name": "ipython",
    "version": 3
   },
   "file_extension": ".py",
   "mimetype": "text/x-python",
   "name": "python",
   "nbconvert_exporter": "python",
   "pygments_lexer": "ipython3",
   "version": "3.10.8"
  }
 },
 "nbformat": 4,
 "nbformat_minor": 2
}

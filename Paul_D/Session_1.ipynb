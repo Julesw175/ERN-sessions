{
 "cells": [
  {
   "cell_type": "code",
   "execution_count": 2,
   "metadata": {},
   "outputs": [
    {
     "name": "stdout",
     "output_type": "stream",
     "text": [
      "I'm Paul\n"
     ]
    }
   ],
   "source": [
    "phrase = \"I'm Paul\" # string\n",
    "print(phrase)"
   ]
  },
  {
   "cell_type": "code",
   "execution_count": 5,
   "metadata": {},
   "outputs": [
    {
     "name": "stdout",
     "output_type": "stream",
     "text": [
      "2.0\n",
      "<class 'float'>\n"
     ]
    }
   ],
   "source": [
    "x = 5 #integer\n",
    "y = 10 \n",
    "z = x + y\n",
    "z = y/x \n",
    "print(z)\n",
    "\n",
    "print(type(z))"
   ]
  },
  {
   "cell_type": "code",
   "execution_count": 6,
   "metadata": {},
   "outputs": [
    {
     "name": "stdout",
     "output_type": "stream",
     "text": [
      "120\n"
     ]
    }
   ],
   "source": [
    "x = 12\n",
    "y = 10\n",
    "z = x*y\n",
    "print (z)\n"
   ]
  },
  {
   "cell_type": "code",
   "execution_count": 11,
   "metadata": {},
   "outputs": [
    {
     "name": "stdout",
     "output_type": "stream",
     "text": [
      "12.56\n"
     ]
    }
   ],
   "source": [
    "radius = 2\n",
    "pie = 3.14\n",
    "area = pie * (radius**2)\n",
    "print (area)"
   ]
  },
  {
   "cell_type": "code",
   "execution_count": 20,
   "metadata": {},
   "outputs": [
    {
     "name": "stdout",
     "output_type": "stream",
     "text": [
      "My name is  Paul and my hobby is  Mario\n"
     ]
    }
   ],
   "source": [
    "name = \" Paul\"\n",
    "hobby =\" Mario\"\n",
    "long_string = \"my name is\" + name + \" and my hobby is\" + hobby\n",
    "#print (long_string)\n",
    "\n",
    "phrase = f\"My name is {name} and my hobby is {hobby}\"\n",
    "print(phrase)"
   ]
  },
  {
   "cell_type": "code",
   "execution_count": 21,
   "metadata": {},
   "outputs": [
    {
     "name": "stdout",
     "output_type": "stream",
     "text": [
      "my name is Paul Dryden and my role is senior P&D Manager\n"
     ]
    }
   ],
   "source": [
    "name1 = \"Paul Dryden\"\n",
    "jobtitle =\"senior P&D Manager\"\n",
    "phrase1 = f\"my name is {name1} and my role is {jobtitle}\"\n",
    "print (phrase1)"
   ]
  },
  {
   "cell_type": "code",
   "execution_count": 26,
   "metadata": {},
   "outputs": [
    {
     "name": "stdout",
     "output_type": "stream",
     "text": [
      "here_is_a_file\n"
     ]
    }
   ],
   "source": [
    "#print(len(phrase1))\n",
    "\n",
    "string_slice = phrase[3:16]\n",
    "#print (string_slice)\n",
    "\n",
    "filename = \"here_is_a_file.csv\"\n",
    "filename = filename[:-4]\n",
    "print (filename)"
   ]
  },
  {
   "cell_type": "code",
   "execution_count": 31,
   "metadata": {},
   "outputs": [
    {
     "name": "stdout",
     "output_type": "stream",
     "text": [
      "dog  cat \n"
     ]
    }
   ],
   "source": [
    "slice_this_phrase = 'dog cat racoon'\n",
    "word1 = slice_this_phrase [:4]\n",
    "word2 = slice_this_phrase [4:8]\n",
    "word3 = slice_this_phrase [-7:]\n",
    "print (f\"{word1} {word2}\")"
   ]
  },
  {
   "cell_type": "code",
   "execution_count": 32,
   "metadata": {},
   "outputs": [
    {
     "name": "stdout",
     "output_type": "stream",
     "text": [
      "[1, 2, 3, 12, 10]\n"
     ]
    }
   ],
   "source": [
    "list_1 = [1,2,3, x, y]\n",
    "print (list_1)"
   ]
  },
  {
   "cell_type": "code",
   "execution_count": 37,
   "metadata": {},
   "outputs": [
    {
     "name": "stdout",
     "output_type": "stream",
     "text": [
      "my colours are ['red', 'blue', 'green', 'orange']\n"
     ]
    }
   ],
   "source": [
    "favourite_colour = \"orange\"\n",
    "colours_list = ['red', 'blue', 'green']\n",
    "colours_list.append(favourite_colour)\n",
    "\n",
    "\n",
    "\n",
    "print (f'my colours are {colours_list}')"
   ]
  },
  {
   "cell_type": "code",
   "execution_count": 6,
   "metadata": {},
   "outputs": [
    {
     "name": "stdout",
     "output_type": "stream",
     "text": [
      "['lasagne fajita pizza', 'chips']\n"
     ]
    }
   ],
   "source": [
    "foods_list =['lasagne' ' fajita' ' pizza']\n",
    "foods_list.append (\"chips\")\n",
    "print (foods_list)"
   ]
  },
  {
   "cell_type": "code",
   "execution_count": 19,
   "metadata": {},
   "outputs": [
    {
     "name": "stdout",
     "output_type": "stream",
     "text": [
      "['lasagne fajita pizza', 'spaghetti']\n"
     ]
    }
   ],
   "source": [
    "foods_list =['lasagne' ' fajita' ' pizza']\n",
    "foods_list2 =['chicken', 'spaghetti']\n",
    "foods_list.extend (foods_list2)\n",
    "foods_list.remove ('chicken')\n",
    "print (foods_list)"
   ]
  },
  {
   "cell_type": "code",
   "execution_count": 24,
   "metadata": {},
   "outputs": [
    {
     "name": "stdout",
     "output_type": "stream",
     "text": [
      "[1, 2, 3, 4, 5, 6]\n",
      "[6, 5, 4, 3, 2, 1]\n",
      "[1, 2, 3, 4, 5, 6]\n"
     ]
    }
   ],
   "source": [
    "numbers_list = [ 2, 3, 4, 5, 1, 6]\n",
    "numbers_list.sort()\n",
    "print (numbers_list)\n",
    "numbers_list.sort(reverse=True)\n",
    "print (numbers_list)\n",
    "\n",
    "numbers_list = [ 2, 3, 4, 5, 1, 6]\n",
    "sorted_numbers = sorted(numbers_list)\n",
    "print(sorted_numbers)"
   ]
  },
  {
   "cell_type": "code",
   "execution_count": 29,
   "metadata": {},
   "outputs": [
    {
     "name": "stdout",
     "output_type": "stream",
     "text": [
      "['lasagne fajita pizza', 'spaghetti']\n"
     ]
    }
   ],
   "source": [
    "sorted_food = sorted (foods_list)\n",
    "print (sorted_food) "
   ]
  },
  {
   "cell_type": "code",
   "execution_count": 33,
   "metadata": {},
   "outputs": [
    {
     "name": "stdout",
     "output_type": "stream",
     "text": [
      "{'will': 'purple', 'scout': ['yellow', 'red'], 'crash': 23, 'Naomi': {'Monday': 'Purple', 'EOD': 'Yellow'}}\n"
     ]
    }
   ],
   "source": [
    "favourite_colours_dict = {'will':'purple', \n",
    "                     'scout':['yellow', 'red'],\n",
    "                     'crash' :23,\n",
    "                     'Naomi' : {'Monday' : 'Purple',\n",
    "                                'EOD' : 'Yellow'}}\n",
    "\n",
    "print (favourite_colours_dict)"
   ]
  },
  {
   "cell_type": "code",
   "execution_count": 38,
   "metadata": {},
   "outputs": [
    {
     "name": "stdout",
     "output_type": "stream",
     "text": [
      "katsu\n"
     ]
    }
   ],
   "source": [
    "restaurants_dict = {'Wagamama':'katsu',\n",
    "                    'Nandos' :['chicken', 'haloumi']}\n",
    "print(restaurants_dict['Wagamama'])\n"
   ]
  },
  {
   "cell_type": "code",
   "execution_count": 41,
   "metadata": {},
   "outputs": [
    {
     "name": "stdout",
     "output_type": "stream",
     "text": [
      "{'Wagamama': 'katsu', 'Nandos': ['chicken', 'haloumi'], 'TGI': 'Burger'}\n",
      "True\n"
     ]
    }
   ],
   "source": [
    "restaurants_dict = {'Wagamama':'katsu',\n",
    "                    'Nandos' :['chicken', 'haloumi']}\n",
    "\n",
    "restaurants_dict['TGI'] = 'Burger'\n",
    "print(restaurants_dict)\n",
    "\n",
    "print('Wagamama' in restaurants_dict)"
   ]
  },
  {
   "cell_type": "code",
   "execution_count": 61,
   "metadata": {},
   "outputs": [
    {
     "name": "stdout",
     "output_type": "stream",
     "text": [
      "My name is  Paul1, my job is Snr P&D Manager.\n",
      "My name is  Martin, my job is SQL Developer.\n",
      "My name is  Paul2, my job is Project Performance Officer.\n"
     ]
    }
   ],
   "source": [
    "team_dict = {'Paul1' : 'Snr P&D Manager',\n",
    "            'Martin' : 'SQL Developer',\n",
    "             'Paul2' : 'Project Performance Officer' }\n",
    "\n",
    "names = list (team_dict.keys())\n",
    "names_sorted = sorted(names)\n",
    "for key , val in team_dict.items():\n",
    "    print (f\"My name is  {key}, my job is {val}.\")\n"
   ]
  },
  {
   "cell_type": "code",
   "execution_count": 22,
   "metadata": {},
   "outputs": [
    {
     "name": "stdout",
     "output_type": "stream",
     "text": [
      "('x + y', 12)\n",
      "('x * y', (35,))\n",
      "('x^2', (49,))\n",
      "('y^2', (25,))\n",
      "('x^y', 16807)\n"
     ]
    }
   ],
   "source": [
    "#HOMEWORK_1\n",
    "homework_dict = {}\n",
    " \n",
    "x = 7\n",
    "y = 5\n",
    " \n",
    "add = x+y\n",
    "multiply = x*y\n",
    "xsquare = x**2\n",
    "ysquare = y**2\n",
    "xpowery = x**y\n",
    " \n",
    "homework_dict[\"x + y\"] = add\n",
    "homework_dict[\"x * y\"] = multiply,\n",
    "homework_dict[\"x^2\"] = xsquare,\n",
    "homework_dict[\"y^2\"] = ysquare,\n",
    "homework_dict[\"x^y\"]= xpowery\n",
    " \n",
    "for homeworklist in homework_dict.items():\n",
    "  print(homeworklist)"
   ]
  },
  {
   "cell_type": "code",
   "execution_count": null,
   "metadata": {},
   "outputs": [],
   "source": [
    "CCnumber = \"4444444444444444\"\n",
    "CClast4 = CCnumber [:-4]\n",
    "print (CClast4)"
   ]
  },
  {
   "cell_type": "code",
   "execution_count": 4,
   "metadata": {},
   "outputs": [
    {
     "name": "stdout",
     "output_type": "stream",
     "text": [
      "XXXXXXXXXXXX1111\n"
     ]
    }
   ],
   "source": [
    "CCnumber = \"4444444444441111\"\n",
    "CClast4 = CCnumber [12:16]\n",
    "CCXX = \"XXXXXXXXXXXX\"\n",
    "CCXX2 = CCXX+CClast4\n",
    "phrase = f\"{CCXX}{CClast4}\"\n",
    "print (phrase)"
   ]
  },
  {
   "cell_type": "code",
   "execution_count": 2,
   "metadata": {},
   "outputs": [
    {
     "data": {
      "text/html": [
       "<div>\n",
       "<style scoped>\n",
       "    .dataframe tbody tr th:only-of-type {\n",
       "        vertical-align: middle;\n",
       "    }\n",
       "\n",
       "    .dataframe tbody tr th {\n",
       "        vertical-align: top;\n",
       "    }\n",
       "\n",
       "    .dataframe thead th {\n",
       "        text-align: right;\n",
       "    }\n",
       "</style>\n",
       "<table border=\"1\" class=\"dataframe\">\n",
       "  <thead>\n",
       "    <tr style=\"text-align: right;\">\n",
       "      <th></th>\n",
       "      <th>here's a column</th>\n",
       "      <th>col 2</th>\n",
       "      <th>col z</th>\n",
       "    </tr>\n",
       "  </thead>\n",
       "  <tbody>\n",
       "    <tr>\n",
       "      <th>0</th>\n",
       "      <td>val 1</td>\n",
       "      <td>4</td>\n",
       "      <td>foo</td>\n",
       "    </tr>\n",
       "    <tr>\n",
       "      <th>1</th>\n",
       "      <td>val2</td>\n",
       "      <td>5</td>\n",
       "      <td>bar</td>\n",
       "    </tr>\n",
       "    <tr>\n",
       "      <th>2</th>\n",
       "      <td>val3</td>\n",
       "      <td>6</td>\n",
       "      <td>baz</td>\n",
       "    </tr>\n",
       "  </tbody>\n",
       "</table>\n",
       "</div>"
      ],
      "text/plain": [
       "  here's a column  col 2 col z\n",
       "0           val 1      4   foo\n",
       "1            val2      5   bar\n",
       "2            val3      6   baz"
      ]
     },
     "execution_count": 2,
     "metadata": {},
     "output_type": "execute_result"
    }
   ],
   "source": [
    "import pandas as pd\n",
    "\n",
    "dict_1 = {\"here's a column\":['val 1', 'val2', 'val3'],\n",
    "          \"col 2\": [4,5,6],\n",
    "          \"col z\": ['foo', 'bar', 'baz']}\n",
    "\n",
    "df_1 = pd.DataFrame(dict_1)\n",
    "df_1"
   ]
  },
  {
   "cell_type": "code",
   "execution_count": 7,
   "metadata": {},
   "outputs": [
    {
     "data": {
      "text/html": [
       "<div>\n",
       "<style scoped>\n",
       "    .dataframe tbody tr th:only-of-type {\n",
       "        vertical-align: middle;\n",
       "    }\n",
       "\n",
       "    .dataframe tbody tr th {\n",
       "        vertical-align: top;\n",
       "    }\n",
       "\n",
       "    .dataframe thead th {\n",
       "        text-align: right;\n",
       "    }\n",
       "</style>\n",
       "<table border=\"1\" class=\"dataframe\">\n",
       "  <thead>\n",
       "    <tr style=\"text-align: right;\">\n",
       "      <th></th>\n",
       "      <th>letter</th>\n",
       "      <th>Word</th>\n",
       "      <th>number</th>\n",
       "    </tr>\n",
       "  </thead>\n",
       "  <tbody>\n",
       "    <tr>\n",
       "      <th>0</th>\n",
       "      <td>A</td>\n",
       "      <td>foo</td>\n",
       "      <td>1</td>\n",
       "    </tr>\n",
       "    <tr>\n",
       "      <th>1</th>\n",
       "      <td>B</td>\n",
       "      <td>baz</td>\n",
       "      <td>2</td>\n",
       "    </tr>\n",
       "  </tbody>\n",
       "</table>\n",
       "</div>"
      ],
      "text/plain": [
       "  letter Word  number\n",
       "0      A  foo       1\n",
       "1      B  baz       2"
      ]
     },
     "execution_count": 7,
     "metadata": {},
     "output_type": "execute_result"
    }
   ],
   "source": [
    "list_of_dicts = [{'letter': 'A',\n",
    "                  'Word' : 'foo',\n",
    "                  'number' : 1},\n",
    "                  {'letter': 'B',\n",
    "                  'Word' : 'baz',\n",
    "                  'number' : 2}]\n",
    "\n",
    "df_2 = pd.DataFrame(list_of_dicts)\n",
    "df_2"
   ]
  },
  {
   "cell_type": "code",
   "execution_count": 21,
   "metadata": {},
   "outputs": [
    {
     "data": {
      "text/html": [
       "<div>\n",
       "<style scoped>\n",
       "    .dataframe tbody tr th:only-of-type {\n",
       "        vertical-align: middle;\n",
       "    }\n",
       "\n",
       "    .dataframe tbody tr th {\n",
       "        vertical-align: top;\n",
       "    }\n",
       "\n",
       "    .dataframe thead th {\n",
       "        text-align: right;\n",
       "    }\n",
       "</style>\n",
       "<table border=\"1\" class=\"dataframe\">\n",
       "  <thead>\n",
       "    <tr style=\"text-align: right;\">\n",
       "      <th></th>\n",
       "      <th>Employee</th>\n",
       "      <th>Title</th>\n",
       "      <th>salary</th>\n",
       "      <th>DOB</th>\n",
       "    </tr>\n",
       "  </thead>\n",
       "  <tbody>\n",
       "    <tr>\n",
       "      <th>0</th>\n",
       "      <td>Jon Maggs</td>\n",
       "      <td>Coach Beard</td>\n",
       "      <td>50000</td>\n",
       "      <td>05/03/85</td>\n",
       "    </tr>\n",
       "    <tr>\n",
       "      <th>1</th>\n",
       "      <td>Michael Mac</td>\n",
       "      <td>Chief of Hair</td>\n",
       "      <td>50000</td>\n",
       "      <td>12/06/89</td>\n",
       "    </tr>\n",
       "    <tr>\n",
       "      <th>2</th>\n",
       "      <td>Emily Dickson</td>\n",
       "      <td>Numbers Whizz</td>\n",
       "      <td>50000</td>\n",
       "      <td>09/02/92</td>\n",
       "    </tr>\n",
       "    <tr>\n",
       "      <th>3</th>\n",
       "      <td>Paul Dryden</td>\n",
       "      <td>The Boss</td>\n",
       "      <td>1000000</td>\n",
       "      <td>09/02/92</td>\n",
       "    </tr>\n",
       "  </tbody>\n",
       "</table>\n",
       "</div>"
      ],
      "text/plain": [
       "        Employee          Title   salary       DOB\n",
       "0      Jon Maggs    Coach Beard    50000  05/03/85\n",
       "1    Michael Mac  Chief of Hair    50000  12/06/89\n",
       "2  Emily Dickson  Numbers Whizz    50000  09/02/92\n",
       "3    Paul Dryden       The Boss  1000000  09/02/92"
      ]
     },
     "execution_count": 21,
     "metadata": {},
     "output_type": "execute_result"
    }
   ],
   "source": [
    "jobs_table = [{'Employee': 'Jon Maggs',\n",
    "                  'Title' : 'Coach Beard',\n",
    "                  'salary' : 50000,\n",
    "                  'DOB' : '05/03/85'},\n",
    "                  {'Employee': 'Michael Mac',\n",
    "                  'Title' : 'Chief of Hair',\n",
    "                  'salary' : 50000,\n",
    "                  'DOB' : '12/06/89'},\n",
    "                  {'Employee': 'Emily Dickson',\n",
    "                  'Title' : 'Numbers Whizz',\n",
    "                  'salary' : 50000,\n",
    "                  'DOB' : '09/02/92'},\n",
    "                  {'Employee': 'Paul Dryden',\n",
    "                  'Title' : 'The Boss',\n",
    "                  'salary' : 1000000,\n",
    "                  'DOB' : '09/02/92'}]\n",
    "\n",
    "jobs_df = pd.DataFrame (jobs_table)\n",
    "jobs_df"
   ]
  },
  {
   "cell_type": "code",
   "execution_count": 13,
   "metadata": {},
   "outputs": [],
   "source": [
    "#print(jobs_df.info())\n",
    "# print(jobs_df.dtypes)\n",
    "# print(jobs_df.head(1))\n",
    "# print(jobs_df.tail(1))"
   ]
  },
  {
   "cell_type": "code",
   "execution_count": 17,
   "metadata": {},
   "outputs": [
    {
     "ename": "SyntaxError",
     "evalue": "unmatched ')' (1995957910.py, line 2)",
     "output_type": "error",
     "traceback": [
      "\u001b[0;36m  Cell \u001b[0;32mIn[17], line 2\u001b[0;36m\u001b[0m\n\u001b[0;31m    print (jobs_df)['Salary'].sum)\u001b[0m\n\u001b[0m                                 ^\u001b[0m\n\u001b[0;31mSyntaxError\u001b[0m\u001b[0;31m:\u001b[0m unmatched ')'\n"
     ]
    }
   ],
   "source": [
    "# jobs_df['salary'] = jobs_df['salary'].astype('str')\n",
    "# DOES NOT work print (jobs_df)['Salary'].sum)"
   ]
  },
  {
   "cell_type": "code",
   "execution_count": 18,
   "metadata": {},
   "outputs": [
    {
     "data": {
      "text/html": [
       "<div>\n",
       "<style scoped>\n",
       "    .dataframe tbody tr th:only-of-type {\n",
       "        vertical-align: middle;\n",
       "    }\n",
       "\n",
       "    .dataframe tbody tr th {\n",
       "        vertical-align: top;\n",
       "    }\n",
       "\n",
       "    .dataframe thead th {\n",
       "        text-align: right;\n",
       "    }\n",
       "</style>\n",
       "<table border=\"1\" class=\"dataframe\">\n",
       "  <thead>\n",
       "    <tr style=\"text-align: right;\">\n",
       "      <th></th>\n",
       "      <th>Employee</th>\n",
       "      <th>Title</th>\n",
       "      <th>salary</th>\n",
       "    </tr>\n",
       "  </thead>\n",
       "  <tbody>\n",
       "    <tr>\n",
       "      <th>0</th>\n",
       "      <td>Jon Maggs</td>\n",
       "      <td>Coach Beard</td>\n",
       "      <td>53350.0</td>\n",
       "    </tr>\n",
       "    <tr>\n",
       "      <th>1</th>\n",
       "      <td>Michael Mac</td>\n",
       "      <td>Chief of Hair</td>\n",
       "      <td>53350.0</td>\n",
       "    </tr>\n",
       "    <tr>\n",
       "      <th>2</th>\n",
       "      <td>Emily Dickson</td>\n",
       "      <td>Numbers Whizz</td>\n",
       "      <td>53350.0</td>\n",
       "    </tr>\n",
       "    <tr>\n",
       "      <th>3</th>\n",
       "      <td>Paul Dryden</td>\n",
       "      <td>The Boss</td>\n",
       "      <td>1067000.0</td>\n",
       "    </tr>\n",
       "  </tbody>\n",
       "</table>\n",
       "</div>"
      ],
      "text/plain": [
       "        Employee          Title     salary\n",
       "0      Jon Maggs    Coach Beard    53350.0\n",
       "1    Michael Mac  Chief of Hair    53350.0\n",
       "2  Emily Dickson  Numbers Whizz    53350.0\n",
       "3    Paul Dryden       The Boss  1067000.0"
      ]
     },
     "execution_count": 18,
     "metadata": {},
     "output_type": "execute_result"
    }
   ],
   "source": [
    "inflation = 1.067\n",
    "jobs_df['salary'] = jobs_df['salary'] * inflation\n",
    "jobs_df\n"
   ]
  },
  {
   "cell_type": "code",
   "execution_count": 25,
   "metadata": {},
   "outputs": [
    {
     "data": {
      "text/html": [
       "<div>\n",
       "<style scoped>\n",
       "    .dataframe tbody tr th:only-of-type {\n",
       "        vertical-align: middle;\n",
       "    }\n",
       "\n",
       "    .dataframe tbody tr th {\n",
       "        vertical-align: top;\n",
       "    }\n",
       "\n",
       "    .dataframe thead th {\n",
       "        text-align: right;\n",
       "    }\n",
       "</style>\n",
       "<table border=\"1\" class=\"dataframe\">\n",
       "  <thead>\n",
       "    <tr style=\"text-align: right;\">\n",
       "      <th></th>\n",
       "      <th>Employee</th>\n",
       "      <th>Title</th>\n",
       "      <th>salary</th>\n",
       "      <th>DOB</th>\n",
       "    </tr>\n",
       "  </thead>\n",
       "  <tbody>\n",
       "    <tr>\n",
       "      <th>0</th>\n",
       "      <td>Jon Maggs</td>\n",
       "      <td>Coach Beard</td>\n",
       "      <td>50000</td>\n",
       "      <td>1985-03-05</td>\n",
       "    </tr>\n",
       "    <tr>\n",
       "      <th>1</th>\n",
       "      <td>Michael Mac</td>\n",
       "      <td>Chief of Hair</td>\n",
       "      <td>50000</td>\n",
       "      <td>1989-06-12</td>\n",
       "    </tr>\n",
       "    <tr>\n",
       "      <th>2</th>\n",
       "      <td>Emily Dickson</td>\n",
       "      <td>Numbers Whizz</td>\n",
       "      <td>50000</td>\n",
       "      <td>1992-02-09</td>\n",
       "    </tr>\n",
       "    <tr>\n",
       "      <th>3</th>\n",
       "      <td>Paul Dryden</td>\n",
       "      <td>The Boss</td>\n",
       "      <td>1000000</td>\n",
       "      <td>1992-02-09</td>\n",
       "    </tr>\n",
       "  </tbody>\n",
       "</table>\n",
       "</div>"
      ],
      "text/plain": [
       "        Employee          Title   salary        DOB\n",
       "0      Jon Maggs    Coach Beard    50000 1985-03-05\n",
       "1    Michael Mac  Chief of Hair    50000 1989-06-12\n",
       "2  Emily Dickson  Numbers Whizz    50000 1992-02-09\n",
       "3    Paul Dryden       The Boss  1000000 1992-02-09"
      ]
     },
     "execution_count": 25,
     "metadata": {},
     "output_type": "execute_result"
    }
   ],
   "source": [
    "jobs_df['DOB'] = pd.to_datetime(jobs_df['DOB'], format='%d/%m/%y')\n",
    "jobs_df"
   ]
  },
  {
   "cell_type": "code",
   "execution_count": 5,
   "metadata": {},
   "outputs": [
    {
     "data": {
      "text/html": [
       "<div>\n",
       "<style scoped>\n",
       "    .dataframe tbody tr th:only-of-type {\n",
       "        vertical-align: middle;\n",
       "    }\n",
       "\n",
       "    .dataframe tbody tr th {\n",
       "        vertical-align: top;\n",
       "    }\n",
       "\n",
       "    .dataframe thead th {\n",
       "        text-align: right;\n",
       "    }\n",
       "</style>\n",
       "<table border=\"1\" class=\"dataframe\">\n",
       "  <thead>\n",
       "    <tr style=\"text-align: right;\">\n",
       "      <th></th>\n",
       "      <th>starter</th>\n",
       "      <th>main</th>\n",
       "      <th>dessert</th>\n",
       "    </tr>\n",
       "  </thead>\n",
       "  <tbody>\n",
       "    <tr>\n",
       "      <th>0</th>\n",
       "      <td>garlic bread</td>\n",
       "      <td>spaghetti</td>\n",
       "      <td>ice cream</td>\n",
       "    </tr>\n",
       "    <tr>\n",
       "      <th>1</th>\n",
       "      <td>calamari</td>\n",
       "      <td>pizza</td>\n",
       "      <td>tiramisu</td>\n",
       "    </tr>\n",
       "  </tbody>\n",
       "</table>\n",
       "</div>"
      ],
      "text/plain": [
       "        starter       main    dessert\n",
       "0  garlic bread  spaghetti  ice cream\n",
       "1      calamari      pizza   tiramisu"
      ]
     },
     "execution_count": 5,
     "metadata": {},
     "output_type": "execute_result"
    }
   ],
   "source": [
    "restaurantsDF = [{'starter': 'garlic bread',\n",
    "                  'main' : 'spaghetti',\n",
    "                  'dessert' : 'ice cream'},\n",
    "                  {'starter': 'calamari',\n",
    "                  'main' : 'pizza',\n",
    "                  'dessert' : 'tiramisu'}]\n",
    "\n",
    "restaurantsDF = pd.DataFrame(restaurantsDF)\n",
    "restaurantsDF"
   ]
  }
 ],
 "metadata": {
  "kernelspec": {
   "display_name": "Python 3",
   "language": "python",
   "name": "python3"
  },
  "language_info": {
   "codemirror_mode": {
    "name": "ipython",
    "version": 3
   },
   "file_extension": ".py",
   "mimetype": "text/x-python",
   "name": "python",
   "nbconvert_exporter": "python",
   "pygments_lexer": "ipython3",
   "version": "3.10.8"
  }
 },
 "nbformat": 4,
 "nbformat_minor": 2
}

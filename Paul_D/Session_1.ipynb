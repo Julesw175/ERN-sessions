{
 "cells": [
  {
   "cell_type": "code",
   "execution_count": 2,
   "metadata": {},
   "outputs": [
    {
     "name": "stdout",
     "output_type": "stream",
     "text": [
      "I'm Paul\n"
     ]
    }
   ],
   "source": [
    "phrase = \"I'm Paul\" # string\n",
    "print(phrase)"
   ]
  },
  {
   "cell_type": "code",
   "execution_count": 5,
   "metadata": {},
   "outputs": [
    {
     "name": "stdout",
     "output_type": "stream",
     "text": [
      "2.0\n",
      "<class 'float'>\n"
     ]
    }
   ],
   "source": [
    "x = 5 #integer\n",
    "y = 10 \n",
    "z = x + y\n",
    "z = y/x \n",
    "print(z)\n",
    "\n",
    "print(type(z))"
   ]
  },
  {
   "cell_type": "code",
   "execution_count": 6,
   "metadata": {},
   "outputs": [
    {
     "name": "stdout",
     "output_type": "stream",
     "text": [
      "120\n"
     ]
    }
   ],
   "source": [
    "x = 12\n",
    "y = 10\n",
    "z = x*y\n",
    "print (z)\n"
   ]
  },
  {
   "cell_type": "code",
   "execution_count": 11,
   "metadata": {},
   "outputs": [
    {
     "name": "stdout",
     "output_type": "stream",
     "text": [
      "12.56\n"
     ]
    }
   ],
   "source": [
    "radius = 2\n",
    "pie = 3.14\n",
    "area = pie * (radius**2)\n",
    "print (area)"
   ]
  },
  {
   "cell_type": "code",
   "execution_count": 20,
   "metadata": {},
   "outputs": [
    {
     "name": "stdout",
     "output_type": "stream",
     "text": [
      "My name is  Paul and my hobby is  Mario\n"
     ]
    }
   ],
   "source": [
    "name = \" Paul\"\n",
    "hobby =\" Mario\"\n",
    "long_string = \"my name is\" + name + \" and my hobby is\" + hobby\n",
    "#print (long_string)\n",
    "\n",
    "phrase = f\"My name is {name} and my hobby is {hobby}\"\n",
    "print(phrase)"
   ]
  },
  {
   "cell_type": "code",
   "execution_count": 21,
   "metadata": {},
   "outputs": [
    {
     "name": "stdout",
     "output_type": "stream",
     "text": [
      "my name is Paul Dryden and my role is senior P&D Manager\n"
     ]
    }
   ],
   "source": [
    "name1 = \"Paul Dryden\"\n",
    "jobtitle =\"senior P&D Manager\"\n",
    "phrase1 = f\"my name is {name1} and my role is {jobtitle}\"\n",
    "print (phrase1)"
   ]
  },
  {
   "cell_type": "code",
   "execution_count": 26,
   "metadata": {},
   "outputs": [
    {
     "name": "stdout",
     "output_type": "stream",
     "text": [
      "here_is_a_file\n"
     ]
    }
   ],
   "source": [
    "#print(len(phrase1))\n",
    "\n",
    "string_slice = phrase[3:16]\n",
    "#print (string_slice)\n",
    "\n",
    "filename = \"here_is_a_file.csv\"\n",
    "filename = filename[:-4]\n",
    "print (filename)"
   ]
  },
  {
   "cell_type": "code",
   "execution_count": 31,
   "metadata": {},
   "outputs": [
    {
     "name": "stdout",
     "output_type": "stream",
     "text": [
      "dog  cat \n"
     ]
    }
   ],
   "source": [
    "slice_this_phrase = 'dog cat racoon'\n",
    "word1 = slice_this_phrase [:4]\n",
    "word2 = slice_this_phrase [4:8]\n",
    "word3 = slice_this_phrase [-7:]\n",
    "print (f\"{word1} {word2}\")"
   ]
  },
  {
   "cell_type": "code",
   "execution_count": 32,
   "metadata": {},
   "outputs": [
    {
     "name": "stdout",
     "output_type": "stream",
     "text": [
      "[1, 2, 3, 12, 10]\n"
     ]
    }
   ],
   "source": [
    "list_1 = [1,2,3, x, y]\n",
    "print (list_1)"
   ]
  },
  {
   "cell_type": "code",
   "execution_count": 37,
   "metadata": {},
   "outputs": [
    {
     "name": "stdout",
     "output_type": "stream",
     "text": [
      "my colours are ['red', 'blue', 'green', 'orange']\n"
     ]
    }
   ],
   "source": [
    "favourite_colour = \"orange\"\n",
    "colours_list = ['red', 'blue', 'green']\n",
    "colours_list.append(favourite_colour)\n",
    "\n",
    "\n",
    "\n",
    "print (f'my colours are {colours_list}')"
   ]
  },
  {
   "cell_type": "code",
   "execution_count": 6,
   "metadata": {},
   "outputs": [
    {
     "name": "stdout",
     "output_type": "stream",
     "text": [
      "['lasagne fajita pizza', 'chips']\n"
     ]
    }
   ],
   "source": [
    "foods_list =['lasagne' ' fajita' ' pizza']\n",
    "foods_list.append (\"chips\")\n",
    "print (foods_list)"
   ]
  },
  {
   "cell_type": "code",
   "execution_count": 19,
   "metadata": {},
   "outputs": [
    {
     "name": "stdout",
     "output_type": "stream",
     "text": [
      "['lasagne fajita pizza', 'spaghetti']\n"
     ]
    }
   ],
   "source": [
    "foods_list =['lasagne' ' fajita' ' pizza']\n",
    "foods_list2 =['chicken', 'spaghetti']\n",
    "foods_list.extend (foods_list2)\n",
    "foods_list.remove ('chicken')\n",
    "print (foods_list)"
   ]
  },
  {
   "cell_type": "code",
   "execution_count": 24,
   "metadata": {},
   "outputs": [
    {
     "name": "stdout",
     "output_type": "stream",
     "text": [
      "[1, 2, 3, 4, 5, 6]\n",
      "[6, 5, 4, 3, 2, 1]\n",
      "[1, 2, 3, 4, 5, 6]\n"
     ]
    }
   ],
   "source": [
    "numbers_list = [ 2, 3, 4, 5, 1, 6]\n",
    "numbers_list.sort()\n",
    "print (numbers_list)\n",
    "numbers_list.sort(reverse=True)\n",
    "print (numbers_list)\n",
    "\n",
    "numbers_list = [ 2, 3, 4, 5, 1, 6]\n",
    "sorted_numbers = sorted(numbers_list)\n",
    "print(sorted_numbers)"
   ]
  },
  {
   "cell_type": "code",
   "execution_count": 29,
   "metadata": {},
   "outputs": [
    {
     "name": "stdout",
     "output_type": "stream",
     "text": [
      "['lasagne fajita pizza', 'spaghetti']\n"
     ]
    }
   ],
   "source": [
    "sorted_food = sorted (foods_list)\n",
    "print (sorted_food) "
   ]
  },
  {
   "cell_type": "code",
   "execution_count": 33,
   "metadata": {},
   "outputs": [
    {
     "name": "stdout",
     "output_type": "stream",
     "text": [
      "{'will': 'purple', 'scout': ['yellow', 'red'], 'crash': 23, 'Naomi': {'Monday': 'Purple', 'EOD': 'Yellow'}}\n"
     ]
    }
   ],
   "source": [
    "favourite_colours_dict = {'will':'purple', \n",
    "                     'scout':['yellow', 'red'],\n",
    "                     'crash' :23,\n",
    "                     'Naomi' : {'Monday' : 'Purple',\n",
    "                                'EOD' : 'Yellow'}}\n",
    "\n",
    "print (favourite_colours_dict)"
   ]
  },
  {
   "cell_type": "code",
   "execution_count": 38,
   "metadata": {},
   "outputs": [
    {
     "name": "stdout",
     "output_type": "stream",
     "text": [
      "katsu\n"
     ]
    }
   ],
   "source": [
    "restaurants_dict = {'Wagamama':'katsu',\n",
    "                    'Nandos' :['chicken', 'haloumi']}\n",
    "print(restaurants_dict['Wagamama'])\n"
   ]
  },
  {
   "cell_type": "code",
   "execution_count": 41,
   "metadata": {},
   "outputs": [
    {
     "name": "stdout",
     "output_type": "stream",
     "text": [
      "{'Wagamama': 'katsu', 'Nandos': ['chicken', 'haloumi'], 'TGI': 'Burger'}\n",
      "True\n"
     ]
    }
   ],
   "source": [
    "restaurants_dict = {'Wagamama':'katsu',\n",
    "                    'Nandos' :['chicken', 'haloumi']}\n",
    "\n",
    "restaurants_dict['TGI'] = 'Burger'\n",
    "print(restaurants_dict)\n",
    "\n",
    "print('Wagamama' in restaurants_dict)"
   ]
  },
  {
   "cell_type": "code",
   "execution_count": 59,
   "metadata": {},
   "outputs": [
    {
     "ename": "SyntaxError",
     "evalue": "invalid syntax. Perhaps you forgot a comma? (1687912242.py, line 8)",
     "output_type": "error",
     "traceback": [
      "\u001b[0;36m  Cell \u001b[0;32mIn[59], line 8\u001b[0;36m\u001b[0m\n\u001b[0;31m    print (f\"My name is \" {key}, my job is {val}.)\u001b[0m\n\u001b[0m           ^\u001b[0m\n\u001b[0;31mSyntaxError\u001b[0m\u001b[0;31m:\u001b[0m invalid syntax. Perhaps you forgot a comma?\n"
     ]
    }
   ],
   "source": [
    "team_dict = {'Paul1' : 'Snr P&D Manager',\n",
    "            'Martin' : 'SQL Developer',\n",
    "             'Paul2' : 'Project Performance Officer' }\n",
    "\n",
    "names = list (team_dict.keys())\n",
    "names_sorted = sorted(names)\n",
    "for key , val in team_dict.items():\n",
    "    print (f \"My name is \" {key}, my job is {val}.)\n"
   ]
  }
 ],
 "metadata": {
  "kernelspec": {
   "display_name": "Python 3",
   "language": "python",
   "name": "python3"
  },
  "language_info": {
   "codemirror_mode": {
    "name": "ipython",
    "version": 3
   },
   "file_extension": ".py",
   "mimetype": "text/x-python",
   "name": "python",
   "nbconvert_exporter": "python",
   "pygments_lexer": "ipython3",
   "version": "3.10.8"
  }
 },
 "nbformat": 4,
 "nbformat_minor": 2
}

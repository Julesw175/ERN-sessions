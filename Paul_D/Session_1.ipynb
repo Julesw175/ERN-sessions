{
 "cells": [
  {
   "cell_type": "code",
   "execution_count": 2,
   "metadata": {},
   "outputs": [
    {
     "name": "stdout",
     "output_type": "stream",
     "text": [
      "I'm Paul\n"
     ]
    }
   ],
   "source": [
    "phrase = \"I'm Paul\" # string\n",
    "print(phrase)"
   ]
  },
  {
   "cell_type": "code",
   "execution_count": 5,
   "metadata": {},
   "outputs": [
    {
     "name": "stdout",
     "output_type": "stream",
     "text": [
      "2.0\n",
      "<class 'float'>\n"
     ]
    }
   ],
   "source": [
    "x = 5 #integer\n",
    "y = 10 \n",
    "z = x + y\n",
    "z = y/x \n",
    "print(z)\n",
    "\n",
    "print(type(z))"
   ]
  },
  {
   "cell_type": "code",
   "execution_count": 6,
   "metadata": {},
   "outputs": [
    {
     "name": "stdout",
     "output_type": "stream",
     "text": [
      "120\n"
     ]
    }
   ],
   "source": [
    "x = 12\n",
    "y = 10\n",
    "z = x*y\n",
    "print (z)\n"
   ]
  },
  {
   "cell_type": "code",
   "execution_count": 11,
   "metadata": {},
   "outputs": [
    {
     "name": "stdout",
     "output_type": "stream",
     "text": [
      "12.56\n"
     ]
    }
   ],
   "source": [
    "radius = 2\n",
    "pie = 3.14\n",
    "area = pie * (radius**2)\n",
    "print (area)"
   ]
  },
  {
   "cell_type": "code",
   "execution_count": 20,
   "metadata": {},
   "outputs": [
    {
     "name": "stdout",
     "output_type": "stream",
     "text": [
      "My name is  Paul and my hobby is  Mario\n"
     ]
    }
   ],
   "source": [
    "name = \" Paul\"\n",
    "hobby =\" Mario\"\n",
    "long_string = \"my name is\" + name + \" and my hobby is\" + hobby\n",
    "#print (long_string)\n",
    "\n",
    "phrase = f\"My name is {name} and my hobby is {hobby}\"\n",
    "print(phrase)"
   ]
  },
  {
   "cell_type": "code",
   "execution_count": 21,
   "metadata": {},
   "outputs": [
    {
     "name": "stdout",
     "output_type": "stream",
     "text": [
      "my name is Paul Dryden and my role is senior P&D Manager\n"
     ]
    }
   ],
   "source": [
    "name1 = \"Paul Dryden\"\n",
    "jobtitle =\"senior P&D Manager\"\n",
    "phrase1 = f\"my name is {name1} and my role is {jobtitle}\"\n",
    "print (phrase1)"
   ]
  },
  {
   "cell_type": "code",
   "execution_count": 26,
   "metadata": {},
   "outputs": [
    {
     "name": "stdout",
     "output_type": "stream",
     "text": [
      "here_is_a_file\n"
     ]
    }
   ],
   "source": [
    "#print(len(phrase1))\n",
    "\n",
    "string_slice = phrase[3:16]\n",
    "#print (string_slice)\n",
    "\n",
    "filename = \"here_is_a_file.csv\"\n",
    "filename = filename[:-4]\n",
    "print (filename)"
   ]
  },
  {
   "cell_type": "code",
   "execution_count": 31,
   "metadata": {},
   "outputs": [
    {
     "name": "stdout",
     "output_type": "stream",
     "text": [
      "dog  cat \n"
     ]
    }
   ],
   "source": [
    "slice_this_phrase = 'dog cat racoon'\n",
    "word1 = slice_this_phrase [:4]\n",
    "word2 = slice_this_phrase [4:8]\n",
    "word3 = slice_this_phrase [-7:]\n",
    "print (f\"{word1} {word2}\")"
   ]
  },
  {
   "cell_type": "code",
   "execution_count": 32,
   "metadata": {},
   "outputs": [
    {
     "name": "stdout",
     "output_type": "stream",
     "text": [
      "[1, 2, 3, 12, 10]\n"
     ]
    }
   ],
   "source": [
    "list_1 = [1,2,3, x, y]\n",
    "print (list_1)"
   ]
  },
  {
   "cell_type": "code",
   "execution_count": 37,
   "metadata": {},
   "outputs": [
    {
     "name": "stdout",
     "output_type": "stream",
     "text": [
      "my colours are ['red', 'blue', 'green', 'orange']\n"
     ]
    }
   ],
   "source": [
    "favourite_colour = \"orange\"\n",
    "colours_list = ['red', 'blue', 'green']\n",
    "colours_list.append(favourite_colour)\n",
    "\n",
    "\n",
    "\n",
    "print (f'my colours are {colours_list}')"
   ]
  },
  {
   "cell_type": "code",
   "execution_count": 6,
   "metadata": {},
   "outputs": [
    {
     "name": "stdout",
     "output_type": "stream",
     "text": [
      "['lasagne fajita pizza', 'chips']\n"
     ]
    }
   ],
   "source": [
    "foods_list =['lasagne' ' fajita' ' pizza']\n",
    "foods_list.append (\"chips\")\n",
    "print (foods_list)"
   ]
  },
  {
   "cell_type": "code",
   "execution_count": 19,
   "metadata": {},
   "outputs": [
    {
     "name": "stdout",
     "output_type": "stream",
     "text": [
      "['lasagne fajita pizza', 'spaghetti']\n"
     ]
    }
   ],
   "source": [
    "foods_list =['lasagne' ' fajita' ' pizza']\n",
    "foods_list2 =['chicken', 'spaghetti']\n",
    "foods_list.extend (foods_list2)\n",
    "foods_list.remove ('chicken')\n",
    "print (foods_list)"
   ]
  },
  {
   "cell_type": "code",
   "execution_count": 24,
   "metadata": {},
   "outputs": [
    {
     "name": "stdout",
     "output_type": "stream",
     "text": [
      "[1, 2, 3, 4, 5, 6]\n",
      "[6, 5, 4, 3, 2, 1]\n",
      "[1, 2, 3, 4, 5, 6]\n"
     ]
    }
   ],
   "source": [
    "numbers_list = [ 2, 3, 4, 5, 1, 6]\n",
    "numbers_list.sort()\n",
    "print (numbers_list)\n",
    "numbers_list.sort(reverse=True)\n",
    "print (numbers_list)\n",
    "\n",
    "numbers_list = [ 2, 3, 4, 5, 1, 6]\n",
    "sorted_numbers = sorted(numbers_list)\n",
    "print(sorted_numbers)"
   ]
  },
  {
   "cell_type": "code",
   "execution_count": 29,
   "metadata": {},
   "outputs": [
    {
     "name": "stdout",
     "output_type": "stream",
     "text": [
      "['lasagne fajita pizza', 'spaghetti']\n"
     ]
    }
   ],
   "source": [
    "sorted_food = sorted (foods_list)\n",
    "print (sorted_food) "
   ]
  },
  {
   "cell_type": "code",
   "execution_count": 33,
   "metadata": {},
   "outputs": [
    {
     "name": "stdout",
     "output_type": "stream",
     "text": [
      "{'will': 'purple', 'scout': ['yellow', 'red'], 'crash': 23, 'Naomi': {'Monday': 'Purple', 'EOD': 'Yellow'}}\n"
     ]
    }
   ],
   "source": [
    "favourite_colours_dict = {'will':'purple', \n",
    "                     'scout':['yellow', 'red'],\n",
    "                     'crash' :23,\n",
    "                     'Naomi' : {'Monday' : 'Purple',\n",
    "                                'EOD' : 'Yellow'}}\n",
    "\n",
    "print (favourite_colours_dict)"
   ]
  },
  {
   "cell_type": "code",
   "execution_count": 38,
   "metadata": {},
   "outputs": [
    {
     "name": "stdout",
     "output_type": "stream",
     "text": [
      "katsu\n"
     ]
    }
   ],
   "source": [
    "restaurants_dict = {'Wagamama':'katsu',\n",
    "                    'Nandos' :['chicken', 'haloumi']}\n",
    "print(restaurants_dict['Wagamama'])\n"
   ]
  },
  {
   "cell_type": "code",
   "execution_count": 41,
   "metadata": {},
   "outputs": [
    {
     "name": "stdout",
     "output_type": "stream",
     "text": [
      "{'Wagamama': 'katsu', 'Nandos': ['chicken', 'haloumi'], 'TGI': 'Burger'}\n",
      "True\n"
     ]
    }
   ],
   "source": [
    "restaurants_dict = {'Wagamama':'katsu',\n",
    "                    'Nandos' :['chicken', 'haloumi']}\n",
    "\n",
    "restaurants_dict['TGI'] = 'Burger'\n",
    "print(restaurants_dict)\n",
    "\n",
    "print('Wagamama' in restaurants_dict)"
   ]
  },
  {
   "cell_type": "code",
   "execution_count": 61,
   "metadata": {},
   "outputs": [
    {
     "name": "stdout",
     "output_type": "stream",
     "text": [
      "My name is  Paul1, my job is Snr P&D Manager.\n",
      "My name is  Martin, my job is SQL Developer.\n",
      "My name is  Paul2, my job is Project Performance Officer.\n"
     ]
    }
   ],
   "source": [
    "team_dict = {'Paul1' : 'Snr P&D Manager',\n",
    "            'Martin' : 'SQL Developer',\n",
    "             'Paul2' : 'Project Performance Officer' }\n",
    "\n",
    "names = list (team_dict.keys())\n",
    "names_sorted = sorted(names)\n",
    "for key , val in team_dict.items():\n",
    "    print (f\"My name is  {key}, my job is {val}.\")\n"
   ]
  },
  {
   "cell_type": "code",
   "execution_count": 22,
   "metadata": {},
   "outputs": [
    {
     "name": "stdout",
     "output_type": "stream",
     "text": [
      "('x + y', 12)\n",
      "('x * y', (35,))\n",
      "('x^2', (49,))\n",
      "('y^2', (25,))\n",
      "('x^y', 16807)\n"
     ]
    }
   ],
   "source": [
    "#HOMEWORK_1\n",
    "homework_dict = {}\n",
    " \n",
    "x = 7\n",
    "y = 5\n",
    " \n",
    "add = x+y\n",
    "multiply = x*y\n",
    "xsquare = x**2\n",
    "ysquare = y**2\n",
    "xpowery = x**y\n",
    " \n",
    "homework_dict[\"x + y\"] = add\n",
    "homework_dict[\"x * y\"] = multiply,\n",
    "homework_dict[\"x^2\"] = xsquare,\n",
    "homework_dict[\"y^2\"] = ysquare,\n",
    "homework_dict[\"x^y\"]= xpowery\n",
    " \n",
    "for homeworklist in homework_dict.items():\n",
    "  print(homeworklist)"
   ]
  },
  {
   "cell_type": "code",
   "execution_count": null,
   "metadata": {},
   "outputs": [],
   "source": [
    "CCnumber = \"4444444444444444\"\n",
    "CClast4 = CCnumber [:-4]\n",
    "print (CClast4)"
   ]
  },
  {
   "cell_type": "code",
   "execution_count": 4,
   "metadata": {},
   "outputs": [
    {
     "name": "stdout",
     "output_type": "stream",
     "text": [
      "XXXXXXXXXXXX1111\n"
     ]
    }
   ],
   "source": [
    "CCnumber = \"4444444444441111\"\n",
    "CClast4 = CCnumber [12:16]\n",
    "CCXX = \"XXXXXXXXXXXX\"\n",
    "CCXX2 = CCXX+CClast4\n",
    "phrase = f\"{CCXX}{CClast4}\"\n",
    "print (phrase)"
   ]
  },
  {
   "cell_type": "code",
   "execution_count": 1,
   "metadata": {},
   "outputs": [
    {
     "data": {
      "text/html": [
       "<div>\n",
       "<style scoped>\n",
       "    .dataframe tbody tr th:only-of-type {\n",
       "        vertical-align: middle;\n",
       "    }\n",
       "\n",
       "    .dataframe tbody tr th {\n",
       "        vertical-align: top;\n",
       "    }\n",
       "\n",
       "    .dataframe thead th {\n",
       "        text-align: right;\n",
       "    }\n",
       "</style>\n",
       "<table border=\"1\" class=\"dataframe\">\n",
       "  <thead>\n",
       "    <tr style=\"text-align: right;\">\n",
       "      <th></th>\n",
       "      <th>here's a column</th>\n",
       "      <th>col 2</th>\n",
       "      <th>col z</th>\n",
       "    </tr>\n",
       "  </thead>\n",
       "  <tbody>\n",
       "    <tr>\n",
       "      <th>0</th>\n",
       "      <td>val 1</td>\n",
       "      <td>4</td>\n",
       "      <td>foo</td>\n",
       "    </tr>\n",
       "    <tr>\n",
       "      <th>1</th>\n",
       "      <td>val2</td>\n",
       "      <td>5</td>\n",
       "      <td>bar</td>\n",
       "    </tr>\n",
       "    <tr>\n",
       "      <th>2</th>\n",
       "      <td>val3</td>\n",
       "      <td>6</td>\n",
       "      <td>baz</td>\n",
       "    </tr>\n",
       "  </tbody>\n",
       "</table>\n",
       "</div>"
      ],
      "text/plain": [
       "  here's a column  col 2 col z\n",
       "0           val 1      4   foo\n",
       "1            val2      5   bar\n",
       "2            val3      6   baz"
      ]
     },
     "execution_count": 1,
     "metadata": {},
     "output_type": "execute_result"
    }
   ],
   "source": [
    "import pandas as pd\n",
    "\n",
    "dict_1 = {\"here's a column\":['val 1', 'val2', 'val3'],\n",
    "          \"col 2\": [4,5,6],\n",
    "          \"col z\": ['foo', 'bar', 'baz']}\n",
    "\n",
    "df_1 = pd.DataFrame(dict_1)\n",
    "df_1"
   ]
  },
  {
   "cell_type": "code",
   "execution_count": 7,
   "metadata": {},
   "outputs": [
    {
     "data": {
      "text/html": [
       "<div>\n",
       "<style scoped>\n",
       "    .dataframe tbody tr th:only-of-type {\n",
       "        vertical-align: middle;\n",
       "    }\n",
       "\n",
       "    .dataframe tbody tr th {\n",
       "        vertical-align: top;\n",
       "    }\n",
       "\n",
       "    .dataframe thead th {\n",
       "        text-align: right;\n",
       "    }\n",
       "</style>\n",
       "<table border=\"1\" class=\"dataframe\">\n",
       "  <thead>\n",
       "    <tr style=\"text-align: right;\">\n",
       "      <th></th>\n",
       "      <th>letter</th>\n",
       "      <th>Word</th>\n",
       "      <th>number</th>\n",
       "    </tr>\n",
       "  </thead>\n",
       "  <tbody>\n",
       "    <tr>\n",
       "      <th>0</th>\n",
       "      <td>A</td>\n",
       "      <td>foo</td>\n",
       "      <td>1</td>\n",
       "    </tr>\n",
       "    <tr>\n",
       "      <th>1</th>\n",
       "      <td>B</td>\n",
       "      <td>baz</td>\n",
       "      <td>2</td>\n",
       "    </tr>\n",
       "  </tbody>\n",
       "</table>\n",
       "</div>"
      ],
      "text/plain": [
       "  letter Word  number\n",
       "0      A  foo       1\n",
       "1      B  baz       2"
      ]
     },
     "execution_count": 7,
     "metadata": {},
     "output_type": "execute_result"
    }
   ],
   "source": [
    "list_of_dicts = [{'letter': 'A',\n",
    "                  'Word' : 'foo',\n",
    "                  'number' : 1},\n",
    "                  {'letter': 'B',\n",
    "                  'Word' : 'baz',\n",
    "                  'number' : 2}]\n",
    "\n",
    "df_2 = pd.DataFrame(list_of_dicts)\n",
    "df_2"
   ]
  },
  {
   "cell_type": "code",
   "execution_count": 21,
   "metadata": {},
   "outputs": [
    {
     "data": {
      "text/html": [
       "<div>\n",
       "<style scoped>\n",
       "    .dataframe tbody tr th:only-of-type {\n",
       "        vertical-align: middle;\n",
       "    }\n",
       "\n",
       "    .dataframe tbody tr th {\n",
       "        vertical-align: top;\n",
       "    }\n",
       "\n",
       "    .dataframe thead th {\n",
       "        text-align: right;\n",
       "    }\n",
       "</style>\n",
       "<table border=\"1\" class=\"dataframe\">\n",
       "  <thead>\n",
       "    <tr style=\"text-align: right;\">\n",
       "      <th></th>\n",
       "      <th>Employee</th>\n",
       "      <th>Title</th>\n",
       "      <th>salary</th>\n",
       "      <th>DOB</th>\n",
       "    </tr>\n",
       "  </thead>\n",
       "  <tbody>\n",
       "    <tr>\n",
       "      <th>0</th>\n",
       "      <td>Jon Maggs</td>\n",
       "      <td>Coach Beard</td>\n",
       "      <td>50000</td>\n",
       "      <td>05/03/85</td>\n",
       "    </tr>\n",
       "    <tr>\n",
       "      <th>1</th>\n",
       "      <td>Michael Mac</td>\n",
       "      <td>Chief of Hair</td>\n",
       "      <td>50000</td>\n",
       "      <td>12/06/89</td>\n",
       "    </tr>\n",
       "    <tr>\n",
       "      <th>2</th>\n",
       "      <td>Emily Dickson</td>\n",
       "      <td>Numbers Whizz</td>\n",
       "      <td>50000</td>\n",
       "      <td>09/02/92</td>\n",
       "    </tr>\n",
       "    <tr>\n",
       "      <th>3</th>\n",
       "      <td>Paul Dryden</td>\n",
       "      <td>The Boss</td>\n",
       "      <td>1000000</td>\n",
       "      <td>09/02/92</td>\n",
       "    </tr>\n",
       "  </tbody>\n",
       "</table>\n",
       "</div>"
      ],
      "text/plain": [
       "        Employee          Title   salary       DOB\n",
       "0      Jon Maggs    Coach Beard    50000  05/03/85\n",
       "1    Michael Mac  Chief of Hair    50000  12/06/89\n",
       "2  Emily Dickson  Numbers Whizz    50000  09/02/92\n",
       "3    Paul Dryden       The Boss  1000000  09/02/92"
      ]
     },
     "execution_count": 21,
     "metadata": {},
     "output_type": "execute_result"
    }
   ],
   "source": [
    "jobs_table = [{'Employee': 'Jon Maggs',\n",
    "                  'Title' : 'Coach Beard',\n",
    "                  'salary' : 50000,\n",
    "                  'DOB' : '05/03/85'},\n",
    "                  {'Employee': 'Michael Mac',\n",
    "                  'Title' : 'Chief of Hair',\n",
    "                  'salary' : 50000,\n",
    "                  'DOB' : '12/06/89'},\n",
    "                  {'Employee': 'Emily Dickson',\n",
    "                  'Title' : 'Numbers Whizz',\n",
    "                  'salary' : 50000,\n",
    "                  'DOB' : '09/02/92'},\n",
    "                  {'Employee': 'Paul Dryden',\n",
    "                  'Title' : 'The Boss',\n",
    "                  'salary' : 1000000,\n",
    "                  'DOB' : '09/02/92'}]\n",
    "\n",
    "jobs_df = pd.DataFrame (jobs_table)\n",
    "jobs_df"
   ]
  },
  {
   "cell_type": "code",
   "execution_count": 13,
   "metadata": {},
   "outputs": [],
   "source": [
    "#print(jobs_df.info())\n",
    "# print(jobs_df.dtypes)\n",
    "# print(jobs_df.head(1))\n",
    "# print(jobs_df.tail(1))"
   ]
  },
  {
   "cell_type": "code",
   "execution_count": 17,
   "metadata": {},
   "outputs": [
    {
     "ename": "SyntaxError",
     "evalue": "unmatched ')' (1995957910.py, line 2)",
     "output_type": "error",
     "traceback": [
      "\u001b[0;36m  Cell \u001b[0;32mIn[17], line 2\u001b[0;36m\u001b[0m\n\u001b[0;31m    print (jobs_df)['Salary'].sum)\u001b[0m\n\u001b[0m                                 ^\u001b[0m\n\u001b[0;31mSyntaxError\u001b[0m\u001b[0;31m:\u001b[0m unmatched ')'\n"
     ]
    }
   ],
   "source": [
    "# jobs_df['salary'] = jobs_df['salary'].astype('str')\n",
    "# DOES NOT work print (jobs_df)['Salary'].sum)"
   ]
  },
  {
   "cell_type": "code",
   "execution_count": 18,
   "metadata": {},
   "outputs": [
    {
     "data": {
      "text/html": [
       "<div>\n",
       "<style scoped>\n",
       "    .dataframe tbody tr th:only-of-type {\n",
       "        vertical-align: middle;\n",
       "    }\n",
       "\n",
       "    .dataframe tbody tr th {\n",
       "        vertical-align: top;\n",
       "    }\n",
       "\n",
       "    .dataframe thead th {\n",
       "        text-align: right;\n",
       "    }\n",
       "</style>\n",
       "<table border=\"1\" class=\"dataframe\">\n",
       "  <thead>\n",
       "    <tr style=\"text-align: right;\">\n",
       "      <th></th>\n",
       "      <th>Employee</th>\n",
       "      <th>Title</th>\n",
       "      <th>salary</th>\n",
       "    </tr>\n",
       "  </thead>\n",
       "  <tbody>\n",
       "    <tr>\n",
       "      <th>0</th>\n",
       "      <td>Jon Maggs</td>\n",
       "      <td>Coach Beard</td>\n",
       "      <td>53350.0</td>\n",
       "    </tr>\n",
       "    <tr>\n",
       "      <th>1</th>\n",
       "      <td>Michael Mac</td>\n",
       "      <td>Chief of Hair</td>\n",
       "      <td>53350.0</td>\n",
       "    </tr>\n",
       "    <tr>\n",
       "      <th>2</th>\n",
       "      <td>Emily Dickson</td>\n",
       "      <td>Numbers Whizz</td>\n",
       "      <td>53350.0</td>\n",
       "    </tr>\n",
       "    <tr>\n",
       "      <th>3</th>\n",
       "      <td>Paul Dryden</td>\n",
       "      <td>The Boss</td>\n",
       "      <td>1067000.0</td>\n",
       "    </tr>\n",
       "  </tbody>\n",
       "</table>\n",
       "</div>"
      ],
      "text/plain": [
       "        Employee          Title     salary\n",
       "0      Jon Maggs    Coach Beard    53350.0\n",
       "1    Michael Mac  Chief of Hair    53350.0\n",
       "2  Emily Dickson  Numbers Whizz    53350.0\n",
       "3    Paul Dryden       The Boss  1067000.0"
      ]
     },
     "execution_count": 18,
     "metadata": {},
     "output_type": "execute_result"
    }
   ],
   "source": [
    "inflation = 1.067\n",
    "jobs_df['salary'] = jobs_df['salary'] * inflation\n",
    "jobs_df\n"
   ]
  },
  {
   "cell_type": "code",
   "execution_count": 25,
   "metadata": {},
   "outputs": [
    {
     "data": {
      "text/html": [
       "<div>\n",
       "<style scoped>\n",
       "    .dataframe tbody tr th:only-of-type {\n",
       "        vertical-align: middle;\n",
       "    }\n",
       "\n",
       "    .dataframe tbody tr th {\n",
       "        vertical-align: top;\n",
       "    }\n",
       "\n",
       "    .dataframe thead th {\n",
       "        text-align: right;\n",
       "    }\n",
       "</style>\n",
       "<table border=\"1\" class=\"dataframe\">\n",
       "  <thead>\n",
       "    <tr style=\"text-align: right;\">\n",
       "      <th></th>\n",
       "      <th>Employee</th>\n",
       "      <th>Title</th>\n",
       "      <th>salary</th>\n",
       "      <th>DOB</th>\n",
       "    </tr>\n",
       "  </thead>\n",
       "  <tbody>\n",
       "    <tr>\n",
       "      <th>0</th>\n",
       "      <td>Jon Maggs</td>\n",
       "      <td>Coach Beard</td>\n",
       "      <td>50000</td>\n",
       "      <td>1985-03-05</td>\n",
       "    </tr>\n",
       "    <tr>\n",
       "      <th>1</th>\n",
       "      <td>Michael Mac</td>\n",
       "      <td>Chief of Hair</td>\n",
       "      <td>50000</td>\n",
       "      <td>1989-06-12</td>\n",
       "    </tr>\n",
       "    <tr>\n",
       "      <th>2</th>\n",
       "      <td>Emily Dickson</td>\n",
       "      <td>Numbers Whizz</td>\n",
       "      <td>50000</td>\n",
       "      <td>1992-02-09</td>\n",
       "    </tr>\n",
       "    <tr>\n",
       "      <th>3</th>\n",
       "      <td>Paul Dryden</td>\n",
       "      <td>The Boss</td>\n",
       "      <td>1000000</td>\n",
       "      <td>1992-02-09</td>\n",
       "    </tr>\n",
       "  </tbody>\n",
       "</table>\n",
       "</div>"
      ],
      "text/plain": [
       "        Employee          Title   salary        DOB\n",
       "0      Jon Maggs    Coach Beard    50000 1985-03-05\n",
       "1    Michael Mac  Chief of Hair    50000 1989-06-12\n",
       "2  Emily Dickson  Numbers Whizz    50000 1992-02-09\n",
       "3    Paul Dryden       The Boss  1000000 1992-02-09"
      ]
     },
     "execution_count": 25,
     "metadata": {},
     "output_type": "execute_result"
    }
   ],
   "source": [
    "jobs_df['DOB'] = pd.to_datetime(jobs_df['DOB'], format='%d/%m/%y')\n",
    "jobs_df"
   ]
  },
  {
   "cell_type": "code",
   "execution_count": 5,
   "metadata": {},
   "outputs": [
    {
     "data": {
      "text/html": [
       "<div>\n",
       "<style scoped>\n",
       "    .dataframe tbody tr th:only-of-type {\n",
       "        vertical-align: middle;\n",
       "    }\n",
       "\n",
       "    .dataframe tbody tr th {\n",
       "        vertical-align: top;\n",
       "    }\n",
       "\n",
       "    .dataframe thead th {\n",
       "        text-align: right;\n",
       "    }\n",
       "</style>\n",
       "<table border=\"1\" class=\"dataframe\">\n",
       "  <thead>\n",
       "    <tr style=\"text-align: right;\">\n",
       "      <th></th>\n",
       "      <th>starter</th>\n",
       "      <th>main</th>\n",
       "      <th>dessert</th>\n",
       "    </tr>\n",
       "  </thead>\n",
       "  <tbody>\n",
       "    <tr>\n",
       "      <th>0</th>\n",
       "      <td>garlic bread</td>\n",
       "      <td>spaghetti</td>\n",
       "      <td>ice cream</td>\n",
       "    </tr>\n",
       "    <tr>\n",
       "      <th>1</th>\n",
       "      <td>calamari</td>\n",
       "      <td>pizza</td>\n",
       "      <td>tiramisu</td>\n",
       "    </tr>\n",
       "  </tbody>\n",
       "</table>\n",
       "</div>"
      ],
      "text/plain": [
       "        starter       main    dessert\n",
       "0  garlic bread  spaghetti  ice cream\n",
       "1      calamari      pizza   tiramisu"
      ]
     },
     "execution_count": 5,
     "metadata": {},
     "output_type": "execute_result"
    }
   ],
   "source": [
    "restaurantsDF = [{'starter': 'garlic bread',\n",
    "                  'main' : 'spaghetti',\n",
    "                  'dessert' : 'ice cream'},\n",
    "                  {'starter': 'calamari',\n",
    "                  'main' : 'pizza',\n",
    "                  'dessert' : 'tiramisu'}]\n",
    "\n",
    "restaurantsDF = pd.DataFrame(restaurantsDF)\n",
    "restaurantsDF"
   ]
  },
  {
   "cell_type": "code",
   "execution_count": 7,
   "metadata": {},
   "outputs": [
    {
     "ename": "SyntaxError",
     "evalue": "'{' was never closed (2398246008.py, line 1)",
     "output_type": "error",
     "traceback": [
      "\u001b[0;36m  Cell \u001b[0;32mIn[7], line 1\u001b[0;36m\u001b[0m\n\u001b[0;31m    childrenDF = ([{'Child_ID': 'child1',\u001b[0m\n\u001b[0m                   ^\u001b[0m\n\u001b[0;31mSyntaxError\u001b[0m\u001b[0;31m:\u001b[0m '{' was never closed\n"
     ]
    }
   ],
   "source": [
    "childrenDF = ([{'Child_ID': 'child1',\n",
    "                  'Gender' : '0',\n",
    "                  'DOB' : '05/05/2015',\n",
    "                  'Ethnicity : 'BANG',\n",
    "                  'Place' : 'B1'},\n",
    "                  {'Child_ID': 'child2',\n",
    "                  'Gender' : '1',\n",
    "                  'DOB' : '12/12/2020',\n",
    "                  'Ethnicity : 'WOTH',\n",
    "                  'Place' : 'T1'},\n",
    "                  {'Child_ID': 'child3',\n",
    "                  'Gender' : '2',\n",
    "                  'DOB' : '01/01/2000',\n",
    "                  'Ethnicity : 'MOTH',\n",
    "                  'Place' : 'X2'},\n",
    "                  {'Child_ID': 'child4',\n",
    "                  'Gender' : '7',\n",
    "                  'DOB' : '19/12/2017',\n",
    "                  'Ethnicity : 'WIRI',\n",
    "                  'Place' : 'W1'}])\n",
    "\n",
    "childrenDF = pd.DataFrame(childrenDF)\n",
    "childrenDF"
   ]
  },
  {
   "cell_type": "code",
   "execution_count": 21,
   "metadata": {},
   "outputs": [
    {
     "data": {
      "text/html": [
       "<div>\n",
       "<style scoped>\n",
       "    .dataframe tbody tr th:only-of-type {\n",
       "        vertical-align: middle;\n",
       "    }\n",
       "\n",
       "    .dataframe tbody tr th {\n",
       "        vertical-align: top;\n",
       "    }\n",
       "\n",
       "    .dataframe thead th {\n",
       "        text-align: right;\n",
       "    }\n",
       "</style>\n",
       "<table border=\"1\" class=\"dataframe\">\n",
       "  <thead>\n",
       "    <tr style=\"text-align: right;\">\n",
       "      <th></th>\n",
       "      <th>child_id</th>\n",
       "      <th>gender</th>\n",
       "      <th>dob</th>\n",
       "      <th>ethnicity</th>\n",
       "      <th>place</th>\n",
       "    </tr>\n",
       "  </thead>\n",
       "  <tbody>\n",
       "    <tr>\n",
       "      <th>0</th>\n",
       "      <td>child1</td>\n",
       "      <td>0</td>\n",
       "      <td>2015-05-05</td>\n",
       "      <td>bang</td>\n",
       "      <td>B1</td>\n",
       "    </tr>\n",
       "    <tr>\n",
       "      <th>1</th>\n",
       "      <td>child2</td>\n",
       "      <td>1</td>\n",
       "      <td>2020-12-12</td>\n",
       "      <td>woth</td>\n",
       "      <td>T1</td>\n",
       "    </tr>\n",
       "    <tr>\n",
       "      <th>2</th>\n",
       "      <td>child3</td>\n",
       "      <td>2</td>\n",
       "      <td>2000-01-01</td>\n",
       "      <td>moth</td>\n",
       "      <td>X2</td>\n",
       "    </tr>\n",
       "    <tr>\n",
       "      <th>3</th>\n",
       "      <td>child4</td>\n",
       "      <td>7</td>\n",
       "      <td>2017-12-09</td>\n",
       "      <td>wiri</td>\n",
       "      <td>W1</td>\n",
       "    </tr>\n",
       "  </tbody>\n",
       "</table>\n",
       "</div>"
      ],
      "text/plain": [
       "  child_id gender        dob ethnicity place\n",
       "0   child1      0 2015-05-05      bang    B1\n",
       "1   child2      1 2020-12-12      woth    T1\n",
       "2   child3      2 2000-01-01      moth    X2\n",
       "3   child4      7 2017-12-09      wiri    W1"
      ]
     },
     "execution_count": 21,
     "metadata": {},
     "output_type": "execute_result"
    }
   ],
   "source": [
    "import pandas as pd\n",
    " \n",
    "children = pd.DataFrame({\"child_id\": [\"child1\", \"child2\", \"child3\", \"child4\"],\n",
    "                     \"gender\": [\"0\", \"1\", \"2\", \"7\"],\n",
    "                     \"dob\": [\"05/05/2015\", \"12/12/2020\", \"01/01/2000\", \"09/12/2017\"],\n",
    "                     \"ethnicity\": [\"bang\", \"woth\", \"moth\", \"wiri\"],\n",
    "                     \"place\": [\"B1\", \"T1\", \"X2\", \"W1\"]})\n",
    " \n",
    "children['dob'] = pd.to_datetime(children['dob'], format= '%d/%m/%Y')\n",
    "children"
   ]
  },
  {
   "cell_type": "code",
   "execution_count": 11,
   "metadata": {},
   "outputs": [
    {
     "data": {
      "text/html": [
       "<div>\n",
       "<style scoped>\n",
       "    .dataframe tbody tr th:only-of-type {\n",
       "        vertical-align: middle;\n",
       "    }\n",
       "\n",
       "    .dataframe tbody tr th {\n",
       "        vertical-align: top;\n",
       "    }\n",
       "\n",
       "    .dataframe thead th {\n",
       "        text-align: right;\n",
       "    }\n",
       "</style>\n",
       "<table border=\"1\" class=\"dataframe\">\n",
       "  <thead>\n",
       "    <tr style=\"text-align: right;\">\n",
       "      <th></th>\n",
       "      <th>Name</th>\n",
       "      <th>Salary</th>\n",
       "      <th>Job Title</th>\n",
       "      <th>Date Started</th>\n",
       "    </tr>\n",
       "  </thead>\n",
       "  <tbody>\n",
       "    <tr>\n",
       "      <th>0</th>\n",
       "      <td>Will LP</td>\n",
       "      <td>10000</td>\n",
       "      <td>Employee</td>\n",
       "      <td>1993-12-05</td>\n",
       "    </tr>\n",
       "    <tr>\n",
       "      <th>1</th>\n",
       "      <td>Annie LP</td>\n",
       "      <td>15000</td>\n",
       "      <td>CEO</td>\n",
       "      <td>2000-01-01</td>\n",
       "    </tr>\n",
       "    <tr>\n",
       "      <th>2</th>\n",
       "      <td>Naiomi LP</td>\n",
       "      <td>90000</td>\n",
       "      <td>VP</td>\n",
       "      <td>2020-01-01</td>\n",
       "    </tr>\n",
       "    <tr>\n",
       "      <th>3</th>\n",
       "      <td>Luke V</td>\n",
       "      <td>45000</td>\n",
       "      <td>Teach Lead</td>\n",
       "      <td>1989-12-23</td>\n",
       "    </tr>\n",
       "    <tr>\n",
       "      <th>4</th>\n",
       "      <td>Matt K</td>\n",
       "      <td>30000</td>\n",
       "      <td>Comms</td>\n",
       "      <td>2010-10-10</td>\n",
       "    </tr>\n",
       "    <tr>\n",
       "      <th>5</th>\n",
       "      <td>Hannah K</td>\n",
       "      <td>38000</td>\n",
       "      <td>HR</td>\n",
       "      <td>2021-12-17</td>\n",
       "    </tr>\n",
       "  </tbody>\n",
       "</table>\n",
       "</div>"
      ],
      "text/plain": [
       "        Name  Salary   Job Title Date Started\n",
       "0    Will LP   10000    Employee   1993-12-05\n",
       "1   Annie LP   15000         CEO   2000-01-01\n",
       "2  Naiomi LP   90000          VP   2020-01-01\n",
       "3     Luke V   45000  Teach Lead   1989-12-23\n",
       "4     Matt K   30000       Comms   2010-10-10\n",
       "5   Hannah K   38000          HR   2021-12-17"
      ]
     },
     "execution_count": 11,
     "metadata": {},
     "output_type": "execute_result"
    }
   ],
   "source": [
    "corporation = [{'Name':'Will LP',\n",
    "                'Salary':'10000',\n",
    "                'Job Title':'Employee'},\n",
    "                {'Name':'Annie LP',\n",
    "                'Salary':'15000',\n",
    "                'Job Title':'CEO'},\n",
    "                {'Name':'Naiomi LP',\n",
    "                'Salary':'90000',\n",
    "                'Job Title':'VP'},\n",
    "                {'Name':'Luke V',\n",
    "                'Salary':'45000',\n",
    "                'Job Title':'Teach Lead'},\n",
    "                {'Name':'Matt K',\n",
    "                'Salary':'30000',\n",
    "                'Job Title':'Comms'},\n",
    "                {'Name':'Hannah K',\n",
    "                'Salary':'38000',\n",
    "                'Job Title':'HR'},]\n",
    "\n",
    "corp_df = pd.DataFrame(corporation)\n",
    "\n",
    "\n",
    "corp_df['Date Started'] = ['05/12/1993', '01/01/2000', '01/01/2020', '23/12/1989', '10/10/2010', '17/12/2021']\n",
    "\n",
    "corp_df['Date Started'] = pd.to_datetime(corp_df['Date Started'], format='%d/%m/%Y')\n",
    "\n",
    "corp_df['Salary'] = corp_df['Salary'].astype('int')\n",
    "\n",
    "corp_df"
   ]
  },
  {
   "cell_type": "code",
   "execution_count": 13,
   "metadata": {},
   "outputs": [
    {
     "data": {
      "text/html": [
       "<div>\n",
       "<style scoped>\n",
       "    .dataframe tbody tr th:only-of-type {\n",
       "        vertical-align: middle;\n",
       "    }\n",
       "\n",
       "    .dataframe tbody tr th {\n",
       "        vertical-align: top;\n",
       "    }\n",
       "\n",
       "    .dataframe thead th {\n",
       "        text-align: right;\n",
       "    }\n",
       "</style>\n",
       "<table border=\"1\" class=\"dataframe\">\n",
       "  <thead>\n",
       "    <tr style=\"text-align: right;\">\n",
       "      <th></th>\n",
       "      <th>Name</th>\n",
       "      <th>Salary</th>\n",
       "      <th>Job Title</th>\n",
       "      <th>Date Started</th>\n",
       "    </tr>\n",
       "  </thead>\n",
       "  <tbody>\n",
       "    <tr>\n",
       "      <th>2</th>\n",
       "      <td>Naiomi LP</td>\n",
       "      <td>90000</td>\n",
       "      <td>VP</td>\n",
       "      <td>2020-01-01</td>\n",
       "    </tr>\n",
       "    <tr>\n",
       "      <th>3</th>\n",
       "      <td>Luke V</td>\n",
       "      <td>45000</td>\n",
       "      <td>Teach Lead</td>\n",
       "      <td>1989-12-23</td>\n",
       "    </tr>\n",
       "  </tbody>\n",
       "</table>\n",
       "</div>"
      ],
      "text/plain": [
       "        Name  Salary   Job Title Date Started\n",
       "2  Naiomi LP   90000          VP   2020-01-01\n",
       "3     Luke V   45000  Teach Lead   1989-12-23"
      ]
     },
     "execution_count": 13,
     "metadata": {},
     "output_type": "execute_result"
    }
   ],
   "source": [
    "# Equals ==\n",
    "# notequals !=\n",
    "# less than <\n",
    "# greater than >\n",
    "# greater or equal >=\n",
    "# ~ not\n",
    "\n",
    "mask = corp_df['Salary'] > 40000\n",
    "\n",
    "over40k = corp_df[mask]\n",
    "over40k"
   ]
  },
  {
   "cell_type": "code",
   "execution_count": 15,
   "metadata": {},
   "outputs": [
    {
     "ename": "KeyError",
     "evalue": "38000.0",
     "output_type": "error",
     "traceback": [
      "\u001b[0;31m---------------------------------------------------------------------------\u001b[0m",
      "\u001b[0;31mKeyError\u001b[0m                                  Traceback (most recent call last)",
      "File \u001b[0;32m~/.local/lib/python3.10/site-packages/pandas/core/indexes/base.py:3790\u001b[0m, in \u001b[0;36mIndex.get_loc\u001b[0;34m(self, key)\u001b[0m\n\u001b[1;32m   3789\u001b[0m \u001b[39mtry\u001b[39;00m:\n\u001b[0;32m-> 3790\u001b[0m     \u001b[39mreturn\u001b[39;00m \u001b[39mself\u001b[39;49m\u001b[39m.\u001b[39;49m_engine\u001b[39m.\u001b[39;49mget_loc(casted_key)\n\u001b[1;32m   3791\u001b[0m \u001b[39mexcept\u001b[39;00m \u001b[39mKeyError\u001b[39;00m \u001b[39mas\u001b[39;00m err:\n",
      "File \u001b[0;32mindex.pyx:152\u001b[0m, in \u001b[0;36mpandas._libs.index.IndexEngine.get_loc\u001b[0;34m()\u001b[0m\n",
      "File \u001b[0;32mindex.pyx:181\u001b[0m, in \u001b[0;36mpandas._libs.index.IndexEngine.get_loc\u001b[0;34m()\u001b[0m\n",
      "File \u001b[0;32mpandas/_libs/hashtable_class_helper.pxi:7080\u001b[0m, in \u001b[0;36mpandas._libs.hashtable.PyObjectHashTable.get_item\u001b[0;34m()\u001b[0m\n",
      "File \u001b[0;32mpandas/_libs/hashtable_class_helper.pxi:7088\u001b[0m, in \u001b[0;36mpandas._libs.hashtable.PyObjectHashTable.get_item\u001b[0;34m()\u001b[0m\n",
      "\u001b[0;31mKeyError\u001b[0m: 38000.0",
      "\nThe above exception was the direct cause of the following exception:\n",
      "\u001b[0;31mKeyError\u001b[0m                                  Traceback (most recent call last)",
      "\u001b[1;32m/workspaces/ERN-sessions/Paul_D/Session_1.ipynb Cell 34\u001b[0m line \u001b[0;36m2\n\u001b[1;32m      <a href='vscode-notebook-cell://codespaces%2Bhumble-fishstick-7v9qj9gp6jvvcwqxr/workspaces/ERN-sessions/Paul_D/Session_1.ipynb#X45sdnNjb2RlLXJlbW90ZQ%3D%3D?line=0'>1</a>\u001b[0m mask \u001b[39m=\u001b[39m corp_df[\u001b[39m'\u001b[39m\u001b[39mSalary\u001b[39m\u001b[39m'\u001b[39m]\u001b[39m.\u001b[39mmean()\n\u001b[0;32m----> <a href='vscode-notebook-cell://codespaces%2Bhumble-fishstick-7v9qj9gp6jvvcwqxr/workspaces/ERN-sessions/Paul_D/Session_1.ipynb#X45sdnNjb2RlLXJlbW90ZQ%3D%3D?line=1'>2</a>\u001b[0m over_mean\u001b[39m=\u001b[39m corp_df [mask]\n",
      "File \u001b[0;32m~/.local/lib/python3.10/site-packages/pandas/core/frame.py:3896\u001b[0m, in \u001b[0;36mDataFrame.__getitem__\u001b[0;34m(self, key)\u001b[0m\n\u001b[1;32m   3894\u001b[0m \u001b[39mif\u001b[39;00m \u001b[39mself\u001b[39m\u001b[39m.\u001b[39mcolumns\u001b[39m.\u001b[39mnlevels \u001b[39m>\u001b[39m \u001b[39m1\u001b[39m:\n\u001b[1;32m   3895\u001b[0m     \u001b[39mreturn\u001b[39;00m \u001b[39mself\u001b[39m\u001b[39m.\u001b[39m_getitem_multilevel(key)\n\u001b[0;32m-> 3896\u001b[0m indexer \u001b[39m=\u001b[39m \u001b[39mself\u001b[39;49m\u001b[39m.\u001b[39;49mcolumns\u001b[39m.\u001b[39;49mget_loc(key)\n\u001b[1;32m   3897\u001b[0m \u001b[39mif\u001b[39;00m is_integer(indexer):\n\u001b[1;32m   3898\u001b[0m     indexer \u001b[39m=\u001b[39m [indexer]\n",
      "File \u001b[0;32m~/.local/lib/python3.10/site-packages/pandas/core/indexes/base.py:3797\u001b[0m, in \u001b[0;36mIndex.get_loc\u001b[0;34m(self, key)\u001b[0m\n\u001b[1;32m   3792\u001b[0m     \u001b[39mif\u001b[39;00m \u001b[39misinstance\u001b[39m(casted_key, \u001b[39mslice\u001b[39m) \u001b[39mor\u001b[39;00m (\n\u001b[1;32m   3793\u001b[0m         \u001b[39misinstance\u001b[39m(casted_key, abc\u001b[39m.\u001b[39mIterable)\n\u001b[1;32m   3794\u001b[0m         \u001b[39mand\u001b[39;00m \u001b[39many\u001b[39m(\u001b[39misinstance\u001b[39m(x, \u001b[39mslice\u001b[39m) \u001b[39mfor\u001b[39;00m x \u001b[39min\u001b[39;00m casted_key)\n\u001b[1;32m   3795\u001b[0m     ):\n\u001b[1;32m   3796\u001b[0m         \u001b[39mraise\u001b[39;00m InvalidIndexError(key)\n\u001b[0;32m-> 3797\u001b[0m     \u001b[39mraise\u001b[39;00m \u001b[39mKeyError\u001b[39;00m(key) \u001b[39mfrom\u001b[39;00m \u001b[39merr\u001b[39;00m\n\u001b[1;32m   3798\u001b[0m \u001b[39mexcept\u001b[39;00m \u001b[39mTypeError\u001b[39;00m:\n\u001b[1;32m   3799\u001b[0m     \u001b[39m# If we have a listlike key, _check_indexing_error will raise\u001b[39;00m\n\u001b[1;32m   3800\u001b[0m     \u001b[39m#  InvalidIndexError. Otherwise we fall through and re-raise\u001b[39;00m\n\u001b[1;32m   3801\u001b[0m     \u001b[39m#  the TypeError.\u001b[39;00m\n\u001b[1;32m   3802\u001b[0m     \u001b[39mself\u001b[39m\u001b[39m.\u001b[39m_check_indexing_error(key)\n",
      "\u001b[0;31mKeyError\u001b[0m: 38000.0"
     ]
    }
   ],
   "source": [
    "mask = corp_df['Salary'].mean()\n",
    "over_mean= corp_df [mask]"
   ]
  },
  {
   "cell_type": "code",
   "execution_count": 18,
   "metadata": {},
   "outputs": [
    {
     "data": {
      "text/html": [
       "<div>\n",
       "<style scoped>\n",
       "    .dataframe tbody tr th:only-of-type {\n",
       "        vertical-align: middle;\n",
       "    }\n",
       "\n",
       "    .dataframe tbody tr th {\n",
       "        vertical-align: top;\n",
       "    }\n",
       "\n",
       "    .dataframe thead th {\n",
       "        text-align: right;\n",
       "    }\n",
       "</style>\n",
       "<table border=\"1\" class=\"dataframe\">\n",
       "  <thead>\n",
       "    <tr style=\"text-align: right;\">\n",
       "      <th></th>\n",
       "      <th>Name</th>\n",
       "      <th>Salary</th>\n",
       "      <th>Job Title</th>\n",
       "      <th>Date Started</th>\n",
       "    </tr>\n",
       "  </thead>\n",
       "  <tbody>\n",
       "    <tr>\n",
       "      <th>1</th>\n",
       "      <td>Annie LP</td>\n",
       "      <td>15000</td>\n",
       "      <td>CEO</td>\n",
       "      <td>2000-01-01</td>\n",
       "    </tr>\n",
       "    <tr>\n",
       "      <th>2</th>\n",
       "      <td>Naiomi LP</td>\n",
       "      <td>90000</td>\n",
       "      <td>VP</td>\n",
       "      <td>2020-01-01</td>\n",
       "    </tr>\n",
       "    <tr>\n",
       "      <th>3</th>\n",
       "      <td>Luke V</td>\n",
       "      <td>45000</td>\n",
       "      <td>Teach Lead</td>\n",
       "      <td>1989-12-23</td>\n",
       "    </tr>\n",
       "  </tbody>\n",
       "</table>\n",
       "</div>"
      ],
      "text/plain": [
       "        Name  Salary   Job Title Date Started\n",
       "1   Annie LP   15000         CEO   2000-01-01\n",
       "2  Naiomi LP   90000          VP   2020-01-01\n",
       "3     Luke V   45000  Teach Lead   1989-12-23"
      ]
     },
     "execution_count": 18,
     "metadata": {},
     "output_type": "execute_result"
    }
   ],
   "source": [
    "ceo_df = corp_df[corp_df['Job Title'] =='CEO']\n",
    "ceo_df \n",
    "\n",
    "not_ceo_df = corp_df[corp_df['Job Title'] !='CEO']\n",
    "not_ceo_df\n",
    "\n",
    "some_jobs = corp_df[corp_df['Job Title'].isin(['Teach Lead', 'CEO', 'VP'])]\n",
    "some_jobs"
   ]
  },
  {
   "cell_type": "code",
   "execution_count": 26,
   "metadata": {},
   "outputs": [
    {
     "data": {
      "text/html": [
       "<div>\n",
       "<style scoped>\n",
       "    .dataframe tbody tr th:only-of-type {\n",
       "        vertical-align: middle;\n",
       "    }\n",
       "\n",
       "    .dataframe tbody tr th {\n",
       "        vertical-align: top;\n",
       "    }\n",
       "\n",
       "    .dataframe thead th {\n",
       "        text-align: right;\n",
       "    }\n",
       "</style>\n",
       "<table border=\"1\" class=\"dataframe\">\n",
       "  <thead>\n",
       "    <tr style=\"text-align: right;\">\n",
       "      <th></th>\n",
       "      <th>child_id</th>\n",
       "      <th>gender</th>\n",
       "      <th>dob</th>\n",
       "      <th>ethnicity</th>\n",
       "      <th>place</th>\n",
       "    </tr>\n",
       "  </thead>\n",
       "  <tbody>\n",
       "    <tr>\n",
       "      <th>1</th>\n",
       "      <td>child2</td>\n",
       "      <td>1</td>\n",
       "      <td>2020-12-12</td>\n",
       "      <td>woth</td>\n",
       "      <td>T1</td>\n",
       "    </tr>\n",
       "    <tr>\n",
       "      <th>2</th>\n",
       "      <td>child3</td>\n",
       "      <td>2</td>\n",
       "      <td>2000-01-01</td>\n",
       "      <td>moth</td>\n",
       "      <td>X2</td>\n",
       "    </tr>\n",
       "    <tr>\n",
       "      <th>3</th>\n",
       "      <td>child4</td>\n",
       "      <td>7</td>\n",
       "      <td>2017-12-09</td>\n",
       "      <td>wiri</td>\n",
       "      <td>W1</td>\n",
       "    </tr>\n",
       "  </tbody>\n",
       "</table>\n",
       "</div>"
      ],
      "text/plain": [
       "  child_id gender        dob ethnicity place\n",
       "1   child2      1 2020-12-12      woth    T1\n",
       "2   child3      2 2000-01-01      moth    X2\n",
       "3   child4      7 2017-12-09      wiri    W1"
      ]
     },
     "execution_count": 26,
     "metadata": {},
     "output_type": "execute_result"
    }
   ],
   "source": [
    "children7 = children[children['gender'] =='7']\n",
    "children7\n",
    "childrennot7 = children[children['gender'] !='7']\n",
    "childrennot7\n",
    "childrenbang = children[children['ethnicity'] =='bang']\n",
    "childrenbang\n",
    "childrennotbang = children[children['ethnicity'] !='bang']\n",
    "childrennotbang"
   ]
  },
  {
   "cell_type": "code",
   "execution_count": 35,
   "metadata": {},
   "outputs": [
    {
     "name": "stdout",
     "output_type": "stream",
     "text": [
      "1\n",
      "2\n",
      "3\n",
      "4\n",
      "5\n"
     ]
    }
   ],
   "source": [
    "numbers = [1,2,3,4,5]\n",
    "\n",
    "for i in numbers:\n",
    "    print(i)"
   ]
  }
 ],
 "metadata": {
  "kernelspec": {
   "display_name": "Python 3",
   "language": "python",
   "name": "python3"
  },
  "language_info": {
   "codemirror_mode": {
    "name": "ipython",
    "version": 3
   },
   "file_extension": ".py",
   "mimetype": "text/x-python",
   "name": "python",
   "nbconvert_exporter": "python",
   "pygments_lexer": "ipython3",
   "version": "3.10.8"
  }
 },
 "nbformat": 4,
 "nbformat_minor": 2
}

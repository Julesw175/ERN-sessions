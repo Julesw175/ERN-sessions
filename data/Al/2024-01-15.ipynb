{
 "cells": [
  {
   "cell_type": "code",
   "execution_count": 13,
   "metadata": {},
   "outputs": [
    {
     "ename": "TypeError",
     "evalue": "The function only accepts a string as input. <class 'int'> is of type not a string.",
     "output_type": "error",
     "traceback": [
      "\u001b[0;31m---------------------------------------------------------------------------\u001b[0m",
      "\u001b[0;31mTypeError\u001b[0m                                 Traceback (most recent call last)",
      "Cell \u001b[0;32mIn[13], line 21\u001b[0m\n\u001b[1;32m     18\u001b[0m     \u001b[38;5;28;01melse\u001b[39;00m:\n\u001b[1;32m     19\u001b[0m         \u001b[38;5;28;01mreturn\u001b[39;00m \u001b[38;5;124m'\u001b[39m\u001b[38;5;124m5 or under\u001b[39m\u001b[38;5;124m'\u001b[39m\n\u001b[0;32m---> 21\u001b[0m \u001b[38;5;28mprint\u001b[39m(\u001b[43mcheck_string_length\u001b[49m\u001b[43m(\u001b[49m\u001b[38;5;241;43m5\u001b[39;49m\u001b[43m)\u001b[49m)\n",
      "Cell \u001b[0;32mIn[13], line 14\u001b[0m, in \u001b[0;36mcheck_string_length\u001b[0;34m(input_str)\u001b[0m\n\u001b[1;32m     12\u001b[0m \u001b[38;5;66;03m#Check if input_str is a string\u001b[39;00m\n\u001b[1;32m     13\u001b[0m \u001b[38;5;28;01mif\u001b[39;00m \u001b[38;5;129;01mnot\u001b[39;00m \u001b[38;5;28mtype\u001b[39m(input_str) \u001b[38;5;241m==\u001b[39m \u001b[38;5;28mstr\u001b[39m: \n\u001b[0;32m---> 14\u001b[0m     \u001b[38;5;28;01mraise\u001b[39;00m \u001b[38;5;167;01mTypeError\u001b[39;00m(\u001b[38;5;124mf\u001b[39m\u001b[38;5;124m'\u001b[39m\u001b[38;5;124mThe function only accepts a string as input. \u001b[39m\u001b[38;5;132;01m{\u001b[39;00m\u001b[38;5;28mtype\u001b[39m(input_str)\u001b[38;5;132;01m}\u001b[39;00m\u001b[38;5;124m is of type not a string.\u001b[39m\u001b[38;5;124m'\u001b[39m)\n\u001b[1;32m     15\u001b[0m \u001b[38;5;66;03m#Do string length checks\u001b[39;00m\n\u001b[1;32m     16\u001b[0m \u001b[38;5;28;01melif\u001b[39;00m \u001b[38;5;28mlen\u001b[39m(input_str) \u001b[38;5;241m>\u001b[39m \u001b[38;5;241m5\u001b[39m:\n",
      "\u001b[0;31mTypeError\u001b[0m: The function only accepts a string as input. <class 'int'> is of type not a string."
     ]
    }
   ],
   "source": [
    "def check_string_length(input_str):\n",
    "    '''\n",
    "    This function:\n",
    "        1) takes in a variable\n",
    "        2) checks if it is a string\n",
    "        3) If not a string, raise type error\n",
    "        4) If it is a string, return one of following values: \n",
    "            -  If string length is <= 5 return \"5 or under\"\n",
    "            -  Else return \"Over 5\"\n",
    "    '''\n",
    "     \n",
    "    #Check if input_str is a string\n",
    "    if not type(input_str) == str: \n",
    "        raise TypeError(f'The function only accepts a string as input. {type(input_str)} is of type not a string.')\n",
    "    #Do string length checks\n",
    "    elif len(input_str) > 5:\n",
    "        return 'Over 5'\n",
    "    else:\n",
    "        return '5 or under'\n",
    "\n",
    "print(check_string_length(5))"
   ]
  },
  {
   "cell_type": "code",
   "execution_count": 19,
   "metadata": {},
   "outputs": [
    {
     "ename": "TypeError",
     "evalue": "Both variables must be numeric",
     "output_type": "error",
     "traceback": [
      "\u001b[0;31m---------------------------------------------------------------------------\u001b[0m",
      "\u001b[0;31mTypeError\u001b[0m                                 Traceback (most recent call last)",
      "Cell \u001b[0;32mIn[19], line 15\u001b[0m\n\u001b[1;32m     12\u001b[0m     \u001b[38;5;28;01melse\u001b[39;00m:\n\u001b[1;32m     13\u001b[0m         \u001b[38;5;28;01mreturn\u001b[39;00m \u001b[38;5;124m\"\u001b[39m\u001b[38;5;124m10 or under\u001b[39m\u001b[38;5;124m\"\u001b[39m\n\u001b[0;32m---> 15\u001b[0m \u001b[43msum_and_check\u001b[49m\u001b[43m(\u001b[49m\u001b[38;5;241;43m5\u001b[39;49m\u001b[43m,\u001b[49m\u001b[38;5;124;43m\"\u001b[39;49m\u001b[38;5;124;43mbanana\u001b[39;49m\u001b[38;5;124;43m\"\u001b[39;49m\u001b[43m)\u001b[49m\n",
      "Cell \u001b[0;32mIn[19], line 4\u001b[0m, in \u001b[0;36msum_and_check\u001b[0;34m(a, b)\u001b[0m\n\u001b[1;32m      1\u001b[0m \u001b[38;5;28;01mdef\u001b[39;00m \u001b[38;5;21msum_and_check\u001b[39m(a, b):\n\u001b[1;32m      2\u001b[0m     \u001b[38;5;66;03m# Check if both variables are numeric\u001b[39;00m\n\u001b[1;32m      3\u001b[0m     \u001b[38;5;28;01mif\u001b[39;00m (\u001b[38;5;28mtype\u001b[39m(a)\u001b[38;5;241m!=\u001b[39m\u001b[38;5;28mfloat\u001b[39m \u001b[38;5;129;01mand\u001b[39;00m \u001b[38;5;28mtype\u001b[39m(a)\u001b[38;5;241m!=\u001b[39m\u001b[38;5;28mint\u001b[39m) \u001b[38;5;129;01mor\u001b[39;00m (\u001b[38;5;28mtype\u001b[39m(b)\u001b[38;5;241m!=\u001b[39m\u001b[38;5;28mfloat\u001b[39m \u001b[38;5;129;01mand\u001b[39;00m \u001b[38;5;28mtype\u001b[39m(b)\u001b[38;5;241m!=\u001b[39m\u001b[38;5;28mint\u001b[39m):\n\u001b[0;32m----> 4\u001b[0m         \u001b[38;5;28;01mraise\u001b[39;00m \u001b[38;5;167;01mTypeError\u001b[39;00m(\u001b[38;5;124m\"\u001b[39m\u001b[38;5;124mBoth variables must be numeric\u001b[39m\u001b[38;5;124m\"\u001b[39m)\n\u001b[1;32m      6\u001b[0m     \u001b[38;5;66;03m# Sum the variables\u001b[39;00m\n\u001b[1;32m      7\u001b[0m     total \u001b[38;5;241m=\u001b[39m a \u001b[38;5;241m+\u001b[39m b\n",
      "\u001b[0;31mTypeError\u001b[0m: Both variables must be numeric"
     ]
    }
   ],
   "source": [
    "def sum_and_check(a, b):\n",
    "    # Check if both variables are numeric\n",
    "    if (type(a)!=float and type(a)!=int) or (type(b)!=float and type(b)!=int):\n",
    "        raise TypeError(\"Both variables must be numeric.\")\n",
    "\n",
    "    # Sum the variables\n",
    "    total = a + b\n",
    "\n",
    "    # Check the sum and return the appropriate result\n",
    "    if total > 10:\n",
    "        return \"over 10\"\n",
    "    else:\n",
    "        return \"10 or under\"\n",
    "\n",
    "sum_and_check(5,\"banana\")"
   ]
  },
  {
   "cell_type": "code",
   "execution_count": 22,
   "metadata": {},
   "outputs": [
    {
     "name": "stdout",
     "output_type": "stream",
     "text": [
      "15\n",
      "[1.0, 1.4142135623730951, 1.7320508075688772, 2.0, 2.23606797749979, 2.449489742783178, 2.6457513110645907, 2.8284271247461903, 3.0, 3.1622776601683795]\n"
     ]
    }
   ],
   "source": [
    "# Lambda function to add two numbers\n",
    "add_numbers = lambda x, y: x + y \n",
    "\n",
    "print(add_numbers(5,10))\n",
    "# List comprehension to find the square root of numbers from 1 to 10 using **\n",
    "square_roots = [x ** 0.5 for x in range(1, 11)]\n",
    "\n",
    "print(square_roots)"
   ]
  }
 ],
 "metadata": {
  "kernelspec": {
   "display_name": "Python 3",
   "language": "python",
   "name": "python3"
  },
  "language_info": {
   "codemirror_mode": {
    "name": "ipython",
    "version": 3
   },
   "file_extension": ".py",
   "mimetype": "text/x-python",
   "name": "python",
   "nbconvert_exporter": "python",
   "pygments_lexer": "ipython3",
   "version": "3.10.8"
  }
 },
 "nbformat": 4,
 "nbformat_minor": 2
}

{
 "cells": [
  {
   "cell_type": "code",
   "execution_count": 2,
   "metadata": {},
   "outputs": [
    {
     "name": "stdout",
     "output_type": "stream",
     "text": [
      "25\n"
     ]
    }
   ],
   "source": [
    "def product_function(num1, num2):\n",
    "    product = num1 * num2\n",
    "    return product\n",
    "\n",
    "print(product_function(5,5))"
   ]
  },
  {
   "cell_type": "code",
   "execution_count": 2,
   "metadata": {},
   "outputs": [
    {
     "name": "stdout",
     "output_type": "stream",
     "text": [
      "Multiplication result: 20\n",
      "Division result: 5.0\n"
     ]
    }
   ],
   "source": [
    "#Nested functions\n",
    "#Multiply function\n",
    "def multiply(a, b):\n",
    "    return a * b\n",
    "#divide function    \n",
    "def divide(a, b):\n",
    "    if b == 0:\n",
    "        return \"Cannot divide by zero\"\n",
    "    else:\n",
    "        return a / b\n",
    "#Nest above two functions into one\n",
    "def mult_div(x, y):\n",
    "    \"\"\"\n",
    "    Multiplies and divides two integers.\n",
    "    \n",
    "    Parameters:\n",
    "    - x: int, the first integer\n",
    "    - y: int, the second integer\n",
    "    \n",
    "    Returns:\n",
    "    tuple, (result_multiply, result_divide)\n",
    "    \"\"\"\n",
    " \n",
    "    \n",
    "    result_multiply = multiply(x, y)\n",
    "    result_divide = divide(x, y)\n",
    "    \n",
    "    return result_multiply, result_divide\n",
    "\n",
    "# Example usage\n",
    "x = 10\n",
    "y = 2\n",
    "results = mult_div(x, y)\n",
    "\n",
    "print(f\"Multiplication result: {results[0]}\")\n",
    "print(f\"Division result: {results[1]}\")\n"
   ]
  },
  {
   "cell_type": "code",
   "execution_count": 4,
   "metadata": {},
   "outputs": [
    {
     "ename": "ValueError",
     "evalue": "Expected 'apple', but got 999",
     "output_type": "error",
     "traceback": [
      "\u001b[0;31m---------------------------------------------------------------------------\u001b[0m",
      "\u001b[0;31mValueError\u001b[0m                                Traceback (most recent call last)",
      "Cell \u001b[0;32mIn[4], line 9\u001b[0m\n\u001b[1;32m      6\u001b[0m         \u001b[38;5;28;01mraise\u001b[39;00m \u001b[38;5;167;01mValueError\u001b[39;00m(\u001b[38;5;124m\"\u001b[39m\u001b[38;5;124mExpected \u001b[39m\u001b[38;5;124m'\u001b[39m\u001b[38;5;124mapple\u001b[39m\u001b[38;5;124m'\u001b[39m\u001b[38;5;124m, but got \u001b[39m\u001b[38;5;132;01m{}\u001b[39;00m\u001b[38;5;124m\"\u001b[39m\u001b[38;5;241m.\u001b[39mformat(thing))\n\u001b[1;32m      8\u001b[0m \u001b[38;5;66;03m#Call function\u001b[39;00m\n\u001b[0;32m----> 9\u001b[0m \u001b[43mapple_or_error\u001b[49m\u001b[43m(\u001b[49m\u001b[38;5;241;43m999\u001b[39;49m\u001b[43m)\u001b[49m\n",
      "Cell \u001b[0;32mIn[4], line 6\u001b[0m, in \u001b[0;36mapple_or_error\u001b[0;34m(thing)\u001b[0m\n\u001b[1;32m      4\u001b[0m     \u001b[38;5;28mprint\u001b[39m(\u001b[38;5;124m\"\u001b[39m\u001b[38;5;124mIt\u001b[39m\u001b[38;5;124m'\u001b[39m\u001b[38;5;124ms an apple\u001b[39m\u001b[38;5;124m\"\u001b[39m)\n\u001b[1;32m      5\u001b[0m \u001b[38;5;28;01melse\u001b[39;00m:\n\u001b[0;32m----> 6\u001b[0m     \u001b[38;5;28;01mraise\u001b[39;00m \u001b[38;5;167;01mValueError\u001b[39;00m(\u001b[38;5;124m\"\u001b[39m\u001b[38;5;124mExpected \u001b[39m\u001b[38;5;124m'\u001b[39m\u001b[38;5;124mapple\u001b[39m\u001b[38;5;124m'\u001b[39m\u001b[38;5;124m, but got \u001b[39m\u001b[38;5;132;01m{}\u001b[39;00m\u001b[38;5;124m\"\u001b[39m\u001b[38;5;241m.\u001b[39mformat(thing))\n",
      "\u001b[0;31mValueError\u001b[0m: Expected 'apple', but got 999"
     ]
    }
   ],
   "source": [
    "#Example of value error\n",
    "def apple_or_error(thing):\n",
    "    if thing == 'apple':\n",
    "        print(\"It's an apple\")\n",
    "    else:\n",
    "        raise ValueError(\"Expected 'apple', but got {}\".format(thing))\n",
    "\n",
    "#Call function\n",
    "apple_or_error(999)"
   ]
  },
  {
   "cell_type": "code",
   "execution_count": 5,
   "metadata": {},
   "outputs": [
    {
     "name": "stdout",
     "output_type": "stream",
     "text": [
      "5 2.0\n"
     ]
    }
   ],
   "source": [
    "def minus_div(x, y):\n",
    "    '''\n",
    "    Perform subtraction and division on two numbers.\n",
    "\n",
    "    Parameters:\n",
    "    - x (float or int): The first number.\n",
    "    - y (float or int): The second number. \n",
    "\n",
    "    Returns:\n",
    "    - minus (float or int): x minus y\n",
    "    - divide (float or int): x divided by y\n",
    "\n",
    "    '''\n",
    "    minus = x - y\n",
    "    divide = x / y\n",
    "    return minus, divide\n",
    "\n",
    "minus_10_5, divide_10_5 = minus_div(10,5)\n",
    "print(minus_10_5, divide_10_5)"
   ]
  }
 ],
 "metadata": {
  "kernelspec": {
   "display_name": "Python 3",
   "language": "python",
   "name": "python3"
  },
  "language_info": {
   "codemirror_mode": {
    "name": "ipython",
    "version": 3
   },
   "file_extension": ".py",
   "mimetype": "text/x-python",
   "name": "python",
   "nbconvert_exporter": "python",
   "pygments_lexer": "ipython3",
   "version": "3.10.8"
  }
 },
 "nbformat": 4,
 "nbformat_minor": 2
}

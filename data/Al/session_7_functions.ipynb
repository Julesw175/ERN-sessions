{
 "cells": [
  {
   "cell_type": "code",
   "execution_count": 2,
   "metadata": {},
   "outputs": [
    {
     "name": "stdout",
     "output_type": "stream",
     "text": [
      "25\n"
     ]
    }
   ],
   "source": [
    "def product_function(num1, num2):\n",
    "    product = num1 * num2\n",
    "    return product\n",
    "\n",
    "print(product_function(5,5))"
   ]
  },
  {
   "cell_type": "code",
   "execution_count": 5,
   "metadata": {},
   "outputs": [
    {
     "name": "stdout",
     "output_type": "stream",
     "text": [
      "5 2.0\n"
     ]
    }
   ],
   "source": [
    "def minus_div(x, y):\n",
    "    '''\n",
    "    Perform subtraction and division on two numbers.\n",
    "\n",
    "    Parameters:\n",
    "    - x (float or int): The first number.\n",
    "    - y (float or int): The second number. \n",
    "\n",
    "    Returns:\n",
    "    - minus (float or int): x minus y\n",
    "    - divide (float or int): x divided by y\n",
    "\n",
    "    '''\n",
    "    minus = x - y\n",
    "    divide = x / y\n",
    "    return minus, divide\n",
    "\n",
    "minus_10_5, divide_10_5 = minus_div(10,5)\n",
    "print(minus_10_5, divide_10_5)"
   ]
  }
 ],
 "metadata": {
  "kernelspec": {
   "display_name": "Python 3",
   "language": "python",
   "name": "python3"
  },
  "language_info": {
   "codemirror_mode": {
    "name": "ipython",
    "version": 3
   },
   "file_extension": ".py",
   "mimetype": "text/x-python",
   "name": "python",
   "nbconvert_exporter": "python",
   "pygments_lexer": "ipython3",
   "version": "3.10.8"
  }
 },
 "nbformat": 4,
 "nbformat_minor": 2
}

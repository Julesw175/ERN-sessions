{
 "cells": [
  {
   "cell_type": "code",
   "execution_count": 1,
   "metadata": {},
   "outputs": [
    {
     "data": {
      "text/html": [
       "<div>\n",
       "<style scoped>\n",
       "    .dataframe tbody tr th:only-of-type {\n",
       "        vertical-align: middle;\n",
       "    }\n",
       "\n",
       "    .dataframe tbody tr th {\n",
       "        vertical-align: top;\n",
       "    }\n",
       "\n",
       "    .dataframe thead th {\n",
       "        text-align: right;\n",
       "    }\n",
       "</style>\n",
       "<table border=\"1\" class=\"dataframe\">\n",
       "  <thead>\n",
       "    <tr style=\"text-align: right;\">\n",
       "      <th></th>\n",
       "      <th>Restaurant</th>\n",
       "      <th>Starter</th>\n",
       "      <th>Main</th>\n",
       "      <th>Dessert</th>\n",
       "    </tr>\n",
       "  </thead>\n",
       "  <tbody>\n",
       "    <tr>\n",
       "      <th>0</th>\n",
       "      <td>Will's Cafe</td>\n",
       "      <td>Soup</td>\n",
       "      <td>Beef</td>\n",
       "      <td>Ice Cream</td>\n",
       "    </tr>\n",
       "    <tr>\n",
       "      <th>1</th>\n",
       "      <td>Al's Cafe</td>\n",
       "      <td>Prawn Cocktail</td>\n",
       "      <td>Pork</td>\n",
       "      <td>Jelly</td>\n",
       "    </tr>\n",
       "    <tr>\n",
       "      <th>2</th>\n",
       "      <td>Ann's Cafe</td>\n",
       "      <td>Black Pudding</td>\n",
       "      <td>Pasta</td>\n",
       "      <td>Eton Mess</td>\n",
       "    </tr>\n",
       "  </tbody>\n",
       "</table>\n",
       "</div>"
      ],
      "text/plain": [
       "    Restaurant         Starter   Main    Dessert\n",
       "0  Will's Cafe            Soup   Beef  Ice Cream\n",
       "1    Al's Cafe  Prawn Cocktail   Pork      Jelly\n",
       "2   Ann's Cafe   Black Pudding  Pasta  Eton Mess"
      ]
     },
     "execution_count": 1,
     "metadata": {},
     "output_type": "execute_result"
    }
   ],
   "source": [
    "# Step 1 - Import Pandas to create DataFrame \n",
    "import pandas as pd\n",
    "\n",
    "# Step 3 - Create the pandas DataFrame using list of dictionaries\n",
    "df = pd.DataFrame([{\"Restaurant\":\"Will's Cafe\",\"Starter\":\"Soup\",\"Main\":\"Beef\",\"Dessert\":\"Ice Cream\"},\n",
    "                   {\"Restaurant\":\"Al's Cafe\",\"Starter\":\"Prawn Cocktail\",\"Main\":\"Pork\",\"Dessert\":\"Jelly\"},\n",
    "                    {\"Restaurant\":\"Ann's Cafe\",\"Starter\":\"Black Pudding\",\"Main\":\"Pasta\",\"Dessert\":\"Eton Mess\"}])\n",
    "df "
   ]
  }
 ],
 "metadata": {
  "kernelspec": {
   "display_name": "Python 3",
   "language": "python",
   "name": "python3"
  },
  "language_info": {
   "codemirror_mode": {
    "name": "ipython",
    "version": 3
   },
   "file_extension": ".py",
   "mimetype": "text/x-python",
   "name": "python",
   "nbconvert_exporter": "python",
   "pygments_lexer": "ipython3",
   "version": "3.10.8"
  }
 },
 "nbformat": 4,
 "nbformat_minor": 2
}

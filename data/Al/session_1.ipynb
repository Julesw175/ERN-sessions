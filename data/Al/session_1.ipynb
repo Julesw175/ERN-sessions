{
 "cells": [
  {
   "cell_type": "code",
   "execution_count": 1,
   "metadata": {},
   "outputs": [
    {
     "name": "stdout",
     "output_type": "stream",
     "text": [
      "Hello world\n"
     ]
    }
   ],
   "source": [
    "phrase = \"Hello world\" # comment - string\n",
    "print(phrase)"
   ]
  },
  {
   "cell_type": "code",
   "execution_count": 9,
   "metadata": {},
   "outputs": [
    {
     "name": "stdout",
     "output_type": "stream",
     "text": [
      "15\n",
      "2.0\n",
      "<class 'float'>\n"
     ]
    }
   ],
   "source": [
    "x = 5 # integer\n",
    "y = 10\n",
    "z = x + y\n",
    "print(z)\n",
    "z = y/x\n",
    "print(z)\n",
    "print(type(z))"
   ]
  },
  {
   "cell_type": "code",
   "execution_count": 1,
   "metadata": {},
   "outputs": [
    {
     "name": "stdout",
     "output_type": "stream",
     "text": [
      "My name is Alasdair , and my job is SQL Developer Report Writer\n"
     ]
    }
   ],
   "source": [
    "name = \"Alasdair\"\n",
    "job = \"SQL Developer Report Writer\"\n",
    "phrase = f\"My name is {name} , and my job is {job}\"\n",
    "print(phrase)\n"
   ]
  },
  {
   "cell_type": "code",
   "execution_count": 12,
   "metadata": {},
   "outputs": [
    {
     "name": "stdout",
     "output_type": "stream",
     "text": [
      "57\n",
      "\n"
     ]
    }
   ],
   "source": [
    "name = \"Al\"\n",
    "job = \"SQL Developer Report Writer\"\n",
    "phrase = f\"My name is {name} , and my job is {job}\"\n",
    "print(len(phrase))\n",
    "string_slice = phrase[8:5]\n",
    "print(string_slice)"
   ]
  },
  {
   "cell_type": "code",
   "execution_count": 17,
   "metadata": {},
   "outputs": [
    {
     "name": "stdout",
     "output_type": "stream",
     "text": [
      "21\n",
      "12.56\n",
      "The area of a circle of radius2 is 12.56\n"
     ]
    }
   ],
   "source": [
    "# Initialise 2 numerics and find product\n",
    "x = 3\n",
    "y = 7\n",
    "z = x * y\n",
    "print(z)\n",
    "\n",
    "#Area of circle of radius 2\n",
    "r = 2\n",
    "pi = 3.14\n",
    "r_sq = r**2\n",
    "print(r_sq*pi)\n",
    "x=5\n",
    "y=10\n",
    "print(\"The area of a circle of radius\" + str(r) + \" is \" + str(r_sq*pi))"
   ]
  },
  {
   "cell_type": "code",
   "execution_count": 27,
   "metadata": {},
   "outputs": [
    {
     "name": "stdout",
     "output_type": "stream",
     "text": [
      "[1, 2, 3, 4, 5, 10]\n"
     ]
    }
   ],
   "source": [
    "x=5\n",
    "y=10\n",
    "list_1 = [1,2,3,4,x,y]\n",
    "print(list_1)"
   ]
  },
  {
   "cell_type": "code",
   "execution_count": 34,
   "metadata": {},
   "outputs": [
    {
     "name": "stdout",
     "output_type": "stream",
     "text": [
      "['red', 'blue', 'green']\n",
      "['red', 'blue', 'green', 'salmon']\n"
     ]
    }
   ],
   "source": [
    "colours_list=[\"red\",\"blue\",\"green\"]\n",
    "fave_col = \"salmon\"\n",
    "print(colours_list)\n",
    "colours_list.append(fave_col)\n",
    "print(colours_list)\n"
   ]
  },
  {
   "cell_type": "code",
   "execution_count": 22,
   "metadata": {},
   "outputs": [
    {
     "name": "stdout",
     "output_type": "stream",
     "text": [
      "dog\n",
      "cat\n",
      "racoon\n"
     ]
    }
   ],
   "source": [
    "slice_this_phrase = \"dog cat racoon\"\n",
    "\n",
    "print(slice_this_phrase[:3])\n",
    "print(slice_this_phrase[4:7])\n",
    "print(slice_this_phrase[-6:])"
   ]
  },
  {
   "cell_type": "code",
   "execution_count": 5,
   "metadata": {},
   "outputs": [
    {
     "name": "stdout",
     "output_type": "stream",
     "text": [
      "['rice', 'apple', 'crisps']\n",
      "['rice', 'apple', 'crisps', 'jelly']\n"
     ]
    }
   ],
   "source": [
    "foods = ['rice','apple','crisps']\n",
    "print(foods)\n",
    "foods.append('jelly')\n",
    "print(foods)"
   ]
  },
  {
   "cell_type": "code",
   "execution_count": 15,
   "metadata": {},
   "outputs": [
    {
     "name": "stdout",
     "output_type": "stream",
     "text": [
      "['rice', 'apple', 'crisps']\n",
      "['rice', 'apple', 'crisps', 'jelly', 'white pudding']\n",
      "['apple', 'crisps', 'jelly', 'white pudding']\n"
     ]
    }
   ],
   "source": [
    "#Using extend and remove to add/remove multiple values to an array/list\n",
    "foods = ['rice','apple','crisps']\n",
    "more_foods=['jelly','white pudding']\n",
    "print(foods)\n",
    "foods.extend(more_foods)\n",
    "print(foods)\n",
    "foods.remove('apple')\n",
    "print(foods)"
   ]
  },
  {
   "cell_type": "code",
   "execution_count": 19,
   "metadata": {},
   "outputs": [
    {
     "name": "stdout",
     "output_type": "stream",
     "text": [
      "[1, 3, 9, 22, 76]\n",
      "[76, 22, 9, 3, 1]\n",
      "[1, 3, 9, 22, 76]\n"
     ]
    }
   ],
   "source": [
    "numbers_list = [1, 9, 76, 22, 3]\n",
    "numbers_list.sort()\n",
    "print(numbers_list)\n",
    "numbers_list.sort(reverse=True)\n",
    "print(numbers_list)\n",
    "numbers_list = [1, 9, 76, 22, 3]\n",
    "sorted_numbers_list=sorted(numbers_list,reverse=)\n",
    "print(sorted_numbers_list)"
   ]
  },
  {
   "cell_type": "code",
   "execution_count": 21,
   "metadata": {},
   "outputs": [
    {
     "name": "stdout",
     "output_type": "stream",
     "text": [
      "['rice', 'apple', 'crisps']\n",
      "['apple', 'crisps', 'rice']\n",
      "['rice', 'crisps', 'apple']\n"
     ]
    }
   ],
   "source": [
    "#Using extend and remove to add/remove multiple values to an array/list\n",
    "foods = ['rice','apple','crisps']\n",
    "foods_sorted_asc = sorted(foods)\n",
    "foods_sorted_desc = sorted(foods, reverse=True)\n",
    "print(foods)\n",
    "print(foods_sorted_asc)\n",
    "print(foods_sorted_desc)"
   ]
  },
  {
   "cell_type": "code",
   "execution_count": 32,
   "metadata": {},
   "outputs": [
    {
     "name": "stdout",
     "output_type": "stream",
     "text": [
      "{'eleven': 'carvery', 'Fusion': 'thai', 'Crown': ['pub grub', 'indian']}\n",
      "['pub grub', 'indian']\n",
      "dict_keys(['eleven', 'Fusion', 'Crown'])\n",
      "dict_values(['carvery', 'thai', ['pub grub', 'indian']])\n",
      "{'eleven': 'carvery', 'Fusion': 'Asian Fusion', 'Crown': ['pub grub', 'indian'], 'Thai Cafe': 'Thai Fusion'}\n",
      "False\n"
     ]
    }
   ],
   "source": [
    "#Create a dictionary of restaurants, at least one should have a value made of a list\n",
    "restaurants = {'eleven':'carvery',\n",
    "               'Fusion':'thai',\n",
    "               'Crown':['pub grub','indian']} #Crown serves 2 types of cuisine\n",
    "print(restaurants)\n",
    "print(restaurants['Crown'])\n",
    "print(restaurants.keys())\n",
    "print(restaurants.values())\n",
    "restaurants['Thai Cafe']='Thai Fusion'\n",
    "restaurants['Fusion']='Asian Fusion'\n",
    "print(restaurants)\n",
    "print('Island Star' in restaurants)"
   ]
  },
  {
   "cell_type": "code",
   "execution_count": 44,
   "metadata": {},
   "outputs": [
    {
     "name": "stdout",
     "output_type": "stream",
     "text": [
      "My name is Al and my job is SQL Dev\n",
      "My name is Mike and my job is Manager\n"
     ]
    }
   ],
   "source": [
    "jobs = {'Al':'SQL Dev',\n",
    "        'Mike':'Manager'}\n",
    "\n",
    "for key, val in jobs.items():\n",
    "    print(f\"My name is {key} and my job is {val}\")\n",
    "\n",
    "\n"
   ]
  }
 ],
 "metadata": {
  "kernelspec": {
   "display_name": "Python 3",
   "language": "python",
   "name": "python3"
  },
  "language_info": {
   "codemirror_mode": {
    "name": "ipython",
    "version": 3
   },
   "file_extension": ".py",
   "mimetype": "text/x-python",
   "name": "python",
   "nbconvert_exporter": "python",
   "pygments_lexer": "ipython3",
   "version": "3.10.8"
  }
 },
 "nbformat": 4,
 "nbformat_minor": 2
}

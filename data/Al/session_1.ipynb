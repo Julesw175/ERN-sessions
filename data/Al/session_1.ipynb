{
 "cells": [
  {
   "cell_type": "code",
   "execution_count": 1,
   "metadata": {},
   "outputs": [
    {
     "name": "stdout",
     "output_type": "stream",
     "text": [
      "Hello world\n"
     ]
    }
   ],
   "source": [
    "phrase = \"Hello world\" # comment - string\n",
    "print(phrase)"
   ]
  },
  {
   "cell_type": "code",
   "execution_count": 9,
   "metadata": {},
   "outputs": [
    {
     "name": "stdout",
     "output_type": "stream",
     "text": [
      "15\n",
      "2.0\n",
      "<class 'float'>\n"
     ]
    }
   ],
   "source": [
    "x = 5 # integer\n",
    "y = 10\n",
    "z = x + y\n",
    "print(z)\n",
    "z = y/x\n",
    "print(z)\n",
    "print(type(z))"
   ]
  },
  {
   "cell_type": "code",
   "execution_count": 4,
   "metadata": {},
   "outputs": [
    {
     "name": "stdout",
     "output_type": "stream",
     "text": [
      "My name is Al , and my job is SQL Developer Report Writer\n"
     ]
    }
   ],
   "source": [
    "name = \"Al\"\n",
    "job = \"SQL Developer Report Writer\"\n",
    "phrase = f\"My name is {name} , and my job is {job}\"\n",
    "print(phrase)\n"
   ]
  },
  {
   "cell_type": "code",
   "execution_count": 12,
   "metadata": {},
   "outputs": [
    {
     "name": "stdout",
     "output_type": "stream",
     "text": [
      "57\n",
      "\n"
     ]
    }
   ],
   "source": [
    "name = \"Al\"\n",
    "job = \"SQL Developer Report Writer\"\n",
    "phrase = f\"My name is {name} , and my job is {job}\"\n",
    "print(len(phrase))\n",
    "string_slice = phrase[8:5]\n",
    "print(string_slice)"
   ]
  },
  {
   "cell_type": "code",
   "execution_count": 17,
   "metadata": {},
   "outputs": [
    {
     "name": "stdout",
     "output_type": "stream",
     "text": [
      "21\n",
      "12.56\n",
      "The area of a circle of radius2 is 12.56\n"
     ]
    }
   ],
   "source": [
    "# Initialise 2 numerics and find product\n",
    "x = 3\n",
    "y = 7\n",
    "z = x * y\n",
    "print(z)\n",
    "\n",
    "#Area of circle of radius 2\n",
    "r = 2\n",
    "pi = 3.14\n",
    "r_sq = r**2\n",
    "print(r_sq*pi)\n",
    "x=5\n",
    "y=10\n",
    "print(\"The area of a circle of radius\" + str(r) + \" is \" + str(r_sq*pi))"
   ]
  },
  {
   "cell_type": "code",
   "execution_count": 27,
   "metadata": {},
   "outputs": [
    {
     "name": "stdout",
     "output_type": "stream",
     "text": [
      "[1, 2, 3, 4, 5, 10]\n"
     ]
    }
   ],
   "source": [
    "x=5\n",
    "y=10\n",
    "list_1 = [1,2,3,4,x,y]\n",
    "print(list_1)"
   ]
  },
  {
   "cell_type": "code",
   "execution_count": 34,
   "metadata": {},
   "outputs": [
    {
     "name": "stdout",
     "output_type": "stream",
     "text": [
      "['red', 'blue', 'green']\n",
      "['red', 'blue', 'green', 'salmon']\n"
     ]
    }
   ],
   "source": [
    "colours_list=[\"red\",\"blue\",\"green\"]\n",
    "fave_col = \"salmon\"\n",
    "print(colours_list)\n",
    "colours_list.append(fave_col)\n",
    "print(colours_list)\n"
   ]
  },
  {
   "cell_type": "code",
   "execution_count": 22,
   "metadata": {},
   "outputs": [
    {
     "name": "stdout",
     "output_type": "stream",
     "text": [
      "dog\n",
      "cat\n",
      "racoon\n"
     ]
    }
   ],
   "source": [
    "slice_this_phrase = \"dog cat racoon\"\n",
    "\n",
    "print(slice_this_phrase[:3])\n",
    "print(slice_this_phrase[4:7])\n",
    "print(slice_this_phrase[-6:])"
   ]
  }
 ],
 "metadata": {
  "kernelspec": {
   "display_name": "Python 3",
   "language": "python",
   "name": "python3"
  },
  "language_info": {
   "codemirror_mode": {
    "name": "ipython",
    "version": 3
   },
   "file_extension": ".py",
   "mimetype": "text/x-python",
   "name": "python",
   "nbconvert_exporter": "python",
   "pygments_lexer": "ipython3",
   "version": "3.10.8"
  }
 },
 "nbformat": 4,
 "nbformat_minor": 2
}

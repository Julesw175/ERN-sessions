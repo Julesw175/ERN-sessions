{
 "cells": [
  {
   "cell_type": "code",
   "execution_count": 2,
   "metadata": {},
   "outputs": [
    {
     "name": "stdout",
     "output_type": "stream",
     "text": [
      "1\n",
      "2\n",
      "3\n",
      "4\n",
      "5\n",
      "Beans\n",
      "Bread\n",
      "Apples\n",
      "Pears\n",
      "Bananas\n"
     ]
    }
   ],
   "source": [
    "nos = [1, 2, 3, 4, 5]\n",
    "\n",
    "for no in nos:\n",
    "    print(no)\n",
    "\n",
    "foods = [\"Beans\", \"Bread\", \"Apples\", \"Pears\", \"Bananas\"]\n",
    "\n",
    "for food in foods:\n",
    "    print(food)\n"
   ]
  },
  {
   "cell_type": "code",
   "execution_count": 4,
   "metadata": {},
   "outputs": [
    {
     "name": "stdout",
     "output_type": "stream",
     "text": [
      "Homer is the Dad\n",
      "Marge is the Mum\n",
      "Lisa is the Daughter\n"
     ]
    }
   ],
   "source": [
    "simpsons = {\"Dad\":\"Homer\",\n",
    "            \"Mum\":\"Marge\",\n",
    "            \"Daughter\":\"Lisa\"}\n",
    "\n",
    "for role, name in simpsons.items():\n",
    "    print(f\"{name} is the {role}\")\n"
   ]
  },
  {
   "cell_type": "code",
   "execution_count": 14,
   "metadata": {},
   "outputs": [
    {
     "data": {
      "text/html": [
       "<div>\n",
       "<style scoped>\n",
       "    .dataframe tbody tr th:only-of-type {\n",
       "        vertical-align: middle;\n",
       "    }\n",
       "\n",
       "    .dataframe tbody tr th {\n",
       "        vertical-align: top;\n",
       "    }\n",
       "\n",
       "    .dataframe thead th {\n",
       "        text-align: right;\n",
       "    }\n",
       "</style>\n",
       "<table border=\"1\" class=\"dataframe\">\n",
       "  <thead>\n",
       "    <tr style=\"text-align: right;\">\n",
       "      <th></th>\n",
       "      <th>Name</th>\n",
       "      <th>Job</th>\n",
       "      <th>originator</th>\n",
       "    </tr>\n",
       "  </thead>\n",
       "  <tbody>\n",
       "    <tr>\n",
       "      <th>0</th>\n",
       "      <td>Bill</td>\n",
       "      <td>Reader</td>\n",
       "      <td>Company 1</td>\n",
       "    </tr>\n",
       "    <tr>\n",
       "      <th>1</th>\n",
       "      <td>Ben</td>\n",
       "      <td>Writer</td>\n",
       "      <td>Company 1</td>\n",
       "    </tr>\n",
       "    <tr>\n",
       "      <th>2</th>\n",
       "      <td>Baz</td>\n",
       "      <td>Cleaner</td>\n",
       "      <td>Company 1</td>\n",
       "    </tr>\n",
       "  </tbody>\n",
       "</table>\n",
       "</div>"
      ],
      "text/plain": [
       "   Name      Job originator\n",
       "0  Bill   Reader  Company 1\n",
       "1   Ben   Writer  Company 1\n",
       "2   Baz  Cleaner  Company 1"
      ]
     },
     "execution_count": 14,
     "metadata": {},
     "output_type": "execute_result"
    }
   ],
   "source": [
    "import pandas as pd\n",
    "df_company1=pd.DataFrame({\"Name\":[\"Bill\",\"Ben\",\"Baz\"],\n",
    "                  \"Job\":[\"Reader\",\"Writer\",\"Cleaner\"]})\n",
    "df_company2=pd.DataFrame({\"Name\":[\"Stan\",\"Michelle\",\"Lisa\"],\n",
    "                  \"Job\":[\"Driver\",\"Doctor\",\"Manager\"]})\n",
    "df_companies_dict={\"Company 1\":df_company1,\n",
    "         \"Company 2\":df_company2}\n",
    "for k, v in df_companies_dict.items():\n",
    "    v[\"originator\"]=k\n",
    "df_companies_dict[\"Company 1\"]"
   ]
  },
  {
   "cell_type": "code",
   "execution_count": 21,
   "metadata": {},
   "outputs": [
    {
     "name": "stdout",
     "output_type": "stream",
     "text": [
      "   Name      Job  StaffID\n",
      "0  Bill   Reader      1.0\n",
      "1   Ben   Writer      2.0\n",
      "2   Baz  Cleaner      3.0\n",
      "3   Bob   Driver      NaN\n"
     ]
    }
   ],
   "source": [
    "df_jobs=pd.DataFrame({\"Name\":[\"Bill\",\"Ben\",\"Baz\",\"Bob\"],\n",
    "                  \"Job\":[\"Reader\",\"Writer\",\"Cleaner\",\"Driver\"]})\n",
    "df_staffids=pd.DataFrame({\"Name\":[\"Bill\",\"Ben\",\"Baz\"],\n",
    "                  \"StaffID\":[1,2,3]})\n",
    "\n",
    "\n",
    "df_staff = df_jobs.merge(df_staffids, how=\"left\", on=\"Name\")\n",
    "df_staff[\"StaffID\"]=df_staff[\"StaffID\"]\n",
    "\n",
    "print(df_staff)"
   ]
  },
  {
   "cell_type": "code",
   "execution_count": 18,
   "metadata": {},
   "outputs": [
    {
     "name": "stdout",
     "output_type": "stream",
     "text": [
      "   child_id  age gender\n",
      "0         1   12      M\n",
      "1         2    7      M\n",
      "2         3   14      F\n",
      "3         4    6      F\n"
     ]
    }
   ],
   "source": [
    "child_identifiers=pd.DataFrame({\"child_id\":[1, 2, 3, 4],\n",
    "            \"age\":[12, 7, 14, 6],\n",
    "            \"gender\":[\"M\",\"M\",\"F\",\"F\"]})\n",
    "print(child_identifiers)\n",
    "\n",
    "nhs_nums = pd.DataFrame({\"child_id\":[1, 2, 3, 4],\n",
    "            \"age\":[\"NHS_1\", \"NHS_2\", \"NHS_3\", \"NHS_4\"]})\n"
   ]
  }
 ],
 "metadata": {
  "kernelspec": {
   "display_name": "Python 3",
   "language": "python",
   "name": "python3"
  },
  "language_info": {
   "codemirror_mode": {
    "name": "ipython",
    "version": 3
   },
   "file_extension": ".py",
   "mimetype": "text/x-python",
   "name": "python",
   "nbconvert_exporter": "python",
   "pygments_lexer": "ipython3",
   "version": "3.10.8"
  }
 },
 "nbformat": 4,
 "nbformat_minor": 2
}

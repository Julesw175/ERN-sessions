{
 "cells": [
  {
   "cell_type": "code",
   "execution_count": 9,
   "metadata": {},
   "outputs": [
    {
     "name": "stdout",
     "output_type": "stream",
     "text": [
      "Filtered DataFrame Information:\n",
      "<class 'pandas.core.frame.DataFrame'>\n",
      "Index: 10 entries, 7 to 142\n",
      "Data columns (total 10 columns):\n",
      " #   Column            Non-Null Count  Dtype  \n",
      "---  ------            --------------  -----  \n",
      " 0   time_period       10 non-null     int64  \n",
      " 1   time_identifier   10 non-null     object \n",
      " 2   geographic_level  10 non-null     object \n",
      " 3   country_code      10 non-null     object \n",
      " 4   country_name      10 non-null     object \n",
      " 5   category          10 non-null     object \n",
      " 6   category_type     10 non-null     object \n",
      " 7   number            10 non-null     float64\n",
      " 8   rate              10 non-null     float64\n",
      " 9   percent           10 non-null     float64\n",
      "dtypes: float64(3), int64(1), object(6)\n",
      "memory usage: 880.0+ bytes\n",
      "None\n",
      "\n",
      "Sum of the 'number' column: 227460.0\n",
      "\n",
      "Mean of the 'percent' column: 5.77\n"
     ]
    }
   ],
   "source": [
    "import pandas as pd\n",
    "\n",
    "# URL of the CSV file\n",
    "url = \"https://raw.githubusercontent.com/WillLP-code/stlite-tests/main/benchmarking%20test/data/a1.csv\"\n",
    "\n",
    "# Read CSV into a DataFrame\n",
    "df = pd.read_csv(url)\n",
    "\n",
    "# Filter rows where 'number', 'rate', and 'percent' are not 'z', 'c', or 'x'\n",
    "filtered_df = df[~df['number'].isin(['z', 'c', 'x']) & ~df['rate'].isin(['z', 'c', 'x']) & ~df['percent'].isin(['z', 'c', 'x'])].copy()\n",
    "\n",
    "# Convert selected columns to float \n",
    "filtered_df[['number','rate','percent']] = filtered_df[['number','rate','percent']].astype('float')\n",
    "# Calculate the sum of the 'number' column\n",
    "sum_of_numbers = filtered_df['number'].sum()\n",
    "# Calculate the mean of the 'percent; column\n",
    "mean_of_percent = filtered_df['percent'].mean()\n",
    "\n",
    "# Print information about the filtered DataFrame and the sum of the 'number' column\n",
    "print(\"Filtered DataFrame Information:\")\n",
    "print(filtered_df.info())\n",
    "\n",
    "print(\"\\nSum of the 'number' column:\", sum_of_numbers)\n",
    "print(\"\\nMean of the 'percent' column:\", mean_of_percent)"
   ]
  },
  {
   "cell_type": "code",
   "execution_count": 14,
   "metadata": {},
   "outputs": [
    {
     "name": "stdout",
     "output_type": "stream",
     "text": [
      "Number: 40 - Result: less than or equal to 50\n",
      "Number: 81 - Result: greater than 50\n",
      "Number: 88 - Result: greater than 50\n",
      "Number: 87 - Result: greater than 50\n",
      "Number: 63 - Result: greater than 50\n",
      "Number: 27 - Result: less than or equal to 50\n",
      "Number: 56 - Result: greater than 50\n",
      "Number: 16 - Result: less than or equal to 50\n",
      "Number: 63 - Result: greater than 50\n",
      "Number: 22 - Result: less than or equal to 50\n"
     ]
    }
   ],
   "source": [
    "import random\n",
    "\n",
    "# Generate a list of 10 random numbers between 0 and 100\n",
    "numbers_list = [random.randint(0, 100) for i in range(10)]\n",
    "\n",
    "# Define a function to check if a number is over or under 50\n",
    "def check_over_50(number):\n",
    "    return 'greater than 50' if number > 50 else 'less than or equal to 50'\n",
    "\n",
    "# Iterate through the list and run the function for each element\n",
    "for number in numbers_list:\n",
    "    result = check_over_50(number)\n",
    "    print(f\"Number: {number} - Result: {result}\")\n"
   ]
  }
 ],
 "metadata": {
  "kernelspec": {
   "display_name": "Python 3",
   "language": "python",
   "name": "python3"
  },
  "language_info": {
   "codemirror_mode": {
    "name": "ipython",
    "version": 3
   },
   "file_extension": ".py",
   "mimetype": "text/x-python",
   "name": "python",
   "nbconvert_exporter": "python",
   "pygments_lexer": "ipython3",
   "version": "3.10.8"
  }
 },
 "nbformat": 4,
 "nbformat_minor": 2
}

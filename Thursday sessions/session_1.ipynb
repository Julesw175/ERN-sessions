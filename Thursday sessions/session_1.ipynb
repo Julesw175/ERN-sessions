{
 "cells": [
  {
   "cell_type": "code",
   "execution_count": 9,
   "metadata": {},
   "outputs": [
    {
     "name": "stdout",
     "output_type": "stream",
     "text": [
      "30\n"
     ]
    }
   ],
   "source": [
    "x = 10\n",
    "y = 20\n",
    "z = x + y\n",
    "print(z)\n",
    "\n"
   ]
  },
  {
   "cell_type": "code",
   "execution_count": 20,
   "metadata": {},
   "outputs": [
    {
     "name": "stdout",
     "output_type": "stream",
     "text": [
      "Will isn't young reallyWill isn't young\n"
     ]
    }
   ],
   "source": [
    "x = \"Will isn't young really\"\n",
    "y = \"Will isn't young\"\n",
    "z = 10.0\n",
    "\n",
    "print(x + y)"
   ]
  },
  {
   "cell_type": "code",
   "execution_count": 25,
   "metadata": {},
   "outputs": [
    {
     "name": "stdout",
     "output_type": "stream",
     "text": [
      "12\n",
      "12.56\n"
     ]
    }
   ],
   "source": [
    "# In this cell, initialise two numeric variables and find their product using the \n",
    "# * operator for multiplication and assign this to a new variable.\n",
    "# Print the new variable\n",
    "\n",
    "# The radius of a circle is 2, assume that Pi is 3.14. Assign both of these to suitably named variables and find the area of the circle.\n",
    "# We can find the area of a circle by finding the product of Pi with the radius squared.\n",
    "# You probably don't know how to square a number in Python yet, so use Google to work it out!#\n",
    "\n",
    "num_1 = 2\n",
    "num_2 = 6\n",
    "prod_num_1_2 = num_1 * num_2\n",
    "print(prod_num_1_2)\n",
    "\n",
    "radius = 2\n",
    "pi = 3.14\n",
    "\n",
    "radius_squared = radius ** 2\n",
    "circle_area = radius_squared * pi\n",
    "print(circle_area)"
   ]
  },
  {
   "cell_type": "code",
   "execution_count": 34,
   "metadata": {},
   "outputs": [
    {
     "name": "stdout",
     "output_type": "stream",
     "text": [
      "My name is Will, and I like Running.\n",
      "My name is Will, and I like Running.\n"
     ]
    }
   ],
   "source": [
    "name = \"Will\"\n",
    "hobby = \"Running\"\n",
    "\n",
    "name_hobby = \"My name is \" + name + \", and I like \" + hobby + \".\"\n",
    "print(name_hobby)\n",
    "\n",
    "phrase = f\"My name is {name}, and I like {hobby}.\"\n",
    "print(phrase)"
   ]
  },
  {
   "cell_type": "code",
   "execution_count": null,
   "metadata": {},
   "outputs": [],
   "source": [
    "# In this cell, initialise two appropriately named variables, one for your name and one for your job title.\n",
    "# Next, combine them in an f string, assigned to a different, appropriately named variable.\n",
    "# Finally, print the f string."
   ]
  },
  {
   "cell_type": "code",
   "execution_count": 35,
   "metadata": {},
   "outputs": [
    {
     "name": "stdout",
     "output_type": "stream",
     "text": [
      "My name is Will, and my job title is teacher.\n"
     ]
    }
   ],
   "source": [
    "name = \"Will\"\n",
    "job_title = \"teacher\"\n",
    "longer_phrase = f\"My name is {name}, and my job title is {job_title}.\"\n",
    "print(longer_phrase)"
   ]
  },
  {
   "cell_type": "code",
   "execution_count": 39,
   "metadata": {},
   "outputs": [
    {
     "name": "stdout",
     "output_type": "stream",
     "text": [
      "5\n",
      "11\n",
      "5\n"
     ]
    }
   ],
   "source": [
    "x = 5\n",
    "print(x)\n",
    "x = 6 + x\n",
    "print(x)\n",
    "x = 5\n",
    "print(x)"
   ]
  },
  {
   "cell_type": "code",
   "execution_count": 42,
   "metadata": {},
   "outputs": [
    {
     "name": "stdout",
     "output_type": "stream",
     "text": [
      "30\n",
      "-10\n",
      "200\n",
      "0.5\n",
      "100000000000000000000\n",
      "41.0\n",
      "0.41000000000000003\n"
     ]
    }
   ],
   "source": [
    "x = 10\n",
    "y = 20\n",
    "print(x + y) # plus\n",
    "print( x - y)# minus\n",
    "print(x * y) # times\n",
    "print(x / y) # divide \n",
    "print (x ** y)# power of\n",
    "\n",
    "measure = 123\n",
    "pop = 30000\n",
    "rate = measure / pop\n",
    "rp10k = rate * 10000\n",
    "print(rp10k)\n",
    "\n",
    "pct = rate * 100\n",
    "print(pct)\n",
    "\n"
   ]
  },
  {
   "cell_type": "code",
   "execution_count": 68,
   "metadata": {},
   "outputs": [
    {
     "name": "stdout",
     "output_type": "stream",
     "text": [
      "c://data/cin\n",
      "cin_dataset_202324.csv\n",
      "cin_dataset_202324\n",
      ".csv\n",
      "c/dt/i_aae_034cv\n",
      "vsc.423202_tesatad_nic/atad//:c\n",
      "dog\n",
      "cat\n",
      "racoon\n"
     ]
    }
   ],
   "source": [
    "my_string = \"c://data/cin_dataset_202324.csv\"\n",
    "# print(my_string)\n",
    "\n",
    "# In python counting starts at 0\n",
    "# in a range, the second number is not inclusive, it's EXCLUSIVE\n",
    "new_string = my_string[:12]\n",
    "print(new_string)\n",
    "\n",
    "filename = my_string[9:]\n",
    "print(filename)\n",
    "\n",
    "short_fn = filename[:-4]\n",
    "print(short_fn)\n",
    "\n",
    "filetype = my_string[-4:]\n",
    "print(filetype)\n",
    "\n",
    "# [start:stop:step]\n",
    "weird_string = my_string[::2]\n",
    "print(weird_string)\n",
    "\n",
    "reverse = my_string[-1::-1]\n",
    "print(reverse)\n",
    "\n",
    "slice_this_phrase = \"dog cat racoon\"\n",
    "\n",
    "# use string slices to isolate each sting as animal_1, animal_2, animal_3\n",
    "animal_1 = slice_this_phrase[:3]\n",
    "print(animal_1)\n",
    "\n",
    "animal_2 = slice_this_phrase[4:7]\n",
    "print(animal_2)\n",
    "\n",
    "animal_3 = slice_this_phrase[-6:]\n",
    "print(animal_3)\n"
   ]
  },
  {
   "cell_type": "code",
   "execution_count": 70,
   "metadata": {},
   "outputs": [
    {
     "name": "stdout",
     "output_type": "stream",
     "text": [
      "<class 'list'>\n",
      "[1, 2.0, 'three', ['purple', 'red']]\n"
     ]
    }
   ],
   "source": [
    "list_1 = []\n",
    "print(type(list_1))\n",
    "\n",
    "x = 1\n",
    "y = 2.0 \n",
    "z = \"three\"\n",
    "list_1 = [\"purple\", \"red\"]\n",
    "\n",
    "list_2 = [x, y, z, list_1]\n",
    "print(list_2)"
   ]
  },
  {
   "cell_type": "code",
   "execution_count": 87,
   "metadata": {},
   "outputs": [
    {
     "name": "stdout",
     "output_type": "stream",
     "text": [
      "['red', 'blue', 'green']\n",
      "['red', 'blue', 'green', 'purple']\n"
     ]
    }
   ],
   "source": [
    "colours = ['red', 'blue', 'green']\n",
    "print(colours)\n",
    "\n",
    "new_list = colours.append('purple')\n",
    "print(colours)\n",
    "\n",
    "# new_list\n",
    "# print(colours)"
   ]
  },
  {
   "cell_type": "code",
   "execution_count": 94,
   "metadata": {},
   "outputs": [
    {
     "name": "stdout",
     "output_type": "stream",
     "text": [
      "['orange', 'turquoise']\n",
      "['red', 'blue', 'green', ['orange', 'turquoise']]\n",
      "['blue', 'green', ['orange', 'turquoise'], 'teal', 'white', 'red']\n",
      "['teal', 'white']\n"
     ]
    }
   ],
   "source": [
    "colours = ['red', 'blue', 'green']\n",
    "colours.append(['orange', 'turquoise'])\n",
    "print(colours[3])\n",
    "print(colours)\n",
    "\n",
    "more_colours = ['teal', 'white', 'red']\n",
    "colours.extend(more_colours)\n",
    "colours.remove('red')\n",
    "print(colours)\n",
    "print(colours[3:5])"
   ]
  },
  {
   "cell_type": "code",
   "execution_count": null,
   "metadata": {},
   "outputs": [],
   "source": [
    "# In this cell, make a list of a few foods and print it.\n",
    "# Then append the list with another food and print it.\n",
    "# Next, make another list of foods, and use the extend method to add those extra foods \n",
    "# as individual elements of the list, and print it.\n",
    "# Finally, remove and element from the list and print the final list.\n",
    "# Remember to always use a suitable name for your lists!"
   ]
  }
 ],
 "metadata": {
  "kernelspec": {
   "display_name": "Python 3",
   "language": "python",
   "name": "python3"
  },
  "language_info": {
   "codemirror_mode": {
    "name": "ipython",
    "version": 3
   },
   "file_extension": ".py",
   "mimetype": "text/x-python",
   "name": "python",
   "nbconvert_exporter": "python",
   "pygments_lexer": "ipython3",
   "version": "3.10.13"
  }
 },
 "nbformat": 4,
 "nbformat_minor": 2
}

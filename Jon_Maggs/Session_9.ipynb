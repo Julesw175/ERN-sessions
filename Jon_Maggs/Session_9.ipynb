{
 "cells": [
  {
   "cell_type": "code",
   "execution_count": 13,
   "metadata": {},
   "outputs": [
    {
     "name": "stdout",
     "output_type": "stream",
     "text": [
      "5 or under\n"
     ]
    }
   ],
   "source": [
    "#Recap\n",
    "\n",
    "import pandas as pd\n",
    "\n",
    "def check_string_length(s):\n",
    "    if not isinstance(s, str):\n",
    "        raise TypeError(\"Input must be a string.\")\n",
    "    elif len(s) > 5:\n",
    "        return \"Over 5\"\n",
    "    else:\n",
    "        return \"5 or under\"\n",
    "\n",
    "print(check_string_length('Hello'))\n",
    "\n"
   ]
  },
  {
   "cell_type": "code",
   "execution_count": 20,
   "metadata": {},
   "outputs": [
    {
     "name": "stdout",
     "output_type": "stream",
     "text": [
      "The sum of 2.5 and 4 is 6.5, which is 10 or under.\n"
     ]
    }
   ],
   "source": [
    "def add_and_check_type(a, b):\n",
    "    if not isinstance(a, (int, float)) or not isinstance(b, (int, float)):\n",
    "        raise TypeError(\"Both inputs must be integers or floats.\")\n",
    "    else:\n",
    "        result = a + b\n",
    "        if result > 10:\n",
    "            return f\"The sum of {a} and {b} is {result}, which is over 10.\"\n",
    "        else:\n",
    "            return f\"The sum of {a} and {b} is {result}, which is 10 or under.\"\n",
    "        \n",
    "print(add_and_check_type(2.5,4))"
   ]
  },
  {
   "cell_type": "code",
   "execution_count": 24,
   "metadata": {},
   "outputs": [
    {
     "name": "stdout",
     "output_type": "stream",
     "text": [
      "3.0\n"
     ]
    }
   ],
   "source": [
    "divide = lambda x, y: x / y\n",
    "#result = divide(10, 2)\n",
    "#print(result)\n",
    "print(divide(6,2))"
   ]
  },
  {
   "cell_type": "code",
   "execution_count": 22,
   "metadata": {},
   "outputs": [
    {
     "name": "stdout",
     "output_type": "stream",
     "text": [
      "[1.0, 1.41, 1.73, 2.0, 2.24, 2.45, 2.65, 2.83, 3.0, 3.16]\n"
     ]
    }
   ],
   "source": [
    "squares = [round(x ** 0.5, 2) for x in range(1, 11)]\n",
    "print(squares)"
   ]
  },
  {
   "cell_type": "code",
   "execution_count": 32,
   "metadata": {},
   "outputs": [
    {
     "name": "stdout",
     "output_type": "stream",
     "text": [
      "   Percentage change (monthly) All property types Relative price change\n",
      "0                                            3.94                Higher\n",
      "1                                            3.94                Higher\n",
      "2                                            3.94                Higher\n",
      "3                                            4.00                Higher\n",
      "4                                            4.00                Higher\n",
      "5                                            4.00                Higher\n",
      "6                                            4.05                Higher\n",
      "7                                            4.05                Higher\n",
      "8                                            4.05                Higher\n",
      "9                                            0.19                 Lower\n"
     ]
    }
   ],
   "source": [
    "df = pd.read_csv('https://raw.githubusercontent.com/data-to-insight/D2I-Jupyter-Notebook-Tools/main/ERN-worksheets/data/1980%202023%20average%20house%20prices.csv')\n",
    "\n",
    "def change_checker(x):\n",
    "    av_change = df['Percentage change (monthly) All property types'].mean()\n",
    "    if x > av_change:\n",
    "        return 'Higher'\n",
    "    elif x == av_change:\n",
    "        return 'Equal'\n",
    "    else:\n",
    "        return 'Lower'\n",
    "    \n",
    "df['Relative price change'] = df['Percentage change (monthly) All property types'].apply(change_checker)\n",
    "\n",
    "print(df[['Percentage change (monthly) All property types', 'Relative price change']].head(10))\n"
   ]
  }
 ],
 "metadata": {
  "kernelspec": {
   "display_name": "Python 3",
   "language": "python",
   "name": "python3"
  },
  "language_info": {
   "codemirror_mode": {
    "name": "ipython",
    "version": 3
   },
   "file_extension": ".py",
   "mimetype": "text/x-python",
   "name": "python",
   "nbconvert_exporter": "python",
   "pygments_lexer": "ipython3",
   "version": "3.10.8"
  }
 },
 "nbformat": 4,
 "nbformat_minor": 2
}

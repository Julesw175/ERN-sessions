{
 "cells": [
  {
   "cell_type": "code",
   "execution_count": 19,
   "metadata": {},
   "outputs": [
    {
     "name": "stdout",
     "output_type": "stream",
     "text": [
      "227460.0\n",
      "5.77\n"
     ]
    },
    {
     "name": "stderr",
     "output_type": "stream",
     "text": [
      "/tmp/ipykernel_11062/3380702273.py:12: SettingWithCopyWarning: \n",
      "A value is trying to be set on a copy of a slice from a DataFrame.\n",
      "Try using .loc[row_indexer,col_indexer] = value instead\n",
      "\n",
      "See the caveats in the documentation: https://pandas.pydata.org/pandas-docs/stable/user_guide/indexing.html#returning-a-view-versus-a-copy\n",
      "  non_supressed[['number', 'percent', 'rate']] = non_supressed[['number', 'percent', 'rate']].astype('float')\n"
     ]
    }
   ],
   "source": [
    "#Recap\n",
    "\n",
    "import pandas as pd\n",
    "\n",
    "df = pd.read_csv(\"https://raw.githubusercontent.com/WillLP-code/stlite-tests/main/benchmarking%20test/data/a1.csv\")\n",
    "#print(df.info())\n",
    "\n",
    "query = (~df['number'].isin(['z', 'c', 'x'])) & (~df['rate'].isin(['z', 'c', 'x'])) & (~df['percent'].isin(['z', 'c', 'x']))\n",
    "\n",
    "non_supressed = df[query]\n",
    "\n",
    "non_supressed[['number', 'percent', 'rate']] = non_supressed[['number', 'percent', 'rate']].astype('float')\n",
    "\n",
    "#print(non_supressed.info())\n",
    "\n",
    "print(non_supressed['number'].sum())\n",
    "print(non_supressed['percent'].mean())\n"
   ]
  },
  {
   "cell_type": "code",
   "execution_count": 25,
   "metadata": {},
   "outputs": [
    {
     "name": "stdout",
     "output_type": "stream",
     "text": [
      "[18, 81, 33, 7, 91, 14, 51, 82, 98, 24]\n"
     ]
    }
   ],
   "source": [
    "import random\n",
    "\n",
    "random_list = random.sample(range(0, 101), 10)\n",
    "print(random_list)"
   ]
  },
  {
   "cell_type": "code",
   "execution_count": 30,
   "metadata": {},
   "outputs": [
    {
     "name": "stdout",
     "output_type": "stream",
     "text": [
      "18 is under 50\n",
      "81 is over 50\n",
      "33 is under 50\n",
      "7 is under 50\n",
      "91 is over 50\n",
      "14 is under 50\n",
      "51 is over 50\n",
      "82 is over 50\n",
      "98 is over 50\n",
      "24 is under 50\n"
     ]
    }
   ],
   "source": [
    "def over_under_50(num):\n",
    "    if num > 50:\n",
    "        return 'over 50'\n",
    "    else:\n",
    "        return 'under 50'\n",
    "    \n",
    "for num in random_list:\n",
    "    print(f\"{num} is {over_under_50(num)}\")"
   ]
  },
  {
   "cell_type": "code",
   "execution_count": 36,
   "metadata": {},
   "outputs": [
    {
     "name": "stdout",
     "output_type": "stream",
     "text": [
      "(10, 0)\n"
     ]
    }
   ],
   "source": [
    "#Session 8\n",
    "\n",
    "def addition(x, y):\n",
    "    return x + y\n",
    "\n",
    "def subraction(x, y):\n",
    "    return x - y\n",
    "\n",
    "def add_sub(x, y):\n",
    "    add = addition(x, y)\n",
    "    sub = subraction(x, y)\n",
    "    return add, sub\n",
    "\n",
    "print(add_sub(5,5))"
   ]
  },
  {
   "cell_type": "code",
   "execution_count": 42,
   "metadata": {},
   "outputs": [
    {
     "name": "stdout",
     "output_type": "stream",
     "text": [
      "5.0\n"
     ]
    }
   ],
   "source": [
    "\n",
    "def multi(x, y):\n",
    "    return x * y\n",
    "\n",
    "def div(x, y):\n",
    "    return x / y\n",
    "\n",
    "def multi_div(x, y):\n",
    "    return multi(x, y), div(x,y)\n",
    "\n",
    "multi_5_5, div_5_5 = multi_div(5,1)\n",
    "print(div_5_5)"
   ]
  },
  {
   "cell_type": "code",
   "execution_count": 51,
   "metadata": {},
   "outputs": [],
   "source": [
    "def addition_xy(x, y):\n",
    "    if ((type(x) == float) | (type(x) == int)) & ((type(y) == float) | (type(y) == int)):\n",
    "        return x + y\n",
    "    elif (type(x) == str) | (type(y) == str):\n",
    "        if type(x) == str:\n",
    "            raise TypeError(\"x was a string, ,expected float or int\")\n",
    "        if type(y) == str:\n",
    "            raise TypeError(\"y was a string, expected a float or int\")\n",
    "    else:\n",
    "        raise TypeError(\"x and y should both be floats or ints\")\n",
    "    \n",
    "#print(addition_xy('5', 5))   "
   ]
  },
  {
   "cell_type": "code",
   "execution_count": 56,
   "metadata": {},
   "outputs": [],
   "source": [
    "def apple_or_error(thing):\n",
    "    if thing == 'apple': \n",
    "        print(\"it's an apple\")\n",
    "    else:\n",
    "        raise ValueError('expected input is apple, got {thing}')\n",
    "    \n",
    "    apple_or_error('pear')\n"
   ]
  }
 ],
 "metadata": {
  "kernelspec": {
   "display_name": "Python 3",
   "language": "python",
   "name": "python3"
  },
  "language_info": {
   "codemirror_mode": {
    "name": "ipython",
    "version": 3
   },
   "file_extension": ".py",
   "mimetype": "text/x-python",
   "name": "python",
   "nbconvert_exporter": "python",
   "pygments_lexer": "ipython3",
   "version": "3.10.8"
  }
 },
 "nbformat": 4,
 "nbformat_minor": 2
}

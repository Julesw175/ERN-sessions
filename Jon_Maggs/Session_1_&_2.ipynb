{
 "cells": [
  {
   "cell_type": "code",
   "execution_count": 4,
   "metadata": {},
   "outputs": [
    {
     "name": "stdout",
     "output_type": "stream",
     "text": [
      "Hello World\n"
     ]
    }
   ],
   "source": [
    "phrase = \"Hello World\"\n",
    "print(phrase) #String"
   ]
  },
  {
   "cell_type": "code",
   "execution_count": 5,
   "metadata": {},
   "outputs": [
    {
     "name": "stdout",
     "output_type": "stream",
     "text": [
      "15\n",
      "2.0\n",
      "<class 'float'>\n",
      "<class 'float'>\n"
     ]
    }
   ],
   "source": [
    "x = 5 #Integer\n",
    "y = 10\n",
    "z = x + y\n",
    "print(z)\n",
    "z = y / x #Divide\n",
    "print(z) #Float\n",
    "\n",
    "print(type(z))\n",
    "\n",
    "j = type(z)\n",
    "print(j)"
   ]
  },
  {
   "cell_type": "code",
   "execution_count": 6,
   "metadata": {},
   "outputs": [
    {
     "name": "stdout",
     "output_type": "stream",
     "text": [
      "6\n",
      "12.56\n"
     ]
    }
   ],
   "source": [
    "a = 2\n",
    "b = 3\n",
    "c = a * b\n",
    "print(c)\n",
    "\n",
    "r = 2\n",
    "pi = 3.14\n",
    "area = pi * (r**2)\n",
    "print(area)"
   ]
  },
  {
   "cell_type": "code",
   "execution_count": 7,
   "metadata": {},
   "outputs": [
    {
     "name": "stdout",
     "output_type": "stream",
     "text": [
      "My name is Jon and my hobby is reading\n"
     ]
    }
   ],
   "source": [
    "name = \"Jon\"\n",
    "hobby = \"reading\"\n",
    "long_string = \"My name is \" + name + \" and my hobby is \" + hobby\n",
    "#print(long_string)\n",
    "\n",
    "phrase = f\"My name is {name} and my hobby is {hobby}\"\n",
    "print(phrase)"
   ]
  },
  {
   "cell_type": "code",
   "execution_count": 8,
   "metadata": {},
   "outputs": [
    {
     "name": "stdout",
     "output_type": "stream",
     "text": [
      "My name is Jon and I am a Performance & Development Manager\n"
     ]
    }
   ],
   "source": [
    "name = \"Jon\"\n",
    "job_title = \"Performance & Development Manager\"\n",
    "phrase1 = f\"My name is {name} and I am a {job_title}\"\n",
    "print(phrase1)"
   ]
  },
  {
   "cell_type": "code",
   "execution_count": 9,
   "metadata": {},
   "outputs": [
    {
     "name": "stdout",
     "output_type": "stream",
     "text": [
      "59\n",
      "name is Jon and I\n",
      "here_is_a_file\n"
     ]
    }
   ],
   "source": [
    "print(len(phrase1))\n",
    "\n",
    "string_slice = phrase1[3:20]\n",
    "print(string_slice)\n",
    "\n",
    "filename = \"here_is_a_file.csv\"\n",
    "filename = filename[0:14] #- starts couting from the other end\n",
    "print(filename)"
   ]
  },
  {
   "cell_type": "code",
   "execution_count": 10,
   "metadata": {},
   "outputs": [
    {
     "name": "stdout",
     "output_type": "stream",
     "text": [
      "dog\n",
      "cat \n",
      "racoon\n"
     ]
    }
   ],
   "source": [
    "slice_this_phrase = \"dog cat racoon\"\n",
    "slice_this_phrase_Dog = slice_this_phrase[0:3]\n",
    "slice_this_phrase_Cat = slice_this_phrase[4:8]\n",
    "slice_this_phrase_Racoon = slice_this_phrase[-6:]\n",
    "\n",
    "print(slice_this_phrase_Dog[0:3])\n",
    "print(slice_this_phrase_Cat)\n",
    "print(slice_this_phrase_Racoon)"
   ]
  },
  {
   "cell_type": "code",
   "execution_count": 11,
   "metadata": {},
   "outputs": [
    {
     "name": "stdout",
     "output_type": "stream",
     "text": [
      "[1, 2, 3, 5, 10]\n"
     ]
    }
   ],
   "source": [
    "list_1 = [1, 2, 3, x, y]\n",
    "print(list_1)"
   ]
  },
  {
   "cell_type": "code",
   "execution_count": 12,
   "metadata": {},
   "outputs": [
    {
     "name": "stdout",
     "output_type": "stream",
     "text": [
      "My colours are: ['red', 'blue', 'green', 'yellow']\n"
     ]
    }
   ],
   "source": [
    "favourite_colour = \"yellow\"\n",
    "colours_list = [\"red\", \"blue\", \"green\",]\n",
    "colours_list.append(favourite_colour)\n",
    "print(f\"My colours are: {colours_list}\")\n"
   ]
  },
  {
   "cell_type": "code",
   "execution_count": 14,
   "metadata": {},
   "outputs": [
    {
     "data": {
      "text/plain": [
       "['pasta', 'rice', 'bread', 'apples']"
      ]
     },
     "execution_count": 14,
     "metadata": {},
     "output_type": "execute_result"
    }
   ],
   "source": [
    "foods_list = ['pasta', 'rice', 'bread']\n",
    "favourite_food = \"apples\"\n",
    "foods_list.append(favourite_food)\n",
    "print(foods_list)"
   ]
  },
  {
   "cell_type": "code",
   "execution_count": 40,
   "metadata": {},
   "outputs": [
    {
     "name": "stdout",
     "output_type": "stream",
     "text": [
      "['pasta', 'rice', 'bread', 'bananas', 'grapes', 'chocolate']\n"
     ]
    }
   ],
   "source": [
    "foods_list = ['pasta', 'rice', 'bread']\n",
    "more_foods = ['bananas', 'grapes', 'chocolate']\n",
    "foods_list.extend(more_foods)\n",
    "print(foods_list)\n",
    "\n",
    "#foods_list.remove(['pasta', 'rice', 'bread', 'apples', \n",
    "#'bananas', 'chocolate', 'bananas', \n",
    "#'grapes'])\n",
    "#print(foods_list)"
   ]
  },
  {
   "cell_type": "code",
   "execution_count": 39,
   "metadata": {},
   "outputs": [
    {
     "name": "stdout",
     "output_type": "stream",
     "text": [
      "[1, 2, 3, 4, 5, 6]\n",
      "[6, 5, 4, 3, 2, 1]\n",
      "[1, 2, 3, 4, 5, 6]\n",
      "['bread', 'pasta', 'rice']\n"
     ]
    }
   ],
   "source": [
    "numbers_list = [2,3,4,5,1,6]\n",
    "numbers_list.sort()\n",
    "print(numbers_list)\n",
    "numbers_list.sort(reverse=True)\n",
    "print(numbers_list)\n",
    "\n",
    "numbers_list = [2,3,4,5,1,6]\n",
    "sorted_numbers = sorted(numbers_list) #This method preserves the orginal list\n",
    "print(sorted_numbers)\n",
    "\n",
    "foods_list = ['pasta', 'rice', 'bread']\n",
    "foods_list.sort()\n",
    "print(foods_list)"
   ]
  },
  {
   "cell_type": "code",
   "execution_count": 43,
   "metadata": {},
   "outputs": [
    {
     "name": "stdout",
     "output_type": "stream",
     "text": [
      "['bananas', 'bread', 'chocolate', 'grapes', 'pasta', 'rice']\n",
      "['rice', 'pasta', 'grapes', 'chocolate', 'bread', 'bananas']\n"
     ]
    }
   ],
   "source": [
    "foods_list = ['pasta', 'rice', 'bread', 'bananas', 'grapes', 'chocolate']\n",
    "sorted_foods = sorted(foods_list)\n",
    "print(sorted_foods)\n",
    "\n",
    "foods_list.sort(reverse=True)\n",
    "print(foods_list)"
   ]
  },
  {
   "cell_type": "code",
   "execution_count": 52,
   "metadata": {},
   "outputs": [
    {
     "name": "stdout",
     "output_type": "stream",
     "text": [
      "{'Jon': 'red', 'Will': ['purple', 'yellow']}\n",
      "red\n"
     ]
    }
   ],
   "source": [
    "favourite_colours_dict = {'Jon':'red',\n",
    "                     'Will':['purple', 'yellow']\n",
    "                        }\n",
    "print(favourite_colours_dict)\n",
    "print(favourite_colours_dict['Jon'])"
   ]
  },
  {
   "cell_type": "code",
   "execution_count": 56,
   "metadata": {},
   "outputs": [
    {
     "name": "stdout",
     "output_type": "stream",
     "text": [
      "{'Burger King': 'Burgers', 'Nandos': ['The Imitator', 'peri peri chips', 'rainbow salad'], 'Wagamama': 'katsu curry'}\n",
      "['The Imitator', 'peri peri chips', 'rainbow salad']\n",
      "dict_keys(['Burger King', 'Nandos', 'Wagamama'])\n",
      "dict_values(['Burgers', ['The Imitator', 'peri peri chips', 'rainbow salad'], 'katsu curry'])\n",
      "dict_items([('Burger King', 'Burgers'), ('Nandos', ['The Imitator', 'peri peri chips', 'rainbow salad']), ('Wagamama', 'katsu curry')])\n"
     ]
    }
   ],
   "source": [
    "restaurants_food_dict = {'Burger King': 'Burgers',\n",
    "                         'Nandos':['The Imitator', 'peri peri chips', 'rainbow salad'],\n",
    "                         'Wagamama': 'katsu curry'\n",
    "\n",
    "}\n",
    "print(restaurants_food_dict)\n",
    "print(restaurants_food_dict['Nandos'])\n",
    "print(restaurants_food_dict.keys())\n",
    "print(restaurants_food_dict.values())\n",
    "print(restaurants_food_dict.items())\n"
   ]
  },
  {
   "cell_type": "code",
   "execution_count": 57,
   "metadata": {},
   "outputs": [
    {
     "name": "stdout",
     "output_type": "stream",
     "text": [
      "{'Burger King': 'hot dogs', 'Nandos': ['The Imitator', 'peri peri chips', 'rainbow salad'], 'Wagamama': 'katsu curry'}\n"
     ]
    }
   ],
   "source": [
    "restaurants_food_dict['Burger King'] = 'hot dogs'\n",
    "print(restaurants_food_dict)"
   ]
  },
  {
   "cell_type": "code",
   "execution_count": 74,
   "metadata": {},
   "outputs": [
    {
     "name": "stdout",
     "output_type": "stream",
     "text": [
      "['Will', 'Emily', 'Jon', 'Emma', 'Paul M', 'Michael M', 'Alasdair']\n",
      "['Alasdair', 'Emily', 'Emma', 'Jon', 'Michael M', 'Paul M', 'Will']\n",
      "My name is Will and my job is intstructing\n",
      "My name is Emily and my job is performance analyst\n",
      "My name is Jon and my job is performance m.\n",
      "My name is Emma and my job is peformance o.\n",
      "My name is Paul M and my job is performance o.\n",
      "My name is Michael M and my job is regional manager\n",
      "My name is Alasdair and my job is SQL Dev\n"
     ]
    }
   ],
   "source": [
    "job_dict = {'Will': 'intstructing',\n",
    "           'Emily': 'performance analyst',\n",
    "           'Jon': 'performance m.',\n",
    "           'Emma': 'peformance o.',\n",
    "           'Paul M': 'performance o.',\n",
    "           'Michael M': 'regional manager',\n",
    "           'Alasdair': 'SQL Dev'}\n",
    "\n",
    "names = list(job_dict.keys())\n",
    "print(names)\n",
    "names_sorted = sorted(names)\n",
    "print(names_sorted)\n",
    "\n",
    "for key, value in job_dict.items():\n",
    "    print(f\"My name is\", key, \"and my job is\", value)\n",
    "\n"
   ]
  },
  {
   "cell_type": "code",
   "execution_count": null,
   "metadata": {},
   "outputs": [],
   "source": []
  }
 ],
 "metadata": {
  "kernelspec": {
   "display_name": "Python 3",
   "language": "python",
   "name": "python3"
  },
  "language_info": {
   "codemirror_mode": {
    "name": "ipython",
    "version": 3
   },
   "file_extension": ".py",
   "mimetype": "text/x-python",
   "name": "python",
   "nbconvert_exporter": "python",
   "pygments_lexer": "ipython3",
   "version": "3.10.8"
  }
 },
 "nbformat": 4,
 "nbformat_minor": 2
}

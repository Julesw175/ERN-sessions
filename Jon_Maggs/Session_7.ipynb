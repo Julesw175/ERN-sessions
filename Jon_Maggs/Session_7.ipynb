{
 "cells": [
  {
   "cell_type": "code",
   "execution_count": 10,
   "metadata": {},
   "outputs": [
    {
     "name": "stdout",
     "output_type": "stream",
     "text": [
      "13.29 -4.79\n"
     ]
    },
    {
     "data": {
      "text/html": [
       "<div>\n",
       "<style scoped>\n",
       "    .dataframe tbody tr th:only-of-type {\n",
       "        vertical-align: middle;\n",
       "    }\n",
       "\n",
       "    .dataframe tbody tr th {\n",
       "        vertical-align: top;\n",
       "    }\n",
       "\n",
       "    .dataframe thead th {\n",
       "        text-align: right;\n",
       "    }\n",
       "</style>\n",
       "<table border=\"1\" class=\"dataframe\">\n",
       "  <thead>\n",
       "    <tr style=\"text-align: right;\">\n",
       "      <th></th>\n",
       "      <th>Name</th>\n",
       "      <th>Period</th>\n",
       "      <th>House price index All property types</th>\n",
       "      <th>Average price All property types</th>\n",
       "      <th>Percentage change (monthly) All property types</th>\n",
       "      <th>Percentage change (yearly) All property types</th>\n",
       "    </tr>\n",
       "  </thead>\n",
       "  <tbody>\n",
       "    <tr>\n",
       "      <th>0</th>\n",
       "      <td>United Kingdom</td>\n",
       "      <td>1980-01-01</td>\n",
       "      <td>10.11</td>\n",
       "      <td>19273</td>\n",
       "      <td>3.94</td>\n",
       "      <td>28.59</td>\n",
       "    </tr>\n",
       "    <tr>\n",
       "      <th>1</th>\n",
       "      <td>United Kingdom</td>\n",
       "      <td>1980-02-01</td>\n",
       "      <td>10.11</td>\n",
       "      <td>19273</td>\n",
       "      <td>3.94</td>\n",
       "      <td>28.59</td>\n",
       "    </tr>\n",
       "    <tr>\n",
       "      <th>2</th>\n",
       "      <td>United Kingdom</td>\n",
       "      <td>1980-03-01</td>\n",
       "      <td>10.11</td>\n",
       "      <td>19273</td>\n",
       "      <td>3.94</td>\n",
       "      <td>28.59</td>\n",
       "    </tr>\n",
       "    <tr>\n",
       "      <th>3</th>\n",
       "      <td>United Kingdom</td>\n",
       "      <td>1980-04-01</td>\n",
       "      <td>10.51</td>\n",
       "      <td>20044</td>\n",
       "      <td>4.00</td>\n",
       "      <td>24.15</td>\n",
       "    </tr>\n",
       "    <tr>\n",
       "      <th>4</th>\n",
       "      <td>United Kingdom</td>\n",
       "      <td>1980-05-01</td>\n",
       "      <td>10.51</td>\n",
       "      <td>20044</td>\n",
       "      <td>4.00</td>\n",
       "      <td>24.15</td>\n",
       "    </tr>\n",
       "    <tr>\n",
       "      <th>...</th>\n",
       "      <td>...</td>\n",
       "      <td>...</td>\n",
       "      <td>...</td>\n",
       "      <td>...</td>\n",
       "      <td>...</td>\n",
       "      <td>...</td>\n",
       "    </tr>\n",
       "    <tr>\n",
       "      <th>500</th>\n",
       "      <td>United Kingdom</td>\n",
       "      <td>2021-09-01</td>\n",
       "      <td>141.09</td>\n",
       "      <td>269003</td>\n",
       "      <td>3.29</td>\n",
       "      <td>11.37</td>\n",
       "    </tr>\n",
       "    <tr>\n",
       "      <th>502</th>\n",
       "      <td>United Kingdom</td>\n",
       "      <td>2021-11-01</td>\n",
       "      <td>140.23</td>\n",
       "      <td>267370</td>\n",
       "      <td>1.53</td>\n",
       "      <td>8.66</td>\n",
       "    </tr>\n",
       "    <tr>\n",
       "      <th>504</th>\n",
       "      <td>United Kingdom</td>\n",
       "      <td>2022-01-01</td>\n",
       "      <td>143.05</td>\n",
       "      <td>272738</td>\n",
       "      <td>1.72</td>\n",
       "      <td>9.23</td>\n",
       "    </tr>\n",
       "    <tr>\n",
       "      <th>508</th>\n",
       "      <td>United Kingdom</td>\n",
       "      <td>2022-05-01</td>\n",
       "      <td>147.10</td>\n",
       "      <td>280433</td>\n",
       "      <td>1.30</td>\n",
       "      <td>11.60</td>\n",
       "    </tr>\n",
       "    <tr>\n",
       "      <th>510</th>\n",
       "      <td>United Kingdom</td>\n",
       "      <td>2022-07-01</td>\n",
       "      <td>151.10</td>\n",
       "      <td>288156</td>\n",
       "      <td>1.90</td>\n",
       "      <td>13.80</td>\n",
       "    </tr>\n",
       "  </tbody>\n",
       "</table>\n",
       "<p>210 rows × 6 columns</p>\n",
       "</div>"
      ],
      "text/plain": [
       "               Name     Period  House price index All property types  \\\n",
       "0    United Kingdom 1980-01-01                                 10.11   \n",
       "1    United Kingdom 1980-02-01                                 10.11   \n",
       "2    United Kingdom 1980-03-01                                 10.11   \n",
       "3    United Kingdom 1980-04-01                                 10.51   \n",
       "4    United Kingdom 1980-05-01                                 10.51   \n",
       "..              ...        ...                                   ...   \n",
       "500  United Kingdom 2021-09-01                                141.09   \n",
       "502  United Kingdom 2021-11-01                                140.23   \n",
       "504  United Kingdom 2022-01-01                                143.05   \n",
       "508  United Kingdom 2022-05-01                                147.10   \n",
       "510  United Kingdom 2022-07-01                                151.10   \n",
       "\n",
       "     Average price All property types  \\\n",
       "0                               19273   \n",
       "1                               19273   \n",
       "2                               19273   \n",
       "3                               20044   \n",
       "4                               20044   \n",
       "..                                ...   \n",
       "500                            269003   \n",
       "502                            267370   \n",
       "504                            272738   \n",
       "508                            280433   \n",
       "510                            288156   \n",
       "\n",
       "     Percentage change (monthly) All property types  \\\n",
       "0                                              3.94   \n",
       "1                                              3.94   \n",
       "2                                              3.94   \n",
       "3                                              4.00   \n",
       "4                                              4.00   \n",
       "..                                              ...   \n",
       "500                                            3.29   \n",
       "502                                            1.53   \n",
       "504                                            1.72   \n",
       "508                                            1.30   \n",
       "510                                            1.90   \n",
       "\n",
       "     Percentage change (yearly) All property types  \n",
       "0                                            28.59  \n",
       "1                                            28.59  \n",
       "2                                            28.59  \n",
       "3                                            24.15  \n",
       "4                                            24.15  \n",
       "..                                             ...  \n",
       "500                                          11.37  \n",
       "502                                           8.66  \n",
       "504                                           9.23  \n",
       "508                                          11.60  \n",
       "510                                          13.80  \n",
       "\n",
       "[210 rows x 6 columns]"
      ]
     },
     "execution_count": 10,
     "metadata": {},
     "output_type": "execute_result"
    }
   ],
   "source": [
    "import pandas as pd\n",
    "df = pd.read_csv('/workspaces/ERN-sessions/data/1980 2023 average house prices.csv')\n",
    "df['Period'] = pd.to_datetime(df['Period'],format= \"%Y-%m\")\n",
    "#df.head(10)\n",
    "#df.info()\n",
    "\n",
    "highest, lowest, mean = (\n",
    "df['Percentage change (monthly) All property types'].max(),\n",
    "df['Percentage change (monthly) All property types'].min(),\n",
    "df['Percentage change (monthly) All property types'].mean(),\n",
    ")\n",
    "print(highest, lowest)\n",
    "\n",
    "#Slice to see only those rows over the average\n",
    "condition = (df['Percentage change (monthly) All property types']\n",
    "             > df['Percentage change (monthly) All property types'].mean())\n",
    "\n",
    "over_monthly_change = df[condition]\n",
    "over_monthly_change\n",
    "\n"
   ]
  },
  {
   "cell_type": "code",
   "execution_count": 12,
   "metadata": {},
   "outputs": [
    {
     "name": "stdout",
     "output_type": "stream",
     "text": [
      "1\n",
      "2\n",
      "3\n",
      "4\n",
      "5\n"
     ]
    }
   ],
   "source": [
    "numbers_list = [1, 2, 3, 4, 5]\n",
    "\n",
    "for i in numbers_list:\n",
    "    print(i)"
   ]
  },
  {
   "cell_type": "code",
   "execution_count": 21,
   "metadata": {},
   "outputs": [
    {
     "name": "stdout",
     "output_type": "stream",
     "text": [
      "2550\n"
     ]
    }
   ],
   "source": [
    "up_to_100 = list(range(1, 101))\n",
    "\n",
    "total_evens = 0\n",
    "\n",
    "for number in up_to_100:\n",
    "    if number %2 == 0:\n",
    "        total_evens += number\n",
    "\n",
    "print(total_evens)\n"
   ]
  },
  {
   "cell_type": "code",
   "execution_count": 24,
   "metadata": {},
   "outputs": [
    {
     "name": "stdout",
     "output_type": "stream",
     "text": [
      "2500\n"
     ]
    }
   ],
   "source": [
    "up_to_100 = list(range(1, 101))\n",
    "\n",
    "total_odds = 0\n",
    "\n",
    "for number in up_to_100:\n",
    "    if number %2 == 1:\n",
    "        total_odds += number\n",
    "\n",
    "print(total_odds)"
   ]
  },
  {
   "cell_type": "code",
   "execution_count": 30,
   "metadata": {},
   "outputs": [
    {
     "data": {
      "text/plain": [
       "65"
      ]
     },
     "execution_count": 30,
     "metadata": {},
     "output_type": "execute_result"
    }
   ],
   "source": [
    "#DRY\n",
    "#Don't Repeat Yourself\n",
    "\n",
    "def sum_function(x, y):\n",
    "    total = x + y\n",
    "    \n",
    "    return total\n",
    "   \n",
    "answer = sum_function(5, 60)\n",
    "\n",
    "answer"
   ]
  },
  {
   "cell_type": "code",
   "execution_count": 33,
   "metadata": {},
   "outputs": [
    {
     "data": {
      "text/plain": [
       "20"
      ]
     },
     "execution_count": 33,
     "metadata": {},
     "output_type": "execute_result"
    }
   ],
   "source": [
    "def product_function(x, y):\n",
    "    product = x * y\n",
    "\n",
    "    return product\n",
    "\n",
    "answer = product_function(5, 4)\n",
    "\n",
    "answer\n"
   ]
  },
  {
   "cell_type": "code",
   "execution_count": 34,
   "metadata": {},
   "outputs": [
    {
     "name": "stdout",
     "output_type": "stream",
     "text": [
      "15\n",
      "50\n"
     ]
    }
   ],
   "source": [
    "def sum_prod(x, y):\n",
    "    '''\n",
    "    Finds the sum and product of two numbers, returns the sum and product.\n",
    "\n",
    "    Args:\n",
    "        x, y: Int or Float, number for which the sum and product is found.\n",
    "\n",
    "    Returns:\n",
    "        summation: Int or Float, the sum of x and y.\n",
    "        product: Int or Float, the prodcut of x and y.     \n",
    "    '''\n",
    "    summation = x + y\n",
    "    product = x * y\n",
    "    return summation, product\n",
    "\n",
    "summation_5_10, product_5_10 = sum_prod(5, 10)\n",
    "print(summation_5_10)\n",
    "print(product_5_10)"
   ]
  },
  {
   "cell_type": "code",
   "execution_count": 38,
   "metadata": {},
   "outputs": [
    {
     "name": "stdout",
     "output_type": "stream",
     "text": [
      "-5\n",
      "0.5\n"
     ]
    }
   ],
   "source": [
    "def sub_div(x, y):\n",
    "    '''\n",
    "    Finds the subtraction and division of two numbers, returns the subtraction and division.\n",
    "\n",
    "    Args:\n",
    "        x, y: Int or Float, numbers for which the subtraction and division is found.\n",
    "\n",
    "    Returns:\n",
    "        subtraction: Int or Float, the subtraction of x and y.\n",
    "        division: Int or Float, the division of x and y.     \n",
    "    '''\n",
    "    subtraction = x - y\n",
    "    division = x / y\n",
    "    return subtraction, division\n",
    "\n",
    "subtraction_5_10, division_5_10 = sub_div(5, 10)\n",
    "print(subtraction_5_10)\n",
    "print(division_5_10)"
   ]
  }
 ],
 "metadata": {
  "kernelspec": {
   "display_name": "Python 3",
   "language": "python",
   "name": "python3"
  },
  "language_info": {
   "codemirror_mode": {
    "name": "ipython",
    "version": 3
   },
   "file_extension": ".py",
   "mimetype": "text/x-python",
   "name": "python",
   "nbconvert_exporter": "python",
   "pygments_lexer": "ipython3",
   "version": "3.10.8"
  }
 },
 "nbformat": 4,
 "nbformat_minor": 2
}

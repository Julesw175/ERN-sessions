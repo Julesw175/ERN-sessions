{
 "cells": [
  {
   "cell_type": "code",
   "execution_count": 5,
   "metadata": {},
   "outputs": [],
   "source": [
    "import pandas as pd"
   ]
  },
  {
   "cell_type": "code",
   "execution_count": 7,
   "metadata": {},
   "outputs": [
    {
     "data": {
      "text/html": [
       "<div>\n",
       "<style scoped>\n",
       "    .dataframe tbody tr th:only-of-type {\n",
       "        vertical-align: middle;\n",
       "    }\n",
       "\n",
       "    .dataframe tbody tr th {\n",
       "        vertical-align: top;\n",
       "    }\n",
       "\n",
       "    .dataframe thead th {\n",
       "        text-align: right;\n",
       "    }\n",
       "</style>\n",
       "<table border=\"1\" class=\"dataframe\">\n",
       "  <thead>\n",
       "    <tr style=\"text-align: right;\">\n",
       "      <th></th>\n",
       "      <th>Restuarant</th>\n",
       "      <th>Starter</th>\n",
       "      <th>Main</th>\n",
       "      <th>Dessert</th>\n",
       "    </tr>\n",
       "  </thead>\n",
       "  <tbody>\n",
       "    <tr>\n",
       "      <th>0</th>\n",
       "      <td>Prezzo</td>\n",
       "      <td>Olives</td>\n",
       "      <td>Pizza</td>\n",
       "      <td>Cheesecake</td>\n",
       "    </tr>\n",
       "    <tr>\n",
       "      <th>1</th>\n",
       "      <td>Pho</td>\n",
       "      <td>Spring Rolls</td>\n",
       "      <td>Pad Tai Noodles</td>\n",
       "      <td>Sorbet</td>\n",
       "    </tr>\n",
       "    <tr>\n",
       "      <th>2</th>\n",
       "      <td>Nandos</td>\n",
       "      <td>Corn in the cob</td>\n",
       "      <td>Chicken wrap</td>\n",
       "      <td>Chocolate cake</td>\n",
       "    </tr>\n",
       "  </tbody>\n",
       "</table>\n",
       "</div>"
      ],
      "text/plain": [
       "  Restuarant          Starter             Main         Dessert\n",
       "0     Prezzo           Olives            Pizza      Cheesecake\n",
       "1        Pho     Spring Rolls  Pad Tai Noodles          Sorbet\n",
       "2     Nandos  Corn in the cob     Chicken wrap  Chocolate cake"
      ]
     },
     "execution_count": 7,
     "metadata": {},
     "output_type": "execute_result"
    }
   ],
   "source": [
    "#Recap on session 3\n",
    "restaurants_dict = [{'Restuarant':'Prezzo',\n",
    "                  'Starter':'Olives',\n",
    "                  'Main':'Pizza',\n",
    "                  'Dessert':'Cheesecake'},\n",
    "                  {'Restuarant':'Pho',\n",
    "                  'Starter':'Spring Rolls',\n",
    "                  'Main':'Pad Tai Noodles',\n",
    "                  'Dessert':'Sorbet'},\n",
    "                  {'Restuarant':'Nandos',\n",
    "                  'Starter':'Corn in the cob',\n",
    "                  'Main':'Chicken wrap',\n",
    "                  'Dessert':'Chocolate cake'},\n",
    "]\n",
    "\n",
    "restaurants_df = pd.DataFrame(restaurants_dict)\n",
    "restaurants_df\n"
   ]
  },
  {
   "cell_type": "code",
   "execution_count": 15,
   "metadata": {},
   "outputs": [
    {
     "name": "stdout",
     "output_type": "stream",
     "text": [
      "1\n",
      "2\n",
      "3\n",
      "4\n",
      "5\n",
      "[1, 2, 3, 4, 5]\n"
     ]
    }
   ],
   "source": [
    "#Start of session 4 (first session in module 2)\n",
    "\n",
    "numbers = [1, 2, 3, 4, 5]\n",
    "\n",
    "#every indent is included within the loop\n",
    "for i in numbers:\n",
    "    print(i)\n",
    "print(numbers)"
   ]
  },
  {
   "cell_type": "code",
   "execution_count": 21,
   "metadata": {},
   "outputs": [
    {
     "name": "stdout",
     "output_type": "stream",
     "text": [
      "Homer is the Dad\n",
      "Marge is the Mum\n",
      "Maggie is the Baby\n"
     ]
    }
   ],
   "source": [
    "simpsons_dict = {'Dad':'Homer',\n",
    "            'Mum': 'Marge',\n",
    "            'Baby': 'Maggie'}\n",
    "\n",
    "for k, v in simpsons_dict.items():\n",
    "    print(f'{v} is the {k}')"
   ]
  },
  {
   "cell_type": "code",
   "execution_count": 25,
   "metadata": {},
   "outputs": [
    {
     "name": "stdout",
     "output_type": "stream",
     "text": [
      "Food 1 is Bananas\n",
      "Food 2 is Bread\n",
      "Food 3 is Marmite\n"
     ]
    }
   ],
   "source": [
    "foods_dict = {'Food 1': 'Bananas',\n",
    "              'Food 2': 'Bread',\n",
    "              'Food 3': 'Marmite'}\n",
    "\n",
    "for item, food in foods_dict.items():\n",
    "    print(f'{item} is {food}')"
   ]
  },
  {
   "cell_type": "code",
   "execution_count": 34,
   "metadata": {},
   "outputs": [
    {
     "name": "stdout",
     "output_type": "stream",
     "text": [
      "['Barney is a Stonemason', 'Ned is a Stonemason', 'Krusty is a Stonemason', 'Sideshow Bob is a Stonemason']\n"
     ]
    }
   ],
   "source": [
    "side_characters = ['Barney', 'Ned', 'Krusty', 'Sideshow Bob']\n",
    "#print(side_characters[1:3])\n",
    "\n",
    "for i, name in enumerate(side_characters):\n",
    "    side_characters[i] = f'{name} is a Stonemason'\n",
    "\n",
    "print(side_characters)"
   ]
  },
  {
   "cell_type": "code",
   "execution_count": 41,
   "metadata": {},
   "outputs": [
    {
     "data": {
      "text/html": [
       "<div>\n",
       "<style scoped>\n",
       "    .dataframe tbody tr th:only-of-type {\n",
       "        vertical-align: middle;\n",
       "    }\n",
       "\n",
       "    .dataframe tbody tr th {\n",
       "        vertical-align: top;\n",
       "    }\n",
       "\n",
       "    .dataframe thead th {\n",
       "        text-align: right;\n",
       "    }\n",
       "</style>\n",
       "<table border=\"1\" class=\"dataframe\">\n",
       "  <thead>\n",
       "    <tr style=\"text-align: right;\">\n",
       "      <th></th>\n",
       "      <th>col 1</th>\n",
       "      <th>col 2</th>\n",
       "      <th>originator</th>\n",
       "    </tr>\n",
       "  </thead>\n",
       "  <tbody>\n",
       "    <tr>\n",
       "      <th>0</th>\n",
       "      <td>foo</td>\n",
       "      <td>1</td>\n",
       "      <td>Dataframe 1</td>\n",
       "    </tr>\n",
       "    <tr>\n",
       "      <th>1</th>\n",
       "      <td>bar</td>\n",
       "      <td>2</td>\n",
       "      <td>Dataframe 1</td>\n",
       "    </tr>\n",
       "    <tr>\n",
       "      <th>2</th>\n",
       "      <td>baz</td>\n",
       "      <td>3</td>\n",
       "      <td>Dataframe 1</td>\n",
       "    </tr>\n",
       "  </tbody>\n",
       "</table>\n",
       "</div>"
      ],
      "text/plain": [
       "  col 1  col 2   originator\n",
       "0   foo      1  Dataframe 1\n",
       "1   bar      2  Dataframe 1\n",
       "2   baz      3  Dataframe 1"
      ]
     },
     "execution_count": 41,
     "metadata": {},
     "output_type": "execute_result"
    }
   ],
   "source": [
    "import pandas as pd\n",
    "\n",
    "df_1 = pd.DataFrame({'col 1':['foo', 'bar', 'baz'],\n",
    "                     'col 2':[1, 2, 3]})\n",
    "\n",
    "df_2 = pd.DataFrame({'col 1':['Thing 1', 'Thing 2', 'Thing 3'],\n",
    "                     'col 2':['Green', 'Eggs', 'Ham']})\n",
    "                              \n",
    "df_dict = {'Dataframe 1':df_1,\n",
    "          'Dataframe 2':df_2}\n",
    "\n",
    "for k, v in df_dict.items():\n",
    "    v['originator'] = k\n",
    "\n",
    "df_dict['Dataframe 1']"
   ]
  },
  {
   "cell_type": "code",
   "execution_count": 46,
   "metadata": {},
   "outputs": [
    {
     "data": {
      "text/html": [
       "<div>\n",
       "<style scoped>\n",
       "    .dataframe tbody tr th:only-of-type {\n",
       "        vertical-align: middle;\n",
       "    }\n",
       "\n",
       "    .dataframe tbody tr th {\n",
       "        vertical-align: top;\n",
       "    }\n",
       "\n",
       "    .dataframe thead th {\n",
       "        text-align: right;\n",
       "    }\n",
       "</style>\n",
       "<table border=\"1\" class=\"dataframe\">\n",
       "  <thead>\n",
       "    <tr style=\"text-align: right;\">\n",
       "      <th></th>\n",
       "      <th>Name</th>\n",
       "      <th>Job Title</th>\n",
       "      <th>Originator</th>\n",
       "    </tr>\n",
       "  </thead>\n",
       "  <tbody>\n",
       "    <tr>\n",
       "      <th>0</th>\n",
       "      <td>Krusty</td>\n",
       "      <td>TV Clown</td>\n",
       "      <td>Dataframe 2</td>\n",
       "    </tr>\n",
       "    <tr>\n",
       "      <th>1</th>\n",
       "      <td>Homer</td>\n",
       "      <td>Nuclear Safety Engineer</td>\n",
       "      <td>Dataframe 2</td>\n",
       "    </tr>\n",
       "    <tr>\n",
       "      <th>2</th>\n",
       "      <td>Moe</td>\n",
       "      <td>Bartender</td>\n",
       "      <td>Dataframe 2</td>\n",
       "    </tr>\n",
       "  </tbody>\n",
       "</table>\n",
       "</div>"
      ],
      "text/plain": [
       "     Name                Job Title   Originator\n",
       "0  Krusty                 TV Clown  Dataframe 2\n",
       "1   Homer  Nuclear Safety Engineer  Dataframe 2\n",
       "2     Moe                Bartender  Dataframe 2"
      ]
     },
     "execution_count": 46,
     "metadata": {},
     "output_type": "execute_result"
    }
   ],
   "source": [
    "company_1 = pd.DataFrame({'Name':['Jon', 'Paul', 'Emily'],\n",
    "                     'Job Title':['Project Manager', 'Senior Performance Manager', 'Data Analyst']})\n",
    "\n",
    "company_2 = pd.DataFrame({'Name':['Krusty', 'Homer', 'Moe'],\n",
    "                     'Job Title':['TV Clown', 'Nuclear Safety Engineer', 'Bartender']})\n",
    "                              \n",
    "company_df_dict = {'Dataframe 1':company_1,\n",
    "          'Dataframe 2':company_2}\n",
    "\n",
    "for k, v in company_df_dict.items():\n",
    "    v['Originator'] = k\n",
    "\n",
    "company_df_dict['Dataframe 2']"
   ]
  },
  {
   "cell_type": "code",
   "execution_count": 50,
   "metadata": {},
   "outputs": [
    {
     "name": "stdout",
     "output_type": "stream",
     "text": [
      "  child_id  age_first_contact gender nhs_numbers\n",
      "0  child 1                  6      m        nhs1\n",
      "1  child 2                 10      m        nhs2\n",
      "2  child 3                 12      m        nhs3\n",
      "3  child 4                 13      f        nhs4\n"
     ]
    }
   ],
   "source": [
    "child_identifiers = pd.DataFrame({'child_id':['child 1', 'child 2', 'child 3', 'child 4'],\n",
    "              'age_first_contact':[6, 10, 12, 13],\n",
    "              'gender':['m', 'm', 'm', 'f']})\n",
    "\n",
    "#print(child_identifiers)\n",
    "\n",
    "nhs_nums = pd.DataFrame({'child_id':['child 1', 'child 2', 'child 3', 'child 4'],\n",
    "              'nhs_numbers':['nhs1', 'nhs2', 'nhs3', 'nhs4']})\n",
    "\n",
    "#print(nhs_nums)\n",
    "\n",
    "ident_nhs = child_identifiers.merge(nhs_nums, how='left', left_on='child_id', right_on='child_id')\n",
    "\n",
    "# ident_nhs = child_identifiers.merge(nhs_nums, how='left', on='child_id')\n",
    "\n",
    "print(ident_nhs)"
   ]
  },
  {
   "cell_type": "code",
   "execution_count": 56,
   "metadata": {},
   "outputs": [
    {
     "name": "stdout",
     "output_type": "stream",
     "text": [
      "  child_id  age_first_contact gender nhs_numbers cp_start_date\n",
      "0  child 1                  6      m        nhs1    01/01/2023\n",
      "1  child 2                 10      m        nhs2    no cp plan\n",
      "2  child 3                 12      m        nhs3    no cp plan\n",
      "3  child 4                 13      f        nhs4    01/01/2000\n",
      "  child_id  age_first_contact gender nhs_numbers cp_start_date\n",
      "0  child 1                  6      m        nhs1    01/01/2023\n",
      "1  child 4                 13      f        nhs4    01/01/2000\n"
     ]
    }
   ],
   "source": [
    "cp_plans = pd.DataFrame({'child_id':['child 1', 'child 4'],\n",
    "                            'cp_start_date':['01/01/2023', '01/01/2000']})\n",
    "\n",
    "cp_plans\n",
    "\n",
    "df_left = ident_nhs.merge(cp_plans, how='left', on='child_id')\n",
    "df_left['cp_start_date'] = df_left['cp_start_date'].fillna('no cp plan')\n",
    "\n",
    "df_inner = ident_nhs.merge(cp_plans, how='inner', on='child_id')\n",
    "\n",
    "print(df_left)\n",
    "print(df_inner)"
   ]
  },
  {
   "cell_type": "code",
   "execution_count": 61,
   "metadata": {},
   "outputs": [
    {
     "data": {
      "text/html": [
       "<div>\n",
       "<style scoped>\n",
       "    .dataframe tbody tr th:only-of-type {\n",
       "        vertical-align: middle;\n",
       "    }\n",
       "\n",
       "    .dataframe tbody tr th {\n",
       "        vertical-align: top;\n",
       "    }\n",
       "\n",
       "    .dataframe thead th {\n",
       "        text-align: right;\n",
       "    }\n",
       "</style>\n",
       "<table border=\"1\" class=\"dataframe\">\n",
       "  <thead>\n",
       "    <tr style=\"text-align: right;\">\n",
       "      <th></th>\n",
       "      <th>Name</th>\n",
       "      <th>Job Title</th>\n",
       "      <th>staff_id</th>\n",
       "    </tr>\n",
       "  </thead>\n",
       "  <tbody>\n",
       "    <tr>\n",
       "      <th>0</th>\n",
       "      <td>Krusty</td>\n",
       "      <td>TV Clown</td>\n",
       "      <td>0001</td>\n",
       "    </tr>\n",
       "    <tr>\n",
       "      <th>1</th>\n",
       "      <td>Homer</td>\n",
       "      <td>Nuclear Safety Engineer</td>\n",
       "      <td>0002</td>\n",
       "    </tr>\n",
       "    <tr>\n",
       "      <th>2</th>\n",
       "      <td>Moe</td>\n",
       "      <td>Bartender</td>\n",
       "      <td>0003</td>\n",
       "    </tr>\n",
       "  </tbody>\n",
       "</table>\n",
       "</div>"
      ],
      "text/plain": [
       "     Name                Job Title staff_id\n",
       "0  Krusty                 TV Clown     0001\n",
       "1   Homer  Nuclear Safety Engineer     0002\n",
       "2     Moe                Bartender     0003"
      ]
     },
     "execution_count": 61,
     "metadata": {},
     "output_type": "execute_result"
    }
   ],
   "source": [
    "company_2 = pd.DataFrame({'Name':['Krusty', 'Homer', 'Moe'],\n",
    "                     'Job Title':['TV Clown', 'Nuclear Safety Engineer', 'Bartender']})\n",
    "\n",
    "staff_id = pd.DataFrame({'Name':['Krusty', 'Homer', 'Moe'],\n",
    "                     'staff_id':['0001', '0002', '0003']})\n",
    "                                 \n",
    "company_2_id = company_2.merge(staff_id, how='left', on='Name')\n",
    "\n",
    "company_2_id"
   ]
  }
 ],
 "metadata": {
  "kernelspec": {
   "display_name": "Python 3",
   "language": "python",
   "name": "python3"
  },
  "language_info": {
   "codemirror_mode": {
    "name": "ipython",
    "version": 3
   },
   "file_extension": ".py",
   "mimetype": "text/x-python",
   "name": "python",
   "nbconvert_exporter": "python",
   "pygments_lexer": "ipython3",
   "version": "3.10.8"
  }
 },
 "nbformat": 4,
 "nbformat_minor": 2
}

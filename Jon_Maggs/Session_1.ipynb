{
 "cells": [
  {
   "cell_type": "code",
   "execution_count": 1,
   "metadata": {},
   "outputs": [
    {
     "name": "stdout",
     "output_type": "stream",
     "text": [
      "Hello World\n"
     ]
    }
   ],
   "source": [
    "phrase = \"Hello World\"\n",
    "print(phrase) #String"
   ]
  },
  {
   "cell_type": "code",
   "execution_count": 6,
   "metadata": {},
   "outputs": [
    {
     "name": "stdout",
     "output_type": "stream",
     "text": [
      "15\n",
      "2.0\n",
      "<class 'float'>\n",
      "<class 'float'>\n"
     ]
    }
   ],
   "source": [
    "x = 5 #Integer\n",
    "y = 10\n",
    "z = x + y\n",
    "print(z)\n",
    "z = y / x #Divide\n",
    "print(z) #Float\n",
    "\n",
    "print(type(z))\n",
    "\n",
    "j = type(z)\n",
    "print(j)"
   ]
  },
  {
   "cell_type": "code",
   "execution_count": 14,
   "metadata": {},
   "outputs": [
    {
     "name": "stdout",
     "output_type": "stream",
     "text": [
      "6\n",
      "12.56\n"
     ]
    }
   ],
   "source": [
    "a = 2\n",
    "b = 3\n",
    "c = a * b\n",
    "print(c)\n",
    "\n",
    "r = 2\n",
    "pi = 3.14\n",
    "area = pi * (r**2)\n",
    "print(area)"
   ]
  },
  {
   "cell_type": "code",
   "execution_count": 23,
   "metadata": {},
   "outputs": [
    {
     "name": "stdout",
     "output_type": "stream",
     "text": [
      "My name is Jon and my hobby is reading\n"
     ]
    }
   ],
   "source": [
    "name = \"Jon\"\n",
    "hobby = \"reading\"\n",
    "long_string = \"My name is \" + name + \" and my hobby is \" + hobby\n",
    "#print(long_string)\n",
    "\n",
    "phrase = f\"My name is {name} and my hobby is {hobby}\"\n",
    "print(phrase)"
   ]
  },
  {
   "cell_type": "code",
   "execution_count": 28,
   "metadata": {},
   "outputs": [
    {
     "name": "stdout",
     "output_type": "stream",
     "text": [
      "My name is Jon and I am a Performance & Development Manager\n"
     ]
    }
   ],
   "source": [
    "name = \"Jon\"\n",
    "job_title = \"Performance & Development Manager\"\n",
    "phrase1 = f\"My name is {name} and I am a {job_title}\"\n",
    "print(phrase1)"
   ]
  },
  {
   "cell_type": "code",
   "execution_count": 34,
   "metadata": {},
   "outputs": [
    {
     "name": "stdout",
     "output_type": "stream",
     "text": [
      "59\n",
      "name is Jon and I\n",
      "here_is_a_file\n"
     ]
    }
   ],
   "source": [
    "print(len(phrase1))\n",
    "\n",
    "string_slice = phrase1[3:20]\n",
    "print(string_slice)\n",
    "\n",
    "filename = \"here_is_a_file.csv\"\n",
    "filename = filename[0:14] #- starts couting from the other end\n",
    "print(filename)"
   ]
  },
  {
   "cell_type": "code",
   "execution_count": 45,
   "metadata": {},
   "outputs": [
    {
     "name": "stdout",
     "output_type": "stream",
     "text": [
      "dog\n",
      "cat \n",
      "racoon\n"
     ]
    }
   ],
   "source": [
    "slice_this_phrase = \"dog cat racoon\"\n",
    "slice_this_phrase_Dog = slice_this_phrase[0:3]\n",
    "slice_this_phrase_Cat = slice_this_phrase[4:8]\n",
    "slice_this_phrase_Racoon = slice_this_phrase[-6:]\n",
    "\n",
    "print(slice_this_phrase_Dog[0:3])\n",
    "print(slice_this_phrase_Cat)\n",
    "print(slice_this_phrase_Racoon)"
   ]
  },
  {
   "cell_type": "code",
   "execution_count": 49,
   "metadata": {},
   "outputs": [
    {
     "name": "stdout",
     "output_type": "stream",
     "text": [
      "[1, 2, 3, 5, 10]\n"
     ]
    }
   ],
   "source": [
    "list_1 = [1, 2, 3, x, y]\n",
    "print(list_1)"
   ]
  },
  {
   "cell_type": "code",
   "execution_count": 58,
   "metadata": {},
   "outputs": [
    {
     "name": "stdout",
     "output_type": "stream",
     "text": [
      "My colours are: ['red', 'blue', 'green', 'yellow']\n"
     ]
    }
   ],
   "source": [
    "favourite_colour = \"yellow\"\n",
    "colours_list = [\"red\", \"blue\", \"green\",]\n",
    "colours_list.append(favourite_colour)\n",
    "print(f\"My colours are: {colours_list}\")\n"
   ]
  }
 ],
 "metadata": {
  "kernelspec": {
   "display_name": "Python 3",
   "language": "python",
   "name": "python3"
  },
  "language_info": {
   "codemirror_mode": {
    "name": "ipython",
    "version": 3
   },
   "file_extension": ".py",
   "mimetype": "text/x-python",
   "name": "python",
   "nbconvert_exporter": "python",
   "pygments_lexer": "ipython3",
   "version": "3.10.8"
  }
 },
 "nbformat": 4,
 "nbformat_minor": 2
}

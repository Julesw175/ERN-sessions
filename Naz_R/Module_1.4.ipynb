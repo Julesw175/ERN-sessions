{
 "cells": [
  {
   "cell_type": "code",
   "execution_count": 4,
   "metadata": {},
   "outputs": [
    {
     "data": {
      "text/html": [
       "<div>\n",
       "<style scoped>\n",
       "    .dataframe tbody tr th:only-of-type {\n",
       "        vertical-align: middle;\n",
       "    }\n",
       "\n",
       "    .dataframe tbody tr th {\n",
       "        vertical-align: top;\n",
       "    }\n",
       "\n",
       "    .dataframe thead th {\n",
       "        text-align: right;\n",
       "    }\n",
       "</style>\n",
       "<table border=\"1\" class=\"dataframe\">\n",
       "  <thead>\n",
       "    <tr style=\"text-align: right;\">\n",
       "      <th></th>\n",
       "      <th>here's a column</th>\n",
       "      <th>col 2</th>\n",
       "      <th>col z</th>\n",
       "    </tr>\n",
       "  </thead>\n",
       "  <tbody>\n",
       "    <tr>\n",
       "      <th>0</th>\n",
       "      <td>val 1</td>\n",
       "      <td>4</td>\n",
       "      <td>foo</td>\n",
       "    </tr>\n",
       "    <tr>\n",
       "      <th>1</th>\n",
       "      <td>val 2</td>\n",
       "      <td>5</td>\n",
       "      <td>bar</td>\n",
       "    </tr>\n",
       "    <tr>\n",
       "      <th>2</th>\n",
       "      <td>val 3</td>\n",
       "      <td>6</td>\n",
       "      <td>baz</td>\n",
       "    </tr>\n",
       "  </tbody>\n",
       "</table>\n",
       "</div>"
      ],
      "text/plain": [
       "  here's a column  col 2 col z\n",
       "0           val 1      4   foo\n",
       "1           val 2      5   bar\n",
       "2           val 3      6   baz"
      ]
     },
     "execution_count": 4,
     "metadata": {},
     "output_type": "execute_result"
    }
   ],
   "source": [
    "import pandas as pd\n",
    "\n",
    "dict_1 = {\"here's a column\":['val 1', 'val 2', 'val 3'],\n",
    "          \"col 2\": [4,5,6],\n",
    "          \"col z\": ['foo', 'bar', 'baz']}\n",
    "\n",
    "df_1 = pd.DataFrame(dict_1)\n",
    "df_1"
   ]
  },
  {
   "cell_type": "code",
   "execution_count": 5,
   "metadata": {},
   "outputs": [
    {
     "data": {
      "text/html": [
       "<div>\n",
       "<style scoped>\n",
       "    .dataframe tbody tr th:only-of-type {\n",
       "        vertical-align: middle;\n",
       "    }\n",
       "\n",
       "    .dataframe tbody tr th {\n",
       "        vertical-align: top;\n",
       "    }\n",
       "\n",
       "    .dataframe thead th {\n",
       "        text-align: right;\n",
       "    }\n",
       "</style>\n",
       "<table border=\"1\" class=\"dataframe\">\n",
       "  <thead>\n",
       "    <tr style=\"text-align: right;\">\n",
       "      <th></th>\n",
       "      <th>letter</th>\n",
       "      <th>word</th>\n",
       "      <th>number</th>\n",
       "    </tr>\n",
       "  </thead>\n",
       "  <tbody>\n",
       "    <tr>\n",
       "      <th>0</th>\n",
       "      <td>A</td>\n",
       "      <td>foo</td>\n",
       "      <td>1</td>\n",
       "    </tr>\n",
       "    <tr>\n",
       "      <th>1</th>\n",
       "      <td>B</td>\n",
       "      <td>bar</td>\n",
       "      <td>2</td>\n",
       "    </tr>\n",
       "    <tr>\n",
       "      <th>2</th>\n",
       "      <td>C</td>\n",
       "      <td>baz</td>\n",
       "      <td>3</td>\n",
       "    </tr>\n",
       "  </tbody>\n",
       "</table>\n",
       "</div>"
      ],
      "text/plain": [
       "  letter word  number\n",
       "0      A  foo       1\n",
       "1      B  bar       2\n",
       "2      C  baz       3"
      ]
     },
     "execution_count": 5,
     "metadata": {},
     "output_type": "execute_result"
    }
   ],
   "source": [
    "list_of_dicts = [{'letter':'A',\n",
    "                  'word':'foo',\n",
    "                  'number':1},\n",
    "                  {'letter':'B',\n",
    "                  'word':'bar',\n",
    "                  'number':2},\n",
    "                  {'letter':'C',\n",
    "                  'word':'baz',\n",
    "                  'number':3}]\n",
    "\n",
    "df_2 = pd.DataFrame (list_of_dicts)\n",
    "df_2"
   ]
  },
  {
   "cell_type": "code",
   "execution_count": 20,
   "metadata": {},
   "outputs": [
    {
     "data": {
      "text/html": [
       "<div>\n",
       "<style scoped>\n",
       "    .dataframe tbody tr th:only-of-type {\n",
       "        vertical-align: middle;\n",
       "    }\n",
       "\n",
       "    .dataframe tbody tr th {\n",
       "        vertical-align: top;\n",
       "    }\n",
       "\n",
       "    .dataframe thead th {\n",
       "        text-align: right;\n",
       "    }\n",
       "</style>\n",
       "<table border=\"1\" class=\"dataframe\">\n",
       "  <thead>\n",
       "    <tr style=\"text-align: right;\">\n",
       "      <th></th>\n",
       "      <th>Name</th>\n",
       "      <th>Job title</th>\n",
       "      <th>Salary</th>\n",
       "    </tr>\n",
       "  </thead>\n",
       "  <tbody>\n",
       "    <tr>\n",
       "      <th>0</th>\n",
       "      <td>Justin Bieber</td>\n",
       "      <td>Manager</td>\n",
       "      <td>50000</td>\n",
       "    </tr>\n",
       "    <tr>\n",
       "      <th>1</th>\n",
       "      <td>Jeon Jungkook</td>\n",
       "      <td>CEO</td>\n",
       "      <td>100000</td>\n",
       "    </tr>\n",
       "    <tr>\n",
       "      <th>2</th>\n",
       "      <td>Kim Namjoon</td>\n",
       "      <td>Shareholder</td>\n",
       "      <td>75000</td>\n",
       "    </tr>\n",
       "  </tbody>\n",
       "</table>\n",
       "</div>"
      ],
      "text/plain": [
       "            Name    Job title  Salary\n",
       "0  Justin Bieber      Manager   50000\n",
       "1  Jeon Jungkook          CEO  100000\n",
       "2    Kim Namjoon  Shareholder   75000"
      ]
     },
     "execution_count": 20,
     "metadata": {},
     "output_type": "execute_result"
    }
   ],
   "source": [
    "company = [{'Name':'Justin Bieber',\n",
    "                  'Job title':'Manager',\n",
    "                  'Salary':50000},\n",
    "                  {'Name':'Jeon Jungkook',\n",
    "                  'Job title':'CEO',\n",
    "                  'Salary':100000},\n",
    "                  {'Name':'Kim Namjoon',\n",
    "                  'Job title':'Shareholder',\n",
    "                  'Salary':75000}]\n",
    "\n",
    "df_3 = pd.DataFrame (company)\n",
    "df_3"
   ]
  },
  {
   "cell_type": "code",
   "execution_count": 21,
   "metadata": {},
   "outputs": [
    {
     "name": "stdout",
     "output_type": "stream",
     "text": [
      "<bound method DataFrame.info of             Name    Job title  Salary\n",
      "0  Justin Bieber      Manager   50000\n",
      "1  Jeon Jungkook          CEO  100000\n",
      "2    Kim Namjoon  Shareholder   75000>\n"
     ]
    }
   ],
   "source": [
    "print (df_3.info)"
   ]
  },
  {
   "cell_type": "code",
   "execution_count": 24,
   "metadata": {},
   "outputs": [
    {
     "name": "stdout",
     "output_type": "stream",
     "text": [
      "225000\n"
     ]
    }
   ],
   "source": [
    "df_3 ['Salary']\n",
    "\n",
    "print (df_3 ['Salary'].sum())"
   ]
  },
  {
   "cell_type": "code",
   "execution_count": 31,
   "metadata": {},
   "outputs": [
    {
     "data": {
      "text/html": [
       "<div>\n",
       "<style scoped>\n",
       "    .dataframe tbody tr th:only-of-type {\n",
       "        vertical-align: middle;\n",
       "    }\n",
       "\n",
       "    .dataframe tbody tr th {\n",
       "        vertical-align: top;\n",
       "    }\n",
       "\n",
       "    .dataframe thead th {\n",
       "        text-align: right;\n",
       "    }\n",
       "</style>\n",
       "<table border=\"1\" class=\"dataframe\">\n",
       "  <thead>\n",
       "    <tr style=\"text-align: right;\">\n",
       "      <th></th>\n",
       "      <th>Name</th>\n",
       "      <th>Job title</th>\n",
       "      <th>Salary</th>\n",
       "      <th>Date started</th>\n",
       "      <th>Pay after bonus</th>\n",
       "    </tr>\n",
       "  </thead>\n",
       "  <tbody>\n",
       "    <tr>\n",
       "      <th>0</th>\n",
       "      <td>Justin Bieber</td>\n",
       "      <td>Manager</td>\n",
       "      <td>53350.0</td>\n",
       "      <td>23/10/2000</td>\n",
       "      <td>63350.0</td>\n",
       "    </tr>\n",
       "    <tr>\n",
       "      <th>1</th>\n",
       "      <td>Jeon Jungkook</td>\n",
       "      <td>CEO</td>\n",
       "      <td>106700.0</td>\n",
       "      <td>01/01/2000</td>\n",
       "      <td>116700.0</td>\n",
       "    </tr>\n",
       "    <tr>\n",
       "      <th>2</th>\n",
       "      <td>Kim Namjoon</td>\n",
       "      <td>Shareholder</td>\n",
       "      <td>80025.0</td>\n",
       "      <td>01/01/2023</td>\n",
       "      <td>90025.0</td>\n",
       "    </tr>\n",
       "  </tbody>\n",
       "</table>\n",
       "</div>"
      ],
      "text/plain": [
       "            Name    Job title    Salary Date started  Pay after bonus\n",
       "0  Justin Bieber      Manager   53350.0   23/10/2000          63350.0\n",
       "1  Jeon Jungkook          CEO  106700.0   01/01/2000         116700.0\n",
       "2    Kim Namjoon  Shareholder   80025.0   01/01/2023          90025.0"
      ]
     },
     "execution_count": 31,
     "metadata": {},
     "output_type": "execute_result"
    }
   ],
   "source": [
    "df_3 ['Date started'] = ['23/10/2000', '01/01/2000', '01/01/2023']\n",
    "df_3"
   ]
  },
  {
   "cell_type": "code",
   "execution_count": 28,
   "metadata": {},
   "outputs": [
    {
     "data": {
      "text/html": [
       "<div>\n",
       "<style scoped>\n",
       "    .dataframe tbody tr th:only-of-type {\n",
       "        vertical-align: middle;\n",
       "    }\n",
       "\n",
       "    .dataframe tbody tr th {\n",
       "        vertical-align: top;\n",
       "    }\n",
       "\n",
       "    .dataframe thead th {\n",
       "        text-align: right;\n",
       "    }\n",
       "</style>\n",
       "<table border=\"1\" class=\"dataframe\">\n",
       "  <thead>\n",
       "    <tr style=\"text-align: right;\">\n",
       "      <th></th>\n",
       "      <th>Name</th>\n",
       "      <th>Job title</th>\n",
       "      <th>Salary</th>\n",
       "      <th>Date started</th>\n",
       "    </tr>\n",
       "  </thead>\n",
       "  <tbody>\n",
       "    <tr>\n",
       "      <th>0</th>\n",
       "      <td>Justin Bieber</td>\n",
       "      <td>Manager</td>\n",
       "      <td>53350.0</td>\n",
       "      <td>23/10/2000</td>\n",
       "    </tr>\n",
       "    <tr>\n",
       "      <th>1</th>\n",
       "      <td>Jeon Jungkook</td>\n",
       "      <td>CEO</td>\n",
       "      <td>106700.0</td>\n",
       "      <td>01/01/2000</td>\n",
       "    </tr>\n",
       "    <tr>\n",
       "      <th>2</th>\n",
       "      <td>Kim Namjoon</td>\n",
       "      <td>Shareholder</td>\n",
       "      <td>80025.0</td>\n",
       "      <td>01/01/2023</td>\n",
       "    </tr>\n",
       "  </tbody>\n",
       "</table>\n",
       "</div>"
      ],
      "text/plain": [
       "            Name    Job title    Salary Date started\n",
       "0  Justin Bieber      Manager   53350.0   23/10/2000\n",
       "1  Jeon Jungkook          CEO  106700.0   01/01/2000\n",
       "2    Kim Namjoon  Shareholder   80025.0   01/01/2023"
      ]
     },
     "execution_count": 28,
     "metadata": {},
     "output_type": "execute_result"
    }
   ],
   "source": [
    "inflation = 1.067\n",
    "\n",
    "df_3['Salary'] = df_3['Salary'] * inflation\n",
    "\n",
    "df_3"
   ]
  },
  {
   "cell_type": "code",
   "execution_count": 29,
   "metadata": {},
   "outputs": [
    {
     "data": {
      "text/html": [
       "<div>\n",
       "<style scoped>\n",
       "    .dataframe tbody tr th:only-of-type {\n",
       "        vertical-align: middle;\n",
       "    }\n",
       "\n",
       "    .dataframe tbody tr th {\n",
       "        vertical-align: top;\n",
       "    }\n",
       "\n",
       "    .dataframe thead th {\n",
       "        text-align: right;\n",
       "    }\n",
       "</style>\n",
       "<table border=\"1\" class=\"dataframe\">\n",
       "  <thead>\n",
       "    <tr style=\"text-align: right;\">\n",
       "      <th></th>\n",
       "      <th>Name</th>\n",
       "      <th>Job title</th>\n",
       "      <th>Salary</th>\n",
       "      <th>Date started</th>\n",
       "      <th>Pay after bonus</th>\n",
       "    </tr>\n",
       "  </thead>\n",
       "  <tbody>\n",
       "    <tr>\n",
       "      <th>0</th>\n",
       "      <td>Justin Bieber</td>\n",
       "      <td>Manager</td>\n",
       "      <td>53350.0</td>\n",
       "      <td>23/10/2000</td>\n",
       "      <td>63350.0</td>\n",
       "    </tr>\n",
       "    <tr>\n",
       "      <th>1</th>\n",
       "      <td>Jeon Jungkook</td>\n",
       "      <td>CEO</td>\n",
       "      <td>106700.0</td>\n",
       "      <td>01/01/2000</td>\n",
       "      <td>116700.0</td>\n",
       "    </tr>\n",
       "    <tr>\n",
       "      <th>2</th>\n",
       "      <td>Kim Namjoon</td>\n",
       "      <td>Shareholder</td>\n",
       "      <td>80025.0</td>\n",
       "      <td>01/01/2023</td>\n",
       "      <td>90025.0</td>\n",
       "    </tr>\n",
       "  </tbody>\n",
       "</table>\n",
       "</div>"
      ],
      "text/plain": [
       "            Name    Job title    Salary Date started  Pay after bonus\n",
       "0  Justin Bieber      Manager   53350.0   23/10/2000          63350.0\n",
       "1  Jeon Jungkook          CEO  106700.0   01/01/2000         116700.0\n",
       "2    Kim Namjoon  Shareholder   80025.0   01/01/2023          90025.0"
      ]
     },
     "execution_count": 29,
     "metadata": {},
     "output_type": "execute_result"
    }
   ],
   "source": [
    "df_3 ['Pay after bonus'] = df_3['Salary'] + 10000\n",
    "df_3"
   ]
  },
  {
   "cell_type": "code",
   "execution_count": 41,
   "metadata": {},
   "outputs": [
    {
     "ename": "SyntaxError",
     "evalue": "invalid syntax (3793734331.py, line 4)",
     "output_type": "error",
     "traceback": [
      "\u001b[0;36m  Cell \u001b[0;32mIn[41], line 4\u001b[0;36m\u001b[0m\n\u001b[0;31m    df_3['Birthday'] = pd.to_datetime('01-01-1995', format=%d/%m/%y)\u001b[0m\n\u001b[0m                                                           ^\u001b[0m\n\u001b[0;31mSyntaxError\u001b[0m\u001b[0;31m:\u001b[0m invalid syntax\n"
     ]
    }
   ],
   "source": [
    "df_3['Birthday'] = ['01-01-1995', '02-02-1996', '03-03-1997']\n",
    "df_3\n",
    "\n",
    "df_3['Birthday'] = pd.to_datetime('01-01-1995', format=%d/%m/%y)"
   ]
  }
 ],
 "metadata": {
  "kernelspec": {
   "display_name": "Python 3",
   "language": "python",
   "name": "python3"
  },
  "language_info": {
   "codemirror_mode": {
    "name": "ipython",
    "version": 3
   },
   "file_extension": ".py",
   "mimetype": "text/x-python",
   "name": "python",
   "nbconvert_exporter": "python",
   "pygments_lexer": "ipython3",
   "version": "3.10.8"
  }
 },
 "nbformat": 4,
 "nbformat_minor": 2
}

{
 "cells": [
  {
   "cell_type": "code",
   "execution_count": 7,
   "metadata": {},
   "outputs": [
    {
     "name": "stdout",
     "output_type": "stream",
     "text": [
      "['cheese', 'potato', 'fish', 'carrot']\n",
      "['cheese', 'potato', 'fish', 'carrot', 'lasagne', 'chicken']\n",
      "['cheese', 'potato', 'fish', 'carrot', 'chicken']\n"
     ]
    }
   ],
   "source": [
    "food_list = ['cheese', 'potato', 'fish', 'carrot']\n",
    "print (food_list)\n",
    "more_food = ['lasagne', 'chicken']\n",
    "food_list.extend(more_food)\n",
    "print (food_list)\n",
    "food_list.remove('lasagne')\n",
    "print (food_list)"
   ]
  },
  {
   "cell_type": "code",
   "execution_count": 8,
   "metadata": {},
   "outputs": [
    {
     "name": "stdout",
     "output_type": "stream",
     "text": [
      "['cheese', 'potato', 'fish', 'carrot']\n"
     ]
    }
   ],
   "source": [
    "food_list = ['cheese', 'potato', 'fish', 'carrot']\n",
    "food_list_sorted = sorted(food_list)\n",
    "print (food_list)"
   ]
  },
  {
   "cell_type": "code",
   "execution_count": 10,
   "metadata": {},
   "outputs": [
    {
     "name": "stdout",
     "output_type": "stream",
     "text": [
      "{'Taco Bell': 'Tacos', 'KFC': ['Chicken', 'Chips'], 'Steakout': 'Steak'}\n",
      "['Chicken', 'Chips']\n"
     ]
    }
   ],
   "source": [
    "restaurants_dict = {'Taco Bell': 'Tacos',\n",
    "'KFC':['Chicken', 'Chips'],\n",
    "'Steakout': 'Steak'}\n",
    "print (restaurants_dict)\n",
    "print (restaurants_dict['KFC'])"
   ]
  }
 ],
 "metadata": {
  "kernelspec": {
   "display_name": "Python 3",
   "language": "python",
   "name": "python3"
  },
  "language_info": {
   "codemirror_mode": {
    "name": "ipython",
    "version": 3
   },
   "file_extension": ".py",
   "mimetype": "text/x-python",
   "name": "python",
   "nbconvert_exporter": "python",
   "pygments_lexer": "ipython3",
   "version": "3.10.8"
  }
 },
 "nbformat": 4,
 "nbformat_minor": 2
}

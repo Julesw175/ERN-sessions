{
 "cells": [
  {
   "cell_type": "code",
   "execution_count": 9,
   "metadata": {},
   "outputs": [
    {
     "data": {
      "text/html": [
       "<div>\n",
       "<style scoped>\n",
       "    .dataframe tbody tr th:only-of-type {\n",
       "        vertical-align: middle;\n",
       "    }\n",
       "\n",
       "    .dataframe tbody tr th {\n",
       "        vertical-align: top;\n",
       "    }\n",
       "\n",
       "    .dataframe thead th {\n",
       "        text-align: right;\n",
       "    }\n",
       "</style>\n",
       "<table border=\"1\" class=\"dataframe\">\n",
       "  <thead>\n",
       "    <tr style=\"text-align: right;\">\n",
       "      <th></th>\n",
       "      <th>Restaurant</th>\n",
       "      <th>Starter</th>\n",
       "      <th>Main</th>\n",
       "      <th>Dessert</th>\n",
       "    </tr>\n",
       "  </thead>\n",
       "  <tbody>\n",
       "    <tr>\n",
       "      <th>0</th>\n",
       "      <td>Nandos</td>\n",
       "      <td>Halloumi</td>\n",
       "      <td>Chicken</td>\n",
       "      <td>Portuguese tart</td>\n",
       "    </tr>\n",
       "    <tr>\n",
       "      <th>1</th>\n",
       "      <td>Pizza Express</td>\n",
       "      <td>Breadsticks</td>\n",
       "      <td>Pizza</td>\n",
       "      <td>Cheesecake</td>\n",
       "    </tr>\n",
       "    <tr>\n",
       "      <th>2</th>\n",
       "      <td>YoSushi</td>\n",
       "      <td>Sashimi</td>\n",
       "      <td>Sushi</td>\n",
       "      <td>Mochi</td>\n",
       "    </tr>\n",
       "  </tbody>\n",
       "</table>\n",
       "</div>"
      ],
      "text/plain": [
       "      Restaurant      Starter     Main          Dessert\n",
       "0         Nandos     Halloumi  Chicken  Portuguese tart\n",
       "1  Pizza Express  Breadsticks    Pizza       Cheesecake\n",
       "2        YoSushi      Sashimi    Sushi            Mochi"
      ]
     },
     "execution_count": 9,
     "metadata": {},
     "output_type": "execute_result"
    }
   ],
   "source": [
    "import pandas as pd\n",
    "\n",
    "restaurants = {'Restaurant':'Nandos',\n",
    "               'Starter':'Halloumi',\n",
    "               'Main':'Chicken', \n",
    "               'Dessert':'Portuguese tart'}, {'Restaurant':'Pizza Express',\n",
    "                'Starter':'Breadsticks',\n",
    "                'Main':'Pizza',\n",
    "                'Dessert':'Cheesecake'}, {'Restaurant': 'YoSushi',\n",
    "                                          'Starter': 'Sashimi',\n",
    "                                          'Main': 'Sushi',\n",
    "                                          'Dessert': 'Mochi'},\n",
    "\n",
    "df = pd.DataFrame (restaurants)\n",
    "df"
   ]
  }
 ],
 "metadata": {
  "kernelspec": {
   "display_name": "Python 3",
   "language": "python",
   "name": "python3"
  },
  "language_info": {
   "codemirror_mode": {
    "name": "ipython",
    "version": 3
   },
   "file_extension": ".py",
   "mimetype": "text/x-python",
   "name": "python",
   "nbconvert_exporter": "python",
   "pygments_lexer": "ipython3",
   "version": "3.10.8"
  }
 },
 "nbformat": 4,
 "nbformat_minor": 2
}

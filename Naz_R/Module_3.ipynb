{
 "cells": [
  {
   "cell_type": "code",
   "execution_count": 10,
   "metadata": {},
   "outputs": [
    {
     "name": "stdout",
     "output_type": "stream",
     "text": [
      "100\n",
      "25\n"
     ]
    }
   ],
   "source": [
    "def product_function(x, y):\n",
    "    '''Finds the product of two arguments, returns the answer.\n",
    "\n",
    "    Args: \n",
    "    x, y = Int or Float, number for which the product is found\n",
    "\n",
    "    Returns: \n",
    "    Product: Int or Float, the product of x and y.    \n",
    "    '''\n",
    "    product = x * y\n",
    "    return product \n",
    "\n",
    "ten_times_ten = product_function (10,10)\n",
    "five_times_five = product_function (5,5)\n",
    "print (ten_times_ten)\n",
    "print (five_times_five)"
   ]
  },
  {
   "cell_type": "code",
   "execution_count": 11,
   "metadata": {},
   "outputs": [
    {
     "name": "stdout",
     "output_type": "stream",
     "text": [
      "90 10.0\n"
     ]
    }
   ],
   "source": [
    "def minus_divide (x, y):\n",
    "    '''Completes the following calculations, returns the answer. \n",
    "    Minus: \n",
    "    Takes away y from x (both are Int or Float). Returns answer of calulcation. \n",
    "\n",
    "    Divide: \n",
    "    Divides x by y (both are Int or Float). Returns answer of calculation. \n",
    "    '''\n",
    "    minus = x - y\n",
    "    divide = x / y\n",
    "    return minus, divide\n",
    "\n",
    "minus_example, divide_example = minus_divide (100, 10)\n",
    "print (minus_example, divide_example)\n"
   ]
  }
 ],
 "metadata": {
  "kernelspec": {
   "display_name": "Python 3",
   "language": "python",
   "name": "python3"
  },
  "language_info": {
   "codemirror_mode": {
    "name": "ipython",
    "version": 3
   },
   "file_extension": ".py",
   "mimetype": "text/x-python",
   "name": "python",
   "nbconvert_exporter": "python",
   "pygments_lexer": "ipython3",
   "version": "3.10.8"
  }
 },
 "nbformat": 4,
 "nbformat_minor": 2
}

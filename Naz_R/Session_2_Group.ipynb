{
 "cells": [
  {
   "cell_type": "code",
   "execution_count": 8,
   "metadata": {},
   "outputs": [
    {
     "name": "stdout",
     "output_type": "stream",
     "text": [
      "Michael Regional Manager\n",
      "Nazahah Performance Analyst\n"
     ]
    }
   ],
   "source": [
    "Group_0_dict = {\"Michael\": \"Regional Manager\",\n",
    "                \"Nazahah\": \"Performance Analyst\"}\n",
    "\n",
    "x = list (Group_0_dict.keys())\n",
    "y = list (Group_0_dict.items())\n",
    "\n",
    "for x, y in Group_0_dict.items():\n",
    "  print(x, y)"
   ]
  }
 ],
 "metadata": {
  "kernelspec": {
   "display_name": "Python 3",
   "language": "python",
   "name": "python3"
  },
  "language_info": {
   "codemirror_mode": {
    "name": "ipython",
    "version": 3
   },
   "file_extension": ".py",
   "mimetype": "text/x-python",
   "name": "python",
   "nbconvert_exporter": "python",
   "pygments_lexer": "ipython3",
   "version": "3.10.8"
  }
 },
 "nbformat": 4,
 "nbformat_minor": 2
}

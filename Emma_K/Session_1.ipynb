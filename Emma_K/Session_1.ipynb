{
 "cells": [
  {
   "cell_type": "code",
   "execution_count": 1,
   "metadata": {},
   "outputs": [
    {
     "name": "stdout",
     "output_type": "stream",
     "text": [
      "I'm Emma\n"
     ]
    }
   ],
   "source": [
    "phrase = \"I'm Emma\" # String\n",
    "print(phrase)"
   ]
  },
  {
   "cell_type": "code",
   "execution_count": 2,
   "metadata": {},
   "outputs": [
    {
     "name": "stdout",
     "output_type": "stream",
     "text": [
      "15\n",
      "2.0\n",
      "<class 'float'>\n",
      "<class 'float'>\n"
     ]
    }
   ],
   "source": [
    "x = 5 # Integer\n",
    "y = 10 \n",
    "z = x + y #plus symbol\n",
    "print(z)\n",
    "z = y / x #divide\n",
    "print(z) # Float\n",
    "print(type(z))\n",
    "\n",
    "j=type(z)\n",
    "print(j)"
   ]
  },
  {
   "cell_type": "code",
   "execution_count": 3,
   "metadata": {},
   "outputs": [
    {
     "name": "stdout",
     "output_type": "stream",
     "text": [
      "35\n"
     ]
    }
   ],
   "source": [
    "x = 5\n",
    "y = 7\n",
    "print(x*y)\n"
   ]
  },
  {
   "cell_type": "code",
   "execution_count": 4,
   "metadata": {},
   "outputs": [
    {
     "name": "stdout",
     "output_type": "stream",
     "text": [
      "12.56\n"
     ]
    }
   ],
   "source": [
    "r = 2\n",
    "pi = 3.14\n",
    "square = r**2\n",
    "area = pi * (r**2)\n",
    "print(area)"
   ]
  },
  {
   "cell_type": "code",
   "execution_count": 5,
   "metadata": {},
   "outputs": [
    {
     "name": "stdout",
     "output_type": "stream",
     "text": [
      "My name is Emma and my hobby is running\n"
     ]
    }
   ],
   "source": [
    "name =\"Emma\"\n",
    "hobby = \"running\"\n",
    "long_string = \"My name is \" + name + \" and my hobby is \" + hobby\n",
    "#print(long_string)\n",
    "\n",
    "phrase = f\"My name is {name} and my hobby is {hobby}\"\n",
    "print(phrase)"
   ]
  },
  {
   "cell_type": "code",
   "execution_count": 6,
   "metadata": {},
   "outputs": [
    {
     "name": "stdout",
     "output_type": "stream",
     "text": [
      "My name is Emma and my job title is Performance Project Officer\n"
     ]
    }
   ],
   "source": [
    "name = \"Emma\"\n",
    "role = \"Performance Project Officer\"\n",
    "phrase = f\"My name is {name} and my job title is {role}\"\n",
    "print(phrase)"
   ]
  },
  {
   "cell_type": "code",
   "execution_count": 7,
   "metadata": {},
   "outputs": [
    {
     "name": "stdout",
     "output_type": "stream",
     "text": [
      "63\n",
      "name is Emma\n",
      "here_is_a_file\n"
     ]
    }
   ],
   "source": [
    "print(len(phrase))\n",
    "string_slice = phrase[3:15]\n",
    "print(string_slice)\n",
    "\n",
    "filename = \"here_is_a_file.csv\"\n",
    "filename = filename[:-4]\n",
    "print(filename)\n"
   ]
  },
  {
   "cell_type": "code",
   "execution_count": 8,
   "metadata": {},
   "outputs": [
    {
     "name": "stdout",
     "output_type": "stream",
     "text": [
      "dog\n",
      "cat\n",
      "racoon\n",
      "dog cat racoon\n"
     ]
    }
   ],
   "source": [
    "slice_this_phrase = 'dog cat racoon'\n",
    "dog = slice_this_phrase[0:3]\n",
    "print(dog)\n",
    "cat = slice_this_phrase[4:7]\n",
    "print(cat)\n",
    "racoon = slice_this_phrase[-6:]\n",
    "print(racoon)\n",
    "print(f\"{dog} {cat} {racoon}\")\n"
   ]
  },
  {
   "cell_type": "code",
   "execution_count": 9,
   "metadata": {},
   "outputs": [
    {
     "name": "stdout",
     "output_type": "stream",
     "text": [
      "[1, 2, 3, 5, 7]\n"
     ]
    }
   ],
   "source": [
    "list_1 = [1,2,3,x,y]\n",
    "print(list_1)"
   ]
  },
  {
   "cell_type": "code",
   "execution_count": 10,
   "metadata": {},
   "outputs": [
    {
     "name": "stdout",
     "output_type": "stream",
     "text": [
      "My colours are: ['red', 'blue', 'green', 'teal']\n"
     ]
    }
   ],
   "source": [
    "favourite_colour = \"teal\"\n",
    "colours_list = [\"red\", \"blue\", \"green\"]\n",
    "colours_list.append(favourite_colour)\n",
    "print(f\"My colours are: {colours_list}\")"
   ]
  },
  {
   "cell_type": "code",
   "execution_count": 11,
   "metadata": {},
   "outputs": [
    {
     "name": "stdout",
     "output_type": "stream",
     "text": [
      "['potato', 'pasta', 'rice', 'meat']\n",
      "['potato', 'pasta', 'rice', 'meat', 'cheese']\n"
     ]
    }
   ],
   "source": [
    "food_list = [\"potato\", \"pasta\", \"rice\", \"meat\"]\n",
    "favourite_food = \"cheese\"\n",
    "print (food_list)\n",
    "food_list.append(favourite_food)   \n",
    "print(food_list)"
   ]
  },
  {
   "cell_type": "code",
   "execution_count": 12,
   "metadata": {},
   "outputs": [
    {
     "name": "stdout",
     "output_type": "stream",
     "text": [
      "['apple', 'banana', 'grape']\n",
      "['potato', 'pasta', 'rice', 'meat']\n"
     ]
    }
   ],
   "source": [
    "food_list = [\"potato\", \"pasta\", \"rice\", \"meat\"]\n",
    "new_food_list = [\"apple\", \"banana\",\"grape\"]\n",
    "print(new_food_list)\n",
    "#food_list.append(new_food_list)\n",
    "#food_list.extend(new_food_list)\n",
    "print(food_list)"
   ]
  },
  {
   "cell_type": "code",
   "execution_count": null,
   "metadata": {},
   "outputs": [],
   "source": []
  },
  {
   "cell_type": "code",
   "execution_count": 13,
   "metadata": {},
   "outputs": [
    {
     "name": "stdout",
     "output_type": "stream",
     "text": [
      "[6, 5, 4, 3, 2, 1]\n"
     ]
    }
   ],
   "source": [
    "numbers_list = [2,3,4,5,1,6]\n",
    "numbers_list.sort()\n",
    "\n",
    "numbers_list = [2,3,4,5,1,6]\n",
    "numbers_list.sort(reverse=True)\n",
    "print(numbers_list)"
   ]
  },
  {
   "cell_type": "code",
   "execution_count": 14,
   "metadata": {},
   "outputs": [
    {
     "name": "stdout",
     "output_type": "stream",
     "text": [
      "['Apples', 'meat', 'pasta', 'potato']\n"
     ]
    }
   ],
   "source": [
    "food_list = [\"potato\", \"pasta\", \"Apples\", \"meat\"]\n",
    "food_list.sort()\n",
    "print(food_list)"
   ]
  },
  {
   "cell_type": "code",
   "execution_count": 15,
   "metadata": {},
   "outputs": [
    {
     "name": "stdout",
     "output_type": "stream",
     "text": [
      "{'will': 'purple', 'scout': ['yellow', 'red'], 'crash': 23, 'Naomi': {'Monday': 'purple', 'EOD': 'Yellow'}}\n",
      "{'Monday': 'purple', 'EOD': 'Yellow'}\n",
      "dict_keys(['will', 'scout', 'crash', 'Naomi'])\n",
      "dict_values(['purple', ['yellow', 'red'], 23, {'Monday': 'purple', 'EOD': 'Yellow'}])\n",
      "dict_items([('will', 'purple'), ('scout', ['yellow', 'red']), ('crash', 23), ('Naomi', {'Monday': 'purple', 'EOD': 'Yellow'})])\n"
     ]
    }
   ],
   "source": [
    "favourite_colours_dict = {'will':'purple',\n",
    "                     'scout':['yellow', 'red'],\n",
    "                     'crash':23,\n",
    "                     'Naomi':{'Monday':'purple',\n",
    "                               'EOD':'Yellow'}}\n",
    "print(favourite_colours_dict)\n",
    "print(favourite_colours_dict['Naomi'])\n",
    "print(favourite_colours_dict.keys())\n",
    "print(favourite_colours_dict.values())\n",
    "print(favourite_colours_dict.items())"
   ]
  },
  {
   "cell_type": "code",
   "execution_count": 16,
   "metadata": {},
   "outputs": [
    {
     "name": "stdout",
     "output_type": "stream",
     "text": [
      "{'Chippy': 'chips', 'Chinese': ['rice', 'sweet & sour'], 'Indian': {'curry': 'naan'}}\n",
      "{'curry': 'naan'}\n",
      "dict_keys(['Chippy', 'Chinese', 'Indian'])\n",
      "dict_values(['chips', ['rice', 'sweet & sour'], {'curry': 'naan'}])\n",
      "dict_items([('Chippy', 'chips'), ('Chinese', ['rice', 'sweet & sour']), ('Indian', {'curry': 'naan'})])\n"
     ]
    }
   ],
   "source": [
    "restaurant_dict = {'Chippy':'chips',\n",
    "                     'Chinese':['rice', 'sweet & sour'],\n",
    "                     'Indian':{'curry':'naan'}}\n",
    "print(restaurant_dict)\n",
    "print(restaurant_dict['Indian'])\n",
    "print(restaurant_dict.keys())\n",
    "print(restaurant_dict.values())\n",
    "print(restaurant_dict.items())"
   ]
  },
  {
   "cell_type": "code",
   "execution_count": 17,
   "metadata": {},
   "outputs": [
    {
     "name": "stdout",
     "output_type": "stream",
     "text": [
      "{'will': 'purple', 'scout': ['yellow', 'red'], 'crash': 23, 'Naomi': 'Blue', 'Annie': 'Blue', 'Andy': 'Blue'}\n",
      "True\n"
     ]
    }
   ],
   "source": [
    "favourite_colours_dict = {'will':'purple',\n",
    "                     'scout':['yellow', 'red'],\n",
    "                     'crash':23,\n",
    "                     'Naomi':'Orange'}\n",
    "favourite_colours_dict['Annie']='Blue'\n",
    "favourite_colours_dict['Naomi'] = 'Blue'\n",
    "favourite_colours_dict['Andy'] = 'Blue'\n",
    "print(favourite_colours_dict)\n",
    "print('Andy' in favourite_colours_dict)"
   ]
  },
  {
   "cell_type": "code",
   "execution_count": 18,
   "metadata": {},
   "outputs": [
    {
     "name": "stdout",
     "output_type": "stream",
     "text": [
      "['Emma', 'Will', 'Emily', 'Jon', 'Paul M', 'Michael M', 'Michael C', 'Paul D', 'Nazahah']\n",
      "My name is Emma, my job is Performance O\n",
      "My name is Will, my job is Instructing\n",
      "My name is Emily, my job is Perfommance Anylist\n",
      "My name is Jon, my job is Performance M\n",
      "My name is Paul M, my job is Perf O\n",
      "My name is Michael M, my job is Regional\n",
      "My name is Michael C, my job is Anylist\n",
      "My name is Paul D, my job is Senior PM\n",
      "My name is Nazahah, my job is Analyst\n"
     ]
    }
   ],
   "source": [
    "job_dict = {'Emma':'Performance Officer',\n",
    "            'Will':'Instructing',\n",
    "            'Emily':'Perfommance Anylist',\n",
    "            'Jon': 'Performance M',\n",
    "            'Emma': 'Performance O',\n",
    "            'Paul M':'Perf O',\n",
    "            'Michael M': 'Regional',\n",
    "            'Michael C': 'Anylist',\n",
    "            'Paul D': 'Senior PM',\n",
    "            'Nazahah': 'Analyst'\n",
    "            }\n",
    "names = list(job_dict.keys())\n",
    "print(names)\n",
    "for key,val in job_dict.items():\n",
    "    print(f\"My name is {key}, my job is {val}\")"
   ]
  },
  {
   "cell_type": "code",
   "execution_count": 19,
   "metadata": {},
   "outputs": [
    {
     "name": "stdout",
     "output_type": "stream",
     "text": [
      "{'Sum': 12, 'Subtract': 2, 'Square x': 49, 'Square y': 25, 'Power': 16807}\n"
     ]
    }
   ],
   "source": [
    "#Assignment 1.1\n",
    "maths_dict = {}  #initialise a blank dictionary\n",
    "\n",
    "x=7\n",
    "y=5\n",
    "add_var = (x+y)\n",
    "sub_var = (x-y)\n",
    "squared_var1 = (x**2)\n",
    "squared_var2 = (y**2)\n",
    "power_var = (pow(x,y))\n",
    "\n",
    "maths_dict[\"Sum\"] = add_var\n",
    "maths_dict[\"Subtract\"] = sub_var\n",
    "maths_dict[\"Square x\"] = squared_var1\n",
    "maths_dict[\"Square y\"] = squared_var2\n",
    "maths_dict[\"Power\"] = power_var\n",
    "\n",
    "print(maths_dict)"
   ]
  },
  {
   "cell_type": "code",
   "execution_count": 20,
   "metadata": {},
   "outputs": [
    {
     "name": "stdout",
     "output_type": "stream",
     "text": [
      "4444444444444444\n",
      "4444\n",
      "12\n",
      "xxxxxxxxxxxx4444\n"
     ]
    },
    {
     "data": {
      "text/plain": [
       "16"
      ]
     },
     "execution_count": 20,
     "metadata": {},
     "output_type": "execute_result"
    }
   ],
   "source": [
    "#Assignment 1.2\n",
    "ccard = \"4444444444444444\"\n",
    "print(ccard)\n",
    "last4 = ccard[-4:]\n",
    "print(last4)\n",
    "len(ccard)\n",
    "anon = \"x\"\n",
    "non_anon = (len(ccard)-4)\n",
    "print(non_anon)\n",
    "\n",
    "print(anon * non_anon + last4)\n",
    "len((anon * non_anon + last4))"
   ]
  },
  {
   "cell_type": "code",
   "execution_count": 21,
   "metadata": {},
   "outputs": [
    {
     "name": "stdout",
     "output_type": "stream",
     "text": [
      "{\"here's a column\": ['Val 1', 'Val 2', 'Val 3'], \"here's another\": ['4, 5, 6'], 'and another': ['foo', 'bar', 'baz']}\n"
     ]
    }
   ],
   "source": [
    "import pandas as pd\n",
    "\n",
    "d = {\"here's a column\":['Val 1', 'Val 2', 'Val 3'],\n",
    "     \"here's another\":['4, 5, 6'],\n",
    "     \"and another\":['foo', 'bar', 'baz']}\n",
    "\n",
    "print(d)\n"
   ]
  },
  {
   "cell_type": "code",
   "execution_count": 22,
   "metadata": {},
   "outputs": [
    {
     "name": "stdout",
     "output_type": "stream",
     "text": [
      "  letter word  number\n",
      "0      A  Foo       1\n",
      "1      b  Bar       2\n",
      "2      C  Baz       3\n"
     ]
    }
   ],
   "source": [
    "import pandas as pd\n",
    "\n",
    "dict_1 = {\"heres's a column\": [\"val 1\", \"val 2\", \"val 3\"],\n",
    "         \"col 2\": [4,5,6],\n",
    "          \"col z\": [\"foo\", \"bar\", \"baz\"] }\n",
    "\n",
    "df_1 = pd.DataFrame(dict_1)\n",
    "df_1\n",
    "\n",
    "df_2 = pd.DataFrame([\n",
    "    {'letter':'A',\n",
    "     'word':'Foo',\n",
    "     'number':1},\n",
    "     {'letter':'b',\n",
    "     'word':'Bar',\n",
    "     'number':2},\n",
    "     {'letter':'C',\n",
    "     'word':'Baz',\n",
    "     'number':3},\n",
    "])\n",
    "\n",
    "print(df_2)\n"
   ]
  },
  {
   "cell_type": "code",
   "execution_count": 23,
   "metadata": {},
   "outputs": [
    {
     "name": "stdout",
     "output_type": "stream",
     "text": [
      "         Name       Job Title Salary\n",
      "0  John Smith       Reception  10000\n",
      "1    Jane Doe  Administration  12000\n",
      "2   Mike Mann         Manager  15000\n",
      "3  Mandy Mann        Director  20000\n",
      "4  Marge Mann        Director  20000\n"
     ]
    },
    {
     "data": {
      "text/html": [
       "<div>\n",
       "<style scoped>\n",
       "    .dataframe tbody tr th:only-of-type {\n",
       "        vertical-align: middle;\n",
       "    }\n",
       "\n",
       "    .dataframe tbody tr th {\n",
       "        vertical-align: top;\n",
       "    }\n",
       "\n",
       "    .dataframe thead th {\n",
       "        text-align: right;\n",
       "    }\n",
       "</style>\n",
       "<table border=\"1\" class=\"dataframe\">\n",
       "  <thead>\n",
       "    <tr style=\"text-align: right;\">\n",
       "      <th></th>\n",
       "      <th>Name</th>\n",
       "      <th>Job Title</th>\n",
       "      <th>Salary</th>\n",
       "    </tr>\n",
       "  </thead>\n",
       "  <tbody>\n",
       "    <tr>\n",
       "      <th>0</th>\n",
       "      <td>John Smith</td>\n",
       "      <td>Reception</td>\n",
       "      <td>10000</td>\n",
       "    </tr>\n",
       "    <tr>\n",
       "      <th>1</th>\n",
       "      <td>Jane Doe</td>\n",
       "      <td>Administration</td>\n",
       "      <td>12000</td>\n",
       "    </tr>\n",
       "    <tr>\n",
       "      <th>2</th>\n",
       "      <td>Mike Mann</td>\n",
       "      <td>Manager</td>\n",
       "      <td>15000</td>\n",
       "    </tr>\n",
       "    <tr>\n",
       "      <th>3</th>\n",
       "      <td>Mandy Mann</td>\n",
       "      <td>Director</td>\n",
       "      <td>20000</td>\n",
       "    </tr>\n",
       "    <tr>\n",
       "      <th>4</th>\n",
       "      <td>Marge Mann</td>\n",
       "      <td>Director</td>\n",
       "      <td>20000</td>\n",
       "    </tr>\n",
       "  </tbody>\n",
       "</table>\n",
       "</div>"
      ],
      "text/plain": [
       "         Name       Job Title Salary\n",
       "0  John Smith       Reception  10000\n",
       "1    Jane Doe  Administration  12000\n",
       "2   Mike Mann         Manager  15000\n",
       "3  Mandy Mann        Director  20000\n",
       "4  Marge Mann        Director  20000"
      ]
     },
     "execution_count": 23,
     "metadata": {},
     "output_type": "execute_result"
    }
   ],
   "source": [
    "import pandas as pd\n",
    "\n",
    "company = ([\n",
    "{'Name': 'John Smith',\n",
    " 'Job Title': 'Reception',\n",
    " 'Salary': '10000'},\n",
    " {'Name': 'Jane Doe',\n",
    " 'Job Title': 'Administration',\n",
    " 'Salary': '12000'},\n",
    " {'Name': 'Mike Mann',\n",
    " 'Job Title': 'Manager',\n",
    " 'Salary': '15000'},\n",
    " {'Name': 'Mandy Mann',\n",
    " 'Job Title': 'Director',\n",
    " 'Salary': '20000'},\n",
    "{'Name': 'Marge Mann',\n",
    " 'Job Title': 'Director',\n",
    " 'Salary': '20000'}\n",
    "])\n",
    "\n",
    "company_df = pd.DataFrame(company)\n",
    "\n",
    "print(company_df)\n",
    "company_df"
   ]
  },
  {
   "cell_type": "code",
   "execution_count": 24,
   "metadata": {},
   "outputs": [
    {
     "data": {
      "text/plain": [
       "Name         object\n",
       "Job Title    object\n",
       "Salary        int64\n",
       "dtype: object"
      ]
     },
     "execution_count": 24,
     "metadata": {},
     "output_type": "execute_result"
    }
   ],
   "source": [
    "#print(company_df.info())\n",
    "#print(company_df.dtypes)\n",
    "#print(company_df.head(1))\n",
    "#print(company_df.tail(1))\n",
    "\n",
    "company_df['Salary'] = company_df['Salary'].astype('int')\n",
    "company_df.dtypes"
   ]
  },
  {
   "cell_type": "code",
   "execution_count": 25,
   "metadata": {},
   "outputs": [
    {
     "name": "stdout",
     "output_type": "stream",
     "text": [
      "Salary minimum:10000, Salary maximum:20000\n"
     ]
    }
   ],
   "source": [
    "#print(company_df['Salary'].sum())\n",
    "\n",
    "# company_salary_tot = company_df['Salary'].sum()\n",
    "# print(company_salary_tot)\n",
    "\n",
    "# company_salary_mean = company_df['Salary'].mean()\n",
    "# print(company_salary_mean)\n",
    "\n",
    "# company_salary_cumsum = company_df['Salary'].cumsum()\n",
    "# print(company_salary_cumsum)\n",
    "\n",
    "sal_min_max = f\"Salary minimum:{company_df['Salary'].min()}, Salary maximum:{company_df['Salary'].max()}\"\n",
    "print(sal_min_max)"
   ]
  },
  {
   "cell_type": "code",
   "execution_count": 26,
   "metadata": {},
   "outputs": [
    {
     "data": {
      "text/html": [
       "<div>\n",
       "<style scoped>\n",
       "    .dataframe tbody tr th:only-of-type {\n",
       "        vertical-align: middle;\n",
       "    }\n",
       "\n",
       "    .dataframe tbody tr th {\n",
       "        vertical-align: top;\n",
       "    }\n",
       "\n",
       "    .dataframe thead th {\n",
       "        text-align: right;\n",
       "    }\n",
       "</style>\n",
       "<table border=\"1\" class=\"dataframe\">\n",
       "  <thead>\n",
       "    <tr style=\"text-align: right;\">\n",
       "      <th></th>\n",
       "      <th>Name</th>\n",
       "      <th>Job Title</th>\n",
       "      <th>Salary</th>\n",
       "      <th>Date Started</th>\n",
       "    </tr>\n",
       "  </thead>\n",
       "  <tbody>\n",
       "    <tr>\n",
       "      <th>0</th>\n",
       "      <td>John Smith</td>\n",
       "      <td>Reception</td>\n",
       "      <td>10000</td>\n",
       "      <td>06/12/1993</td>\n",
       "    </tr>\n",
       "    <tr>\n",
       "      <th>1</th>\n",
       "      <td>Jane Doe</td>\n",
       "      <td>Administration</td>\n",
       "      <td>12000</td>\n",
       "      <td>01/06/1966</td>\n",
       "    </tr>\n",
       "    <tr>\n",
       "      <th>2</th>\n",
       "      <td>Mike Mann</td>\n",
       "      <td>Manager</td>\n",
       "      <td>15000</td>\n",
       "      <td>26/05/1964</td>\n",
       "    </tr>\n",
       "    <tr>\n",
       "      <th>3</th>\n",
       "      <td>Mandy Mann</td>\n",
       "      <td>Director</td>\n",
       "      <td>20000</td>\n",
       "      <td>23/01/1968</td>\n",
       "    </tr>\n",
       "    <tr>\n",
       "      <th>4</th>\n",
       "      <td>Marge Mann</td>\n",
       "      <td>Director</td>\n",
       "      <td>20000</td>\n",
       "      <td>26/01/1976</td>\n",
       "    </tr>\n",
       "  </tbody>\n",
       "</table>\n",
       "</div>"
      ],
      "text/plain": [
       "         Name       Job Title  Salary Date Started\n",
       "0  John Smith       Reception   10000   06/12/1993\n",
       "1    Jane Doe  Administration   12000   01/06/1966\n",
       "2   Mike Mann         Manager   15000   26/05/1964\n",
       "3  Mandy Mann        Director   20000   23/01/1968\n",
       "4  Marge Mann        Director   20000   26/01/1976"
      ]
     },
     "execution_count": 26,
     "metadata": {},
     "output_type": "execute_result"
    }
   ],
   "source": [
    "company_df['Date Started'] = ['06/12/1993', '01/06/1966','26/05/1964', '23/01/1968', '26/01/1976']\n",
    "company_df"
   ]
  },
  {
   "cell_type": "code",
   "execution_count": 27,
   "metadata": {},
   "outputs": [
    {
     "data": {
      "text/html": [
       "<div>\n",
       "<style scoped>\n",
       "    .dataframe tbody tr th:only-of-type {\n",
       "        vertical-align: middle;\n",
       "    }\n",
       "\n",
       "    .dataframe tbody tr th {\n",
       "        vertical-align: top;\n",
       "    }\n",
       "\n",
       "    .dataframe thead th {\n",
       "        text-align: right;\n",
       "    }\n",
       "</style>\n",
       "<table border=\"1\" class=\"dataframe\">\n",
       "  <thead>\n",
       "    <tr style=\"text-align: right;\">\n",
       "      <th></th>\n",
       "      <th>Name</th>\n",
       "      <th>Job Title</th>\n",
       "      <th>Salary</th>\n",
       "      <th>Date Started</th>\n",
       "      <th>Pay After Bonus</th>\n",
       "    </tr>\n",
       "  </thead>\n",
       "  <tbody>\n",
       "    <tr>\n",
       "      <th>0</th>\n",
       "      <td>John Smith</td>\n",
       "      <td>Reception</td>\n",
       "      <td>10670</td>\n",
       "      <td>06/12/1993</td>\n",
       "      <td>11170</td>\n",
       "    </tr>\n",
       "    <tr>\n",
       "      <th>1</th>\n",
       "      <td>Jane Doe</td>\n",
       "      <td>Administration</td>\n",
       "      <td>12804</td>\n",
       "      <td>01/06/1966</td>\n",
       "      <td>13304</td>\n",
       "    </tr>\n",
       "    <tr>\n",
       "      <th>2</th>\n",
       "      <td>Mike Mann</td>\n",
       "      <td>Manager</td>\n",
       "      <td>16005</td>\n",
       "      <td>26/05/1964</td>\n",
       "      <td>16505</td>\n",
       "    </tr>\n",
       "    <tr>\n",
       "      <th>3</th>\n",
       "      <td>Mandy Mann</td>\n",
       "      <td>Director</td>\n",
       "      <td>21340</td>\n",
       "      <td>23/01/1968</td>\n",
       "      <td>21840</td>\n",
       "    </tr>\n",
       "    <tr>\n",
       "      <th>4</th>\n",
       "      <td>Marge Mann</td>\n",
       "      <td>Director</td>\n",
       "      <td>21340</td>\n",
       "      <td>26/01/1976</td>\n",
       "      <td>21840</td>\n",
       "    </tr>\n",
       "  </tbody>\n",
       "</table>\n",
       "</div>"
      ],
      "text/plain": [
       "         Name       Job Title  Salary Date Started  Pay After Bonus\n",
       "0  John Smith       Reception   10670   06/12/1993            11170\n",
       "1    Jane Doe  Administration   12804   01/06/1966            13304\n",
       "2   Mike Mann         Manager   16005   26/05/1964            16505\n",
       "3  Mandy Mann        Director   21340   23/01/1968            21840\n",
       "4  Marge Mann        Director   21340   26/01/1976            21840"
      ]
     },
     "execution_count": 27,
     "metadata": {},
     "output_type": "execute_result"
    }
   ],
   "source": [
    "inflation = 1.067\n",
    "company_df['Salary'] = company_df['Salary'] * inflation\n",
    "\n",
    "company_df['Pay After Bonus'] = company_df['Salary'] + 500\n",
    "company_df['Salary'] = company_df['Salary'].astype('int')\n",
    "company_df['Pay After Bonus'] = company_df['Pay After Bonus'].astype('int')\n",
    "company_df"
   ]
  },
  {
   "cell_type": "code",
   "execution_count": 28,
   "metadata": {},
   "outputs": [
    {
     "data": {
      "text/html": [
       "<div>\n",
       "<style scoped>\n",
       "    .dataframe tbody tr th:only-of-type {\n",
       "        vertical-align: middle;\n",
       "    }\n",
       "\n",
       "    .dataframe tbody tr th {\n",
       "        vertical-align: top;\n",
       "    }\n",
       "\n",
       "    .dataframe thead th {\n",
       "        text-align: right;\n",
       "    }\n",
       "</style>\n",
       "<table border=\"1\" class=\"dataframe\">\n",
       "  <thead>\n",
       "    <tr style=\"text-align: right;\">\n",
       "      <th></th>\n",
       "      <th>Name</th>\n",
       "      <th>Job Title</th>\n",
       "      <th>Salary</th>\n",
       "      <th>Date Started</th>\n",
       "      <th>Pay After Bonus</th>\n",
       "    </tr>\n",
       "  </thead>\n",
       "  <tbody>\n",
       "    <tr>\n",
       "      <th>0</th>\n",
       "      <td>John Smith</td>\n",
       "      <td>Reception</td>\n",
       "      <td>10670</td>\n",
       "      <td>1993-12-06</td>\n",
       "      <td>11170</td>\n",
       "    </tr>\n",
       "    <tr>\n",
       "      <th>1</th>\n",
       "      <td>Jane Doe</td>\n",
       "      <td>Administration</td>\n",
       "      <td>12804</td>\n",
       "      <td>1966-06-01</td>\n",
       "      <td>13304</td>\n",
       "    </tr>\n",
       "    <tr>\n",
       "      <th>2</th>\n",
       "      <td>Mike Mann</td>\n",
       "      <td>Manager</td>\n",
       "      <td>16005</td>\n",
       "      <td>1964-05-26</td>\n",
       "      <td>16505</td>\n",
       "    </tr>\n",
       "    <tr>\n",
       "      <th>3</th>\n",
       "      <td>Mandy Mann</td>\n",
       "      <td>Director</td>\n",
       "      <td>21340</td>\n",
       "      <td>1968-01-23</td>\n",
       "      <td>21840</td>\n",
       "    </tr>\n",
       "    <tr>\n",
       "      <th>4</th>\n",
       "      <td>Marge Mann</td>\n",
       "      <td>Director</td>\n",
       "      <td>21340</td>\n",
       "      <td>1976-01-26</td>\n",
       "      <td>21840</td>\n",
       "    </tr>\n",
       "  </tbody>\n",
       "</table>\n",
       "</div>"
      ],
      "text/plain": [
       "         Name       Job Title  Salary Date Started  Pay After Bonus\n",
       "0  John Smith       Reception   10670   1993-12-06            11170\n",
       "1    Jane Doe  Administration   12804   1966-06-01            13304\n",
       "2   Mike Mann         Manager   16005   1964-05-26            16505\n",
       "3  Mandy Mann        Director   21340   1968-01-23            21840\n",
       "4  Marge Mann        Director   21340   1976-01-26            21840"
      ]
     },
     "execution_count": 28,
     "metadata": {},
     "output_type": "execute_result"
    }
   ],
   "source": [
    "#company_df['Date Started'] = pd.to_datetime(company_df['Date Started'], dayfirst=True)\n",
    "company_df['Date Started'] = pd.to_datetime(company_df['Date Started'], format='%d/%m/%Y')\n",
    "#company_df.dtypes\n",
    "company_df"
   ]
  },
  {
   "cell_type": "code",
   "execution_count": 29,
   "metadata": {},
   "outputs": [
    {
     "data": {
      "text/html": [
       "<div>\n",
       "<style scoped>\n",
       "    .dataframe tbody tr th:only-of-type {\n",
       "        vertical-align: middle;\n",
       "    }\n",
       "\n",
       "    .dataframe tbody tr th {\n",
       "        vertical-align: top;\n",
       "    }\n",
       "\n",
       "    .dataframe thead th {\n",
       "        text-align: right;\n",
       "    }\n",
       "</style>\n",
       "<table border=\"1\" class=\"dataframe\">\n",
       "  <thead>\n",
       "    <tr style=\"text-align: right;\">\n",
       "      <th></th>\n",
       "      <th>Name</th>\n",
       "      <th>Job Title</th>\n",
       "      <th>Salary</th>\n",
       "      <th>Date Started</th>\n",
       "      <th>Pay After Bonus</th>\n",
       "      <th>DoB</th>\n",
       "    </tr>\n",
       "  </thead>\n",
       "  <tbody>\n",
       "    <tr>\n",
       "      <th>0</th>\n",
       "      <td>John Smith</td>\n",
       "      <td>Reception</td>\n",
       "      <td>10670</td>\n",
       "      <td>1993-12-06</td>\n",
       "      <td>11170</td>\n",
       "      <td>1963-12-06</td>\n",
       "    </tr>\n",
       "    <tr>\n",
       "      <th>1</th>\n",
       "      <td>Jane Doe</td>\n",
       "      <td>Administration</td>\n",
       "      <td>12804</td>\n",
       "      <td>1966-06-01</td>\n",
       "      <td>13304</td>\n",
       "      <td>1946-06-01</td>\n",
       "    </tr>\n",
       "    <tr>\n",
       "      <th>2</th>\n",
       "      <td>Mike Mann</td>\n",
       "      <td>Manager</td>\n",
       "      <td>16005</td>\n",
       "      <td>1964-05-26</td>\n",
       "      <td>16505</td>\n",
       "      <td>1934-05-26</td>\n",
       "    </tr>\n",
       "    <tr>\n",
       "      <th>3</th>\n",
       "      <td>Mandy Mann</td>\n",
       "      <td>Director</td>\n",
       "      <td>21340</td>\n",
       "      <td>1968-01-23</td>\n",
       "      <td>21840</td>\n",
       "      <td>1928-01-23</td>\n",
       "    </tr>\n",
       "    <tr>\n",
       "      <th>4</th>\n",
       "      <td>Marge Mann</td>\n",
       "      <td>Director</td>\n",
       "      <td>21340</td>\n",
       "      <td>1976-01-26</td>\n",
       "      <td>21840</td>\n",
       "      <td>1956-01-26</td>\n",
       "    </tr>\n",
       "  </tbody>\n",
       "</table>\n",
       "</div>"
      ],
      "text/plain": [
       "         Name       Job Title  Salary Date Started  Pay After Bonus        DoB\n",
       "0  John Smith       Reception   10670   1993-12-06            11170 1963-12-06\n",
       "1    Jane Doe  Administration   12804   1966-06-01            13304 1946-06-01\n",
       "2   Mike Mann         Manager   16005   1964-05-26            16505 1934-05-26\n",
       "3  Mandy Mann        Director   21340   1968-01-23            21840 1928-01-23\n",
       "4  Marge Mann        Director   21340   1976-01-26            21840 1956-01-26"
      ]
     },
     "execution_count": 29,
     "metadata": {},
     "output_type": "execute_result"
    }
   ],
   "source": [
    "company_df['DoB'] = ['06/12/1963', '01/06/1946','26/05/1934', '23/01/1928', '26/01/1956']\n",
    "company_df['DoB'] = pd.to_datetime(company_df['DoB'], format='%d/%m/%Y')\n",
    "company_df"
   ]
  },
  {
   "cell_type": "code",
   "execution_count": 30,
   "metadata": {},
   "outputs": [
    {
     "data": {
      "text/html": [
       "<div>\n",
       "<style scoped>\n",
       "    .dataframe tbody tr th:only-of-type {\n",
       "        vertical-align: middle;\n",
       "    }\n",
       "\n",
       "    .dataframe tbody tr th {\n",
       "        vertical-align: top;\n",
       "    }\n",
       "\n",
       "    .dataframe thead th {\n",
       "        text-align: right;\n",
       "    }\n",
       "</style>\n",
       "<table border=\"1\" class=\"dataframe\">\n",
       "  <thead>\n",
       "    <tr style=\"text-align: right;\">\n",
       "      <th></th>\n",
       "      <th>Name</th>\n",
       "      <th>Job Title</th>\n",
       "      <th>Salary</th>\n",
       "      <th>Date Started</th>\n",
       "      <th>Pay After Bonus</th>\n",
       "      <th>DoB</th>\n",
       "      <th>Time Served</th>\n",
       "    </tr>\n",
       "  </thead>\n",
       "  <tbody>\n",
       "    <tr>\n",
       "      <th>0</th>\n",
       "      <td>John Smith</td>\n",
       "      <td>Reception</td>\n",
       "      <td>10670</td>\n",
       "      <td>1993-12-06</td>\n",
       "      <td>11170</td>\n",
       "      <td>1963-12-06</td>\n",
       "      <td>30</td>\n",
       "    </tr>\n",
       "    <tr>\n",
       "      <th>1</th>\n",
       "      <td>Jane Doe</td>\n",
       "      <td>Administration</td>\n",
       "      <td>12804</td>\n",
       "      <td>1966-06-01</td>\n",
       "      <td>13304</td>\n",
       "      <td>1946-06-01</td>\n",
       "      <td>57</td>\n",
       "    </tr>\n",
       "    <tr>\n",
       "      <th>2</th>\n",
       "      <td>Mike Mann</td>\n",
       "      <td>Manager</td>\n",
       "      <td>16005</td>\n",
       "      <td>1964-05-26</td>\n",
       "      <td>16505</td>\n",
       "      <td>1934-05-26</td>\n",
       "      <td>60</td>\n",
       "    </tr>\n",
       "    <tr>\n",
       "      <th>3</th>\n",
       "      <td>Mandy Mann</td>\n",
       "      <td>Director</td>\n",
       "      <td>21340</td>\n",
       "      <td>1968-01-23</td>\n",
       "      <td>21840</td>\n",
       "      <td>1928-01-23</td>\n",
       "      <td>56</td>\n",
       "    </tr>\n",
       "    <tr>\n",
       "      <th>4</th>\n",
       "      <td>Marge Mann</td>\n",
       "      <td>Director</td>\n",
       "      <td>21340</td>\n",
       "      <td>1976-01-26</td>\n",
       "      <td>21840</td>\n",
       "      <td>1956-01-26</td>\n",
       "      <td>48</td>\n",
       "    </tr>\n",
       "  </tbody>\n",
       "</table>\n",
       "</div>"
      ],
      "text/plain": [
       "         Name       Job Title  Salary Date Started  Pay After Bonus  \\\n",
       "0  John Smith       Reception   10670   1993-12-06            11170   \n",
       "1    Jane Doe  Administration   12804   1966-06-01            13304   \n",
       "2   Mike Mann         Manager   16005   1964-05-26            16505   \n",
       "3  Mandy Mann        Director   21340   1968-01-23            21840   \n",
       "4  Marge Mann        Director   21340   1976-01-26            21840   \n",
       "\n",
       "         DoB  Time Served  \n",
       "0 1963-12-06           30  \n",
       "1 1946-06-01           57  \n",
       "2 1934-05-26           60  \n",
       "3 1928-01-23           56  \n",
       "4 1956-01-26           48  "
      ]
     },
     "execution_count": 30,
     "metadata": {},
     "output_type": "execute_result"
    }
   ],
   "source": [
    "company_df['Time Served'] = pd.to_datetime('16/11/2023', format='%d/%m/%Y') - company_df['Date Started']\n",
    "company_df['Time Served'] = company_df['Time Served'] / pd.Timedelta('365 days')  #convert to years rather than default (days)\n",
    "company_df['Time Served'] = company_df['Time Served'].round().astype('int', errors='ignore')   #rounds to full years\n",
    "company_df"
   ]
  },
  {
   "cell_type": "code",
   "execution_count": 36,
   "metadata": {},
   "outputs": [
    {
     "data": {
      "text/html": [
       "<div>\n",
       "<style scoped>\n",
       "    .dataframe tbody tr th:only-of-type {\n",
       "        vertical-align: middle;\n",
       "    }\n",
       "\n",
       "    .dataframe tbody tr th {\n",
       "        vertical-align: top;\n",
       "    }\n",
       "\n",
       "    .dataframe thead th {\n",
       "        text-align: right;\n",
       "    }\n",
       "</style>\n",
       "<table border=\"1\" class=\"dataframe\">\n",
       "  <thead>\n",
       "    <tr style=\"text-align: right;\">\n",
       "      <th></th>\n",
       "      <th>Restaurant</th>\n",
       "      <th>Starter</th>\n",
       "      <th>Main</th>\n",
       "      <th>Dessert</th>\n",
       "    </tr>\n",
       "  </thead>\n",
       "  <tbody>\n",
       "    <tr>\n",
       "      <th>0</th>\n",
       "      <td>Emz</td>\n",
       "      <td>Soup</td>\n",
       "      <td>Steak</td>\n",
       "      <td>Cake</td>\n",
       "    </tr>\n",
       "    <tr>\n",
       "      <th>1</th>\n",
       "      <td>Bruz</td>\n",
       "      <td>Pate</td>\n",
       "      <td>Pasta</td>\n",
       "      <td>Pie</td>\n",
       "    </tr>\n",
       "    <tr>\n",
       "      <th>2</th>\n",
       "      <td>XXX</td>\n",
       "      <td>Salad</td>\n",
       "      <td>Rice</td>\n",
       "      <td>Ice Cream</td>\n",
       "    </tr>\n",
       "  </tbody>\n",
       "</table>\n",
       "</div>"
      ],
      "text/plain": [
       "  Restaurant Starter   Main    Dessert\n",
       "0        Emz    Soup  Steak       Cake\n",
       "1       Bruz    Pate  Pasta        Pie\n",
       "2        XXX   Salad   Rice  Ice Cream"
      ]
     },
     "execution_count": 36,
     "metadata": {},
     "output_type": "execute_result"
    }
   ],
   "source": [
    "import pandas as pd\n",
    "\n",
    "df_eatout = pd.DataFrame([\n",
    "{'Restaurant': 'Emz',\n",
    " 'Starter': 'Soup',\n",
    " 'Main': 'Steak',\n",
    " 'Dessert': 'Cake'},\n",
    "\n",
    " {'Restaurant': 'Bruz',\n",
    " 'Starter': 'Pate',\n",
    " 'Main': 'Pasta',\n",
    " 'Dessert': 'Pie'},\n",
    "\n",
    " {'Restaurant': 'XXX',\n",
    " 'Starter': 'Salad',\n",
    " 'Main': 'Rice',\n",
    " 'Dessert': 'Ice Cream'}\n",
    "])\n",
    "\n",
    "eatout_df"
   ]
  },
  {
   "cell_type": "code",
   "execution_count": 10,
   "metadata": {},
   "outputs": [
    {
     "data": {
      "text/html": [
       "<div>\n",
       "<style scoped>\n",
       "    .dataframe tbody tr th:only-of-type {\n",
       "        vertical-align: middle;\n",
       "    }\n",
       "\n",
       "    .dataframe tbody tr th {\n",
       "        vertical-align: top;\n",
       "    }\n",
       "\n",
       "    .dataframe thead th {\n",
       "        text-align: right;\n",
       "    }\n",
       "</style>\n",
       "<table border=\"1\" class=\"dataframe\">\n",
       "  <thead>\n",
       "    <tr style=\"text-align: right;\">\n",
       "      <th></th>\n",
       "      <th>Child_ID</th>\n",
       "      <th>Gender</th>\n",
       "      <th>DOB</th>\n",
       "      <th>Ethnicity</th>\n",
       "      <th>PLACE</th>\n",
       "    </tr>\n",
       "  </thead>\n",
       "  <tbody>\n",
       "    <tr>\n",
       "      <th>0</th>\n",
       "      <td>Child 1</td>\n",
       "      <td>0</td>\n",
       "      <td>2015-05-05</td>\n",
       "      <td>BANG</td>\n",
       "      <td>P1</td>\n",
       "    </tr>\n",
       "    <tr>\n",
       "      <th>1</th>\n",
       "      <td>Child 2</td>\n",
       "      <td>1</td>\n",
       "      <td>2020-12-12</td>\n",
       "      <td>WOTH</td>\n",
       "      <td>T1</td>\n",
       "    </tr>\n",
       "    <tr>\n",
       "      <th>2</th>\n",
       "      <td>Child 3</td>\n",
       "      <td>2</td>\n",
       "      <td>2000-01-01</td>\n",
       "      <td>MOTH</td>\n",
       "      <td>X1</td>\n",
       "    </tr>\n",
       "    <tr>\n",
       "      <th>3</th>\n",
       "      <td>Child 4</td>\n",
       "      <td>7</td>\n",
       "      <td>2017-12-09</td>\n",
       "      <td>WIRI</td>\n",
       "      <td>W1</td>\n",
       "    </tr>\n",
       "  </tbody>\n",
       "</table>\n",
       "</div>"
      ],
      "text/plain": [
       "  Child_ID Gender        DOB Ethnicity PLACE\n",
       "0  Child 1      0 2015-05-05      BANG    P1\n",
       "1  Child 2      1 2020-12-12      WOTH    T1\n",
       "2  Child 3      2 2000-01-01      MOTH    X1\n",
       "3  Child 4      7 2017-12-09      WIRI    W1"
      ]
     },
     "execution_count": 10,
     "metadata": {},
     "output_type": "execute_result"
    }
   ],
   "source": [
    "import pandas as pd\n",
    "\n",
    "child_info = pd.DataFrame([\n",
    "\n",
    "    {'Child_ID': 'Child 1',\n",
    "     'Gender': '0',\n",
    "     'DOB': '05/05/2015',\n",
    "     'Ethnicity': 'BANG',\n",
    "     'PLACE': 'P1'},    \n",
    "    \n",
    "      {'Child_ID': 'Child 2',\n",
    "     'Gender': '1',\n",
    "     'DOB': '12/12/2020',\n",
    "     'Ethnicity': 'WOTH',\n",
    "     'PLACE': 'T1'},  \n",
    "\n",
    "       {'Child_ID': 'Child 3',\n",
    "     'Gender': '2',\n",
    "     'DOB': '01/01/2000',\n",
    "     'Ethnicity': 'MOTH',\n",
    "     'PLACE': 'X1'},  \n",
    "\n",
    "       {'Child_ID': 'Child 4',\n",
    "     'Gender': '7',\n",
    "     'DOB': '09/12/2017',\n",
    "     'Ethnicity': 'WIRI',\n",
    "     'PLACE': 'W1'},  \n",
    "])\n",
    "\n",
    "child_info['DOB'] = pd.to_datetime(child_info['DOB'], format='%d/%m/%Y')\n",
    "child_info\n"
   ]
  },
  {
   "cell_type": "code",
   "execution_count": 11,
   "metadata": {},
   "outputs": [
    {
     "data": {
      "text/html": [
       "<div>\n",
       "<style scoped>\n",
       "    .dataframe tbody tr th:only-of-type {\n",
       "        vertical-align: middle;\n",
       "    }\n",
       "\n",
       "    .dataframe tbody tr th {\n",
       "        vertical-align: top;\n",
       "    }\n",
       "\n",
       "    .dataframe thead th {\n",
       "        text-align: right;\n",
       "    }\n",
       "</style>\n",
       "<table border=\"1\" class=\"dataframe\">\n",
       "  <thead>\n",
       "    <tr style=\"text-align: right;\">\n",
       "      <th></th>\n",
       "      <th>Name</th>\n",
       "      <th>Salary</th>\n",
       "      <th>Job Title</th>\n",
       "      <th>Date Started</th>\n",
       "    </tr>\n",
       "  </thead>\n",
       "  <tbody>\n",
       "    <tr>\n",
       "      <th>0</th>\n",
       "      <td>Will LP</td>\n",
       "      <td>10000</td>\n",
       "      <td>Employee</td>\n",
       "      <td>1993-12-05</td>\n",
       "    </tr>\n",
       "    <tr>\n",
       "      <th>1</th>\n",
       "      <td>Annie LP</td>\n",
       "      <td>15000</td>\n",
       "      <td>CEO</td>\n",
       "      <td>2000-01-01</td>\n",
       "    </tr>\n",
       "    <tr>\n",
       "      <th>2</th>\n",
       "      <td>Naiomi LP</td>\n",
       "      <td>90000</td>\n",
       "      <td>VP</td>\n",
       "      <td>2020-01-01</td>\n",
       "    </tr>\n",
       "    <tr>\n",
       "      <th>3</th>\n",
       "      <td>Luke V</td>\n",
       "      <td>45000</td>\n",
       "      <td>Teach Lead</td>\n",
       "      <td>1989-12-23</td>\n",
       "    </tr>\n",
       "    <tr>\n",
       "      <th>4</th>\n",
       "      <td>Matt K</td>\n",
       "      <td>30000</td>\n",
       "      <td>Comms</td>\n",
       "      <td>2010-10-10</td>\n",
       "    </tr>\n",
       "    <tr>\n",
       "      <th>5</th>\n",
       "      <td>Hannah K</td>\n",
       "      <td>38000</td>\n",
       "      <td>HR</td>\n",
       "      <td>2021-12-17</td>\n",
       "    </tr>\n",
       "  </tbody>\n",
       "</table>\n",
       "</div>"
      ],
      "text/plain": [
       "        Name Salary   Job Title Date Started\n",
       "0    Will LP  10000    Employee   1993-12-05\n",
       "1   Annie LP  15000         CEO   2000-01-01\n",
       "2  Naiomi LP  90000          VP   2020-01-01\n",
       "3     Luke V  45000  Teach Lead   1989-12-23\n",
       "4     Matt K  30000       Comms   2010-10-10\n",
       "5   Hannah K  38000          HR   2021-12-17"
      ]
     },
     "execution_count": 11,
     "metadata": {},
     "output_type": "execute_result"
    }
   ],
   "source": [
    "corporation = [{'Name':'Will LP',\n",
    "                'Salary':'10000',\n",
    "                'Job Title':'Employee'},\n",
    "                {'Name':'Annie LP',\n",
    "                'Salary':'15000',\n",
    "                'Job Title':'CEO'},\n",
    "                {'Name':'Naiomi LP',\n",
    "                'Salary':'90000',\n",
    "                'Job Title':'VP'},\n",
    "                {'Name':'Luke V',\n",
    "                'Salary':'45000',\n",
    "                'Job Title':'Teach Lead'},\n",
    "                {'Name':'Matt K',\n",
    "                'Salary':'30000',\n",
    "                'Job Title':'Comms'},\n",
    "                {'Name':'Hannah K',\n",
    "                'Salary':'38000',\n",
    "                'Job Title':'HR'},]\n",
    "\n",
    "corp_df = pd.DataFrame(corporation)\n",
    "\n",
    "\n",
    "corp_df['Date Started'] = ['05/12/1993', '01/01/2000', '01/01/2020', '23/12/1989', '10/10/2010', '17/12/2021']\n",
    "\n",
    "corp_df['Date Started'] = pd.to_datetime(corp_df['Date Started'], format='%d/%m/%Y')\n",
    "\n",
    "corp_df"
   ]
  },
  {
   "cell_type": "code",
   "execution_count": 18,
   "metadata": {},
   "outputs": [
    {
     "data": {
      "text/html": [
       "<div>\n",
       "<style scoped>\n",
       "    .dataframe tbody tr th:only-of-type {\n",
       "        vertical-align: middle;\n",
       "    }\n",
       "\n",
       "    .dataframe tbody tr th {\n",
       "        vertical-align: top;\n",
       "    }\n",
       "\n",
       "    .dataframe thead th {\n",
       "        text-align: right;\n",
       "    }\n",
       "</style>\n",
       "<table border=\"1\" class=\"dataframe\">\n",
       "  <thead>\n",
       "    <tr style=\"text-align: right;\">\n",
       "      <th></th>\n",
       "      <th>Name</th>\n",
       "      <th>Salary</th>\n",
       "      <th>Job Title</th>\n",
       "      <th>Date Started</th>\n",
       "    </tr>\n",
       "  </thead>\n",
       "  <tbody>\n",
       "    <tr>\n",
       "      <th>0</th>\n",
       "      <td>Will LP</td>\n",
       "      <td>10000</td>\n",
       "      <td>Employee</td>\n",
       "      <td>1993-12-05</td>\n",
       "    </tr>\n",
       "    <tr>\n",
       "      <th>1</th>\n",
       "      <td>Annie LP</td>\n",
       "      <td>15000</td>\n",
       "      <td>CEO</td>\n",
       "      <td>2000-01-01</td>\n",
       "    </tr>\n",
       "    <tr>\n",
       "      <th>4</th>\n",
       "      <td>Matt K</td>\n",
       "      <td>30000</td>\n",
       "      <td>Comms</td>\n",
       "      <td>2010-10-10</td>\n",
       "    </tr>\n",
       "    <tr>\n",
       "      <th>5</th>\n",
       "      <td>Hannah K</td>\n",
       "      <td>38000</td>\n",
       "      <td>HR</td>\n",
       "      <td>2021-12-17</td>\n",
       "    </tr>\n",
       "  </tbody>\n",
       "</table>\n",
       "</div>"
      ],
      "text/plain": [
       "       Name  Salary Job Title Date Started\n",
       "0   Will LP   10000  Employee   1993-12-05\n",
       "1  Annie LP   15000       CEO   2000-01-01\n",
       "4    Matt K   30000     Comms   2010-10-10\n",
       "5  Hannah K   38000        HR   2021-12-17"
      ]
     },
     "execution_count": 18,
     "metadata": {},
     "output_type": "execute_result"
    }
   ],
   "source": [
    "# Equals ==\n",
    "# Not equal !=\n",
    "# less than <\n",
    "# greater than >\n",
    "# greater or equal >=\n",
    "#less or equal <=\n",
    "\n",
    "corp_df['Salary'] = corp_df['Salary'].astype('int')\n",
    "\n",
    "selection = corp_df['Salary'] > 40000\n",
    "selection\n",
    "\n",
    "over_40k = corp_df[selection]\n",
    "under_40k = corp_df[~selection]\n",
    "under_40k"
   ]
  },
  {
   "cell_type": "code",
   "execution_count": 19,
   "metadata": {},
   "outputs": [
    {
     "data": {
      "text/html": [
       "<div>\n",
       "<style scoped>\n",
       "    .dataframe tbody tr th:only-of-type {\n",
       "        vertical-align: middle;\n",
       "    }\n",
       "\n",
       "    .dataframe tbody tr th {\n",
       "        vertical-align: top;\n",
       "    }\n",
       "\n",
       "    .dataframe thead th {\n",
       "        text-align: right;\n",
       "    }\n",
       "</style>\n",
       "<table border=\"1\" class=\"dataframe\">\n",
       "  <thead>\n",
       "    <tr style=\"text-align: right;\">\n",
       "      <th></th>\n",
       "      <th>Name</th>\n",
       "      <th>Salary</th>\n",
       "      <th>Job Title</th>\n",
       "      <th>Date Started</th>\n",
       "    </tr>\n",
       "  </thead>\n",
       "  <tbody>\n",
       "    <tr>\n",
       "      <th>2</th>\n",
       "      <td>Naiomi LP</td>\n",
       "      <td>90000</td>\n",
       "      <td>VP</td>\n",
       "      <td>2020-01-01</td>\n",
       "    </tr>\n",
       "    <tr>\n",
       "      <th>3</th>\n",
       "      <td>Luke V</td>\n",
       "      <td>45000</td>\n",
       "      <td>Teach Lead</td>\n",
       "      <td>1989-12-23</td>\n",
       "    </tr>\n",
       "  </tbody>\n",
       "</table>\n",
       "</div>"
      ],
      "text/plain": [
       "        Name  Salary   Job Title Date Started\n",
       "2  Naiomi LP   90000          VP   2020-01-01\n",
       "3     Luke V   45000  Teach Lead   1989-12-23"
      ]
     },
     "execution_count": 19,
     "metadata": {},
     "output_type": "execute_result"
    }
   ],
   "source": [
    "mask = corp_df['Salary'] > corp_df['Salary'].mean()\n",
    "over_mean = corp_df[mask]\n",
    "over_mean"
   ]
  },
  {
   "cell_type": "code",
   "execution_count": 58,
   "metadata": {},
   "outputs": [
    {
     "data": {
      "text/html": [
       "<div>\n",
       "<style scoped>\n",
       "    .dataframe tbody tr th:only-of-type {\n",
       "        vertical-align: middle;\n",
       "    }\n",
       "\n",
       "    .dataframe tbody tr th {\n",
       "        vertical-align: top;\n",
       "    }\n",
       "\n",
       "    .dataframe thead th {\n",
       "        text-align: right;\n",
       "    }\n",
       "</style>\n",
       "<table border=\"1\" class=\"dataframe\">\n",
       "  <thead>\n",
       "    <tr style=\"text-align: right;\">\n",
       "      <th></th>\n",
       "      <th>Child_ID</th>\n",
       "      <th>Gender</th>\n",
       "      <th>DOB</th>\n",
       "      <th>Ethnicity</th>\n",
       "      <th>PLACE</th>\n",
       "    </tr>\n",
       "  </thead>\n",
       "  <tbody>\n",
       "    <tr>\n",
       "      <th>0</th>\n",
       "      <td>Child 1</td>\n",
       "      <td>0</td>\n",
       "      <td>2015-05-05</td>\n",
       "      <td>BANG</td>\n",
       "      <td>P1</td>\n",
       "    </tr>\n",
       "    <tr>\n",
       "      <th>1</th>\n",
       "      <td>Child 2</td>\n",
       "      <td>1</td>\n",
       "      <td>2020-12-12</td>\n",
       "      <td>WOTH</td>\n",
       "      <td>T1</td>\n",
       "    </tr>\n",
       "    <tr>\n",
       "      <th>2</th>\n",
       "      <td>Child 3</td>\n",
       "      <td>2</td>\n",
       "      <td>2000-01-01</td>\n",
       "      <td>MOTH</td>\n",
       "      <td>X1</td>\n",
       "    </tr>\n",
       "    <tr>\n",
       "      <th>3</th>\n",
       "      <td>Child 4</td>\n",
       "      <td>7</td>\n",
       "      <td>2017-12-09</td>\n",
       "      <td>WIRI</td>\n",
       "      <td>W1</td>\n",
       "    </tr>\n",
       "  </tbody>\n",
       "</table>\n",
       "</div>"
      ],
      "text/plain": [
       "  Child_ID Gender        DOB Ethnicity PLACE\n",
       "0  Child 1      0 2015-05-05      BANG    P1\n",
       "1  Child 2      1 2020-12-12      WOTH    T1\n",
       "2  Child 3      2 2000-01-01      MOTH    X1\n",
       "3  Child 4      7 2017-12-09      WIRI    W1"
      ]
     },
     "execution_count": 58,
     "metadata": {},
     "output_type": "execute_result"
    }
   ],
   "source": [
    "import pandas as pd\n",
    "\n",
    "child_info = pd.DataFrame([\n",
    "\n",
    "    {'Child_ID': 'Child 1',\n",
    "     'Gender': '0',\n",
    "     'DOB': '05/05/2015',\n",
    "     'Ethnicity': 'BANG',\n",
    "     'PLACE': 'P1'},    \n",
    "    \n",
    "      {'Child_ID': 'Child 2',\n",
    "     'Gender': '1',\n",
    "     'DOB': '12/12/2020',\n",
    "     'Ethnicity': 'WOTH',\n",
    "     'PLACE': 'T1'},  \n",
    "\n",
    "       {'Child_ID': 'Child 3',\n",
    "     'Gender': '2',\n",
    "     'DOB': '01/01/2000',\n",
    "     'Ethnicity': 'MOTH',\n",
    "     'PLACE': 'X1'},  \n",
    "\n",
    "       {'Child_ID': 'Child 4',\n",
    "     'Gender': '7',\n",
    "     'DOB': '09/12/2017',\n",
    "     'Ethnicity': 'WIRI',\n",
    "     'PLACE': 'W1'},  \n",
    "])\n",
    "\n",
    "child_info['DOB'] = pd.to_datetime(child_info['DOB'], format='%d/%m/%Y')\n",
    "child_info"
   ]
  },
  {
   "cell_type": "code",
   "execution_count": 42,
   "metadata": {},
   "outputs": [
    {
     "name": "stdout",
     "output_type": "stream",
     "text": [
      "  Child_ID Gender        DOB Ethnicity PLACE\n",
      "3  Child 4      7 2017-12-09      WIRI    W1\n",
      "  Child_ID Gender        DOB Ethnicity PLACE\n",
      "0  Child 1      0 2015-05-05      BANG    P1\n"
     ]
    }
   ],
   "source": [
    "gender_error_df = child_info[child_info['Gender'] == '7']\n",
    "print(gender_error_df)\n",
    "\n",
    "ethnic_error_df = child_info[child_info['Ethnicity'] == 'BANG']\n",
    "print(ethnic_error_df)\n",
    "\n",
    "\n"
   ]
  },
  {
   "cell_type": "code",
   "execution_count": 48,
   "metadata": {},
   "outputs": [
    {
     "name": "stdout",
     "output_type": "stream",
     "text": [
      "  Child_ID Gender        DOB  Ethnicity PLACE\n",
      "3  Child 4      7 2017-12-09        NaN    W1\n",
      "  Child_ID Gender        DOB  Ethnicity PLACE\n",
      "0  Child 1      0 2015-05-05        NaN    P1\n",
      "1  Child 2      1 2020-12-12        NaN    T1\n",
      "2  Child 3      2 2000-01-01        NaN    X1\n",
      "Empty DataFrame\n",
      "Columns: [Child_ID, Gender, DOB, Ethnicity, PLACE]\n",
      "Index: []\n",
      "  Child_ID Gender        DOB  Ethnicity PLACE\n",
      "0  Child 1      0 2015-05-05        NaN    P1\n",
      "1  Child 2      1 2020-12-12        NaN    T1\n",
      "2  Child 3      2 2000-01-01        NaN    X1\n",
      "3  Child 4      7 2017-12-09        NaN    W1\n"
     ]
    }
   ],
   "source": [
    "child_info\n",
    "mask = child_info['Gender'] == '7'\n",
    "\n",
    "wrong_gender_codes = child_info[mask]\n",
    "print(wrong_gender_codes)\n",
    "\n",
    "correct_gc = child_info[~mask]\n",
    "print(correct_gc)\n",
    "\n",
    "incorrect_eth = child_info[child_info['Ethnicity'] =='BANG']\n",
    "print(incorrect_eth)\n",
    "\n",
    "correct_eth = child_info[child_info['Ethnicity'] !='BANG']\n",
    "print(correct_eth)"
   ]
  },
  {
   "cell_type": "code",
   "execution_count": 59,
   "metadata": {},
   "outputs": [
    {
     "ename": "TypeError",
     "evalue": "Series.isin() takes 2 positional arguments but 3 were given",
     "output_type": "error",
     "traceback": [
      "\u001b[0;31m---------------------------------------------------------------------------\u001b[0m",
      "\u001b[0;31mTypeError\u001b[0m                                 Traceback (most recent call last)",
      "\u001b[1;32m/workspaces/ERN-sessions/Emma_K/Session_1.ipynb Cell 40\u001b[0m line \u001b[0;36m5\n\u001b[1;32m      <a href='vscode-notebook-cell://codespaces%2Bfluffy-halibut-4j7447g7qv55cq7g5/workspaces/ERN-sessions/Emma_K/Session_1.ipynb#X60sdnNjb2RlLXJlbW90ZQ%3D%3D?line=0'>1</a>\u001b[0m df \u001b[39m=\u001b[39m child_info\n\u001b[1;32m      <a href='vscode-notebook-cell://codespaces%2Bfluffy-halibut-4j7447g7qv55cq7g5/workspaces/ERN-sessions/Emma_K/Session_1.ipynb#X60sdnNjb2RlLXJlbW90ZQ%3D%3D?line=1'>2</a>\u001b[0m \u001b[39m# df['Ethnicity']= df['Ethnicity'].str.lower()\u001b[39;00m\n\u001b[1;32m      <a href='vscode-notebook-cell://codespaces%2Bfluffy-halibut-4j7447g7qv55cq7g5/workspaces/ERN-sessions/Emma_K/Session_1.ipynb#X60sdnNjb2RlLXJlbW90ZQ%3D%3D?line=2'>3</a>\u001b[0m \u001b[39m# df\u001b[39;00m\n\u001b[0;32m----> <a href='vscode-notebook-cell://codespaces%2Bfluffy-halibut-4j7447g7qv55cq7g5/workspaces/ERN-sessions/Emma_K/Session_1.ipynb#X60sdnNjb2RlLXJlbW90ZQ%3D%3D?line=4'>5</a>\u001b[0m moth_woth \u001b[39m=\u001b[39m df[df[\u001b[39m'\u001b[39;49m\u001b[39mEthnicity\u001b[39;49m\u001b[39m'\u001b[39;49m]\u001b[39m.\u001b[39;49mstr\u001b[39m.\u001b[39;49mlower()\u001b[39m.\u001b[39;49misin(\u001b[39m'\u001b[39;49m\u001b[39mmoth\u001b[39;49m\u001b[39m'\u001b[39;49m,\u001b[39m'\u001b[39;49m\u001b[39mwoth\u001b[39;49m\u001b[39m'\u001b[39;49m)]\n\u001b[1;32m      <a href='vscode-notebook-cell://codespaces%2Bfluffy-halibut-4j7447g7qv55cq7g5/workspaces/ERN-sessions/Emma_K/Session_1.ipynb#X60sdnNjb2RlLXJlbW90ZQ%3D%3D?line=5'>6</a>\u001b[0m moth_woth\n",
      "\u001b[0;31mTypeError\u001b[0m: Series.isin() takes 2 positional arguments but 3 were given"
     ]
    }
   ],
   "source": [
    "df = child_info\n",
    "# df['Ethnicity']= df['Ethnicity'].str.lower()\n",
    "# df\n",
    "\n",
    "moth_woth = df[df['Ethnicity'].str.lower().isin('moth','woth')]\n",
    "moth_woth"
   ]
  }
 ],
 "metadata": {
  "kernelspec": {
   "display_name": "Python 3",
   "language": "python",
   "name": "python3"
  },
  "language_info": {
   "codemirror_mode": {
    "name": "ipython",
    "version": 3
   },
   "file_extension": ".py",
   "mimetype": "text/x-python",
   "name": "python",
   "nbconvert_exporter": "python",
   "pygments_lexer": "ipython3",
   "version": "3.10.8"
  }
 },
 "nbformat": 4,
 "nbformat_minor": 2
}

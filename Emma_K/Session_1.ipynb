{
 "cells": [
  {
   "cell_type": "code",
   "execution_count": null,
   "metadata": {},
   "outputs": [],
   "source": [
    "phrase = \"I'm Emma\" # String\n",
    "print(phrase)"
   ]
  },
  {
   "cell_type": "code",
   "execution_count": null,
   "metadata": {},
   "outputs": [],
   "source": []
  },
  {
   "cell_type": "code",
   "execution_count": null,
   "metadata": {},
   "outputs": [],
   "source": []
  },
  {
   "cell_type": "code",
   "execution_count": null,
   "metadata": {},
   "outputs": [],
   "source": [
    "x = 5 # Integer\n",
    "y = 10 \n",
    "z = x + y #plus symbol\n",
    "print(z)\n",
    "z = y / x #divide\n",
    "print(z) # Float\n",
    "print(type(z))\n",
    "\n",
    "j=type(z)\n",
    "print(j)"
   ]
  },
  {
   "cell_type": "code",
   "execution_count": null,
   "metadata": {},
   "outputs": [],
   "source": [
    "x = 5\n",
    "y = 7\n",
    "print(x*y)\n"
   ]
  },
  {
   "cell_type": "code",
   "execution_count": null,
   "metadata": {},
   "outputs": [],
   "source": [
    "r = 2\n",
    "pi = 3.14\n",
    "square = r**2\n",
    "area = pi * (r**2)\n",
    "print(area)"
   ]
  },
  {
   "cell_type": "code",
   "execution_count": null,
   "metadata": {},
   "outputs": [],
   "source": [
    "name =\"Emma\"\n",
    "hobby = \"running\"\n",
    "long_string = \"My name is \" + name + \" and my hobby is \" + hobby\n",
    "#print(long_string)\n",
    "\n",
    "phrase = f\"My name is {name} and my hobby is {hobby}\"\n",
    "print(phrase)"
   ]
  },
  {
   "cell_type": "code",
   "execution_count": null,
   "metadata": {},
   "outputs": [],
   "source": [
    "name = \"Emma\"\n",
    "role = \"Performance Project Officer\"\n",
    "phrase = f\"My name is {name} and my job title is {role}\"\n",
    "print(phrase)"
   ]
  },
  {
   "cell_type": "code",
   "execution_count": 35,
   "metadata": {},
   "outputs": [
    {
     "ename": "NameError",
     "evalue": "name 'phrase' is not defined",
     "output_type": "error",
     "traceback": [
      "\u001b[0;31m---------------------------------------------------------------------------\u001b[0m",
      "\u001b[0;31mNameError\u001b[0m                                 Traceback (most recent call last)",
      "\u001b[1;32m/workspaces/ERN-sessions/Emma_K/Session_1.ipynb Cell 9\u001b[0m line \u001b[0;36m1\n\u001b[0;32m----> <a href='vscode-notebook-cell://codespaces%2Bfluffy-halibut-4j7447g7qv55cq7g5/workspaces/ERN-sessions/Emma_K/Session_1.ipynb#X11sdnNjb2RlLXJlbW90ZQ%3D%3D?line=0'>1</a>\u001b[0m \u001b[39mprint\u001b[39m(\u001b[39mlen\u001b[39m(phrase))\n\u001b[1;32m      <a href='vscode-notebook-cell://codespaces%2Bfluffy-halibut-4j7447g7qv55cq7g5/workspaces/ERN-sessions/Emma_K/Session_1.ipynb#X11sdnNjb2RlLXJlbW90ZQ%3D%3D?line=1'>2</a>\u001b[0m string_slice \u001b[39m=\u001b[39m phrase[\u001b[39m3\u001b[39m:\u001b[39m15\u001b[39m]\n\u001b[1;32m      <a href='vscode-notebook-cell://codespaces%2Bfluffy-halibut-4j7447g7qv55cq7g5/workspaces/ERN-sessions/Emma_K/Session_1.ipynb#X11sdnNjb2RlLXJlbW90ZQ%3D%3D?line=2'>3</a>\u001b[0m \u001b[39mprint\u001b[39m(string_slice)\n",
      "\u001b[0;31mNameError\u001b[0m: name 'phrase' is not defined"
     ]
    }
   ],
   "source": [
    "print(len(phrase))\n",
    "string_slice = phrase[3:15]\n",
    "print(string_slice)\n",
    "\n",
    "filename = \"here_is_a_file.csv\"\n",
    "filename = filename[:-4]\n",
    "print(filename)\n"
   ]
  },
  {
   "cell_type": "code",
   "execution_count": null,
   "metadata": {},
   "outputs": [],
   "source": [
    "slice_this_phrase = 'dog cat racoon'\n",
    "dog = slice_this_phrase[0:3]\n",
    "print(dog)\n",
    "cat = slice_this_phrase[4:7]\n",
    "print(cat)\n",
    "racoon = slice_this_phrase[-6:]\n",
    "print(racoon)\n",
    "print(f\"{dog} {cat} {racoon}\")\n"
   ]
  },
  {
   "cell_type": "code",
   "execution_count": null,
   "metadata": {},
   "outputs": [],
   "source": [
    "list_1 = [1,2,3,x,y]\n",
    "print(list_1)"
   ]
  },
  {
   "cell_type": "code",
   "execution_count": null,
   "metadata": {},
   "outputs": [],
   "source": [
    "favourite_colour = \"teal\"\n",
    "colours_list = [\"red\", \"blue\", \"green\"]\n",
    "colours_list.append(favourite_colour)\n",
    "print(f\"My colours are: {colours_list}\")"
   ]
  },
  {
   "cell_type": "code",
   "execution_count": 17,
   "metadata": {},
   "outputs": [
    {
     "name": "stdout",
     "output_type": "stream",
     "text": [
      "['potato', 'pasta', 'rice', 'meat']\n",
      "['potato', 'pasta', 'rice', 'meat', 'cheese']\n"
     ]
    }
   ],
   "source": [
    "food_list = [\"potato\", \"pasta\", \"rice\", \"meat\"]\n",
    "favourite_food = \"cheese\"\n",
    "print (food_list)\n",
    "food_list.append(favourite_food)   \n",
    "print(food_list)"
   ]
  },
  {
   "cell_type": "code",
   "execution_count": null,
   "metadata": {},
   "outputs": [],
   "source": [
    "food_list = [\"potato\", \"pasta\", \"rice\", \"meat\"]\n",
    "new_food_list = [\"apple\", \"banana\",\"grape\"]\n",
    "print(new_food_list)\n",
    "#food_list.append(new_food_list)\n",
    "#food_list.extend(new_food_list)\n",
    "print(food_list)"
   ]
  },
  {
   "cell_type": "code",
   "execution_count": null,
   "metadata": {},
   "outputs": [],
   "source": []
  },
  {
   "cell_type": "code",
   "execution_count": 3,
   "metadata": {},
   "outputs": [
    {
     "name": "stdout",
     "output_type": "stream",
     "text": [
      "[6, 5, 4, 3, 2, 1]\n"
     ]
    }
   ],
   "source": [
    "numbers_list = [2,3,4,5,1,6]\n",
    "numbers_list.sort()\n",
    "\n",
    "numbers_list = [2,3,4,5,1,6]\n",
    "numbers_list.sort(reverse=True)\n",
    "print(numbers_list)"
   ]
  },
  {
   "cell_type": "code",
   "execution_count": 4,
   "metadata": {},
   "outputs": [
    {
     "name": "stdout",
     "output_type": "stream",
     "text": [
      "['Apples', 'meat', 'pasta', 'potato']\n"
     ]
    }
   ],
   "source": [
    "food_list = [\"potato\", \"pasta\", \"Apples\", \"meat\"]\n",
    "food_list.sort()\n",
    "print(food_list)"
   ]
  },
  {
   "cell_type": "code",
   "execution_count": null,
   "metadata": {},
   "outputs": [],
   "source": [
    "favourite_colours_dict = {'will':'purple',\n",
    "                     'scout':['yellow', 'red'],\n",
    "                     'crash':23,\n",
    "                     'Naomi':{'Monday':'purple',\n",
    "                               'EOD':'Yellow'}}\n",
    "print(favourite_colours_dict)\n",
    "print(favourite_colours_dict['Naomi'])\n",
    "print(favourite_colours_dict.keys())\n",
    "print(favourite_colours_dict.values())\n",
    "print(favourite_colours_dict.items())"
   ]
  },
  {
   "cell_type": "code",
   "execution_count": null,
   "metadata": {},
   "outputs": [],
   "source": [
    "restaurant_dict = {'Chippy':'chips',\n",
    "                     'Chinese':['rice', 'sweet & sour'],\n",
    "                     'Indian':{'curry':'naan'}}\n",
    "print(restaurant_dict)\n",
    "print(restaurant_dict['Indian'])\n",
    "print(restaurant_dict.keys())\n",
    "print(restaurant_dict.values())\n",
    "print(restaurant_dict.items())"
   ]
  },
  {
   "cell_type": "code",
   "execution_count": null,
   "metadata": {},
   "outputs": [],
   "source": [
    "favourite_colours_dict = {'will':'purple',\n",
    "                     'scout':['yellow', 'red'],\n",
    "                     'crash':23,\n",
    "                     'Naomi':'Orange'}\n",
    "favourite_colours_dict['Annie']='Blue'\n",
    "favourite_colours_dict['Naomi'] = 'Blue'\n",
    "favourite_colours_dict['Andy'] = 'Blue'\n",
    "print(favourite_colours_dict)\n",
    "print('Andy' in favourite_colours_dict)"
   ]
  },
  {
   "cell_type": "code",
   "execution_count": null,
   "metadata": {},
   "outputs": [],
   "source": [
    "job_dict = {'Emma':'Performance Officer',\n",
    "            'Will':'Instructing',\n",
    "            'Emily':'Perfommance Anylist',\n",
    "            'Jon': 'Performance M',\n",
    "            'Emma': 'Performance O',\n",
    "            'Paul M':'Perf O',\n",
    "            'Michael M': 'Regional',\n",
    "            'Michael C': 'Anylist',\n",
    "            'Paul D': 'Senior PM',\n",
    "            'Nazahah': 'Analyst'\n",
    "            }\n",
    "names = list(job_dict.keys())\n",
    "print(names)\n",
    "for key,val in job_dict.items():\n",
    "    print(f\"My name is {key}, my job is {val}\")"
   ]
  },
  {
   "cell_type": "code",
   "execution_count": 31,
   "metadata": {},
   "outputs": [
    {
     "name": "stdout",
     "output_type": "stream",
     "text": [
      "{'Sum': 12, 'Subtract': 2, 'Square x': 49, 'Square y': 25, 'Power': 16807}\n"
     ]
    }
   ],
   "source": [
    "#Assignment 1.1\n",
    "maths_dict = {}  #initialise a blank dictionary\n",
    "\n",
    "x=7\n",
    "y=5\n",
    "add_var = (x+y)\n",
    "sub_var = (x-y)\n",
    "squared_var1 = (x**2)\n",
    "squared_var2 = (y**2)\n",
    "power_var = (pow(x,y))\n",
    "\n",
    "maths_dict[\"Sum\"] = add_var\n",
    "maths_dict[\"Subtract\"] = sub_var\n",
    "maths_dict[\"Square x\"] = squared_var1\n",
    "maths_dict[\"Square y\"] = squared_var2\n",
    "maths_dict[\"Power\"] = power_var\n",
    "\n",
    "print(maths_dict)"
   ]
  },
  {
   "cell_type": "code",
   "execution_count": 4,
   "metadata": {},
   "outputs": [
    {
     "name": "stdout",
     "output_type": "stream",
     "text": [
      "4444444444444444\n",
      "4444\n",
      "12\n",
      "xxxxxxxxxxxx4444\n"
     ]
    },
    {
     "data": {
      "text/plain": [
       "16"
      ]
     },
     "execution_count": 4,
     "metadata": {},
     "output_type": "execute_result"
    }
   ],
   "source": [
    "#Assignment 1.2\n",
    "ccard = \"4444444444444444\"\n",
    "print(ccard)\n",
    "last4 = ccard[-4:]\n",
    "print(last4)\n",
    "len(ccard)\n",
    "anon = \"x\"\n",
    "non_anon = (len(ccard)-4)\n",
    "print(non_anon)\n",
    "\n",
    "print(anon * non_anon + last4)\n",
    "len((anon * non_anon + last4))"
   ]
  }
 ],
 "metadata": {
  "kernelspec": {
   "display_name": "Python 3",
   "language": "python",
   "name": "python3"
  },
  "language_info": {
   "codemirror_mode": {
    "name": "ipython",
    "version": 3
   },
   "file_extension": ".py",
   "mimetype": "text/x-python",
   "name": "python",
   "nbconvert_exporter": "python",
   "pygments_lexer": "ipython3",
   "version": "3.10.8"
  }
 },
 "nbformat": 4,
 "nbformat_minor": 2
}

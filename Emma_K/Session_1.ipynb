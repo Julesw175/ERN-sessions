{
 "cells": [
  {
   "cell_type": "code",
   "execution_count": null,
   "metadata": {},
   "outputs": [],
   "source": [
    "phrase = \"I'm Emma\" # String\n",
    "print(phrase)"
   ]
  },
  {
   "cell_type": "code",
   "execution_count": null,
   "metadata": {},
   "outputs": [],
   "source": [
    "x = 5 # Integer\n",
    "y = 10 \n",
    "z = x + y #plus symbol\n",
    "print(z)\n",
    "z = y / x #divide\n",
    "print(z) # Float\n",
    "print(type(z))\n",
    "\n",
    "j=type(z)\n",
    "print(j)"
   ]
  },
  {
   "cell_type": "code",
   "execution_count": null,
   "metadata": {},
   "outputs": [],
   "source": [
    "x = 5\n",
    "y = 7\n",
    "print(x*y)\n"
   ]
  },
  {
   "cell_type": "code",
   "execution_count": null,
   "metadata": {},
   "outputs": [],
   "source": [
    "r = 2\n",
    "pi = 3.14\n",
    "square = r**2\n",
    "area = pi * (r**2)\n",
    "print(area)"
   ]
  },
  {
   "cell_type": "code",
   "execution_count": null,
   "metadata": {},
   "outputs": [],
   "source": [
    "name =\"Emma\"\n",
    "hobby = \"running\"\n",
    "long_string = \"My name is \" + name + \" and my hobby is \" + hobby\n",
    "#print(long_string)\n",
    "\n",
    "phrase = f\"My name is {name} and my hobby is {hobby}\"\n",
    "print(phrase)"
   ]
  },
  {
   "cell_type": "code",
   "execution_count": null,
   "metadata": {},
   "outputs": [],
   "source": [
    "name = \"Emma\"\n",
    "role = \"Performance Project Officer\"\n",
    "phrase = f\"My name is {name} and my job title is {role}\"\n",
    "print(phrase)"
   ]
  },
  {
   "cell_type": "code",
   "execution_count": 35,
   "metadata": {},
   "outputs": [
    {
     "ename": "NameError",
     "evalue": "name 'phrase' is not defined",
     "output_type": "error",
     "traceback": [
      "\u001b[0;31m---------------------------------------------------------------------------\u001b[0m",
      "\u001b[0;31mNameError\u001b[0m                                 Traceback (most recent call last)",
      "\u001b[1;32m/workspaces/ERN-sessions/Emma_K/Session_1.ipynb Cell 9\u001b[0m line \u001b[0;36m1\n\u001b[0;32m----> <a href='vscode-notebook-cell://codespaces%2Bfluffy-halibut-4j7447g7qv55cq7g5/workspaces/ERN-sessions/Emma_K/Session_1.ipynb#X11sdnNjb2RlLXJlbW90ZQ%3D%3D?line=0'>1</a>\u001b[0m \u001b[39mprint\u001b[39m(\u001b[39mlen\u001b[39m(phrase))\n\u001b[1;32m      <a href='vscode-notebook-cell://codespaces%2Bfluffy-halibut-4j7447g7qv55cq7g5/workspaces/ERN-sessions/Emma_K/Session_1.ipynb#X11sdnNjb2RlLXJlbW90ZQ%3D%3D?line=1'>2</a>\u001b[0m string_slice \u001b[39m=\u001b[39m phrase[\u001b[39m3\u001b[39m:\u001b[39m15\u001b[39m]\n\u001b[1;32m      <a href='vscode-notebook-cell://codespaces%2Bfluffy-halibut-4j7447g7qv55cq7g5/workspaces/ERN-sessions/Emma_K/Session_1.ipynb#X11sdnNjb2RlLXJlbW90ZQ%3D%3D?line=2'>3</a>\u001b[0m \u001b[39mprint\u001b[39m(string_slice)\n",
      "\u001b[0;31mNameError\u001b[0m: name 'phrase' is not defined"
     ]
    }
   ],
   "source": [
    "print(len(phrase))\n",
    "string_slice = phrase[3:15]\n",
    "print(string_slice)\n",
    "\n",
    "filename = \"here_is_a_file.csv\"\n",
    "filename = filename[:-4]\n",
    "print(filename)\n"
   ]
  },
  {
   "cell_type": "code",
   "execution_count": null,
   "metadata": {},
   "outputs": [],
   "source": [
    "slice_this_phrase = 'dog cat racoon'\n",
    "dog = slice_this_phrase[0:3]\n",
    "print(dog)\n",
    "cat = slice_this_phrase[4:7]\n",
    "print(cat)\n",
    "racoon = slice_this_phrase[-6:]\n",
    "print(racoon)\n",
    "print(f\"{dog} {cat} {racoon}\")\n"
   ]
  },
  {
   "cell_type": "code",
   "execution_count": null,
   "metadata": {},
   "outputs": [],
   "source": [
    "list_1 = [1,2,3,x,y]\n",
    "print(list_1)"
   ]
  },
  {
   "cell_type": "code",
   "execution_count": null,
   "metadata": {},
   "outputs": [],
   "source": [
    "favourite_colour = \"teal\"\n",
    "colours_list = [\"red\", \"blue\", \"green\"]\n",
    "colours_list.append(favourite_colour)\n",
    "print(f\"My colours are: {colours_list}\")"
   ]
  },
  {
   "cell_type": "code",
   "execution_count": 17,
   "metadata": {},
   "outputs": [
    {
     "name": "stdout",
     "output_type": "stream",
     "text": [
      "['potato', 'pasta', 'rice', 'meat']\n",
      "['potato', 'pasta', 'rice', 'meat', 'cheese']\n"
     ]
    }
   ],
   "source": [
    "food_list = [\"potato\", \"pasta\", \"rice\", \"meat\"]\n",
    "favourite_food = \"cheese\"\n",
    "print (food_list)\n",
    "food_list.append(favourite_food)   \n",
    "print(food_list)"
   ]
  },
  {
   "cell_type": "code",
   "execution_count": null,
   "metadata": {},
   "outputs": [],
   "source": [
    "food_list = [\"potato\", \"pasta\", \"rice\", \"meat\"]\n",
    "new_food_list = [\"apple\", \"banana\",\"grape\"]\n",
    "print(new_food_list)\n",
    "#food_list.append(new_food_list)\n",
    "#food_list.extend(new_food_list)\n",
    "print(food_list)"
   ]
  },
  {
   "cell_type": "code",
   "execution_count": null,
   "metadata": {},
   "outputs": [],
   "source": []
  },
  {
   "cell_type": "code",
   "execution_count": 3,
   "metadata": {},
   "outputs": [
    {
     "name": "stdout",
     "output_type": "stream",
     "text": [
      "[6, 5, 4, 3, 2, 1]\n"
     ]
    }
   ],
   "source": [
    "numbers_list = [2,3,4,5,1,6]\n",
    "numbers_list.sort()\n",
    "\n",
    "numbers_list = [2,3,4,5,1,6]\n",
    "numbers_list.sort(reverse=True)\n",
    "print(numbers_list)"
   ]
  },
  {
   "cell_type": "code",
   "execution_count": 4,
   "metadata": {},
   "outputs": [
    {
     "name": "stdout",
     "output_type": "stream",
     "text": [
      "['Apples', 'meat', 'pasta', 'potato']\n"
     ]
    }
   ],
   "source": [
    "food_list = [\"potato\", \"pasta\", \"Apples\", \"meat\"]\n",
    "food_list.sort()\n",
    "print(food_list)"
   ]
  },
  {
   "cell_type": "code",
   "execution_count": null,
   "metadata": {},
   "outputs": [],
   "source": [
    "favourite_colours_dict = {'will':'purple',\n",
    "                     'scout':['yellow', 'red'],\n",
    "                     'crash':23,\n",
    "                     'Naomi':{'Monday':'purple',\n",
    "                               'EOD':'Yellow'}}\n",
    "print(favourite_colours_dict)\n",
    "print(favourite_colours_dict['Naomi'])\n",
    "print(favourite_colours_dict.keys())\n",
    "print(favourite_colours_dict.values())\n",
    "print(favourite_colours_dict.items())"
   ]
  },
  {
   "cell_type": "code",
   "execution_count": null,
   "metadata": {},
   "outputs": [],
   "source": [
    "restaurant_dict = {'Chippy':'chips',\n",
    "                     'Chinese':['rice', 'sweet & sour'],\n",
    "                     'Indian':{'curry':'naan'}}\n",
    "print(restaurant_dict)\n",
    "print(restaurant_dict['Indian'])\n",
    "print(restaurant_dict.keys())\n",
    "print(restaurant_dict.values())\n",
    "print(restaurant_dict.items())"
   ]
  },
  {
   "cell_type": "code",
   "execution_count": null,
   "metadata": {},
   "outputs": [],
   "source": [
    "favourite_colours_dict = {'will':'purple',\n",
    "                     'scout':['yellow', 'red'],\n",
    "                     'crash':23,\n",
    "                     'Naomi':'Orange'}\n",
    "favourite_colours_dict['Annie']='Blue'\n",
    "favourite_colours_dict['Naomi'] = 'Blue'\n",
    "favourite_colours_dict['Andy'] = 'Blue'\n",
    "print(favourite_colours_dict)\n",
    "print('Andy' in favourite_colours_dict)"
   ]
  },
  {
   "cell_type": "code",
   "execution_count": null,
   "metadata": {},
   "outputs": [],
   "source": [
    "job_dict = {'Emma':'Performance Officer',\n",
    "            'Will':'Instructing',\n",
    "            'Emily':'Perfommance Anylist',\n",
    "            'Jon': 'Performance M',\n",
    "            'Emma': 'Performance O',\n",
    "            'Paul M':'Perf O',\n",
    "            'Michael M': 'Regional',\n",
    "            'Michael C': 'Anylist',\n",
    "            'Paul D': 'Senior PM',\n",
    "            'Nazahah': 'Analyst'\n",
    "            }\n",
    "names = list(job_dict.keys())\n",
    "print(names)\n",
    "for key,val in job_dict.items():\n",
    "    print(f\"My name is {key}, my job is {val}\")"
   ]
  },
  {
   "cell_type": "code",
   "execution_count": 31,
   "metadata": {},
   "outputs": [
    {
     "name": "stdout",
     "output_type": "stream",
     "text": [
      "{'Sum': 12, 'Subtract': 2, 'Square x': 49, 'Square y': 25, 'Power': 16807}\n"
     ]
    }
   ],
   "source": [
    "#Assignment 1.1\n",
    "maths_dict = {}  #initialise a blank dictionary\n",
    "\n",
    "x=7\n",
    "y=5\n",
    "add_var = (x+y)\n",
    "sub_var = (x-y)\n",
    "squared_var1 = (x**2)\n",
    "squared_var2 = (y**2)\n",
    "power_var = (pow(x,y))\n",
    "\n",
    "maths_dict[\"Sum\"] = add_var\n",
    "maths_dict[\"Subtract\"] = sub_var\n",
    "maths_dict[\"Square x\"] = squared_var1\n",
    "maths_dict[\"Square y\"] = squared_var2\n",
    "maths_dict[\"Power\"] = power_var\n",
    "\n",
    "print(maths_dict)"
   ]
  },
  {
   "cell_type": "code",
   "execution_count": 4,
   "metadata": {},
   "outputs": [
    {
     "name": "stdout",
     "output_type": "stream",
     "text": [
      "4444444444444444\n",
      "4444\n",
      "12\n",
      "xxxxxxxxxxxx4444\n"
     ]
    },
    {
     "data": {
      "text/plain": [
       "16"
      ]
     },
     "execution_count": 4,
     "metadata": {},
     "output_type": "execute_result"
    }
   ],
   "source": [
    "#Assignment 1.2\n",
    "ccard = \"4444444444444444\"\n",
    "print(ccard)\n",
    "last4 = ccard[-4:]\n",
    "print(last4)\n",
    "len(ccard)\n",
    "anon = \"x\"\n",
    "non_anon = (len(ccard)-4)\n",
    "print(non_anon)\n",
    "\n",
    "print(anon * non_anon + last4)\n",
    "len((anon * non_anon + last4))"
   ]
  },
  {
   "cell_type": "code",
   "execution_count": 2,
   "metadata": {},
   "outputs": [
    {
     "name": "stdout",
     "output_type": "stream",
     "text": [
      "{\"here's a column\": ['Val 1', 'Val 2', 'Val 3'], \"here's another\": ['4, 5, 6'], 'and another': ['foo', 'bar', 'baz']}\n"
     ]
    }
   ],
   "source": [
    "import pandas as pd\n",
    "\n",
    "d = {\"here's a column\":['Val 1', 'Val 2', 'Val 3'],\n",
    "     \"here's another\":['4, 5, 6'],\n",
    "     \"and another\":['foo', 'bar', 'baz']}\n",
    "\n",
    "print(d)\n"
   ]
  },
  {
   "cell_type": "code",
   "execution_count": 77,
   "metadata": {},
   "outputs": [
    {
     "name": "stdout",
     "output_type": "stream",
     "text": [
      "  letter word  number\n",
      "0      A  Foo       1\n",
      "1      b  Bar       2\n",
      "2      C  Baz       3\n"
     ]
    }
   ],
   "source": [
    "import pandas as pd\n",
    "\n",
    "dict_1 = {\"heres's a column\": [\"val 1\", \"val 2\", \"val 3\"],\n",
    "         \"col 2\": [4,5,6],\n",
    "          \"col z\": [\"foo\", \"bar\", \"baz\"] }\n",
    "\n",
    "df_1 = pd.DataFrame(dict_1)\n",
    "df_1\n",
    "\n",
    "df_2 = pd.DataFrame([\n",
    "    {'letter':'A',\n",
    "     'word':'Foo',\n",
    "     'number':1},\n",
    "     {'letter':'b',\n",
    "     'word':'Bar',\n",
    "     'number':2},\n",
    "     {'letter':'C',\n",
    "     'word':'Baz',\n",
    "     'number':3},\n",
    "])\n",
    "\n",
    "print(df_2)\n"
   ]
  },
  {
   "cell_type": "code",
   "execution_count": 118,
   "metadata": {},
   "outputs": [
    {
     "name": "stdout",
     "output_type": "stream",
     "text": [
      "         Name       Job Title Salary\n",
      "0  John Smith       Reception  10000\n",
      "1    Jane Doe  Administration  12000\n",
      "2   Mike Mann         Manager  15000\n",
      "3  Mandy Mann        Director  20000\n",
      "4  Marge Mann        Director  20000\n"
     ]
    },
    {
     "data": {
      "text/html": [
       "<div>\n",
       "<style scoped>\n",
       "    .dataframe tbody tr th:only-of-type {\n",
       "        vertical-align: middle;\n",
       "    }\n",
       "\n",
       "    .dataframe tbody tr th {\n",
       "        vertical-align: top;\n",
       "    }\n",
       "\n",
       "    .dataframe thead th {\n",
       "        text-align: right;\n",
       "    }\n",
       "</style>\n",
       "<table border=\"1\" class=\"dataframe\">\n",
       "  <thead>\n",
       "    <tr style=\"text-align: right;\">\n",
       "      <th></th>\n",
       "      <th>Name</th>\n",
       "      <th>Job Title</th>\n",
       "      <th>Salary</th>\n",
       "    </tr>\n",
       "  </thead>\n",
       "  <tbody>\n",
       "    <tr>\n",
       "      <th>0</th>\n",
       "      <td>John Smith</td>\n",
       "      <td>Reception</td>\n",
       "      <td>10000</td>\n",
       "    </tr>\n",
       "    <tr>\n",
       "      <th>1</th>\n",
       "      <td>Jane Doe</td>\n",
       "      <td>Administration</td>\n",
       "      <td>12000</td>\n",
       "    </tr>\n",
       "    <tr>\n",
       "      <th>2</th>\n",
       "      <td>Mike Mann</td>\n",
       "      <td>Manager</td>\n",
       "      <td>15000</td>\n",
       "    </tr>\n",
       "    <tr>\n",
       "      <th>3</th>\n",
       "      <td>Mandy Mann</td>\n",
       "      <td>Director</td>\n",
       "      <td>20000</td>\n",
       "    </tr>\n",
       "    <tr>\n",
       "      <th>4</th>\n",
       "      <td>Marge Mann</td>\n",
       "      <td>Director</td>\n",
       "      <td>20000</td>\n",
       "    </tr>\n",
       "  </tbody>\n",
       "</table>\n",
       "</div>"
      ],
      "text/plain": [
       "         Name       Job Title Salary\n",
       "0  John Smith       Reception  10000\n",
       "1    Jane Doe  Administration  12000\n",
       "2   Mike Mann         Manager  15000\n",
       "3  Mandy Mann        Director  20000\n",
       "4  Marge Mann        Director  20000"
      ]
     },
     "execution_count": 118,
     "metadata": {},
     "output_type": "execute_result"
    }
   ],
   "source": [
    "import pandas as pd\n",
    "\n",
    "company = ([\n",
    "{'Name': 'John Smith',\n",
    " 'Job Title': 'Reception',\n",
    " 'Salary': '10000'},\n",
    " {'Name': 'Jane Doe',\n",
    " 'Job Title': 'Administration',\n",
    " 'Salary': '12000'},\n",
    " {'Name': 'Mike Mann',\n",
    " 'Job Title': 'Manager',\n",
    " 'Salary': '15000'},\n",
    " {'Name': 'Mandy Mann',\n",
    " 'Job Title': 'Director',\n",
    " 'Salary': '20000'},\n",
    "{'Name': 'Marge Mann',\n",
    " 'Job Title': 'Director',\n",
    " 'Salary': '20000'}\n",
    "])\n",
    "\n",
    "company_df = pd.DataFrame(company)\n",
    "\n",
    "print(company_df)\n",
    "company_df"
   ]
  },
  {
   "cell_type": "code",
   "execution_count": 119,
   "metadata": {},
   "outputs": [
    {
     "data": {
      "text/plain": [
       "Name         object\n",
       "Job Title    object\n",
       "Salary        int64\n",
       "dtype: object"
      ]
     },
     "execution_count": 119,
     "metadata": {},
     "output_type": "execute_result"
    }
   ],
   "source": [
    "#print(company_df.info())\n",
    "#print(company_df.dtypes)\n",
    "#print(company_df.head(1))\n",
    "#print(company_df.tail(1))\n",
    "\n",
    "company_df['Salary'] = company_df['Salary'].astype('int')\n",
    "company_df.dtypes"
   ]
  },
  {
   "cell_type": "code",
   "execution_count": 120,
   "metadata": {},
   "outputs": [
    {
     "name": "stdout",
     "output_type": "stream",
     "text": [
      "Salary minimum:10000, Salary maximum:20000\n"
     ]
    }
   ],
   "source": [
    "#print(company_df['Salary'].sum())\n",
    "\n",
    "# company_salary_tot = company_df['Salary'].sum()\n",
    "# print(company_salary_tot)\n",
    "\n",
    "# company_salary_mean = company_df['Salary'].mean()\n",
    "# print(company_salary_mean)\n",
    "\n",
    "# company_salary_cumsum = company_df['Salary'].cumsum()\n",
    "# print(company_salary_cumsum)\n",
    "\n",
    "sal_min_max = f\"Salary minimum:{company_df['Salary'].min()}, Salary maximum:{company_df['Salary'].max()}\"\n",
    "print(sal_min_max)"
   ]
  },
  {
   "cell_type": "code",
   "execution_count": 121,
   "metadata": {},
   "outputs": [
    {
     "data": {
      "text/html": [
       "<div>\n",
       "<style scoped>\n",
       "    .dataframe tbody tr th:only-of-type {\n",
       "        vertical-align: middle;\n",
       "    }\n",
       "\n",
       "    .dataframe tbody tr th {\n",
       "        vertical-align: top;\n",
       "    }\n",
       "\n",
       "    .dataframe thead th {\n",
       "        text-align: right;\n",
       "    }\n",
       "</style>\n",
       "<table border=\"1\" class=\"dataframe\">\n",
       "  <thead>\n",
       "    <tr style=\"text-align: right;\">\n",
       "      <th></th>\n",
       "      <th>Name</th>\n",
       "      <th>Job Title</th>\n",
       "      <th>Salary</th>\n",
       "      <th>Date Started</th>\n",
       "    </tr>\n",
       "  </thead>\n",
       "  <tbody>\n",
       "    <tr>\n",
       "      <th>0</th>\n",
       "      <td>John Smith</td>\n",
       "      <td>Reception</td>\n",
       "      <td>10000</td>\n",
       "      <td>06/12/1993</td>\n",
       "    </tr>\n",
       "    <tr>\n",
       "      <th>1</th>\n",
       "      <td>Jane Doe</td>\n",
       "      <td>Administration</td>\n",
       "      <td>12000</td>\n",
       "      <td>01/06/1966</td>\n",
       "    </tr>\n",
       "    <tr>\n",
       "      <th>2</th>\n",
       "      <td>Mike Mann</td>\n",
       "      <td>Manager</td>\n",
       "      <td>15000</td>\n",
       "      <td>26/05/1964</td>\n",
       "    </tr>\n",
       "    <tr>\n",
       "      <th>3</th>\n",
       "      <td>Mandy Mann</td>\n",
       "      <td>Director</td>\n",
       "      <td>20000</td>\n",
       "      <td>23/01/1968</td>\n",
       "    </tr>\n",
       "    <tr>\n",
       "      <th>4</th>\n",
       "      <td>Marge Mann</td>\n",
       "      <td>Director</td>\n",
       "      <td>20000</td>\n",
       "      <td>26/01/1976</td>\n",
       "    </tr>\n",
       "  </tbody>\n",
       "</table>\n",
       "</div>"
      ],
      "text/plain": [
       "         Name       Job Title  Salary Date Started\n",
       "0  John Smith       Reception   10000   06/12/1993\n",
       "1    Jane Doe  Administration   12000   01/06/1966\n",
       "2   Mike Mann         Manager   15000   26/05/1964\n",
       "3  Mandy Mann        Director   20000   23/01/1968\n",
       "4  Marge Mann        Director   20000   26/01/1976"
      ]
     },
     "execution_count": 121,
     "metadata": {},
     "output_type": "execute_result"
    }
   ],
   "source": [
    "company_df['Date Started'] = ['06/12/1993', '01/06/1966','26/05/1964', '23/01/1968', '26/01/1976']\n",
    "company_df"
   ]
  },
  {
   "cell_type": "code",
   "execution_count": 122,
   "metadata": {},
   "outputs": [
    {
     "data": {
      "text/html": [
       "<div>\n",
       "<style scoped>\n",
       "    .dataframe tbody tr th:only-of-type {\n",
       "        vertical-align: middle;\n",
       "    }\n",
       "\n",
       "    .dataframe tbody tr th {\n",
       "        vertical-align: top;\n",
       "    }\n",
       "\n",
       "    .dataframe thead th {\n",
       "        text-align: right;\n",
       "    }\n",
       "</style>\n",
       "<table border=\"1\" class=\"dataframe\">\n",
       "  <thead>\n",
       "    <tr style=\"text-align: right;\">\n",
       "      <th></th>\n",
       "      <th>Name</th>\n",
       "      <th>Job Title</th>\n",
       "      <th>Salary</th>\n",
       "      <th>Date Started</th>\n",
       "      <th>Pay After Bonus</th>\n",
       "    </tr>\n",
       "  </thead>\n",
       "  <tbody>\n",
       "    <tr>\n",
       "      <th>0</th>\n",
       "      <td>John Smith</td>\n",
       "      <td>Reception</td>\n",
       "      <td>10670</td>\n",
       "      <td>06/12/1993</td>\n",
       "      <td>11170</td>\n",
       "    </tr>\n",
       "    <tr>\n",
       "      <th>1</th>\n",
       "      <td>Jane Doe</td>\n",
       "      <td>Administration</td>\n",
       "      <td>12804</td>\n",
       "      <td>01/06/1966</td>\n",
       "      <td>13304</td>\n",
       "    </tr>\n",
       "    <tr>\n",
       "      <th>2</th>\n",
       "      <td>Mike Mann</td>\n",
       "      <td>Manager</td>\n",
       "      <td>16005</td>\n",
       "      <td>26/05/1964</td>\n",
       "      <td>16505</td>\n",
       "    </tr>\n",
       "    <tr>\n",
       "      <th>3</th>\n",
       "      <td>Mandy Mann</td>\n",
       "      <td>Director</td>\n",
       "      <td>21340</td>\n",
       "      <td>23/01/1968</td>\n",
       "      <td>21840</td>\n",
       "    </tr>\n",
       "    <tr>\n",
       "      <th>4</th>\n",
       "      <td>Marge Mann</td>\n",
       "      <td>Director</td>\n",
       "      <td>21340</td>\n",
       "      <td>26/01/1976</td>\n",
       "      <td>21840</td>\n",
       "    </tr>\n",
       "  </tbody>\n",
       "</table>\n",
       "</div>"
      ],
      "text/plain": [
       "         Name       Job Title  Salary Date Started  Pay After Bonus\n",
       "0  John Smith       Reception   10670   06/12/1993            11170\n",
       "1    Jane Doe  Administration   12804   01/06/1966            13304\n",
       "2   Mike Mann         Manager   16005   26/05/1964            16505\n",
       "3  Mandy Mann        Director   21340   23/01/1968            21840\n",
       "4  Marge Mann        Director   21340   26/01/1976            21840"
      ]
     },
     "execution_count": 122,
     "metadata": {},
     "output_type": "execute_result"
    }
   ],
   "source": [
    "inflation = 1.067\n",
    "company_df['Salary'] = company_df['Salary'] * inflation\n",
    "\n",
    "company_df['Pay After Bonus'] = company_df['Salary'] + 500\n",
    "company_df['Salary'] = company_df['Salary'].astype('int')\n",
    "company_df['Pay After Bonus'] = company_df['Pay After Bonus'].astype('int')\n",
    "company_df"
   ]
  },
  {
   "cell_type": "code",
   "execution_count": 123,
   "metadata": {},
   "outputs": [
    {
     "data": {
      "text/html": [
       "<div>\n",
       "<style scoped>\n",
       "    .dataframe tbody tr th:only-of-type {\n",
       "        vertical-align: middle;\n",
       "    }\n",
       "\n",
       "    .dataframe tbody tr th {\n",
       "        vertical-align: top;\n",
       "    }\n",
       "\n",
       "    .dataframe thead th {\n",
       "        text-align: right;\n",
       "    }\n",
       "</style>\n",
       "<table border=\"1\" class=\"dataframe\">\n",
       "  <thead>\n",
       "    <tr style=\"text-align: right;\">\n",
       "      <th></th>\n",
       "      <th>Name</th>\n",
       "      <th>Job Title</th>\n",
       "      <th>Salary</th>\n",
       "      <th>Date Started</th>\n",
       "      <th>Pay After Bonus</th>\n",
       "    </tr>\n",
       "  </thead>\n",
       "  <tbody>\n",
       "    <tr>\n",
       "      <th>0</th>\n",
       "      <td>John Smith</td>\n",
       "      <td>Reception</td>\n",
       "      <td>10670</td>\n",
       "      <td>1993-12-06</td>\n",
       "      <td>11170</td>\n",
       "    </tr>\n",
       "    <tr>\n",
       "      <th>1</th>\n",
       "      <td>Jane Doe</td>\n",
       "      <td>Administration</td>\n",
       "      <td>12804</td>\n",
       "      <td>1966-06-01</td>\n",
       "      <td>13304</td>\n",
       "    </tr>\n",
       "    <tr>\n",
       "      <th>2</th>\n",
       "      <td>Mike Mann</td>\n",
       "      <td>Manager</td>\n",
       "      <td>16005</td>\n",
       "      <td>1964-05-26</td>\n",
       "      <td>16505</td>\n",
       "    </tr>\n",
       "    <tr>\n",
       "      <th>3</th>\n",
       "      <td>Mandy Mann</td>\n",
       "      <td>Director</td>\n",
       "      <td>21340</td>\n",
       "      <td>1968-01-23</td>\n",
       "      <td>21840</td>\n",
       "    </tr>\n",
       "    <tr>\n",
       "      <th>4</th>\n",
       "      <td>Marge Mann</td>\n",
       "      <td>Director</td>\n",
       "      <td>21340</td>\n",
       "      <td>1976-01-26</td>\n",
       "      <td>21840</td>\n",
       "    </tr>\n",
       "  </tbody>\n",
       "</table>\n",
       "</div>"
      ],
      "text/plain": [
       "         Name       Job Title  Salary Date Started  Pay After Bonus\n",
       "0  John Smith       Reception   10670   1993-12-06            11170\n",
       "1    Jane Doe  Administration   12804   1966-06-01            13304\n",
       "2   Mike Mann         Manager   16005   1964-05-26            16505\n",
       "3  Mandy Mann        Director   21340   1968-01-23            21840\n",
       "4  Marge Mann        Director   21340   1976-01-26            21840"
      ]
     },
     "execution_count": 123,
     "metadata": {},
     "output_type": "execute_result"
    }
   ],
   "source": [
    "#company_df['Date Started'] = pd.to_datetime(company_df['Date Started'], dayfirst=True)\n",
    "company_df['Date Started'] = pd.to_datetime(company_df['Date Started'], format='%d/%m/%Y')\n",
    "#company_df.dtypes\n",
    "company_df"
   ]
  },
  {
   "cell_type": "code",
   "execution_count": 128,
   "metadata": {},
   "outputs": [
    {
     "data": {
      "text/html": [
       "<div>\n",
       "<style scoped>\n",
       "    .dataframe tbody tr th:only-of-type {\n",
       "        vertical-align: middle;\n",
       "    }\n",
       "\n",
       "    .dataframe tbody tr th {\n",
       "        vertical-align: top;\n",
       "    }\n",
       "\n",
       "    .dataframe thead th {\n",
       "        text-align: right;\n",
       "    }\n",
       "</style>\n",
       "<table border=\"1\" class=\"dataframe\">\n",
       "  <thead>\n",
       "    <tr style=\"text-align: right;\">\n",
       "      <th></th>\n",
       "      <th>Name</th>\n",
       "      <th>Job Title</th>\n",
       "      <th>Salary</th>\n",
       "      <th>Date Started</th>\n",
       "      <th>Pay After Bonus</th>\n",
       "      <th>DoB</th>\n",
       "    </tr>\n",
       "  </thead>\n",
       "  <tbody>\n",
       "    <tr>\n",
       "      <th>0</th>\n",
       "      <td>John Smith</td>\n",
       "      <td>Reception</td>\n",
       "      <td>10670</td>\n",
       "      <td>1993-12-06</td>\n",
       "      <td>11170</td>\n",
       "      <td>1963-12-06</td>\n",
       "    </tr>\n",
       "    <tr>\n",
       "      <th>1</th>\n",
       "      <td>Jane Doe</td>\n",
       "      <td>Administration</td>\n",
       "      <td>12804</td>\n",
       "      <td>1966-06-01</td>\n",
       "      <td>13304</td>\n",
       "      <td>1946-06-01</td>\n",
       "    </tr>\n",
       "    <tr>\n",
       "      <th>2</th>\n",
       "      <td>Mike Mann</td>\n",
       "      <td>Manager</td>\n",
       "      <td>16005</td>\n",
       "      <td>1964-05-26</td>\n",
       "      <td>16505</td>\n",
       "      <td>1934-05-26</td>\n",
       "    </tr>\n",
       "    <tr>\n",
       "      <th>3</th>\n",
       "      <td>Mandy Mann</td>\n",
       "      <td>Director</td>\n",
       "      <td>21340</td>\n",
       "      <td>1968-01-23</td>\n",
       "      <td>21840</td>\n",
       "      <td>1928-01-23</td>\n",
       "    </tr>\n",
       "    <tr>\n",
       "      <th>4</th>\n",
       "      <td>Marge Mann</td>\n",
       "      <td>Director</td>\n",
       "      <td>21340</td>\n",
       "      <td>1976-01-26</td>\n",
       "      <td>21840</td>\n",
       "      <td>1956-01-26</td>\n",
       "    </tr>\n",
       "  </tbody>\n",
       "</table>\n",
       "</div>"
      ],
      "text/plain": [
       "         Name       Job Title  Salary Date Started  Pay After Bonus        DoB\n",
       "0  John Smith       Reception   10670   1993-12-06            11170 1963-12-06\n",
       "1    Jane Doe  Administration   12804   1966-06-01            13304 1946-06-01\n",
       "2   Mike Mann         Manager   16005   1964-05-26            16505 1934-05-26\n",
       "3  Mandy Mann        Director   21340   1968-01-23            21840 1928-01-23\n",
       "4  Marge Mann        Director   21340   1976-01-26            21840 1956-01-26"
      ]
     },
     "execution_count": 128,
     "metadata": {},
     "output_type": "execute_result"
    }
   ],
   "source": [
    "company_df['DoB'] = ['06/12/1963', '01/06/1946','26/05/1934', '23/01/1928', '26/01/1956']\n",
    "company_df['DoB'] = pd.to_datetime(company_df['DoB'], format='%d/%m/%Y')\n",
    "company_df"
   ]
  },
  {
   "cell_type": "code",
   "execution_count": 137,
   "metadata": {},
   "outputs": [
    {
     "data": {
      "text/html": [
       "<div>\n",
       "<style scoped>\n",
       "    .dataframe tbody tr th:only-of-type {\n",
       "        vertical-align: middle;\n",
       "    }\n",
       "\n",
       "    .dataframe tbody tr th {\n",
       "        vertical-align: top;\n",
       "    }\n",
       "\n",
       "    .dataframe thead th {\n",
       "        text-align: right;\n",
       "    }\n",
       "</style>\n",
       "<table border=\"1\" class=\"dataframe\">\n",
       "  <thead>\n",
       "    <tr style=\"text-align: right;\">\n",
       "      <th></th>\n",
       "      <th>Name</th>\n",
       "      <th>Job Title</th>\n",
       "      <th>Salary</th>\n",
       "      <th>Date Started</th>\n",
       "      <th>Pay After Bonus</th>\n",
       "      <th>DoB</th>\n",
       "      <th>Time Served</th>\n",
       "    </tr>\n",
       "  </thead>\n",
       "  <tbody>\n",
       "    <tr>\n",
       "      <th>0</th>\n",
       "      <td>John Smith</td>\n",
       "      <td>Reception</td>\n",
       "      <td>10670</td>\n",
       "      <td>1993-12-06</td>\n",
       "      <td>11170</td>\n",
       "      <td>1963-12-06</td>\n",
       "      <td>30</td>\n",
       "    </tr>\n",
       "    <tr>\n",
       "      <th>1</th>\n",
       "      <td>Jane Doe</td>\n",
       "      <td>Administration</td>\n",
       "      <td>12804</td>\n",
       "      <td>1966-06-01</td>\n",
       "      <td>13304</td>\n",
       "      <td>1946-06-01</td>\n",
       "      <td>57</td>\n",
       "    </tr>\n",
       "    <tr>\n",
       "      <th>2</th>\n",
       "      <td>Mike Mann</td>\n",
       "      <td>Manager</td>\n",
       "      <td>16005</td>\n",
       "      <td>1964-05-26</td>\n",
       "      <td>16505</td>\n",
       "      <td>1934-05-26</td>\n",
       "      <td>60</td>\n",
       "    </tr>\n",
       "    <tr>\n",
       "      <th>3</th>\n",
       "      <td>Mandy Mann</td>\n",
       "      <td>Director</td>\n",
       "      <td>21340</td>\n",
       "      <td>1968-01-23</td>\n",
       "      <td>21840</td>\n",
       "      <td>1928-01-23</td>\n",
       "      <td>56</td>\n",
       "    </tr>\n",
       "    <tr>\n",
       "      <th>4</th>\n",
       "      <td>Marge Mann</td>\n",
       "      <td>Director</td>\n",
       "      <td>21340</td>\n",
       "      <td>1976-01-26</td>\n",
       "      <td>21840</td>\n",
       "      <td>1956-01-26</td>\n",
       "      <td>48</td>\n",
       "    </tr>\n",
       "  </tbody>\n",
       "</table>\n",
       "</div>"
      ],
      "text/plain": [
       "         Name       Job Title  Salary Date Started  Pay After Bonus  \\\n",
       "0  John Smith       Reception   10670   1993-12-06            11170   \n",
       "1    Jane Doe  Administration   12804   1966-06-01            13304   \n",
       "2   Mike Mann         Manager   16005   1964-05-26            16505   \n",
       "3  Mandy Mann        Director   21340   1968-01-23            21840   \n",
       "4  Marge Mann        Director   21340   1976-01-26            21840   \n",
       "\n",
       "         DoB  Time Served  \n",
       "0 1963-12-06           30  \n",
       "1 1946-06-01           57  \n",
       "2 1934-05-26           60  \n",
       "3 1928-01-23           56  \n",
       "4 1956-01-26           48  "
      ]
     },
     "execution_count": 137,
     "metadata": {},
     "output_type": "execute_result"
    }
   ],
   "source": [
    "company_df['Time Served'] = pd.to_datetime('16/11/2023', format='%d/%m/%Y') - company_df['Date Started']\n",
    "company_df['Time Served'] = company_df['Time Served'] / pd.Timedelta('365 days')  #convert to years rather than default (days)\n",
    "company_df['Time Served'] = company_df['Time Served'].round().astype('int', errors='ignore')   #round to full years\n",
    "company_df"
   ]
  }
 ],
 "metadata": {
  "kernelspec": {
   "display_name": "Python 3",
   "language": "python",
   "name": "python3"
  },
  "language_info": {
   "codemirror_mode": {
    "name": "ipython",
    "version": 3
   },
   "file_extension": ".py",
   "mimetype": "text/x-python",
   "name": "python",
   "nbconvert_exporter": "python",
   "pygments_lexer": "ipython3",
   "version": "3.10.8"
  }
 },
 "nbformat": 4,
 "nbformat_minor": 2
}

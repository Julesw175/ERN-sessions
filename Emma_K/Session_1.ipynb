{
 "cells": [
  {
   "cell_type": "code",
   "execution_count": 2,
   "metadata": {},
   "outputs": [
    {
     "name": "stdout",
     "output_type": "stream",
     "text": [
      "I'm Emma\n"
     ]
    }
   ],
   "source": [
    "phrase = \"I'm Emma\" # String\n",
    "print(phrase)"
   ]
  },
  {
   "cell_type": "code",
   "execution_count": 7,
   "metadata": {},
   "outputs": [
    {
     "name": "stdout",
     "output_type": "stream",
     "text": [
      "15\n",
      "2.0\n",
      "<class 'float'>\n",
      "<class 'float'>\n"
     ]
    }
   ],
   "source": [
    "x = 5 # Integer\n",
    "y = 10 \n",
    "z = x + y #plus symbol\n",
    "print(z)\n",
    "z = y / x #divide\n",
    "print(z) # Float\n",
    "print(type(z))\n",
    "\n",
    "j=type(z)\n",
    "print(j)"
   ]
  },
  {
   "cell_type": "code",
   "execution_count": 8,
   "metadata": {},
   "outputs": [
    {
     "name": "stdout",
     "output_type": "stream",
     "text": [
      "35\n"
     ]
    }
   ],
   "source": [
    "x = 5\n",
    "y = 7\n",
    "print(x*y)\n"
   ]
  },
  {
   "cell_type": "code",
   "execution_count": 10,
   "metadata": {},
   "outputs": [
    {
     "name": "stdout",
     "output_type": "stream",
     "text": [
      "12.56\n"
     ]
    }
   ],
   "source": [
    "r = 2\n",
    "pi = 3.14\n",
    "square = r**2\n",
    "area = pi * (r**2)\n",
    "print(area)"
   ]
  },
  {
   "cell_type": "code",
   "execution_count": 20,
   "metadata": {},
   "outputs": [
    {
     "name": "stdout",
     "output_type": "stream",
     "text": [
      "My name is Emma and my hobby is running\n"
     ]
    }
   ],
   "source": [
    "name =\"Emma\"\n",
    "hobby = \"running\"\n",
    "long_string = \"My name is \" + name + \" and my hobby is \" + hobby\n",
    "#print(long_string)\n",
    "\n",
    "phrase = f\"My name is {name} and my hobby is {hobby}\"\n",
    "print(phrase)"
   ]
  },
  {
   "cell_type": "code",
   "execution_count": 24,
   "metadata": {},
   "outputs": [
    {
     "name": "stdout",
     "output_type": "stream",
     "text": [
      "My name is Emma and my job title is Performance Project Officer\n"
     ]
    }
   ],
   "source": [
    "name = \"Emma\"\n",
    "role = \"Performance Project Officer\"\n",
    "phrase = f\"My name is {name} and my job title is {role}\"\n",
    "print(phrase)"
   ]
  },
  {
   "cell_type": "code",
   "execution_count": 38,
   "metadata": {},
   "outputs": [
    {
     "name": "stdout",
     "output_type": "stream",
     "text": [
      "63\n",
      "name is Emma\n",
      "here_is_a_file\n"
     ]
    }
   ],
   "source": [
    "print(len(phrase))\n",
    "string_slice = phrase[3:15]\n",
    "print(string_slice)\n",
    "\n",
    "filename = \"here_is_a_file.csv\"\n",
    "filename = filename[:-4]\n",
    "print(filename)\n"
   ]
  },
  {
   "cell_type": "code",
   "execution_count": 46,
   "metadata": {},
   "outputs": [
    {
     "name": "stdout",
     "output_type": "stream",
     "text": [
      "dog\n",
      "cat\n",
      "racoon\n",
      "dog cat racoon\n"
     ]
    }
   ],
   "source": [
    "slice_this_phrase = 'dog cat racoon'\n",
    "dog = slice_this_phrase[0:3]\n",
    "print(dog)\n",
    "cat = slice_this_phrase[4:7]\n",
    "print(cat)\n",
    "racoon = slice_this_phrase[-6:]\n",
    "print(racoon)\n",
    "print(f\"{dog} {cat} {racoon}\")\n"
   ]
  },
  {
   "cell_type": "code",
   "execution_count": 50,
   "metadata": {},
   "outputs": [
    {
     "name": "stdout",
     "output_type": "stream",
     "text": [
      "[1, 2, 3, 2, 4]\n"
     ]
    }
   ],
   "source": [
    "list_1 = [1,2,3,x,y]\n",
    "print(list_1)"
   ]
  },
  {
   "cell_type": "code",
   "execution_count": 54,
   "metadata": {},
   "outputs": [
    {
     "name": "stdout",
     "output_type": "stream",
     "text": [
      "My colours are: ['red', 'blue', 'green', 'teal']\n"
     ]
    }
   ],
   "source": [
    "favourite_colour = \"teal\"\n",
    "colours_list = [\"red\", \"blue\", \"green\"]\n",
    "colours_list.append(favourite_colour)\n",
    "print(f\"My colours are: {colours_list}\")"
   ]
  },
  {
   "cell_type": "code",
   "execution_count": 11,
   "metadata": {},
   "outputs": [
    {
     "name": "stdout",
     "output_type": "stream",
     "text": [
      "['potato', 'pasta', 'rice', 'meat']\n",
      "['potato', 'pasta', 'rice', 'meat', 'cheese']\n"
     ]
    }
   ],
   "source": [
    "food_list = [\"potato\", \"pasta\", \"rice\", \"meat\"]\n",
    "favourite_food = \"cheese\"\n",
    "print (food_list)\n",
    "food_list.append(favourite_food)   \n",
    "print(food_list)"
   ]
  },
  {
   "cell_type": "code",
   "execution_count": 45,
   "metadata": {},
   "outputs": [
    {
     "name": "stdout",
     "output_type": "stream",
     "text": [
      "['apple', 'banana', 'grape']\n",
      "['potato', 'pasta', 'rice', 'meat']\n"
     ]
    }
   ],
   "source": [
    "food_list = [\"potato\", \"pasta\", \"rice\", \"meat\"]\n",
    "new_food_list = [\"apple\", \"banana\",\"grape\"]\n",
    "print(new_food_list)\n",
    "#food_list.append(new_food_list)\n",
    "#food_list.extend(new_food_list)\n",
    "print(food_list)"
   ]
  },
  {
   "cell_type": "code",
   "execution_count": null,
   "metadata": {},
   "outputs": [],
   "source": []
  },
  {
   "cell_type": "code",
   "execution_count": 34,
   "metadata": {},
   "outputs": [
    {
     "name": "stdout",
     "output_type": "stream",
     "text": [
      "[6, 5, 4, 3, 2, 1]\n"
     ]
    }
   ],
   "source": [
    "numbers_list = [2,3,4,5,1,6]\n",
    "numbers_list.sort()\n",
    "\n",
    "numbers_list = [2,3,4,5,1,6]\n",
    "numbers_list.sort(reverse=True)\n",
    "print(numbers_list)"
   ]
  },
  {
   "cell_type": "code",
   "execution_count": 35,
   "metadata": {},
   "outputs": [
    {
     "name": "stdout",
     "output_type": "stream",
     "text": [
      "['meat', 'pasta', 'potato', 'rice']\n"
     ]
    }
   ],
   "source": [
    "food_list.sort()\n",
    "print(food_list)"
   ]
  },
  {
   "cell_type": "code",
   "execution_count": 44,
   "metadata": {},
   "outputs": [
    {
     "name": "stdout",
     "output_type": "stream",
     "text": [
      "{'will': 'purple', 'scout': ['yellow', 'red'], 'crash': 23, 'Naomi': {'Monday': 'purple', 'EOD': 'Yellow'}}\n",
      "{'Monday': 'purple', 'EOD': 'Yellow'}\n",
      "dict_keys(['will', 'scout', 'crash', 'Naomi'])\n",
      "dict_values(['purple', ['yellow', 'red'], 23, {'Monday': 'purple', 'EOD': 'Yellow'}])\n",
      "dict_items([('will', 'purple'), ('scout', ['yellow', 'red']), ('crash', 23), ('Naomi', {'Monday': 'purple', 'EOD': 'Yellow'})])\n"
     ]
    }
   ],
   "source": [
    "favourite_colours_dict = {'will':'purple',\n",
    "                     'scout':['yellow', 'red'],\n",
    "                     'crash':23,\n",
    "                     'Naomi':{'Monday':'purple',\n",
    "                               'EOD':'Yellow'}}\n",
    "print(favourite_colours_dict)\n",
    "print(favourite_colours_dict['Naomi'])\n",
    "print(favourite_colours_dict.keys())\n",
    "print(favourite_colours_dict.values())\n",
    "print(favourite_colours_dict.items())"
   ]
  },
  {
   "cell_type": "code",
   "execution_count": 49,
   "metadata": {},
   "outputs": [
    {
     "name": "stdout",
     "output_type": "stream",
     "text": [
      "{'Chippy': 'chips', 'Chinese': ['rice', 'sweet & sour'], 'Indian': {'curry': 'naan'}}\n",
      "{'curry': 'naan'}\n",
      "dict_keys(['Chippy', 'Chinese', 'Indian'])\n",
      "dict_values(['chips', ['rice', 'sweet & sour'], {'curry': 'naan'}])\n",
      "dict_items([('Chippy', 'chips'), ('Chinese', ['rice', 'sweet & sour']), ('Indian', {'curry': 'naan'})])\n"
     ]
    }
   ],
   "source": [
    "restaurant_dict = {'Chippy':'chips',\n",
    "                     'Chinese':['rice', 'sweet & sour'],\n",
    "                     'Indian':{'curry':'naan'}}\n",
    "print(restaurant_dict)\n",
    "print(restaurant_dict['Indian'])\n",
    "print(restaurant_dict.keys())\n",
    "print(restaurant_dict.values())\n",
    "print(restaurant_dict.items())"
   ]
  },
  {
   "cell_type": "code",
   "execution_count": 54,
   "metadata": {},
   "outputs": [
    {
     "name": "stdout",
     "output_type": "stream",
     "text": [
      "{'will': 'purple', 'scout': ['yellow', 'red'], 'crash': 23, 'Naomi': 'Blue', 'Annie': 'Blue', 'Andy': 'Blue'}\n",
      "True\n"
     ]
    }
   ],
   "source": [
    "favourite_colours_dict = {'will':'purple',\n",
    "                     'scout':['yellow', 'red'],\n",
    "                     'crash':23,\n",
    "                     'Naomi':'Orange'}\n",
    "favourite_colours_dict['Annie']='Blue'\n",
    "favourite_colours_dict['Naomi'] = 'Blue'\n",
    "favourite_colours_dict['Andy'] = 'Blue'\n",
    "print(favourite_colours_dict)\n",
    "print('Andy' in favourite_colours_dict)"
   ]
  },
  {
   "cell_type": "code",
   "execution_count": 70,
   "metadata": {},
   "outputs": [
    {
     "name": "stdout",
     "output_type": "stream",
     "text": [
      "['Emma', 'Will', 'Emily', 'Jon', 'Paul M', 'Michael M', 'Michael C', 'Paul D', 'Nazahah']\n",
      "My name is Emma, my job is Performance O\n",
      "My name is Will, my job is Instructing\n",
      "My name is Emily, my job is Perfommance Anylist\n",
      "My name is Jon, my job is Performance M\n",
      "My name is Paul M, my job is Perf O\n",
      "My name is Michael M, my job is Regional\n",
      "My name is Michael C, my job is Anylist\n",
      "My name is Paul D, my job is Senior PM\n",
      "My name is Nazahah, my job is Analyst\n"
     ]
    }
   ],
   "source": [
    "job_dict = {'Emma':'Performance Officer',\n",
    "            'Will':'Instructing',\n",
    "            'Emily':'Perfommance Anylist',\n",
    "            'Jon': 'Performance M',\n",
    "            'Emma': 'Performance O',\n",
    "            'Paul M':'Perf O',\n",
    "            'Michael M': 'Regional',\n",
    "            'Michael C': 'Anylist',\n",
    "            'Paul D': 'Senior PM',\n",
    "            'Nazahah': 'Analyst'\n",
    "            }\n",
    "names = list(job_dict.keys())\n",
    "print(names)\n",
    "for key,val in job_dict.items():\n",
    "    print(f\"My name is {key}, my job is {val}\")"
   ]
  },
  {
   "cell_type": "code",
   "execution_count": null,
   "metadata": {},
   "outputs": [],
   "source": []
  }
 ],
 "metadata": {
  "kernelspec": {
   "display_name": "Python 3",
   "language": "python",
   "name": "python3"
  },
  "language_info": {
   "codemirror_mode": {
    "name": "ipython",
    "version": 3
   },
   "file_extension": ".py",
   "mimetype": "text/x-python",
   "name": "python",
   "nbconvert_exporter": "python",
   "pygments_lexer": "ipython3",
   "version": "3.10.8"
  }
 },
 "nbformat": 4,
 "nbformat_minor": 2
}

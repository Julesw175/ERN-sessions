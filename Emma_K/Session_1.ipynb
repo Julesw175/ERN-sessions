{
 "cells": [
  {
   "cell_type": "code",
   "execution_count": 2,
   "metadata": {},
   "outputs": [
    {
     "name": "stdout",
     "output_type": "stream",
     "text": [
      "I'm Emma\n"
     ]
    }
   ],
   "source": [
    "phrase = \"I'm Emma\" # String\n",
    "print(phrase)"
   ]
  },
  {
   "cell_type": "code",
   "execution_count": 7,
   "metadata": {},
   "outputs": [
    {
     "name": "stdout",
     "output_type": "stream",
     "text": [
      "15\n",
      "2.0\n",
      "<class 'float'>\n",
      "<class 'float'>\n"
     ]
    }
   ],
   "source": [
    "x = 5 # Integer\n",
    "y = 10 \n",
    "z = x + y #plus symbol\n",
    "print(z)\n",
    "z = y / x #divide\n",
    "print(z) # Float\n",
    "print(type(z))\n",
    "\n",
    "j=type(z)\n",
    "print(j)"
   ]
  },
  {
   "cell_type": "code",
   "execution_count": 8,
   "metadata": {},
   "outputs": [
    {
     "name": "stdout",
     "output_type": "stream",
     "text": [
      "35\n"
     ]
    }
   ],
   "source": [
    "x = 5\n",
    "y = 7\n",
    "print(x*y)\n"
   ]
  },
  {
   "cell_type": "code",
   "execution_count": 10,
   "metadata": {},
   "outputs": [
    {
     "name": "stdout",
     "output_type": "stream",
     "text": [
      "12.56\n"
     ]
    }
   ],
   "source": [
    "r = 2\n",
    "pi = 3.14\n",
    "square = r**2\n",
    "area = pi * (r**2)\n",
    "print(area)"
   ]
  },
  {
   "cell_type": "code",
   "execution_count": 20,
   "metadata": {},
   "outputs": [
    {
     "name": "stdout",
     "output_type": "stream",
     "text": [
      "My name is Emma and my hobby is running\n"
     ]
    }
   ],
   "source": [
    "name =\"Emma\"\n",
    "hobby = \"running\"\n",
    "long_string = \"My name is \" + name + \" and my hobby is \" + hobby\n",
    "#print(long_string)\n",
    "\n",
    "phrase = f\"My name is {name} and my hobby is {hobby}\"\n",
    "print(phrase)"
   ]
  },
  {
   "cell_type": "code",
   "execution_count": 24,
   "metadata": {},
   "outputs": [
    {
     "name": "stdout",
     "output_type": "stream",
     "text": [
      "My name is Emma and my job title is Performance Project Officer\n"
     ]
    }
   ],
   "source": [
    "name = \"Emma\"\n",
    "role = \"Performance Project Officer\"\n",
    "phrase = f\"My name is {name} and my job title is {role}\"\n",
    "print(phrase)"
   ]
  },
  {
   "cell_type": "code",
   "execution_count": 38,
   "metadata": {},
   "outputs": [
    {
     "name": "stdout",
     "output_type": "stream",
     "text": [
      "63\n",
      "name is Emma\n",
      "here_is_a_file\n"
     ]
    }
   ],
   "source": [
    "print(len(phrase))\n",
    "string_slice = phrase[3:15]\n",
    "print(string_slice)\n",
    "\n",
    "filename = \"here_is_a_file.csv\"\n",
    "filename = filename[:-4]\n",
    "print(filename)\n"
   ]
  },
  {
   "cell_type": "code",
   "execution_count": 46,
   "metadata": {},
   "outputs": [
    {
     "name": "stdout",
     "output_type": "stream",
     "text": [
      "dog\n",
      "cat\n",
      "racoon\n",
      "dog cat racoon\n"
     ]
    }
   ],
   "source": [
    "slice_this_phrase = 'dog cat racoon'\n",
    "dog = slice_this_phrase[0:3]\n",
    "print(dog)\n",
    "cat = slice_this_phrase[4:7]\n",
    "print(cat)\n",
    "racoon = slice_this_phrase[-6:]\n",
    "print(racoon)\n",
    "print(f\"{dog} {cat} {racoon}\")\n"
   ]
  },
  {
   "cell_type": "code",
   "execution_count": 50,
   "metadata": {},
   "outputs": [
    {
     "name": "stdout",
     "output_type": "stream",
     "text": [
      "[1, 2, 3, 2, 4]\n"
     ]
    }
   ],
   "source": [
    "list_1 = [1,2,3,x,y]\n",
    "print(list_1)"
   ]
  },
  {
   "cell_type": "code",
   "execution_count": 54,
   "metadata": {},
   "outputs": [
    {
     "name": "stdout",
     "output_type": "stream",
     "text": [
      "My colours are: ['red', 'blue', 'green', 'teal']\n"
     ]
    }
   ],
   "source": [
    "favourite_colour = \"teal\"\n",
    "colours_list = [\"red\", \"blue\", \"green\"]\n",
    "colours_list.append(favourite_colour)\n",
    "print(f\"My colours are: {colours_list}\")"
   ]
  }
 ],
 "metadata": {
  "kernelspec": {
   "display_name": "Python 3",
   "language": "python",
   "name": "python3"
  },
  "language_info": {
   "codemirror_mode": {
    "name": "ipython",
    "version": 3
   },
   "file_extension": ".py",
   "mimetype": "text/x-python",
   "name": "python",
   "nbconvert_exporter": "python",
   "pygments_lexer": "ipython3",
   "version": "3.10.8"
  }
 },
 "nbformat": 4,
 "nbformat_minor": 2
}

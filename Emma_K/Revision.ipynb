{
 "cells": [
  {
   "cell_type": "code",
   "execution_count": 3,
   "metadata": {},
   "outputs": [
    {
     "name": "stdout",
     "output_type": "stream",
     "text": [
      "3 2\n"
     ]
    }
   ],
   "source": [
    "x = 1\n",
    "y = 2\n",
    "z = x + y\n",
    "j = y / x\n",
    "j = int(j)\n",
    "print(z, j)\n"
   ]
  },
  {
   "cell_type": "code",
   "execution_count": 22,
   "metadata": {},
   "outputs": [
    {
     "name": "stdout",
     "output_type": "stream",
     "text": [
      "12.56\n"
     ]
    }
   ],
   "source": [
    "radius = 2\n",
    "pi = 3.14\n",
    "area = pi * (radius ** 2)\n",
    "print(area)"
   ]
  },
  {
   "cell_type": "code",
   "execution_count": 7,
   "metadata": {},
   "outputs": [
    {
     "name": "stdout",
     "output_type": "stream",
     "text": [
      "<class 'str'>\n",
      "EmmaRunning\n",
      "My name is Emma, and I like Running.\n"
     ]
    }
   ],
   "source": [
    "name = 'Emma'\n",
    "print(type(name))\n",
    "hobby = 'Running'\n",
    "long_string = name + hobby\n",
    "print(long_string)\n",
    "phrase = f'My name is {name}, and I like {hobby}.'\n",
    "print(phrase)"
   ]
  },
  {
   "cell_type": "code",
   "execution_count": 8,
   "metadata": {},
   "outputs": [
    {
     "name": "stdout",
     "output_type": "stream",
     "text": [
      "Employee Emma is employed as a Pleb\n"
     ]
    }
   ],
   "source": [
    "name = 'Emma'\n",
    "job = 'Pleb'\n",
    "employee = f'Employee {name} is employed as a {job}'\n",
    "print(employee)"
   ]
  },
  {
   "cell_type": "code",
   "execution_count": 14,
   "metadata": {},
   "outputs": [
    {
     "name": "stdout",
     "output_type": "stream",
     "text": [
      "y name is E\n"
     ]
    }
   ],
   "source": [
    "name = 'Emma'\n",
    "hobby = 'Running'\n",
    "\n",
    "phrase = f'My name is {name}, and I like {hobby}.'\n",
    "\n",
    "string_slice = phrase[1:12]\n",
    "print(string_slice)"
   ]
  },
  {
   "cell_type": "code",
   "execution_count": 24,
   "metadata": {},
   "outputs": [
    {
     "name": "stdout",
     "output_type": "stream",
     "text": [
      "heres_a_file.csv\n",
      "heres_a_file\n"
     ]
    }
   ],
   "source": [
    "filename = 'heres_a_file.csv'\n",
    "short_name = filename[:-4]\n",
    "print(filename)\n",
    "print(short_name)"
   ]
  },
  {
   "cell_type": "code",
   "execution_count": 35,
   "metadata": {},
   "outputs": [
    {
     "name": "stdout",
     "output_type": "stream",
     "text": [
      "dog\n",
      "cat\n",
      "racoon\n"
     ]
    }
   ],
   "source": [
    "slice_this_phrase = 'dog cat racoon'\n",
    "s1 = slice_this_phrase[:3]\n",
    "s2 = slice_this_phrase[4:7]\n",
    "s3 = slice_this_phrase[-6:]\n",
    "\n",
    "print(s1)\n",
    "print(s2)\n",
    "print(s3)"
   ]
  },
  {
   "cell_type": "code",
   "execution_count": 56,
   "metadata": {},
   "outputs": [
    {
     "name": "stdout",
     "output_type": "stream",
     "text": [
      "['red', 'blue', 'green', 'purple', 'turquoise']\n"
     ]
    }
   ],
   "source": [
    "# list_1 = [] - create a blank list which can be proved by printing showing the type\n",
    "# print(type(list_1))\n",
    "\n",
    "colours_list = ['red', 'blue', 'green']\n",
    "#print(colours_list)\n",
    "\n",
    "colours_list.append('purple')\n",
    "#print(colours_list)\n",
    "\n",
    "extra_colours = ['turquoise', 'teal']\n",
    "#colours_list.append(extra_colours)\n",
    "#print(colours_list)\n",
    "\n",
    "colours_list.extend(extra_colours)\n",
    "#print(colours_list)\n",
    "\n",
    "# print(colours_list)\n",
    "# print(colours_list[3:7])\n",
    "\n",
    "colours_list.remove('teal')\n",
    "print(colours_list)\n"
   ]
  },
  {
   "cell_type": "code",
   "execution_count": 60,
   "metadata": {},
   "outputs": [
    {
     "name": "stdout",
     "output_type": "stream",
     "text": [
      "['apple', 'cheese', 'grape', 'beef']\n"
     ]
    }
   ],
   "source": [
    "food_list = ['apple', 'bread', 'cheese']\n",
    "new_food = ['grape', 'beef']\n",
    "food_list.extend(new_food)\n",
    "food_list.remove('bread')\n",
    "print(food_list)\n"
   ]
  },
  {
   "cell_type": "code",
   "execution_count": 69,
   "metadata": {},
   "outputs": [
    {
     "name": "stdout",
     "output_type": "stream",
     "text": [
      "[1, 2, 3, 4, 5, 6]\n",
      "[6, 5, 4, 3, 2, 1]\n",
      "[2, 3, 3, 4, 5]\n",
      "['amber', 'blue', 'green', 'red']\n",
      "['red', 'green', 'blue', 'amber']\n"
     ]
    }
   ],
   "source": [
    "numbers_list = [2,3,4,5,1,6]\n",
    "numbers_list.sort()\n",
    "print(numbers_list)\n",
    "numbers_list.sort(reverse=True)\n",
    "print(numbers_list)\n",
    "\n",
    "sorted_list = sorted([3,2,3,4,5])\n",
    "print(sorted_list)\n",
    "\n",
    "colours_list = ['red', 'blue', 'green', 'amber']\n",
    "sorted_colours = sorted(colours_list, key=str.lower)\n",
    "rev_sorted_colours = sorted(colours_list, reverse = True)\n",
    "print(sorted_colours)\n",
    "print(rev_sorted_colours)"
   ]
  },
  {
   "cell_type": "code",
   "execution_count": 74,
   "metadata": {},
   "outputs": [
    {
     "name": "stdout",
     "output_type": "stream",
     "text": [
      "{'Will': 'teal', 'Andy': ['Purple', 'Green', 'Azure'], 'Annie': {'Mondays': 'Red', 'Sundays': 'Orange', 'Other days': 'Black'}}\n",
      "['Will', 'Andy', 'Annie']\n",
      "dict_items([('Will', 'teal'), ('Andy', ['Purple', 'Green', 'Azure']), ('Annie', {'Mondays': 'Red', 'Sundays': 'Orange', 'Other days': 'Black'})])\n",
      "dict_keys(['Will', 'Andy', 'Annie'])\n",
      "dict_values(['teal', ['Purple', 'Green', 'Azure'], {'Mondays': 'Red', 'Sundays': 'Orange', 'Other days': 'Black'}])\n"
     ]
    }
   ],
   "source": [
    "favourite_colours = {'Will':'teal',\n",
    "                     'Andy':['Purple', 'Green', 'Azure'],\n",
    "                     'Annie':{'Mondays': 'Red',\n",
    "                              'Sundays': 'Orange',\n",
    "                              'Other days':'Black'}}\n",
    "print(favourite_colours)\n",
    "print(list(favourite_colours))\n",
    "print(favourite_colours.items())\n",
    "print(favourite_colours.keys())\n",
    "print(favourite_colours.values())"
   ]
  },
  {
   "cell_type": "code",
   "execution_count": null,
   "metadata": {},
   "outputs": [],
   "source": []
  }
 ],
 "metadata": {
  "kernelspec": {
   "display_name": "Python 3",
   "language": "python",
   "name": "python3"
  },
  "language_info": {
   "codemirror_mode": {
    "name": "ipython",
    "version": 3
   },
   "file_extension": ".py",
   "mimetype": "text/x-python",
   "name": "python",
   "nbconvert_exporter": "python",
   "pygments_lexer": "ipython3",
   "version": "3.10.8"
  }
 },
 "nbformat": 4,
 "nbformat_minor": 2
}

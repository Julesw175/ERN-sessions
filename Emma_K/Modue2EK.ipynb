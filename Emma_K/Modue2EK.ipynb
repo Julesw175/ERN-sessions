{
 "cells": [
  {
   "cell_type": "code",
   "execution_count": 5,
   "metadata": {},
   "outputs": [
    {
     "name": "stdout",
     "output_type": "stream",
     "text": [
      "1\n",
      "2\n",
      "3\n",
      "4\n",
      "5\n",
      "[1, 2, 3, 4, 5]\n"
     ]
    }
   ],
   "source": [
    "numbers = [1, 2, 3, 4, 5]\n",
    "\n",
    "# for i in numbers:\n",
    "#     print(i)\n",
    "\n",
    "for i in range(1,6):\n",
    "    print(i)\n",
    "\n",
    "print(numbers)"
   ]
  },
  {
   "cell_type": "code",
   "execution_count": 6,
   "metadata": {},
   "outputs": [
    {
     "name": "stdout",
     "output_type": "stream",
     "text": [
      "Homer is the Dad\n",
      "Marge is the Mum\n",
      "Maggie is the Baby\n"
     ]
    }
   ],
   "source": [
    "simpsons = {'Dad': 'Homer',\n",
    "            'Mum': 'Marge',\n",
    "            'Baby': 'Maggie'}\n",
    "\n",
    "for family_member, name in simpsons.items():\n",
    "    print(f'{name} is the {family_member}')\n",
    "\n"
   ]
  },
  {
   "cell_type": "code",
   "execution_count": 7,
   "metadata": {},
   "outputs": [
    {
     "name": "stdout",
     "output_type": "stream",
     "text": [
      "['Ned', 'Krusty']\n"
     ]
    }
   ],
   "source": [
    "side_characters = ['Barney', 'Ned', 'Krusty', 'Sideshow Bob']\n",
    "print(side_characters[1:3])\n",
    "\n"
   ]
  },
  {
   "cell_type": "code",
   "execution_count": 8,
   "metadata": {},
   "outputs": [
    {
     "name": "stdout",
     "output_type": "stream",
     "text": [
      "['Barney Simpson', 'Ned Simpson', 'Krusty Simpson', 'Sideshow Bob Simpson']\n"
     ]
    }
   ],
   "source": [
    "side_characters = ['Barney', 'Ned', 'Krusty', 'Sideshow Bob']\n",
    "\n",
    "for i, name in enumerate(side_characters):\n",
    "    side_characters[i] = f'{name} Simpson'\n",
    "\n",
    "print(side_characters)"
   ]
  },
  {
   "cell_type": "code",
   "execution_count": 9,
   "metadata": {},
   "outputs": [
    {
     "data": {
      "text/html": [
       "<div>\n",
       "<style scoped>\n",
       "    .dataframe tbody tr th:only-of-type {\n",
       "        vertical-align: middle;\n",
       "    }\n",
       "\n",
       "    .dataframe tbody tr th {\n",
       "        vertical-align: top;\n",
       "    }\n",
       "\n",
       "    .dataframe thead th {\n",
       "        text-align: right;\n",
       "    }\n",
       "</style>\n",
       "<table border=\"1\" class=\"dataframe\">\n",
       "  <thead>\n",
       "    <tr style=\"text-align: right;\">\n",
       "      <th></th>\n",
       "      <th>Col 1</th>\n",
       "      <th>col 2</th>\n",
       "      <th>originator</th>\n",
       "    </tr>\n",
       "  </thead>\n",
       "  <tbody>\n",
       "    <tr>\n",
       "      <th>0</th>\n",
       "      <td>foo</td>\n",
       "      <td>1</td>\n",
       "      <td>Dataframe 1</td>\n",
       "    </tr>\n",
       "    <tr>\n",
       "      <th>1</th>\n",
       "      <td>bar</td>\n",
       "      <td>2</td>\n",
       "      <td>Dataframe 1</td>\n",
       "    </tr>\n",
       "    <tr>\n",
       "      <th>2</th>\n",
       "      <td>baz</td>\n",
       "      <td>3</td>\n",
       "      <td>Dataframe 1</td>\n",
       "    </tr>\n",
       "  </tbody>\n",
       "</table>\n",
       "</div>"
      ],
      "text/plain": [
       "  Col 1  col 2   originator\n",
       "0   foo      1  Dataframe 1\n",
       "1   bar      2  Dataframe 1\n",
       "2   baz      3  Dataframe 1"
      ]
     },
     "execution_count": 9,
     "metadata": {},
     "output_type": "execute_result"
    }
   ],
   "source": [
    "import pandas as pd\n",
    "\n",
    "df_1 = pd.DataFrame({'Col 1':['foo','bar','baz'],\n",
    "                     'col 2':[1, 2, 3]})\n",
    "\n",
    "df_2 = pd.DataFrame({'col 1':['Thing 1', 'Thing 2', 'Thing 3'],\n",
    "                     'col 2': ['Green', 'Eggs', 'Ham']})\n",
    "\n",
    "df_dict = {'Dataframe 1':df_1,\n",
    "           'Dataframe 2':df_2}\n",
    "\n",
    "for k, v in df_dict.items():\n",
    "    v['originator'] = k\n",
    "\n",
    "df_dict['Dataframe 1']"
   ]
  },
  {
   "cell_type": "code",
   "execution_count": 10,
   "metadata": {},
   "outputs": [
    {
     "data": {
      "text/html": [
       "<div>\n",
       "<style scoped>\n",
       "    .dataframe tbody tr th:only-of-type {\n",
       "        vertical-align: middle;\n",
       "    }\n",
       "\n",
       "    .dataframe tbody tr th {\n",
       "        vertical-align: top;\n",
       "    }\n",
       "\n",
       "    .dataframe thead th {\n",
       "        text-align: right;\n",
       "    }\n",
       "</style>\n",
       "<table border=\"1\" class=\"dataframe\">\n",
       "  <thead>\n",
       "    <tr style=\"text-align: right;\">\n",
       "      <th></th>\n",
       "      <th>Name</th>\n",
       "      <th>Job Title</th>\n",
       "      <th>originator</th>\n",
       "    </tr>\n",
       "  </thead>\n",
       "  <tbody>\n",
       "    <tr>\n",
       "      <th>0</th>\n",
       "      <td>Jon</td>\n",
       "      <td>Reception</td>\n",
       "      <td>Dataframe 1</td>\n",
       "    </tr>\n",
       "    <tr>\n",
       "      <th>1</th>\n",
       "      <td>Paul</td>\n",
       "      <td>Cleaner</td>\n",
       "      <td>Dataframe 1</td>\n",
       "    </tr>\n",
       "    <tr>\n",
       "      <th>2</th>\n",
       "      <td>Emily</td>\n",
       "      <td>Admin</td>\n",
       "      <td>Dataframe 1</td>\n",
       "    </tr>\n",
       "  </tbody>\n",
       "</table>\n",
       "</div>"
      ],
      "text/plain": [
       "    Name  Job Title   originator\n",
       "0    Jon  Reception  Dataframe 1\n",
       "1   Paul    Cleaner  Dataframe 1\n",
       "2  Emily      Admin  Dataframe 1"
      ]
     },
     "execution_count": 10,
     "metadata": {},
     "output_type": "execute_result"
    }
   ],
   "source": [
    "import pandas as pd\n",
    "company_1 = pd.DataFrame({'Name':['Jon','Paul','Emily'],\n",
    "                     'Job Title':['Reception', 'Cleaner', 'Admin']})\n",
    "\n",
    "company_2 = pd.DataFrame({'Name':['Thing 1', 'Thing 2', 'Thing 3'],\n",
    "                     'col 2': ['Green', 'Eggs', 'Ham']})\n",
    "\n",
    "company_df_dict = {'Dataframe 1':company_1,\n",
    "           'Dataframe 2':company_2}\n",
    "\n",
    "for k, v in company_df_dict.items():\n",
    "    v['originator'] = k\n",
    "\n",
    "company_df_dict['Dataframe 1']"
   ]
  },
  {
   "cell_type": "code",
   "execution_count": 19,
   "metadata": {},
   "outputs": [
    {
     "name": "stdout",
     "output_type": "stream",
     "text": [
      "  child_id  age_first_contact gender nhs_numbers\n",
      "0   child1                  6      M        nhs1\n",
      "1   child2                 10      M        nhs2\n",
      "2   child3                 12      M        nhs3\n",
      "3   child4                 13      F        nhs4\n"
     ]
    }
   ],
   "source": [
    "import pandas as pd\n",
    "\n",
    "child_ident = pd.DataFrame({'child_id': ['child1','child2','child3', 'child4'],\n",
    "              'age_first_contact':[6, 10, 12, 13],\n",
    "              'gender':['M','M', 'M', 'F']})\n",
    "\n",
    "#print(child_ident)\n",
    "\n",
    "nhs_nums = pd.DataFrame({'child_id':['child1','child2','child3', 'child4'],\n",
    "                         'nhs_numbers':['nhs1', 'nhs2', 'nhs3', 'nhs4']})\n",
    "\n",
    "ident_nhs = child_ident.merge(nhs_nums, how='left', left_on='child_id', right_on='child_id')\n",
    "\n",
    "# ident_nhs = child_identifiers.merge(nhs_nums, how='left', on='child_id')\n",
    "\n",
    "print(ident_nhs)"
   ]
  },
  {
   "cell_type": "code",
   "execution_count": 14,
   "metadata": {},
   "outputs": [
    {
     "data": {
      "text/plain": [
       "[1, 2, 3, 5, 8, 13, 21, 34, 55, 89]"
      ]
     },
     "execution_count": 14,
     "metadata": {},
     "output_type": "execute_result"
    }
   ],
   "source": [
    "x = 1\n",
    "numbers_list = []\n",
    "\n",
    "for i in list(range(10)):\n",
    "    numbers_list.append(x)\n",
    "    x = (x + numbers_list[i-1])\n",
    "\n",
    "numbers_list"
   ]
  },
  {
   "cell_type": "code",
   "execution_count": 28,
   "metadata": {},
   "outputs": [
    {
     "data": {
      "text/html": [
       "<div>\n",
       "<style scoped>\n",
       "    .dataframe tbody tr th:only-of-type {\n",
       "        vertical-align: middle;\n",
       "    }\n",
       "\n",
       "    .dataframe tbody tr th {\n",
       "        vertical-align: top;\n",
       "    }\n",
       "\n",
       "    .dataframe thead th {\n",
       "        text-align: right;\n",
       "    }\n",
       "</style>\n",
       "<table border=\"1\" class=\"dataframe\">\n",
       "  <thead>\n",
       "    <tr style=\"text-align: right;\">\n",
       "      <th></th>\n",
       "      <th>1</th>\n",
       "      <th>2</th>\n",
       "      <th>3</th>\n",
       "      <th>4</th>\n",
       "      <th>5</th>\n",
       "      <th>6</th>\n",
       "      <th>7</th>\n",
       "      <th>8</th>\n",
       "      <th>9</th>\n",
       "      <th>10</th>\n",
       "    </tr>\n",
       "  </thead>\n",
       "  <tbody>\n",
       "    <tr>\n",
       "      <th>1</th>\n",
       "      <td>1</td>\n",
       "      <td>2</td>\n",
       "      <td>3</td>\n",
       "      <td>4</td>\n",
       "      <td>5</td>\n",
       "      <td>6</td>\n",
       "      <td>7</td>\n",
       "      <td>8</td>\n",
       "      <td>9</td>\n",
       "      <td>10</td>\n",
       "    </tr>\n",
       "    <tr>\n",
       "      <th>2</th>\n",
       "      <td>2</td>\n",
       "      <td>4</td>\n",
       "      <td>6</td>\n",
       "      <td>8</td>\n",
       "      <td>10</td>\n",
       "      <td>12</td>\n",
       "      <td>14</td>\n",
       "      <td>16</td>\n",
       "      <td>18</td>\n",
       "      <td>20</td>\n",
       "    </tr>\n",
       "    <tr>\n",
       "      <th>3</th>\n",
       "      <td>3</td>\n",
       "      <td>6</td>\n",
       "      <td>9</td>\n",
       "      <td>12</td>\n",
       "      <td>15</td>\n",
       "      <td>18</td>\n",
       "      <td>21</td>\n",
       "      <td>24</td>\n",
       "      <td>27</td>\n",
       "      <td>30</td>\n",
       "    </tr>\n",
       "    <tr>\n",
       "      <th>4</th>\n",
       "      <td>4</td>\n",
       "      <td>8</td>\n",
       "      <td>12</td>\n",
       "      <td>16</td>\n",
       "      <td>20</td>\n",
       "      <td>24</td>\n",
       "      <td>28</td>\n",
       "      <td>32</td>\n",
       "      <td>36</td>\n",
       "      <td>40</td>\n",
       "    </tr>\n",
       "    <tr>\n",
       "      <th>5</th>\n",
       "      <td>5</td>\n",
       "      <td>10</td>\n",
       "      <td>15</td>\n",
       "      <td>20</td>\n",
       "      <td>25</td>\n",
       "      <td>30</td>\n",
       "      <td>35</td>\n",
       "      <td>40</td>\n",
       "      <td>45</td>\n",
       "      <td>50</td>\n",
       "    </tr>\n",
       "    <tr>\n",
       "      <th>6</th>\n",
       "      <td>6</td>\n",
       "      <td>12</td>\n",
       "      <td>18</td>\n",
       "      <td>24</td>\n",
       "      <td>30</td>\n",
       "      <td>36</td>\n",
       "      <td>42</td>\n",
       "      <td>48</td>\n",
       "      <td>54</td>\n",
       "      <td>60</td>\n",
       "    </tr>\n",
       "    <tr>\n",
       "      <th>7</th>\n",
       "      <td>7</td>\n",
       "      <td>14</td>\n",
       "      <td>21</td>\n",
       "      <td>28</td>\n",
       "      <td>35</td>\n",
       "      <td>42</td>\n",
       "      <td>49</td>\n",
       "      <td>56</td>\n",
       "      <td>63</td>\n",
       "      <td>70</td>\n",
       "    </tr>\n",
       "    <tr>\n",
       "      <th>8</th>\n",
       "      <td>8</td>\n",
       "      <td>16</td>\n",
       "      <td>24</td>\n",
       "      <td>32</td>\n",
       "      <td>40</td>\n",
       "      <td>48</td>\n",
       "      <td>56</td>\n",
       "      <td>64</td>\n",
       "      <td>72</td>\n",
       "      <td>80</td>\n",
       "    </tr>\n",
       "    <tr>\n",
       "      <th>9</th>\n",
       "      <td>9</td>\n",
       "      <td>18</td>\n",
       "      <td>27</td>\n",
       "      <td>36</td>\n",
       "      <td>45</td>\n",
       "      <td>54</td>\n",
       "      <td>63</td>\n",
       "      <td>72</td>\n",
       "      <td>81</td>\n",
       "      <td>90</td>\n",
       "    </tr>\n",
       "    <tr>\n",
       "      <th>10</th>\n",
       "      <td>10</td>\n",
       "      <td>20</td>\n",
       "      <td>30</td>\n",
       "      <td>40</td>\n",
       "      <td>50</td>\n",
       "      <td>60</td>\n",
       "      <td>70</td>\n",
       "      <td>80</td>\n",
       "      <td>90</td>\n",
       "      <td>100</td>\n",
       "    </tr>\n",
       "  </tbody>\n",
       "</table>\n",
       "</div>"
      ],
      "text/plain": [
       "    1   2   3   4   5   6   7   8   9    10\n",
       "1    1   2   3   4   5   6   7   8   9   10\n",
       "2    2   4   6   8  10  12  14  16  18   20\n",
       "3    3   6   9  12  15  18  21  24  27   30\n",
       "4    4   8  12  16  20  24  28  32  36   40\n",
       "5    5  10  15  20  25  30  35  40  45   50\n",
       "6    6  12  18  24  30  36  42  48  54   60\n",
       "7    7  14  21  28  35  42  49  56  63   70\n",
       "8    8  16  24  32  40  48  56  64  72   80\n",
       "9    9  18  27  36  45  54  63  72  81   90\n",
       "10  10  20  30  40  50  60  70  80  90  100"
      ]
     },
     "execution_count": 28,
     "metadata": {},
     "output_type": "execute_result"
    }
   ],
   "source": [
    "import pandas as pd\n",
    "\n",
    "answers = []\n",
    "times_tables = {}\n",
    "for i in list(range(1,11)):\n",
    "    for j in list(range(1,11)):\n",
    "        answers.append(i * j)\n",
    "    times_tables[i] = answers\n",
    "    answers = []\n",
    "\n",
    "multiplication_table = pd.DataFrame(times_tables)\n",
    "multiplication_table.index +=1\n",
    "multiplication_table"
   ]
  },
  {
   "cell_type": "code",
   "execution_count": 37,
   "metadata": {},
   "outputs": [],
   "source": [
    "spreads = ['butter', 'jam', 'peanut butter']\n",
    "toppings = ['ham', 'cheese', 'sardines']\n",
    "filling = []\n",
    "combinations = {}\n",
    " "
   ]
  },
  {
   "cell_type": "code",
   "execution_count": 39,
   "metadata": {},
   "outputs": [
    {
     "data": {
      "text/html": [
       "<div>\n",
       "<style scoped>\n",
       "    .dataframe tbody tr th:only-of-type {\n",
       "        vertical-align: middle;\n",
       "    }\n",
       "\n",
       "    .dataframe tbody tr th {\n",
       "        vertical-align: top;\n",
       "    }\n",
       "\n",
       "    .dataframe thead th {\n",
       "        text-align: right;\n",
       "    }\n",
       "</style>\n",
       "<table border=\"1\" class=\"dataframe\">\n",
       "  <thead>\n",
       "    <tr style=\"text-align: right;\">\n",
       "      <th></th>\n",
       "      <th>butter</th>\n",
       "      <th>jam</th>\n",
       "      <th>peanut butter</th>\n",
       "    </tr>\n",
       "    <tr>\n",
       "      <th>topping</th>\n",
       "      <th></th>\n",
       "      <th></th>\n",
       "      <th></th>\n",
       "    </tr>\n",
       "  </thead>\n",
       "  <tbody>\n",
       "    <tr>\n",
       "      <th>ham</th>\n",
       "      <td>butter ham</td>\n",
       "      <td>jam ham</td>\n",
       "      <td>peanut butter ham</td>\n",
       "    </tr>\n",
       "    <tr>\n",
       "      <th>cheese</th>\n",
       "      <td>butter cheese</td>\n",
       "      <td>jam cheese</td>\n",
       "      <td>peanut butter cheese</td>\n",
       "    </tr>\n",
       "    <tr>\n",
       "      <th>sardines</th>\n",
       "      <td>butter sardines</td>\n",
       "      <td>jam sardines</td>\n",
       "      <td>peanut butter sardines</td>\n",
       "    </tr>\n",
       "  </tbody>\n",
       "</table>\n",
       "</div>"
      ],
      "text/plain": [
       "                   butter           jam           peanut butter\n",
       "topping                                                        \n",
       "ham            butter ham       jam ham       peanut butter ham\n",
       "cheese      butter cheese    jam cheese    peanut butter cheese\n",
       "sardines  butter sardines  jam sardines  peanut butter sardines"
      ]
     },
     "execution_count": 39,
     "metadata": {},
     "output_type": "execute_result"
    }
   ],
   "source": [
    "mixins = []\n",
    "sandwiches = {}\n",
    "\n",
    "for spread in spreads:\n",
    "    for topping in toppings:\n",
    "        mixins.append(f'{spread} {topping}')\n",
    "    sandwiches[spread] = mixins\n",
    "    mixins = []\n",
    "\n",
    "combinations_df = pd.DataFrame(sandwiches)\n",
    "combinations_df['topping'] = toppings\n",
    "combinations_df.set_index('topping', inplace=True)\n",
    "\n",
    "combinations_df"
   ]
  }
 ],
 "metadata": {
  "kernelspec": {
   "display_name": "Python 3",
   "language": "python",
   "name": "python3"
  },
  "language_info": {
   "codemirror_mode": {
    "name": "ipython",
    "version": 3
   },
   "file_extension": ".py",
   "mimetype": "text/x-python",
   "name": "python",
   "nbconvert_exporter": "python",
   "pygments_lexer": "ipython3",
   "version": "3.10.8"
  }
 },
 "nbformat": 4,
 "nbformat_minor": 2
}

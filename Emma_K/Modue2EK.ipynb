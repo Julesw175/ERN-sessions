{
 "cells": [
  {
   "cell_type": "code",
   "execution_count": 1,
   "metadata": {},
   "outputs": [
    {
     "name": "stdout",
     "output_type": "stream",
     "text": [
      "1\n",
      "2\n",
      "3\n",
      "4\n",
      "5\n",
      "[1, 2, 3, 4, 5]\n"
     ]
    }
   ],
   "source": [
    "numbers = [1, 2, 3, 4, 5]\n",
    "\n",
    "for i in range(1,6):\n",
    "    print(i)\n",
    "\n",
    "print(numbers)"
   ]
  },
  {
   "cell_type": "code",
   "execution_count": 9,
   "metadata": {},
   "outputs": [
    {
     "name": "stdout",
     "output_type": "stream",
     "text": [
      "Homer is the Dad\n",
      "Marge is the Mum\n",
      "Maggie is the Baby\n",
      "['Ned', 'Krusty']\n"
     ]
    }
   ],
   "source": [
    "simpsons = {'Dad': 'Homer',\n",
    "            'Mum': 'Marge',\n",
    "            'Baby': 'Maggie'}\n",
    "\n",
    "for family_member, name in simpsons.items():\n",
    "    print(f'{name} is the {family_member}')\n",
    "\n"
   ]
  },
  {
   "cell_type": "code",
   "execution_count": 10,
   "metadata": {},
   "outputs": [
    {
     "name": "stdout",
     "output_type": "stream",
     "text": [
      "['Ned', 'Krusty']\n"
     ]
    }
   ],
   "source": [
    "side_characters = ['Barney', 'Ned', 'Krusty', 'Sideshow Bob']\n",
    "print(side_characters[1:3])\n",
    "\n"
   ]
  },
  {
   "cell_type": "code",
   "execution_count": 11,
   "metadata": {},
   "outputs": [
    {
     "name": "stdout",
     "output_type": "stream",
     "text": [
      "['Barney Simpson', 'Ned Simpson', 'Krusty Simpson', 'Sideshow Bob Simpson']\n"
     ]
    }
   ],
   "source": [
    "side_characters = ['Barney', 'Ned', 'Krusty', 'Sideshow Bob']\n",
    "\n",
    "for i, name in enumerate(side_characters):\n",
    "    side_characters[i] = f'{name} Simpson'\n",
    "\n",
    "print(side_characters)"
   ]
  },
  {
   "cell_type": "code",
   "execution_count": 17,
   "metadata": {},
   "outputs": [
    {
     "data": {
      "text/html": [
       "<div>\n",
       "<style scoped>\n",
       "    .dataframe tbody tr th:only-of-type {\n",
       "        vertical-align: middle;\n",
       "    }\n",
       "\n",
       "    .dataframe tbody tr th {\n",
       "        vertical-align: top;\n",
       "    }\n",
       "\n",
       "    .dataframe thead th {\n",
       "        text-align: right;\n",
       "    }\n",
       "</style>\n",
       "<table border=\"1\" class=\"dataframe\">\n",
       "  <thead>\n",
       "    <tr style=\"text-align: right;\">\n",
       "      <th></th>\n",
       "      <th>Col 1</th>\n",
       "      <th>col 2</th>\n",
       "      <th>originator</th>\n",
       "    </tr>\n",
       "  </thead>\n",
       "  <tbody>\n",
       "    <tr>\n",
       "      <th>0</th>\n",
       "      <td>foo</td>\n",
       "      <td>1</td>\n",
       "      <td>Dataframe 1</td>\n",
       "    </tr>\n",
       "    <tr>\n",
       "      <th>1</th>\n",
       "      <td>bar</td>\n",
       "      <td>2</td>\n",
       "      <td>Dataframe 1</td>\n",
       "    </tr>\n",
       "    <tr>\n",
       "      <th>2</th>\n",
       "      <td>baz</td>\n",
       "      <td>3</td>\n",
       "      <td>Dataframe 1</td>\n",
       "    </tr>\n",
       "  </tbody>\n",
       "</table>\n",
       "</div>"
      ],
      "text/plain": [
       "  Col 1  col 2   originator\n",
       "0   foo      1  Dataframe 1\n",
       "1   bar      2  Dataframe 1\n",
       "2   baz      3  Dataframe 1"
      ]
     },
     "execution_count": 17,
     "metadata": {},
     "output_type": "execute_result"
    }
   ],
   "source": [
    "import pandas as pd\n",
    "df_1 = pd.DataFrame({'Col 1':['foo','bar','baz'],\n",
    "                     'col 2':[1, 2, 3]})\n",
    "\n",
    "df_2 = pd.DataFrame({'col 1':['Thing 1', 'Thing 2', 'Thing 3'],\n",
    "                     'col 2': ['Green', 'Eggs', 'Ham']})\n",
    "\n",
    "df_dict = {'Dataframe 1':df_1,\n",
    "           'Dataframe 2':df_2}\n",
    "\n",
    "for k, v in df_dict.items():\n",
    "    v['originator'] = k\n",
    "\n",
    "df_dict['Dataframe 1']"
   ]
  },
  {
   "cell_type": "code",
   "execution_count": 18,
   "metadata": {},
   "outputs": [
    {
     "data": {
      "text/html": [
       "<div>\n",
       "<style scoped>\n",
       "    .dataframe tbody tr th:only-of-type {\n",
       "        vertical-align: middle;\n",
       "    }\n",
       "\n",
       "    .dataframe tbody tr th {\n",
       "        vertical-align: top;\n",
       "    }\n",
       "\n",
       "    .dataframe thead th {\n",
       "        text-align: right;\n",
       "    }\n",
       "</style>\n",
       "<table border=\"1\" class=\"dataframe\">\n",
       "  <thead>\n",
       "    <tr style=\"text-align: right;\">\n",
       "      <th></th>\n",
       "      <th>Name</th>\n",
       "      <th>Job Title</th>\n",
       "      <th>originator</th>\n",
       "    </tr>\n",
       "  </thead>\n",
       "  <tbody>\n",
       "    <tr>\n",
       "      <th>0</th>\n",
       "      <td>Jon</td>\n",
       "      <td>Reception</td>\n",
       "      <td>Dataframe 1</td>\n",
       "    </tr>\n",
       "    <tr>\n",
       "      <th>1</th>\n",
       "      <td>Paul</td>\n",
       "      <td>Cleaner</td>\n",
       "      <td>Dataframe 1</td>\n",
       "    </tr>\n",
       "    <tr>\n",
       "      <th>2</th>\n",
       "      <td>Emily</td>\n",
       "      <td>Admin</td>\n",
       "      <td>Dataframe 1</td>\n",
       "    </tr>\n",
       "  </tbody>\n",
       "</table>\n",
       "</div>"
      ],
      "text/plain": [
       "    Name  Job Title   originator\n",
       "0    Jon  Reception  Dataframe 1\n",
       "1   Paul    Cleaner  Dataframe 1\n",
       "2  Emily      Admin  Dataframe 1"
      ]
     },
     "execution_count": 18,
     "metadata": {},
     "output_type": "execute_result"
    }
   ],
   "source": [
    "import pandas as pd\n",
    "company_1 = pd.DataFrame({'Name':['Jon','Paul','Emily'],\n",
    "                     'Job Title':['Reception', 'Cleaner', 'Admin']})\n",
    "\n",
    "company_2 = pd.DataFrame({'Name':['Thing 1', 'Thing 2', 'Thing 3'],\n",
    "                     'col 2': ['Green', 'Eggs', 'Ham']})\n",
    "\n",
    "company_df_dict = {'Dataframe 1':company_1,\n",
    "           'Dataframe 2':company_2}\n",
    "\n",
    "for k, v in company_df_dict.items():\n",
    "    v['originator'] = k\n",
    "\n",
    "company_df_dict['Dataframe 1']"
   ]
  },
  {
   "cell_type": "code",
   "execution_count": 29,
   "metadata": {},
   "outputs": [
    {
     "name": "stdout",
     "output_type": "stream",
     "text": [
      "  child_id  age_first_contact gender\n",
      "0   child1                  6      M\n",
      "1   child2                 10      M\n",
      "2   child3                 12      M\n",
      "3   child4                 13      F\n",
      "  child_id  age_first_contact gender nhs_numbers\n",
      "0   child1                  6      M        nhs1\n",
      "1   child2                 10      M        nhs2\n",
      "2   child3                 12      M        nhs3\n",
      "3   child4                 13      F        nhs4\n"
     ]
    }
   ],
   "source": [
    "child_ident = pd.DataFrame({'child_id': ['child1','child2','child3', 'child4'],\n",
    "              'age_first_contact':[6, 10, 12, 13],\n",
    "              'gender':['M','M', 'M', 'F']})\n",
    "\n",
    "print(child_ident)\n",
    "\n",
    "nhs_nums = pd.DataFrame({'child_id':['child1','child2','child3', 'child4'],\n",
    "                         'nhs_numbers':['nhs1', 'nhs2', 'nhs3', 'nhs4']})\n",
    "\n",
    "ident_nhs = child_ident.merge(nhs_nums, how='left', left_on='child_id', right_on='child_id')\n",
    "\n",
    "# ident_nhs = child_identifiers.merge(nhs_nums, how='left', on='child_id')\n",
    "\n",
    "print(ident_nhs)"
   ]
  }
 ],
 "metadata": {
  "kernelspec": {
   "display_name": "Python 3",
   "language": "python",
   "name": "python3"
  },
  "language_info": {
   "codemirror_mode": {
    "name": "ipython",
    "version": 3
   },
   "file_extension": ".py",
   "mimetype": "text/x-python",
   "name": "python",
   "nbconvert_exporter": "python",
   "pygments_lexer": "ipython3",
   "version": "3.10.8"
  }
 },
 "nbformat": 4,
 "nbformat_minor": 2
}

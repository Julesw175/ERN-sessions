{
 "cells": [
  {
   "cell_type": "code",
   "execution_count": 6,
   "metadata": {},
   "outputs": [
    {
     "name": "stdout",
     "output_type": "stream",
     "text": [
      "11\n"
     ]
    }
   ],
   "source": [
    "#DRY don't repeat yourself\n",
    "# functions\n",
    "\n",
    "# for something in something:\n",
    "#       do stuff\n",
    "#       do more stuff\n",
    "\n",
    "def sum_function(x, y):\n",
    "    total = x + y\n",
    "    return total   # IMPORTANT actually saving the total rather than just running the code\n",
    "\n",
    "answer = sum_function(5, 6)\n",
    "print(answer)"
   ]
  },
  {
   "cell_type": "code",
   "execution_count": 9,
   "metadata": {},
   "outputs": [
    {
     "name": "stdout",
     "output_type": "stream",
     "text": [
      "12\n"
     ]
    }
   ],
   "source": [
    "def sum_product(x, y):\n",
    "    total = x * y\n",
    "    return total\n",
    "answer = sum_product (2, 6)\n",
    "print(answer)"
   ]
  },
  {
   "cell_type": "code",
   "execution_count": 12,
   "metadata": {},
   "outputs": [
    {
     "name": "stdout",
     "output_type": "stream",
     "text": [
      "25\n",
      "100\n"
     ]
    }
   ],
   "source": [
    "def product_function (x, y):\n",
    "    product = x * y\n",
    "    return product\n",
    "\n",
    "ten_times_ten = product_function(10, 10)\n",
    "five_times_five = product_function(5, 5)\n",
    "print(five_times_five)\n",
    "print(ten_times_ten)"
   ]
  },
  {
   "cell_type": "code",
   "execution_count": 13,
   "metadata": {},
   "outputs": [
    {
     "name": "stdout",
     "output_type": "stream",
     "text": [
      "15\n",
      "50\n"
     ]
    }
   ],
   "source": [
    "def sum_prod(x, y):\n",
    "    summation = x + y\n",
    "    product = x * y\n",
    "    return summation, product\n",
    "\n",
    "summation_5_10, product_5_10 = sum_prod(5, 10)\n",
    "print(summation_5_10)\n",
    "print(product_5_10)"
   ]
  },
  {
   "cell_type": "code",
   "execution_count": 16,
   "metadata": {},
   "outputs": [
    {
     "name": "stdout",
     "output_type": "stream",
     "text": [
      "15 50\n"
     ]
    }
   ],
   "source": [
    "def sum_prod(x, y):\n",
    "    ''' Finds the sum and product of two numbers, returns the sum and product.\n",
    "    Args: \n",
    "        x, y: Int or Float, numbers for which to find sum and product.\n",
    "    Returns: \n",
    "        summation: Int or Float, sum of x and y\n",
    "        product: Int or Float, product of x and y\n",
    "    \n",
    "        '''\n",
    "    summation = x + y\n",
    "    product = x * y\n",
    "    return summation, product\n",
    "\n",
    "summation_5_10, product_5_10 = sum_prod(5, 10)\n",
    "print(summation_5_10, product_5_10)"
   ]
  },
  {
   "cell_type": "code",
   "execution_count": 18,
   "metadata": {},
   "outputs": [
    {
     "name": "stdout",
     "output_type": "stream",
     "text": [
      "90 10.0\n"
     ]
    }
   ],
   "source": [
    "def min_div(x, y):\n",
    "\n",
    "    '''Performs the calculations, minus and division for two arguments, returns the answer.\n",
    "    Args:\n",
    "        x, y: Int or Float, numbers for the minus and division calculations.\n",
    "    Returns: \n",
    "        min: Int or float, the answer to x minus y.\n",
    "        div: Int or float, the answer to x divided by y.\n",
    "        return min, div.\n",
    "    '''\n",
    "    min = x - y\n",
    "    div = x / y\n",
    "    return min, div\n",
    "\n",
    "min, div = min_div(100, 10)\n",
    "print(min,div)\n",
    "\n",
    "#nb using 0 (zero) will break this as /0 = error\n",
    "\n",
    "\n",
    "\n"
   ]
  },
  {
   "cell_type": "code",
   "execution_count": 8,
   "metadata": {},
   "outputs": [
    {
     "name": "stdout",
     "output_type": "stream",
     "text": [
      "5!\n"
     ]
    }
   ],
   "source": [
    "# This function: Write a function that takes in a string, checks its length, \n",
    "# and returns \"Over 5\" if its length is over 5 characters, and \"5 or under\" if its length is 5 or under, \n",
    "# also include an error of the correct kind that returns a useful message if the value input to the function is not a string.\n",
    "# This is the basic \n",
    "\n",
    "word = \"screw\"\n",
    "\n",
    "if len(word) > 5:\n",
    "    return_variable = \"over 5\"\n",
    "elif len(word) <5:\n",
    "    return_variable = \"less than 5\"\n",
    "else:\n",
    "    return_variable = \"5!\"\n",
    "\n",
    "print(return_variable)"
   ]
  },
  {
   "cell_type": "code",
   "execution_count": 17,
   "metadata": {},
   "outputs": [
    {
     "ename": "TypeError",
     "evalue": "str_length_function expects str, got <class 'int'>",
     "output_type": "error",
     "traceback": [
      "\u001b[0;31m---------------------------------------------------------------------------\u001b[0m",
      "\u001b[0;31mTypeError\u001b[0m                                 Traceback (most recent call last)",
      "Cell \u001b[0;32mIn[17], line 18\u001b[0m\n\u001b[1;32m     15\u001b[0m     \u001b[38;5;28;01melse\u001b[39;00m:\n\u001b[1;32m     16\u001b[0m         \u001b[38;5;28;01mraise\u001b[39;00m \u001b[38;5;167;01mTypeError\u001b[39;00m(\u001b[38;5;124mf\u001b[39m\u001b[38;5;124m'\u001b[39m\u001b[38;5;124mstr_length_function expects str, got \u001b[39m\u001b[38;5;132;01m{\u001b[39;00m\u001b[38;5;28mtype\u001b[39m(word)\u001b[38;5;132;01m}\u001b[39;00m\u001b[38;5;124m'\u001b[39m)\n\u001b[0;32m---> 18\u001b[0m \u001b[38;5;28mprint\u001b[39m(\u001b[43mstr_length_checker\u001b[49m\u001b[43m(\u001b[49m\u001b[38;5;241;43m5\u001b[39;49m\u001b[43m)\u001b[49m)\n",
      "Cell \u001b[0;32mIn[17], line 16\u001b[0m, in \u001b[0;36mstr_length_checker\u001b[0;34m(word)\u001b[0m\n\u001b[1;32m     14\u001b[0m     \u001b[38;5;28;01mreturn\u001b[39;00m return_variable\n\u001b[1;32m     15\u001b[0m \u001b[38;5;28;01melse\u001b[39;00m:\n\u001b[0;32m---> 16\u001b[0m     \u001b[38;5;28;01mraise\u001b[39;00m \u001b[38;5;167;01mTypeError\u001b[39;00m(\u001b[38;5;124mf\u001b[39m\u001b[38;5;124m'\u001b[39m\u001b[38;5;124mstr_length_function expects str, got \u001b[39m\u001b[38;5;132;01m{\u001b[39;00m\u001b[38;5;28mtype\u001b[39m(word)\u001b[38;5;132;01m}\u001b[39;00m\u001b[38;5;124m'\u001b[39m)\n",
      "\u001b[0;31mTypeError\u001b[0m: str_length_function expects str, got <class 'int'>"
     ]
    }
   ],
   "source": [
    "# This function: Write a function that takes in a string, checks its length, \n",
    "# and returns \"Over 5\" if its length is over 5 characters, and \"5 or under\" if its length is 5 or under, \n",
    "# also include an error of the correct kind that returns a useful message if the value input to the function is not a string.\n",
    "#This includes creating the function\n",
    "\n",
    "def str_length_checker(word):\n",
    "    if type(word) == str:\n",
    "        if len(word) > 5:\n",
    "            return_variable = \"over 5\"\n",
    "        elif len(word) <5:\n",
    "            return_variable = \"less than 5\"\n",
    "        else:\n",
    "            return_variable = \"5!\"\n",
    "        return return_variable\n",
    "    else:\n",
    "        raise TypeError(f'str_length_function expects str, got {type(word)}')\n",
    "\n",
    "print(str_length_checker(5))"
   ]
  },
  {
   "cell_type": "code",
   "execution_count": 20,
   "metadata": {},
   "outputs": [
    {
     "ename": "TypeError",
     "evalue": "no, you have used this function wrong",
     "output_type": "error",
     "traceback": [
      "\u001b[0;31m---------------------------------------------------------------------------\u001b[0m",
      "\u001b[0;31mTypeError\u001b[0m                                 Traceback (most recent call last)",
      "Cell \u001b[0;32mIn[20], line 4\u001b[0m\n\u001b[1;32m      1\u001b[0m \u001b[38;5;28;01mdef\u001b[39;00m \u001b[38;5;21merror_function\u001b[39m(bad_variable):\n\u001b[1;32m      2\u001b[0m     \u001b[38;5;28;01mraise\u001b[39;00m \u001b[38;5;167;01mTypeError\u001b[39;00m(\u001b[38;5;124m\"\u001b[39m\u001b[38;5;124mno, you have used this function wrong\u001b[39m\u001b[38;5;124m\"\u001b[39m)\n\u001b[0;32m----> 4\u001b[0m \u001b[43merror_function\u001b[49m\u001b[43m(\u001b[49m\u001b[38;5;241;43m1\u001b[39;49m\u001b[43m)\u001b[49m\n",
      "Cell \u001b[0;32mIn[20], line 2\u001b[0m, in \u001b[0;36merror_function\u001b[0;34m(bad_variable)\u001b[0m\n\u001b[1;32m      1\u001b[0m \u001b[38;5;28;01mdef\u001b[39;00m \u001b[38;5;21merror_function\u001b[39m(bad_variable):\n\u001b[0;32m----> 2\u001b[0m     \u001b[38;5;28;01mraise\u001b[39;00m \u001b[38;5;167;01mTypeError\u001b[39;00m(\u001b[38;5;124m\"\u001b[39m\u001b[38;5;124mno, you have used this function wrong\u001b[39m\u001b[38;5;124m\"\u001b[39m)\n",
      "\u001b[0;31mTypeError\u001b[0m: no, you have used this function wrong"
     ]
    }
   ],
   "source": [
    "def error_function(bad_variable):\n",
    "    raise TypeError(\"no, you have used this function wrong\")\n",
    "\n",
    "error_function(1)"
   ]
  },
  {
   "cell_type": "code",
   "execution_count": 22,
   "metadata": {},
   "outputs": [
    {
     "ename": "TypeError",
     "evalue": "Expected str, got <class 'int'>",
     "output_type": "error",
     "traceback": [
      "\u001b[0;31m---------------------------------------------------------------------------\u001b[0m",
      "\u001b[0;31mTypeError\u001b[0m                                 Traceback (most recent call last)",
      "Cell \u001b[0;32mIn[22], line 7\u001b[0m\n\u001b[1;32m      4\u001b[0m     \u001b[38;5;28;01melse\u001b[39;00m:\n\u001b[1;32m      5\u001b[0m        \u001b[38;5;28;01mraise\u001b[39;00m \u001b[38;5;167;01mTypeError\u001b[39;00m(\u001b[38;5;124mf\u001b[39m\u001b[38;5;124m'\u001b[39m\u001b[38;5;124mExpected str, got \u001b[39m\u001b[38;5;132;01m{\u001b[39;00m\u001b[38;5;28mtype\u001b[39m(bad_variable)\u001b[38;5;132;01m}\u001b[39;00m\u001b[38;5;124m'\u001b[39m)\n\u001b[0;32m----> 7\u001b[0m \u001b[43monly_string\u001b[49m\u001b[43m(\u001b[49m\u001b[38;5;241;43m1\u001b[39;49m\u001b[43m)\u001b[49m\n",
      "Cell \u001b[0;32mIn[22], line 5\u001b[0m, in \u001b[0;36monly_string\u001b[0;34m(bad_variable)\u001b[0m\n\u001b[1;32m      3\u001b[0m     \u001b[38;5;28;01mpass\u001b[39;00m\n\u001b[1;32m      4\u001b[0m \u001b[38;5;28;01melse\u001b[39;00m:\n\u001b[0;32m----> 5\u001b[0m    \u001b[38;5;28;01mraise\u001b[39;00m \u001b[38;5;167;01mTypeError\u001b[39;00m(\u001b[38;5;124mf\u001b[39m\u001b[38;5;124m'\u001b[39m\u001b[38;5;124mExpected str, got \u001b[39m\u001b[38;5;132;01m{\u001b[39;00m\u001b[38;5;28mtype\u001b[39m(bad_variable)\u001b[38;5;132;01m}\u001b[39;00m\u001b[38;5;124m'\u001b[39m)\n",
      "\u001b[0;31mTypeError\u001b[0m: Expected str, got <class 'int'>"
     ]
    }
   ],
   "source": [
    "def only_string(bad_variable):\n",
    "    if type(bad_variable) == str:\n",
    "        pass\n",
    "    else:\n",
    "       raise TypeError(f'Expected str, got {type(bad_variable)}')\n",
    "\n",
    "only_string(1)"
   ]
  },
  {
   "cell_type": "code",
   "execution_count": 23,
   "metadata": {},
   "outputs": [
    {
     "name": "stdout",
     "output_type": "stream",
     "text": [
      "over 10\n"
     ]
    }
   ],
   "source": [
    "x = 5\n",
    "y = 10\n",
    "x_y = x + y\n",
    "\n",
    "if x_y >10:\n",
    "    return_variable = \"over 10\"\n",
    "elif x_y < 10:\n",
    "    return_variable = \"less than 10\"\n",
    "else:\n",
    "    return_variable = \"must be 10\"\n",
    "\n",
    "print(return_variable)"
   ]
  },
  {
   "cell_type": "code",
   "execution_count": 25,
   "metadata": {},
   "outputs": [
    {
     "name": "stdout",
     "output_type": "stream",
     "text": [
      "less than 10\n"
     ]
    }
   ],
   "source": [
    "def over_10_checker(number_1, number_2):\n",
    "    number_1_2 = number_1 + number_2\n",
    "    if number_1_2 > 10:\n",
    "        return_variable = \"over 10\"\n",
    "    elif number_1_2 < 10:\n",
    "        return_variable = \"less than 10\"\n",
    "    else:\n",
    "        return_variable = \"must be 10\"\n",
    "    return return_variable\n",
    "over_10_maybe = over_10_checker(3, 5)\n",
    "print(over_10_maybe)"
   ]
  },
  {
   "cell_type": "code",
   "execution_count": 28,
   "metadata": {},
   "outputs": [
    {
     "name": "stdout",
     "output_type": "stream",
     "text": [
      "less than 10\n"
     ]
    }
   ],
   "source": [
    "def over_10_checker(number_1, number_2):\n",
    "    if ((type(number_1) == int) | (type(number_1) == float)) & (\n",
    "        (type(number_2) == int) | (type(number_2) == float)):\n",
    "\n",
    "        number_1_2 = number_1 + number_2\n",
    "        if number_1_2 > 10:\n",
    "            return_variable = \"over 10\"\n",
    "        elif number_1_2 < 10:\n",
    "            return_variable = \"less than 10\"\n",
    "        else:\n",
    "            return_variable = \"must be 10\"\n",
    "        return return_variable\n",
    "    else:\n",
    "        raise TypeError(f\"Expected int or float, got {type(number_1)}, and type(number_2)\")\n",
    "over_10_maybe = over_10_checker(3, 5)\n",
    "print(over_10_maybe)"
   ]
  },
  {
   "cell_type": "code",
   "execution_count": 32,
   "metadata": {},
   "outputs": [
    {
     "name": "stdout",
     "output_type": "stream",
     "text": [
      "Error\n"
     ]
    }
   ],
   "source": [
    "def add_things(x, y):\n",
    "    try:\n",
    "        return x + y\n",
    "    except:\n",
    "        #pass  = does nothing or\n",
    "        return \"Error\"\n",
    "print(add_things(\"word 1\",5))"
   ]
  },
  {
   "cell_type": "code",
   "execution_count": 37,
   "metadata": {},
   "outputs": [
    {
     "name": "stdout",
     "output_type": "stream",
     "text": [
      "25\n",
      "25\n",
      "2.0\n"
     ]
    }
   ],
   "source": [
    "square_function = (lambda x: x*x)\n",
    "square = square_function(5)\n",
    "print(square)\n",
    "\n",
    "# same as \n",
    "def square_x(x):\n",
    "    return x*x\n",
    "print(square_x(5))\n",
    "\n",
    "divided = (lambda x, y: x / y)(10,5)\n",
    "print(divided)"
   ]
  },
  {
   "cell_type": "code",
   "execution_count": null,
   "metadata": {},
   "outputs": [],
   "source": []
  },
  {
   "cell_type": "code",
   "execution_count": 38,
   "metadata": {},
   "outputs": [
    {
     "name": "stdout",
     "output_type": "stream",
     "text": [
      "[0, 2, 4, 6, 8, 10, 12, 14, 16, 18]\n"
     ]
    }
   ],
   "source": [
    "list_of_numbers = list(range(20))\n",
    "\n",
    "evens = [x for x in list_of_numbers if x %2 == 0]\n",
    "print(evens)\n"
   ]
  },
  {
   "cell_type": "code",
   "execution_count": 40,
   "metadata": {},
   "outputs": [
    {
     "name": "stdout",
     "output_type": "stream",
     "text": [
      "[0, 2, 4, 6, 8, 10, 12, 14, 16, 18]\n",
      "[0, 2, 4, 6, 8, 10, 12, 14, 16, 18]\n",
      "[0, 1, 4, 9, 16, 25, 36, 49, 64, 81, 100]\n"
     ]
    }
   ],
   "source": [
    "list_of_numbers = list(range(20))\n",
    "\n",
    "evens = [x for x in list_of_numbers if x %2 == 0]\n",
    "print(evens)\n",
    "\n",
    "list_of_evens = []\n",
    "for x in list_of_numbers:\n",
    "    if x %2 ==0:\n",
    "        list_of_evens.append(x)\n",
    "print(list_of_evens)\n",
    "\n",
    "squares = [x*x for x in range(11)]\n",
    "print(squares)"
   ]
  },
  {
   "cell_type": "code",
   "execution_count": 46,
   "metadata": {},
   "outputs": [
    {
     "name": "stdout",
     "output_type": "stream",
     "text": [
      "12\n",
      "[0.0, 1.0, 1.4142135623730951, 1.7320508075688772, 2.0, 2.23606797749979, 2.449489742783178, 2.6457513110645907, 2.8284271247461903, 3.0, 3.1622776601683795]\n",
      "[0.0, 1.0, 1.4142135623730951, 1.7320508075688772, 2.0, 2.23606797749979, 2.449489742783178, 2.6457513110645907, 2.8284271247461903, 3.0, 3.1622776601683795]\n"
     ]
    }
   ],
   "source": [
    "import math\n",
    "# or from math import sqrt - just imports square root function\n",
    "\n",
    "add_numbers = (lambda x, y: x + y)\n",
    "print(add_numbers(5, 7))\n",
    "\n",
    "root = [x ** (1/2) for x in range(11)]\n",
    "print(root)\n",
    "\n",
    "root = [math.sqrt(x) for x in range(11)]\n",
    "print(root)"
   ]
  },
  {
   "cell_type": "code",
   "execution_count": 47,
   "metadata": {},
   "outputs": [
    {
     "name": "stdout",
     "output_type": "stream",
     "text": [
      "<class 'pandas.core.frame.DataFrame'>\n",
      "RangeIndex: 523 entries, 0 to 522\n",
      "Data columns (total 6 columns):\n",
      " #   Column                                          Non-Null Count  Dtype  \n",
      "---  ------                                          --------------  -----  \n",
      " 0   Name                                            523 non-null    object \n",
      " 1   Period                                          523 non-null    object \n",
      " 2   House price index All property types            523 non-null    float64\n",
      " 3   Average price All property types                523 non-null    int64  \n",
      " 4   Percentage change (monthly) All property types  523 non-null    float64\n",
      " 5   Percentage change (yearly) All property types   523 non-null    float64\n",
      "dtypes: float64(3), int64(1), object(2)\n",
      "memory usage: 24.6+ KB\n",
      "None\n"
     ]
    }
   ],
   "source": [
    "import pandas as pd\n",
    "\n",
    "df = pd.read_csv('https://raw.githubusercontent.com/data-to-insight/D2I-Jupyter-Notebook-Tools/main/ERN-worksheets/data/1980%202023%20average%20house%20prices.csv')\n",
    "print(df.info())\n"
   ]
  },
  {
   "cell_type": "code",
   "execution_count": 51,
   "metadata": {},
   "outputs": [
    {
     "name": "stdout",
     "output_type": "stream",
     "text": [
      "     Percentage change (monthly) All property types Relative price change\n",
      "0                                              3.94                Higher\n",
      "1                                              3.94                Higher\n",
      "2                                              3.94                Higher\n",
      "3                                              4.00                Higher\n",
      "4                                              4.00                Higher\n",
      "..                                              ...                   ...\n",
      "518                                           -1.00                 Lower\n",
      "519                                            0.50                 Lower\n",
      "520                                            0.40                 Lower\n",
      "521                                            1.10                 Lower\n",
      "522                                            0.50                 Lower\n",
      "\n",
      "[523 rows x 2 columns]\n"
     ]
    }
   ],
   "source": [
    "import pandas as pd\n",
    "\n",
    "houses_df = pd.read_csv('https://raw.githubusercontent.com/data-to-insight/D2I-Jupyter-Notebook-Tools/main/ERN-worksheets/data/1980%202023%20average%20house%20prices.csv')\n",
    "\n",
    "def change_checker(x):\n",
    "    av_change = houses_df['Percentage change (monthly) All property types'].mean()\n",
    "    if x > av_change:\n",
    "        return \"Higher\"\n",
    "    elif x == av_change:\n",
    "        return \"Equal\"\n",
    "    else:\n",
    "        return \"Lower\"\n",
    "\n",
    "houses_df['Relative price change'] = houses_df['Percentage change (monthly) All property types'].apply(change_checker)\n",
    "\n",
    "print(houses_df[['Percentage change (monthly) All property types', 'Relative price change']])"
   ]
  },
  {
   "cell_type": "code",
   "execution_count": null,
   "metadata": {},
   "outputs": [],
   "source": [
    "#end session"
   ]
  }
 ],
 "metadata": {
  "kernelspec": {
   "display_name": "Python 3",
   "language": "python",
   "name": "python3"
  },
  "language_info": {
   "codemirror_mode": {
    "name": "ipython",
    "version": 3
   },
   "file_extension": ".py",
   "mimetype": "text/x-python",
   "name": "python",
   "nbconvert_exporter": "python",
   "pygments_lexer": "ipython3",
   "version": "3.10.8"
  }
 },
 "nbformat": 4,
 "nbformat_minor": 2
}

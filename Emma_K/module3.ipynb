{
 "cells": [
  {
   "cell_type": "code",
   "execution_count": 6,
   "metadata": {},
   "outputs": [
    {
     "name": "stdout",
     "output_type": "stream",
     "text": [
      "11\n"
     ]
    }
   ],
   "source": [
    "#DRY don't repeat yourself\n",
    "# functions\n",
    "\n",
    "# for something in something:\n",
    "#       do stuff\n",
    "#       do more stuff\n",
    "\n",
    "def sum_function(x, y):\n",
    "    total = x + y\n",
    "    return total   # IMPORTANT actually saving the total rather than just running the code\n",
    "\n",
    "answer = sum_function(5, 6)\n",
    "print(answer)"
   ]
  },
  {
   "cell_type": "code",
   "execution_count": 9,
   "metadata": {},
   "outputs": [
    {
     "name": "stdout",
     "output_type": "stream",
     "text": [
      "12\n"
     ]
    }
   ],
   "source": [
    "def sum_product(x, y):\n",
    "    total = x * y\n",
    "    return total\n",
    "answer = sum_product (2, 6)\n",
    "print(answer)"
   ]
  },
  {
   "cell_type": "code",
   "execution_count": 12,
   "metadata": {},
   "outputs": [
    {
     "name": "stdout",
     "output_type": "stream",
     "text": [
      "25\n",
      "100\n"
     ]
    }
   ],
   "source": [
    "def product_function (x, y):\n",
    "    product = x * y\n",
    "    return product\n",
    "\n",
    "ten_times_ten = product_function(10, 10)\n",
    "five_times_five = product_function(5, 5)\n",
    "print(five_times_five)\n",
    "print(ten_times_ten)"
   ]
  },
  {
   "cell_type": "code",
   "execution_count": 13,
   "metadata": {},
   "outputs": [
    {
     "name": "stdout",
     "output_type": "stream",
     "text": [
      "15\n",
      "50\n"
     ]
    }
   ],
   "source": [
    "def sum_prod(x, y):\n",
    "    summation = x + y\n",
    "    product = x * y\n",
    "    return summation, product\n",
    "\n",
    "summation_5_10, product_5_10 = sum_prod(5, 10)\n",
    "print(summation_5_10)\n",
    "print(product_5_10)"
   ]
  },
  {
   "cell_type": "code",
   "execution_count": 16,
   "metadata": {},
   "outputs": [
    {
     "name": "stdout",
     "output_type": "stream",
     "text": [
      "15 50\n"
     ]
    }
   ],
   "source": [
    "def sum_prod(x, y):\n",
    "    ''' Finds the sum and product of two numbers, returns the sum and product.\n",
    "    Args: \n",
    "        x, y: Int or Float, numbers for which to find sum and product.\n",
    "    Returns: \n",
    "        summation: Int or Float, sum of x and y\n",
    "        product: Int or Float, product of x and y\n",
    "    \n",
    "        '''\n",
    "    summation = x + y\n",
    "    product = x * y\n",
    "    return summation, product\n",
    "\n",
    "summation_5_10, product_5_10 = sum_prod(5, 10)\n",
    "print(summation_5_10, product_5_10)"
   ]
  },
  {
   "cell_type": "code",
   "execution_count": 18,
   "metadata": {},
   "outputs": [
    {
     "name": "stdout",
     "output_type": "stream",
     "text": [
      "90 10.0\n"
     ]
    }
   ],
   "source": [
    "def min_div(x, y):\n",
    "\n",
    "    '''Performs the calculations, minus and division for two arguments, returns the answer.\n",
    "    Args:\n",
    "        x, y: Int or Float, numbers for the minus and division calculations.\n",
    "    Returns: \n",
    "        min: Int or float, the answer to x minus y.\n",
    "        div: Int or float, the answer to x divided by y.\n",
    "        return min, div.\n",
    "    '''\n",
    "    min = x - y\n",
    "    div = x / y\n",
    "    return min, div\n",
    "\n",
    "min, div = min_div(100, 10)\n",
    "print(min,div)\n",
    "\n",
    "#nb using 0 (zero) will break this as /0 = error\n",
    "\n",
    "\n",
    "\n"
   ]
  }
 ],
 "metadata": {
  "kernelspec": {
   "display_name": "Python 3",
   "language": "python",
   "name": "python3"
  },
  "language_info": {
   "codemirror_mode": {
    "name": "ipython",
    "version": 3
   },
   "file_extension": ".py",
   "mimetype": "text/x-python",
   "name": "python",
   "nbconvert_exporter": "python",
   "pygments_lexer": "ipython3",
   "version": "3.10.8"
  }
 },
 "nbformat": 4,
 "nbformat_minor": 2
}

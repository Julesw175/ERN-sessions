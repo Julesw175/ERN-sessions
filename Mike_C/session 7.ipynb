{
 "cells": [
  {
   "cell_type": "code",
   "execution_count": null,
   "metadata": {},
   "outputs": [],
   "source": [
    "# Session 7\n",
    "import pandas as pd\n",
    "hp = pd.read_csv(\"/workspaces/ERN-sessions/data/1980 2023 average house prices.csv\")\n",
    "hp[\"Period\"] = pd.to_datetime(hp[\"Period\"], format=\"%Y-%m\")\n",
    "max_hp_change = max(hp[\"Percentage change (monthly) All property types\"])\n",
    "min_hp_change = min(hp[\"Percentage change (monthly) All property types\"])\n",
    "ave_hp_change = hp[\"Percentage change (monthly) All property types\"].mean()\n",
    "print(f\"Maximum house price change: {max_hp_change}%\")\n",
    "print(f\"Minimum house price change: {min_hp_change}%\")\n",
    "print(f\"Average house price change: {ave_hp_change}%\")\n",
    "above_max = hp[hp[\"Percentage change (monthly) All property types\"] > ave_hp_change]\n",
    "print(above_max)"
   ]
  },
  {
   "cell_type": "code",
   "execution_count": 3,
   "metadata": {},
   "outputs": [
    {
     "name": "stdout",
     "output_type": "stream",
     "text": [
      "1\n",
      "2\n",
      "3\n",
      "4\n",
      "5\n"
     ]
    }
   ],
   "source": [
    "numbers_list = [1, 2, 3, 4, 5,]\n",
    "\n",
    "for i in numbers_list:\n",
    "    print(i)"
   ]
  },
  {
   "cell_type": "code",
   "execution_count": null,
   "metadata": {},
   "outputs": [],
   "source": [
    "job_dict = {'Will':'Instructor',\n",
    "            'Emily':'Performance Analyst',\n",
    "            'Jon':'Performance Manager',\n",
    "            'Emma': 'Performance Officer',\n",
    "            'Paul M': 'Performance Officer',\n",
    "            'Michael': 'Regional Manager',\n",
    "            'Alasdair': 'SQL Developer',\n",
    "            'Michael C': 'Insight Analyst',\n",
    "            'Paul D.': 'Senior Performance Manager',\n",
    "            'Nazahah': 'Analyst',\n",
    "            'Martin': 'SQL Developer'\n",
    "}\n",
    "\n",
    "for k, v in job_dict.items():\n",
    "    print(f\"{k} is a {v}\")"
   ]
  },
  {
   "cell_type": "code",
   "execution_count": 31,
   "metadata": {},
   "outputs": [
    {
     "name": "stdout",
     "output_type": "stream",
     "text": [
      "[1, 2, 3, 4, 5, 6, 7, 8, 9, 10, 11, 12, 13, 14, 15, 16, 17, 18, 19, 20, 21, 22, 23, 24, 25, 26, 27, 28, 29, 30, 31, 32, 33, 34, 35, 36, 37, 38, 39, 40, 41, 42, 43, 44, 45, 46, 47, 48, 49, 50, 51, 52, 53, 54, 55, 56, 57, 58, 59, 60, 61, 62, 63, 64, 65, 66, 67, 68, 69, 70, 71, 72, 73, 74, 75, 76, 77, 78, 79, 80, 81, 82, 83, 84, 85, 86, 87, 88, 89, 90, 91, 92, 93, 94, 95, 96, 97, 98, 99, 100]\n",
      "Sum of even numbers: 2550\n",
      "Sum of odd numbers: 2500\n"
     ]
    }
   ],
   "source": [
    "is_even_sum = 0\n",
    "is_odd_sum = 0\n",
    "print(list(range(1, 101)))\n",
    "for i in list(range(1, 101)):\n",
    "    if i %2 == 0:\n",
    "        is_even_sum += i\n",
    "    else:\n",
    "        is_odd_sum += i\n",
    "\n",
    "print(f\"Sum of even numbers: {is_even_sum}\")\n",
    "print(f\"Sum of odd numbers: {is_odd_sum}\")"
   ]
  },
  {
   "cell_type": "code",
   "execution_count": null,
   "metadata": {},
   "outputs": [],
   "source": [
    "# A narcissistic number (named after the Narcissus of Greek myth, a handsome hunter who fell in love \n",
    "# with his own reflection) is one such that if you take each digit of the number, raise them separately\n",
    "# to the power of how many digits there are and then add these together, you return to your original \n",
    "# number. For instance 9^4 + 4^4 + 7^4 + 4^4 = 9474 (where ^ is to the power of) is a narcissistic number \n",
    "# as each of the digits that make it up (9, 4, 7, 4) to the power of the number of digits making it up (4)\n",
    "# added together makes 9474. Use this knowledge to write a loop which returns the first 20 narcissitic \n",
    "# numbers as a list, and stops looping when it gets 20 entries.\n",
    "\n",
    "# As always, there's a 'learn to google' extension to the assignment. Place your narcisitic numbers loop \n",
    "# inside another loop that changes the length of the list found to create lists with the first\n",
    "#  10, 20, and 30 narcisitic numbers. As well as this, work out a way to time how long each version \n",
    "#  of the loop takes to make each list and assign the answers to variables so you can print something \n",
    "#  like 'finding the first <n> narcissistic numbers in a for loop takes <x> seconds' for 10, 20, and 30.\n",
    "\n",
    "narc_num = []\n"
   ]
  },
  {
   "cell_type": "code",
   "execution_count": null,
   "metadata": {},
   "outputs": [],
   "source": []
  }
 ],
 "metadata": {
  "kernelspec": {
   "display_name": "Python 3",
   "language": "python",
   "name": "python3"
  },
  "language_info": {
   "codemirror_mode": {
    "name": "ipython",
    "version": 3
   },
   "file_extension": ".py",
   "mimetype": "text/x-python",
   "name": "python",
   "nbconvert_exporter": "python",
   "pygments_lexer": "ipython3",
   "version": "3.10.13"
  }
 },
 "nbformat": 4,
 "nbformat_minor": 2
}

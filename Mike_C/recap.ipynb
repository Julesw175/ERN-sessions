{
 "cells": [
  {
   "cell_type": "code",
   "execution_count": null,
   "metadata": {},
   "outputs": [],
   "source": [
    "import pandas as pd\n",
    "my_list = ['c', 'z', 'x']\n",
    "df = pd.read_csv(\"https://raw.githubusercontent.com/WillLP-code/stlite-tests/main/benchmarking%20test/data/a1.csv\")\n",
    "# print(df.head())\n",
    "query = (~df['number'].isin(my_list)) & (~df['rate'].isin(my_list)) & (~df['percent'].isin(my_list))\n",
    "non_suppressed = df[query]\n",
    "non_suppressed[['number','rate','percent']] = non_suppressed[['number','rate','percent']].astype('float')\n",
    "print(non_suppressed['number'].sum())\n",
    "print(non_suppressed['percent'].mean())\n",
    "print(non_suppressed.info())"
   ]
  },
  {
   "cell_type": "code",
   "execution_count": null,
   "metadata": {},
   "outputs": [],
   "source": [
    "import random\n",
    "def over_50(x):\n",
    "    if x >= 50:\n",
    "        return '50 or over'\n",
    "    else: \n",
    "        return 'less than 50'\n",
    "\n",
    "# number_list = [47, 85, 23, 98, 15, 67, 90, 84, 3, 51]\n",
    "number_list_rand = [random.randint(1, 100) for i in range(10)]\n",
    "\n",
    "for num in number_list_rand:\n",
    "    print(f\"{num} is {over_50(num)}\")\n",
    "  "
   ]
  },
  {
   "cell_type": "code",
   "execution_count": 27,
   "metadata": {},
   "outputs": [
    {
     "name": "stdout",
     "output_type": "stream",
     "text": [
      "0\n"
     ]
    }
   ],
   "source": [
    "def addition(x, y):\n",
    "    return x + y\n",
    "\n",
    "def subtraction(x, y):\n",
    "    return x - y\n",
    "\n",
    "def add_sub(x, y):\n",
    "    add = x + y\n",
    "    sub = x - y\n",
    "    return add, sub\n",
    "\n",
    "add_5_5, sub_5_5 = add_sub(5, 5)\n",
    "print(sub_5_5)\n"
   ]
  },
  {
   "cell_type": "code",
   "execution_count": 28,
   "metadata": {},
   "outputs": [
    {
     "name": "stdout",
     "output_type": "stream",
     "text": [
      "(10, 0)\n"
     ]
    }
   ],
   "source": [
    "def add_sub(x, y):\n",
    "    add = addition(x, y)\n",
    "    sub = subtraction(x, y)\n",
    "    return add, sub\n",
    "\n",
    "print(add_sub(5, 5))"
   ]
  },
  {
   "cell_type": "code",
   "execution_count": 34,
   "metadata": {},
   "outputs": [
    {
     "name": "stdout",
     "output_type": "stream",
     "text": [
      "5.0\n"
     ]
    }
   ],
   "source": [
    "def multiply(x, y):\n",
    "    return x * y\n",
    "\n",
    "def divide(x, y):\n",
    "    return(x / y)\n",
    "\n",
    "def mult_div(x, y):\n",
    "    return multiply(x, y), divide(x, y)\n",
    "\n",
    "mult_25_5, div_25_5 = mult_div(25, 5)\n",
    "print(div_25_5)"
   ]
  },
  {
   "cell_type": "code",
   "execution_count": null,
   "metadata": {},
   "outputs": [],
   "source": [
    "def addition_xy(x, y):\n",
    "    if ((type(x) == float) | (type(x) == int) & (type(y) == float) | (type(y) == int)):\n",
    "        return x + y\n",
    "    elif (type(x) == str) | (type(y) == str):\n",
    "        if type(x) == str & (type(y) == str):\n",
    "            raise TypeError(\"x and y are strings, expected float or int\")\n",
    "        if type(x) == str:\n",
    "            raise TypeError(\"x was a string, expected float or int\")   \n",
    "        if type(y) == str:\n",
    "            raise TypeError(\"y was a string, expected float or int\")\n",
    "    else:\n",
    "        raise TypeError('x or y should both be floats or both ints')\n",
    "print(addition_xy(5, '5'))"
   ]
  },
  {
   "cell_type": "code",
   "execution_count": null,
   "metadata": {},
   "outputs": [],
   "source": [
    "def apple_or_error(thing):\n",
    "    if thing == 'apple':\n",
    "        print(\"It's an apple\")\n",
    "    else:\n",
    "        raise ValueError(\"You must enter Apple\")\n",
    "    \n",
    "print(apple_or_error('orange'))"
   ]
  },
  {
   "cell_type": "code",
   "execution_count": null,
   "metadata": {},
   "outputs": [],
   "source": [
    "string = 10.6\n",
    "\n",
    "def string_len(string):\n",
    "    if (type(string) == int) | (type(string) == float):\n",
    "        raise ValueError(f\"You must enter a string, you entered {type(string)}\")\n",
    "    elif len(string) > 5:\n",
    "                return_message = \"over 5\"\n",
    "    elif len(string) < 5:\n",
    "                return_message = \"under 5\"\n",
    "    else:\n",
    "            return_message = \"equals 5\"\n",
    "\n",
    "    return(return_message)\n",
    "    \n",
    "print(string_len(string))       \n"
   ]
  },
  {
   "cell_type": "code",
   "execution_count": null,
   "metadata": {},
   "outputs": [],
   "source": [
    "\n",
    "def add_two_numbers(x, y):\n",
    "    if ((type(x) == int) | (type(x) == float)) & ((type(y) == int) | (type(y) == float)):\n",
    "        if x + y > 10:\n",
    "                return_message = \"over 10\"\n",
    "        elif x + y < 10:\n",
    "                return_message = \"under 10\"\n",
    "        else:\n",
    "            return_message = \"equals 10\"\n",
    "    else:\n",
    "        raise ValueError(f\"You must enter an integer or a float, x: {type(x)} y: {type(y)}\")\n",
    "    \n",
    "    return(return_message)\n",
    "    \n",
    "print(add_two_numbers(5, 'sausage'))"
   ]
  },
  {
   "cell_type": "code",
   "execution_count": null,
   "metadata": {},
   "outputs": [],
   "source": [
    "def add_things(x, y):\n",
    "    try:\n",
    "        return x + y\n",
    "    except:\n",
    "        return \"Error\"\n",
    "\n",
    "print(add_things('gong', 5))"
   ]
  },
  {
   "cell_type": "code",
   "execution_count": null,
   "metadata": {},
   "outputs": [],
   "source": [
    "# lambda functions\n",
    "square_function = (lambda x: x*x)\n",
    "\n",
    "square = square_function(5)\n",
    "print(square)"
   ]
  },
  {
   "cell_type": "code",
   "execution_count": 41,
   "metadata": {},
   "outputs": [
    {
     "name": "stdout",
     "output_type": "stream",
     "text": [
      "2.0\n"
     ]
    }
   ],
   "source": [
    "\n",
    "divided = (lambda x, y: x/y)(10, 5)\n",
    "print(divided)"
   ]
  },
  {
   "cell_type": "code",
   "execution_count": 45,
   "metadata": {},
   "outputs": [
    {
     "name": "stdout",
     "output_type": "stream",
     "text": [
      "[0, 2, 4, 6, 8, 10, 12, 14, 16, 18]\n",
      "[0, 2, 4, 6, 8, 10, 12, 14, 16, 18]\n"
     ]
    }
   ],
   "source": [
    "#List comprehensions\n",
    "list_of_numbers = list(range(20))\n",
    "\n",
    "evens = [x for x in list_of_numbers if x % 2 == 0]\n",
    "print(evens)\n",
    "\n",
    "list_of_evens = []\n",
    "for x in list_of_numbers:\n",
    "    if x % 2 == 0:\n",
    "        list_of_evens.append(x)\n",
    "\n",
    "print(list_of_evens)\n"
   ]
  },
  {
   "cell_type": "code",
   "execution_count": 46,
   "metadata": {},
   "outputs": [
    {
     "name": "stdout",
     "output_type": "stream",
     "text": [
      "[0, 1, 4, 9, 16, 25, 36, 49, 64, 81, 100]\n"
     ]
    }
   ],
   "source": [
    "squares = [x*x for x in range(11)]\n",
    "print(squares)"
   ]
  },
  {
   "cell_type": "code",
   "execution_count": 47,
   "metadata": {},
   "outputs": [
    {
     "name": "stdout",
     "output_type": "stream",
     "text": [
      "15\n"
     ]
    }
   ],
   "source": [
    "addition = (lambda x, y: x + y)(10, 5)\n",
    "print(addition)"
   ]
  },
  {
   "cell_type": "code",
   "execution_count": 49,
   "metadata": {},
   "outputs": [
    {
     "name": "stdout",
     "output_type": "stream",
     "text": [
      "[0.0, 1.0, 1.4142135623730951, 1.7320508075688772, 2.0, 2.23606797749979, 2.449489742783178, 2.6457513110645907, 2.8284271247461903, 3.0, 3.1622776601683795]\n"
     ]
    }
   ],
   "source": [
    "#from math import sqrt\n",
    "square_roots = [x**(1/2) for x in range(11)]\n",
    "print(square_roots)"
   ]
  },
  {
   "cell_type": "code",
   "execution_count": 71,
   "metadata": {},
   "outputs": [
    {
     "name": "stdout",
     "output_type": "stream",
     "text": [
      "   Percentage change (monthly) All property types Relative price change\n",
      "0                                            3.94                Higher\n",
      "1                                            3.94                Higher\n",
      "2                                            3.94                Higher\n",
      "3                                            4.00                Higher\n",
      "4                                            4.00                Higher\n",
      "5                                            4.00                Higher\n",
      "6                                            4.05                Higher\n",
      "7                                            4.05                Higher\n",
      "8                                            4.05                Higher\n",
      "9                                            0.19                 Lower\n",
      "\n"
     ]
    }
   ],
   "source": [
    "import pandas as pd\n",
    "houses_df = pd.read_csv('https://raw.githubusercontent.com/data-to-insight/D2I-Jupyter-Notebook-Tools/main/ERN-worksheets/data/1980%202023%20average%20house%20prices.csv')\n",
    "\n",
    "def change_checker(x):\n",
    "    av_change = houses_df['Percentage change (monthly) All property types'].mean()\n",
    "    if x > av_change:\n",
    "        return \"Higher\"\n",
    "    elif x == av_change:\n",
    "        return \"Equal\"\n",
    "    else:\n",
    "        return \"Lower\"\n",
    "    \n",
    "houses_df['Relative price change'] = houses_df['Percentage change (monthly) All property types'].apply(change_checker)\n",
    "\n",
    "print(houses_df[['Percentage change (monthly) All property types', 'Relative price change']].head(10))\n",
    "\n"
   ]
  }
 ],
 "metadata": {
  "kernelspec": {
   "display_name": "Python 3",
   "language": "python",
   "name": "python3"
  },
  "language_info": {
   "codemirror_mode": {
    "name": "ipython",
    "version": 3
   },
   "file_extension": ".py",
   "mimetype": "text/x-python",
   "name": "python",
   "nbconvert_exporter": "python",
   "pygments_lexer": "ipython3",
   "version": "3.10.13"
  }
 },
 "nbformat": 4,
 "nbformat_minor": 2
}

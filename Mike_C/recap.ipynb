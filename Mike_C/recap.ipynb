{
 "cells": [
  {
   "cell_type": "code",
   "execution_count": null,
   "metadata": {},
   "outputs": [],
   "source": [
    "import pandas as pd\n",
    "my_list = ['c', 'z', 'x']\n",
    "df = pd.read_csv(\"https://raw.githubusercontent.com/WillLP-code/stlite-tests/main/benchmarking%20test/data/a1.csv\")\n",
    "# print(df.head())\n",
    "query = (~df['number'].isin(my_list)) & (~df['rate'].isin(my_list)) & (~df['percent'].isin(my_list))\n",
    "non_suppressed = df[query]\n",
    "non_suppressed[['number','rate','percent']] = non_suppressed[['number','rate','percent']].astype('float')\n",
    "print(non_suppressed['number'].sum())\n",
    "print(non_suppressed['percent'].mean())\n",
    "print(non_suppressed.info())"
   ]
  },
  {
   "cell_type": "code",
   "execution_count": null,
   "metadata": {},
   "outputs": [],
   "source": [
    "import random\n",
    "def over_50(x):\n",
    "    if x >= 50:\n",
    "        return '50 or over'\n",
    "    else: \n",
    "        return 'less than 50'\n",
    "\n",
    "# number_list = [47, 85, 23, 98, 15, 67, 90, 84, 3, 51]\n",
    "number_list_rand = [random.randint(1, 100) for i in range(10)]\n",
    "\n",
    "for num in number_list_rand:\n",
    "    print(f\"{num} is {over_50(num)}\")\n",
    "  "
   ]
  },
  {
   "cell_type": "code",
   "execution_count": 27,
   "metadata": {},
   "outputs": [
    {
     "name": "stdout",
     "output_type": "stream",
     "text": [
      "0\n"
     ]
    }
   ],
   "source": [
    "def addition(x, y):\n",
    "    return x + y\n",
    "\n",
    "def subtraction(x, y):\n",
    "    return x - y\n",
    "\n",
    "def add_sub(x, y):\n",
    "    add = x + y\n",
    "    sub = x - y\n",
    "    return add, sub\n",
    "\n",
    "add_5_5, sub_5_5 = add_sub(5, 5)\n",
    "print(sub_5_5)\n"
   ]
  },
  {
   "cell_type": "code",
   "execution_count": 28,
   "metadata": {},
   "outputs": [
    {
     "name": "stdout",
     "output_type": "stream",
     "text": [
      "(10, 0)\n"
     ]
    }
   ],
   "source": [
    "def add_sub(x, y):\n",
    "    add = addition(x, y)\n",
    "    sub = subtraction(x, y)\n",
    "    return add, sub\n",
    "\n",
    "print(add_sub(5, 5))"
   ]
  },
  {
   "cell_type": "code",
   "execution_count": 34,
   "metadata": {},
   "outputs": [
    {
     "name": "stdout",
     "output_type": "stream",
     "text": [
      "5.0\n"
     ]
    }
   ],
   "source": [
    "def multiply(x, y):\n",
    "    return x * y\n",
    "\n",
    "def divide(x, y):\n",
    "    return(x / y)\n",
    "\n",
    "def mult_div(x, y):\n",
    "    return multiply(x, y), divide(x, y)\n",
    "\n",
    "mult_25_5, div_25_5 = mult_div(25, 5)\n",
    "print(div_25_5)"
   ]
  },
  {
   "cell_type": "code",
   "execution_count": null,
   "metadata": {},
   "outputs": [],
   "source": [
    "def addition_xy(x, y):\n",
    "    if ((type(x) == float) | (type(x) == int) & (type(y) == float) | (type(y) == int)):\n",
    "        return x + y\n",
    "    elif (type(x) == str) | (type(y) == str):\n",
    "        if type(x) == str & (type(y) == str):\n",
    "            raise TypeError(\"x and y are strings, expected float or int\")\n",
    "        if type(x) == str:\n",
    "            raise TypeError(\"x was a string, expected float or int\")   \n",
    "        if type(y) == str:\n",
    "            raise TypeError(\"y was a string, expected float or int\")\n",
    "    else:\n",
    "        raise TypeError('x or y should both be floats or both ints')\n",
    "print(addition_xy(5, '5'))"
   ]
  },
  {
   "cell_type": "code",
   "execution_count": 42,
   "metadata": {},
   "outputs": [
    {
     "ename": "ValueError",
     "evalue": "You must enter Apple",
     "output_type": "error",
     "traceback": [
      "\u001b[0;31m---------------------------------------------------------------------------\u001b[0m",
      "\u001b[0;31mValueError\u001b[0m                                Traceback (most recent call last)",
      "Cell \u001b[0;32mIn[42], line 7\u001b[0m\n\u001b[1;32m      4\u001b[0m     \u001b[38;5;28;01melse\u001b[39;00m:\n\u001b[1;32m      5\u001b[0m         \u001b[38;5;28;01mraise\u001b[39;00m \u001b[38;5;167;01mValueError\u001b[39;00m(\u001b[38;5;124m\"\u001b[39m\u001b[38;5;124mYou must enter Apple\u001b[39m\u001b[38;5;124m\"\u001b[39m)\n\u001b[0;32m----> 7\u001b[0m \u001b[38;5;28mprint\u001b[39m(\u001b[43mapple_or_error\u001b[49m\u001b[43m(\u001b[49m\u001b[38;5;124;43m'\u001b[39;49m\u001b[38;5;124;43morange\u001b[39;49m\u001b[38;5;124;43m'\u001b[39;49m\u001b[43m)\u001b[49m)\n",
      "Cell \u001b[0;32mIn[42], line 5\u001b[0m, in \u001b[0;36mapple_or_error\u001b[0;34m(thing)\u001b[0m\n\u001b[1;32m      3\u001b[0m     \u001b[38;5;28mprint\u001b[39m(\u001b[38;5;124m\"\u001b[39m\u001b[38;5;124mIt\u001b[39m\u001b[38;5;124m'\u001b[39m\u001b[38;5;124ms an apple\u001b[39m\u001b[38;5;124m\"\u001b[39m)\n\u001b[1;32m      4\u001b[0m \u001b[38;5;28;01melse\u001b[39;00m:\n\u001b[0;32m----> 5\u001b[0m     \u001b[38;5;28;01mraise\u001b[39;00m \u001b[38;5;167;01mValueError\u001b[39;00m(\u001b[38;5;124m\"\u001b[39m\u001b[38;5;124mYou must enter Apple\u001b[39m\u001b[38;5;124m\"\u001b[39m)\n",
      "\u001b[0;31mValueError\u001b[0m: You must enter Apple"
     ]
    }
   ],
   "source": [
    "def apple_or_error(thing):\n",
    "    if thing == 'apple':\n",
    "        print(\"It's an apple\")\n",
    "    else:\n",
    "        raise ValueError(\"You must enter Apple\")\n",
    "    \n",
    "print(apple_or_error('orange'))"
   ]
  }
 ],
 "metadata": {
  "kernelspec": {
   "display_name": "Python 3",
   "language": "python",
   "name": "python3"
  },
  "language_info": {
   "codemirror_mode": {
    "name": "ipython",
    "version": 3
   },
   "file_extension": ".py",
   "mimetype": "text/x-python",
   "name": "python",
   "nbconvert_exporter": "python",
   "pygments_lexer": "ipython3",
   "version": "3.10.13"
  }
 },
 "nbformat": 4,
 "nbformat_minor": 2
}

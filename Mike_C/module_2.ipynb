{
 "cells": [
  {
   "cell_type": "code",
   "execution_count": null,
   "metadata": {},
   "outputs": [],
   "source": [
    "#Loops\n",
    "\n",
    "numbers = [1,2,3,4,5]   #List of numbers\n",
    "for number in numbers:  #loop\n",
    "    print(number)     \n"
   ]
  },
  {
   "cell_type": "code",
   "execution_count": null,
   "metadata": {},
   "outputs": [],
   "source": [
    "numbers = [1,2,3,4,5]\n",
    "for i in range(1,6):\n",
    "    print(i)\n",
    "print(numbers)"
   ]
  },
  {
   "cell_type": "code",
   "execution_count": null,
   "metadata": {},
   "outputs": [],
   "source": [
    "simpsons = {'Dad':'Homer', #This is a Tuple\n",
    "            'Mum':'Marge',\n",
    "            'Baby':'Maggie'}\n",
    "\n",
    "for k, v in simpsons.items():\n",
    "    print(f'{v} is the {k}')"
   ]
  },
  {
   "cell_type": "code",
   "execution_count": 5,
   "metadata": {},
   "outputs": [
    {
     "name": "stdout",
     "output_type": "stream",
     "text": [
      "My favourite Fruit is Grapes\n",
      "My favourite Vegetable is Potato\n",
      "My favourite Fish is Herring\n"
     ]
    }
   ],
   "source": [
    "foods = {'Fruit':'Grapes',\n",
    "        'Vegetable':'Potato',\n",
    "        'Fish':'Herring'}\n",
    "\n",
    "for k, v in foods.items():\n",
    "    print(f'My favourite {k} is {v}')"
   ]
  },
  {
   "cell_type": "code",
   "execution_count": 11,
   "metadata": {},
   "outputs": [
    {
     "name": "stdout",
     "output_type": "stream",
     "text": [
      "['Barney Simpson', 'Ned Simpson', 'Krusty Simpson', 'Sideshow Bob Simpson']\n"
     ]
    }
   ],
   "source": [
    "side_characters = ['Barney','Ned','Krusty','Sideshow Bob']\n",
    "\n",
    "for i, name in enumerate(side_characters):\n",
    "    side_characters[i] = f'{name} Simpson'\n",
    "\n",
    "print(side_characters)\n",
    "\n"
   ]
  },
  {
   "cell_type": "code",
   "execution_count": null,
   "metadata": {},
   "outputs": [],
   "source": [
    "import pandas as pd\n",
    "df_1 = pd.DataFrame({'col 1':['food','bar','baz'],\n",
    "                     'col 2': [1,2,3]})\n",
    "df_2 = pd.DataFrame({'col 1':['Thing 1','Thing 2','Thing 3'],\n",
    "                    'col 2': ['Green', 'Eggs', 'Ham'] })\n",
    "\n",
    "df_dict = {'Dataframe 1':df_1,\n",
    "           'Dataframe 2':df_2}\n",
    "\n",
    "print(df_dict.items())\n",
    "for k, v in df_dict.items():\n",
    "    print(k)\n",
    "    print(v)\n",
    "\n",
    "for k, v in df_dict.items():\n",
    "    v['originator'] = k\n",
    "\n",
    "df_dict['Dataframe 1']"
   ]
  },
  {
   "cell_type": "code",
   "execution_count": 20,
   "metadata": {},
   "outputs": [
    {
     "data": {
      "text/html": [
       "<div>\n",
       "<style scoped>\n",
       "    .dataframe tbody tr th:only-of-type {\n",
       "        vertical-align: middle;\n",
       "    }\n",
       "\n",
       "    .dataframe tbody tr th {\n",
       "        vertical-align: top;\n",
       "    }\n",
       "\n",
       "    .dataframe thead th {\n",
       "        text-align: right;\n",
       "    }\n",
       "</style>\n",
       "<table border=\"1\" class=\"dataframe\">\n",
       "  <thead>\n",
       "    <tr style=\"text-align: right;\">\n",
       "      <th></th>\n",
       "      <th>Employee</th>\n",
       "      <th>Job Title</th>\n",
       "      <th>originator</th>\n",
       "    </tr>\n",
       "  </thead>\n",
       "  <tbody>\n",
       "    <tr>\n",
       "      <th>0</th>\n",
       "      <td>Mike</td>\n",
       "      <td>Chief Executive</td>\n",
       "      <td>Company 1</td>\n",
       "    </tr>\n",
       "    <tr>\n",
       "      <th>1</th>\n",
       "      <td>Paul</td>\n",
       "      <td>Research Analyst</td>\n",
       "      <td>Company 1</td>\n",
       "    </tr>\n",
       "    <tr>\n",
       "      <th>2</th>\n",
       "      <td>Liz</td>\n",
       "      <td>Head of Service</td>\n",
       "      <td>Company 1</td>\n",
       "    </tr>\n",
       "  </tbody>\n",
       "</table>\n",
       "</div>"
      ],
      "text/plain": [
       "  Employee         Job Title originator\n",
       "0     Mike   Chief Executive  Company 1\n",
       "1     Paul  Research Analyst  Company 1\n",
       "2      Liz   Head of Service  Company 1"
      ]
     },
     "execution_count": 20,
     "metadata": {},
     "output_type": "execute_result"
    }
   ],
   "source": [
    "company_1 = pd.DataFrame({'Employee':['Mike','Paul','Liz'],\n",
    "                     'Job Title': ['Chief Executive','Research Analyst', 'Head of Service']})\n",
    "company_2 = pd.DataFrame({'Employee':['Anne','Kate','Bob'],\n",
    "                     'Job Title': ['Sales Rep','Marketing Director', 'Website Designer']})\n",
    "\n",
    "companies_dict = {'Company 1':company_1,\n",
    "                'Company 2':company_2}\n",
    "\n",
    "for k, v in companies_dict.items():\n",
    "    v['originator'] = k\n",
    "    \n",
    "companies_dict['Company 1']\n",
    "\n",
    "\n"
   ]
  },
  {
   "cell_type": "code",
   "execution_count": 21,
   "metadata": {},
   "outputs": [
    {
     "name": "stdout",
     "output_type": "stream",
     "text": [
      "  child_id  age_first_contact gender\n",
      "0   child1                  6      M\n",
      "1   child2                 10      M\n",
      "2   child3                 12      M\n",
      "3   child4                 13      F\n",
      "  child_id  age_first_contact gender nhs_num\n",
      "0   child1                  6      M    nhs1\n",
      "1   child2                 10      M    nhs2\n",
      "2   child3                 12      M    nhs3\n",
      "3   child4                 13      F    nhs4\n"
     ]
    }
   ],
   "source": [
    "child_identifiers = pd.DataFrame({'child_id': ['child1','child2','child3','child4'],\n",
    "              'age_first_contact':[6, 10, 12, 13],\n",
    "              'gender':['M','M','M','F']})\n",
    "print(child_identifiers)\n",
    "nhs_nums = pd.DataFrame({'child_id': ['child1','child2','child3','child4'],\n",
    "              'nhs_num':['nhs1','nhs2', 'nhs3', 'nhs4']})\n",
    "\n",
    "#print(nhs_nums)\n",
    "ident_nhs = child_identifiers.merge(nhs_nums, how='left', left_on='child_id', right_on='child_id')\n",
    "\n",
    "#ident_nhs = child_identifiers.merge(nhs_nums, how='left',on='child_id')\n",
    "\n",
    "print(ident_nhs)\n",
    "\n",
    "\n"
   ]
  },
  {
   "cell_type": "code",
   "execution_count": 25,
   "metadata": {},
   "outputs": [
    {
     "name": "stdout",
     "output_type": "stream",
     "text": [
      "  child_id  age_first_contact gender nhs_num cp_start_date\n",
      "0   child1                  6      M    nhs1    01/01/2019\n",
      "1   child2                 10      M    nhs2           NaN\n",
      "2   child3                 12      M    nhs3           NaN\n",
      "3   child4                 13      F    nhs4    01/01/2000\n",
      "  child_id  age_first_contact gender nhs_num cp_start_date\n",
      "0   child1                  6      M    nhs1    01/01/2019\n",
      "1   child4                 13      F    nhs4    01/01/2000\n"
     ]
    }
   ],
   "source": [
    "cp_plans = pd.DataFrame({'child_id': ['child1','child4'],\n",
    "              'cp_start_date':['01/01/2019','01/01/2000']\n",
    "             })\n",
    "\n",
    "df_left = ident_nhs.merge(cp_plans, how='left', on='child_id')\n",
    "print(df_left)\n",
    "\n",
    "#df_left['cp_start_date'] = df_left['cp_start_date'].fillna()\n",
    "#df_inner = ident_nhs.merge(cp_plans, how='inner', on='child_id')\n",
    "#print(df_inner)"
   ]
  },
  {
   "cell_type": "code",
   "execution_count": 33,
   "metadata": {},
   "outputs": [
    {
     "data": {
      "text/html": [
       "<div>\n",
       "<style scoped>\n",
       "    .dataframe tbody tr th:only-of-type {\n",
       "        vertical-align: middle;\n",
       "    }\n",
       "\n",
       "    .dataframe tbody tr th {\n",
       "        vertical-align: top;\n",
       "    }\n",
       "\n",
       "    .dataframe thead th {\n",
       "        text-align: right;\n",
       "    }\n",
       "</style>\n",
       "<table border=\"1\" class=\"dataframe\">\n",
       "  <thead>\n",
       "    <tr style=\"text-align: right;\">\n",
       "      <th></th>\n",
       "      <th>name</th>\n",
       "      <th>salary</th>\n",
       "      <th>job title</th>\n",
       "      <th>emp_id</th>\n",
       "    </tr>\n",
       "  </thead>\n",
       "  <tbody>\n",
       "    <tr>\n",
       "      <th>0</th>\n",
       "      <td>mike jones</td>\n",
       "      <td>45000</td>\n",
       "      <td>senior analyst</td>\n",
       "      <td>123456</td>\n",
       "    </tr>\n",
       "    <tr>\n",
       "      <th>1</th>\n",
       "      <td>john smith</td>\n",
       "      <td>60000</td>\n",
       "      <td>research analyst</td>\n",
       "      <td>123457</td>\n",
       "    </tr>\n",
       "    <tr>\n",
       "      <th>2</th>\n",
       "      <td>jim carr</td>\n",
       "      <td>25000</td>\n",
       "      <td>performance analyst</td>\n",
       "      <td>123458</td>\n",
       "    </tr>\n",
       "    <tr>\n",
       "      <th>3</th>\n",
       "      <td>paul carter</td>\n",
       "      <td>37500</td>\n",
       "      <td>GIS Analyst</td>\n",
       "      <td>123459</td>\n",
       "    </tr>\n",
       "  </tbody>\n",
       "</table>\n",
       "</div>"
      ],
      "text/plain": [
       "          name  salary            job title  emp_id\n",
       "0   mike jones   45000       senior analyst  123456\n",
       "1   john smith   60000     research analyst  123457\n",
       "2     jim carr   25000  performance analyst  123458\n",
       "3  paul carter   37500          GIS Analyst  123459"
      ]
     },
     "execution_count": 33,
     "metadata": {},
     "output_type": "execute_result"
    }
   ],
   "source": [
    "employee_dict = pd.DataFrame(\n",
    "        {'name':['mike jones','john smith','jim carr','paul carter'],\n",
    "        'salary':[45000,60000,25000,37500],\n",
    "        'job title':['senior analyst','research analyst','performance analyst','GIS Analyst']})\n",
    "\n",
    "employee_id_dict = pd.DataFrame(\n",
    "        {'name':['mike jones','john smith','jim carr','paul carter'],\n",
    "        'emp_id':[123456,123457,123458,123459]}\n",
    ")\n",
    "\n",
    "emp_table = employee_dict.merge(employee_id_dict, how='left', on='name')\n",
    "emp_table"
   ]
  }
 ],
 "metadata": {
  "kernelspec": {
   "display_name": "Python 3",
   "language": "python",
   "name": "python3"
  },
  "language_info": {
   "codemirror_mode": {
    "name": "ipython",
    "version": 3
   },
   "file_extension": ".py",
   "mimetype": "text/x-python",
   "name": "python",
   "nbconvert_exporter": "python",
   "pygments_lexer": "ipython3",
   "version": "3.10.8"
  }
 },
 "nbformat": 4,
 "nbformat_minor": 2
}

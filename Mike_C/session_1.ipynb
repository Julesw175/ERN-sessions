{
 "cells": [
  {
   "cell_type": "code",
   "execution_count": 1,
   "metadata": {},
   "outputs": [
    {
     "name": "stdout",
     "output_type": "stream",
     "text": [
      "Hello World!\n"
     ]
    }
   ],
   "source": [
    "phrase = \"Hello World!\"\n",
    "print(phrase)"
   ]
  },
  {
   "cell_type": "code",
   "execution_count": 2,
   "metadata": {},
   "outputs": [
    {
     "name": "stdout",
     "output_type": "stream",
     "text": [
      "The area of the circle with radius of 2 is 12.56\n"
     ]
    }
   ],
   "source": [
    "pi = 3.14\n",
    "radius = 2\n",
    "area = pi*(radius**2)\n",
    "print(f\"The area of the circle with radius of {radius} is {area}\")"
   ]
  },
  {
   "cell_type": "code",
   "execution_count": 4,
   "metadata": {},
   "outputs": [
    {
     "name": "stdout",
     "output_type": "stream",
     "text": [
      "here_is_a_file\n"
     ]
    }
   ],
   "source": [
    "filename = 'here_is_a_file.csv'\n",
    "filename = filename[:-4]\n",
    "print(filename)\n"
   ]
  },
  {
   "cell_type": "code",
   "execution_count": 9,
   "metadata": {},
   "outputs": [
    {
     "name": "stdout",
     "output_type": "stream",
     "text": [
      "dog\n",
      "cat\n",
      "racoon\n"
     ]
    }
   ],
   "source": [
    "slice_this_phrase = 'dog cat racoon'\n",
    "print(slice_this_phrase[0:3])\n",
    "print(slice_this_phrase[4:7])\n",
    "print(slice_this_phrase[-6:])"
   ]
  },
  {
   "cell_type": "code",
   "execution_count": 11,
   "metadata": {},
   "outputs": [
    {
     "name": "stdout",
     "output_type": "stream",
     "text": [
      "[1, 2, 3, 4, 5, 2, 12.56]\n"
     ]
    }
   ],
   "source": [
    "list_1 = [1, 2, 3, 4, 5, radius, area]\n",
    "print(list_1)"
   ]
  },
  {
   "cell_type": "code",
   "execution_count": 17,
   "metadata": {},
   "outputs": [
    {
     "name": "stdout",
     "output_type": "stream",
     "text": [
      "My colours are ['red', 'blue', 'green', 'black']\n"
     ]
    }
   ],
   "source": [
    "favourite_colour = 'black'\n",
    "colours_list = ['red', 'blue', 'green']\n",
    "colours_list.append(favourite_colour)\n",
    "print(f\"My colours are {colours_list}\")"
   ]
  },
  {
   "cell_type": "code",
   "execution_count": 1,
   "metadata": {},
   "outputs": [
    {
     "name": "stdout",
     "output_type": "stream",
     "text": [
      "['chicken', 'fish', 'eggs']\n",
      "['chicken', 'fish', 'eggs', 'soup']\n"
     ]
    }
   ],
   "source": [
    "foods_list = ['chicken', 'fish', 'eggs']\n",
    "print(foods_list)\n",
    "foods_list.append('soup')\n",
    "print(foods_list)"
   ]
  },
  {
   "cell_type": "code",
   "execution_count": 2,
   "metadata": {},
   "outputs": [
    {
     "name": "stdout",
     "output_type": "stream",
     "text": [
      "['chicken', 'fish', 'eggs', 'soup', 'pasta', 'rice']\n",
      "['chicken', 'eggs', 'soup', 'pasta', 'rice']\n"
     ]
    }
   ],
   "source": [
    "foods_list_extended = ['pasta', 'rice']\n",
    "foods_list.extend(foods_list_extended)\n",
    "print(foods_list)\n",
    "foods_list.remove('fish')\n",
    "print(foods_list)"
   ]
  },
  {
   "cell_type": "code",
   "execution_count": 4,
   "metadata": {},
   "outputs": [
    {
     "name": "stdout",
     "output_type": "stream",
     "text": [
      "['soup', 'rice', 'pasta', 'eggs', 'chicken']\n"
     ]
    }
   ],
   "source": [
    "foods_list_sorted = sorted(foods_list, reverse=True)\n",
    "print(foods_list_sorted)"
   ]
  },
  {
   "cell_type": "code",
   "execution_count": 5,
   "metadata": {},
   "outputs": [
    {
     "name": "stdout",
     "output_type": "stream",
     "text": [
      "{'Noma': 'Scandi', 'MacDonalds': ['burgers', 'fries'], 'Browns Bar': {'Italian', 'Mexican', 'French'}}\n",
      "Scandi\n",
      "dict_values(['Scandi', ['burgers', 'fries'], {'Italian', 'Mexican', 'French'}])\n",
      "dict_items([('Noma', 'Scandi'), ('MacDonalds', ['burgers', 'fries']), ('Browns Bar', {'Italian', 'Mexican', 'French'})])\n"
     ]
    }
   ],
   "source": [
    "restaurant_dict = {\n",
    "            'Noma':'Scandi',\n",
    "            'MacDonalds':['burgers', 'fries'],\n",
    "            'Brown''s Bar':{'French','Italian','Mexican'}\n",
    "}\n",
    "restaurant_dict[]\n",
    "print(restaurant_dict)\n",
    "print(restaurant_dict['Noma'])\n",
    "print(restaurant_dict.values())\n",
    "print(restaurant_dict.items())\n"
   ]
  },
  {
   "cell_type": "code",
   "execution_count": 1,
   "metadata": {},
   "outputs": [
    {
     "name": "stdout",
     "output_type": "stream",
     "text": [
      "['Manager', 'SQL Dev']\n",
      "Manager\n",
      "SQL Dev\n"
     ]
    }
   ],
   "source": [
    "jobs = {'Al':'SQL Dev',\n",
    "        'Mike':'Manager'}\n",
    "job_titles = list(jobs.values())\n",
    "job_titles_sorted = sorted(job_titles)\n",
    "print(job_titles_sorted)\n",
    "for x in range(len(job_titles_sorted)):\n",
    "    print(job_titles_sorted[x])"
   ]
  },
  {
   "cell_type": "code",
   "execution_count": 7,
   "metadata": {},
   "outputs": [
    {
     "name": "stdout",
     "output_type": "stream",
     "text": [
      "{'Al': 'SQL Dev', 'Bob': 'Programmer', 'Charlie': 'Research Analyst', 'Kate': 'Senior Analyst', 'Mike': 'Data Analyst', 'Sue': 'Project Manager', 'Will': 'IT Trainer'}\n",
      "My name is Al and my position is SQL Dev\n",
      "My name is Bob and my position is Programmer\n",
      "My name is Charlie and my position is Research Analyst\n",
      "My name is Kate and my position is Senior Analyst\n",
      "My name is Mike and my position is Data Analyst\n",
      "My name is Sue and my position is Project Manager\n",
      "My name is Will and my position is IT Trainer\n"
     ]
    }
   ],
   "source": [
    "jobs = {'Al':'SQL Dev',\n",
    "        'Mike':'Data Analyst',\n",
    "        'Bob':'Programmer',\n",
    "        'Sue':'Project Manager',\n",
    "        'Kate':'Senior Analyst',\n",
    "        'Will':'IT Trainer',\n",
    "        'Charlie':'Research Analyst'}\n",
    "jobs_sorted = dict(sorted(jobs.items()))\n",
    "print(jobs_sorted)\n",
    "for key, values in jobs_sorted.items():\n",
    "        print(f\"My name is {key} and my position is {values}\")"
   ]
  },
  {
   "cell_type": "code",
   "execution_count": 2,
   "metadata": {},
   "outputs": [
    {
     "data": {
      "text/html": [
       "<div>\n",
       "<style scoped>\n",
       "    .dataframe tbody tr th:only-of-type {\n",
       "        vertical-align: middle;\n",
       "    }\n",
       "\n",
       "    .dataframe tbody tr th {\n",
       "        vertical-align: top;\n",
       "    }\n",
       "\n",
       "    .dataframe thead th {\n",
       "        text-align: right;\n",
       "    }\n",
       "</style>\n",
       "<table border=\"1\" class=\"dataframe\">\n",
       "  <thead>\n",
       "    <tr style=\"text-align: right;\">\n",
       "      <th></th>\n",
       "      <th>here's a column</th>\n",
       "      <th>column 2</th>\n",
       "      <th>column z</th>\n",
       "    </tr>\n",
       "  </thead>\n",
       "  <tbody>\n",
       "    <tr>\n",
       "      <th>0</th>\n",
       "      <td>val 1</td>\n",
       "      <td>4</td>\n",
       "      <td>foo</td>\n",
       "    </tr>\n",
       "    <tr>\n",
       "      <th>1</th>\n",
       "      <td>val 2</td>\n",
       "      <td>5</td>\n",
       "      <td>bar</td>\n",
       "    </tr>\n",
       "    <tr>\n",
       "      <th>2</th>\n",
       "      <td>val 3</td>\n",
       "      <td>6</td>\n",
       "      <td>baz</td>\n",
       "    </tr>\n",
       "  </tbody>\n",
       "</table>\n",
       "</div>"
      ],
      "text/plain": [
       "  here's a column  column 2 column z\n",
       "0           val 1         4      foo\n",
       "1           val 2         5      bar\n",
       "2           val 3         6      baz"
      ]
     },
     "execution_count": 2,
     "metadata": {},
     "output_type": "execute_result"
    }
   ],
   "source": [
    "import pandas as pd\n",
    "\n",
    "dict_1 = {\"here's a column\":['val 1', 'val 2', 'val 3'],\n",
    "          \"column 2\":[4, 5, 6],\n",
    "          \"column z\": ['foo', 'bar', 'baz']}\n",
    "\n",
    "df_1 = pd.DataFrame(dict_1)\n",
    "df_1\n"
   ]
  },
  {
   "cell_type": "code",
   "execution_count": 3,
   "metadata": {},
   "outputs": [
    {
     "data": {
      "text/html": [
       "<div>\n",
       "<style scoped>\n",
       "    .dataframe tbody tr th:only-of-type {\n",
       "        vertical-align: middle;\n",
       "    }\n",
       "\n",
       "    .dataframe tbody tr th {\n",
       "        vertical-align: top;\n",
       "    }\n",
       "\n",
       "    .dataframe thead th {\n",
       "        text-align: right;\n",
       "    }\n",
       "</style>\n",
       "<table border=\"1\" class=\"dataframe\">\n",
       "  <thead>\n",
       "    <tr style=\"text-align: right;\">\n",
       "      <th></th>\n",
       "      <th>letter</th>\n",
       "      <th>word</th>\n",
       "      <th>number</th>\n",
       "    </tr>\n",
       "  </thead>\n",
       "  <tbody>\n",
       "    <tr>\n",
       "      <th>0</th>\n",
       "      <td>A</td>\n",
       "      <td>foo</td>\n",
       "      <td>1</td>\n",
       "    </tr>\n",
       "    <tr>\n",
       "      <th>1</th>\n",
       "      <td>B</td>\n",
       "      <td>bar</td>\n",
       "      <td>2</td>\n",
       "    </tr>\n",
       "    <tr>\n",
       "      <th>2</th>\n",
       "      <td>C</td>\n",
       "      <td>baz</td>\n",
       "      <td>3</td>\n",
       "    </tr>\n",
       "  </tbody>\n",
       "</table>\n",
       "</div>"
      ],
      "text/plain": [
       "  letter word number\n",
       "0      A  foo      1\n",
       "1      B  bar      2\n",
       "2      C  baz      3"
      ]
     },
     "execution_count": 3,
     "metadata": {},
     "output_type": "execute_result"
    }
   ],
   "source": [
    "list_of_dicts = [{'letter':'A',\n",
    "                  'word':'foo',\n",
    "                  'number':'1'},\n",
    "                  {'letter':'B',\n",
    "                  'word':'bar',\n",
    "                  'number':'2'},\n",
    "                  {'letter':'C',\n",
    "                  'word':'baz',\n",
    "                  'number':'3'}]\n",
    "df_2 = pd.DataFrame(list_of_dicts)\n",
    "df_2\n"
   ]
  },
  {
   "cell_type": "code",
   "execution_count": 5,
   "metadata": {},
   "outputs": [
    {
     "data": {
      "text/html": [
       "<div>\n",
       "<style scoped>\n",
       "    .dataframe tbody tr th:only-of-type {\n",
       "        vertical-align: middle;\n",
       "    }\n",
       "\n",
       "    .dataframe tbody tr th {\n",
       "        vertical-align: top;\n",
       "    }\n",
       "\n",
       "    .dataframe thead th {\n",
       "        text-align: right;\n",
       "    }\n",
       "</style>\n",
       "<table border=\"1\" class=\"dataframe\">\n",
       "  <thead>\n",
       "    <tr style=\"text-align: right;\">\n",
       "      <th></th>\n",
       "      <th>name</th>\n",
       "      <th>salary</th>\n",
       "      <th>job title</th>\n",
       "    </tr>\n",
       "  </thead>\n",
       "  <tbody>\n",
       "    <tr>\n",
       "      <th>0</th>\n",
       "      <td>mike jones</td>\n",
       "      <td>45000</td>\n",
       "      <td>analyst</td>\n",
       "    </tr>\n",
       "    <tr>\n",
       "      <th>1</th>\n",
       "      <td>john smith</td>\n",
       "      <td>60000</td>\n",
       "      <td>senior analyst</td>\n",
       "    </tr>\n",
       "    <tr>\n",
       "      <th>2</th>\n",
       "      <td>jim carr</td>\n",
       "      <td>25000</td>\n",
       "      <td>research analyst</td>\n",
       "    </tr>\n",
       "    <tr>\n",
       "      <th>3</th>\n",
       "      <td>paul carter</td>\n",
       "      <td>37500</td>\n",
       "      <td>performance analyst</td>\n",
       "    </tr>\n",
       "  </tbody>\n",
       "</table>\n",
       "</div>"
      ],
      "text/plain": [
       "          name  salary            job title\n",
       "0   mike jones   45000              analyst\n",
       "1   john smith   60000       senior analyst\n",
       "2     jim carr   25000     research analyst\n",
       "3  paul carter   37500  performance analyst"
      ]
     },
     "execution_count": 5,
     "metadata": {},
     "output_type": "execute_result"
    }
   ],
   "source": [
    "employee_dict = [{'name':'mike jones','salary':45000,'job title':'analyst'},\n",
    "                 {'name':'john smith','salary':60000,'job title':'senior analyst'},\n",
    "                {'name':'jim carr','salary':25000,'job title':'research analyst'},\n",
    "                {'name':'paul carter','salary':37500,'job title':'performance analyst'}]\n",
    "\n",
    "df_emps = pd.DataFrame(employee_dict)\n",
    "df_emps"
   ]
  },
  {
   "cell_type": "code",
   "execution_count": 9,
   "metadata": {},
   "outputs": [
    {
     "name": "stdout",
     "output_type": "stream",
     "text": [
      "         name  salary job title\n",
      "0  mike jones   45000   analyst\n",
      "          name  salary            job title\n",
      "3  paul carter   37500  performance analyst\n"
     ]
    }
   ],
   "source": [
    "#print(df_emps.info())\n",
    "#print(df_emps.dtypes)\n",
    "# print(df_emps.head(1))\n",
    "# print(df_emps.tail(1))\n"
   ]
  },
  {
   "cell_type": "code",
   "execution_count": 12,
   "metadata": {},
   "outputs": [
    {
     "data": {
      "text/plain": [
       "name         object\n",
       "salary        int64\n",
       "job title    object\n",
       "dtype: object"
      ]
     },
     "execution_count": 12,
     "metadata": {},
     "output_type": "execute_result"
    }
   ],
   "source": [
    "df_emps['salary'] = df_emps['salary'].astype(int)\n",
    "df_emps.dtypes\n"
   ]
  },
  {
   "cell_type": "code",
   "execution_count": 39,
   "metadata": {},
   "outputs": [
    {
     "data": {
      "text/html": [
       "<div>\n",
       "<style scoped>\n",
       "    .dataframe tbody tr th:only-of-type {\n",
       "        vertical-align: middle;\n",
       "    }\n",
       "\n",
       "    .dataframe tbody tr th {\n",
       "        vertical-align: top;\n",
       "    }\n",
       "\n",
       "    .dataframe thead th {\n",
       "        text-align: right;\n",
       "    }\n",
       "</style>\n",
       "<table border=\"1\" class=\"dataframe\">\n",
       "  <thead>\n",
       "    <tr style=\"text-align: right;\">\n",
       "      <th></th>\n",
       "      <th>name</th>\n",
       "      <th>salary</th>\n",
       "      <th>job title</th>\n",
       "      <th>date started</th>\n",
       "      <th>pay after bonus</th>\n",
       "      <th>date of birth</th>\n",
       "      <th>time served</th>\n",
       "    </tr>\n",
       "  </thead>\n",
       "  <tbody>\n",
       "    <tr>\n",
       "      <th>0</th>\n",
       "      <td>mike jones</td>\n",
       "      <td>51232.0050</td>\n",
       "      <td>analyst</td>\n",
       "      <td>05/12/1993</td>\n",
       "      <td>51732.0050</td>\n",
       "      <td>1973-06-04</td>\n",
       "      <td>10928 days</td>\n",
       "    </tr>\n",
       "    <tr>\n",
       "      <th>1</th>\n",
       "      <td>john smith</td>\n",
       "      <td>68309.3400</td>\n",
       "      <td>senior analyst</td>\n",
       "      <td>23/06/2022</td>\n",
       "      <td>68809.3400</td>\n",
       "      <td>2022-02-15</td>\n",
       "      <td>501 days</td>\n",
       "    </tr>\n",
       "    <tr>\n",
       "      <th>2</th>\n",
       "      <td>jim carr</td>\n",
       "      <td>28462.2250</td>\n",
       "      <td>research analyst</td>\n",
       "      <td>15/03/1963</td>\n",
       "      <td>28962.2250</td>\n",
       "      <td>1945-07-28</td>\n",
       "      <td>22151 days</td>\n",
       "    </tr>\n",
       "    <tr>\n",
       "      <th>3</th>\n",
       "      <td>paul carter</td>\n",
       "      <td>42693.3375</td>\n",
       "      <td>performance analyst</td>\n",
       "      <td>05/11/2023</td>\n",
       "      <td>43193.3375</td>\n",
       "      <td>1943-08-07</td>\n",
       "      <td>0 days</td>\n",
       "    </tr>\n",
       "  </tbody>\n",
       "</table>\n",
       "</div>"
      ],
      "text/plain": [
       "          name      salary            job title date started  pay after bonus  \\\n",
       "0   mike jones  51232.0050              analyst   05/12/1993       51732.0050   \n",
       "1   john smith  68309.3400       senior analyst   23/06/2022       68809.3400   \n",
       "2     jim carr  28462.2250     research analyst   15/03/1963       28962.2250   \n",
       "3  paul carter  42693.3375  performance analyst   05/11/2023       43193.3375   \n",
       "\n",
       "  date of birth time served  \n",
       "0    1973-06-04  10928 days  \n",
       "1    2022-02-15    501 days  \n",
       "2    1945-07-28  22151 days  \n",
       "3    1943-08-07      0 days  "
      ]
     },
     "execution_count": 39,
     "metadata": {},
     "output_type": "execute_result"
    }
   ],
   "source": [
    "df_emps['date started'] = ['05/12/1993','23/06/2022','15/03/1963','05/11/2023']\n",
    "df_emps"
   ]
  },
  {
   "cell_type": "code",
   "execution_count": 40,
   "metadata": {},
   "outputs": [
    {
     "data": {
      "text/html": [
       "<div>\n",
       "<style scoped>\n",
       "    .dataframe tbody tr th:only-of-type {\n",
       "        vertical-align: middle;\n",
       "    }\n",
       "\n",
       "    .dataframe tbody tr th {\n",
       "        vertical-align: top;\n",
       "    }\n",
       "\n",
       "    .dataframe thead th {\n",
       "        text-align: right;\n",
       "    }\n",
       "</style>\n",
       "<table border=\"1\" class=\"dataframe\">\n",
       "  <thead>\n",
       "    <tr style=\"text-align: right;\">\n",
       "      <th></th>\n",
       "      <th>name</th>\n",
       "      <th>salary</th>\n",
       "      <th>job title</th>\n",
       "      <th>date started</th>\n",
       "      <th>pay after bonus</th>\n",
       "      <th>date of birth</th>\n",
       "      <th>time served</th>\n",
       "    </tr>\n",
       "  </thead>\n",
       "  <tbody>\n",
       "    <tr>\n",
       "      <th>0</th>\n",
       "      <td>mike jones</td>\n",
       "      <td>54664.549335</td>\n",
       "      <td>analyst</td>\n",
       "      <td>05/12/1993</td>\n",
       "      <td>55164.549335</td>\n",
       "      <td>1973-06-04</td>\n",
       "      <td>10928 days</td>\n",
       "    </tr>\n",
       "    <tr>\n",
       "      <th>1</th>\n",
       "      <td>john smith</td>\n",
       "      <td>72886.065780</td>\n",
       "      <td>senior analyst</td>\n",
       "      <td>23/06/2022</td>\n",
       "      <td>73386.065780</td>\n",
       "      <td>2022-02-15</td>\n",
       "      <td>501 days</td>\n",
       "    </tr>\n",
       "    <tr>\n",
       "      <th>2</th>\n",
       "      <td>jim carr</td>\n",
       "      <td>30369.194075</td>\n",
       "      <td>research analyst</td>\n",
       "      <td>15/03/1963</td>\n",
       "      <td>30869.194075</td>\n",
       "      <td>1945-07-28</td>\n",
       "      <td>22151 days</td>\n",
       "    </tr>\n",
       "    <tr>\n",
       "      <th>3</th>\n",
       "      <td>paul carter</td>\n",
       "      <td>45553.791113</td>\n",
       "      <td>performance analyst</td>\n",
       "      <td>05/11/2023</td>\n",
       "      <td>46053.791113</td>\n",
       "      <td>1943-08-07</td>\n",
       "      <td>0 days</td>\n",
       "    </tr>\n",
       "  </tbody>\n",
       "</table>\n",
       "</div>"
      ],
      "text/plain": [
       "          name        salary            job title date started  \\\n",
       "0   mike jones  54664.549335              analyst   05/12/1993   \n",
       "1   john smith  72886.065780       senior analyst   23/06/2022   \n",
       "2     jim carr  30369.194075     research analyst   15/03/1963   \n",
       "3  paul carter  45553.791113  performance analyst   05/11/2023   \n",
       "\n",
       "   pay after bonus date of birth time served  \n",
       "0     55164.549335    1973-06-04  10928 days  \n",
       "1     73386.065780    2022-02-15    501 days  \n",
       "2     30869.194075    1945-07-28  22151 days  \n",
       "3     46053.791113    1943-08-07      0 days  "
      ]
     },
     "execution_count": 40,
     "metadata": {},
     "output_type": "execute_result"
    }
   ],
   "source": [
    "inflation = 1.067\n",
    "df_emps['salary'] = df_emps['salary'] * inflation\n",
    "df_emps\n",
    "df_emps['pay after bonus'] = df_emps['salary'] + 500\n",
    "df_emps"
   ]
  },
  {
   "cell_type": "code",
   "execution_count": 41,
   "metadata": {},
   "outputs": [
    {
     "data": {
      "text/html": [
       "<div>\n",
       "<style scoped>\n",
       "    .dataframe tbody tr th:only-of-type {\n",
       "        vertical-align: middle;\n",
       "    }\n",
       "\n",
       "    .dataframe tbody tr th {\n",
       "        vertical-align: top;\n",
       "    }\n",
       "\n",
       "    .dataframe thead th {\n",
       "        text-align: right;\n",
       "    }\n",
       "</style>\n",
       "<table border=\"1\" class=\"dataframe\">\n",
       "  <thead>\n",
       "    <tr style=\"text-align: right;\">\n",
       "      <th></th>\n",
       "      <th>name</th>\n",
       "      <th>salary</th>\n",
       "      <th>job title</th>\n",
       "      <th>date started</th>\n",
       "      <th>pay after bonus</th>\n",
       "      <th>date of birth</th>\n",
       "      <th>time served</th>\n",
       "    </tr>\n",
       "  </thead>\n",
       "  <tbody>\n",
       "    <tr>\n",
       "      <th>0</th>\n",
       "      <td>mike jones</td>\n",
       "      <td>54664.549335</td>\n",
       "      <td>analyst</td>\n",
       "      <td>1993-12-05</td>\n",
       "      <td>55164.549335</td>\n",
       "      <td>1973-06-04</td>\n",
       "      <td>10928 days</td>\n",
       "    </tr>\n",
       "    <tr>\n",
       "      <th>1</th>\n",
       "      <td>john smith</td>\n",
       "      <td>72886.065780</td>\n",
       "      <td>senior analyst</td>\n",
       "      <td>2022-06-23</td>\n",
       "      <td>73386.065780</td>\n",
       "      <td>2022-02-15</td>\n",
       "      <td>501 days</td>\n",
       "    </tr>\n",
       "    <tr>\n",
       "      <th>2</th>\n",
       "      <td>jim carr</td>\n",
       "      <td>30369.194075</td>\n",
       "      <td>research analyst</td>\n",
       "      <td>1963-03-15</td>\n",
       "      <td>30869.194075</td>\n",
       "      <td>1945-07-28</td>\n",
       "      <td>22151 days</td>\n",
       "    </tr>\n",
       "    <tr>\n",
       "      <th>3</th>\n",
       "      <td>paul carter</td>\n",
       "      <td>45553.791113</td>\n",
       "      <td>performance analyst</td>\n",
       "      <td>2023-11-05</td>\n",
       "      <td>46053.791113</td>\n",
       "      <td>1943-08-07</td>\n",
       "      <td>0 days</td>\n",
       "    </tr>\n",
       "  </tbody>\n",
       "</table>\n",
       "</div>"
      ],
      "text/plain": [
       "          name        salary            job title date started  \\\n",
       "0   mike jones  54664.549335              analyst   1993-12-05   \n",
       "1   john smith  72886.065780       senior analyst   2022-06-23   \n",
       "2     jim carr  30369.194075     research analyst   1963-03-15   \n",
       "3  paul carter  45553.791113  performance analyst   2023-11-05   \n",
       "\n",
       "   pay after bonus date of birth time served  \n",
       "0     55164.549335    1973-06-04  10928 days  \n",
       "1     73386.065780    2022-02-15    501 days  \n",
       "2     30869.194075    1945-07-28  22151 days  \n",
       "3     46053.791113    1943-08-07      0 days  "
      ]
     },
     "execution_count": 41,
     "metadata": {},
     "output_type": "execute_result"
    }
   ],
   "source": [
    "df_emps['date started'] = pd.to_datetime(df_emps['date started'], format ='%d/%m/%Y')\n",
    "df_emps"
   ]
  },
  {
   "cell_type": "code",
   "execution_count": 44,
   "metadata": {},
   "outputs": [
    {
     "data": {
      "text/html": [
       "<div>\n",
       "<style scoped>\n",
       "    .dataframe tbody tr th:only-of-type {\n",
       "        vertical-align: middle;\n",
       "    }\n",
       "\n",
       "    .dataframe tbody tr th {\n",
       "        vertical-align: top;\n",
       "    }\n",
       "\n",
       "    .dataframe thead th {\n",
       "        text-align: right;\n",
       "    }\n",
       "</style>\n",
       "<table border=\"1\" class=\"dataframe\">\n",
       "  <thead>\n",
       "    <tr style=\"text-align: right;\">\n",
       "      <th></th>\n",
       "      <th>name</th>\n",
       "      <th>salary</th>\n",
       "      <th>job title</th>\n",
       "      <th>date started</th>\n",
       "      <th>pay after bonus</th>\n",
       "      <th>date of birth</th>\n",
       "      <th>time served</th>\n",
       "    </tr>\n",
       "  </thead>\n",
       "  <tbody>\n",
       "    <tr>\n",
       "      <th>0</th>\n",
       "      <td>mike jones</td>\n",
       "      <td>54664.549335</td>\n",
       "      <td>analyst</td>\n",
       "      <td>1993-12-05</td>\n",
       "      <td>55164.549335</td>\n",
       "      <td>1973-06-04</td>\n",
       "      <td>30</td>\n",
       "    </tr>\n",
       "    <tr>\n",
       "      <th>1</th>\n",
       "      <td>john smith</td>\n",
       "      <td>72886.065780</td>\n",
       "      <td>senior analyst</td>\n",
       "      <td>2022-06-23</td>\n",
       "      <td>73386.065780</td>\n",
       "      <td>2022-02-15</td>\n",
       "      <td>1</td>\n",
       "    </tr>\n",
       "    <tr>\n",
       "      <th>2</th>\n",
       "      <td>jim carr</td>\n",
       "      <td>30369.194075</td>\n",
       "      <td>research analyst</td>\n",
       "      <td>1963-03-15</td>\n",
       "      <td>30869.194075</td>\n",
       "      <td>1945-07-28</td>\n",
       "      <td>61</td>\n",
       "    </tr>\n",
       "    <tr>\n",
       "      <th>3</th>\n",
       "      <td>paul carter</td>\n",
       "      <td>45553.791113</td>\n",
       "      <td>performance analyst</td>\n",
       "      <td>2023-11-05</td>\n",
       "      <td>46053.791113</td>\n",
       "      <td>1943-08-07</td>\n",
       "      <td>0</td>\n",
       "    </tr>\n",
       "  </tbody>\n",
       "</table>\n",
       "</div>"
      ],
      "text/plain": [
       "          name        salary            job title date started  \\\n",
       "0   mike jones  54664.549335              analyst   1993-12-05   \n",
       "1   john smith  72886.065780       senior analyst   2022-06-23   \n",
       "2     jim carr  30369.194075     research analyst   1963-03-15   \n",
       "3  paul carter  45553.791113  performance analyst   2023-11-05   \n",
       "\n",
       "   pay after bonus date of birth  time served  \n",
       "0     55164.549335    1973-06-04           30  \n",
       "1     73386.065780    2022-02-15            1  \n",
       "2     30869.194075    1945-07-28           61  \n",
       "3     46053.791113    1943-08-07            0  "
      ]
     },
     "execution_count": 44,
     "metadata": {},
     "output_type": "execute_result"
    }
   ],
   "source": [
    "df_emps['date of birth'] = ['04/06/1973','15/02/2022','28/07/1945','07/08/1943']\n",
    "df_emps['date of birth'] = pd.to_datetime(df_emps['date of birth'], format ='%d/%m/%Y')\n",
    "df_emps\n",
    "df_emps['time served'] = pd.to_datetime('06/11/2023', format ='%d/%m/%Y')-df_emps['date started']\n",
    "df_emps['time served'] = df_emps['time served'] / pd.Timedelta('365 days')\n",
    "df_emps['time served'] = df_emps['time served'].round().astype('int', errors='ignore')\n",
    "df_emps"
   ]
  }
 ],
 "metadata": {
  "kernelspec": {
   "display_name": "Python 3",
   "language": "python",
   "name": "python3"
  },
  "language_info": {
   "codemirror_mode": {
    "name": "ipython",
    "version": 3
   },
   "file_extension": ".py",
   "mimetype": "text/x-python",
   "name": "python",
   "nbconvert_exporter": "python",
   "pygments_lexer": "ipython3",
   "version": "3.10.8"
  }
 },
 "nbformat": 4,
 "nbformat_minor": 2
}

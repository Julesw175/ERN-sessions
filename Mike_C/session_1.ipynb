{
 "cells": [
  {
   "cell_type": "code",
   "execution_count": 1,
   "metadata": {},
   "outputs": [
    {
     "name": "stdout",
     "output_type": "stream",
     "text": [
      "Hello World!\n"
     ]
    }
   ],
   "source": [
    "phrase = \"Hello World!\"\n",
    "print(phrase)"
   ]
  },
  {
   "cell_type": "code",
   "execution_count": 2,
   "metadata": {},
   "outputs": [
    {
     "name": "stdout",
     "output_type": "stream",
     "text": [
      "The area of the circle with radius of 2 is 12.56\n"
     ]
    }
   ],
   "source": [
    "pi = 3.14\n",
    "radius = 2\n",
    "area = pi*(radius**2)\n",
    "print(f\"The area of the circle with radius of {radius} is {area}\")"
   ]
  },
  {
   "cell_type": "code",
   "execution_count": 4,
   "metadata": {},
   "outputs": [
    {
     "name": "stdout",
     "output_type": "stream",
     "text": [
      "here_is_a_file\n"
     ]
    }
   ],
   "source": [
    "filename = 'here_is_a_file.csv'\n",
    "filename = filename[:-4]\n",
    "print(filename)\n"
   ]
  },
  {
   "cell_type": "code",
   "execution_count": 9,
   "metadata": {},
   "outputs": [
    {
     "name": "stdout",
     "output_type": "stream",
     "text": [
      "dog\n",
      "cat\n",
      "racoon\n"
     ]
    }
   ],
   "source": [
    "slice_this_phrase = 'dog cat racoon'\n",
    "print(slice_this_phrase[0:3])\n",
    "print(slice_this_phrase[4:7])\n",
    "print(slice_this_phrase[-6:])"
   ]
  },
  {
   "cell_type": "code",
   "execution_count": 11,
   "metadata": {},
   "outputs": [
    {
     "name": "stdout",
     "output_type": "stream",
     "text": [
      "[1, 2, 3, 4, 5, 2, 12.56]\n"
     ]
    }
   ],
   "source": [
    "list_1 = [1, 2, 3, 4, 5, radius, area]\n",
    "print(list_1)"
   ]
  },
  {
   "cell_type": "code",
   "execution_count": 17,
   "metadata": {},
   "outputs": [
    {
     "name": "stdout",
     "output_type": "stream",
     "text": [
      "My colours are ['red', 'blue', 'green', 'black']\n"
     ]
    }
   ],
   "source": [
    "favourite_colour = 'black'\n",
    "colours_list = ['red', 'blue', 'green']\n",
    "colours_list.append(favourite_colour)\n",
    "print(f\"My colours are {colours_list}\")"
   ]
  },
  {
   "cell_type": "code",
   "execution_count": 1,
   "metadata": {},
   "outputs": [
    {
     "name": "stdout",
     "output_type": "stream",
     "text": [
      "['chicken', 'fish', 'eggs']\n",
      "['chicken', 'fish', 'eggs', 'soup']\n"
     ]
    }
   ],
   "source": [
    "foods_list = ['chicken', 'fish', 'eggs']\n",
    "print(foods_list)\n",
    "foods_list.append('soup')\n",
    "print(foods_list)"
   ]
  },
  {
   "cell_type": "code",
   "execution_count": 2,
   "metadata": {},
   "outputs": [
    {
     "name": "stdout",
     "output_type": "stream",
     "text": [
      "['chicken', 'fish', 'eggs', 'soup', 'pasta', 'rice']\n",
      "['chicken', 'eggs', 'soup', 'pasta', 'rice']\n"
     ]
    }
   ],
   "source": [
    "foods_list_extended = ['pasta', 'rice']\n",
    "foods_list.extend(foods_list_extended)\n",
    "print(foods_list)\n",
    "foods_list.remove('fish')\n",
    "print(foods_list)"
   ]
  },
  {
   "cell_type": "code",
   "execution_count": 4,
   "metadata": {},
   "outputs": [
    {
     "name": "stdout",
     "output_type": "stream",
     "text": [
      "['soup', 'rice', 'pasta', 'eggs', 'chicken']\n"
     ]
    }
   ],
   "source": [
    "foods_list_sorted = sorted(foods_list, reverse=True)\n",
    "print(foods_list_sorted)"
   ]
  },
  {
   "cell_type": "code",
   "execution_count": 5,
   "metadata": {},
   "outputs": [
    {
     "name": "stdout",
     "output_type": "stream",
     "text": [
      "{'Noma': 'Scandi', 'MacDonalds': ['burgers', 'fries'], 'Browns Bar': {'Italian', 'Mexican', 'French'}}\n",
      "Scandi\n",
      "dict_values(['Scandi', ['burgers', 'fries'], {'Italian', 'Mexican', 'French'}])\n",
      "dict_items([('Noma', 'Scandi'), ('MacDonalds', ['burgers', 'fries']), ('Browns Bar', {'Italian', 'Mexican', 'French'})])\n"
     ]
    }
   ],
   "source": [
    "restaurant_dict = {\n",
    "            'Noma':'Scandi',\n",
    "            'MacDonalds':['burgers', 'fries'],\n",
    "            'Brown''s Bar':{'French','Italian','Mexican'}\n",
    "}\n",
    "restaurant_dict[]\n",
    "print(restaurant_dict)\n",
    "print(restaurant_dict['Noma'])\n",
    "print(restaurant_dict.values())\n",
    "print(restaurant_dict.items())\n"
   ]
  },
  {
   "cell_type": "code",
   "execution_count": 1,
   "metadata": {},
   "outputs": [
    {
     "name": "stdout",
     "output_type": "stream",
     "text": [
      "['Manager', 'SQL Dev']\n",
      "Manager\n",
      "SQL Dev\n"
     ]
    }
   ],
   "source": [
    "jobs = {'Al':'SQL Dev',\n",
    "        'Mike':'Manager'}\n",
    "job_titles = list(jobs.values())\n",
    "job_titles_sorted = sorted(job_titles)\n",
    "print(job_titles_sorted)\n",
    "for x in range(len(job_titles_sorted)):\n",
    "    print(job_titles_sorted[x])"
   ]
  },
  {
   "cell_type": "code",
   "execution_count": 7,
   "metadata": {},
   "outputs": [
    {
     "name": "stdout",
     "output_type": "stream",
     "text": [
      "{'Al': 'SQL Dev', 'Bob': 'Programmer', 'Charlie': 'Research Analyst', 'Kate': 'Senior Analyst', 'Mike': 'Data Analyst', 'Sue': 'Project Manager', 'Will': 'IT Trainer'}\n",
      "My name is Al and my position is SQL Dev\n",
      "My name is Bob and my position is Programmer\n",
      "My name is Charlie and my position is Research Analyst\n",
      "My name is Kate and my position is Senior Analyst\n",
      "My name is Mike and my position is Data Analyst\n",
      "My name is Sue and my position is Project Manager\n",
      "My name is Will and my position is IT Trainer\n"
     ]
    }
   ],
   "source": [
    "jobs = {'Al':'SQL Dev',\n",
    "        'Mike':'Data Analyst',\n",
    "        'Bob':'Programmer',\n",
    "        'Sue':'Project Manager',\n",
    "        'Kate':'Senior Analyst',\n",
    "        'Will':'IT Trainer',\n",
    "        'Charlie':'Research Analyst'}\n",
    "jobs_sorted = dict(sorted(jobs.items()))\n",
    "print(jobs_sorted)\n",
    "for key, values in jobs_sorted.items():\n",
    "        print(f\"My name is {key} and my position is {values}\")"
   ]
  }
 ],
 "metadata": {
  "kernelspec": {
   "display_name": "Python 3",
   "language": "python",
   "name": "python3"
  },
  "language_info": {
   "codemirror_mode": {
    "name": "ipython",
    "version": 3
   },
   "file_extension": ".py",
   "mimetype": "text/x-python",
   "name": "python",
   "nbconvert_exporter": "python",
   "pygments_lexer": "ipython3",
   "version": "3.10.8"
  }
 },
 "nbformat": 4,
 "nbformat_minor": 2
}

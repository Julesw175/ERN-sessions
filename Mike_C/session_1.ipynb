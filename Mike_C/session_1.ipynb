{
 "cells": [
  {
   "cell_type": "code",
   "execution_count": 1,
   "metadata": {},
   "outputs": [
    {
     "name": "stdout",
     "output_type": "stream",
     "text": [
      "Hello World!\n"
     ]
    }
   ],
   "source": [
    "phrase = \"Hello World!\"\n",
    "print(phrase)"
   ]
  },
  {
   "cell_type": "code",
   "execution_count": 2,
   "metadata": {},
   "outputs": [
    {
     "name": "stdout",
     "output_type": "stream",
     "text": [
      "The area of the circle with radius of 2 is 12.56\n"
     ]
    }
   ],
   "source": [
    "pi = 3.14\n",
    "radius = 2\n",
    "area = pi*(radius**2)\n",
    "print(f\"The area of the circle with radius of {radius} is {area}\")"
   ]
  },
  {
   "cell_type": "code",
   "execution_count": 4,
   "metadata": {},
   "outputs": [
    {
     "name": "stdout",
     "output_type": "stream",
     "text": [
      "here_is_a_file\n"
     ]
    }
   ],
   "source": [
    "filename = 'here_is_a_file.csv'\n",
    "filename = filename[:-4]\n",
    "print(filename)\n"
   ]
  },
  {
   "cell_type": "code",
   "execution_count": 9,
   "metadata": {},
   "outputs": [
    {
     "name": "stdout",
     "output_type": "stream",
     "text": [
      "dog\n",
      "cat\n",
      "racoon\n"
     ]
    }
   ],
   "source": [
    "slice_this_phrase = 'dog cat racoon'\n",
    "print(slice_this_phrase[0:3])\n",
    "print(slice_this_phrase[4:7])\n",
    "print(slice_this_phrase[-6:])"
   ]
  },
  {
   "cell_type": "code",
   "execution_count": 11,
   "metadata": {},
   "outputs": [
    {
     "name": "stdout",
     "output_type": "stream",
     "text": [
      "[1, 2, 3, 4, 5, 2, 12.56]\n"
     ]
    }
   ],
   "source": [
    "list_1 = [1, 2, 3, 4, 5, radius, area]\n",
    "print(list_1)"
   ]
  },
  {
   "cell_type": "code",
   "execution_count": 17,
   "metadata": {},
   "outputs": [
    {
     "name": "stdout",
     "output_type": "stream",
     "text": [
      "My colours are ['red', 'blue', 'green', 'black']\n"
     ]
    }
   ],
   "source": [
    "favourite_colour = 'black'\n",
    "colours_list = ['red', 'blue', 'green']\n",
    "colours_list.append(favourite_colour)\n",
    "print(f\"My colours are {colours_list}\")"
   ]
  }
 ],
 "metadata": {
  "kernelspec": {
   "display_name": "Python 3",
   "language": "python",
   "name": "python3"
  },
  "language_info": {
   "codemirror_mode": {
    "name": "ipython",
    "version": 3
   },
   "file_extension": ".py",
   "mimetype": "text/x-python",
   "name": "python",
   "nbconvert_exporter": "python",
   "pygments_lexer": "ipython3",
   "version": "3.10.8"
  }
 },
 "nbformat": 4,
 "nbformat_minor": 2
}

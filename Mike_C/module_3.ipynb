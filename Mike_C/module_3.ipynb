{
 "cells": [
  {
   "cell_type": "code",
   "execution_count": 1,
   "metadata": {},
   "outputs": [
    {
     "name": "stdout",
     "output_type": "stream",
     "text": [
      "65\n"
     ]
    }
   ],
   "source": [
    "# Functions\n",
    "def sum_function(x, y):\n",
    "    total = x + y\n",
    "    return total\n",
    "\n",
    "answer = sum_function(5, 60)\n",
    "print(answer)\n",
    "\n"
   ]
  },
  {
   "cell_type": "code",
   "execution_count": 2,
   "metadata": {},
   "outputs": [
    {
     "name": "stdout",
     "output_type": "stream",
     "text": [
      "20\n"
     ]
    }
   ],
   "source": [
    "def prod_function(x, y):\n",
    "    total = x * y\n",
    "    return total\n",
    "\n",
    "answer = prod_function(4, 5)\n",
    "print(answer)"
   ]
  },
  {
   "cell_type": "code",
   "execution_count": 3,
   "metadata": {},
   "outputs": [
    {
     "name": "stdout",
     "output_type": "stream",
     "text": [
      "15\n",
      "50\n"
     ]
    }
   ],
   "source": [
    "def sum_prod(x, y):\n",
    "    summation = x + y\n",
    "    product = x * y\n",
    "    return summation, product\n",
    "\n",
    "summation_5_10, product_5_10 = sum_prod(5, 10)\n",
    "print(summation_5_10)\n",
    "print(product_5_10)\n"
   ]
  },
  {
   "cell_type": "code",
   "execution_count": 4,
   "metadata": {},
   "outputs": [
    {
     "name": "stdout",
     "output_type": "stream",
     "text": [
      "15\n",
      "4.0\n"
     ]
    }
   ],
   "source": [
    "def minus_divide_function(x, y):\n",
    "    '''Example of doc string\n",
    "    \n",
    "    Finds the product of two arguments, returns the answer\n",
    "    Args:\n",
    "        x, y: Int or Float, numbers for which the product is found\n",
    "\n",
    "    Returns:\n",
    "        product: Int or Float, the product of x and y.\n",
    "    \n",
    "    '''\n",
    "    minus = x - y\n",
    "    divide = x / y\n",
    "    return minus, divide\n",
    "\n",
    "minus_20_5, divide_20_5 = minus_divide_function(20, 5)\n",
    "print(minus_20_5)\n",
    "print(divide_20_5)"
   ]
  },
  {
   "cell_type": "code",
   "execution_count": null,
   "metadata": {},
   "outputs": [],
   "source": []
  }
 ],
 "metadata": {
  "kernelspec": {
   "display_name": "Python 3",
   "language": "python",
   "name": "python3"
  },
  "language_info": {
   "codemirror_mode": {
    "name": "ipython",
    "version": 3
   },
   "file_extension": ".py",
   "mimetype": "text/x-python",
   "name": "python",
   "nbconvert_exporter": "python",
   "pygments_lexer": "ipython3",
   "version": "3.10.13"
  }
 },
 "nbformat": 4,
 "nbformat_minor": 2
}

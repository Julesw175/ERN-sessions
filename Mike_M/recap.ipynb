{
 "cells": [
  {
   "cell_type": "code",
   "execution_count": 28,
   "metadata": {},
   "outputs": [],
   "source": [
    "import pandas as pd\n",
    "\n",
    "import os\n",
    "\n",
    "df = pd.read_csv(\"https://raw.githubusercontent.com/WillLP-code/stlite-tests/main/benchmarking%20test/data/a1.csv\")"
   ]
  },
  {
   "cell_type": "code",
   "execution_count": 30,
   "metadata": {},
   "outputs": [
    {
     "name": "stdout",
     "output_type": "stream",
     "text": [
      "227460.0\n",
      "5.77\n"
     ]
    },
    {
     "name": "stderr",
     "output_type": "stream",
     "text": [
      "/tmp/ipykernel_5746/1045352860.py:13: SettingWithCopyWarning: \n",
      "A value is trying to be set on a copy of a slice from a DataFrame.\n",
      "Try using .loc[row_indexer,col_indexer] = value instead\n",
      "\n",
      "See the caveats in the documentation: https://pandas.pydata.org/pandas-docs/stable/user_guide/indexing.html#returning-a-view-versus-a-copy\n",
      "  non_suppressed[\"number\"] = non_suppressed[\"number\"].astype('float',errors='ignore')\n",
      "/tmp/ipykernel_5746/1045352860.py:14: SettingWithCopyWarning: \n",
      "A value is trying to be set on a copy of a slice from a DataFrame.\n",
      "Try using .loc[row_indexer,col_indexer] = value instead\n",
      "\n",
      "See the caveats in the documentation: https://pandas.pydata.org/pandas-docs/stable/user_guide/indexing.html#returning-a-view-versus-a-copy\n",
      "  non_suppressed[\"percent\"] = non_suppressed[\"percent\"].astype('float',errors='ignore')\n",
      "/tmp/ipykernel_5746/1045352860.py:15: SettingWithCopyWarning: \n",
      "A value is trying to be set on a copy of a slice from a DataFrame.\n",
      "Try using .loc[row_indexer,col_indexer] = value instead\n",
      "\n",
      "See the caveats in the documentation: https://pandas.pydata.org/pandas-docs/stable/user_guide/indexing.html#returning-a-view-versus-a-copy\n",
      "  non_suppressed[\"rate\"] = non_suppressed[\"rate\"].astype('float',errors='ignore')\n"
     ]
    }
   ],
   "source": [
    "#print(df)\n",
    "#filternum = df['number'].str.contains(\"z|c|z\")\n",
    "#filterrate = df['rate'].str.contains(\"z|c|z\")\n",
    "#filterpercent = df['percent'].str.contains(\"z|c|z\")\n",
    "#filtered_df = df[~filternum]\n",
    "#print(filtered_df)\n",
    "\n",
    "query = (~df[\"number\"].isin([\"z\",\"c\",\"x\"])) &(~df[\"rate\"].isin([\"z\",\"c\",\"x\"])) &(~df[\"percent\"].isin([\"z\",\"c\",\"x\"])) \n",
    "\n",
    "non_suppressed = df[query]\n",
    "\n",
    "\n",
    "non_suppressed[\"number\"] = non_suppressed[\"number\"].astype('float',errors='ignore')\n",
    "non_suppressed[\"percent\"] = non_suppressed[\"percent\"].astype('float',errors='ignore')\n",
    "non_suppressed[\"rate\"] = non_suppressed[\"rate\"].astype('float',errors='ignore')\n",
    "sum_num = (non_suppressed[\"number\"].sum())\n",
    "mean_percent = (non_suppressed[\"percent\"].mean())\n",
    "print(sum_num)\n",
    "print(mean_percent)\n",
    "\n",
    "\n",
    "\n"
   ]
  },
  {
   "cell_type": "code",
   "execution_count": 44,
   "metadata": {},
   "outputs": [
    {
     "name": "stdout",
     "output_type": "stream",
     "text": [
      "[1, 2, 4, 7, 14, 28, 56, 89, 99]\n",
      "1 is under fifty\n",
      "2 is under fifty\n",
      "4 is under fifty\n",
      "7 is under fifty\n",
      "14 is under fifty\n",
      "28 is under fifty\n",
      "56 is fifty or more\n",
      "89 is fifty or more\n",
      "99 is fifty or more\n"
     ]
    }
   ],
   "source": [
    "list_1 = [1,2,4,7,14,28,56,89,99]\n",
    "\n",
    "print(list_1)\n",
    "\n",
    "def fifty_identifier(number):\n",
    "    if number >= 50:\n",
    "        return \"fifty or more\"\n",
    "    else:\n",
    "        return \"under fifty\"\n",
    "    \n",
    "\n",
    "\n",
    "fifty_valid=[]\n",
    "for i in list_1:\n",
    "    print(f'{i} is {fifty_identifier(i)}')\n",
    "    "
   ]
  }
 ],
 "metadata": {
  "kernelspec": {
   "display_name": "Python 3",
   "language": "python",
   "name": "python3"
  },
  "language_info": {
   "codemirror_mode": {
    "name": "ipython",
    "version": 3
   },
   "file_extension": ".py",
   "mimetype": "text/x-python",
   "name": "python",
   "nbconvert_exporter": "python",
   "pygments_lexer": "ipython3",
   "version": "3.10.8"
  }
 },
 "nbformat": 4,
 "nbformat_minor": 2
}

{
 "cells": [
  {
   "cell_type": "code",
   "execution_count": 92,
   "metadata": {},
   "outputs": [
    {
     "name": "stdout",
     "output_type": "stream",
     "text": [
      "watch out!\n"
     ]
    }
   ],
   "source": [
    "phrase = \"watch out!\" # string\n",
    "print(phrase)"
   ]
  },
  {
   "cell_type": "code",
   "execution_count": 93,
   "metadata": {},
   "outputs": [
    {
     "name": "stdout",
     "output_type": "stream",
     "text": [
      "<class 'float'>\n"
     ]
    }
   ],
   "source": [
    "X = 5 # integer\n",
    "Y = 10 # integer\n",
    "Z = X + Y # plus\n",
    "\n",
    "Z = Y / X # divide\n",
    "\n",
    "J = type(Z)\n",
    "print (J)"
   ]
  },
  {
   "cell_type": "code",
   "execution_count": 94,
   "metadata": {},
   "outputs": [
    {
     "name": "stdout",
     "output_type": "stream",
     "text": [
      "28\n"
     ]
    }
   ],
   "source": [
    "V1 = 7 # integer\n",
    "V2 = 4 # integer\n",
    "V3 = V1*V2\n",
    "print(V3)\n"
   ]
  },
  {
   "cell_type": "code",
   "execution_count": 95,
   "metadata": {},
   "outputs": [
    {
     "name": "stdout",
     "output_type": "stream",
     "text": [
      "12.56\n"
     ]
    }
   ],
   "source": [
    "R = 2 # integer\n",
    "Pi = 3.14\n",
    "A = Pi * (R**2) # squaring\n",
    "print(A)"
   ]
  },
  {
   "cell_type": "code",
   "execution_count": 96,
   "metadata": {},
   "outputs": [
    {
     "name": "stdout",
     "output_type": "stream",
     "text": [
      "Michael sleep 28\n"
     ]
    }
   ],
   "source": [
    "name = \"Michael\"\n",
    "hobby = \"sleep\"\n",
    "long_string = name +\" \"+ hobby + \" \" + str(V3)\n",
    "print (long_string)"
   ]
  },
  {
   "cell_type": "code",
   "execution_count": 97,
   "metadata": {},
   "outputs": [
    {
     "name": "stdout",
     "output_type": "stream",
     "text": [
      "my name is Michael and my job is Regional Manager\n"
     ]
    }
   ],
   "source": [
    "JT = \"Regional Manager\"\n",
    "Phrase = f\"my name is {name} and my job is {JT}\"\n",
    "print (Phrase)"
   ]
  },
  {
   "cell_type": "code",
   "execution_count": 99,
   "metadata": {},
   "outputs": [
    {
     "name": "stdout",
     "output_type": "stream",
     "text": [
      "49\n",
      "name is Michael\n",
      "here_is_a_file\n"
     ]
    }
   ],
   "source": [
    "print(len(Phrase))\n",
    "\n",
    "string_slice = Phrase[3:18]\n",
    "print(string_slice)\n",
    "\n",
    "filename = 'here_is_a_file.csv'\n",
    "filename = filename[:-4]\n",
    "print(filename)"
   ]
  },
  {
   "cell_type": "code",
   "execution_count": 105,
   "metadata": {},
   "outputs": [
    {
     "name": "stdout",
     "output_type": "stream",
     "text": [
      "dog\n",
      "cat\n",
      "racoon\n"
     ]
    }
   ],
   "source": [
    "slice_this_phrase = 'dog cat racoon'\n",
    "print(slice_this_phrase[:3])\n",
    "print(slice_this_phrase[4:7])\n",
    "print(slice_this_phrase[-6:])"
   ]
  },
  {
   "cell_type": "code",
   "execution_count": 108,
   "metadata": {},
   "outputs": [
    {
     "name": "stdout",
     "output_type": "stream",
     "text": [
      "<class 'list'>\n",
      "[1, 2, 7, 5, 4, 10, 28]\n"
     ]
    }
   ],
   "source": [
    "list_1 = [1,2,V1,X,V2,Y,V3]\n",
    "print(type(list_1))\n",
    "print(list_1)"
   ]
  },
  {
   "cell_type": "code",
   "execution_count": 115,
   "metadata": {},
   "outputs": [
    {
     "name": "stdout",
     "output_type": "stream",
     "text": [
      "My colours are :['black', 'blue', 'salmon', 'red', 'red']\n"
     ]
    }
   ],
   "source": [
    "favourite_colour = \"red\"\n",
    "colours_list = [\"black\",\"blue\",\"salmon\",favourite_colour]\n",
    "colours_list.append(favourite_colour)\n",
    "\n",
    "print (f\"My colours are :{colours_list}\")"
   ]
  }
 ],
 "metadata": {
  "kernelspec": {
   "display_name": "Python 3",
   "language": "python",
   "name": "python3"
  },
  "language_info": {
   "codemirror_mode": {
    "name": "ipython",
    "version": 3
   },
   "file_extension": ".py",
   "mimetype": "text/x-python",
   "name": "python",
   "nbconvert_exporter": "python",
   "pygments_lexer": "ipython3",
   "version": "3.10.8"
  }
 },
 "nbformat": 4,
 "nbformat_minor": 2
}

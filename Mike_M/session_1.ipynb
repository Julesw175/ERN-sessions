{
 "cells": [
  {
   "cell_type": "code",
   "execution_count": 350,
   "metadata": {},
   "outputs": [
    {
     "name": "stdout",
     "output_type": "stream",
     "text": [
      "watch out!\n"
     ]
    }
   ],
   "source": [
    "phrase = \"watch out!\" # string\n",
    "print(phrase)"
   ]
  },
  {
   "cell_type": "code",
   "execution_count": 351,
   "metadata": {},
   "outputs": [
    {
     "name": "stdout",
     "output_type": "stream",
     "text": [
      "<class 'float'>\n"
     ]
    }
   ],
   "source": [
    "X = 5 # integer\n",
    "Y = 10 # integer\n",
    "Z = X + Y # plus\n",
    "\n",
    "Z = Y / X # divide\n",
    "\n",
    "J = type(Z)\n",
    "print (J)"
   ]
  },
  {
   "cell_type": "code",
   "execution_count": 352,
   "metadata": {},
   "outputs": [
    {
     "name": "stdout",
     "output_type": "stream",
     "text": [
      "28\n"
     ]
    }
   ],
   "source": [
    "V1 = 7 # integer\n",
    "V2 = 4 # integer\n",
    "V3 = V1*V2\n",
    "print(V3)\n"
   ]
  },
  {
   "cell_type": "code",
   "execution_count": 353,
   "metadata": {},
   "outputs": [
    {
     "name": "stdout",
     "output_type": "stream",
     "text": [
      "12.56\n"
     ]
    }
   ],
   "source": [
    "R = 2 # integer\n",
    "Pi = 3.14\n",
    "A = Pi * (R**2) # squaring\n",
    "print(A)"
   ]
  },
  {
   "cell_type": "code",
   "execution_count": 354,
   "metadata": {},
   "outputs": [
    {
     "name": "stdout",
     "output_type": "stream",
     "text": [
      "Michael sleep 28\n"
     ]
    }
   ],
   "source": [
    "name = \"Michael\"\n",
    "hobby = \"sleep\"\n",
    "long_string = name +\" \"+ hobby + \" \" + str(V3)\n",
    "print (long_string)"
   ]
  },
  {
   "cell_type": "code",
   "execution_count": 355,
   "metadata": {},
   "outputs": [
    {
     "name": "stdout",
     "output_type": "stream",
     "text": [
      "my name is Michael and my job is Regional Manager\n"
     ]
    }
   ],
   "source": [
    "JT = \"Regional Manager\"\n",
    "Phrase = f\"my name is {name} and my job is {JT}\"\n",
    "print (Phrase)"
   ]
  },
  {
   "cell_type": "code",
   "execution_count": 356,
   "metadata": {},
   "outputs": [
    {
     "name": "stdout",
     "output_type": "stream",
     "text": [
      "49\n",
      "name is Michael\n",
      "here_is_a_file\n"
     ]
    }
   ],
   "source": [
    "print(len(Phrase))\n",
    "\n",
    "string_slice = Phrase[3:18]\n",
    "print(string_slice)\n",
    "\n",
    "filename = 'here_is_a_file.csv'\n",
    "filename = filename[:-4]\n",
    "print(filename)"
   ]
  },
  {
   "cell_type": "code",
   "execution_count": 357,
   "metadata": {},
   "outputs": [
    {
     "name": "stdout",
     "output_type": "stream",
     "text": [
      "dog\n",
      "cat\n",
      "racoon\n"
     ]
    }
   ],
   "source": [
    "slice_this_phrase = 'dog cat racoon'\n",
    "print(slice_this_phrase[:3])\n",
    "print(slice_this_phrase[4:7])\n",
    "print(slice_this_phrase[-6:])"
   ]
  },
  {
   "cell_type": "code",
   "execution_count": 358,
   "metadata": {},
   "outputs": [
    {
     "name": "stdout",
     "output_type": "stream",
     "text": [
      "<class 'list'>\n",
      "[1, 2, 7, 5, 4, 10, 28]\n"
     ]
    }
   ],
   "source": [
    "list_1 = [1,2,V1,X,V2,Y,V3]\n",
    "print(type(list_1))\n",
    "print(list_1)"
   ]
  },
  {
   "cell_type": "code",
   "execution_count": 359,
   "metadata": {},
   "outputs": [
    {
     "name": "stdout",
     "output_type": "stream",
     "text": [
      "My colours are :['black', 'blue', 'salmon', 'red', 'red']\n"
     ]
    }
   ],
   "source": [
    "favourite_colour = \"red\"\n",
    "colours_list = [\"black\",\"blue\",\"salmon\",favourite_colour]\n",
    "colours_list.append(favourite_colour)\n",
    "\n",
    "print (f\"My colours are :{colours_list}\")"
   ]
  },
  {
   "cell_type": "code",
   "execution_count": 360,
   "metadata": {},
   "outputs": [
    {
     "name": "stdout",
     "output_type": "stream",
     "text": [
      "['hotdogs', 'rustlers', 'aspic', 'reformed ham', 'cold omelette', 'eggs']\n"
     ]
    }
   ],
   "source": [
    "foodlist = [\"hotdogs\",\"rustlers\",\"aspic\",\"reformed ham\",\"cold omelette\"]\n",
    "\n",
    "foodlist.append (\"eggs\")\n",
    "\n",
    "print(foodlist)"
   ]
  },
  {
   "cell_type": "code",
   "execution_count": 361,
   "metadata": {},
   "outputs": [
    {
     "name": "stdout",
     "output_type": "stream",
     "text": [
      "['hotdogs', 'aspic', 'reformed ham', 'cold omelette', 'eggs', 'fish bones', 'hair']\n"
     ]
    }
   ],
   "source": [
    "morefood = [\"fish bones\",\"hair\"]\n",
    "foodlist.extend(morefood)\n",
    "foodlist.remove(\"rustlers\")\n",
    "\n",
    "print (foodlist)\n"
   ]
  },
  {
   "cell_type": "code",
   "execution_count": 362,
   "metadata": {},
   "outputs": [
    {
     "name": "stdout",
     "output_type": "stream",
     "text": [
      "[1, 2, 4, 7, 14, 28]\n",
      "[28, 14, 7, 4, 2, 1]\n",
      "[1, 2, 4, 7, 14, 28]\n",
      "['hotdogs', 'aspic', 'reformed ham', 'cold omelette', 'eggs', 'fish bones', 'hair']\n",
      "['aspic', 'cold omelette', 'eggs', 'fish bones', 'hair', 'hotdogs', 'reformed ham']\n",
      "['reformed ham', 'hotdogs', 'hair', 'fish bones', 'eggs', 'cold omelette', 'aspic']\n",
      "['reformed ham', 'hotdogs', 'hair', 'fish bones', 'eggs', 'cold omelette', 'aspic']\n"
     ]
    }
   ],
   "source": [
    "numbers_list = [1,28,14,7,4,2]\n",
    "numbers_list.sort()\n",
    "print(numbers_list)\n",
    "numbers_list.sort(reverse=True)\n",
    "print(numbers_list)\n",
    "\n",
    "sorted_numbers = sorted(numbers_list)\n",
    "print(sorted_numbers)\n",
    "\n",
    "foodlist_sorted = sorted(foodlist)\n",
    "print(foodlist)\n",
    "print(foodlist_sorted)\n",
    "\n",
    "foodlist_reversesorted = sorted(foodlist, reverse=True)\n",
    "print(foodlist_reversesorted)\n",
    "foodlist_sorted.reverse()\n",
    "print(foodlist_sorted)"
   ]
  },
  {
   "cell_type": "code",
   "execution_count": 363,
   "metadata": {},
   "outputs": [
    {
     "name": "stdout",
     "output_type": "stream",
     "text": [
      "{'Dirties': 'Mexican', 'Subway': ['Sandwiches', 'Cookies'], 'McDonalds': 'Burgers', 'Wetherspoons': {'Monday': 'Cheap drinks', 'Thursday': 'Curry Club'}}\n",
      "{'Monday': 'Cheap drinks', 'Thursday': 'Curry Club'}\n",
      "dict_keys(['Dirties', 'Subway', 'McDonalds', 'Wetherspoons'])\n",
      "dict_values(['Mexican', ['Sandwiches', 'Cookies'], 'Burgers', {'Monday': 'Cheap drinks', 'Thursday': 'Curry Club'}])\n",
      "dict_items([('Dirties', 'Mexican'), ('Subway', ['Sandwiches', 'Cookies']), ('McDonalds', 'Burgers'), ('Wetherspoons', {'Monday': 'Cheap drinks', 'Thursday': 'Curry Club'})])\n"
     ]
    }
   ],
   "source": [
    "restaurants_dict = {\"Dirties\":\"Mexican\",\n",
    "                          \"Subway\":[\"Sandwiches\",\"Cookies\"],\n",
    "                          \"McDonalds\":\"Burgers\",\n",
    "                          \"Wetherspoons\":{\"Monday\":\"Cheap drinks\",\n",
    "                                    \"Thursday\":\"Curry Club\"}}\n",
    "\n",
    "print(restaurants_dict)\n",
    "print(restaurants_dict[\"Wetherspoons\"])\n",
    "print(restaurants_dict.keys())\n",
    "print(restaurants_dict.values())\n",
    "print(restaurants_dict.items())"
   ]
  },
  {
   "cell_type": "code",
   "execution_count": 364,
   "metadata": {},
   "outputs": [
    {
     "name": "stdout",
     "output_type": "stream",
     "text": [
      "{'Dirties': 'Mexican', 'Subway': 'Subs', 'McDonalds': 'Burgers', 'Yo!Sushi': 'Sushi', 'Wetherspoons': {'Monday': 'Cheap drinks', 'Thursday': 'Curry Club'}, 'KFC': 'Chicken'}\n",
      "False\n",
      "False\n",
      "False\n"
     ]
    }
   ],
   "source": [
    "restaurants_dict2 = {\"Dirties\":\"Mexican\",\n",
    "                          \"Subway\":[\"Sandwiches\",\"Cookies\"],\n",
    "                          \"McDonalds\":\"Burgers\",\n",
    "                          \"Yo!Sushi\":\"Sushi\",\n",
    "                          \"Wetherspoons\":{\"Monday\":\"Cheap drinks\",\n",
    "                                    \"Thursday\":\"Curry Club\"}}\n",
    "\n",
    "restaurants_dict2[\"KFC\"] = \"Chicken\"\n",
    "restaurants_dict2[\"Subway\"] = \"Subs\"\n",
    "print(restaurants_dict2)\n",
    "\n",
    "print(\"Burger King\" in restaurants_dict2.values())\n",
    "print(\"Curry Club\" in restaurants_dict2)\n",
    "print(\"Curry Club\" in restaurants_dict2.values())"
   ]
  },
  {
   "cell_type": "code",
   "execution_count": 365,
   "metadata": {},
   "outputs": [
    {
     "name": "stdout",
     "output_type": "stream",
     "text": [
      "test\n"
     ]
    }
   ],
   "source": [
    "Group_0_dict = {\"Michael\": \"Regional Manager\",\n",
    "                \"Nazahah\": \"Performance Analyst\"}\n",
    "\n",
    "x = list(Group_0_dict.keys())\n",
    "\n",
    "print(\"test\")\n",
    "\n",
    "#print(Group_0_dict)\n",
    "\n",
    "#for x in Group_0_dict:\n",
    " #print(x)\n",
    "#for x, y in Group_0_dict.items():\n",
    "  #print(x, y)\n",
    "\n",
    "\n",
    "#print = f\"my name is {x} and my job is {y}\"\n",
    "\n"
   ]
  },
  {
   "cell_type": "code",
   "execution_count": 366,
   "metadata": {},
   "outputs": [
    {
     "name": "stdout",
     "output_type": "stream",
     "text": [
      "{'test': 'test2'}\n"
     ]
    }
   ],
   "source": [
    "job_dict= {'test':'test2'}\n",
    "\n",
    "print(job_dict)\n",
    "\n"
   ]
  },
  {
   "cell_type": "code",
   "execution_count": 367,
   "metadata": {},
   "outputs": [
    {
     "name": "stdout",
     "output_type": "stream",
     "text": [
      "('x + y', 12)\n",
      "('x * y', 35)\n",
      "('x^2', (49,))\n",
      "('y^2', (25,))\n",
      "('x^y', 16807)\n"
     ]
    }
   ],
   "source": [
    "#HOMEWORK\n",
    "homework_dict = {}\n",
    "\n",
    "x = 7\n",
    "y = 5\n",
    "\n",
    "eckspluswhy = x+y\n",
    "eckstimeswhy = x*y\n",
    "eckssquared = x**2\n",
    "whysquared = y**2\n",
    "eckstothepowerwhy = x**y\n",
    "\n",
    "homework_dict[\"x + y\"] = eckspluswhy\n",
    "homework_dict[\"x * y\"] = eckstimeswhy\n",
    "homework_dict[\"x^2\"] = eckssquared,\n",
    "homework_dict[\"y^2\"] = whysquared,\n",
    "homework_dict[\"x^y\"]= eckstothepowerwhy\n",
    "\n",
    "for homeworklist in homework_dict.items():\n",
    "  print(homeworklist)"
   ]
  },
  {
   "cell_type": "code",
   "execution_count": 368,
   "metadata": {},
   "outputs": [
    {
     "name": "stdout",
     "output_type": "stream",
     "text": [
      "XXXXXXXXXXXX4444\n"
     ]
    }
   ],
   "source": [
    "#HOMEWORK2\n",
    "\n",
    "cc = \"4444444444444444\"\n",
    "cclast4 = cc[-4:]\n",
    "ccfirst12 = cc[:-4]\n",
    "ccfirst12redacted = ccfirst12.replace(\"4\",\"X\")\n",
    "ccredacted = ccfirst12redacted + cclast4\n",
    "\n",
    "print(ccredacted)"
   ]
  },
  {
   "cell_type": "code",
   "execution_count": 369,
   "metadata": {},
   "outputs": [
    {
     "data": {
      "text/html": [
       "<div>\n",
       "<style scoped>\n",
       "    .dataframe tbody tr th:only-of-type {\n",
       "        vertical-align: middle;\n",
       "    }\n",
       "\n",
       "    .dataframe tbody tr th {\n",
       "        vertical-align: top;\n",
       "    }\n",
       "\n",
       "    .dataframe thead th {\n",
       "        text-align: right;\n",
       "    }\n",
       "</style>\n",
       "<table border=\"1\" class=\"dataframe\">\n",
       "  <thead>\n",
       "    <tr style=\"text-align: right;\">\n",
       "      <th></th>\n",
       "      <th>Here's a column</th>\n",
       "      <th>col 2</th>\n",
       "      <th>col z</th>\n",
       "    </tr>\n",
       "  </thead>\n",
       "  <tbody>\n",
       "    <tr>\n",
       "      <th>0</th>\n",
       "      <td>val 1</td>\n",
       "      <td>4</td>\n",
       "      <td>foo</td>\n",
       "    </tr>\n",
       "    <tr>\n",
       "      <th>1</th>\n",
       "      <td>val 2</td>\n",
       "      <td>5</td>\n",
       "      <td>bar</td>\n",
       "    </tr>\n",
       "    <tr>\n",
       "      <th>2</th>\n",
       "      <td>val 3</td>\n",
       "      <td>6</td>\n",
       "      <td>baz</td>\n",
       "    </tr>\n",
       "  </tbody>\n",
       "</table>\n",
       "</div>"
      ],
      "text/plain": [
       "  Here's a column  col 2 col z\n",
       "0           val 1      4   foo\n",
       "1           val 2      5   bar\n",
       "2           val 3      6   baz"
      ]
     },
     "execution_count": 369,
     "metadata": {},
     "output_type": "execute_result"
    }
   ],
   "source": [
    "import pandas as pd\n",
    "\n",
    "dict_1 = {\"Here's a column\":[\"val 1\",\"val 2\",\"val 3\"],\n",
    "          \"col 2\":[4,5,6],\n",
    "          \"col z\":[\"foo\",\"bar\",\"baz\"]}\n",
    "\n",
    "df_1 = pd.DataFrame(dict_1)\n",
    "df_1\n"
   ]
  },
  {
   "cell_type": "code",
   "execution_count": 370,
   "metadata": {},
   "outputs": [
    {
     "data": {
      "text/html": [
       "<div>\n",
       "<style scoped>\n",
       "    .dataframe tbody tr th:only-of-type {\n",
       "        vertical-align: middle;\n",
       "    }\n",
       "\n",
       "    .dataframe tbody tr th {\n",
       "        vertical-align: top;\n",
       "    }\n",
       "\n",
       "    .dataframe thead th {\n",
       "        text-align: right;\n",
       "    }\n",
       "</style>\n",
       "<table border=\"1\" class=\"dataframe\">\n",
       "  <thead>\n",
       "    <tr style=\"text-align: right;\">\n",
       "      <th></th>\n",
       "      <th>letter</th>\n",
       "      <th>word</th>\n",
       "      <th>number</th>\n",
       "    </tr>\n",
       "  </thead>\n",
       "  <tbody>\n",
       "    <tr>\n",
       "      <th>0</th>\n",
       "      <td>a</td>\n",
       "      <td>foo</td>\n",
       "      <td>1</td>\n",
       "    </tr>\n",
       "    <tr>\n",
       "      <th>1</th>\n",
       "      <td>b</td>\n",
       "      <td>bar</td>\n",
       "      <td>2</td>\n",
       "    </tr>\n",
       "    <tr>\n",
       "      <th>2</th>\n",
       "      <td>c</td>\n",
       "      <td>baz</td>\n",
       "      <td>3</td>\n",
       "    </tr>\n",
       "  </tbody>\n",
       "</table>\n",
       "</div>"
      ],
      "text/plain": [
       "  letter word  number\n",
       "0      a  foo       1\n",
       "1      b  bar       2\n",
       "2      c  baz       3"
      ]
     },
     "execution_count": 370,
     "metadata": {},
     "output_type": "execute_result"
    }
   ],
   "source": [
    "list_of_dicts = [{\"letter\":\"a\",\n",
    "                  \"word\":\"foo\",\n",
    "                  \"number\":1},\n",
    "                  {\"letter\":\"b\",\n",
    "                  \"word\":\"bar\",\n",
    "                  \"number\":2},\n",
    "                  {\"letter\":\"c\",\n",
    "                  \"word\":\"baz\",\n",
    "                  \"number\":3}]\n",
    "df_2 = pd.DataFrame(list_of_dicts)\n",
    "df_2"
   ]
  },
  {
   "cell_type": "code",
   "execution_count": 371,
   "metadata": {},
   "outputs": [
    {
     "name": "stdout",
     "output_type": "stream",
     "text": [
      "             Name  Salary JobTitle\n",
      "0      Jack Smith    1000      CEO\n",
      "1     Brad Peters     700      CFO\n",
      "2     Emma Rogers     600      CTO\n",
      "3     Luke Martin     500      COO\n",
      "4  Sophie Freeman     800      CMO\n"
     ]
    }
   ],
   "source": [
    "import pandas as pd\n",
    "list_of_employees = [{\"Name\":\"Jack Smith\",\n",
    "                  \"Salary\":1000,\n",
    "                  \"JobTitle\":\"CEO\"},\n",
    "                  {\"Name\":\"Brad Peters\",\n",
    "                  \"Salary\":700,\n",
    "                  \"JobTitle\":\"CFO\"},\n",
    "                  {\"Name\":\"Emma Rogers\",\n",
    "                  \"Salary\":600,\n",
    "                  \"JobTitle\":\"CTO\"},\n",
    "                  {\"Name\":\"Luke Martin\",\n",
    "                  \"Salary\":500,\n",
    "                  \"JobTitle\":\"COO\"},\n",
    "                   {\"Name\":\"Sophie Freeman\",\n",
    "                  \"Salary\":800,\n",
    "                  \"JobTitle\":\"CMO\"}]\n",
    "df_2 = pd.DataFrame(list_of_employees)\n",
    "print(df_2)"
   ]
  },
  {
   "cell_type": "code",
   "execution_count": 372,
   "metadata": {},
   "outputs": [
    {
     "name": "stdout",
     "output_type": "stream",
     "text": [
      "Name        object\n",
      "Salary       int64\n",
      "JobTitle    object\n",
      "dtype: object\n",
      "         Name  Salary JobTitle\n",
      "0  Jack Smith    1000      CEO\n",
      "             Name  Salary JobTitle\n",
      "3     Luke Martin     500      COO\n",
      "4  Sophie Freeman     800      CMO\n"
     ]
    }
   ],
   "source": [
    "#print(df_2.info()) # prints info about all fields\n",
    "print(df_2.dtypes) # Prints data types\n",
    "print(df_2.head(1)) # prints up to 50 of the first rows\n",
    "print(df_2.tail(2)) # prints the last rows"
   ]
  },
  {
   "cell_type": "code",
   "execution_count": 373,
   "metadata": {},
   "outputs": [
    {
     "data": {
      "text/plain": [
       "Name        object\n",
       "Salary       int64\n",
       "JobTitle    object\n",
       "dtype: object"
      ]
     },
     "execution_count": 373,
     "metadata": {},
     "output_type": "execute_result"
    }
   ],
   "source": [
    "df_2[\"Salary\"] = df_2[\"Salary\"].astype(\"int\")\n",
    "df_2.dtypes"
   ]
  },
  {
   "cell_type": "code",
   "execution_count": 374,
   "metadata": {},
   "outputs": [
    {
     "name": "stdout",
     "output_type": "stream",
     "text": [
      "720.0\n",
      "Salary minimum:500,Salary maximum:1000\n"
     ]
    }
   ],
   "source": [
    "salary_tot = (df_2[\"Salary\"].sum())\n",
    "salary_mean = (df_2[\"Salary\"].mean())\n",
    "print(salary_mean)\n",
    "sal_min_max = f\"Salary minimum:{df_2['Salary'].min()},Salary maximum:{df_2['Salary'].max()}\"\n",
    "print(sal_min_max)"
   ]
  },
  {
   "cell_type": "code",
   "execution_count": 375,
   "metadata": {},
   "outputs": [
    {
     "data": {
      "text/html": [
       "<div>\n",
       "<style scoped>\n",
       "    .dataframe tbody tr th:only-of-type {\n",
       "        vertical-align: middle;\n",
       "    }\n",
       "\n",
       "    .dataframe tbody tr th {\n",
       "        vertical-align: top;\n",
       "    }\n",
       "\n",
       "    .dataframe thead th {\n",
       "        text-align: right;\n",
       "    }\n",
       "</style>\n",
       "<table border=\"1\" class=\"dataframe\">\n",
       "  <thead>\n",
       "    <tr style=\"text-align: right;\">\n",
       "      <th></th>\n",
       "      <th>Name</th>\n",
       "      <th>Salary</th>\n",
       "      <th>JobTitle</th>\n",
       "      <th>DateStarted</th>\n",
       "    </tr>\n",
       "  </thead>\n",
       "  <tbody>\n",
       "    <tr>\n",
       "      <th>0</th>\n",
       "      <td>Jack Smith</td>\n",
       "      <td>1000</td>\n",
       "      <td>CEO</td>\n",
       "      <td>01/12/2022</td>\n",
       "    </tr>\n",
       "    <tr>\n",
       "      <th>1</th>\n",
       "      <td>Brad Peters</td>\n",
       "      <td>700</td>\n",
       "      <td>CFO</td>\n",
       "      <td>02/11/2022</td>\n",
       "    </tr>\n",
       "    <tr>\n",
       "      <th>2</th>\n",
       "      <td>Emma Rogers</td>\n",
       "      <td>600</td>\n",
       "      <td>CTO</td>\n",
       "      <td>03/10/2022</td>\n",
       "    </tr>\n",
       "    <tr>\n",
       "      <th>3</th>\n",
       "      <td>Luke Martin</td>\n",
       "      <td>500</td>\n",
       "      <td>COO</td>\n",
       "      <td>04/09/2023</td>\n",
       "    </tr>\n",
       "    <tr>\n",
       "      <th>4</th>\n",
       "      <td>Sophie Freeman</td>\n",
       "      <td>800</td>\n",
       "      <td>CMO</td>\n",
       "      <td>05/08/2023</td>\n",
       "    </tr>\n",
       "  </tbody>\n",
       "</table>\n",
       "</div>"
      ],
      "text/plain": [
       "             Name  Salary JobTitle DateStarted\n",
       "0      Jack Smith    1000      CEO  01/12/2022\n",
       "1     Brad Peters     700      CFO  02/11/2022\n",
       "2     Emma Rogers     600      CTO  03/10/2022\n",
       "3     Luke Martin     500      COO  04/09/2023\n",
       "4  Sophie Freeman     800      CMO  05/08/2023"
      ]
     },
     "execution_count": 375,
     "metadata": {},
     "output_type": "execute_result"
    }
   ],
   "source": [
    "df_2[\"DateStarted\"] = [\"01/12/2022\",\"02/11/2022\",\"03/10/2022\",\"04/09/2023\",\"05/08/2023\"]\n",
    "df_2"
   ]
  },
  {
   "cell_type": "code",
   "execution_count": 376,
   "metadata": {},
   "outputs": [
    {
     "data": {
      "text/html": [
       "<div>\n",
       "<style scoped>\n",
       "    .dataframe tbody tr th:only-of-type {\n",
       "        vertical-align: middle;\n",
       "    }\n",
       "\n",
       "    .dataframe tbody tr th {\n",
       "        vertical-align: top;\n",
       "    }\n",
       "\n",
       "    .dataframe thead th {\n",
       "        text-align: right;\n",
       "    }\n",
       "</style>\n",
       "<table border=\"1\" class=\"dataframe\">\n",
       "  <thead>\n",
       "    <tr style=\"text-align: right;\">\n",
       "      <th></th>\n",
       "      <th>Name</th>\n",
       "      <th>Salary</th>\n",
       "      <th>JobTitle</th>\n",
       "      <th>DateStarted</th>\n",
       "      <th>SalaryNew</th>\n",
       "      <th>PayAfterBonus</th>\n",
       "    </tr>\n",
       "  </thead>\n",
       "  <tbody>\n",
       "    <tr>\n",
       "      <th>0</th>\n",
       "      <td>Jack Smith</td>\n",
       "      <td>1000</td>\n",
       "      <td>CEO</td>\n",
       "      <td>01/12/2022</td>\n",
       "      <td>1067.0</td>\n",
       "      <td>1167.0</td>\n",
       "    </tr>\n",
       "    <tr>\n",
       "      <th>1</th>\n",
       "      <td>Brad Peters</td>\n",
       "      <td>700</td>\n",
       "      <td>CFO</td>\n",
       "      <td>02/11/2022</td>\n",
       "      <td>746.9</td>\n",
       "      <td>846.9</td>\n",
       "    </tr>\n",
       "    <tr>\n",
       "      <th>2</th>\n",
       "      <td>Emma Rogers</td>\n",
       "      <td>600</td>\n",
       "      <td>CTO</td>\n",
       "      <td>03/10/2022</td>\n",
       "      <td>640.2</td>\n",
       "      <td>740.2</td>\n",
       "    </tr>\n",
       "    <tr>\n",
       "      <th>3</th>\n",
       "      <td>Luke Martin</td>\n",
       "      <td>500</td>\n",
       "      <td>COO</td>\n",
       "      <td>04/09/2023</td>\n",
       "      <td>533.5</td>\n",
       "      <td>633.5</td>\n",
       "    </tr>\n",
       "    <tr>\n",
       "      <th>4</th>\n",
       "      <td>Sophie Freeman</td>\n",
       "      <td>800</td>\n",
       "      <td>CMO</td>\n",
       "      <td>05/08/2023</td>\n",
       "      <td>853.6</td>\n",
       "      <td>953.6</td>\n",
       "    </tr>\n",
       "  </tbody>\n",
       "</table>\n",
       "</div>"
      ],
      "text/plain": [
       "             Name  Salary JobTitle DateStarted  SalaryNew  PayAfterBonus\n",
       "0      Jack Smith    1000      CEO  01/12/2022     1067.0         1167.0\n",
       "1     Brad Peters     700      CFO  02/11/2022      746.9          846.9\n",
       "2     Emma Rogers     600      CTO  03/10/2022      640.2          740.2\n",
       "3     Luke Martin     500      COO  04/09/2023      533.5          633.5\n",
       "4  Sophie Freeman     800      CMO  05/08/2023      853.6          953.6"
      ]
     },
     "execution_count": 376,
     "metadata": {},
     "output_type": "execute_result"
    }
   ],
   "source": [
    "inflation = 0.067\n",
    "df_2[\"SalaryNew\"] = df_2[\"Salary\"]*inflation+df_2[\"Salary\"]\n",
    "bonus = 100\n",
    "df_2[\"PayAfterBonus\"] = df_2[\"SalaryNew\"]+bonus\n",
    "\n",
    "df_2\n"
   ]
  },
  {
   "cell_type": "code",
   "execution_count": 377,
   "metadata": {},
   "outputs": [
    {
     "data": {
      "text/html": [
       "<div>\n",
       "<style scoped>\n",
       "    .dataframe tbody tr th:only-of-type {\n",
       "        vertical-align: middle;\n",
       "    }\n",
       "\n",
       "    .dataframe tbody tr th {\n",
       "        vertical-align: top;\n",
       "    }\n",
       "\n",
       "    .dataframe thead th {\n",
       "        text-align: right;\n",
       "    }\n",
       "</style>\n",
       "<table border=\"1\" class=\"dataframe\">\n",
       "  <thead>\n",
       "    <tr style=\"text-align: right;\">\n",
       "      <th></th>\n",
       "      <th>Name</th>\n",
       "      <th>Salary</th>\n",
       "      <th>JobTitle</th>\n",
       "      <th>DateStarted</th>\n",
       "      <th>SalaryNew</th>\n",
       "      <th>PayAfterBonus</th>\n",
       "    </tr>\n",
       "  </thead>\n",
       "  <tbody>\n",
       "    <tr>\n",
       "      <th>0</th>\n",
       "      <td>Jack Smith</td>\n",
       "      <td>1000</td>\n",
       "      <td>CEO</td>\n",
       "      <td>2022-12-01</td>\n",
       "      <td>1067.0</td>\n",
       "      <td>1167.0</td>\n",
       "    </tr>\n",
       "    <tr>\n",
       "      <th>1</th>\n",
       "      <td>Brad Peters</td>\n",
       "      <td>700</td>\n",
       "      <td>CFO</td>\n",
       "      <td>2022-11-02</td>\n",
       "      <td>746.9</td>\n",
       "      <td>846.9</td>\n",
       "    </tr>\n",
       "    <tr>\n",
       "      <th>2</th>\n",
       "      <td>Emma Rogers</td>\n",
       "      <td>600</td>\n",
       "      <td>CTO</td>\n",
       "      <td>2022-10-03</td>\n",
       "      <td>640.2</td>\n",
       "      <td>740.2</td>\n",
       "    </tr>\n",
       "    <tr>\n",
       "      <th>3</th>\n",
       "      <td>Luke Martin</td>\n",
       "      <td>500</td>\n",
       "      <td>COO</td>\n",
       "      <td>2023-09-04</td>\n",
       "      <td>533.5</td>\n",
       "      <td>633.5</td>\n",
       "    </tr>\n",
       "    <tr>\n",
       "      <th>4</th>\n",
       "      <td>Sophie Freeman</td>\n",
       "      <td>800</td>\n",
       "      <td>CMO</td>\n",
       "      <td>2023-08-05</td>\n",
       "      <td>853.6</td>\n",
       "      <td>953.6</td>\n",
       "    </tr>\n",
       "  </tbody>\n",
       "</table>\n",
       "</div>"
      ],
      "text/plain": [
       "             Name  Salary JobTitle DateStarted  SalaryNew  PayAfterBonus\n",
       "0      Jack Smith    1000      CEO  2022-12-01     1067.0         1167.0\n",
       "1     Brad Peters     700      CFO  2022-11-02      746.9          846.9\n",
       "2     Emma Rogers     600      CTO  2022-10-03      640.2          740.2\n",
       "3     Luke Martin     500      COO  2023-09-04      533.5          633.5\n",
       "4  Sophie Freeman     800      CMO  2023-08-05      853.6          953.6"
      ]
     },
     "execution_count": 377,
     "metadata": {},
     "output_type": "execute_result"
    }
   ],
   "source": [
    "#df_2[\"DateStarted\"] = pd.to_datetime(df_2[\"DateStarted\"],dayfirst=True)\n",
    "df_2[\"DateStarted\"] = pd.to_datetime(df_2[\"DateStarted\"],format=\"%d/%m/%Y\")\n",
    "df_2"
   ]
  },
  {
   "cell_type": "code",
   "execution_count": 382,
   "metadata": {},
   "outputs": [
    {
     "data": {
      "text/html": [
       "<div>\n",
       "<style scoped>\n",
       "    .dataframe tbody tr th:only-of-type {\n",
       "        vertical-align: middle;\n",
       "    }\n",
       "\n",
       "    .dataframe tbody tr th {\n",
       "        vertical-align: top;\n",
       "    }\n",
       "\n",
       "    .dataframe thead th {\n",
       "        text-align: right;\n",
       "    }\n",
       "</style>\n",
       "<table border=\"1\" class=\"dataframe\">\n",
       "  <thead>\n",
       "    <tr style=\"text-align: right;\">\n",
       "      <th></th>\n",
       "      <th>Name</th>\n",
       "      <th>Salary</th>\n",
       "      <th>JobTitle</th>\n",
       "      <th>DateStarted</th>\n",
       "      <th>SalaryNew</th>\n",
       "      <th>PayAfterBonus</th>\n",
       "      <th>DOB</th>\n",
       "      <th>TimeServed</th>\n",
       "      <th>TimeServed2</th>\n",
       "    </tr>\n",
       "  </thead>\n",
       "  <tbody>\n",
       "    <tr>\n",
       "      <th>0</th>\n",
       "      <td>Jack Smith</td>\n",
       "      <td>1000</td>\n",
       "      <td>CEO</td>\n",
       "      <td>2022-12-01</td>\n",
       "      <td>1067.0</td>\n",
       "      <td>1167.0</td>\n",
       "      <td>2000-12-01</td>\n",
       "      <td>340 days</td>\n",
       "      <td>1</td>\n",
       "    </tr>\n",
       "    <tr>\n",
       "      <th>1</th>\n",
       "      <td>Brad Peters</td>\n",
       "      <td>700</td>\n",
       "      <td>CFO</td>\n",
       "      <td>2022-11-02</td>\n",
       "      <td>746.9</td>\n",
       "      <td>846.9</td>\n",
       "      <td>2001-11-02</td>\n",
       "      <td>369 days</td>\n",
       "      <td>1</td>\n",
       "    </tr>\n",
       "    <tr>\n",
       "      <th>2</th>\n",
       "      <td>Emma Rogers</td>\n",
       "      <td>600</td>\n",
       "      <td>CTO</td>\n",
       "      <td>2022-10-03</td>\n",
       "      <td>640.2</td>\n",
       "      <td>740.2</td>\n",
       "      <td>2002-10-03</td>\n",
       "      <td>399 days</td>\n",
       "      <td>1</td>\n",
       "    </tr>\n",
       "    <tr>\n",
       "      <th>3</th>\n",
       "      <td>Luke Martin</td>\n",
       "      <td>500</td>\n",
       "      <td>COO</td>\n",
       "      <td>2023-09-04</td>\n",
       "      <td>533.5</td>\n",
       "      <td>633.5</td>\n",
       "      <td>2003-09-04</td>\n",
       "      <td>63 days</td>\n",
       "      <td>0</td>\n",
       "    </tr>\n",
       "    <tr>\n",
       "      <th>4</th>\n",
       "      <td>Sophie Freeman</td>\n",
       "      <td>800</td>\n",
       "      <td>CMO</td>\n",
       "      <td>2023-08-05</td>\n",
       "      <td>853.6</td>\n",
       "      <td>953.6</td>\n",
       "      <td>2004-08-05</td>\n",
       "      <td>93 days</td>\n",
       "      <td>0</td>\n",
       "    </tr>\n",
       "  </tbody>\n",
       "</table>\n",
       "</div>"
      ],
      "text/plain": [
       "             Name  Salary JobTitle DateStarted  SalaryNew  PayAfterBonus  \\\n",
       "0      Jack Smith    1000      CEO  2022-12-01     1067.0         1167.0   \n",
       "1     Brad Peters     700      CFO  2022-11-02      746.9          846.9   \n",
       "2     Emma Rogers     600      CTO  2022-10-03      640.2          740.2   \n",
       "3     Luke Martin     500      COO  2023-09-04      533.5          633.5   \n",
       "4  Sophie Freeman     800      CMO  2023-08-05      853.6          953.6   \n",
       "\n",
       "         DOB TimeServed  TimeServed2  \n",
       "0 2000-12-01   340 days            1  \n",
       "1 2001-11-02   369 days            1  \n",
       "2 2002-10-03   399 days            1  \n",
       "3 2003-09-04    63 days            0  \n",
       "4 2004-08-05    93 days            0  "
      ]
     },
     "execution_count": 382,
     "metadata": {},
     "output_type": "execute_result"
    }
   ],
   "source": [
    "df_2[\"DOB\"] = [\"01/12/2000\",\"02/11/2001\",\"03/10/2002\",\"04/09/2003\",\"05/08/2004\"]\n",
    "df_2[\"DOB\"] = pd.to_datetime(df_2[\"DOB\"],dayfirst=True)\n",
    "df_2[\"TimeServed\"] = pd.to_datetime('06/11/23',format='%d/%m/%y')-df_2[\"DateStarted\"] # lower case \"y\" when not using the first two digits of the year\n",
    "df_2[\"TimeServed2\"] = df_2[\"TimeServed\"]/pd.Timedelta('365 days')\n",
    "df_2[\"TimeServed2\"] = df_2[\"TimeServed2\"].round().astype('int',errors='ignore')\n",
    "\n",
    "df_2.dtypes\n",
    "df_2"
   ]
  }
 ],
 "metadata": {
  "kernelspec": {
   "display_name": "Python 3",
   "language": "python",
   "name": "python3"
  },
  "language_info": {
   "codemirror_mode": {
    "name": "ipython",
    "version": 3
   },
   "file_extension": ".py",
   "mimetype": "text/x-python",
   "name": "python",
   "nbconvert_exporter": "python",
   "pygments_lexer": "ipython3",
   "version": "3.10.8"
  }
 },
 "nbformat": 4,
 "nbformat_minor": 2
}

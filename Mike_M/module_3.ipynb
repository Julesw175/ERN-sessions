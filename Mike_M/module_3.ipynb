{
 "cells": [
  {
   "cell_type": "code",
   "execution_count": 19,
   "metadata": {},
   "outputs": [
    {
     "name": "stdout",
     "output_type": "stream",
     "text": [
      "my name is mike\n",
      "15\n",
      "50\n",
      "-25\n",
      "0.75\n"
     ]
    }
   ],
   "source": [
    "# DRY\n",
    "# Don't repeat yourself\n",
    "# Functions\n",
    "\n",
    "#   for something in something:\n",
    "#   do stuff\n",
    "#   do more stuff\n",
    "\n",
    "#pd.read_csv(filepath, other arguments):\n",
    "#    code to read a csv from filepath\n",
    "\n",
    "def printer(x):\n",
    "    print(x)\n",
    "\n",
    "printer('my name is mike')\n",
    "\n",
    "def sum_function(x,y):\n",
    "    total = x+y\n",
    "    \n",
    "    return total # this is effectively saying that the function should print this otherwise you need to use the print function\n",
    "\n",
    "\n",
    "sum_function(5,60)\n",
    "\n",
    "\n",
    "def product_function(x,y):\n",
    "    product = x*y\n",
    "    return product\n",
    "\n",
    "product_function(7,4)\n",
    "\n",
    "def sum_prod(x,y):\n",
    "    summation = x+y\n",
    "    product = x*y\n",
    "    return summation,product\n",
    "\n",
    "summation_5_10, product_5_10= sum_prod(5,10)\n",
    "print(summation_5_10)\n",
    "print(product_5_10)\n",
    "\n",
    "\n",
    "def subtract_divide(x,y):\n",
    "    \"\"\"Sphinx Style Doc String\n",
    "    First Line: Define what the function does: Find the subtraction and division of two numbers.\n",
    "   \n",
    "    Note:\n",
    "        Do not set y to 0\n",
    "\n",
    "    Arguments:\n",
    "        x: Int or Float, number for which the subtraction and division is found\n",
    "        y: Int or Float, number for which the subtraction and division is from\n",
    "        \n",
    "    Returns:\n",
    "        subtract\n",
    "        divide\"\"\"\n",
    "\n",
    "    subtract = x-y\n",
    "    divide = x/y\n",
    "    return subtract,divide\n",
    "\n",
    "subtract_75_100, divide_75_100= subtract_divide(75,100)\n",
    "print(subtract_75_100)\n",
    "print(divide_75_100)"
   ]
  },
  {
   "cell_type": "code",
   "execution_count": null,
   "metadata": {},
   "outputs": [],
   "source": []
  }
 ],
 "metadata": {
  "kernelspec": {
   "display_name": "Python 3",
   "language": "python",
   "name": "python3"
  },
  "language_info": {
   "codemirror_mode": {
    "name": "ipython",
    "version": 3
   },
   "file_extension": ".py",
   "mimetype": "text/x-python",
   "name": "python",
   "nbconvert_exporter": "python",
   "pygments_lexer": "ipython3",
   "version": "3.10.8"
  }
 },
 "nbformat": 4,
 "nbformat_minor": 2
}

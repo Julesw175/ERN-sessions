{
 "cells": [
  {
   "cell_type": "code",
   "execution_count": 6,
   "metadata": {},
   "outputs": [
    {
     "data": {
      "text/plain": [
       "employee_id    object\n",
       "age             int64\n",
       "salary          int64\n",
       "job_title      object\n",
       "dtype: object"
      ]
     },
     "execution_count": 6,
     "metadata": {},
     "output_type": "execute_result"
    }
   ],
   "source": [
    "# This assignment focuses on dataframes\n",
    "# First off, using a method of your choice, make a dataframe with the columns:\n",
    "# EmployeeID, Age, Salary, Job Title\n",
    "# Fill this out with arbitrary but sensible inputs for 5 rows.\n",
    "# Ensure age and salary are stored as the right type of data for numbers, and that there's a good range of salaries\n",
    "\n",
    "import pandas as pd\n",
    "\n",
    "work = pd.DataFrame({\"employee_id\": [\"2940\", \"3999\", \"2945\", \"3594\", \"2222\"],\n",
    "                     \"age\": [24, 45, 34, 64, 21],\n",
    "                     \"salary\": [34500, 6000, 356500, 18000, 95000],\n",
    "                     \"job_title\": [\"teacher\", \"assistant\", \"head teacher\", \"supervisor\", \"department head\"]})\n",
    "\n",
    "\n",
    "work\n",
    "\n",
    "work.dtypes\n",
    "\n"
   ]
  },
  {
   "cell_type": "code",
   "execution_count": 27,
   "metadata": {},
   "outputs": [
    {
     "data": {
      "text/html": [
       "<div>\n",
       "<style scoped>\n",
       "    .dataframe tbody tr th:only-of-type {\n",
       "        vertical-align: middle;\n",
       "    }\n",
       "\n",
       "    .dataframe tbody tr th {\n",
       "        vertical-align: top;\n",
       "    }\n",
       "\n",
       "    .dataframe thead th {\n",
       "        text-align: right;\n",
       "    }\n",
       "</style>\n",
       "<table border=\"1\" class=\"dataframe\">\n",
       "  <thead>\n",
       "    <tr style=\"text-align: right;\">\n",
       "      <th></th>\n",
       "      <th>employee_id</th>\n",
       "      <th>age</th>\n",
       "      <th>salary</th>\n",
       "      <th>job_title</th>\n",
       "    </tr>\n",
       "  </thead>\n",
       "  <tbody>\n",
       "    <tr>\n",
       "      <th>1</th>\n",
       "      <td>3999</td>\n",
       "      <td>45</td>\n",
       "      <td>6000</td>\n",
       "      <td>assistant</td>\n",
       "    </tr>\n",
       "    <tr>\n",
       "      <th>3</th>\n",
       "      <td>3594</td>\n",
       "      <td>64</td>\n",
       "      <td>18000</td>\n",
       "      <td>supervisor</td>\n",
       "    </tr>\n",
       "  </tbody>\n",
       "</table>\n",
       "</div>"
      ],
      "text/plain": [
       "  employee_id  age  salary   job_title\n",
       "1        3999   45    6000   assistant\n",
       "3        3594   64   18000  supervisor"
      ]
     },
     "execution_count": 27,
     "metadata": {},
     "output_type": "execute_result"
    }
   ],
   "source": [
    "# Use pandas methods to find the maximum and minimum salaries and ages\n",
    "# Find the sum of all the salaries using pandas methods\n",
    "# Find the mean age \n",
    "# A little more tricky: find the longest name and print it, and its length\n",
    "# Assign to an appropriately named variable a slice of the dataframe where all the salaries are above the median\n",
    "# To a different appropriately named variable, slice the dataframe to have only those above the median age who also have a letter (of your choice) at least once in their name\n",
    "\n",
    "max_salary = work[\"salary\"].max()\n",
    "min_salary = work[\"salary\"].min()\n",
    "max_age = work[\"age\"].max()\n",
    "min_age = work[\"age\"].min()\n",
    "salary_sum = work[\"salary\"].sum()\n",
    "salary_median = work[\"salary\"].median()\n",
    "mean_age = work[\"age\"].mean()\n",
    "median_age = work[\"age\"].median()\n",
    "\n",
    "longest_title = max(work[\"job_title\"], key = len)\n",
    "length = len(longest_title)\n",
    "\n",
    "highest_salaries = work[work.salary >= salary_median]\n",
    "\n",
    "above_median_age_and_s = work[(work.age >= median_age) & work.job_title.str.contains(\"s\")]\n",
    "above_median_age_and_s\n"
   ]
  }
 ],
 "metadata": {
  "kernelspec": {
   "display_name": "Python 3",
   "language": "python",
   "name": "python3"
  },
  "language_info": {
   "codemirror_mode": {
    "name": "ipython",
    "version": 3
   },
   "file_extension": ".py",
   "mimetype": "text/x-python",
   "name": "python",
   "nbconvert_exporter": "python",
   "pygments_lexer": "ipython3",
   "version": "3.10.8"
  }
 },
 "nbformat": 4,
 "nbformat_minor": 2
}

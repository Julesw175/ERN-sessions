{
 "cells": [
  {
   "cell_type": "code",
   "execution_count": 11,
   "metadata": {},
   "outputs": [
    {
     "data": {
      "text/plain": [
       "EmployeeID      int64\n",
       "Name           object\n",
       "Age             int64\n",
       "Salary        float64\n",
       "Job Title      object\n",
       "dtype: object"
      ]
     },
     "execution_count": 11,
     "metadata": {},
     "output_type": "execute_result"
    }
   ],
   "source": [
    "# This assignment focuses on dataframes\n",
    "# First off, using a method of your choice, make a dataframe with the columns:\n",
    "# EmployeeID, Age, Salary, Job Title\n",
    "# Fill this out with arbitrary but sensible inputs for 5 rows.\n",
    "# Ensure age and salary are stored as the right type of data for numbers, and that there's a good range of salaries\n",
    "\n",
    "# Step 1 - Import Pandas to create DataFrame \n",
    "import pandas as pd\n",
    "\n",
    "# Step 2 - create list of lists to hold the 5 rows of data  \n",
    "data = [\n",
    "            [1,\"Al\", 43,40323.09,\"Senior SQL Developer\"],\n",
    "            [2,\"Zara\", 53,53108.76,\"SQL Developer Manager\"],\n",
    "            [3,\"Andy\", 60,34748.91,\"SQL Developer\"],\n",
    "            [4,\"Sheila\", 60,29992.63,\"Junior SQL Developer\"],            \n",
    "            [5,\"Billy\", 22,21007.42,\"SQL Developer Apprentice\"]            \n",
    "        ]\n",
    " \n",
    "# Step 3 - Create the pandas DataFrame \n",
    "df = pd.DataFrame(data, columns=['EmployeeID', 'Name', 'Age', 'Salary','Job Title']) \n",
    "df.dtypes"
   ]
  },
  {
   "cell_type": "code",
   "execution_count": 14,
   "metadata": {},
   "outputs": [
    {
     "name": "stdout",
     "output_type": "stream",
     "text": [
      "The maximum salary is £53108.76, and the minimum salary is £21007.42. The maximum age is 60, and the minimum age is 22.\n",
      "The sum of all salaries is £179180.81\n",
      "The mean age of all the employees is 47.6\n"
     ]
    }
   ],
   "source": [
    "# Use pandas methods to find the maximum and minimum salaries and ages\n",
    "sal_max = df['Salary'].max()\n",
    "sal_min = df['Salary'].min()\n",
    "age_max = df['Age'].max()\n",
    "age_min = df['Age'].min()\n",
    "print(f\"The maximum salary is £{sal_max}, and the minimum salary is £{sal_min}. The maximum age is {age_max}, and the minimum age is {age_min}.\")\n",
    "# Find the sum of all the salaries using pandas methods\n",
    "sal_sum = df['Salary'].sum()\n",
    "print(f\"The sum of all salaries is £{sal_sum}\")\n",
    "# Find the mean age \n",
    "age_mean = df['Age'].mean()\n",
    "print(f\"The mean age of all the employees is {age_mean}\")\n",
    "# A little more tricky: find the longest name and print it, and its length\n",
    "# Assign to an appropriately named variable a slice of the dataframe where all\n",
    "#  the salaries are above the median\n",
    "# To a different appropriately named variable, slice the dataframe to have only those above the median age who also have a letter (of your choice) at least once in their name"
   ]
  }
 ],
 "metadata": {
  "kernelspec": {
   "display_name": "Python 3",
   "language": "python",
   "name": "python3"
  },
  "language_info": {
   "codemirror_mode": {
    "name": "ipython",
    "version": 3
   },
   "file_extension": ".py",
   "mimetype": "text/x-python",
   "name": "python",
   "nbconvert_exporter": "python",
   "pygments_lexer": "ipython3",
   "version": "3.10.8"
  }
 },
 "nbformat": 4,
 "nbformat_minor": 2
}

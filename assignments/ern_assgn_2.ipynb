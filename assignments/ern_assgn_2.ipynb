{
 "cells": [
  {
   "cell_type": "code",
   "execution_count": 1,
   "metadata": {},
   "outputs": [],
   "source": [
    "# This assignment focuses on dataframes\n",
    "# First off, using a method of your choice, make a dataframe with the columns:\n",
    "# EmployeeID, Age, Salary, Job Title\n",
    "# Fill this out with arbitrary but sensible inputs for 5 rows.\n",
    "# Ensure age and salary are stored as the right type of data for numbers, and that there's a good range of salaries"
   ]
  },
  {
   "cell_type": "code",
   "execution_count": 2,
   "metadata": {},
   "outputs": [],
   "source": [
    "# Use pandas methods to find the maximum and minimum salaries and ages\n",
    "# Find the sum of all the salaries using pandas methods\n",
    "# Find the mean age \n",
    "# A little more tricky: find the longest name and print it, and its length\n",
    "# Assign to an appropriately named variable a slice of the dataframe where all the salaries are above the median\n",
    "# To a different appropriately named variable, slice the dataframe to have only those above the median age who also have a letter (of your choice) at least once in their name"
   ]
  },
  {
   "cell_type": "code",
   "execution_count": 31,
   "metadata": {},
   "outputs": [
    {
     "name": "stdout",
     "output_type": "stream",
     "text": [
      "The maximum salary is: £45000\n",
      "The minimum salary is: £29500\n",
      "The median salary is: £36000.0\n",
      "The salary total is: £187500\n",
      "The maximum age is: 41\n",
      "The minimum age is: 24\n",
      "The mean age is: 31.2\n",
      "The median age is: 32.0\n",
      "\n",
      "The longest job title is: Performance Analyst (Length: 19)\n",
      "\n",
      "Employees above the median salary are: \n",
      "    Employee_ID  Age  Salary     Job_Title\n",
      "1        24621   24   44000  Data Analyst\n",
      "2        33621   32   45000       Manager\n",
      "\n",
      "Employees above the median age who also have the letter 'A' in their Job Title are: \n",
      "    Employee_ID  Age  Salary            Job_Title\n",
      "0        24601   41   36000  Performance Analyst\n"
     ]
    }
   ],
   "source": [
    "import pandas as pd\n",
    "\n",
    "data_dict = {\n",
    "    'Employee_ID': [24601, 24621, 33621, 28965, 88567],\n",
    "    'Age': [41, 24, 32, 32, 27],\n",
    "    'Salary': [36000, 44000, 45000, 29500, 33000],\n",
    "    'Job_Title': ['Performance Analyst', 'Data Analyst', 'Manager', 'Data Analyst', 'Project Manager']\n",
    "}\n",
    "\n",
    "company_1 = pd.DataFrame(data_dict)\n",
    "\n",
    "max_salary, min_salary, median_salary, salary_total, max_age, min_age, mean_age, median_age = (\n",
    "    company_1['Salary'].max(),\n",
    "    company_1['Salary'].min(),\n",
    "    company_1['Salary'].median(),\n",
    "    company_1['Salary'].sum(),\n",
    "    company_1['Age'].max(),\n",
    "    company_1['Age'].min(),   \n",
    "    company_1['Age'].mean(),\n",
    "    company_1['Age'].median()\n",
    ")\n",
    "\n",
    "above_median_salary = company_1[company_1['Salary'] > median_salary]\n",
    "above_median_age = company_1[company_1['Age'] > median_age]\n",
    "target_letter = 'A'\n",
    "filtered_df = above_median_age[above_median_age['Job_Title'].str.contains(target_letter, case=False)]\n",
    "\n",
    "company_1['Title_Length'] = company_1['Job_Title'].str.len()\n",
    "longest_title = max(company_1[\"Job_Title\"], key = len)\n",
    "title_length = len(longest_title)\n",
    "\n",
    "print(f'The maximum salary is: £{max_salary}\\n'\n",
    "      f'The minimum salary is: £{min_salary}\\n'\n",
    "      f'The median salary is: £{median_salary}\\n'\n",
    "      f'The salary total is: £{salary_total}\\n'\n",
    "      f'The maximum age is: {max_age}\\n'\n",
    "      f'The minimum age is: {min_age}\\n'\n",
    "      f'The mean age is: {mean_age}\\n'\n",
    "      f'The median age is: {median_age}\\n')\n",
    "\n",
    "print(f\"The longest job title is: {longest_title} (Length: {title_length})\\n\")\n",
    "print(f\"Employees above the median salary are: \\n {above_median_salary}\\n\")\n",
    "print(f\"Employees above the median age who also have the letter '{target_letter}' in their Job Title are: \\n {filtered_df}\")"
   ]
  }
 ],
 "metadata": {
  "kernelspec": {
   "display_name": "Python 3",
   "language": "python",
   "name": "python3"
  },
  "language_info": {
   "codemirror_mode": {
    "name": "ipython",
    "version": 3
   },
   "file_extension": ".py",
   "mimetype": "text/x-python",
   "name": "python",
   "nbconvert_exporter": "python",
   "pygments_lexer": "ipython3",
   "version": "3.10.8"
  }
 },
 "nbformat": 4,
 "nbformat_minor": 2
}

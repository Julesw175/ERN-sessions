{
 "cells": [
  {
   "cell_type": "code",
   "execution_count": null,
   "metadata": {},
   "outputs": [],
   "source": [
    "# This assignment focuses on dataframes\n",
    "# First off, using a method of your choice, make a dataframe with the columns:\n",
    "# EmployeeID, Age, Salary, Job Title\n",
    "# Fill this out with arbitrary but sensible inputs for 5 rows.\n",
    "# Ensure age and salary are stored as the right type of data for numbers, and that there's a good range of salaries"
   ]
  },
  {
   "cell_type": "code",
   "execution_count": 32,
   "metadata": {},
   "outputs": [],
   "source": [
    "import pandas as pd\n",
    "\n",
    "data = {\n",
    "    'Employee_ID': [24601, 24621, 33621, 28965, 88567],\n",
    "    'Age': [41, 24, 32, 24, 27],\n",
    "    'Salary': [36000, 28000, 45000, 29500, 33000],\n",
    "    'Job_Title': ['Performance Analyst', 'Data Analyst', 'Manager', 'Data Analyst', 'Project Manager']\n",
    "}\n",
    "\n",
    "company_1 = pd.DataFrame(data)\n",
    "\n",
    "#company_1\n",
    "#company_1.info()\n"
   ]
  },
  {
   "cell_type": "code",
   "execution_count": null,
   "metadata": {},
   "outputs": [],
   "source": [
    "# Use pandas methods to find the maximum and minimum salaries and ages\n",
    "# Find the sum of all the salaries using pandas methods\n",
    "# Find the mean age \n",
    "# A little more tricky: find the longest name and print it, and its length\n",
    "# Assign to an appropriately named variable a slice of the dataframe where all the salaries are above the median\n",
    "# To a different appropriately named variable, slice the dataframe to have only those above the median age who also have a letter (of your choice) at least once in their name"
   ]
  },
  {
   "cell_type": "code",
   "execution_count": 37,
   "metadata": {},
   "outputs": [
    {
     "name": "stdout",
     "output_type": "stream",
     "text": [
      "The maximum salary is: £45000\n",
      "The minimum salary is: £28000\n",
      "The maximum age is: 41\n",
      "The minimum age is: 24\n",
      "The salary total is: £171500\n",
      "The mean age is: 29.6\n",
      "\n",
      "The longest job title is: Project Manager (Length: 15)\n"
     ]
    },
    {
     "data": {
      "text/html": [
       "<div>\n",
       "<style scoped>\n",
       "    .dataframe tbody tr th:only-of-type {\n",
       "        vertical-align: middle;\n",
       "    }\n",
       "\n",
       "    .dataframe tbody tr th {\n",
       "        vertical-align: top;\n",
       "    }\n",
       "\n",
       "    .dataframe thead th {\n",
       "        text-align: right;\n",
       "    }\n",
       "</style>\n",
       "<table border=\"1\" class=\"dataframe\">\n",
       "  <thead>\n",
       "    <tr style=\"text-align: right;\">\n",
       "      <th></th>\n",
       "      <th>Employee_ID</th>\n",
       "      <th>Age</th>\n",
       "      <th>Salary</th>\n",
       "      <th>Job_Title</th>\n",
       "      <th>Title_Length</th>\n",
       "    </tr>\n",
       "  </thead>\n",
       "  <tbody>\n",
       "    <tr>\n",
       "      <th>0</th>\n",
       "      <td>24601</td>\n",
       "      <td>41</td>\n",
       "      <td>36000</td>\n",
       "      <td>Performance Analyst</td>\n",
       "      <td>19</td>\n",
       "    </tr>\n",
       "    <tr>\n",
       "      <th>1</th>\n",
       "      <td>24621</td>\n",
       "      <td>24</td>\n",
       "      <td>28000</td>\n",
       "      <td>Data Analyst</td>\n",
       "      <td>12</td>\n",
       "    </tr>\n",
       "    <tr>\n",
       "      <th>2</th>\n",
       "      <td>33621</td>\n",
       "      <td>32</td>\n",
       "      <td>45000</td>\n",
       "      <td>Manager</td>\n",
       "      <td>7</td>\n",
       "    </tr>\n",
       "    <tr>\n",
       "      <th>3</th>\n",
       "      <td>28965</td>\n",
       "      <td>24</td>\n",
       "      <td>29500</td>\n",
       "      <td>Data Analyst</td>\n",
       "      <td>12</td>\n",
       "    </tr>\n",
       "    <tr>\n",
       "      <th>4</th>\n",
       "      <td>88567</td>\n",
       "      <td>27</td>\n",
       "      <td>33000</td>\n",
       "      <td>Project Manager</td>\n",
       "      <td>15</td>\n",
       "    </tr>\n",
       "  </tbody>\n",
       "</table>\n",
       "</div>"
      ],
      "text/plain": [
       "   Employee_ID  Age  Salary            Job_Title  Title_Length\n",
       "0        24601   41   36000  Performance Analyst            19\n",
       "1        24621   24   28000         Data Analyst            12\n",
       "2        33621   32   45000              Manager             7\n",
       "3        28965   24   29500         Data Analyst            12\n",
       "4        88567   27   33000      Project Manager            15"
      ]
     },
     "execution_count": 37,
     "metadata": {},
     "output_type": "execute_result"
    }
   ],
   "source": [
    "max_salary, min_salary, max_age, min_age, salary_total, mean_age = (\n",
    "    company_1['Salary'].max(),\n",
    "    company_1['Salary'].min(),\n",
    "    company_1['Age'].max(),\n",
    "    company_1['Age'].min(),\n",
    "    company_1['Salary'].sum(),\n",
    "    company_1['Age'].mean()\n",
    ")\n",
    "\n",
    "#calculate the length of each job title\n",
    "company_1['Title_Length'] = company_1['Job_Title'].str.len()\n",
    "\n",
    "# Find the longest job title\n",
    "longest_title = company_1['Job_Title'].max()\n",
    "title_length = len(longest_title)\n",
    "\n",
    "\n",
    "print(f'The maximum salary is: £{max_salary}\\n'\n",
    "      f'The minimum salary is: £{min_salary}\\n'\n",
    "      f'The maximum age is: {max_age}\\n'\n",
    "      f'The minimum age is: {min_age}\\n'\n",
    "      f'The salary total is: £{salary_total}\\n'\n",
    "      f'The mean age is: {mean_age}\\n')\n",
    "\n",
    "print(f\"The longest job title is: {longest_title} (Length: {title_length})\")\n",
    "\n",
    "company_1\n",
    "\n",
    "\n"
   ]
  },
  {
   "cell_type": "code",
   "execution_count": 38,
   "metadata": {},
   "outputs": [
    {
     "name": "stdout",
     "output_type": "stream",
     "text": [
      "   Employee_ID  Age  Salary            Job_Title  Title_Length\n",
      "0        24601   41   36000  Performance Analyst            19\n",
      "2        33621   32   45000              Manager             7\n"
     ]
    }
   ],
   "source": [
    "# Calculate the median salary\n",
    "median_salary = company_1['Salary'].median()\n",
    "\n",
    "# Create a slice with salaries above the median\n",
    "above_median_df = company_1[company_1['Salary'] > median_salary]\n",
    "\n",
    "# Print the resulting DataFrame\n",
    "print(above_median_df)"
   ]
  },
  {
   "cell_type": "code",
   "execution_count": 41,
   "metadata": {},
   "outputs": [
    {
     "data": {
      "text/html": [
       "<div>\n",
       "<style scoped>\n",
       "    .dataframe tbody tr th:only-of-type {\n",
       "        vertical-align: middle;\n",
       "    }\n",
       "\n",
       "    .dataframe tbody tr th {\n",
       "        vertical-align: top;\n",
       "    }\n",
       "\n",
       "    .dataframe thead th {\n",
       "        text-align: right;\n",
       "    }\n",
       "</style>\n",
       "<table border=\"1\" class=\"dataframe\">\n",
       "  <thead>\n",
       "    <tr style=\"text-align: right;\">\n",
       "      <th></th>\n",
       "      <th>Employee_ID</th>\n",
       "      <th>Age</th>\n",
       "      <th>Salary</th>\n",
       "      <th>Job_Title</th>\n",
       "      <th>Title_Length</th>\n",
       "    </tr>\n",
       "  </thead>\n",
       "  <tbody>\n",
       "    <tr>\n",
       "      <th>0</th>\n",
       "      <td>24601</td>\n",
       "      <td>41</td>\n",
       "      <td>36000</td>\n",
       "      <td>Performance Analyst</td>\n",
       "      <td>19</td>\n",
       "    </tr>\n",
       "    <tr>\n",
       "      <th>2</th>\n",
       "      <td>33621</td>\n",
       "      <td>32</td>\n",
       "      <td>45000</td>\n",
       "      <td>Manager</td>\n",
       "      <td>7</td>\n",
       "    </tr>\n",
       "  </tbody>\n",
       "</table>\n",
       "</div>"
      ],
      "text/plain": [
       "   Employee_ID  Age  Salary            Job_Title  Title_Length\n",
       "0        24601   41   36000  Performance Analyst            19\n",
       "2        33621   32   45000              Manager             7"
      ]
     },
     "execution_count": 41,
     "metadata": {},
     "output_type": "execute_result"
    }
   ],
   "source": [
    "# Filter rows with age above the median\n",
    "above_median_df = company_1[company_1['Age'] > median_age]\n",
    "\n",
    "# Choose a specific letter (e.g., 'A')\n",
    "target_letter = 'A'\n",
    "\n",
    "# Filter rows with names containing the target letter\n",
    "filtered_df = above_median_df[above_median_df['Job_Title'].str.contains(target_letter, case=False)]\n",
    "\n",
    "filtered_df"
   ]
  }
 ],
 "metadata": {
  "kernelspec": {
   "display_name": "Python 3",
   "language": "python",
   "name": "python3"
  },
  "language_info": {
   "codemirror_mode": {
    "name": "ipython",
    "version": 3
   },
   "file_extension": ".py",
   "mimetype": "text/x-python",
   "name": "python",
   "nbconvert_exporter": "python",
   "pygments_lexer": "ipython3",
   "version": "3.10.8"
  }
 },
 "nbformat": 4,
 "nbformat_minor": 2
}

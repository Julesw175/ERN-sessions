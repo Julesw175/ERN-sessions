{
 "cells": [
  {
   "cell_type": "code",
   "execution_count": 1,
   "metadata": {},
   "outputs": [
    {
     "name": "stdout",
     "output_type": "stream",
     "text": [
      "Maximun salary: £53,510\n",
      "Minimum Salary: £23,570\n",
      "Mean age: 37.4 years old\n",
      "22\n"
     ]
    }
   ],
   "source": [
    "# This assignment focuses on dataframes\n",
    "# First off, using a method of your choice, make a dataframe with the columns:\n",
    "# EmployeeID, Age, Salary, Job Title\n",
    "# Fill this out with arbitrary but sensible inputs for 5 rows.\n",
    "# Ensure age and salary are stored as the right type of data for numbers, and that there's a good range of salaries\n",
    "import pandas as pd\n",
    "dict_employee = pd.DataFrame({\n",
    "    'EmployeeID':[123456,654321,456789,987654,234567],\n",
    "    'Fullname':['John Prine', 'Guy Clark','John Couger-Mellancamp', 'Gretchen Peters', 'Robert Plant'],\n",
    "    'Age': [38, 24, 60, 20, 45],\n",
    "    'Salary': [42450,53510,37890,23570,40230],\n",
    "    'Job Title': ['Web Developer', 'Senior Analyst', 'Performance Analyst', 'Developer', 'Research Analyst'],\n",
    "})\n",
    "max_salary = max(dict_employee['Salary'])\n",
    "min_salary = min(dict_employee['Salary'])\n",
    "mean_age= sum(dict_employee['Age'])/len(dict_employee['Age'])\n",
    "print(f\"Maximun salary: £{max_salary:,}\\nMinimum Salary: £{min_salary:,}\\nMean age: {mean_age} years old\")\n",
    "longest_name = dict_employee['Fullname'].str.len().max()\n",
    "print(longest_name)\n"
   ]
  },
  {
   "cell_type": "code",
   "execution_count": 48,
   "metadata": {},
   "outputs": [
    {
     "name": "stdout",
     "output_type": "stream",
     "text": [
      "Maximun salary: £53,510\n",
      "Minimum Salary: £23,570\n",
      "Mean age: 37.4 years old\n",
      "\n",
      "Longest name in list: John Couger-Mellancamp (length:22)\n",
      "\n",
      "   EmployeeID      Fullname  Age  Salary         Job Title\n",
      "0      123456    John Prine   38   42450     Web Developer\n",
      "1      654321     Guy Clark   24   53510    Senior Analyst\n",
      "4      234567  Robert Plant   45   40230  Research Analyst\n"
     ]
    },
    {
     "ename": "KeyError",
     "evalue": "'Name'",
     "output_type": "error",
     "traceback": [
      "\u001b[0;31m---------------------------------------------------------------------------\u001b[0m",
      "\u001b[0;31mKeyError\u001b[0m                                  Traceback (most recent call last)",
      "File \u001b[0;32m~/.local/lib/python3.10/site-packages/pandas/core/indexes/base.py:3790\u001b[0m, in \u001b[0;36mIndex.get_loc\u001b[0;34m(self, key)\u001b[0m\n\u001b[1;32m   3789\u001b[0m \u001b[39mtry\u001b[39;00m:\n\u001b[0;32m-> 3790\u001b[0m     \u001b[39mreturn\u001b[39;00m \u001b[39mself\u001b[39;49m\u001b[39m.\u001b[39;49m_engine\u001b[39m.\u001b[39;49mget_loc(casted_key)\n\u001b[1;32m   3791\u001b[0m \u001b[39mexcept\u001b[39;00m \u001b[39mKeyError\u001b[39;00m \u001b[39mas\u001b[39;00m err:\n",
      "File \u001b[0;32mindex.pyx:152\u001b[0m, in \u001b[0;36mpandas._libs.index.IndexEngine.get_loc\u001b[0;34m()\u001b[0m\n",
      "File \u001b[0;32mindex.pyx:181\u001b[0m, in \u001b[0;36mpandas._libs.index.IndexEngine.get_loc\u001b[0;34m()\u001b[0m\n",
      "File \u001b[0;32mpandas/_libs/hashtable_class_helper.pxi:7080\u001b[0m, in \u001b[0;36mpandas._libs.hashtable.PyObjectHashTable.get_item\u001b[0;34m()\u001b[0m\n",
      "File \u001b[0;32mpandas/_libs/hashtable_class_helper.pxi:7088\u001b[0m, in \u001b[0;36mpandas._libs.hashtable.PyObjectHashTable.get_item\u001b[0;34m()\u001b[0m\n",
      "\u001b[0;31mKeyError\u001b[0m: 'Name'",
      "\nThe above exception was the direct cause of the following exception:\n",
      "\u001b[0;31mKeyError\u001b[0m                                  Traceback (most recent call last)",
      "\u001b[1;32m/workspaces/ERN-sessions/assignments/ern_assgn_2.ipynb Cell 2\u001b[0m line \u001b[0;36m3\n\u001b[1;32m     <a href='vscode-notebook-cell://codespaces%2Bautomatic-dollop-wwrjggwpx4cggvg/workspaces/ERN-sessions/assignments/ern_assgn_2.ipynb#W1sdnNjb2RlLXJlbW90ZQ%3D%3D?line=30'>31</a>\u001b[0m \u001b[39mprint\u001b[39m(slice_mean_salary)\n\u001b[1;32m     <a href='vscode-notebook-cell://codespaces%2Bautomatic-dollop-wwrjggwpx4cggvg/workspaces/ERN-sessions/assignments/ern_assgn_2.ipynb#W1sdnNjb2RlLXJlbW90ZQ%3D%3D?line=31'>32</a>\u001b[0m \u001b[39m#Employees above mean age and contains the letter 'p'\u001b[39;00m\n\u001b[0;32m---> <a href='vscode-notebook-cell://codespaces%2Bautomatic-dollop-wwrjggwpx4cggvg/workspaces/ERN-sessions/assignments/ern_assgn_2.ipynb#W1sdnNjb2RlLXJlbW90ZQ%3D%3D?line=32'>33</a>\u001b[0m slice_mean_age \u001b[39m=\u001b[39m (dict_employee[dict_employee[\u001b[39m'\u001b[39m\u001b[39mAge\u001b[39m\u001b[39m'\u001b[39m] \u001b[39m>\u001b[39m mean_age]) \u001b[39m&\u001b[39m (dict_employee[dict_employee[\u001b[39m'\u001b[39;49m\u001b[39mName\u001b[39;49m\u001b[39m'\u001b[39;49m]\u001b[39m.\u001b[39mstr\u001b[39m.\u001b[39mcontains(\u001b[39m'\u001b[39m\u001b[39mp\u001b[39m\u001b[39m'\u001b[39m)])\n\u001b[1;32m     <a href='vscode-notebook-cell://codespaces%2Bautomatic-dollop-wwrjggwpx4cggvg/workspaces/ERN-sessions/assignments/ern_assgn_2.ipynb#W1sdnNjb2RlLXJlbW90ZQ%3D%3D?line=33'>34</a>\u001b[0m \u001b[39mprint\u001b[39m(slice_mean_age)\n",
      "File \u001b[0;32m~/.local/lib/python3.10/site-packages/pandas/core/frame.py:3896\u001b[0m, in \u001b[0;36mDataFrame.__getitem__\u001b[0;34m(self, key)\u001b[0m\n\u001b[1;32m   3894\u001b[0m \u001b[39mif\u001b[39;00m \u001b[39mself\u001b[39m\u001b[39m.\u001b[39mcolumns\u001b[39m.\u001b[39mnlevels \u001b[39m>\u001b[39m \u001b[39m1\u001b[39m:\n\u001b[1;32m   3895\u001b[0m     \u001b[39mreturn\u001b[39;00m \u001b[39mself\u001b[39m\u001b[39m.\u001b[39m_getitem_multilevel(key)\n\u001b[0;32m-> 3896\u001b[0m indexer \u001b[39m=\u001b[39m \u001b[39mself\u001b[39;49m\u001b[39m.\u001b[39;49mcolumns\u001b[39m.\u001b[39;49mget_loc(key)\n\u001b[1;32m   3897\u001b[0m \u001b[39mif\u001b[39;00m is_integer(indexer):\n\u001b[1;32m   3898\u001b[0m     indexer \u001b[39m=\u001b[39m [indexer]\n",
      "File \u001b[0;32m~/.local/lib/python3.10/site-packages/pandas/core/indexes/base.py:3797\u001b[0m, in \u001b[0;36mIndex.get_loc\u001b[0;34m(self, key)\u001b[0m\n\u001b[1;32m   3792\u001b[0m     \u001b[39mif\u001b[39;00m \u001b[39misinstance\u001b[39m(casted_key, \u001b[39mslice\u001b[39m) \u001b[39mor\u001b[39;00m (\n\u001b[1;32m   3793\u001b[0m         \u001b[39misinstance\u001b[39m(casted_key, abc\u001b[39m.\u001b[39mIterable)\n\u001b[1;32m   3794\u001b[0m         \u001b[39mand\u001b[39;00m \u001b[39many\u001b[39m(\u001b[39misinstance\u001b[39m(x, \u001b[39mslice\u001b[39m) \u001b[39mfor\u001b[39;00m x \u001b[39min\u001b[39;00m casted_key)\n\u001b[1;32m   3795\u001b[0m     ):\n\u001b[1;32m   3796\u001b[0m         \u001b[39mraise\u001b[39;00m InvalidIndexError(key)\n\u001b[0;32m-> 3797\u001b[0m     \u001b[39mraise\u001b[39;00m \u001b[39mKeyError\u001b[39;00m(key) \u001b[39mfrom\u001b[39;00m \u001b[39merr\u001b[39;00m\n\u001b[1;32m   3798\u001b[0m \u001b[39mexcept\u001b[39;00m \u001b[39mTypeError\u001b[39;00m:\n\u001b[1;32m   3799\u001b[0m     \u001b[39m# If we have a listlike key, _check_indexing_error will raise\u001b[39;00m\n\u001b[1;32m   3800\u001b[0m     \u001b[39m#  InvalidIndexError. Otherwise we fall through and re-raise\u001b[39;00m\n\u001b[1;32m   3801\u001b[0m     \u001b[39m#  the TypeError.\u001b[39;00m\n\u001b[1;32m   3802\u001b[0m     \u001b[39mself\u001b[39m\u001b[39m.\u001b[39m_check_indexing_error(key)\n",
      "\u001b[0;31mKeyError\u001b[0m: 'Name'"
     ]
    }
   ],
   "source": [
    "# Use pandas methods to find the maximum and minimum salaries and ages\n",
    "# Find the sum of all the salaries using pandas methods\n",
    "# Find the mean age \n",
    "# A little more tricky: find the longest name and print it, and its length\n",
    "# Assign to an appropriately named variable a slice of the dataframe where all the salaries \n",
    "# are above the median\n",
    "# To a different appropriately named variable, slice the dataframe to have only those above \n",
    "# the median age who also have a letter (of your choice) at least once in their name\n",
    "\n",
    "import pandas as pd\n",
    "dict_employee = pd.DataFrame({\n",
    "    'EmployeeID':[123456,654321,456789,987654,234567],\n",
    "    'Fullname':['John Prine', 'Guy Clark','John Couger-Mellancamp', 'Gretchen Peters', 'Robert Plant'],\n",
    "    'Age': [38, 24, 60, 20, 45],\n",
    "    'Salary': [42450,53510,37890,23570,40230],\n",
    "    'Job Title': ['Web Developer', 'Senior Analyst', 'Performance Analyst', 'Developer', 'Research Analyst'],\n",
    "})\n",
    "#Max, Min salary and mean age\n",
    "max_salary = max(dict_employee['Salary'])\n",
    "min_salary = min(dict_employee['Salary'])\n",
    "mean_age = dict_employee['Age'].mean()\n",
    "print(f\"Maximun salary: £{max_salary:,}\\nMinimum Salary: £{min_salary:,}\\nMean age: {mean_age} years old\\n\")\n",
    "#Longest name and length\n",
    "len_longest_name = dict_employee['Fullname'].str.len().max()\n",
    "ind_longest_name = dict_employee['Fullname'].str.len().idxmax()\n",
    "val_longest_name = dict_employee['Fullname'][ind_longest_name]\n",
    "print(f\"Longest name in list: {val_longest_name} (length:{len_longest_name})\\n\")\n",
    "#Salary greater than mean\n",
    "mean_salary = dict_employee['Salary'].mean()\n",
    "slice_mean_salary = dict_employee[dict_employee['Salary'] > mean_salary]\n",
    "print(slice_mean_salary)\n",
    "#Employees above mean age and contains the letter 'p'\n",
    "# slice_mean_age = (dict_employee[dict_employee['Age'] > mean_age]) & (dict_employee[dict_employee['Name'].str.contains('p')])\n",
    "# print(slice_mean_age)"
   ]
  },
  {
   "cell_type": "code",
   "execution_count": null,
   "metadata": {},
   "outputs": [],
   "source": []
  }
 ],
 "metadata": {
  "kernelspec": {
   "display_name": "Python 3",
   "language": "python",
   "name": "python3"
  },
  "language_info": {
   "codemirror_mode": {
    "name": "ipython",
    "version": 3
   },
   "file_extension": ".py",
   "mimetype": "text/x-python",
   "name": "python",
   "nbconvert_exporter": "python",
   "pygments_lexer": "ipython3",
   "version": "3.10.8"
  }
 },
 "nbformat": 4,
 "nbformat_minor": 2
}

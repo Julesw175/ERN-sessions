{
 "cells": [
  {
   "cell_type": "code",
   "execution_count": 22,
   "metadata": {},
   "outputs": [
    {
     "name": "stdout",
     "output_type": "stream",
     "text": [
      "Maximun salary: £53,510\n",
      "Minimum Salary: £23,570\n",
      "Mean age: 37.4 years old\n",
      "22\n"
     ]
    }
   ],
   "source": [
    "# This assignment focuses on dataframes\n",
    "# First off, using a method of your choice, make a dataframe with the columns:\n",
    "# EmployeeID, Age, Salary, Job Title\n",
    "# Fill this out with arbitrary but sensible inputs for 5 rows.\n",
    "# Ensure age and salary are stored as the right type of data for numbers, and that there's a good range of salaries\n",
    "\n",
    "import pandas as pd\n",
    "dict_employee = pd.DataFrame({\n",
    "    'EmployeeID':[123456,654321,456789,987654,234567],\n",
    "    'Fullname':['John Prine', 'Guy Clark','John Couger-Mellancamp', 'Gretchen Peters', 'Robert Plant'],\n",
    "    'Age': [38, 24, 60, 20, 45],\n",
    "    'Salary': [42450,53510,37890,23570,40230],\n",
    "    'Job Title': ['Web Developer', 'Senior Analyst', 'Performance Analyst', 'Developer', 'Research Analyst'],\n",
    "})\n",
    "max_salary = max(dict_employee['Salary'])\n",
    "min_salary = min(dict_employee['Salary'])\n",
    "\n",
    "mean_age = sum(dict_employee['Age'])/len(dict_employee['Age'])\n",
    "print(f\"Maximun salary: £{max_salary:,}\\nMinimum Salary: £{min_salary:,}\\nMean age: {mean_age} years old\")\n",
    "longest_name = dict_employee['Fullname'].str.len().max()\n",
    "print(longest_name)\n"
   ]
  },
  {
   "cell_type": "code",
   "execution_count": null,
   "metadata": {},
   "outputs": [],
   "source": [
    "# Use pandas methods to find the maximum and minimum salaries and ages\n",
    "# Find the sum of all the salaries using pandas methods\n",
    "# Find the mean age \n",
    "# A little more tricky: find the longest name and print it, and its length\n",
    "# Assign to an appropriately named variable a slice of the dataframe where all the salaries are above the median\n",
    "# To a different appropriately named variable, slice the dataframe to have only those above the median age who also have a letter (of your choice) at least once in their name"
   ]
  }
 ],
 "metadata": {
  "kernelspec": {
   "display_name": "Python 3",
   "language": "python",
   "name": "python3"
  },
  "language_info": {
   "codemirror_mode": {
    "name": "ipython",
    "version": 3
   },
   "file_extension": ".py",
   "mimetype": "text/x-python",
   "name": "python",
   "nbconvert_exporter": "python",
   "pygments_lexer": "ipython3",
   "version": "3.10.8"
  }
 },
 "nbformat": 4,
 "nbformat_minor": 2
}

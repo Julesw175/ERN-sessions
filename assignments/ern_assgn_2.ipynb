{
 "cells": [
  {
   "cell_type": "code",
   "execution_count": 4,
   "metadata": {},
   "outputs": [],
   "source": [
    "# This assignment focuses on dataframes\n",
    "# First off, using a method of your choice, make a dataframe with the columns:\n",
    "# EmployeeID, Age, Salary, Job Title\n",
    "# Fill this out with arbitrary but sensible inputs for 5 rows.\n",
    "# Ensure age and salary are stored as the right type of data for numbers, and that there's a good range of salaries\n",
    "\n",
    "# Step 1 - Import Pandas to create DataFrame \n",
    "import pandas as pd\n",
    "\n",
    "# Step 2 - create list of lists to hold the 5 rows of data  \n",
    "data = [\n",
    "            [1,\"Roberto\", 49,40323.09,\"Senior SQL Developer\"],\n",
    "            [2,\"Annie\", 38,53108.76,\"SQL Developer Manager\"],\n",
    "            [3,\"Zara\", 40,34748.91,\"SQL Developer\"],\n",
    "            [4,\"Sheila\", 30,29992.63,\"Junior SQL Developer\"],            \n",
    "            [5,\"Billy\", 22,21007.42,\"SQL Developer Apprentice\"]            \n",
    "        ]\n",
    " \n",
    "# Step 3 - Create the pandas DataFrame \n",
    "df = pd.DataFrame(data, columns=['EmployeeID', 'Name', 'Age', 'Salary','Job Title']) \n",
    "#df.dtypes"
   ]
  },
  {
   "cell_type": "code",
   "execution_count": 5,
   "metadata": {},
   "outputs": [
    {
     "name": "stdout",
     "output_type": "stream",
     "text": [
      "Considering the data frame below:\n",
      "\n",
      "   EmployeeID     Name  Age    Salary                 Job Title\n",
      "0           1  Roberto   49  40323.09      Senior SQL Developer\n",
      "1           2    Annie   38  53108.76     SQL Developer Manager\n",
      "2           3     Zara   40  34748.91             SQL Developer\n",
      "3           4   Sheila   30  29992.63      Junior SQL Developer\n",
      "4           5    Billy   22  21007.42  SQL Developer Apprentice\n",
      "\n",
      "The maximum salary is £53108.76, and the minimum salary is £21007.42. The maximum age is 49, and the minimum age is 22.\n",
      "The sum of all salaries is £179180.81.\n",
      "The mean age of all the employees is 35.8.\n",
      "The longest name of any of the staff members is 'Roberto', at 7 characters long.\n",
      "\n",
      "The following staff members earn more than the median salary (£34748.91) for all staff:\n",
      "\n",
      "   EmployeeID     Name  Age    Salary              Job Title\n",
      "0           1  Roberto   49  40323.09   Senior SQL Developer\n",
      "1           2    Annie   38  53108.76  SQL Developer Manager\n",
      "\n",
      "The following staff members are aged above the median age (38.0) for all staff and have the letter 'r' in their name:\n",
      "\n",
      "   EmployeeID     Name  Age    Salary             Job Title\n",
      "0           1  Roberto   49  40323.09  Senior SQL Developer\n",
      "2           3     Zara   40  34748.91         SQL Developer\n"
     ]
    }
   ],
   "source": [
    "print(\"Considering the data frame below:\")\n",
    "print(\"\\r\")\n",
    "df #QUESTION: WHY WON'T THIS PRINT?\n",
    "print(df)\n",
    "print(\"\\r\")\n",
    "# Use pandas methods to find the maximum and minimum salaries and ages\n",
    "sal_max = df['Salary'].max()\n",
    "sal_min = df['Salary'].min()\n",
    "age_max = df['Age'].max()\n",
    "age_min = df['Age'].min()\n",
    "print(f\"The maximum salary is £{sal_max}, and the minimum salary is £{sal_min}. The maximum age is {age_max}, and the minimum age is {age_min}.\")\n",
    "# Find the sum of all the salaries using pandas methods\n",
    "sal_sum = df['Salary'].sum()\n",
    "print(f\"The sum of all salaries is £{sal_sum}.\")\n",
    "# Find the mean age \n",
    "age_mean = df['Age'].mean()\n",
    "print(f\"The mean age of all the employees is {age_mean}.\")\n",
    "# A little more tricky: find the longest name and print it, and its length\n",
    "name_longest = df['Name'][df.Name.str.len().idxmax()]\n",
    "name_longest_len = len(name_longest)\n",
    "print(f\"The longest name of any of the staff members is '{name_longest}', at {name_longest_len} characters long.\")\n",
    "# Assign to an appropriately named variable a slice of the dataframe where all the salaries are above the median\n",
    "sal_med = df['Salary'].median()\n",
    "df_sal_gt_med = df[df['Salary'] > sal_med]\n",
    "print(\"\\r\")\n",
    "print(f\"The following staff members earn more than the median salary (£{sal_med}) for all staff:\")\n",
    "print(\"\\r\")\n",
    "print(df_sal_gt_med)\n",
    "# To a different appropriately named variable, slice the dataframe to have only those above the median age who also\n",
    "# have a letter (of your choice) at least once in their name\n",
    "age_med = df['Age'].median()\n",
    "df_age_gt_med = df[df['Age'] > age_med]\n",
    "df_age_gt_med_name_cont_r = df_age_gt_med[df_age_gt_med['Name'].str.contains(\"r\",case=False)]\n",
    "print(\"\\r\")\n",
    "print(f\"The following staff members are aged above the median age ({age_med}) for all staff and have the letter 'r' in their name:\")\n",
    "print(\"\\r\")\n",
    "print(df_age_gt_med_name_cont_r)"
   ]
  }
 ],
 "metadata": {
  "kernelspec": {
   "display_name": "Python 3",
   "language": "python",
   "name": "python3"
  },
  "language_info": {
   "codemirror_mode": {
    "name": "ipython",
    "version": 3
   },
   "file_extension": ".py",
   "mimetype": "text/x-python",
   "name": "python",
   "nbconvert_exporter": "python",
   "pygments_lexer": "ipython3",
   "version": "3.10.8"
  }
 },
 "nbformat": 4,
 "nbformat_minor": 2
}

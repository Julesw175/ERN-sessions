{
 "cells": [
  {
   "cell_type": "code",
   "execution_count": null,
   "metadata": {},
   "outputs": [],
   "source": [
    "# You should expect to have to Google how to do things for every assignment.\n",
    "# This is because a really important part of coding is knowing how to search for answers.\n",
    "# Don't expect to know how to solve problems already.\n",
    "\n",
    "# Using an appropriate name, initialise an empty dicitonary which you will store the outcome of some sums in.\n",
    "# Then, setting 7 as x and 5 as y, find:\n",
    "# x + y\n",
    "# x - y\n",
    "# x squared\n",
    "# y squared\n",
    "# x to the power y\n",
    "# Assigning each to a variable with an appropriate name.\n",
    "# Finally, add each of these answers as entries in your dicitonary and print the dictionary."
   ]
  },
  {
   "cell_type": "code",
   "execution_count": 5,
   "metadata": {},
   "outputs": [
    {
     "name": "stdout",
     "output_type": "stream",
     "text": [
      "{'plus': 12, 'minus': 2, 'squared': 49, 'ysquared': 25, 'xsquaredy': 16807}\n"
     ]
    }
   ],
   "source": [
    "x = 7\n",
    "y =5\n",
    "dict_numbers = {\"plus\": x+y,\n",
    "                \"minus\": x-y,\n",
    "                \"squared\": x**2,\n",
    "                \"ysquared\": y**2,\n",
    "                \"xsquaredy\": x**y}\n",
    "\n",
    "print(dict_numbers)"
   ]
  },
  {
   "cell_type": "code",
   "execution_count": null,
   "metadata": {},
   "outputs": [],
   "source": [
    "# Assume a credit card number is '4444444444444444', store this as a string with an appropriate name.\n",
    "# Slice the string to only show the last four digits with an appropriate name.\n",
    "# Manipulate the sliced variable so that it appears with an appropriate number of Xs before the last 4 digits\n",
    "# Giving this new string an appropriate name, print it.\n",
    "# Your print readout should look like 'XXXXXXXXXXXX4444'\n",
    "# At no point should you make a string from scratch that is just 'XXXXXXXXXXXX4444', that defeats the point of the exercise"
   ]
  },
  {
   "cell_type": "code",
   "execution_count": 19,
   "metadata": {},
   "outputs": [
    {
     "name": "stdout",
     "output_type": "stream",
     "text": [
      "4444\n",
      "xxxxxxxxxxxx4444\n"
     ]
    }
   ],
   "source": [
    "cc_number = \"4444444444444444\"\n",
    "slice_cc = cc_number[-4:]\n",
    "print(slice_cc)\n",
    "\n",
    "new_cc = print(\"x\"*12 + slice_cc)\n",
    "#"
   ]
  }
 ],
 "metadata": {
  "kernelspec": {
   "display_name": "Python 3",
   "language": "python",
   "name": "python3"
  },
  "language_info": {
   "codemirror_mode": {
    "name": "ipython",
    "version": 3
   },
   "file_extension": ".py",
   "mimetype": "text/x-python",
   "name": "python",
   "nbconvert_exporter": "python",
   "pygments_lexer": "ipython3",
   "version": "3.10.8"
  }
 },
 "nbformat": 4,
 "nbformat_minor": 2
}

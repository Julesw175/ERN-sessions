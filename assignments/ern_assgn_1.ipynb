{
 "cells": [
  {
   "cell_type": "code",
   "execution_count": 1,
   "metadata": {},
   "outputs": [
    {
     "name": "stdout",
     "output_type": "stream",
     "text": [
      "{'xplusy': 12, 'xminusy': 2, 'xsquared': 49, 'ysquared': 25, 'xpowery': 16807}\n"
     ]
    }
   ],
   "source": [
    "# You should expect to have to Google how to do things for every assignment.\n",
    "# This is because a really important part of coding is knowing how to search for answers.\n",
    "# Don't expect to know how to solve problems already.\n",
    "\n",
    "# Using an appropriate name, initialise an empty dicitonary which you will store the outcome of some sums in.\n",
    "# Then, setting 7 as x and 5 as y, find:\n",
    "# x + y\n",
    "# x - y\n",
    "# x squared\n",
    "# y squared\n",
    "# x to the power y\n",
    "# Assigning each to a variable with an appropriate name.\n",
    "# Finally, add each of these answers as entries in your dicitonary and print the dictionary.\n",
    "results_dict = {}\n",
    "x = 7\n",
    "y = 5\n",
    "xplusy = x + y\n",
    "xminusy = x - y\n",
    "xsquared = x**2\n",
    "ysquared = y**2\n",
    "xpowery = x**y\n",
    "results_dict['xplusy'] = xplusy\n",
    "results_dict['xminusy'] = xminusy\n",
    "results_dict['xsquared'] = xsquared\n",
    "results_dict['ysquared'] = ysquared\n",
    "results_dict['xpowery'] = xpowery\n",
    "print(results_dict)"
   ]
  },
  {
   "cell_type": "code",
   "execution_count": 6,
   "metadata": {},
   "outputs": [
    {
     "name": "stdout",
     "output_type": "stream",
     "text": [
      "Original card number: 4444444444444444\n",
      "(16 characters)\n",
      "Anonymized card number: xxxxxxxxxxxx4444\n",
      "(16 characters)\n"
     ]
    }
   ],
   "source": [
    "# Assume a credit card number is '4444444444444444', store this as a string with an appropriate name.\n",
    "# Slice the string to only show the last four digits with an appropriate name.\n",
    "# Manipulate the sliced variable so that it appears with an appropriate number of Xs before the last 4 digits\n",
    "# Giving this new string an appropriate name, print it.\n",
    "# Your print readout should look like 'XXXXXXXXXXXX4444'\n",
    "# At no point should you make a string from scratch that is just 'XXXXXXXXXXXX4444', that defeats the point of the exercise\n",
    "numbers_to_show = 4\n",
    "card_number = '4444444444444444'\n",
    "card_number_sliced = card_number[:numbers_to_show]\n",
    "masked_card_number = (len(card_number)-numbers_to_show) * 'x' + card_number_sliced\n",
    "print(f\"Original card number: {card_number}\\n({len(card_number)} characters)\\nAnonymized card number: {masked_card_number}\\n({len(masked_card_number)} characters)\")"
   ]
  },
  {
   "cell_type": "code",
   "execution_count": null,
   "metadata": {},
   "outputs": [],
   "source": []
  }
 ],
 "metadata": {
  "kernelspec": {
   "display_name": "Python 3",
   "language": "python",
   "name": "python3"
  },
  "language_info": {
   "codemirror_mode": {
    "name": "ipython",
    "version": 3
   },
   "file_extension": ".py",
   "mimetype": "text/x-python",
   "name": "python",
   "nbconvert_exporter": "python",
   "pygments_lexer": "ipython3",
   "version": "3.10.8"
  }
 },
 "nbformat": 4,
 "nbformat_minor": 2
}

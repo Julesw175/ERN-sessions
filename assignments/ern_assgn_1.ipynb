{
 "cells": [
  {
   "cell_type": "code",
   "execution_count": 1,
   "metadata": {},
   "outputs": [],
   "source": [
    "# You should expect to have to Google how to do things for every assignment.\n",
    "# This is because a really important part of coding is knowing how to search for answers.\n",
    "# Don't expect to know how to solve problems already.\n",
    "\n",
    "# Using an appropriate name, initialise an empty dicitonary which you will store the outcome of some sums in.\n",
    "# Then, setting 7 as x and 5 as y, find:\n",
    "# x + y\n",
    "# x - y\n",
    "# x squared\n",
    "# y squared\n",
    "# x to the power y\n",
    "# Assigning each to a variable with an appropriate name.\n",
    "# Finally, add each of these answers as entries in your dicitonary and print the dictionary."
   ]
  },
  {
   "cell_type": "code",
   "execution_count": 12,
   "metadata": {},
   "outputs": [
    {
     "name": "stdout",
     "output_type": "stream",
     "text": [
      "{'Sum': 12, 'Subtract': 2, 'SquareX': 49, 'SquareY': 25, 'PowerXY': 16807}\n"
     ]
    }
   ],
   "source": [
    "# Part 1\n",
    "maths_dict = {}\n",
    "\n",
    "x=7\n",
    "y=5\n",
    "add_var = (x+y)\n",
    "sub_var = (x-y)\n",
    "square_varx = (x**2)\n",
    "square_vary = (y**2)\n",
    "power_var = (pow(x,y))\n",
    "\n",
    "maths_dict[\"Sum\"] = add_var\n",
    "maths_dict[\"Subtract\"] = sub_var\n",
    "maths_dict[\"SquareX\"] = square_varx\n",
    "maths_dict[\"SquareY\"] = square_vary\n",
    "maths_dict[\"PowerXY\"] = power_var\n",
    "\n",
    "print(maths_dict)\n"
   ]
  },
  {
   "cell_type": "code",
   "execution_count": null,
   "metadata": {},
   "outputs": [],
   "source": [
    "# Assume a credit card number is '4444444444444444', store this as a string with an appropriate name.\n",
    "# Slice the string to only show the last four digits with an appropriate name.\n",
    "# Manipulate the sliced variable so that it appears with an appropriate number of Xs before the last 4 digits\n",
    "# Giving this new string an appropriate name, print it.\n",
    "# Your print readout should look like 'XXXXXXXXXXXX4444'\n",
    "# At no point should you make a string from scratch that is just 'XXXXXXXXXXXX4444', that defeats the point of the exercise"
   ]
  },
  {
   "cell_type": "code",
   "execution_count": 37,
   "metadata": {},
   "outputs": [
    {
     "name": "stdout",
     "output_type": "stream",
     "text": [
      "4444444444444444\n",
      "16\n",
      "4444\n",
      "12\n",
      "XXXXXXXXXXXX\n",
      "XXXXXXXXXXXX4444\n",
      "16\n"
     ]
    }
   ],
   "source": [
    "ccard = \"4444444444444444\"\n",
    "print(ccard)\n",
    "print(len(ccard)) #find length of ccard\n",
    "\n",
    "last4 = ccard[-4:]  #create variable for last 4 characters\n",
    "print(last4)\n",
    "\n",
    "anon = \"X\"  # create variable \"X\" to multiply number of times as required to create the anonymised part\n",
    "len_non_anon = (len(ccard)-4)   # create variable showing the length of ccard - the last 4 characters, ie the number to multiply anon by to create the anonymised part of the string\n",
    "print(len_non_anon)\n",
    "\n",
    "anon_part = anon * len_non_anon  # create variable string of Xs of the length of ccard minus the last 4 characters\n",
    "print(anon_part)\n",
    "\n",
    "ccard_final = anon_part + last4  #final variable: X multiplied by (length of ccard - the last 4 characters) + last 4 characters\n",
    "\n",
    "print(ccard_final)\n",
    "print(len(ccard_final))"
   ]
  }
 ],
 "metadata": {
  "kernelspec": {
   "display_name": "Python 3",
   "language": "python",
   "name": "python3"
  },
  "language_info": {
   "codemirror_mode": {
    "name": "ipython",
    "version": 3
   },
   "file_extension": ".py",
   "mimetype": "text/x-python",
   "name": "python",
   "nbconvert_exporter": "python",
   "pygments_lexer": "ipython3",
   "version": "3.10.8"
  }
 },
 "nbformat": 4,
 "nbformat_minor": 2
}
